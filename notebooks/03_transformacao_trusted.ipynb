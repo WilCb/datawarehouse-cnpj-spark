{
 "cells": [
  {
   "cell_type": "markdown",
   "id": "964e0313",
   "metadata": {},
   "source": [
    "# Transformações e Padronizações – Camada Trusted"
   ]
  },
  {
   "cell_type": "markdown",
   "id": "4673404c",
   "metadata": {},
   "source": [
    "Este notebook realiza a transformação dos dados provenientes da camada RAW, aplicando regras de limpeza, normalização, padronização de tipos, renomeação de colunas e modelagem estrutural. O objetivo é gerar datasets confiáveis, prontos para análises, integração e futura carga na camada Refined ou Gold.\n",
    "\n",
    "As tabelas tratadas incluem: **empresas**, **estabelecimentos**, **sócios**, **simples_nacional**, **CNAE**, **municípios**, **natureza_jurídica**, **motivos** e **países**."
   ]
  },
  {
   "cell_type": "code",
   "execution_count": 72,
   "id": "92ec6aab",
   "metadata": {},
   "outputs": [],
   "source": [
    "# Para iniciar a seção spark\n",
    "from pyspark.sql import SparkSession, DataFrame\n",
    "from pyspark.sql.types import StructType, StructField, StringType, DoubleType, DecimalType\n",
    "from pyspark.sql import functions as f\n",
    "from delta import configure_spark_with_delta_pip\n",
    "from delta.tables import DeltaTable"
   ]
  },
  {
   "cell_type": "code",
   "execution_count": 73,
   "id": "06ca54be",
   "metadata": {},
   "outputs": [],
   "source": [
    "builder = SparkSession.builder \\\n",
    "    .appName(\"App Preparação RAW\") \\\n",
    "    .config(\"spark.sql.extensions\", \"io.delta.sql.DeltaSparkSessionExtension\") \\\n",
    "    .config(\"spark.sql.catalog.spark_catalog\", \"org.apache.spark.sql.delta.catalog.DeltaCatalog\") \\\n",
    "    .config(\"spark.driver.memory\", \"2g\") \\\n",
    "    .config(\"spark.executor.memory\", \"2g\")\n",
    "\n",
    "spark: SparkSession = configure_spark_with_delta_pip(builder).getOrCreate()"
   ]
  },
  {
   "cell_type": "markdown",
   "id": "25db165d",
   "metadata": {},
   "source": [
    "## TRUSTED - Municipios"
   ]
  },
  {
   "cell_type": "markdown",
   "id": "1bcee699",
   "metadata": {},
   "source": [
    "### Etapa 1: Leitura da camada RAW"
   ]
  },
  {
   "cell_type": "code",
   "execution_count": null,
   "id": "bcca40aa",
   "metadata": {},
   "outputs": [
    {
     "name": "stdout",
     "output_type": "stream",
     "text": [
      "+-------+------------------------+----------------------------------------------------------------------------------------+-----------------------------------------------------------------------------+\n",
      "|id     |nome                    |microrregiao                                                                            |regiao-imediata                                                              |\n",
      "+-------+------------------------+----------------------------------------------------------------------------------------+-----------------------------------------------------------------------------+\n",
      "|1100015|Alta Floresta D'Oeste   |{11006, Cacoal, {1102, Leste Rondoniense, {11, RO, Rondônia, {1, N, Norte}}}}           |{110005, Cacoal, {1102, Ji-Paraná, {11, RO, Rondônia, {1, N, Norte}}}}       |\n",
      "|1100023|Ariquemes               |{11003, Ariquemes, {1102, Leste Rondoniense, {11, RO, Rondônia, {1, N, Norte}}}}        |{110002, Ariquemes, {1101, Porto Velho, {11, RO, Rondônia, {1, N, Norte}}}}  |\n",
      "|1100031|Cabixi                  |{11008, Colorado do Oeste, {1102, Leste Rondoniense, {11, RO, Rondônia, {1, N, Norte}}}}|{110006, Vilhena, {1102, Ji-Paraná, {11, RO, Rondônia, {1, N, Norte}}}}      |\n",
      "|1100049|Cacoal                  |{11006, Cacoal, {1102, Leste Rondoniense, {11, RO, Rondônia, {1, N, Norte}}}}           |{110005, Cacoal, {1102, Ji-Paraná, {11, RO, Rondônia, {1, N, Norte}}}}       |\n",
      "|1100056|Cerejeiras              |{11008, Colorado do Oeste, {1102, Leste Rondoniense, {11, RO, Rondônia, {1, N, Norte}}}}|{110006, Vilhena, {1102, Ji-Paraná, {11, RO, Rondônia, {1, N, Norte}}}}      |\n",
      "|1100064|Colorado do Oeste       |{11008, Colorado do Oeste, {1102, Leste Rondoniense, {11, RO, Rondônia, {1, N, Norte}}}}|{110006, Vilhena, {1102, Ji-Paraná, {11, RO, Rondônia, {1, N, Norte}}}}      |\n",
      "|1100072|Corumbiara              |{11008, Colorado do Oeste, {1102, Leste Rondoniense, {11, RO, Rondônia, {1, N, Norte}}}}|{110006, Vilhena, {1102, Ji-Paraná, {11, RO, Rondônia, {1, N, Norte}}}}      |\n",
      "|1100080|Costa Marques           |{11002, Guajará-Mirim, {1101, Madeira-Guaporé, {11, RO, Rondônia, {1, N, Norte}}}}      |{110004, Ji-Paraná, {1102, Ji-Paraná, {11, RO, Rondônia, {1, N, Norte}}}}    |\n",
      "|1100098|Espigão D'Oeste         |{11006, Cacoal, {1102, Leste Rondoniense, {11, RO, Rondônia, {1, N, Norte}}}}           |{110005, Cacoal, {1102, Ji-Paraná, {11, RO, Rondônia, {1, N, Norte}}}}       |\n",
      "|1100106|Guajará-Mirim           |{11002, Guajará-Mirim, {1101, Madeira-Guaporé, {11, RO, Rondônia, {1, N, Norte}}}}      |{110001, Porto Velho, {1101, Porto Velho, {11, RO, Rondônia, {1, N, Norte}}}}|\n",
      "|1100114|Jaru                    |{11004, Ji-Paraná, {1102, Leste Rondoniense, {11, RO, Rondônia, {1, N, Norte}}}}        |{110003, Jaru, {1101, Porto Velho, {11, RO, Rondônia, {1, N, Norte}}}}       |\n",
      "|1100122|Ji-Paraná               |{11004, Ji-Paraná, {1102, Leste Rondoniense, {11, RO, Rondônia, {1, N, Norte}}}}        |{110004, Ji-Paraná, {1102, Ji-Paraná, {11, RO, Rondônia, {1, N, Norte}}}}    |\n",
      "|1100130|Machadinho D'Oeste      |{11003, Ariquemes, {1102, Leste Rondoniense, {11, RO, Rondônia, {1, N, Norte}}}}        |{110003, Jaru, {1101, Porto Velho, {11, RO, Rondônia, {1, N, Norte}}}}       |\n",
      "|1100148|Nova Brasilândia D'Oeste|{11005, Alvorada D'Oeste, {1102, Leste Rondoniense, {11, RO, Rondônia, {1, N, Norte}}}} |{110005, Cacoal, {1102, Ji-Paraná, {11, RO, Rondônia, {1, N, Norte}}}}       |\n",
      "|1100155|Ouro Preto do Oeste     |{11004, Ji-Paraná, {1102, Leste Rondoniense, {11, RO, Rondônia, {1, N, Norte}}}}        |{110004, Ji-Paraná, {1102, Ji-Paraná, {11, RO, Rondônia, {1, N, Norte}}}}    |\n",
      "|1100189|Pimenta Bueno           |{11007, Vilhena, {1102, Leste Rondoniense, {11, RO, Rondônia, {1, N, Norte}}}}          |{110005, Cacoal, {1102, Ji-Paraná, {11, RO, Rondônia, {1, N, Norte}}}}       |\n",
      "|1100205|Porto Velho             |{11001, Porto Velho, {1101, Madeira-Guaporé, {11, RO, Rondônia, {1, N, Norte}}}}        |{110001, Porto Velho, {1101, Porto Velho, {11, RO, Rondônia, {1, N, Norte}}}}|\n",
      "|1100254|Presidente Médici       |{11004, Ji-Paraná, {1102, Leste Rondoniense, {11, RO, Rondônia, {1, N, Norte}}}}        |{110004, Ji-Paraná, {1102, Ji-Paraná, {11, RO, Rondônia, {1, N, Norte}}}}    |\n",
      "|1100262|Rio Crespo              |{11003, Ariquemes, {1102, Leste Rondoniense, {11, RO, Rondônia, {1, N, Norte}}}}        |{110002, Ariquemes, {1101, Porto Velho, {11, RO, Rondônia, {1, N, Norte}}}}  |\n",
      "|1100288|Rolim de Moura          |{11006, Cacoal, {1102, Leste Rondoniense, {11, RO, Rondônia, {1, N, Norte}}}}           |{110005, Cacoal, {1102, Ji-Paraná, {11, RO, Rondônia, {1, N, Norte}}}}       |\n",
      "+-------+------------------------+----------------------------------------------------------------------------------------+-----------------------------------------------------------------------------+\n",
      "only showing top 20 rows\n"
     ]
    }
   ],
   "source": [
    "# Carrega dados da camada RAW\n",
    "deltaTable_municipios = DeltaTable.forPath(spark, \"../RAW/municipios\")\n",
    "df_municipios_raw = deltaTable_municipios.toDF()\n",
    "df_municipios_raw.show(truncate=False)"
   ]
  },
  {
   "cell_type": "markdown",
   "id": "8b197a33",
   "metadata": {},
   "source": [
    "### Etapa 2: Transformação dos dados"
   ]
  },
  {
   "cell_type": "markdown",
   "id": "a9fc120a",
   "metadata": {},
   "source": [
    "- Flatten dos campos aninhados\n",
    "\n",
    "- Renomeação das colunas\n",
    "\n",
    "- Padronização de nomes para o padrão Trusted"
   ]
  },
  {
   "cell_type": "code",
   "execution_count": null,
   "id": "23526bbd",
   "metadata": {},
   "outputs": [],
   "source": [
    "df_municipios_trusted = df_municipios_raw.select(\n",
    "    f.col(\"id\").alias(\"id_municipio\"),\n",
    "    f.col(\"nome\").alias(\"nome_municipio\"),\n",
    "\n",
    "    f.col(\"microrregiao.id\").alias(\"id_microrregiao\"),\n",
    "    f.col(\"microrregiao.nome\").alias(\"nome_microrregiao\"),\n",
    "\n",
    "    f.col(\"microrregiao.mesorregiao.id\").alias(\"id_mesorregiao\"),\n",
    "    f.col(\"microrregiao.mesorregiao.nome\").alias(\"nome_mesorregiao\"),\n",
    "\n",
    "    f.col(\"microrregiao.mesorregiao.UF.id\").alias(\"id_uf\"),\n",
    "    f.col(\"microrregiao.mesorregiao.UF.sigla\").alias(\"sigla_uf\"),\n",
    "    f.col(\"microrregiao.mesorregiao.UF.nome\").alias(\"nome_uf\"),\n",
    "\n",
    "    f.col(\"microrregiao.mesorregiao.UF.regiao.id\").alias(\"id_regiao\"),\n",
    "    f.col(\"microrregiao.mesorregiao.UF.regiao.sigla\").alias(\"sigla_regiao\"),\n",
    "    f.col(\"microrregiao.mesorregiao.UF.regiao.nome\").alias(\"nome_regiao\")\n",
    ")"
   ]
  },
  {
   "cell_type": "code",
   "execution_count": 19,
   "id": "4dbf9750",
   "metadata": {},
   "outputs": [
    {
     "name": "stdout",
     "output_type": "stream",
     "text": [
      "+------------+---------------------+---------------+-----------------+--------------+-----------------+-----+--------+--------+---------+------------+-----------+\n",
      "|id_municipio|nome_municipio       |id_microrregiao|nome_microrregiao|id_mesorregiao|nome_mesorregiao |id_uf|sigla_uf|nome_uf |id_regiao|sigla_regiao|nome_regiao|\n",
      "+------------+---------------------+---------------+-----------------+--------------+-----------------+-----+--------+--------+---------+------------+-----------+\n",
      "|1100015     |Alta Floresta D'Oeste|11006          |Cacoal           |1102          |Leste Rondoniense|11   |RO      |Rondônia|1        |N           |Norte      |\n",
      "|1100023     |Ariquemes            |11003          |Ariquemes        |1102          |Leste Rondoniense|11   |RO      |Rondônia|1        |N           |Norte      |\n",
      "|1100031     |Cabixi               |11008          |Colorado do Oeste|1102          |Leste Rondoniense|11   |RO      |Rondônia|1        |N           |Norte      |\n",
      "|1100049     |Cacoal               |11006          |Cacoal           |1102          |Leste Rondoniense|11   |RO      |Rondônia|1        |N           |Norte      |\n",
      "|1100056     |Cerejeiras           |11008          |Colorado do Oeste|1102          |Leste Rondoniense|11   |RO      |Rondônia|1        |N           |Norte      |\n",
      "+------------+---------------------+---------------+-----------------+--------------+-----------------+-----+--------+--------+---------+------------+-----------+\n",
      "only showing top 5 rows\n",
      "root\n",
      " |-- id_municipio: string (nullable = true)\n",
      " |-- nome_municipio: string (nullable = true)\n",
      " |-- id_microrregiao: string (nullable = true)\n",
      " |-- nome_microrregiao: string (nullable = true)\n",
      " |-- id_mesorregiao: string (nullable = true)\n",
      " |-- nome_mesorregiao: string (nullable = true)\n",
      " |-- id_uf: string (nullable = true)\n",
      " |-- sigla_uf: string (nullable = true)\n",
      " |-- nome_uf: string (nullable = true)\n",
      " |-- id_regiao: string (nullable = true)\n",
      " |-- sigla_regiao: string (nullable = true)\n",
      " |-- nome_regiao: string (nullable = true)\n",
      "\n"
     ]
    }
   ],
   "source": [
    "df_municipios_trusted.show(5, truncate=False)\n",
    "df_municipios_trusted.printSchema()"
   ]
  },
  {
   "cell_type": "markdown",
   "id": "a9b14aaf",
   "metadata": {},
   "source": [
    "### Etapa 3: Escrita na camada Trusted (TRS)"
   ]
  },
  {
   "cell_type": "markdown",
   "id": "6884c1a0",
   "metadata": {},
   "source": [
    "- Particionado por: sigla_uf"
   ]
  },
  {
   "cell_type": "code",
   "execution_count": null,
   "id": "7ee13bce",
   "metadata": {},
   "outputs": [
    {
     "name": "stderr",
     "output_type": "stream",
     "text": [
      "                                                                                \r"
     ]
    },
    {
     "name": "stdout",
     "output_type": "stream",
     "text": [
      "Dados salvo!\n"
     ]
    }
   ],
   "source": [
    "try:\n",
    "    df_municipios_trusted.write.format(\"delta\") \\\n",
    "        .mode(\"overwrite\") \\\n",
    "        .partitionBy(\"sigla_uf\") \\\n",
    "        .save(\"../TRS/municipios\")\n",
    "    print(\"Dados salvo!\")\n",
    "except Exception as e:\n",
    "    print(e)"
   ]
  },
  {
   "cell_type": "markdown",
   "id": "659480c1",
   "metadata": {},
   "source": [
    "### Etapa 4: Ajuste e Validação"
   ]
  },
  {
   "cell_type": "markdown",
   "id": "b1394e3f",
   "metadata": {},
   "source": [
    "- Releitura para verificação"
   ]
  },
  {
   "cell_type": "code",
   "execution_count": 54,
   "id": "55842429",
   "metadata": {},
   "outputs": [
    {
     "name": "stdout",
     "output_type": "stream",
     "text": [
      "+------------+------------------+---------------+------------------------+--------------+----------------------+-----+--------+-------+---------+------------+-----------+\n",
      "|id_municipio|nome_municipio    |id_microrregiao|nome_microrregiao       |id_mesorregiao|nome_mesorregiao      |id_uf|sigla_uf|nome_uf|id_regiao|sigla_regiao|nome_regiao|\n",
      "+------------+------------------+---------------+------------------------+--------------+----------------------+-----+--------+-------+---------+------------+-----------+\n",
      "|2200053     |Acauã             |22015          |Alto Médio Canindé      |2204          |Sudeste Piauiense     |22   |PI      |Piauí  |2        |NE          |Nordeste   |\n",
      "|2200103     |Agricolândia      |22005          |Médio Parnaíba Piauiense|2202          |Centro-Norte Piauiense|22   |PI      |Piauí  |2        |NE          |Nordeste   |\n",
      "|2200202     |Água Branca       |22005          |Médio Parnaíba Piauiense|2202          |Centro-Norte Piauiense|22   |PI      |Piauí  |2        |NE          |Nordeste   |\n",
      "|2200251     |Alagoinha do Piauí|22014          |Pio IX                  |2204          |Sudeste Piauiense     |22   |PI      |Piauí  |2        |NE          |Nordeste   |\n",
      "|2200277     |Alegrete do Piauí |22014          |Pio IX                  |2204          |Sudeste Piauiense     |22   |PI      |Piauí  |2        |NE          |Nordeste   |\n",
      "+------------+------------------+---------------+------------------------+--------------+----------------------+-----+--------+-------+---------+------------+-----------+\n",
      "only showing top 5 rows\n",
      "root\n",
      " |-- id_municipio: string (nullable = true)\n",
      " |-- nome_municipio: string (nullable = true)\n",
      " |-- id_microrregiao: string (nullable = true)\n",
      " |-- nome_microrregiao: string (nullable = true)\n",
      " |-- id_mesorregiao: string (nullable = true)\n",
      " |-- nome_mesorregiao: string (nullable = true)\n",
      " |-- id_uf: string (nullable = true)\n",
      " |-- sigla_uf: string (nullable = true)\n",
      " |-- nome_uf: string (nullable = true)\n",
      " |-- id_regiao: string (nullable = true)\n",
      " |-- sigla_regiao: string (nullable = true)\n",
      " |-- nome_regiao: string (nullable = true)\n",
      "\n"
     ]
    }
   ],
   "source": [
    "try:\n",
    "    deltaTable_municipios = DeltaTable.forPath(spark, \"../TRS/municipios\")\n",
    "    df_municipios_trusted = deltaTable_municipios.toDF()\n",
    "    df_municipios_trusted.show(5, truncate=False)\n",
    "    df_municipios_trusted.printSchema()\n",
    "except Exception as e:\n",
    "    print(f\"Erro: {e}\")"
   ]
  },
  {
   "cell_type": "markdown",
   "id": "11557418",
   "metadata": {},
   "source": [
    "- Validação de nulos (colunas)"
   ]
  },
  {
   "cell_type": "code",
   "execution_count": 53,
   "id": "90ab620f",
   "metadata": {},
   "outputs": [
    {
     "name": "stdout",
     "output_type": "stream",
     "text": [
      "+------------+--------------+---------------+-----------------+--------------+----------------+-----+--------+-------+---------+------------+-----------+\n",
      "|id_municipio|nome_municipio|id_microrregiao|nome_microrregiao|id_mesorregiao|nome_mesorregiao|id_uf|sigla_uf|nome_uf|id_regiao|sigla_regiao|nome_regiao|\n",
      "+------------+--------------+---------------+-----------------+--------------+----------------+-----+--------+-------+---------+------------+-----------+\n",
      "|           0|             0|              0|                0|             0|               0|    0|       0|      0|        0|           0|          0|\n",
      "+------------+--------------+---------------+-----------------+--------------+----------------+-----+--------+-------+---------+------------+-----------+\n",
      "\n"
     ]
    }
   ],
   "source": [
    "try:\n",
    "    df_municipios_trusted.select([\n",
    "        f.sum(f.col(c).isNull().cast(\"int\")).alias(c)\n",
    "        for c in df_municipios_trusted.columns\n",
    "    ]).show()\n",
    "except Exception as e:\n",
    "    print(f\"Erro: {e}\")"
   ]
  },
  {
   "cell_type": "markdown",
   "id": "20a584ae",
   "metadata": {},
   "source": [
    "- Correção de valores nulos pontuais"
   ]
  },
  {
   "cell_type": "code",
   "execution_count": 25,
   "id": "76d15152",
   "metadata": {},
   "outputs": [
    {
     "name": "stderr",
     "output_type": "stream",
     "text": [
      "25/07/18 10:22:04 WARN UpdateCommand: Could not validate number of records due to missing statistics.\n"
     ]
    },
    {
     "name": "stdout",
     "output_type": "stream",
     "text": [
      "Coluna atualizada com sucesso!\n"
     ]
    }
   ],
   "source": [
    "try:\n",
    "    # Remoção de NULL's\n",
    "    deltaTable_municipios.update(\n",
    "        condition = f.col(\"id_municipio\") == \"5101837\",\n",
    "        set = { \"sigla_uf\": f.lit(\"MT\") }\n",
    "    )\n",
    "    print(\"Coluna atualizada com sucesso!\")\n",
    "except Exception as e:\n",
    "    print(f\"Erro: {e}\")"
   ]
  },
  {
   "cell_type": "markdown",
   "id": "2d13f29b",
   "metadata": {},
   "source": [
    "## TRUSTED - Natureza Jurídica"
   ]
  },
  {
   "cell_type": "markdown",
   "id": "d279eb31",
   "metadata": {},
   "source": [
    "### Etapa 1: Leitura da camada RAW"
   ]
  },
  {
   "cell_type": "code",
   "execution_count": 44,
   "id": "804c91b1",
   "metadata": {},
   "outputs": [
    {
     "name": "stdout",
     "output_type": "stream",
     "text": [
      "+------------------------+------------------------------------------+\n",
      "|codigo_natureza_juridica|natureza_juridica                         |\n",
      "+------------------------+------------------------------------------+\n",
      "|0000                    |Natureza Jurídica não informada           |\n",
      "|3271                    |Órgão de Direção Local de Partido Político|\n",
      "|3280                    |Comitê Financeiro de Partido Político     |\n",
      "|3298                    |Frente Plebiscitária ou Referendária      |\n",
      "|3301                    |Organização Social (OS)                   |\n",
      "+------------------------+------------------------------------------+\n",
      "only showing top 5 rows\n",
      "root\n",
      " |-- codigo_natureza_juridica: string (nullable = true)\n",
      " |-- natureza_juridica: string (nullable = true)\n",
      "\n"
     ]
    }
   ],
   "source": [
    "try:\n",
    "    deltaTable_natureza_juridica_raw = DeltaTable.forPath(spark, \"../RAW/natureza_juridica\")\n",
    "    df_natureza_juridica_raw = deltaTable_natureza_juridica_raw.toDF()\n",
    "    df_natureza_juridica_raw.show(5, truncate=False)\n",
    "    df_natureza_juridica_raw.printSchema()\n",
    "except Exception as e:\n",
    "    print(f\"Erro na leitura: {e}\")"
   ]
  },
  {
   "cell_type": "markdown",
   "id": "edaa129b",
   "metadata": {},
   "source": [
    "### Etapa 2: Escrita na camada Trusted (TRS)"
   ]
  },
  {
   "cell_type": "code",
   "execution_count": 45,
   "id": "10167aac",
   "metadata": {},
   "outputs": [
    {
     "name": "stderr",
     "output_type": "stream",
     "text": [
      "                                                                                \r"
     ]
    }
   ],
   "source": [
    "try:\n",
    "    # Salvando dados no TRS, não precisou de alterações\n",
    "    df_natureza_juridica_raw.write.format(\"delta\") \\\n",
    "        .mode(\"overwrite\") \\\n",
    "        .save(\"../TRS/natureza_juridica\")\n",
    "except Exception as e:\n",
    "    print(f\"Erro: {e}\")"
   ]
  },
  {
   "cell_type": "markdown",
   "id": "156dca35",
   "metadata": {},
   "source": [
    "### Etapa 3: Ajuste e Validação"
   ]
  },
  {
   "cell_type": "code",
   "execution_count": 51,
   "id": "43b1727a",
   "metadata": {},
   "outputs": [
    {
     "name": "stdout",
     "output_type": "stream",
     "text": [
      "+------------------------+------------------------------------------------------------------------+\n",
      "|codigo_natureza_juridica|natureza_juridica                                                       |\n",
      "+------------------------+------------------------------------------------------------------------+\n",
      "|3263                    |Órgão de Direção Regional de Partido Político                           |\n",
      "|3255                    |Órgão de Direção Nacional de Partido Político                           |\n",
      "|3271                    |Órgão de Direção Local de Partido Político                              |\n",
      "|1066                    |Órgão Público do Poder Legislativo Municipal                            |\n",
      "|1040                    |Órgão Público do Poder Legislativo Federal                              |\n",
      "|1058                    |Órgão Público do Poder Legislativo Estadual ou do Distrito Federal      |\n",
      "|1074                    |Órgão Público do Poder Judiciário Federal                               |\n",
      "|1082                    |Órgão Público do Poder Judiciário Estadual                              |\n",
      "|1031                    |Órgão Público do Poder Executivo Municipal                              |\n",
      "|1015                    |Órgão Público do Poder Executivo Federal                                |\n",
      "|1023                    |Órgão Público do Poder Executivo Estadual ou do Distrito Federal        |\n",
      "|1180                    |Órgão Público Autônomo Municipal                                        |\n",
      "|1163                    |Órgão Público Autônomo Federal                                          |\n",
      "|1171                    |Órgão Público Autônomo Estadual ou do Distrito Federal                  |\n",
      "|1341                    |União                                                                   |\n",
      "|2127                    |Sociedade em Conta de Participação                                      |\n",
      "|2038                    |Sociedade de Economia Mista                                             |\n",
      "|2321                    |Sociedade Unipessoal de Advocacia                                       |\n",
      "|2259                    |Sociedade Simples em Nome Coletivo                                      |\n",
      "|2267                    |Sociedade Simples em Comandita Simples                                  |\n",
      "|2232                    |Sociedade Simples Pura                                                  |\n",
      "|2240                    |Sociedade Simples Limitada                                              |\n",
      "|2100                    |Sociedade Mercantil de Capital e Indústria                              |\n",
      "|2070                    |Sociedade Empresária em Nome Coletivo                                   |\n",
      "|2097                    |Sociedade Empresária em Comandita por Ações                             |\n",
      "|2089                    |Sociedade Empresária em Comandita Simples                               |\n",
      "|2062                    |Sociedade Empresária Limitada                                           |\n",
      "|2054                    |Sociedade Anônima Fechada                                               |\n",
      "|2046                    |Sociedade Anônima Aberta                                                |\n",
      "|3077                    |Serviço Social Autônomo                                                 |\n",
      "|3034                    |Serviço Notarial e Registral (Cartório)                                 |\n",
      "|5029                    |Representação Diplomática Estrangeira                                   |\n",
      "|4120                    |Produtor Rural (Pessoa Física)                                          |\n",
      "|3328                    |Plano de Benefícios de Previdência Complementar Fechada                 |\n",
      "|5037                    |Outras Instituições Extraterritoriais                                   |\n",
      "|3301                    |Organização Social (OS)                                                 |\n",
      "|3220                    |Organização Religiosa                                                   |\n",
      "|5010                    |Organização Internacional                                               |\n",
      "|0000                    |Natureza Jurídica não informada                                         |\n",
      "|8885                    |Natureza Jurídica não informada                                         |\n",
      "|1244                    |Município                                                               |\n",
      "|2160                    |Grupo de Sociedades                                                     |\n",
      "|1309                    |Fundo Público da Administração Indireta Municipal                       |\n",
      "|1287                    |Fundo Público da Administração Indireta Federal                         |\n",
      "|1295                    |Fundo Público da Administração Indireta Estadual ou do Distrito Federal |\n",
      "|1333                    |Fundo Público da Administração Direta Municipal                         |\n",
      "|1317                    |Fundo Público da Administração Direta Federal                           |\n",
      "|1325                    |Fundo Público da Administração Direta Estadual ou do Distrito Federal   |\n",
      "|3247                    |Fundo Privado                                                           |\n",
      "|3212                    |Fundação ou Associação Domiciliada no Exterior                          |\n",
      "|1155                    |Fundação Pública de Direito Público Municipal                           |\n",
      "|1139                    |Fundação Pública de Direito Público Federal                             |\n",
      "|1147                    |Fundação Pública de Direito Público Estadual ou do Distrito Federal     |\n",
      "|1279                    |Fundação Pública de Direito Privado Municipal                           |\n",
      "|1252                    |Fundação Pública de Direito Privado Federal                             |\n",
      "|1260                    |Fundação Pública de Direito Privado Estadual ou do Distrito Federal     |\n",
      "|3069                    |Fundação Privada                                                        |\n",
      "|3298                    |Frente Plebiscitária ou Referendária                                    |\n",
      "|1236                    |Estado ou Distrito Federal                                              |\n",
      "|2178                    |Estabelecimento, no Brasil, de Sociedade Estrangeira                    |\n",
      "|3204                    |Estabelecimento, no Brasil, de Fundação ou Associação Estrangeiras      |\n",
      "|2194                    |Estabelecimento, no Brasil, de Empresa Binacional Argentino-Brasileira  |\n",
      "|3115                    |Entidade de Mediação e Arbitragem                                       |\n",
      "|3131                    |Entidade Sindical                                                       |\n",
      "|2135                    |Empresário (Individual)                                                 |\n",
      "|2348                    |Empresa Simples de Inovação                                             |\n",
      "|2011                    |Empresa Pública                                                         |\n",
      "|2313                    |Empresa Individual de Responsabilidade Limitada (de Natureza Simples)   |\n",
      "|2305                    |Empresa Individual de Responsabilidade Limitada (de Natureza Empresária)|\n",
      "|4014                    |Empresa Individual Imobiliária                                          |\n",
      "|2216                    |Empresa Domiciliada no Exterior                                         |\n",
      "|2275                    |Empresa Binacional                                                      |\n",
      "|2330                    |Cooperativas de Consumo                                                 |\n",
      "|2143                    |Cooperativa                                                             |\n",
      "|2151                    |Consórcio de Sociedades                                                 |\n",
      "|2283                    |Consórcio de Empregadores                                               |\n",
      "|2291                    |Consórcio Simples                                                       |\n",
      "|1210                    |Consórcio Público de Direito Público (Associação Pública)               |\n",
      "|1228                    |Consórcio Público de Direito Privado                                    |\n",
      "|3085                    |Condomínio Edilício                                                     |\n",
      "|3239                    |Comunidade Indígena                                                     |\n",
      "|3280                    |Comitê Financeiro de Partido Político                                   |\n",
      "|3107                    |Comissão de Conciliação Prévia                                          |\n",
      "|1198                    |Comissão Polinacional                                                   |\n",
      "|2224                    |Clube/Fundo de Investimento                                             |\n",
      "|4090                    |Candidato a Cargo Político Eletivo                                      |\n",
      "|1120                    |Autarquia Municipal                                                     |\n",
      "|1104                    |Autarquia Federal                                                       |\n",
      "|1112                    |Autarquia Estadual ou do Distrito Federal                               |\n",
      "|3999                    |Associação Privada                                                      |\n",
      "+------------------------+------------------------------------------------------------------------+\n",
      "\n",
      "root\n",
      " |-- codigo_natureza_juridica: string (nullable = true)\n",
      " |-- natureza_juridica: string (nullable = true)\n",
      "\n"
     ]
    }
   ],
   "source": [
    "try:\n",
    "    deltaTable_natureza_juridica_trs = DeltaTable.forPath(spark, \"../TRS/natureza_juridica\")\n",
    "    df_natureza_juridica_trs = deltaTable_natureza_juridica_trs.toDF()\n",
    "    df_natureza_juridica_trs.orderBy(df_natureza_juridica_trs[\"natureza_juridica\"].desc()).show(100, truncate=False)\n",
    "    df_natureza_juridica_trs.printSchema()\n",
    "except Exception as e:\n",
    "    print(f\"Erro na leitura: {e}\")"
   ]
  },
  {
   "cell_type": "code",
   "execution_count": 67,
   "id": "54c249a7",
   "metadata": {},
   "outputs": [
    {
     "name": "stdout",
     "output_type": "stream",
     "text": [
      "+------------------------+-----------------+\n",
      "|codigo_natureza_juridica|natureza_juridica|\n",
      "+------------------------+-----------------+\n",
      "|                       0|                0|\n",
      "+------------------------+-----------------+\n",
      "\n"
     ]
    }
   ],
   "source": [
    "try:\n",
    "    # Filtragem de dados em busca de nulls\n",
    "    df_natureza_juridica_raw.select([\n",
    "        f.sum(f.col(c).isNull().cast(\"int\")).alias(c)\n",
    "        for c in df_natureza_juridica_raw.columns\n",
    "    ]).show()\n",
    "except Exception as e:\n",
    "    print(f\"Erro: {e}\")"
   ]
  },
  {
   "cell_type": "markdown",
   "id": "bcb8a296",
   "metadata": {},
   "source": [
    "## TRUSTED - CNAE"
   ]
  },
  {
   "cell_type": "markdown",
   "id": "8fe95f13",
   "metadata": {},
   "source": [
    "### Etapa 1: Leitura da camada RAW"
   ]
  },
  {
   "cell_type": "code",
   "execution_count": null,
   "id": "af168c00",
   "metadata": {},
   "outputs": [
    {
     "name": "stdout",
     "output_type": "stream",
     "text": [
      "+-----------+---------------------------------------------------------+\n",
      "|codigo_cnae|descricao_cnae                                           |\n",
      "+-----------+---------------------------------------------------------+\n",
      "|0111301    |Cultivo de arroz                                         |\n",
      "|0111302    |Cultivo de milho                                         |\n",
      "|0111303    |Cultivo de trigo                                         |\n",
      "|0111399    |Cultivo de outros cereais não especificados anteriormente|\n",
      "|0112101    |Cultivo de algodão herbáceo                              |\n",
      "+-----------+---------------------------------------------------------+\n",
      "only showing top 5 rows\n"
     ]
    }
   ],
   "source": [
    "try:\n",
    "    deltaTable_cnae: DeltaTable = DeltaTable.forPath(spark, \"../RAW/cnae\")\n",
    "    df_cnae_raw: DataFrame = deltaTable_cnae.toDF()\n",
    "    df_cnae_raw.show(5, truncate=False)\n",
    "except Exception as e:\n",
    "    print(f\"Erro: {e}\")"
   ]
  },
  {
   "cell_type": "markdown",
   "id": "f3382747",
   "metadata": {},
   "source": [
    "### Etapa 2: Escrita na camada Trusted (TRS)"
   ]
  },
  {
   "cell_type": "code",
   "execution_count": 72,
   "id": "40670146",
   "metadata": {},
   "outputs": [],
   "source": [
    "try:\n",
    "    df_cnae_raw.write.format(\"delta\") \\\n",
    "        .mode(\"overwrite\") \\\n",
    "        .save(\"../TRS/cnae\")\n",
    "except Exception as e:\n",
    "    print(f\"Erro: {e}\")"
   ]
  },
  {
   "cell_type": "markdown",
   "id": "0cf4991f",
   "metadata": {},
   "source": [
    "### Etapa 3: Ajuste e Validação"
   ]
  },
  {
   "cell_type": "code",
   "execution_count": 85,
   "id": "5955fac2",
   "metadata": {},
   "outputs": [
    {
     "name": "stdout",
     "output_type": "stream",
     "text": [
      "+-----------+---------------------------------------------------------+\n",
      "|codigo_cnae|descricao_cnae                                           |\n",
      "+-----------+---------------------------------------------------------+\n",
      "|0111301    |Cultivo de arroz                                         |\n",
      "|0111302    |Cultivo de milho                                         |\n",
      "|0111303    |Cultivo de trigo                                         |\n",
      "|0111399    |Cultivo de outros cereais não especificados anteriormente|\n",
      "|0112101    |Cultivo de algodão herbáceo                              |\n",
      "+-----------+---------------------------------------------------------+\n",
      "only showing top 5 rows\n",
      "root\n",
      " |-- codigo_cnae: string (nullable = true)\n",
      " |-- descricao_cnae: string (nullable = true)\n",
      "\n"
     ]
    }
   ],
   "source": [
    "try:\n",
    "    deltaTable_cnae: DeltaTable = DeltaTable.forPath(spark, \"../TRS/cnae\")\n",
    "    df_cnae_trusted: DataFrame = deltaTable_cnae.toDF()\n",
    "    df_cnae_trusted.show(5, truncate=False)\n",
    "    df_cnae_trusted.printSchema()\n",
    "except Exception as e:\n",
    "    print(f\"Erro: {e}\")"
   ]
  },
  {
   "cell_type": "code",
   "execution_count": 75,
   "id": "b2c7221d",
   "metadata": {},
   "outputs": [
    {
     "name": "stdout",
     "output_type": "stream",
     "text": [
      "+-----------+--------------+\n",
      "|codigo_cnae|descricao_cnae|\n",
      "+-----------+--------------+\n",
      "|          0|             0|\n",
      "+-----------+--------------+\n",
      "\n"
     ]
    }
   ],
   "source": [
    "try:\n",
    "    df_cnae_trusted.select([\n",
    "        f.sum(f.col(c).isNull().cast(\"int\")).alias(c)\n",
    "        for c in df_cnae_trusted.columns\n",
    "    ]).show()\n",
    "except Exception as e:\n",
    "    print(f\"Erro: {e}\")"
   ]
  },
  {
   "cell_type": "markdown",
   "id": "a56492ac",
   "metadata": {},
   "source": [
    "## TRUSTED - Qualificação dos Sócios"
   ]
  },
  {
   "cell_type": "markdown",
   "id": "b505468b",
   "metadata": {},
   "source": [
    "### Etapa 1: Leitura da Camada RAW"
   ]
  },
  {
   "cell_type": "code",
   "execution_count": 81,
   "id": "32cad94b",
   "metadata": {},
   "outputs": [
    {
     "name": "stdout",
     "output_type": "stream",
     "text": [
      "+-------------------+----------------------------+\n",
      "|codigo_qualificacao|descricao_qualificacao      |\n",
      "+-------------------+----------------------------+\n",
      "|00                 |Não informada               |\n",
      "|05                 |Administrador               |\n",
      "|08                 |Conselheiro de Administração|\n",
      "|09                 |Curador                     |\n",
      "|10                 |Diretor                     |\n",
      "+-------------------+----------------------------+\n",
      "only showing top 5 rows\n",
      "root\n",
      " |-- codigo_qualificacao: string (nullable = true)\n",
      " |-- descricao_qualificacao: string (nullable = true)\n",
      "\n"
     ]
    }
   ],
   "source": [
    "try:\n",
    "    deltaTable_qualificacao = DeltaTable.forPath(spark, \"../RAW/qualificacao_socios\")\n",
    "    df_qualificacao_socios_raw = deltaTable_qualificacao.toDF()\n",
    "    df_qualificacao_socios_raw.show(5, truncate=False)\n",
    "    df_qualificacao_socios_raw.printSchema()\n",
    "except Exception as e:\n",
    "    print(f\"Erro ao carregar dados: {e}\")"
   ]
  },
  {
   "cell_type": "markdown",
   "id": "cde41b60",
   "metadata": {},
   "source": [
    "### Etapa 2: Escrita na Camada Trusted (TRS)"
   ]
  },
  {
   "cell_type": "code",
   "execution_count": 82,
   "id": "474b46f8",
   "metadata": {},
   "outputs": [
    {
     "name": "stdout",
     "output_type": "stream",
     "text": [
      "Dados salvos com sucesso na camada Trusted!\n"
     ]
    }
   ],
   "source": [
    "try:\n",
    "    df_qualificacao_socios_raw.write.format(\"delta\") \\\n",
    "        .mode(\"overwrite\") \\\n",
    "        .save(\"../TRS/qualificacao_socios\")\n",
    "    print(\"Dados salvos com sucesso na camada Trusted!\")\n",
    "except Exception as e:\n",
    "    print(f\"Erro ao salvar dados: {e}\")"
   ]
  },
  {
   "cell_type": "markdown",
   "id": "2ba1d824",
   "metadata": {},
   "source": [
    "### Etapa 3: Ajuste e Validação"
   ]
  },
  {
   "cell_type": "code",
   "execution_count": 23,
   "id": "b376969e",
   "metadata": {},
   "outputs": [
    {
     "name": "stderr",
     "output_type": "stream",
     "text": [
      "[Stage 4:=======================================================> (49 + 1) / 50]\r"
     ]
    },
    {
     "name": "stdout",
     "output_type": "stream",
     "text": [
      "+-------------------+----------------------+\n",
      "|codigo_qualificacao|descricao_qualificacao|\n",
      "+-------------------+----------------------+\n",
      "|                 00|         Não informada|\n",
      "|                 05|         Administrador|\n",
      "|                 08|  Conselheiro de Ad...|\n",
      "|                 09|               Curador|\n",
      "|                 10|               Diretor|\n",
      "|                 11|           Interventor|\n",
      "|                 12|         Inventariante|\n",
      "|                 13|            Liquidante|\n",
      "|                 14|                   Mãe|\n",
      "|                 15|                   Pai|\n",
      "|                 16|            Presidente|\n",
      "|                 17|            Procurador|\n",
      "|                 18|            Secretário|\n",
      "|                 19|  Síndico (Condomínio)|\n",
      "|                 20|  Sociedade Consorc...|\n",
      "|                 21|     Sociedade Filiada|\n",
      "|                 22|                 Sócio|\n",
      "|                 23|     Sócio Capitalista|\n",
      "|                 24|     Sócio Comanditado|\n",
      "|                 25|    Sócio Comanditário|\n",
      "+-------------------+----------------------+\n",
      "only showing top 20 rows\n",
      "root\n",
      " |-- codigo_qualificacao: string (nullable = true)\n",
      " |-- descricao_qualificacao: string (nullable = true)\n",
      "\n"
     ]
    },
    {
     "name": "stderr",
     "output_type": "stream",
     "text": [
      "                                                                                \r"
     ]
    }
   ],
   "source": [
    "try:\n",
    "    deltaTable_trusted = DeltaTable.forPath(spark, \"../TRS/qualificacao_socios\")\n",
    "    df_qualificacao_socios_trusted = deltaTable_trusted.toDF()\n",
    "\n",
    "    df_qualificacao_socios_trusted.show()\n",
    "    df_qualificacao_socios_trusted.printSchema()\n",
    "except Exception as e:\n",
    "    print(f\"Erro na validação: {e}\")"
   ]
  },
  {
   "cell_type": "code",
   "execution_count": null,
   "id": "e4c27578",
   "metadata": {},
   "outputs": [],
   "source": [
    "try:\n",
    "    # Verificar valores nulos em todas as colunas\n",
    "    df_qualificacao_socios_trusted.select([\n",
    "        f.sum(f.col(c).isNull().cast(\"int\")).alias(c)\n",
    "        for c in df_qualificacao_socios_trusted.columns\n",
    "    ]).show()\n",
    "except Exception as e:\n",
    "    print(f\"Erro: {e}\")"
   ]
  },
  {
   "cell_type": "markdown",
   "id": "04578833",
   "metadata": {},
   "source": [
    "## TRUSTED - Empresas"
   ]
  },
  {
   "cell_type": "markdown",
   "id": "71a5641e",
   "metadata": {},
   "source": [
    "###  Etapa 1: Leitura da Camada RAW"
   ]
  },
  {
   "cell_type": "code",
   "execution_count": null,
   "id": "66bafe85",
   "metadata": {},
   "outputs": [
    {
     "name": "stderr",
     "output_type": "stream",
     "text": [
      "                                                                                \r"
     ]
    },
    {
     "name": "stdout",
     "output_type": "stream",
     "text": [
      "+-----------+---------------------------------------------------------------------+------------------------+-------------------------------+--------------+--------------------+---------------------------+\n",
      "|cnpj_basico|razao_social                                                         |codigo_natureza_juridica|codigo_qualificacao_responsavel|capital_social|codigo_porte_empresa|ente_federativo_responsavel|\n",
      "+-----------+---------------------------------------------------------------------+------------------------+-------------------------------+--------------+--------------------+---------------------------+\n",
      "|08127452   |ELEICAO 2006 WALDEMAR ALBERTO BORGES RODRIGUES NETO DEPUTADO ESTADUAL|4090                    |51                             |0,00          |05                  |NULL                       |\n",
      "|08127453   |ELEICAO 2006 JOSE ROBERTO DOS SANTOS PALADINI DEPUTADO ESTADUAL      |4090                    |51                             |0,00          |05                  |NULL                       |\n",
      "|08127454   |ELEICAO 2006 JAIRO ANTONIO MARTINS DEPUTADO ESTADUAL                 |4090                    |51                             |0,00          |05                  |NULL                       |\n",
      "|08127455   |ELEICAO 2006 SILDA DIAS LORENA DEPUTADO ESTADUAL                     |4090                    |51                             |0,00          |05                  |NULL                       |\n",
      "|08127456   |ELEICAO 2006 HERMOGENES GOMES DE ALMEIDA DEPUTADO ESTADUAL           |4090                    |51                             |0,00          |05                  |NULL                       |\n",
      "+-----------+---------------------------------------------------------------------+------------------------+-------------------------------+--------------+--------------------+---------------------------+\n",
      "only showing top 5 rows\n",
      "root\n",
      " |-- cnpj_basico: string (nullable = true)\n",
      " |-- razao_social: string (nullable = true)\n",
      " |-- codigo_natureza_juridica: string (nullable = true)\n",
      " |-- codigo_qualificacao_responsavel: string (nullable = true)\n",
      " |-- capital_social: string (nullable = true)\n",
      " |-- codigo_porte_empresa: string (nullable = true)\n",
      " |-- ente_federativo_responsavel: string (nullable = true)\n",
      "\n"
     ]
    }
   ],
   "source": [
    "try:\n",
    "    deltaTable_empresas_raw = DeltaTable.forPath(spark, \"../RAW/empresas\")\n",
    "    df_empresas_raw = deltaTable_empresas_raw.toDF()\n",
    "    df_empresas_raw.show(5, truncate=False)\n",
    "    df_empresas_raw.printSchema()\n",
    "except Exception as e:\n",
    "    print(f\"Erro na leitura: {e}\")"
   ]
  },
  {
   "cell_type": "markdown",
   "id": "096e3811",
   "metadata": {},
   "source": [
    "### Etapa 2: Transformação dos Dados"
   ]
  },
  {
   "cell_type": "code",
   "execution_count": null,
   "id": "fd7b0951",
   "metadata": {},
   "outputs": [
    {
     "name": "stdout",
     "output_type": "stream",
     "text": [
      "+-----------+---------------------------------------------------------------------+------------------------+-------------------------------+--------------+--------------------+---------------------------+\n",
      "|cnpj_basico|razao_social                                                         |codigo_natureza_juridica|codigo_qualificacao_responsavel|capital_social|codigo_porte_empresa|ente_federativo_responsavel|\n",
      "+-----------+---------------------------------------------------------------------+------------------------+-------------------------------+--------------+--------------------+---------------------------+\n",
      "|08127452   |ELEICAO 2006 WALDEMAR ALBERTO BORGES RODRIGUES NETO DEPUTADO ESTADUAL|4090                    |51                             |0.00          |05                  |NULL                       |\n",
      "|08127453   |ELEICAO 2006 JOSE ROBERTO DOS SANTOS PALADINI DEPUTADO ESTADUAL      |4090                    |51                             |0.00          |05                  |NULL                       |\n",
      "|08127454   |ELEICAO 2006 JAIRO ANTONIO MARTINS DEPUTADO ESTADUAL                 |4090                    |51                             |0.00          |05                  |NULL                       |\n",
      "|08127455   |ELEICAO 2006 SILDA DIAS LORENA DEPUTADO ESTADUAL                     |4090                    |51                             |0.00          |05                  |NULL                       |\n",
      "|08127456   |ELEICAO 2006 HERMOGENES GOMES DE ALMEIDA DEPUTADO ESTADUAL           |4090                    |51                             |0.00          |05                  |NULL                       |\n",
      "+-----------+---------------------------------------------------------------------+------------------------+-------------------------------+--------------+--------------------+---------------------------+\n",
      "only showing top 5 rows\n",
      "root\n",
      " |-- cnpj_basico: string (nullable = true)\n",
      " |-- razao_social: string (nullable = true)\n",
      " |-- codigo_natureza_juridica: string (nullable = true)\n",
      " |-- codigo_qualificacao_responsavel: string (nullable = true)\n",
      " |-- capital_social: string (nullable = true)\n",
      " |-- codigo_porte_empresa: string (nullable = true)\n",
      " |-- ente_federativo_responsavel: string (nullable = true)\n",
      "\n"
     ]
    }
   ],
   "source": [
    "df_empresas_raw = df_empresas_raw.withColumn(\n",
    "    'capital_social',\n",
    "    f.regexp_replace('capital_social', ',', '.')\n",
    ")\n",
    "\n",
    "df_empresas_raw.show(5, truncate=False)\n",
    "df_empresas_raw.printSchema()"
   ]
  },
  {
   "cell_type": "code",
   "execution_count": null,
   "id": "91a76244",
   "metadata": {},
   "outputs": [
    {
     "name": "stderr",
     "output_type": "stream",
     "text": [
      "[Stage 370:=======================>                                (5 + 7) / 12]\r"
     ]
    },
    {
     "name": "stdout",
     "output_type": "stream",
     "text": [
      "+----------+\n",
      "|max_digits|\n",
      "+----------+\n",
      "|        14|\n",
      "+----------+\n",
      "\n"
     ]
    },
    {
     "name": "stderr",
     "output_type": "stream",
     "text": [
      "                                                                                \r"
     ]
    }
   ],
   "source": [
    "# Obter o tamanho máximo de digitos antes da \",\" para melhor conveção\n",
    "df_max_digitos = df_empresas_raw.withColumn(\n",
    "    \"capital_str\", f.regexp_replace(f.col(\"capital_social\").cast(\"string\"), \"[^0-9]\", \"\")\n",
    ")\n",
    "\n",
    "df_max_digitos.selectExpr(\"max(length(capital_str)) as max_digits\").show()"
   ]
  },
  {
   "cell_type": "code",
   "execution_count": 98,
   "id": "7edfc0a6",
   "metadata": {},
   "outputs": [
    {
     "name": "stderr",
     "output_type": "stream",
     "text": [
      "[Stage 378:=========>                                             (2 + 10) / 12]\r"
     ]
    },
    {
     "name": "stdout",
     "output_type": "stream",
     "text": [
      "+-----------+------------------------------------------------+------------------------+-------------------------------+---------------+--------------------+---------------------------+\n",
      "|cnpj_basico|razao_social                                    |codigo_natureza_juridica|codigo_qualificacao_responsavel|capital_social |codigo_porte_empresa|ente_federativo_responsavel|\n",
      "+-----------+------------------------------------------------+------------------------+-------------------------------+---------------+--------------------+---------------------------+\n",
      "|09092574   |SERGIO BOSQUETTI & CIA LTDA ME                  |2062                    |49                             |776158083690.66|01                  |NULL                       |\n",
      "|07626060   |LGL PINTURAS LTDA                               |2062                    |49                             |532013179015.30|03                  |NULL                       |\n",
      "|05885737   |TRANSCOL SERVICOS EM TRANSPORTES DE JUNDIAI LTDA|2062                    |49                             |500000352182.73|03                  |NULL                       |\n",
      "|07337924   |SUPERMERCADO MENEZES LTDA                       |2062                    |49                             |292027894752.00|01                  |NULL                       |\n",
      "|04661893   |WOSNHTONS MINERACAO S. A.                       |2054                    |16                             |100000000000.00|05                  |NULL                       |\n",
      "|09104609   |MARLENE OLIVEIRA BERNARDINO DO NASCIMENTO       |2135                    |50                             |88445410415.00 |01                  |NULL                       |\n",
      "|09165225   |R M DE P PEREIRA INFORMATICA                    |2135                    |50                             |80759017468.00 |01                  |NULL                       |\n",
      "|07725629   |EUDAIMONIA PARTICIPACOES S/A                    |2054                    |16                             |77256290001.48 |05                  |NULL                       |\n",
      "|07526557   |AMBEV S.A.                                      |2046                    |10                             |58275086270.41 |05                  |NULL                       |\n",
      "|06299045   |MARIA DOS ANJOS BISPO SANTOS                    |2135                    |50                             |54101406554.00 |01                  |NULL                       |\n",
      "+-----------+------------------------------------------------+------------------------+-------------------------------+---------------+--------------------+---------------------------+\n",
      "only showing top 10 rows\n",
      "root\n",
      " |-- cnpj_basico: string (nullable = true)\n",
      " |-- razao_social: string (nullable = true)\n",
      " |-- codigo_natureza_juridica: string (nullable = true)\n",
      " |-- codigo_qualificacao_responsavel: string (nullable = true)\n",
      " |-- capital_social: decimal(20,2) (nullable = true)\n",
      " |-- codigo_porte_empresa: string (nullable = true)\n",
      " |-- ente_federativo_responsavel: string (nullable = true)\n",
      "\n"
     ]
    },
    {
     "name": "stderr",
     "output_type": "stream",
     "text": [
      "                                                                                \r"
     ]
    }
   ],
   "source": [
    "df_empresas_raw = df_empresas_raw.withColumn(\n",
    "    'capital_social',\n",
    "    df_empresas_raw['capital_social'] \\\n",
    "        .cast(DecimalType(20, 2)) \\\n",
    ")\n",
    "\n",
    "df_empresas_raw.orderBy(df_empresas_raw['capital_social'].desc()).show(10, truncate=False)\n",
    "df_empresas_raw.printSchema()"
   ]
  },
  {
   "cell_type": "markdown",
   "id": "26ca7bd4",
   "metadata": {},
   "source": [
    "### Etapa 3: Escrita na Camada Trusted (TRS)"
   ]
  },
  {
   "cell_type": "code",
   "execution_count": 99,
   "id": "a7216f0f",
   "metadata": {},
   "outputs": [
    {
     "name": "stderr",
     "output_type": "stream",
     "text": [
      "25/07/18 12:42:50 WARN MemoryManager: Total allocation exceeds 95.00% (1,020,054,720 bytes) of heap memory\n",
      "Scaling row group sizes to 95.00% for 8 writers\n",
      "25/07/18 12:42:50 WARN MemoryManager: Total allocation exceeds 95.00% (1,020,054,720 bytes) of heap memory\n",
      "Scaling row group sizes to 84.44% for 9 writers\n",
      "25/07/18 12:42:50 WARN MemoryManager: Total allocation exceeds 95.00% (1,020,054,720 bytes) of heap memory\n",
      "Scaling row group sizes to 76.00% for 10 writers\n",
      "25/07/18 12:42:50 WARN MemoryManager: Total allocation exceeds 95.00% (1,020,054,720 bytes) of heap memory\n",
      "Scaling row group sizes to 69.09% for 11 writers\n",
      "25/07/18 12:42:51 WARN MemoryManager: Total allocation exceeds 95.00% (1,020,054,720 bytes) of heap memory\n",
      "Scaling row group sizes to 63.33% for 12 writers\n",
      "25/07/18 12:42:51 WARN MemoryManager: Total allocation exceeds 95.00% (1,020,054,720 bytes) of heap memory\n",
      "Scaling row group sizes to 69.09% for 11 writers\n",
      "25/07/18 12:42:51 WARN MemoryManager: Total allocation exceeds 95.00% (1,020,054,720 bytes) of heap memory\n",
      "Scaling row group sizes to 63.33% for 12 writers\n",
      "25/07/18 12:42:51 WARN MemoryManager: Total allocation exceeds 95.00% (1,020,054,720 bytes) of heap memory\n",
      "Scaling row group sizes to 69.09% for 11 writers\n",
      "25/07/18 12:42:51 WARN MemoryManager: Total allocation exceeds 95.00% (1,020,054,720 bytes) of heap memory\n",
      "Scaling row group sizes to 76.00% for 10 writers\n",
      "25/07/18 12:42:51 WARN MemoryManager: Total allocation exceeds 95.00% (1,020,054,720 bytes) of heap memory\n",
      "Scaling row group sizes to 69.09% for 11 writers\n",
      "25/07/18 12:42:51 WARN MemoryManager: Total allocation exceeds 95.00% (1,020,054,720 bytes) of heap memory\n",
      "Scaling row group sizes to 63.33% for 12 writers\n",
      "25/07/18 12:42:52 WARN MemoryManager: Total allocation exceeds 95.00% (1,020,054,720 bytes) of heap memory\n",
      "Scaling row group sizes to 69.09% for 11 writers\n",
      "25/07/18 12:42:52 WARN MemoryManager: Total allocation exceeds 95.00% (1,020,054,720 bytes) of heap memory\n",
      "Scaling row group sizes to 63.33% for 12 writers\n",
      "25/07/18 12:42:53 WARN MemoryManager: Total allocation exceeds 95.00% (1,020,054,720 bytes) of heap memory\n",
      "Scaling row group sizes to 69.09% for 11 writers\n",
      "25/07/18 12:42:53 WARN MemoryManager: Total allocation exceeds 95.00% (1,020,054,720 bytes) of heap memory\n",
      "Scaling row group sizes to 76.00% for 10 writers\n",
      "25/07/18 12:42:53 WARN MemoryManager: Total allocation exceeds 95.00% (1,020,054,720 bytes) of heap memory\n",
      "Scaling row group sizes to 84.44% for 9 writers\n",
      "25/07/18 12:42:53 WARN MemoryManager: Total allocation exceeds 95.00% (1,020,054,720 bytes) of heap memory\n",
      "Scaling row group sizes to 95.00% for 8 writers\n",
      "25/07/18 12:42:53 WARN MemoryManager: Total allocation exceeds 95.00% (1,020,054,720 bytes) of heap memory\n",
      "Scaling row group sizes to 84.44% for 9 writers\n",
      "25/07/18 12:42:53 WARN MemoryManager: Total allocation exceeds 95.00% (1,020,054,720 bytes) of heap memory\n",
      "Scaling row group sizes to 76.00% for 10 writers\n",
      "25/07/18 12:42:53 WARN MemoryManager: Total allocation exceeds 95.00% (1,020,054,720 bytes) of heap memory\n",
      "Scaling row group sizes to 69.09% for 11 writers\n",
      "25/07/18 12:42:53 WARN MemoryManager: Total allocation exceeds 95.00% (1,020,054,720 bytes) of heap memory\n",
      "Scaling row group sizes to 63.33% for 12 writers\n",
      "25/07/18 12:42:53 WARN MemoryManager: Total allocation exceeds 95.00% (1,020,054,720 bytes) of heap memory\n",
      "Scaling row group sizes to 69.09% for 11 writers\n",
      "25/07/18 12:42:53 WARN MemoryManager: Total allocation exceeds 95.00% (1,020,054,720 bytes) of heap memory\n",
      "Scaling row group sizes to 63.33% for 12 writers\n",
      "25/07/18 12:42:53 WARN MemoryManager: Total allocation exceeds 95.00% (1,020,054,720 bytes) of heap memory\n",
      "Scaling row group sizes to 69.09% for 11 writers\n",
      "25/07/18 12:42:53 WARN MemoryManager: Total allocation exceeds 95.00% (1,020,054,720 bytes) of heap memory\n",
      "Scaling row group sizes to 76.00% for 10 writers\n",
      "25/07/18 12:42:53 WARN MemoryManager: Total allocation exceeds 95.00% (1,020,054,720 bytes) of heap memory\n",
      "Scaling row group sizes to 84.44% for 9 writers\n",
      "25/07/18 12:42:53 WARN MemoryManager: Total allocation exceeds 95.00% (1,020,054,720 bytes) of heap memory\n",
      "Scaling row group sizes to 76.00% for 10 writers\n",
      "25/07/18 12:42:53 WARN MemoryManager: Total allocation exceeds 95.00% (1,020,054,720 bytes) of heap memory\n",
      "Scaling row group sizes to 84.44% for 9 writers\n",
      "25/07/18 12:42:53 WARN MemoryManager: Total allocation exceeds 95.00% (1,020,054,720 bytes) of heap memory\n",
      "Scaling row group sizes to 76.00% for 10 writers\n",
      "25/07/18 12:42:53 WARN MemoryManager: Total allocation exceeds 95.00% (1,020,054,720 bytes) of heap memory\n",
      "Scaling row group sizes to 84.44% for 9 writers\n",
      "25/07/18 12:42:53 WARN MemoryManager: Total allocation exceeds 95.00% (1,020,054,720 bytes) of heap memory\n",
      "Scaling row group sizes to 76.00% for 10 writers\n",
      "25/07/18 12:42:53 WARN MemoryManager: Total allocation exceeds 95.00% (1,020,054,720 bytes) of heap memory\n",
      "Scaling row group sizes to 84.44% for 9 writers\n",
      "25/07/18 12:42:54 WARN MemoryManager: Total allocation exceeds 95.00% (1,020,054,720 bytes) of heap memory\n",
      "Scaling row group sizes to 76.00% for 10 writers\n",
      "25/07/18 12:42:54 WARN MemoryManager: Total allocation exceeds 95.00% (1,020,054,720 bytes) of heap memory\n",
      "Scaling row group sizes to 84.44% for 9 writers\n",
      "25/07/18 12:42:54 WARN MemoryManager: Total allocation exceeds 95.00% (1,020,054,720 bytes) of heap memory\n",
      "Scaling row group sizes to 76.00% for 10 writers\n",
      "25/07/18 12:42:54 WARN MemoryManager: Total allocation exceeds 95.00% (1,020,054,720 bytes) of heap memory\n",
      "Scaling row group sizes to 84.44% for 9 writers\n",
      "25/07/18 12:42:54 WARN MemoryManager: Total allocation exceeds 95.00% (1,020,054,720 bytes) of heap memory\n",
      "Scaling row group sizes to 95.00% for 8 writers\n",
      "25/07/18 12:42:54 WARN MemoryManager: Total allocation exceeds 95.00% (1,020,054,720 bytes) of heap memory\n",
      "Scaling row group sizes to 84.44% for 9 writers\n",
      "25/07/18 12:42:54 WARN MemoryManager: Total allocation exceeds 95.00% (1,020,054,720 bytes) of heap memory\n",
      "Scaling row group sizes to 76.00% for 10 writers\n",
      "25/07/18 12:42:54 WARN MemoryManager: Total allocation exceeds 95.00% (1,020,054,720 bytes) of heap memory\n",
      "Scaling row group sizes to 84.44% for 9 writers\n",
      "25/07/18 12:42:54 WARN MemoryManager: Total allocation exceeds 95.00% (1,020,054,720 bytes) of heap memory\n",
      "Scaling row group sizes to 76.00% for 10 writers\n",
      "25/07/18 12:42:54 WARN MemoryManager: Total allocation exceeds 95.00% (1,020,054,720 bytes) of heap memory\n",
      "Scaling row group sizes to 69.09% for 11 writers\n",
      "25/07/18 12:42:54 WARN MemoryManager: Total allocation exceeds 95.00% (1,020,054,720 bytes) of heap memory\n",
      "Scaling row group sizes to 76.00% for 10 writers\n",
      "25/07/18 12:42:54 WARN MemoryManager: Total allocation exceeds 95.00% (1,020,054,720 bytes) of heap memory\n",
      "Scaling row group sizes to 69.09% for 11 writers\n",
      "25/07/18 12:42:54 WARN MemoryManager: Total allocation exceeds 95.00% (1,020,054,720 bytes) of heap memory\n",
      "Scaling row group sizes to 63.33% for 12 writers\n",
      "25/07/18 12:42:54 WARN MemoryManager: Total allocation exceeds 95.00% (1,020,054,720 bytes) of heap memory\n",
      "Scaling row group sizes to 69.09% for 11 writers\n",
      "25/07/18 12:42:54 WARN MemoryManager: Total allocation exceeds 95.00% (1,020,054,720 bytes) of heap memory\n",
      "Scaling row group sizes to 76.00% for 10 writers\n",
      "25/07/18 12:42:54 WARN MemoryManager: Total allocation exceeds 95.00% (1,020,054,720 bytes) of heap memory\n",
      "Scaling row group sizes to 84.44% for 9 writers\n",
      "25/07/18 12:42:54 WARN MemoryManager: Total allocation exceeds 95.00% (1,020,054,720 bytes) of heap memory\n",
      "Scaling row group sizes to 76.00% for 10 writers\n",
      "25/07/18 12:42:54 WARN MemoryManager: Total allocation exceeds 95.00% (1,020,054,720 bytes) of heap memory\n",
      "Scaling row group sizes to 69.09% for 11 writers\n",
      "25/07/18 12:42:54 WARN MemoryManager: Total allocation exceeds 95.00% (1,020,054,720 bytes) of heap memory\n",
      "Scaling row group sizes to 63.33% for 12 writers\n",
      "25/07/18 12:42:54 WARN MemoryManager: Total allocation exceeds 95.00% (1,020,054,720 bytes) of heap memory\n",
      "Scaling row group sizes to 69.09% for 11 writers\n",
      "25/07/18 12:42:54 WARN MemoryManager: Total allocation exceeds 95.00% (1,020,054,720 bytes) of heap memory\n",
      "Scaling row group sizes to 63.33% for 12 writers\n",
      "25/07/18 12:42:55 WARN MemoryManager: Total allocation exceeds 95.00% (1,020,054,720 bytes) of heap memory\n",
      "Scaling row group sizes to 69.09% for 11 writers\n",
      "25/07/18 12:42:55 WARN MemoryManager: Total allocation exceeds 95.00% (1,020,054,720 bytes) of heap memory\n",
      "Scaling row group sizes to 76.00% for 10 writers\n",
      "25/07/18 12:42:55 WARN MemoryManager: Total allocation exceeds 95.00% (1,020,054,720 bytes) of heap memory\n",
      "Scaling row group sizes to 84.44% for 9 writers\n",
      "25/07/18 12:42:55 WARN MemoryManager: Total allocation exceeds 95.00% (1,020,054,720 bytes) of heap memory\n",
      "Scaling row group sizes to 95.00% for 8 writers\n",
      "                                                                                \r"
     ]
    },
    {
     "name": "stdout",
     "output_type": "stream",
     "text": [
      "Dados salvos com sucesso na camada Trusted!\n"
     ]
    }
   ],
   "source": [
    "try:\n",
    "    df_empresas_raw.write.format(\"delta\") \\\n",
    "        .mode(\"overwrite\") \\\n",
    "        .partitionBy(\"codigo_porte_empresa\") \\\n",
    "        .save(\"../TRS/empresas\")\n",
    "    print(\"Dados salvos com sucesso na camada Trusted!\")\n",
    "except Exception as e:\n",
    "    print(f\"Erro ao salvar dados: {e}\")"
   ]
  },
  {
   "cell_type": "markdown",
   "id": "85e8442a",
   "metadata": {},
   "source": [
    "### Etapa 4: Ajuste e Validação"
   ]
  },
  {
   "cell_type": "code",
   "execution_count": 122,
   "id": "7d1e4e23",
   "metadata": {},
   "outputs": [
    {
     "name": "stdout",
     "output_type": "stream",
     "text": [
      "+-----------+-----------------------------------------------------+------------------------+-------------------------------+--------------+--------------------+---------------------------+\n",
      "|cnpj_basico|razao_social                                         |codigo_natureza_juridica|codigo_qualificacao_responsavel|capital_social|codigo_porte_empresa|ente_federativo_responsavel|\n",
      "+-----------+-----------------------------------------------------+------------------------+-------------------------------+--------------+--------------------+---------------------------+\n",
      "|06609655   |JOSE LEURIBERTO MAIA                                 |2135                    |50                             |0.00          |05                  |NULL                       |\n",
      "|06670465   |ELEICOES 2004 - MARIANGELA RIBEIRO LEANDRO - VEREADOR|4090                    |51                             |0.00          |05                  |NULL                       |\n",
      "|06789422   |ABM - NEGOCIOS IMOBILIARIOS LTDA                     |2062                    |49                             |50700000.00   |05                  |NULL                       |\n",
      "|06851601   |ELEICOES 2004 - GUARACI ALVES TENORIO - VEREADOR     |4090                    |51                             |0.00          |05                  |NULL                       |\n",
      "|06609656   |ELEICOES 2004 - NARCOMAR PUGAS NUNES - VEREADOR      |4090                    |51                             |0.00          |05                  |NULL                       |\n",
      "+-----------+-----------------------------------------------------+------------------------+-------------------------------+--------------+--------------------+---------------------------+\n",
      "only showing top 5 rows\n",
      "root\n",
      " |-- cnpj_basico: string (nullable = true)\n",
      " |-- razao_social: string (nullable = true)\n",
      " |-- codigo_natureza_juridica: string (nullable = true)\n",
      " |-- codigo_qualificacao_responsavel: string (nullable = true)\n",
      " |-- capital_social: decimal(20,2) (nullable = true)\n",
      " |-- codigo_porte_empresa: string (nullable = true)\n",
      " |-- ente_federativo_responsavel: string (nullable = true)\n",
      "\n"
     ]
    }
   ],
   "source": [
    "try:\n",
    "    deltaTable_empresas_trusted = DeltaTable.forPath(spark, \"../TRS/empresas\")\n",
    "    df_empresas_trusted = deltaTable_empresas_trusted.toDF()\n",
    "    df_empresas_trusted.show(5, truncate=False)\n",
    "    df_empresas_trusted.printSchema()\n",
    "except Exception as e:\n",
    "    print(f\"Erro na leitura: {e}\")"
   ]
  },
  {
   "cell_type": "code",
   "execution_count": 121,
   "id": "18e2bbe6",
   "metadata": {},
   "outputs": [
    {
     "name": "stderr",
     "output_type": "stream",
     "text": [
      "25/07/18 23:36:33 WARN UpdateCommand: Could not validate number of records due to missing statistics.\n"
     ]
    }
   ],
   "source": [
    "deltaTable_empresas_trusted.update(\n",
    "    condition = f.col(\"ente_federativo_responsavel\") == \"desconhecido\",\n",
    "    set = { \"ente_federativo_responsavel\": f.lit(None) }\n",
    ")"
   ]
  },
  {
   "cell_type": "markdown",
   "id": "2db876a1",
   "metadata": {},
   "source": [
    "## TRUSTED - Estabelecimentos"
   ]
  },
  {
   "cell_type": "markdown",
   "id": "bdb1fb29",
   "metadata": {},
   "source": [
    "###  Etapa 1: Leitura da Camada RAW"
   ]
  },
  {
   "cell_type": "code",
   "execution_count": null,
   "id": "0c15f60d",
   "metadata": {},
   "outputs": [
    {
     "name": "stdout",
     "output_type": "stream",
     "text": [
      "+---------+----------+-------+-------------+---------------------------------+------------------+-----------------------+-------------------------+--------------------+----+---------------------+-----------+-------------------------------------------------------+---------------+----------------------------+------+-----------------------+---------------------------+--------+---+----------------+----+---------+----+---------+-------+----+--------------------------------------+-----------------+----------------------+\n",
      "|cnpj_base|cnpj_ordem|cnpj_dv|matriz_filial|nome_fantasia                    |situacao_cadastral|data_situacao_cadastral|motivo_situacao_cadastral|nome_cidade_exterior|pais|data_inicio_atividade|cnae_fiscal|cnae_fiscal_secundaria                                 |tipo_logradouro|logradouro                  |numero|complemento            |bairro                     |cep     |uf |codigo_municipio|ddd1|telefone1|ddd2|telefone2|ddd_fax|fax |email                                 |situacao_especial|data_situacao_especial|\n",
      "+---------+----------+-------+-------------+---------------------------------+------------------+-----------------------+-------------------------+--------------------+----+---------------------+-----------+-------------------------------------------------------+---------------+----------------------------+------+-----------------------+---------------------------+--------+---+----------------+----+---------+----+---------+-------+----+--------------------------------------+-----------------+----------------------+\n",
      "|44913807 |0001      |90     |1            |NULL                             |08                |20240328               |01                       |NULL                |NULL|20220118             |4781400    |4782201                                                |RUA            |ANTONIO MAXIMILIANO DA SILVA|298   |QUADRA 04;LOTE 13      |CJTO HABITACIONAL BOA VISTA|86975000|PR |7677            |44  |84090049 |NULL|NULL     |NULL   |NULL|IRACIA212@GMAIL.COM                   |NULL             |NULL                  |\n",
      "|44913821 |0001      |94     |1            |NULL                             |02                |20220118               |00                       |NULL                |NULL|20220118             |8630503    |8599699,8610102,8630501,8630502,8630506,8630599,8690901|AVENIDA        |DESEMBARGADOR MOREIRA       |1300  |      SALA 604 T- NORTE|ALDEOTA                    |60170002|CE |1389            |85  |87072213 |NULL|NULL     |NULL   |NULL|DRAANGELICACARVALHOENDOCRINO@GMAIL.COM|NULL             |NULL                  |\n",
      "|44913831 |0001      |20     |1            |NULL                             |02                |20220118               |00                       |NULL                |NULL|20220118             |8599699    |NULL                                                   |RUA            |DOUTOR JOAO AUGUSTO BARBOSA |1186  |CASA                   |SAO BRAZ                   |84603312|PR |7937            |42  |98271409 |NULL|NULL     |NULL   |NULL|FERLUISSTE@GMAIL.COM                  |NULL             |NULL                  |\n",
      "|44913843 |0001      |54     |1            |RAFAEL FELIPE DE OLIVEIRA MARTINS|08                |20220930               |01                       |NULL                |NULL|20220118             |5229099    |NULL                                                   |RUA            |RENATO ERNESTO DO NASCIMENTO|71    |NULL                   |HORTO FLORESTAL            |31035110|MG |4123            |31  |34810365 |NULL|NULL     |NULL   |NULL|RFDOM27@GMAIL.COM                     |NULL             |NULL                  |\n",
      "|44913857 |0001      |78     |1            |NULL                             |04                |20240823               |63                       |NULL                |NULL|20220118             |4712100    |NULL                                                   |RUA            |ALEGRE                      |314   |CONJ                   |VILA LEOPOLDINA            |25035130|RJ |5833            |21  |81312377 |NULL|NULL     |NULL   |NULL|ANDRECARNEIROCOSTA40@GMAIL.COM        |NULL             |NULL                  |\n",
      "+---------+----------+-------+-------------+---------------------------------+------------------+-----------------------+-------------------------+--------------------+----+---------------------+-----------+-------------------------------------------------------+---------------+----------------------------+------+-----------------------+---------------------------+--------+---+----------------+----+---------+----+---------+-------+----+--------------------------------------+-----------------+----------------------+\n",
      "only showing top 5 rows\n",
      "root\n",
      " |-- cnpj_base: string (nullable = true)\n",
      " |-- cnpj_ordem: string (nullable = true)\n",
      " |-- cnpj_dv: string (nullable = true)\n",
      " |-- matriz_filial: string (nullable = true)\n",
      " |-- nome_fantasia: string (nullable = true)\n",
      " |-- situacao_cadastral: string (nullable = true)\n",
      " |-- data_situacao_cadastral: string (nullable = true)\n",
      " |-- motivo_situacao_cadastral: string (nullable = true)\n",
      " |-- nome_cidade_exterior: string (nullable = true)\n",
      " |-- pais: string (nullable = true)\n",
      " |-- data_inicio_atividade: string (nullable = true)\n",
      " |-- cnae_fiscal: string (nullable = true)\n",
      " |-- cnae_fiscal_secundaria: string (nullable = true)\n",
      " |-- tipo_logradouro: string (nullable = true)\n",
      " |-- logradouro: string (nullable = true)\n",
      " |-- numero: string (nullable = true)\n",
      " |-- complemento: string (nullable = true)\n",
      " |-- bairro: string (nullable = true)\n",
      " |-- cep: string (nullable = true)\n",
      " |-- uf: string (nullable = true)\n",
      " |-- codigo_municipio: string (nullable = true)\n",
      " |-- ddd1: string (nullable = true)\n",
      " |-- telefone1: string (nullable = true)\n",
      " |-- ddd2: string (nullable = true)\n",
      " |-- telefone2: string (nullable = true)\n",
      " |-- ddd_fax: string (nullable = true)\n",
      " |-- fax: string (nullable = true)\n",
      " |-- email: string (nullable = true)\n",
      " |-- situacao_especial: string (nullable = true)\n",
      " |-- data_situacao_especial: string (nullable = true)\n",
      "\n"
     ]
    }
   ],
   "source": [
    "try:\n",
    "    deltaTable_estabelecimentos_raw: DeltaTable = DeltaTable.forPath(spark, \"../RAW/estabelecimentos\")\n",
    "    df_estabelecimentos_raw = deltaTable_estabelecimentos_raw.toDF() \n",
    "    df_estabelecimentos_raw.show(5, truncate=False)\n",
    "    df_estabelecimentos_raw.printSchema() \n",
    "except Exception as e:\n",
    "    print(f\"Erro na leitura: {e}\")"
   ]
  },
  {
   "cell_type": "markdown",
   "id": "53450b66",
   "metadata": {},
   "source": [
    "### Etapa 2: Escrita na Camada TRUSTED (TRS)"
   ]
  },
  {
   "cell_type": "code",
   "execution_count": 5,
   "id": "ae1bfc56",
   "metadata": {},
   "outputs": [
    {
     "name": "stderr",
     "output_type": "stream",
     "text": [
      "                                                                                \r"
     ]
    },
    {
     "name": "stdout",
     "output_type": "stream",
     "text": [
      "Dados salvos com sucesso na camada Trusted!\n"
     ]
    }
   ],
   "source": [
    "try:\n",
    "    df_estabelecimentos_raw.write.format(\"delta\") \\\n",
    "        .mode(\"overwrite\") \\\n",
    "        .partitionBy(\"uf\") \\\n",
    "        .save(\"../TRS/estabelecimentos\")\n",
    "    print(\"Dados salvos com sucesso na camada Trusted!\")\n",
    "except Exception as e:\n",
    "    print(f\"Erro ao salvar dados: {e}\")"
   ]
  },
  {
   "cell_type": "markdown",
   "id": "dd15f5db",
   "metadata": {},
   "source": [
    "### Etapa 3: Ajuste e Validação"
   ]
  },
  {
   "cell_type": "code",
   "execution_count": 74,
   "id": "e5e93589",
   "metadata": {},
   "outputs": [
    {
     "name": "stderr",
     "output_type": "stream",
     "text": [
      "[Stage 8:====================================================>    (12 + 1) / 13]\r"
     ]
    },
    {
     "name": "stdout",
     "output_type": "stream",
     "text": [
      "+--------------+---------+----------+-------+-------------+-------------+------------------+-----------------------+-------------------------+--------------------+----+---------------------+-----------+----------------------+---------------+----------------------------------+------+-----------+-----------------+----+---+----------------+----+---------+----+---------+-------+----+-----+-----------------+----------------------+\n",
      "|cnpj_completo |cnpj_base|cnpj_ordem|cnpj_dv|matriz_filial|nome_fantasia|situacao_cadastral|data_situacao_cadastral|motivo_situacao_cadastral|nome_cidade_exterior|pais|data_inicio_atividade|cnae_fiscal|cnae_fiscal_secundaria|tipo_logradouro|logradouro                        |numero|complemento|bairro           |cep |uf |codigo_municipio|ddd1|telefone1|ddd2|telefone2|ddd_fax|fax |email|situacao_especial|data_situacao_especial|\n",
      "+--------------+---------+----------+-------+-------------+-------------+------------------+-----------------------+-------------------------+--------------------+----+---------------------+-----------+----------------------+---------------+----------------------------------+------+-----------+-----------------+----+---+----------------+----+---------+----+---------+-------+----+-----+-----------------+----------------------+\n",
      "|07743062000132|07743062 |0001      |32     |1            |NULL         |03                |2023-10-09             |82                       |NULL                |866 |2005-12-15           |6630400    |NULL                  |NULL           |TUNICK BUILDING, 1336 BELTJEN ROAD|000000|NULL       |ST. THOMAS       |NULL|EX |9707            |NULL|NULL     |NULL|NULL     |NULL   |NULL|NULL |NULL             |NULL                  |\n",
      "|05583889000109|05583889 |0001      |09     |1            |NULL         |08                |2023-05-24             |01                       |NULL                |866 |2003-02-28           |6470101    |NULL                  |NULL           |ROAD TOWN, TORTOLA                |S/N   |P.O.BOX 901|BRITISH V ISLANDS|NULL|EX |9707            |NULL|NULL     |NULL|NULL     |NULL   |NULL|NULL |NULL             |NULL                  |\n",
      "|05723213000165|05723213 |0001      |65     |1            |NULL         |03                |2021-10-09             |74                       |NULL                |866 |2003-06-25           |6462000    |NULL                  |NULL           |ILHAS VIRGENS - EUA               |S/N   |NULL       |NULL             |NULL|EX |9707            |NULL|NULL     |NULL|NULL     |NULL   |NULL|NULL |NULL             |NULL                  |\n",
      "|11157598000143|11157598 |0001      |43     |1            |NULL         |03                |2023-10-09             |82                       |NULL                |866 |2009-09-18           |6630400    |NULL                  |NULL           |6100 REDHOOK QTR 2 STE A3-1       |000000|NULL       |ST. THOMAS       |NULL|EX |9707            |NULL|NULL     |NULL|NULL     |NULL   |NULL|NULL |NULL             |NULL                  |\n",
      "|05721467000144|05721467 |0001      |44     |1            |NULL         |03                |2021-10-09             |74                       |NULL                |866 |2003-06-25           |6462000    |NULL                  |NULL           |X                                 |S/N   |NULL       |NULL             |NULL|EX |9707            |NULL|NULL     |NULL|NULL     |NULL   |NULL|NULL |NULL             |NULL                  |\n",
      "+--------------+---------+----------+-------+-------------+-------------+------------------+-----------------------+-------------------------+--------------------+----+---------------------+-----------+----------------------+---------------+----------------------------------+------+-----------+-----------------+----+---+----------------+----+---------+----+---------+-------+----+-----+-----------------+----------------------+\n",
      "only showing top 5 rows\n",
      "root\n",
      " |-- cnpj_completo: string (nullable = true)\n",
      " |-- cnpj_base: string (nullable = true)\n",
      " |-- cnpj_ordem: string (nullable = true)\n",
      " |-- cnpj_dv: string (nullable = true)\n",
      " |-- matriz_filial: string (nullable = true)\n",
      " |-- nome_fantasia: string (nullable = true)\n",
      " |-- situacao_cadastral: string (nullable = true)\n",
      " |-- data_situacao_cadastral: date (nullable = true)\n",
      " |-- motivo_situacao_cadastral: string (nullable = true)\n",
      " |-- nome_cidade_exterior: string (nullable = true)\n",
      " |-- pais: string (nullable = true)\n",
      " |-- data_inicio_atividade: date (nullable = true)\n",
      " |-- cnae_fiscal: string (nullable = true)\n",
      " |-- cnae_fiscal_secundaria: string (nullable = true)\n",
      " |-- tipo_logradouro: string (nullable = true)\n",
      " |-- logradouro: string (nullable = true)\n",
      " |-- numero: string (nullable = true)\n",
      " |-- complemento: string (nullable = true)\n",
      " |-- bairro: string (nullable = true)\n",
      " |-- cep: string (nullable = true)\n",
      " |-- uf: string (nullable = true)\n",
      " |-- codigo_municipio: string (nullable = true)\n",
      " |-- ddd1: string (nullable = true)\n",
      " |-- telefone1: string (nullable = true)\n",
      " |-- ddd2: string (nullable = true)\n",
      " |-- telefone2: string (nullable = true)\n",
      " |-- ddd_fax: string (nullable = true)\n",
      " |-- fax: string (nullable = true)\n",
      " |-- email: string (nullable = true)\n",
      " |-- situacao_especial: string (nullable = true)\n",
      " |-- data_situacao_especial: date (nullable = true)\n",
      "\n"
     ]
    },
    {
     "name": "stderr",
     "output_type": "stream",
     "text": [
      "                                                                                \r"
     ]
    }
   ],
   "source": [
    "try:\n",
    "    deltaTable_estabelecimentos_trs = DeltaTable.forPath(spark, \"../TRS/estabelecimentos\")\n",
    "    df_estabelecimentos_trs = deltaTable_estabelecimentos_trs.toDF()\n",
    "    df_estabelecimentos_trs.orderBy(df_estabelecimentos_trs[\"pais\"].desc()).show(5, truncate=False)\n",
    "    df_estabelecimentos_trs.printSchema()\n",
    "except Exception as e:\n",
    "    print(f\"Erro: {e}\")"
   ]
  },
  {
   "cell_type": "code",
   "execution_count": null,
   "id": "bb74fec8",
   "metadata": {},
   "outputs": [],
   "source": [
    "try:\n",
    "    # Convertendo para o tipo date\n",
    "    df_estabelecimentos_trs = df_estabelecimentos_trs.withColumn(\n",
    "        \"data_situacao_cadastral\",\n",
    "        f.to_date(df_estabelecimentos_trs[\"data_situacao_cadastral\"], 'yyyyMMdd')\n",
    "    ).withColumn(\n",
    "        \"data_situacao_especial\",\n",
    "        f.to_date(df_estabelecimentos_trs[\"data_situacao_especial\"], 'yyyyMMdd')\n",
    "    ).withColumn(\n",
    "        \"data_inicio_atividade\",\n",
    "        f.to_date(df_estabelecimentos_trs[\"data_inicio_atividade\"], 'yyyyMMdd')\n",
    "    )\n",
    "    df_estabelecimentos_trs.show(5, truncate=False)\n",
    "    df_estabelecimentos_trs.printSchema()\n",
    "except Exception as e:\n",
    "    print(f\"Erro na alteração para o tipo data: {e}\")"
   ]
  },
  {
   "cell_type": "code",
   "execution_count": null,
   "id": "dbb7defa",
   "metadata": {},
   "outputs": [
    {
     "name": "stderr",
     "output_type": "stream",
     "text": [
      "{\"ts\": \"2025-07-19 13:59:22.640\", \"level\": \"ERROR\", \"logger\": \"DataFrameQueryContextLogger\", \"msg\": \"[UNRESOLVED_COLUMN.WITH_SUGGESTION] A column, variable, or function parameter with name `codigo_pais` cannot be resolved. Did you mean one of the following? [`ddd_fax`, `pais`, `bairro`, `cep`, `cnpj_base`]. SQLSTATE: 42703\", \"context\": {\"file\": \"line 8 in cell [69]\", \"line\": \"\", \"fragment\": \"col\", \"errorClass\": \"UNRESOLVED_COLUMN.WITH_SUGGESTION\"}, \"exception\": {\"class\": \"Py4JJavaError\", \"msg\": \"An error occurred while calling o681.withColumn.\\n: org.apache.spark.sql.AnalysisException: [UNRESOLVED_COLUMN.WITH_SUGGESTION] A column, variable, or function parameter with name `codigo_pais` cannot be resolved. Did you mean one of the following? [`ddd_fax`, `pais`, `bairro`, `cep`, `cnpj_base`]. SQLSTATE: 42703;\\n'Project [cnpj_completo#16555, cnpj_base#4637, cnpj_ordem#4638, cnpj_dv#4639, matriz_filial#4640, nome_fantasia#4641, situacao_cadastral#4642, data_situacao_cadastral#4643, motivo_situacao_cadastral#4644, nome_cidade_exterior#4645, 'codigo_pais AS pais#16556, data_inicio_atividade#4647, cnae_fiscal#4648, cnae_fiscal_secundaria#4649, tipo_logradouro#4650, logradouro#4651, numero#4652, complemento#4653, bairro#4654, cep#4655, uf#4656, codigo_municipio#4657, ddd1#4658, telefone1#4659, ddd2#4660, ... 6 more fields]\\n+- Project [concat_ws(, cnpj_base#4637, cnpj_ordem#4638, cnpj_dv#4639) AS cnpj_completo#16555, cnpj_base#4637, cnpj_ordem#4638, cnpj_dv#4639, matriz_filial#4640, nome_fantasia#4641, situacao_cadastral#4642, data_situacao_cadastral#4643, motivo_situacao_cadastral#4644, nome_cidade_exterior#4645, pais#4646, data_inicio_atividade#4647, cnae_fiscal#4648, cnae_fiscal_secundaria#4649, tipo_logradouro#4650, logradouro#4651, numero#4652, complemento#4653, bairro#4654, cep#4655, uf#4656, codigo_municipio#4657, ddd1#4658, telefone1#4659, ddd2#4660, ... 6 more fields]\\n   +- Relation [cnpj_completo#4636,cnpj_base#4637,cnpj_ordem#4638,cnpj_dv#4639,matriz_filial#4640,nome_fantasia#4641,situacao_cadastral#4642,data_situacao_cadastral#4643,motivo_situacao_cadastral#4644,nome_cidade_exterior#4645,pais#4646,data_inicio_atividade#4647,cnae_fiscal#4648,cnae_fiscal_secundaria#4649,tipo_logradouro#4650,logradouro#4651,numero#4652,complemento#4653,bairro#4654,cep#4655,uf#4656,codigo_municipio#4657,ddd1#4658,telefone1#4659,ddd2#4660,... 6 more fields] parquet\\n\\n\\tat org.apache.spark.sql.errors.QueryCompilationErrors$.unresolvedAttributeError(QueryCompilationErrors.scala:401)\\n\\tat org.apache.spark.sql.catalyst.analysis.CheckAnalysis.org$apache$spark$sql$catalyst$analysis$CheckAnalysis$$failUnresolvedAttribute(CheckAnalysis.scala:169)\\n\\tat org.apache.spark.sql.catalyst.analysis.CheckAnalysis.$anonfun$checkAnalysis0$7(CheckAnalysis.scala:404)\\n\\tat org.apache.spark.sql.catalyst.analysis.CheckAnalysis.$anonfun$checkAnalysis0$7$adapted(CheckAnalysis.scala:402)\\n\\tat org.apache.spark.sql.catalyst.trees.TreeNode.foreachUp(TreeNode.scala:252)\\n\\tat org.apache.spark.sql.catalyst.trees.TreeNode.$anonfun$foreachUp$1(TreeNode.scala:251)\\n\\tat org.apache.spark.sql.catalyst.trees.TreeNode.$anonfun$foreachUp$1$adapted(TreeNode.scala:251)\\n\\tat scala.collection.immutable.Vector.foreach(Vector.scala:2125)\\n\\tat org.apache.spark.sql.catalyst.trees.TreeNode.foreachUp(TreeNode.scala:251)\\n\\tat org.apache.spark.sql.catalyst.analysis.CheckAnalysis.$anonfun$checkAnalysis0$6(CheckAnalysis.scala:402)\\n\\tat org.apache.spark.sql.catalyst.analysis.CheckAnalysis.$anonfun$checkAnalysis0$6$adapted(CheckAnalysis.scala:402)\\n\\tat scala.collection.immutable.List.foreach(List.scala:334)\\n\\tat org.apache.spark.sql.catalyst.analysis.CheckAnalysis.$anonfun$checkAnalysis0$2(CheckAnalysis.scala:402)\\n\\tat org.apache.spark.sql.catalyst.analysis.CheckAnalysis.$anonfun$checkAnalysis0$2$adapted(CheckAnalysis.scala:284)\\n\\tat org.apache.spark.sql.catalyst.trees.TreeNode.foreachUp(TreeNode.scala:252)\\n\\tat org.apache.spark.sql.catalyst.analysis.CheckAnalysis.checkAnalysis0(CheckAnalysis.scala:284)\\n\\tat org.apache.spark.sql.catalyst.analysis.CheckAnalysis.checkAnalysis0$(CheckAnalysis.scala:255)\\n\\tat org.apache.spark.sql.catalyst.analysis.Analyzer.checkAnalysis0(Analyzer.scala:249)\\n\\tat org.apache.spark.sql.catalyst.analysis.CheckAnalysis.checkAnalysis(CheckAnalysis.scala:244)\\n\\tat org.apache.spark.sql.catalyst.analysis.CheckAnalysis.checkAnalysis$(CheckAnalysis.scala:231)\\n\\tat org.apache.spark.sql.catalyst.analysis.Analyzer.checkAnalysis(Analyzer.scala:249)\\n\\tat org.apache.spark.sql.catalyst.analysis.resolver.HybridAnalyzer.$anonfun$resolveInFixedPoint$1(HybridAnalyzer.scala:192)\\n\\tat scala.runtime.java8.JFunction0$mcV$sp.apply(JFunction0$mcV$sp.scala:18)\\n\\tat org.apache.spark.sql.catalyst.QueryPlanningTracker$.withTracker(QueryPlanningTracker.scala:89)\\n\\tat org.apache.spark.sql.catalyst.analysis.resolver.HybridAnalyzer.resolveInFixedPoint(HybridAnalyzer.scala:192)\\n\\tat org.apache.spark.sql.catalyst.analysis.resolver.HybridAnalyzer.$anonfun$apply$1(HybridAnalyzer.scala:76)\\n\\tat org.apache.spark.sql.catalyst.analysis.resolver.HybridAnalyzer.withTrackedAnalyzerBridgeState(HybridAnalyzer.scala:111)\\n\\tat org.apache.spark.sql.catalyst.analysis.resolver.HybridAnalyzer.apply(HybridAnalyzer.scala:71)\\n\\tat org.apache.spark.sql.catalyst.analysis.Analyzer.$anonfun$executeAndCheck$1(Analyzer.scala:280)\\n\\tat org.apache.spark.sql.catalyst.plans.logical.AnalysisHelper$.markInAnalyzer(AnalysisHelper.scala:423)\\n\\tat org.apache.spark.sql.catalyst.analysis.Analyzer.executeAndCheck(Analyzer.scala:280)\\n\\tat org.apache.spark.sql.execution.QueryExecution.$anonfun$lazyAnalyzed$2(QueryExecution.scala:110)\\n\\tat org.apache.spark.sql.catalyst.QueryPlanningTracker.measurePhase(QueryPlanningTracker.scala:148)\\n\\tat org.apache.spark.sql.execution.QueryExecution.$anonfun$executePhase$2(QueryExecution.scala:278)\\n\\tat org.apache.spark.sql.execution.QueryExecution$.withInternalError(QueryExecution.scala:654)\\n\\tat org.apache.spark.sql.execution.QueryExecution.$anonfun$executePhase$1(QueryExecution.scala:278)\\n\\tat org.apache.spark.sql.SparkSession.withActive(SparkSession.scala:804)\\n\\tat org.apache.spark.sql.execution.QueryExecution.executePhase(QueryExecution.scala:277)\\n\\tat org.apache.spark.sql.execution.QueryExecution.$anonfun$lazyAnalyzed$1(QueryExecution.scala:110)\\n\\tat scala.util.Try$.apply(Try.scala:217)\\n\\tat org.apache.spark.util.Utils$.doTryWithCallerStacktrace(Utils.scala:1378)\\n\\tat org.apache.spark.util.Utils$.getTryWithCallerStacktrace(Utils.scala:1439)\\n\\tat org.apache.spark.util.LazyTry.get(LazyTry.scala:58)\\n\\tat org.apache.spark.sql.execution.QueryExecution.analyzed(QueryExecution.scala:121)\\n\\tat org.apache.spark.sql.execution.QueryExecution.assertAnalyzed(QueryExecution.scala:80)\\n\\tat org.apache.spark.sql.classic.Dataset$.$anonfun$ofRows$1(Dataset.scala:115)\\n\\tat org.apache.spark.sql.SparkSession.withActive(SparkSession.scala:804)\\n\\tat org.apache.spark.sql.classic.Dataset$.ofRows(Dataset.scala:113)\\n\\tat org.apache.spark.sql.classic.Dataset.withPlan(Dataset.scala:2263)\\n\\tat org.apache.spark.sql.classic.Dataset.withColumns(Dataset.scala:1283)\\n\\tat org.apache.spark.sql.classic.Dataset.withColumns(Dataset.scala:232)\\n\\tat org.apache.spark.sql.Dataset.withColumn(Dataset.scala:2187)\\n\\tat org.apache.spark.sql.classic.Dataset.withColumn(Dataset.scala:1819)\\n\\tat org.apache.spark.sql.classic.Dataset.withColumn(Dataset.scala:232)\\n\\tat java.base/jdk.internal.reflect.NativeMethodAccessorImpl.invoke0(Native Method)\\n\\tat java.base/jdk.internal.reflect.NativeMethodAccessorImpl.invoke(NativeMethodAccessorImpl.java:77)\\n\\tat java.base/jdk.internal.reflect.DelegatingMethodAccessorImpl.invoke(DelegatingMethodAccessorImpl.java:43)\\n\\tat java.base/java.lang.reflect.Method.invoke(Method.java:569)\\n\\tat py4j.reflection.MethodInvoker.invoke(MethodInvoker.java:244)\\n\\tat py4j.reflection.ReflectionEngine.invoke(ReflectionEngine.java:374)\\n\\tat py4j.Gateway.invoke(Gateway.java:282)\\n\\tat py4j.commands.AbstractCommand.invokeMethod(AbstractCommand.java:132)\\n\\tat py4j.commands.CallCommand.execute(CallCommand.java:79)\\n\\tat py4j.ClientServerConnection.waitForCommands(ClientServerConnection.java:184)\\n\\tat py4j.ClientServerConnection.run(ClientServerConnection.java:108)\\n\\tat java.base/java.lang.Thread.run(Thread.java:840)\\n\\tSuppressed: org.apache.spark.util.Utils$OriginalTryStackTraceException: Full stacktrace of original doTryWithCallerStacktrace caller\\n\\t\\tat org.apache.spark.sql.errors.QueryCompilationErrors$.unresolvedAttributeError(QueryCompilationErrors.scala:401)\\n\\t\\tat org.apache.spark.sql.catalyst.analysis.CheckAnalysis.org$apache$spark$sql$catalyst$analysis$CheckAnalysis$$failUnresolvedAttribute(CheckAnalysis.scala:169)\\n\\t\\tat org.apache.spark.sql.catalyst.analysis.CheckAnalysis.$anonfun$checkAnalysis0$7(CheckAnalysis.scala:404)\\n\\t\\tat org.apache.spark.sql.catalyst.analysis.CheckAnalysis.$anonfun$checkAnalysis0$7$adapted(CheckAnalysis.scala:402)\\n\\t\\tat org.apache.spark.sql.catalyst.trees.TreeNode.foreachUp(TreeNode.scala:252)\\n\\t\\tat org.apache.spark.sql.catalyst.trees.TreeNode.$anonfun$foreachUp$1(TreeNode.scala:251)\\n\\t\\tat org.apache.spark.sql.catalyst.trees.TreeNode.$anonfun$foreachUp$1$adapted(TreeNode.scala:251)\\n\\t\\tat scala.collection.immutable.Vector.foreach(Vector.scala:2125)\\n\\t\\tat org.apache.spark.sql.catalyst.trees.TreeNode.foreachUp(TreeNode.scala:251)\\n\\t\\tat org.apache.spark.sql.catalyst.analysis.CheckAnalysis.$anonfun$checkAnalysis0$6(CheckAnalysis.scala:402)\\n\\t\\tat org.apache.spark.sql.catalyst.analysis.CheckAnalysis.$anonfun$checkAnalysis0$6$adapted(CheckAnalysis.scala:402)\\n\\t\\tat scala.collection.immutable.List.foreach(List.scala:334)\\n\\t\\tat org.apache.spark.sql.catalyst.analysis.CheckAnalysis.$anonfun$checkAnalysis0$2(CheckAnalysis.scala:402)\\n\\t\\tat org.apache.spark.sql.catalyst.analysis.CheckAnalysis.$anonfun$checkAnalysis0$2$adapted(CheckAnalysis.scala:284)\\n\\t\\tat org.apache.spark.sql.catalyst.trees.TreeNode.foreachUp(TreeNode.scala:252)\\n\\t\\tat org.apache.spark.sql.catalyst.analysis.CheckAnalysis.checkAnalysis0(CheckAnalysis.scala:284)\\n\\t\\tat org.apache.spark.sql.catalyst.analysis.CheckAnalysis.checkAnalysis0$(CheckAnalysis.scala:255)\\n\\t\\tat org.apache.spark.sql.catalyst.analysis.Analyzer.checkAnalysis0(Analyzer.scala:249)\\n\\t\\tat org.apache.spark.sql.catalyst.analysis.CheckAnalysis.checkAnalysis(CheckAnalysis.scala:244)\\n\\t\\tat org.apache.spark.sql.catalyst.analysis.CheckAnalysis.checkAnalysis$(CheckAnalysis.scala:231)\\n\\t\\tat org.apache.spark.sql.catalyst.analysis.Analyzer.checkAnalysis(Analyzer.scala:249)\\n\\t\\tat org.apache.spark.sql.catalyst.analysis.resolver.HybridAnalyzer.$anonfun$resolveInFixedPoint$1(HybridAnalyzer.scala:192)\\n\\t\\tat scala.runtime.java8.JFunction0$mcV$sp.apply(JFunction0$mcV$sp.scala:18)\\n\\t\\tat org.apache.spark.sql.catalyst.QueryPlanningTracker$.withTracker(QueryPlanningTracker.scala:89)\\n\\t\\tat org.apache.spark.sql.catalyst.analysis.resolver.HybridAnalyzer.resolveInFixedPoint(HybridAnalyzer.scala:192)\\n\\t\\tat org.apache.spark.sql.catalyst.analysis.resolver.HybridAnalyzer.$anonfun$apply$1(HybridAnalyzer.scala:76)\\n\\t\\tat org.apache.spark.sql.catalyst.analysis.resolver.HybridAnalyzer.withTrackedAnalyzerBridgeState(HybridAnalyzer.scala:111)\\n\\t\\tat org.apache.spark.sql.catalyst.analysis.resolver.HybridAnalyzer.apply(HybridAnalyzer.scala:71)\\n\\t\\tat org.apache.spark.sql.catalyst.analysis.Analyzer.$anonfun$executeAndCheck$1(Analyzer.scala:280)\\n\\t\\tat org.apache.spark.sql.catalyst.plans.logical.AnalysisHelper$.markInAnalyzer(AnalysisHelper.scala:423)\\n\\t\\tat org.apache.spark.sql.catalyst.analysis.Analyzer.executeAndCheck(Analyzer.scala:280)\\n\\t\\tat org.apache.spark.sql.execution.QueryExecution.$anonfun$lazyAnalyzed$2(QueryExecution.scala:110)\\n\\t\\tat org.apache.spark.sql.catalyst.QueryPlanningTracker.measurePhase(QueryPlanningTracker.scala:148)\\n\\t\\tat org.apache.spark.sql.execution.QueryExecution.$anonfun$executePhase$2(QueryExecution.scala:278)\\n\\t\\tat org.apache.spark.sql.execution.QueryExecution$.withInternalError(QueryExecution.scala:654)\\n\\t\\tat org.apache.spark.sql.execution.QueryExecution.$anonfun$executePhase$1(QueryExecution.scala:278)\\n\\t\\tat org.apache.spark.sql.SparkSession.withActive(SparkSession.scala:804)\\n\\t\\tat org.apache.spark.sql.execution.QueryExecution.executePhase(QueryExecution.scala:277)\\n\\t\\tat org.apache.spark.sql.execution.QueryExecution.$anonfun$lazyAnalyzed$1(QueryExecution.scala:110)\\n\\t\\tat scala.util.Try$.apply(Try.scala:217)\\n\\t\\tat org.apache.spark.util.Utils$.doTryWithCallerStacktrace(Utils.scala:1378)\\n\\t\\tat org.apache.spark.util.LazyTry.tryT$lzycompute(LazyTry.scala:46)\\n\\t\\tat org.apache.spark.util.LazyTry.tryT(LazyTry.scala:46)\\n\\t\\t... 24 more\\n\", \"stacktrace\": [{\"class\": null, \"method\": \"deco\", \"file\": \"/home/wilcb/projeto_data_warehouse/venv/lib/python3.12/site-packages/pyspark/errors/exceptions/captured.py\", \"line\": \"282\"}, {\"class\": null, \"method\": \"get_return_value\", \"file\": \"/home/wilcb/projeto_data_warehouse/venv/lib/python3.12/site-packages/py4j/protocol.py\", \"line\": \"327\"}]}}\n"
     ]
    },
    {
     "name": "stdout",
     "output_type": "stream",
     "text": [
      "Erro na alteração para o tipo data: [UNRESOLVED_COLUMN.WITH_SUGGESTION] A column, variable, or function parameter with name `codigo_pais` cannot be resolved. Did you mean one of the following? [`ddd_fax`, `pais`, `bairro`, `cep`, `cnpj_base`]. SQLSTATE: 42703;\n",
      "'Project [cnpj_completo#16555, cnpj_base#4637, cnpj_ordem#4638, cnpj_dv#4639, matriz_filial#4640, nome_fantasia#4641, situacao_cadastral#4642, data_situacao_cadastral#4643, motivo_situacao_cadastral#4644, nome_cidade_exterior#4645, 'codigo_pais AS pais#16556, data_inicio_atividade#4647, cnae_fiscal#4648, cnae_fiscal_secundaria#4649, tipo_logradouro#4650, logradouro#4651, numero#4652, complemento#4653, bairro#4654, cep#4655, uf#4656, codigo_municipio#4657, ddd1#4658, telefone1#4659, ddd2#4660, ... 6 more fields]\n",
      "+- Project [concat_ws(, cnpj_base#4637, cnpj_ordem#4638, cnpj_dv#4639) AS cnpj_completo#16555, cnpj_base#4637, cnpj_ordem#4638, cnpj_dv#4639, matriz_filial#4640, nome_fantasia#4641, situacao_cadastral#4642, data_situacao_cadastral#4643, motivo_situacao_cadastral#4644, nome_cidade_exterior#4645, pais#4646, data_inicio_atividade#4647, cnae_fiscal#4648, cnae_fiscal_secundaria#4649, tipo_logradouro#4650, logradouro#4651, numero#4652, complemento#4653, bairro#4654, cep#4655, uf#4656, codigo_municipio#4657, ddd1#4658, telefone1#4659, ddd2#4660, ... 6 more fields]\n",
      "   +- Relation [cnpj_completo#4636,cnpj_base#4637,cnpj_ordem#4638,cnpj_dv#4639,matriz_filial#4640,nome_fantasia#4641,situacao_cadastral#4642,data_situacao_cadastral#4643,motivo_situacao_cadastral#4644,nome_cidade_exterior#4645,pais#4646,data_inicio_atividade#4647,cnae_fiscal#4648,cnae_fiscal_secundaria#4649,tipo_logradouro#4650,logradouro#4651,numero#4652,complemento#4653,bairro#4654,cep#4655,uf#4656,codigo_municipio#4657,ddd1#4658,telefone1#4659,ddd2#4660,... 6 more fields] parquet\n",
      "\n"
     ]
    }
   ],
   "source": [
    "# Criar coluna cnpj_completo para o estabelecimento\n",
    "try:\n",
    "    df_estabelecimentos_trs = df_estabelecimentos_trs.withColumn(\n",
    "        \"cnpj_completo\",\n",
    "        f.concat_ws(\"\", \"cnpj_base\", \"cnpj_ordem\", \"cnpj_dv\")\n",
    "    )\n",
    "    df_estabelecimentos_trs.show(5, truncate=False)\n",
    "    df_estabelecimentos_trs.printSchema()\n",
    "except Exception as e:\n",
    "    print(f\"Erro na alteração para o tipo data: {e}\")"
   ]
  },
  {
   "cell_type": "code",
   "execution_count": 11,
   "id": "21e93d1e",
   "metadata": {},
   "outputs": [
    {
     "name": "stdout",
     "output_type": "stream",
     "text": [
      "+--------------+---------+----------+-------+-------------+-------------+------------------+-----------------------+-------------------------+--------------------+----+---------------------+-----------+-----------------------------------------------------------------------------------------------------------------------------------------------------------------------------------------------------------------------------------------------------------------------------------------------------------------------------------------------------------------------------------------------------------------------------------------------------------------------------------------------------------------------------------------------------------------------------------------------------------------------------------------------------------------------------------------------------------------------+---------------+-------------------------+------+-----------+----------------+--------+---+----------------+----+---------+----+---------+-------+----+-------------------------------------+-----------------+----------------------+\n",
      "|cnpj_completo |cnpj_base|cnpj_ordem|cnpj_dv|matriz_filial|nome_fantasia|situacao_cadastral|data_situacao_cadastral|motivo_situacao_cadastral|nome_cidade_exterior|pais|data_inicio_atividade|cnae_fiscal|cnae_fiscal_secundaria                                                                                                                                                                                                                                                                                                                                                                                                                                                                                                                                                                                                                                                                                                 |tipo_logradouro|logradouro               |numero|complemento|bairro          |cep     |uf |codigo_municipio|ddd1|telefone1|ddd2|telefone2|ddd_fax|fax |email                                |situacao_especial|data_situacao_especial|\n",
      "+--------------+---------+----------+-------+-------------+-------------+------------------+-----------------------+-------------------------+--------------------+----+---------------------+-----------+-----------------------------------------------------------------------------------------------------------------------------------------------------------------------------------------------------------------------------------------------------------------------------------------------------------------------------------------------------------------------------------------------------------------------------------------------------------------------------------------------------------------------------------------------------------------------------------------------------------------------------------------------------------------------------------------------------------------------+---------------+-------------------------+------+-----------+----------------+--------+---+----------------+----+---------+----+---------+-------+----+-------------------------------------+-----------------+----------------------+\n",
      "|43563392000100|43563392 |0001      |00     |1            |MWL SERVICOS |02                |2021-09-17             |00                       |NULL                |NULL|2021-09-17           |4930201    |1811302,1813001,1813099,3230200,3240099,3299003,3299004,4292801,4299501,4322302,4329101,4399199,4530703,4530705,4541206,4619200,4645101,4664800,4729699,4741500,4744001,4744005,4744099,4751201,4753900,4754701,4755503,4756300,4759899,4761001,4761002,4761003,4763601,4763602,4771701,4772500,4773300,4774100,4781400,4789002,4789005,4789007,4923002,4930202,5320201,5320202,5620101,5620102,5811500,6010100,6201501,6201502,6204000,6209100,6319400,7311400,7312200,7319001,7319002,7319003,7319099,7420004,7490105,7490199,7711000,7721700,7729202,7729203,7739003,7739099,8020001,8111700,8121400,8129000,8130300,8211300,8219999,8230001,8299799,8550302,8599699,9001901,9001905,9001906,9319101,9319199,9329899|RUA            |HERMOGENES COSTA CARVALHO|125   |CASA  B    |NOVO HORIZONTE  |36420000|MG |4917            |31  |37411344 |NULL|NULL     |NULL   |NULL|CONSTITUICAO@CONTABILIDADEMODERNA.COM|NULL             |NULL                  |\n",
      "|50380273000187|50380273 |0001      |87     |1            |NULL         |02                |2023-04-19             |00                       |NULL                |NULL|2023-04-19           |4754703    |4742300,4744001,4744003,4744005,4744099,4751201,4752100,4753900,4759801,4759899,4763604,4789099                                                                                                                                                                                                                                                                                                                                                                                                                                                                                                                                                                                                                        |RUA            |DOUTOR ALVARO CAMARGOS   |1539  |NULL       |SAO JOAO BATISTA|31515232|MG |4123            |31  |34951471 |NULL|NULL     |NULL   |NULL|FINANCEIRO.FEDERALLE@GMAIL.COM       |NULL             |NULL                  |\n",
      "|45536016000151|45536016 |0001      |51     |1            |NULL         |02                |2022-03-06             |00                       |NULL                |NULL|2022-03-06           |3313999    |NULL                                                                                                                                                                                                                                                                                                                                                                                                                                                                                                                                                                                                                                                                                                                   |RUA            |SETE DE ABRIL            |690   |NULL       |ESPLANADA       |30280240|MG |4123            |31  |96464428 |NULL|NULL     |NULL   |NULL|SOLARSKALA@GMAIL.COM                 |NULL             |NULL                  |\n",
      "|59826522000190|59826522 |0001      |90     |1            |NULL         |02                |2025-03-10             |00                       |NULL                |NULL|2025-03-10           |4399103    |NULL                                                                                                                                                                                                                                                                                                                                                                                                                                                                                                                                                                                                                                                                                                                   |RUA            |JOAO EUFLASIO            |225A  |NULL       |DOM BOSCO       |30850050|MG |4123            |31  |99207301 |NULL|NULL     |NULL   |NULL|DEIVIDSANTOSILVA3@GMAIL.COM          |NULL             |NULL                  |\n",
      "|17485530000170|17485530 |0001      |70     |1            |NULL         |08                |2013-02-19             |01                       |NULL                |NULL|2013-01-28           |4724500    |NULL                                                                                                                                                                                                                                                                                                                                                                                                                                                                                                                                                                                                                                                                                                                   |AVENIDA        |RUI BARBOSA              |48    |NULL       |SANTA TEREZINHA |36045410|MG |4733            |32  |88151025 |NULL|NULL     |NULL   |NULL|NULL                                 |NULL             |NULL                  |\n",
      "+--------------+---------+----------+-------+-------------+-------------+------------------+-----------------------+-------------------------+--------------------+----+---------------------+-----------+-----------------------------------------------------------------------------------------------------------------------------------------------------------------------------------------------------------------------------------------------------------------------------------------------------------------------------------------------------------------------------------------------------------------------------------------------------------------------------------------------------------------------------------------------------------------------------------------------------------------------------------------------------------------------------------------------------------------------+---------------+-------------------------+------+-----------+----------------+--------+---+----------------+----+---------+----+---------+-------+----+-------------------------------------+-----------------+----------------------+\n",
      "only showing top 5 rows\n",
      "root\n",
      " |-- cnpj_completo: string (nullable = false)\n",
      " |-- cnpj_base: string (nullable = true)\n",
      " |-- cnpj_ordem: string (nullable = true)\n",
      " |-- cnpj_dv: string (nullable = true)\n",
      " |-- matriz_filial: string (nullable = true)\n",
      " |-- nome_fantasia: string (nullable = true)\n",
      " |-- situacao_cadastral: string (nullable = true)\n",
      " |-- data_situacao_cadastral: date (nullable = true)\n",
      " |-- motivo_situacao_cadastral: string (nullable = true)\n",
      " |-- nome_cidade_exterior: string (nullable = true)\n",
      " |-- pais: string (nullable = true)\n",
      " |-- data_inicio_atividade: date (nullable = true)\n",
      " |-- cnae_fiscal: string (nullable = true)\n",
      " |-- cnae_fiscal_secundaria: string (nullable = true)\n",
      " |-- tipo_logradouro: string (nullable = true)\n",
      " |-- logradouro: string (nullable = true)\n",
      " |-- numero: string (nullable = true)\n",
      " |-- complemento: string (nullable = true)\n",
      " |-- bairro: string (nullable = true)\n",
      " |-- cep: string (nullable = true)\n",
      " |-- uf: string (nullable = true)\n",
      " |-- codigo_municipio: string (nullable = true)\n",
      " |-- ddd1: string (nullable = true)\n",
      " |-- telefone1: string (nullable = true)\n",
      " |-- ddd2: string (nullable = true)\n",
      " |-- telefone2: string (nullable = true)\n",
      " |-- ddd_fax: string (nullable = true)\n",
      " |-- fax: string (nullable = true)\n",
      " |-- email: string (nullable = true)\n",
      " |-- situacao_especial: string (nullable = true)\n",
      " |-- data_situacao_especial: date (nullable = true)\n",
      "\n"
     ]
    }
   ],
   "source": [
    "# Reordenar as colunas para deixar o cnpj_completo em primeiro\n",
    "try:\n",
    "    colunas_estabelecimentos = df_estabelecimentos_trs.columns\n",
    "    nova_ordem_estabelecimentos = ['cnpj_completo'] + [col for col in colunas_estabelecimentos if col != 'cnpj_completo']\n",
    "    df_estabelecimentos_trs = df_estabelecimentos_trs.select(nova_ordem_estabelecimentos)\n",
    "    df_estabelecimentos_trs.show(5, truncate=False)\n",
    "    df_estabelecimentos_trs.printSchema()\n",
    "except Exception as e:\n",
    "    print(f\"Erro na alteração para o tipo data: {e}\")"
   ]
  },
  {
   "cell_type": "code",
   "execution_count": null,
   "id": "c06791b6",
   "metadata": {},
   "outputs": [
    {
     "name": "stderr",
     "output_type": "stream",
     "text": [
      "                                                                                \r"
     ]
    },
    {
     "name": "stdout",
     "output_type": "stream",
     "text": [
      "Atualização efetuada!\n"
     ]
    }
   ],
   "source": [
    "try:\n",
    "    # Atualizando para retirar datas inválidas\n",
    "    deltaTable_estabelecimentos_trs.update(\n",
    "        condition=f.length(\n",
    "            f.col(\"data_situacao_especial\")\n",
    "        ) < 8,\n",
    "        set={\n",
    "            \"data_situacao_especial\": f.lit(None)\n",
    "        }\n",
    "    )\n",
    "    print(\"Atualização efetuada!\")\n",
    "except Exception as e:\n",
    "    print(f\"Erro: {e}\")"
   ]
  },
  {
   "cell_type": "code",
   "execution_count": null,
   "id": "d9cee611",
   "metadata": {},
   "outputs": [
    {
     "name": "stdout",
     "output_type": "stream",
     "text": [
      "Atualização efetuada!\n"
     ]
    }
   ],
   "source": [
    "try:\n",
    "    # update por CNPJ\n",
    "    # deltaTable_estabelecimentos.update(\n",
    "    #     condition= (f.col(\"cnpj_base\") == \"06899799\")\n",
    "    #         & (f.col(\"cnpj_ordem\") == \"0001\")\n",
    "    #         & (f.col(\"cnpj_dv\") == \"86\"),\n",
    "    #     set={\n",
    "    #         \"nome_fantasia\": f.lit(\"ELEICOES 2004 CF - MANOEL URBANO - AC - COMITE FINANC MUN P/VEREADOR - PMDB\".upper()),\n",
    "    #     }\n",
    "    # )\n",
    "\n",
    "    deltaTable_estabelecimentos_trs.update(\n",
    "        condition=(\n",
    "            f.col(\"fax\") == None\n",
    "        ),\n",
    "        set={\n",
    "            \"ddd_fax\": f.lit(None),\n",
    "        }\n",
    "    )\n",
    "    print(\"Atualização efetuada!\")\n",
    "except Exception as e:\n",
    "    print(f\"Erro: {e}\")"
   ]
  },
  {
   "cell_type": "code",
   "execution_count": null,
   "id": "961afa53",
   "metadata": {},
   "outputs": [
    {
     "name": "stderr",
     "output_type": "stream",
     "text": [
      "                                                                                \r"
     ]
    },
    {
     "name": "stdout",
     "output_type": "stream",
     "text": [
      "+---------+----------+-------+-------------+-------------+------------------+-----------------------+-------------------------+--------------------+----+---------------------+-----------+----------------------+---------------+----------+------+-----------+------+---+---+----------------+----+---------+----+---------+-------+---+-----+-----------------+----------------------+\n",
      "|cnpj_base|cnpj_ordem|cnpj_dv|matriz_filial|nome_fantasia|situacao_cadastral|data_situacao_cadastral|motivo_situacao_cadastral|nome_cidade_exterior|pais|data_inicio_atividade|cnae_fiscal|cnae_fiscal_secundaria|tipo_logradouro|logradouro|numero|complemento|bairro|cep|uf |codigo_municipio|ddd1|telefone1|ddd2|telefone2|ddd_fax|fax|email|situacao_especial|data_situacao_especial|\n",
      "+---------+----------+-------+-------------+-------------+------------------+-----------------------+-------------------------+--------------------+----+---------------------+-----------+----------------------+---------------+----------+------+-----------+------+---+---+----------------+----+---------+----+---------+-------+---+-----+-----------------+----------------------+\n",
      "+---------+----------+-------+-------------+-------------+------------------+-----------------------+-------------------------+--------------------+----+---------------------+-----------+----------------------+---------------+----------+------+-----------+------+---+---+----------------+----+---------+----+---------+-------+---+-----+-----------------+----------------------+\n",
      "\n",
      "+---------+----------+-------+-------------+----------------------------------+------------------+-----------------------+-------------------------+--------------------+----+---------------------+-----------+-----------------------------------------------------------------------------------------------------------------------------------------------------------------------------------------------------------------------------------------------------------------------------------------------------------------------------------------------------------------------------------------------------------------------------------------------------------------------------------------------------------------------------------------------------------------------------------------------------------------------------------------------------------------------------------------------------------------------+---------------+---------------------------------+------+-----------------+-------------------------+--------+---+----------------+----+---------+----+---------+-------+----+-------------------------------------+-----------------+----------------------+\n",
      "|cnpj_base|cnpj_ordem|cnpj_dv|matriz_filial|nome_fantasia                     |situacao_cadastral|data_situacao_cadastral|motivo_situacao_cadastral|nome_cidade_exterior|pais|data_inicio_atividade|cnae_fiscal|cnae_fiscal_secundaria                                                                                                                                                                                                                                                                                                                                                                                                                                                                                                                                                                                                                                                                                                 |tipo_logradouro|logradouro                       |numero|complemento      |bairro                   |cep     |uf |codigo_municipio|ddd1|telefone1|ddd2|telefone2|ddd_fax|fax |email                                |situacao_especial|data_situacao_especial|\n",
      "+---------+----------+-------+-------------+----------------------------------+------------------+-----------------------+-------------------------+--------------------+----+---------------------+-----------+-----------------------------------------------------------------------------------------------------------------------------------------------------------------------------------------------------------------------------------------------------------------------------------------------------------------------------------------------------------------------------------------------------------------------------------------------------------------------------------------------------------------------------------------------------------------------------------------------------------------------------------------------------------------------------------------------------------------------+---------------+---------------------------------+------+-----------------+-------------------------+--------+---+----------------+----+---------+----+---------+-------+----+-------------------------------------+-----------------+----------------------+\n",
      "|43563392 |0001      |00     |1            |MWL SERVICOS                      |02                |2021-09-17             |00                       |NULL                |NULL|2021-09-17           |4930201    |1811302,1813001,1813099,3230200,3240099,3299003,3299004,4292801,4299501,4322302,4329101,4399199,4530703,4530705,4541206,4619200,4645101,4664800,4729699,4741500,4744001,4744005,4744099,4751201,4753900,4754701,4755503,4756300,4759899,4761001,4761002,4761003,4763601,4763602,4771701,4772500,4773300,4774100,4781400,4789002,4789005,4789007,4923002,4930202,5320201,5320202,5620101,5620102,5811500,6010100,6201501,6201502,6204000,6209100,6319400,7311400,7312200,7319001,7319002,7319003,7319099,7420004,7490105,7490199,7711000,7721700,7729202,7729203,7739003,7739099,8020001,8111700,8121400,8129000,8130300,8211300,8219999,8230001,8299799,8550302,8599699,9001901,9001905,9001906,9319101,9319199,9329899|RUA            |HERMOGENES COSTA CARVALHO        |125   |CASA  B          |NOVO HORIZONTE           |36420000|MG |4917            |31  |37411344 |NULL|NULL     |NULL   |NULL|CONSTITUICAO@CONTABILIDADEMODERNA.COM|NULL             |NULL                  |\n",
      "|50380273 |0001      |87     |1            |NULL                              |02                |2023-04-19             |00                       |NULL                |NULL|2023-04-19           |4754703    |4742300,4744001,4744003,4744005,4744099,4751201,4752100,4753900,4759801,4759899,4763604,4789099                                                                                                                                                                                                                                                                                                                                                                                                                                                                                                                                                                                                                        |RUA            |DOUTOR ALVARO CAMARGOS           |1539  |NULL             |SAO JOAO BATISTA         |31515232|MG |4123            |31  |34951471 |NULL|NULL     |NULL   |NULL|FINANCEIRO.FEDERALLE@GMAIL.COM       |NULL             |NULL                  |\n",
      "|45536016 |0001      |51     |1            |NULL                              |02                |2022-03-06             |00                       |NULL                |NULL|2022-03-06           |3313999    |NULL                                                                                                                                                                                                                                                                                                                                                                                                                                                                                                                                                                                                                                                                                                                   |RUA            |SETE DE ABRIL                    |690   |NULL             |ESPLANADA                |30280240|MG |4123            |31  |96464428 |NULL|NULL     |NULL   |NULL|SOLARSKALA@GMAIL.COM                 |NULL             |NULL                  |\n",
      "|59826522 |0001      |90     |1            |NULL                              |02                |2025-03-10             |00                       |NULL                |NULL|2025-03-10           |4399103    |NULL                                                                                                                                                                                                                                                                                                                                                                                                                                                                                                                                                                                                                                                                                                                   |RUA            |JOAO EUFLASIO                    |225A  |NULL             |DOM BOSCO                |30850050|MG |4123            |31  |99207301 |NULL|NULL     |NULL   |NULL|DEIVIDSANTOSILVA3@GMAIL.COM          |NULL             |NULL                  |\n",
      "|17485530 |0001      |70     |1            |NULL                              |08                |2013-02-19             |01                       |NULL                |NULL|2013-01-28           |4724500    |NULL                                                                                                                                                                                                                                                                                                                                                                                                                                                                                                                                                                                                                                                                                                                   |AVENIDA        |RUI BARBOSA                      |48    |NULL             |SANTA TEREZINHA          |36045410|MG |4733            |32  |88151025 |NULL|NULL     |NULL   |NULL|NULL                                 |NULL             |NULL                  |\n",
      "|52271591 |0001      |35     |1            |PEQUENINHOS                       |02                |2023-09-21             |00                       |NULL                |NULL|2023-09-21           |8650003    |7020400,8550302,8599604                                                                                                                                                                                                                                                                                                                                                                                                                                                                                                                                                                                                                                                                                                |RUA            |BARAO DO RIO BRANCO              |461   |SALA  301        |CENTRO                   |35010030|MG |4553            |33  |32798650 |NULL|NULL     |NULL   |NULL|CONSULTORIONATHALIAHERINGER@GMAIL.COM|NULL             |NULL                  |\n",
      "|47499911 |0001      |79     |1            |LOJA E GOL                        |02                |2022-08-10             |00                       |NULL                |NULL|2022-08-10           |4763602    |4782201,7490104                                                                                                                                                                                                                                                                                                                                                                                                                                                                                                                                                                                                                                                                                                        |AVENIDA        |GETULIO VARGAS                   |1460  |LOJA  6          |SAVASSI                  |30112024|MG |4123            |31  |96952403 |NULL|NULL     |NULL   |NULL|LOJAEGOL@LOJAEGOL.COM.BR             |NULL             |NULL                  |\n",
      "|49345463 |0001      |84     |1            |RICART SHOES & BAGS REPRESENTACOES|02                |2023-01-26             |00                       |NULL                |NULL|2023-01-26           |4616800    |NULL                                                                                                                                                                                                                                                                                                                                                                                                                                                                                                                                                                                                                                                                                                                   |AVENIDA        |MIGUEL PERRELA                   |910   |APT   803 BLOCO 3|CASTELO                  |31330290|MG |4123            |31  |87793894 |NULL|NULL     |NULL   |NULL|ANDRERICART@HOTMAIL.COM              |NULL             |NULL                  |\n",
      "|39165028 |0001      |14     |1            |NULL                              |08                |2021-02-28             |01                       |NULL                |NULL|2020-09-27           |9492800    |NULL                                                                                                                                                                                                                                                                                                                                                                                                                                                                                                                                                                                                                                                                                                                   |SITIO          |AGUDO                            |S N   |NULL             |AGUDO                    |37997000|MG |4327            |0   |NULL     |NULL|NULL     |0      |NULL|AMASCINTRA@GMAIL.COM                 |NULL             |NULL                  |\n",
      "|50380414 |0001      |61     |1            |NULL                              |02                |2023-04-19             |00                       |NULL                |NULL|2023-04-19           |9602501    |NULL                                                                                                                                                                                                                                                                                                                                                                                                                                                                                                                                                                                                                                                                                                                   |10A RUA        |RUA CARLOS AUGUSTO DE OLIVEIRA   |144   |CASA             |CENTRO                   |35780000|MG |4377            |31  |75657786 |NULL|NULL     |NULL   |NULL|THAISDINIZDELIRA@GMAIL.COM           |NULL             |NULL                  |\n",
      "|45536050 |0001      |26     |1            |ANA PAULA                         |08                |2022-05-02             |01                       |NULL                |NULL|2022-03-06           |4744001    |NULL                                                                                                                                                                                                                                                                                                                                                                                                                                                                                                                                                                                                                                                                                                                   |10A RUA        |RUA TULIPAS                      |71    |NULL             |FLAMBOYANT               |37590000|MG |4697            |11  |75328610 |NULL|NULL     |NULL   |NULL|ANNAPAULA1979@HOTMAIL.COM            |NULL             |NULL                  |\n",
      "|59826611 |0001      |36     |1            |NULL                              |02                |2025-03-10             |00                       |NULL                |NULL|2025-03-10           |4330404    |NULL                                                                                                                                                                                                                                                                                                                                                                                                                                                                                                                                                                                                                                                                                                                   |BECO           |ALMIRANTE                        |15    |NULL             |VILA NOVA GAMELEIRA II   |30510203|MG |4123            |31  |73625041 |NULL|NULL     |NULL   |NULL|ALEMAO.ANDRAD@GMAIL.COM              |NULL             |NULL                  |\n",
      "|17865475 |0001      |43     |1            |NULL                              |02                |2023-01-18             |00                       |NULL                |NULL|2013-04-03           |4754701    |4755502,3101200                                                                                                                                                                                                                                                                                                                                                                                                                                                                                                                                                                                                                                                                                                        |RUA            |G                                |50    |NULL             |SAO GERALDO II           |39407482|MG |4865            |38  |97395328 |NULL|NULL     |NULL   |NULL|aneltonoliveira70@gmail.com          |NULL             |NULL                  |\n",
      "|52271613 |0001      |67     |1            |NULL                              |02                |2023-09-21             |00                       |NULL                |NULL|2023-09-21           |6463800    |NULL                                                                                                                                                                                                                                                                                                                                                                                                                                                                                                                                                                                                                                                                                                                   |FAZENDA        |COR SAO JOAQUIM, P 01999999 PT 36|S/N   |SALA  01         |AREA RURAL               |35380000|MG |5409            |31  |38761925 |31  |38761926 |NULL   |NULL|EDSON@CIACARNE.COM.BR                |NULL             |NULL                  |\n",
      "|47499923 |0001      |01     |1            |NULL                              |02                |2022-08-10             |00                       |NULL                |NULL|2022-08-10           |4781400    |NULL                                                                                                                                                                                                                                                                                                                                                                                                                                                                                                                                                                                                                                                                                                                   |RUA            |CLAUDIONOR BRUNO DE CARVALHO     |52    |CASA 02          |SAO JOAO                 |36404072|MG |4365            |31  |80302842 |NULL|NULL     |NULL   |NULL|CRISTINNACOSTA92@GMAIL.COM           |NULL             |NULL                  |\n",
      "|58029374 |0001      |10     |1            |NULL                              |02                |2024-11-08             |00                       |NULL                |NULL|2024-11-08           |4772500    |NULL                                                                                                                                                                                                                                                                                                                                                                                                                                                                                                                                                                                                                                                                                                                   |RUA            |TENENTE XAVIER                   |36    |NULL             |CENTRO                   |39740000|MG |4559            |33  |88268746 |NULL|NULL     |NULL   |NULL|MARIA1999.SANTOSG@GMAIL.COM          |NULL             |NULL                  |\n",
      "|43563508 |0001      |00     |1            |NULL                              |02                |2021-09-17             |00                       |NULL                |NULL|2021-09-17           |5611203    |5320201                                                                                                                                                                                                                                                                                                                                                                                                                                                                                                                                                                                                                                                                                                                |RUA            |ANTONIO MANTOVANI                |315   |NULL             |NOSSA SENHORA APARECIDA  |37417362|MG |5385            |35  |88952346 |NULL|NULL     |NULL   |NULL|ACACIOS.BURGER@GMAIL.COM             |NULL             |NULL                  |\n",
      "|50380458 |0001      |91     |1            |BOM JESUS CONSULTORIO ODONTOLOGICO|08                |2025-05-08             |01                       |NULL                |NULL|2023-04-19           |8630504    |NULL                                                                                                                                                                                                                                                                                                                                                                                                                                                                                                                                                                                                                                                                                                                   |RUA            |ANTONIO LEAO                     |63    |NULL             |CENTRO                   |39240000|MG |4727            |31  |98228584 |NULL|NULL     |NULL   |NULL|TAVARESERIKACOSMETICOS@OUTLOOK.COM   |NULL             |NULL                  |\n",
      "|45536060 |0001      |61     |1            |NULL                              |02                |2022-03-06             |00                       |NULL                |NULL|2022-03-06           |4330404    |NULL                                                                                                                                                                                                                                                                                                                                                                                                                                                                                                                                                                                                                                                                                                                   |BECO           |PAULO AUGUSTO                    |55    |CASA             |VILA BARRAGEM SANTA LUCIA|30335308|MG |4123            |31  |99165548 |NULL|NULL     |NULL   |NULL|CELIO45@BOL.COM.BR                   |NULL             |NULL                  |\n",
      "|59826631 |0001      |07     |1            |IMPERIO DOS LANCHES E PASTEIS     |02                |2025-03-10             |00                       |NULL                |NULL|2025-03-10           |5612100    |5611203,5620104                                                                                                                                                                                                                                                                                                                                                                                                                                                                                                                                                                                                                                                                                                        |RUA            |PEDRO JOSE SAMORA                |1403  |NULL             |SANTA MONICA             |38408224|MG |5403            |34  |96966286 |NULL|NULL     |NULL   |NULL|VINICIUSCONTABIL2505@GMAIL.COM       |NULL             |NULL                  |\n",
      "+---------+----------+-------+-------------+----------------------------------+------------------+-----------------------+-------------------------+--------------------+----+---------------------+-----------+-----------------------------------------------------------------------------------------------------------------------------------------------------------------------------------------------------------------------------------------------------------------------------------------------------------------------------------------------------------------------------------------------------------------------------------------------------------------------------------------------------------------------------------------------------------------------------------------------------------------------------------------------------------------------------------------------------------------------+---------------+---------------------------------+------+-----------------+-------------------------+--------+---+----------------+----+---------+----+---------+-------+----+-------------------------------------+-----------------+----------------------+\n",
      "only showing top 20 rows\n"
     ]
    }
   ],
   "source": [
    "try:\n",
    "    # df_estabelecimentos_trusted.filter(\n",
    "    #     (df_estabelecimentos_trusted[\"nome_fantasia\"] == \"IGREJA UNIVERSAL DO REINO DE DEUS\")\n",
    "    #     ).show(truncate=False)\n",
    "\n",
    "    # Filtrar por CNPJ\n",
    "    # df_estabelecimentos_trusted.filter(\n",
    "    #     (f.col(\"cnpj_base\") == \"29744778\")\n",
    "    #     & (f.col(\"cnpj_ordem\") == \"4750\")\n",
    "    #     & (f.col(\"cnpj_dv\") == \"39\")\n",
    "    # ).show(truncate=False)\n",
    "\n",
    "    # Filtrar por tamanho\n",
    "    df_estabelecimentos_trs.filter(f.length(df_estabelecimentos_trs[\"cnae_fiscal\"]) != 7).show(truncate=False)\n",
    "\n",
    "    # Mostrar tudo sem filtro\n",
    "    df_estabelecimentos_trs.show(truncate=False)\n",
    "except Exception as e:\n",
    "    print(f\"Erro: {e}\")"
   ]
  },
  {
   "cell_type": "code",
   "execution_count": 75,
   "id": "eb2337a1",
   "metadata": {},
   "outputs": [
    {
     "name": "stderr",
     "output_type": "stream",
     "text": [
      "                                                                                \r"
     ]
    },
    {
     "name": "stdout",
     "output_type": "stream",
     "text": [
      "+--------------+---------+----------+-------+-------------+---------------------------------------+------------------+-----------------------+-------------------------+--------------------+-----------+---------------------+-----------+----------------------+---------------+---------------------------------------+------+------------------+----------------+--------+---+----------------+----+---------+----+---------+-------+----+-----+-----------------+----------------------+\n",
      "|cnpj_completo |cnpj_base|cnpj_ordem|cnpj_dv|matriz_filial|nome_fantasia                          |situacao_cadastral|data_situacao_cadastral|motivo_situacao_cadastral|nome_cidade_exterior|codigo_pais|data_inicio_atividade|cnae_fiscal|cnae_fiscal_secundaria|tipo_logradouro|logradouro                             |numero|complemento       |bairro          |cep     |uf |codigo_municipio|ddd1|telefone1|ddd2|telefone2|ddd_fax|fax |email|situacao_especial|data_situacao_especial|\n",
      "+--------------+---------+----------+-------+-------------+---------------------------------------+------------------+-----------------------+-------------------------+--------------------+-----------+---------------------+-----------+----------------------+---------------+---------------------------------------+------+------------------+----------------+--------+---+----------------+----+---------+----+---------+-------+----+-----+-----------------+----------------------+\n",
      "|06742437000187|06742437 |0001      |87     |1            |NULL                                   |08                |2004-12-31             |01                       |NULL                |NULL       |2004-07-22           |9492800    |NULL                  |QUADRA         |510 CJ 27 CS 06                        |6     |NULL              |RECANTO DAS EMAS|70002900|DF |9701            |NULL|NULL     |NULL|NULL     |NULL   |NULL|NULL |NULL             |NULL                  |\n",
      "|07387399000154|07387399 |0001      |54     |1            |NULL                                   |08                |2009-04-29             |54                       |NULL                |NULL       |2005-05-09           |5611201    |NULL                  |NULL           |SHCS CL QDA 405 BL A                   |S/N   |LJ 04             |ASA SUL         |70239510|DF |9701            |NULL|NULL     |NULL|NULL     |NULL   |NULL|NULL |NULL             |NULL                  |\n",
      "|06759177000152|06759177 |0001      |52     |1            |NULL                                   |08                |2004-12-31             |01                       |NULL                |NULL       |2004-07-23           |9492800    |NULL                  |NULL           |CNB 06                                 |LT. 14|AP. 101           |TAGUATINGA NORTE|72115065|DF |9701            |NULL|NULL     |NULL|NULL     |NULL   |NULL|NULL |NULL             |NULL                  |\n",
      "|07387446000160|07387446 |0001      |60     |1            |CCR-CONSULTORIA,COMUNICACAO E RESULTADO|08                |2020-07-13             |01                       |NULL                |NULL       |2005-05-09           |8299799    |4617600,7410299       |NULL           |SMPW/SUL QD.16 CONJ. 03 LT 01 UNIDADE D|S/N   |NUCLEO BANDEIRANTE|BRASILIA        |71741603|DF |9701            |NULL|NULL     |NULL|NULL     |NULL   |NULL|NULL |NULL             |NULL                  |\n",
      "|06767012000122|06767012 |0001      |22     |1            |NULL                                   |08                |2004-12-31             |01                       |NULL                |NULL       |2004-07-23           |9492800    |NULL                  |NULL           |AC BRAZLANDIA                          |SN    |NULL              |BRAZLANDIA      |72701970|DF |9701            |NULL|NULL     |NULL|NULL     |NULL   |NULL|NULL |NULL             |NULL                  |\n",
      "+--------------+---------+----------+-------+-------------+---------------------------------------+------------------+-----------------------+-------------------------+--------------------+-----------+---------------------+-----------+----------------------+---------------+---------------------------------------+------+------------------+----------------+--------+---+----------------+----+---------+----+---------+-------+----+-----+-----------------+----------------------+\n",
      "only showing top 5 rows\n",
      "root\n",
      " |-- cnpj_completo: string (nullable = true)\n",
      " |-- cnpj_base: string (nullable = true)\n",
      " |-- cnpj_ordem: string (nullable = true)\n",
      " |-- cnpj_dv: string (nullable = true)\n",
      " |-- matriz_filial: string (nullable = true)\n",
      " |-- nome_fantasia: string (nullable = true)\n",
      " |-- situacao_cadastral: string (nullable = true)\n",
      " |-- data_situacao_cadastral: date (nullable = true)\n",
      " |-- motivo_situacao_cadastral: string (nullable = true)\n",
      " |-- nome_cidade_exterior: string (nullable = true)\n",
      " |-- codigo_pais: string (nullable = true)\n",
      " |-- data_inicio_atividade: date (nullable = true)\n",
      " |-- cnae_fiscal: string (nullable = true)\n",
      " |-- cnae_fiscal_secundaria: string (nullable = true)\n",
      " |-- tipo_logradouro: string (nullable = true)\n",
      " |-- logradouro: string (nullable = true)\n",
      " |-- numero: string (nullable = true)\n",
      " |-- complemento: string (nullable = true)\n",
      " |-- bairro: string (nullable = true)\n",
      " |-- cep: string (nullable = true)\n",
      " |-- uf: string (nullable = true)\n",
      " |-- codigo_municipio: string (nullable = true)\n",
      " |-- ddd1: string (nullable = true)\n",
      " |-- telefone1: string (nullable = true)\n",
      " |-- ddd2: string (nullable = true)\n",
      " |-- telefone2: string (nullable = true)\n",
      " |-- ddd_fax: string (nullable = true)\n",
      " |-- fax: string (nullable = true)\n",
      " |-- email: string (nullable = true)\n",
      " |-- situacao_especial: string (nullable = true)\n",
      " |-- data_situacao_especial: date (nullable = true)\n",
      "\n"
     ]
    }
   ],
   "source": [
    "try:\n",
    "    df_estabelecimentos_trs = df_estabelecimentos_trs.withColumnRenamed(\"pais\", \"codigo_pais\")\n",
    "    df_estabelecimentos_trs.show(5, truncate=False)\n",
    "    df_estabelecimentos_trs.printSchema()\n",
    "except Exception as e:\n",
    "    print(f\"Erro: {e}\")"
   ]
  },
  {
   "cell_type": "code",
   "execution_count": 76,
   "id": "e17d8462",
   "metadata": {},
   "outputs": [
    {
     "name": "stderr",
     "output_type": "stream",
     "text": [
      "                                                                                \r"
     ]
    }
   ],
   "source": [
    "# Atualizar dados do delta\n",
    "try:\n",
    "    df_estabelecimentos_trs.write.format(\"delta\") \\\n",
    "        .mode(\"overwrite\") \\\n",
    "        .option(\"overwriteSchema\", \"true\") \\\n",
    "        .partitionBy(\"uf\") \\\n",
    "        .save(\"../TRS/estabelecimentos\")\n",
    "except Exception as e:\n",
    "    print(f\"Erro: {e}\")"
   ]
  },
  {
   "cell_type": "markdown",
   "id": "5caff2f2",
   "metadata": {},
   "source": [
    "## TRUSTED - Sócios"
   ]
  },
  {
   "cell_type": "markdown",
   "id": "481ed47b",
   "metadata": {},
   "source": [
    "### Etapa 1: Leitura da Camada RAW"
   ]
  },
  {
   "cell_type": "code",
   "execution_count": 4,
   "id": "1981c703",
   "metadata": {},
   "outputs": [
    {
     "name": "stderr",
     "output_type": "stream",
     "text": [
      "25/07/18 20:34:04 WARN SparkStringUtils: Truncated the string representation of a plan since it was too large. This behavior can be adjusted by setting 'spark.sql.debug.maxToStringFields'.\n",
      "[Stage 8:>                                                          (0 + 1) / 1]\r"
     ]
    },
    {
     "name": "stdout",
     "output_type": "stream",
     "text": [
      "+-----------+-------------------+------------------------------------+--------------+-------------------------+----------------------+----+-------------------+------------------+---------------------------------+------------+\n",
      "|cnpj_basico|identificador_socio|nome_socio_razao_social             |cnpj_cpf_socio|codigo_qualificacao_socio|data_entrada_sociedade|pais|representante_legal|nome_representante|codigo_qualificacao_representante|faixa_etaria|\n",
      "+-----------+-------------------+------------------------------------+--------------+-------------------------+----------------------+----+-------------------+------------------+---------------------------------+------------+\n",
      "|15508939   |2                  |LUIZ FERNANDO RODRIGUES DE SALES    |***784978**   |49                       |20120423              |NULL|***000000**        |NULL              |00                               |5           |\n",
      "|15508939   |2                  |LUIZ GONZAGA RODRIGUES DE SALES     |***555608**   |49                       |20120423              |NULL|***000000**        |NULL              |00                               |8           |\n",
      "|15508983   |2                  |ALAN PITTA POLIDO                   |***348448**   |49                       |20120507              |NULL|***000000**        |NULL              |00                               |6           |\n",
      "|15509024   |2                  |LUCIA DE OLIVEIRA MOREIRA           |***979858**   |49                       |20120507              |NULL|***000000**        |NULL              |00                               |5           |\n",
      "|15509024   |2                  |MARIA DE OLIVEIRA BARBOZA           |***849928**   |22                       |20120808              |NULL|***000000**        |NULL              |00                               |8           |\n",
      "|15509111   |2                  |DORIVAL ROSSATO                     |***951021**   |49                       |20120507              |NULL|***000000**        |NULL              |00                               |8           |\n",
      "|15509111   |2                  |DORIVAL ROSSATO JUNIOR              |***286298**   |49                       |20120507              |NULL|***000000**        |NULL              |00                               |5           |\n",
      "|15509242   |2                  |PAULO RICARDO DOS SANTOS TUBINO     |***698480**   |49                       |20120416              |NULL|***000000**        |NULL              |00                               |7           |\n",
      "|15509242   |2                  |PAULO RICARDO ASMUZ TUBINO          |***542540**   |22                       |20120416              |NULL|***000000**        |NULL              |00                               |4           |\n",
      "|15509352   |2                  |JOSE ANTONIO ROCHA                  |***568448**   |59                       |20120510              |NULL|***000000**        |NULL              |00                               |8           |\n",
      "|15509352   |2                  |DANIEL GARCIA ROCHA                 |***902538**   |59                       |20120510              |NULL|***000000**        |NULL              |00                               |5           |\n",
      "|15509414   |2                  |MAURI APARECIDO MENDES              |***523201**   |49                       |20120508              |NULL|***000000**        |NULL              |00                               |7           |\n",
      "|15509414   |2                  |MARCIA REGINA MENDES                |***235311**   |49                       |20130517              |NULL|***000000**        |NULL              |00                               |7           |\n",
      "|09236196   |2                  |JOSE OSMAR CORDEIRO                 |***652969**   |49                       |20071205              |NULL|***000000**        |NULL              |00                               |7           |\n",
      "|15509489   |2                  |HEBERT SPINDOLA DE OLIVEIRA FERREIRA|***819601**   |49                       |20240523              |NULL|***000000**        |NULL              |00                               |4           |\n",
      "|15509513   |2                  |FABIANO CARLOS DA SILVA             |***888131**   |49                       |20120510              |NULL|***000000**        |NULL              |00                               |4           |\n",
      "|15509538   |2                  |CARLOS ELISIO STAHELIN              |***420659**   |49                       |20120510              |NULL|***000000**        |NULL              |00                               |6           |\n",
      "|15509538   |2                  |GUILHERME STAHELIN COELHO           |***239369**   |49                       |20121113              |NULL|***000000**        |NULL              |00                               |5           |\n",
      "|15509548   |2                  |LUCIANA CARDOZO CERATO              |***256228**   |49                       |20120503              |NULL|***000000**        |NULL              |00                               |4           |\n",
      "|15509575   |2                  |DONIZETE APARECIDO AURIGLIETTI      |***032048**   |59                       |20120510              |NULL|***000000**        |NULL              |00                               |6           |\n",
      "+-----------+-------------------+------------------------------------+--------------+-------------------------+----------------------+----+-------------------+------------------+---------------------------------+------------+\n",
      "only showing top 20 rows\n",
      "root\n",
      " |-- cnpj_basico: string (nullable = true)\n",
      " |-- identificador_socio: string (nullable = true)\n",
      " |-- nome_socio_razao_social: string (nullable = true)\n",
      " |-- cnpj_cpf_socio: string (nullable = true)\n",
      " |-- codigo_qualificacao_socio: string (nullable = true)\n",
      " |-- data_entrada_sociedade: string (nullable = true)\n",
      " |-- pais: string (nullable = true)\n",
      " |-- representante_legal: string (nullable = true)\n",
      " |-- nome_representante: string (nullable = true)\n",
      " |-- codigo_qualificacao_representante: string (nullable = true)\n",
      " |-- faixa_etaria: string (nullable = true)\n",
      "\n"
     ]
    },
    {
     "name": "stderr",
     "output_type": "stream",
     "text": [
      "                                                                                \r"
     ]
    }
   ],
   "source": [
    "try:\n",
    "    deltaTable_socios_raw: DeltaTable = DeltaTable.forPath(spark, \"../RAW/socios\")\n",
    "    df_socios_raw: DataFrame = deltaTable_socios_raw.toDF()\n",
    "    df_socios_raw.show(truncate=False)\n",
    "    df_socios_raw.printSchema()\n",
    "except Exception as e:\n",
    "    print(f\"Erro na leitura: {e}\")"
   ]
  },
  {
   "cell_type": "markdown",
   "id": "189835a0",
   "metadata": {},
   "source": [
    "### Etapa 2: Transformação dos dados"
   ]
  },
  {
   "cell_type": "code",
   "execution_count": 5,
   "id": "d84c81f7",
   "metadata": {},
   "outputs": [
    {
     "name": "stderr",
     "output_type": "stream",
     "text": [
      "                                                                                \r"
     ]
    },
    {
     "name": "stdout",
     "output_type": "stream",
     "text": [
      "+-----------+-------------------+-----------------------+--------------+-------------------------+----------------------+----+-------------------+------------------+---------------------------------+------------+\n",
      "|cnpj_basico|identificador_socio|nome_socio_razao_social|cnpj_cpf_socio|codigo_qualificacao_socio|data_entrada_sociedade|pais|representante_legal|nome_representante|codigo_qualificacao_representante|faixa_etaria|\n",
      "+-----------+-------------------+-----------------------+--------------+-------------------------+----------------------+----+-------------------+------------------+---------------------------------+------------+\n",
      "+-----------+-------------------+-----------------------+--------------+-------------------------+----------------------+----+-------------------+------------------+---------------------------------+------------+\n",
      "\n"
     ]
    }
   ],
   "source": [
    "try:\n",
    "    # Verificar se existe divergencia no tamanho das datas\n",
    "    df_socios_raw.filter(f.length(df_socios_raw[\"data_entrada_sociedade\"]) != 8).show()\n",
    "except Exception as e:\n",
    "    print(f\"Erro: {e}\")"
   ]
  },
  {
   "cell_type": "code",
   "execution_count": 10,
   "id": "d51c4873",
   "metadata": {},
   "outputs": [
    {
     "name": "stdout",
     "output_type": "stream",
     "text": [
      "+-----------+-------------------+------------------------------------+--------------+-------------------------+----------------------+----+-------------------+------------------+---------------------------------+------------+\n",
      "|cnpj_basico|identificador_socio|nome_socio_razao_social             |cnpj_cpf_socio|codigo_qualificacao_socio|data_entrada_sociedade|pais|representante_legal|nome_representante|codigo_qualificacao_representante|faixa_etaria|\n",
      "+-----------+-------------------+------------------------------------+--------------+-------------------------+----------------------+----+-------------------+------------------+---------------------------------+------------+\n",
      "|15508939   |2                  |LUIZ FERNANDO RODRIGUES DE SALES    |***784978**   |49                       |2012-04-23            |NULL|***000000**        |NULL              |00                               |5           |\n",
      "|15508939   |2                  |LUIZ GONZAGA RODRIGUES DE SALES     |***555608**   |49                       |2012-04-23            |NULL|***000000**        |NULL              |00                               |8           |\n",
      "|15508983   |2                  |ALAN PITTA POLIDO                   |***348448**   |49                       |2012-05-07            |NULL|***000000**        |NULL              |00                               |6           |\n",
      "|15509024   |2                  |LUCIA DE OLIVEIRA MOREIRA           |***979858**   |49                       |2012-05-07            |NULL|***000000**        |NULL              |00                               |5           |\n",
      "|15509024   |2                  |MARIA DE OLIVEIRA BARBOZA           |***849928**   |22                       |2012-08-08            |NULL|***000000**        |NULL              |00                               |8           |\n",
      "|15509111   |2                  |DORIVAL ROSSATO                     |***951021**   |49                       |2012-05-07            |NULL|***000000**        |NULL              |00                               |8           |\n",
      "|15509111   |2                  |DORIVAL ROSSATO JUNIOR              |***286298**   |49                       |2012-05-07            |NULL|***000000**        |NULL              |00                               |5           |\n",
      "|15509242   |2                  |PAULO RICARDO DOS SANTOS TUBINO     |***698480**   |49                       |2012-04-16            |NULL|***000000**        |NULL              |00                               |7           |\n",
      "|15509242   |2                  |PAULO RICARDO ASMUZ TUBINO          |***542540**   |22                       |2012-04-16            |NULL|***000000**        |NULL              |00                               |4           |\n",
      "|15509352   |2                  |JOSE ANTONIO ROCHA                  |***568448**   |59                       |2012-05-10            |NULL|***000000**        |NULL              |00                               |8           |\n",
      "|15509352   |2                  |DANIEL GARCIA ROCHA                 |***902538**   |59                       |2012-05-10            |NULL|***000000**        |NULL              |00                               |5           |\n",
      "|15509414   |2                  |MAURI APARECIDO MENDES              |***523201**   |49                       |2012-05-08            |NULL|***000000**        |NULL              |00                               |7           |\n",
      "|15509414   |2                  |MARCIA REGINA MENDES                |***235311**   |49                       |2013-05-17            |NULL|***000000**        |NULL              |00                               |7           |\n",
      "|09236196   |2                  |JOSE OSMAR CORDEIRO                 |***652969**   |49                       |2007-12-05            |NULL|***000000**        |NULL              |00                               |7           |\n",
      "|15509489   |2                  |HEBERT SPINDOLA DE OLIVEIRA FERREIRA|***819601**   |49                       |2024-05-23            |NULL|***000000**        |NULL              |00                               |4           |\n",
      "|15509513   |2                  |FABIANO CARLOS DA SILVA             |***888131**   |49                       |2012-05-10            |NULL|***000000**        |NULL              |00                               |4           |\n",
      "|15509538   |2                  |CARLOS ELISIO STAHELIN              |***420659**   |49                       |2012-05-10            |NULL|***000000**        |NULL              |00                               |6           |\n",
      "|15509538   |2                  |GUILHERME STAHELIN COELHO           |***239369**   |49                       |2012-11-13            |NULL|***000000**        |NULL              |00                               |5           |\n",
      "|15509548   |2                  |LUCIANA CARDOZO CERATO              |***256228**   |49                       |2012-05-03            |NULL|***000000**        |NULL              |00                               |4           |\n",
      "|15509575   |2                  |DONIZETE APARECIDO AURIGLIETTI      |***032048**   |59                       |2012-05-10            |NULL|***000000**        |NULL              |00                               |6           |\n",
      "+-----------+-------------------+------------------------------------+--------------+-------------------------+----------------------+----+-------------------+------------------+---------------------------------+------------+\n",
      "only showing top 20 rows\n",
      "2019150\n"
     ]
    }
   ],
   "source": [
    "try:\n",
    "    df_socios_raw = df_socios_raw.withColumn(\n",
    "        \"data_entrada_sociedade\",\n",
    "        f.to_date(df_socios_raw[\"data_entrada_sociedade\"], \"yyyyMMdd\")\n",
    "    )\n",
    "    df_socios_raw.show(truncate=False)\n",
    "    print(df_socios_raw.select(\"cnpj_basico\").count())\n",
    "except Exception as e:\n",
    "    print(f\"Erro: {e}\")"
   ]
  },
  {
   "cell_type": "markdown",
   "id": "be9647c2",
   "metadata": {},
   "source": [
    "### Etapa 3: Escrita na Camada Trusted"
   ]
  },
  {
   "cell_type": "code",
   "execution_count": 7,
   "id": "5d5fcec5",
   "metadata": {},
   "outputs": [
    {
     "name": "stderr",
     "output_type": "stream",
     "text": [
      "                                                                                \r"
     ]
    },
    {
     "name": "stdout",
     "output_type": "stream",
     "text": [
      "Escrito com sucesso!\n"
     ]
    }
   ],
   "source": [
    "try:\n",
    "    df_socios_raw.write.format(\"delta\") \\\n",
    "        .mode(\"overwrite\") \\\n",
    "        .save(\"../TRS/socios\")\n",
    "    print(\"Escrito com sucesso!\")\n",
    "except Exception as e:\n",
    "    print(f\"Erro na escrita: {e}\")"
   ]
  },
  {
   "cell_type": "markdown",
   "id": "282ef8c9",
   "metadata": {},
   "source": [
    "### Etapa 4: Ajuste e Validação"
   ]
  },
  {
   "cell_type": "code",
   "execution_count": 37,
   "id": "37ac677e",
   "metadata": {},
   "outputs": [
    {
     "name": "stdout",
     "output_type": "stream",
     "text": [
      "+-----------+-------------------+---------------------------------+--------------+-------------------------+----------------------+-----------+----------------------------+------------------+---------------------------------+------------+\n",
      "|cnpj_basico|identificador_socio|nome_socio_razao_social          |cnpj_cpf_socio|codigo_qualificacao_socio|data_entrada_sociedade|codigo_pais|cnpj_cpf_representante_legal|nome_representante|codigo_qualificacao_representante|faixa_etaria|\n",
      "+-----------+-------------------+---------------------------------+--------------+-------------------------+----------------------+-----------+----------------------------+------------------+---------------------------------+------------+\n",
      "|03123458   |2                  |JOSE CERQUEIRA COSTA             |***445205**   |49                       |1999-04-30            |NULL       |***000000**                 |NULL              |00                               |6           |\n",
      "|03123458   |2                  |BONIFACIO DAMASCENO ASSUNCAO     |***533575**   |22                       |1999-04-30            |NULL       |***000000**                 |NULL              |00                               |7           |\n",
      "|07082009   |2                  |ALEX EMERSON CORREIA DA SILVA    |***080017**   |49                       |2018-10-09            |NULL       |***000000**                 |NULL              |00                               |6           |\n",
      "|07082009   |2                  |JORCELIO SILVA DE SOUZA          |***571817**   |22                       |2018-10-09            |NULL       |***000000**                 |NULL              |00                               |5           |\n",
      "|04903751   |2                  |LUIZ ALBERTO CIMINO              |***858638**   |49                       |2004-12-08            |NULL       |***000000**                 |NULL              |00                               |8           |\n",
      "|04903751   |2                  |CRISTIANE CHINELLI IGNATOVITCH   |***448978**   |49                       |2012-10-01            |NULL       |***000000**                 |NULL              |00                               |5           |\n",
      "|07082014   |2                  |FATIMA CRISTINA TOMASELLI POLEZEL|***231958**   |49                       |2004-11-12            |NULL       |***000000**                 |NULL              |00                               |7           |\n",
      "|07082014   |2                  |CARLOS ALEXANDRE POLEZEL         |***667568**   |22                       |2004-11-12            |NULL       |***000000**                 |NULL              |00                               |5           |\n",
      "|04903755   |2                  |LOERI MARIA PALUDO ALBERTON      |***583339**   |49                       |2002-02-18            |NULL       |***000000**                 |NULL              |00                               |8           |\n",
      "|04903755   |2                  |ZENI FERMINO ALBERTON            |***529639**   |22                       |2002-02-18            |NULL       |***000000**                 |NULL              |00                               |8           |\n",
      "|07082017   |2                  |LUISA DE ARGOLO TINOCO           |***637686**   |49                       |2004-11-04            |NULL       |***000000**                 |NULL              |00                               |5           |\n",
      "|07082017   |2                  |CAROLINA ARGOLO PALESTINO DE MELO|***932056**   |49                       |2004-11-04            |NULL       |***000000**                 |NULL              |00                               |5           |\n",
      "|03123474   |2                  |NELSON FERNANDES DA SILVA        |***620819**   |49                       |2002-01-16            |NULL       |***000000**                 |NULL              |00                               |6           |\n",
      "|03123474   |2                  |SIRLENE ALVES DA SILVA           |***729339**   |22                       |2002-01-16            |NULL       |***000000**                 |NULL              |00                               |6           |\n",
      "|03123474   |2                  |RAFAELA FERNANDES DA SILVA       |***094249**   |22                       |2020-10-21            |NULL       |***000000**                 |NULL              |00                               |4           |\n",
      "|03123475   |2                  |FABIANE MACHADO BERTOGLIO        |***351665**   |49                       |1999-04-23            |NULL       |***000000**                 |NULL              |00                               |6           |\n",
      "|03123475   |2                  |MARCELO DA SILVA SAMPAIO         |***955715**   |22                       |1999-04-23            |NULL       |***000000**                 |NULL              |00                               |6           |\n",
      "|03123481   |2                  |ARAI COSTA                       |***277699**   |16                       |2005-09-12            |NULL       |***000000**                 |NULL              |00                               |7           |\n",
      "|59548065   |2                  |LUIZ GUEDES DE SOUZA FILHO       |***141848**   |49                       |1988-10-13            |NULL       |***000000**                 |NULL              |00                               |7           |\n",
      "|59548065   |2                  |MILTON JUSTI                     |***487648**   |22                       |1988-10-13            |NULL       |***000000**                 |NULL              |00                               |9           |\n",
      "+-----------+-------------------+---------------------------------+--------------+-------------------------+----------------------+-----------+----------------------------+------------------+---------------------------------+------------+\n",
      "only showing top 20 rows\n",
      "root\n",
      " |-- cnpj_basico: string (nullable = true)\n",
      " |-- identificador_socio: string (nullable = true)\n",
      " |-- nome_socio_razao_social: string (nullable = true)\n",
      " |-- cnpj_cpf_socio: string (nullable = true)\n",
      " |-- codigo_qualificacao_socio: string (nullable = true)\n",
      " |-- data_entrada_sociedade: date (nullable = true)\n",
      " |-- codigo_pais: string (nullable = true)\n",
      " |-- cnpj_cpf_representante_legal: string (nullable = true)\n",
      " |-- nome_representante: string (nullable = true)\n",
      " |-- codigo_qualificacao_representante: string (nullable = true)\n",
      " |-- faixa_etaria: string (nullable = true)\n",
      "\n"
     ]
    }
   ],
   "source": [
    "# confirmar como esta o delta no TRS\n",
    "try:\n",
    "    deltaTable_socios_trusted: DeltaTable = DeltaTable.forPath(spark, \"../TRS/socios\")\n",
    "    df_socios_trusted = deltaTable_socios_trusted.toDF()\n",
    "    df_socios_trusted.show(truncate=False)\n",
    "    df_socios_trusted.printSchema()\n",
    "except Exception as e:\n",
    "    print(f\"Erro na leitura: {e}\")"
   ]
  },
  {
   "cell_type": "code",
   "execution_count": null,
   "id": "5d1a3133",
   "metadata": {},
   "outputs": [
    {
     "name": "stdout",
     "output_type": "stream",
     "text": [
      "+-----------+-------------------+-----------------------+--------------+-------------------------+----------------------+-----------+----------------------------+------------------+---------------------------------+------------+\n",
      "|cnpj_basico|identificador_socio|nome_socio_razao_social|cnpj_cpf_socio|codigo_qualificacao_socio|data_entrada_sociedade|codigo_pais|cnpj_cpf_representante_legal|nome_representante|codigo_qualificacao_representante|faixa_etaria|\n",
      "+-----------+-------------------+-----------------------+--------------+-------------------------+----------------------+-----------+----------------------------+------------------+---------------------------------+------------+\n",
      "|   11441915|                  2|   MARCOS ANTONIO LOPES|   ***563218**|                       49|            2009-12-28|       NULL|                 ***000000**|              NULL|                               00|           6|\n",
      "|   11442021|                  2|   PAULO ROBERTO ALV...|   ***162865**|                       49|            2009-12-24|       NULL|                 ***000000**|              NULL|                               00|           6|\n",
      "|   11442021|                  2|   JOANA SENA TRINCH...|   ***471585**|                       22|            2011-07-21|       NULL|                 ***000000**|              NULL|                               00|           4|\n",
      "|   11442032|                  2|   REGINALDO SERAFIM...|   ***082841**|                       49|            2018-09-14|       NULL|                 ***000000**|              NULL|                               00|           6|\n",
      "|   11442085|                  2|   LAERCIO ANTONIO F...|   ***292276**|                       22|            2014-10-06|       NULL|                 ***000000**|              NULL|                               00|           8|\n",
      "|   11442085|                  2|   ANGELO ROBERTO FE...|   ***597546**|                       49|            2016-09-19|       NULL|                 ***000000**|              NULL|                               00|           7|\n",
      "|   11442141|                  2|   ELMANO FERRER DE ...|   ***425933**|                       22|            2009-12-18|       NULL|                 ***000000**|              NULL|                               00|           5|\n",
      "|   11442141|                  2|   DANIELA MOURA PAR...|   ***630003**|                       49|            2014-10-23|       NULL|                 ***000000**|              NULL|                               00|           5|\n",
      "|   08579080|                  2|   PAULO SERGIO FERR...|   ***971398**|                       49|            2007-01-03|       NULL|                 ***000000**|              NULL|                               00|           6|\n",
      "|   08579080|                  2|   ADRIANA APARECIDA...|   ***460928**|                       49|            2015-01-30|       NULL|                 ***000000**|              NULL|                               00|           6|\n",
      "|   11442255|                  2|   EUDEMIS SOARES RO...|   ***380516**|                       49|            2018-05-11|       NULL|                 ***000000**|              NULL|                               00|           6|\n",
      "|   11442330|                  2|    ALEX NOGUEIRA SOUSA|   ***083038**|                       49|            2009-12-30|       NULL|                 ***000000**|              NULL|                               00|           4|\n",
      "|   11442359|                  2|   KENNEDY MONTEIRO ...|   ***194131**|                       49|            2010-01-06|       NULL|                 ***000000**|              NULL|                               00|           5|\n",
      "|   11442359|                  2|   WANDERSON NOGUEIR...|   ***604761**|                       22|            2010-01-06|       NULL|                 ***000000**|              NULL|                               00|           4|\n",
      "|   11442388|                  2|   SERGIO AMORIM CAS...|   ***195113**|                       49|            2009-12-17|       NULL|                 ***000000**|              NULL|                               00|           7|\n",
      "|   11442388|                  2|   MAGNA MARIA MOTA ...|   ***832703**|                       22|            2009-12-17|       NULL|                 ***000000**|              NULL|                               00|           5|\n",
      "|   11442398|                  2|   LUCIANA FERREIRA ...|   ***200586**|                       49|            2010-01-06|       NULL|                 ***000000**|              NULL|                               00|           5|\n",
      "|   11442398|                  2|   ROBERTO AUGUSTO D...|   ***282476**|                       22|            2010-01-06|       NULL|                 ***000000**|              NULL|                               00|           6|\n",
      "|   11442413|                  2|     IDALMO JOSE MORAIS|   ***607316**|                       49|            2010-01-06|       NULL|                 ***000000**|              NULL|                               00|           7|\n",
      "|   11442483|                  2|   DALVANILSON JOSE ...|   ***674254**|                       49|            2010-01-06|       NULL|                 ***000000**|              NULL|                               00|           7|\n",
      "+-----------+-------------------+-----------------------+--------------+-------------------------+----------------------+-----------+----------------------------+------------------+---------------------------------+------------+\n",
      "only showing top 20 rows\n"
     ]
    }
   ],
   "source": [
    "# Ajuste no nome das colunas\n",
    "df_socios_trusted = df_socios_trusted.withColumnRenamed(\n",
    "    \"pais\",\n",
    "    \"codigo_pais\"\n",
    ").withColumnRenamed(\n",
    "    \"representante_legal\",\n",
    "    \"cnpj_cpf_representante_legal\"\n",
    ")\n",
    "\n",
    "df_socios_trusted.show()"
   ]
  },
  {
   "cell_type": "code",
   "execution_count": null,
   "id": "873fe5c6",
   "metadata": {},
   "outputs": [
    {
     "name": "stderr",
     "output_type": "stream",
     "text": [
      "[Stage 52:>                                                       (0 + 12) / 12]\r"
     ]
    },
    {
     "name": "stdout",
     "output_type": "stream",
     "text": [
      "+-----------+-------------------+-----------------------+--------------+-------------------------+----------------------+-------+-------------------+------------------+---------------------------------+------------+\n",
      "|cnpj_basico|identificador_socio|nome_socio_razao_social|cnpj_cpf_socio|codigo_qualificacao_socio|data_entrada_sociedade|   pais|representante_legal|nome_representante|codigo_qualificacao_representante|faixa_etaria|\n",
      "+-----------+-------------------+-----------------------+--------------+-------------------------+----------------------+-------+-------------------+------------------+---------------------------------+------------+\n",
      "|          0|                  0|                    173|          1164|                        0|                     0|2012151|                  0|           1969517|                                0|           0|\n",
      "+-----------+-------------------+-----------------------+--------------+-------------------------+----------------------+-------+-------------------+------------------+---------------------------------+------------+\n",
      "\n"
     ]
    },
    {
     "name": "stderr",
     "output_type": "stream",
     "text": [
      "                                                                                \r"
     ]
    }
   ],
   "source": [
    "# Verificar quantidade de nulos\n",
    "try:\n",
    "    df_socios_trusted.select([\n",
    "        f.sum(f.col(c).isNull().cast(\"int\")).alias(c)\n",
    "        for c in df_socios_raw.columns\n",
    "    ]).show()\n",
    "except Exception as e:\n",
    "    print(f\"Erro: {e}\")"
   ]
  },
  {
   "cell_type": "code",
   "execution_count": 35,
   "id": "e627b509",
   "metadata": {},
   "outputs": [
    {
     "name": "stderr",
     "output_type": "stream",
     "text": [
      "                                                                                \r"
     ]
    }
   ],
   "source": [
    "# Atualizar dados do delta\n",
    "try:\n",
    "    df_socios_trusted.write.format(\"delta\") \\\n",
    "        .mode(\"overwrite\") \\\n",
    "        .option(\"overwriteSchema\", \"true\") \\\n",
    "        .save(\"../TRS/socios\")\n",
    "except Exception as e:\n",
    "    print(f\"Erro: {e}\")"
   ]
  },
  {
   "cell_type": "markdown",
   "id": "703393a2",
   "metadata": {},
   "source": []
  },
  {
   "cell_type": "markdown",
   "id": "5b443d65",
   "metadata": {},
   "source": [
    "## TRUSTED - Simples Nacional"
   ]
  },
  {
   "cell_type": "markdown",
   "id": "50861e09",
   "metadata": {},
   "source": [
    "### Etapa 1: Leitura da Camada RAW"
   ]
  },
  {
   "cell_type": "code",
   "execution_count": 13,
   "id": "b8f9fab7",
   "metadata": {},
   "outputs": [
    {
     "name": "stderr",
     "output_type": "stream",
     "text": [
      "                                                                                \r"
     ]
    },
    {
     "name": "stdout",
     "output_type": "stream",
     "text": [
      "+-----------+-------------+------------------+---------------------+---------+--------------+-----------------+\n",
      "|cnpj_basico|opcao_simples|data_opcao_simples|data_exclusao_simples|opcao_mei|data_opcao_mei|data_exclusao_mei|\n",
      "+-----------+-------------+------------------+---------------------+---------+--------------+-----------------+\n",
      "|36536474   |N            |20200303          |20201231             |N        |00000000      |00000000         |\n",
      "|36536475   |S            |20200303          |00000000             |S        |20200303      |00000000         |\n",
      "|36536476   |N            |20200303          |20220331             |N        |20200303      |20220331         |\n",
      "|36536477   |N            |20200303          |20200403             |N        |20200303      |20200403         |\n",
      "|36536478   |N            |20200303          |20241231             |N        |20200303      |20241231         |\n",
      "+-----------+-------------+------------------+---------------------+---------+--------------+-----------------+\n",
      "only showing top 5 rows\n",
      "root\n",
      " |-- cnpj_basico: string (nullable = true)\n",
      " |-- opcao_simples: string (nullable = true)\n",
      " |-- data_opcao_simples: string (nullable = true)\n",
      " |-- data_exclusao_simples: string (nullable = true)\n",
      " |-- opcao_mei: string (nullable = true)\n",
      " |-- data_opcao_mei: string (nullable = true)\n",
      " |-- data_exclusao_mei: string (nullable = true)\n",
      "\n"
     ]
    }
   ],
   "source": [
    "try:\n",
    "    deltaTable_simples_nacional_raw: DeltaTable = DeltaTable.forPath(spark, \"../RAW/simples_nacional\")\n",
    "    df_simples_nacional_raw = deltaTable_simples_nacional_raw.toDF()\n",
    "    df_simples_nacional_raw.show(5, truncate=False)\n",
    "    df_simples_nacional_raw.printSchema()\n",
    "except Exception as e:\n",
    "    print(f\"Erro na leitura: {e}\")"
   ]
  },
  {
   "cell_type": "markdown",
   "id": "1a78bdfc",
   "metadata": {},
   "source": [
    "### Etapa 2: Transformação dos dados"
   ]
  },
  {
   "cell_type": "code",
   "execution_count": null,
   "id": "07876065",
   "metadata": {},
   "outputs": [
    {
     "name": "stderr",
     "output_type": "stream",
     "text": [
      "                                                                                \r"
     ]
    },
    {
     "name": "stdout",
     "output_type": "stream",
     "text": [
      "0\n"
     ]
    },
    {
     "name": "stderr",
     "output_type": "stream",
     "text": [
      "                                                                                \r"
     ]
    },
    {
     "name": "stdout",
     "output_type": "stream",
     "text": [
      "0\n"
     ]
    },
    {
     "name": "stderr",
     "output_type": "stream",
     "text": [
      "                                                                                \r"
     ]
    },
    {
     "name": "stdout",
     "output_type": "stream",
     "text": [
      "0\n"
     ]
    },
    {
     "name": "stderr",
     "output_type": "stream",
     "text": [
      "[Stage 185:=============================================>         (15 + 3) / 18]\r"
     ]
    },
    {
     "name": "stdout",
     "output_type": "stream",
     "text": [
      "0\n"
     ]
    },
    {
     "name": "stderr",
     "output_type": "stream",
     "text": [
      "                                                                                \r"
     ]
    }
   ],
   "source": [
    "# Tratando a data antes de passar para DateType\n",
    "\n",
    "try:\n",
    "    df_simples_nacional_raw = df_simples_nacional_raw.withColumn(\n",
    "        \"data_exclusao_simples\", f.when(\n",
    "            df_simples_nacional_raw[\"data_exclusao_simples\"] == \"00000000\",\n",
    "            None\n",
    "        ).otherwise(df_simples_nacional_raw[\"data_exclusao_simples\"])\n",
    "    ).withColumn(\n",
    "        \"data_opcao_simples\", f.when(\n",
    "            df_simples_nacional_raw[\"data_opcao_simples\"] == \"00000000\",\n",
    "            None\n",
    "        ).otherwise(df_simples_nacional_raw[\"data_opcao_simples\"])\n",
    "    ).withColumn(\n",
    "        \"data_opcao_mei\", f.when(\n",
    "            df_simples_nacional_raw[\"data_opcao_mei\"] == \"00000000\",\n",
    "            None\n",
    "        ).otherwise(df_simples_nacional_raw[\"data_opcao_mei\"])\n",
    "    ).withColumn(\n",
    "        \"data_exclusao_mei\", f.when(\n",
    "            df_simples_nacional_raw[\"data_exclusao_mei\"] == \"00000000\",\n",
    "            None\n",
    "        ).otherwise(df_simples_nacional_raw[\"data_exclusao_mei\"])\n",
    "    )\n",
    "\n",
    "    print(df_simples_nacional_raw.filter(f.length(df_simples_nacional_raw[\"data_exclusao_simples\"]) != 8).count())\n",
    "    print(df_simples_nacional_raw.filter(f.length(df_simples_nacional_raw[\"data_opcao_simples\"]) != 8).count())\n",
    "    print(df_simples_nacional_raw.filter(f.length(df_simples_nacional_raw[\"data_opcao_mei\"]) != 8).count())\n",
    "    print(df_simples_nacional_raw.filter(f.length(df_simples_nacional_raw[\"data_exclusao_mei\"]) != 8).count())\n",
    "except Exception as e:\n",
    "    print(f\"Erro: {e}\")"
   ]
  },
  {
   "cell_type": "code",
   "execution_count": 39,
   "id": "6768e30e",
   "metadata": {},
   "outputs": [
    {
     "name": "stdout",
     "output_type": "stream",
     "text": [
      "+-----------+-------------+------------------+---------------------+---------+--------------+-----------------+\n",
      "|cnpj_basico|opcao_simples|data_opcao_simples|data_exclusao_simples|opcao_mei|data_opcao_mei|data_exclusao_mei|\n",
      "+-----------+-------------+------------------+---------------------+---------+--------------+-----------------+\n",
      "|11968535   |N            |2010-05-17        |2017-12-31           |N        |NULL          |NULL             |\n",
      "|11968536   |N            |2010-05-20        |2018-02-01           |N        |2010-05-20    |2018-02-01       |\n",
      "|11968537   |N            |2010-05-20        |2014-02-10           |N        |2010-05-20    |2014-02-10       |\n",
      "|11968538   |N            |2010-05-20        |2022-02-22           |N        |2010-05-20    |2018-12-31       |\n",
      "|11968539   |N            |2010-05-20        |2018-01-04           |N        |2010-05-20    |2018-01-04       |\n",
      "+-----------+-------------+------------------+---------------------+---------+--------------+-----------------+\n",
      "only showing top 5 rows\n"
     ]
    }
   ],
   "source": [
    "try:\n",
    "    df_simples_nacional_raw = df_simples_nacional_raw.withColumn(\n",
    "        \"data_opcao_simples\", \n",
    "        f.to_date(df_simples_nacional_raw[\"data_opcao_simples\"], \"yyyyMMdd\")\n",
    "    ).withColumn(\n",
    "        \"data_exclusao_simples\", \n",
    "        f.to_date(df_simples_nacional_raw[\"data_exclusao_simples\"], \"yyyyMMdd\")\n",
    "    ).withColumn(\n",
    "        \"data_opcao_mei\", \n",
    "        f.to_date(df_simples_nacional_raw[\"data_opcao_mei\"], \"yyyyMMdd\")\n",
    "    ).withColumn(\n",
    "        \"data_exclusao_mei\", \n",
    "        f.to_date(df_simples_nacional_raw[\"data_exclusao_mei\"], \"yyyyMMdd\")\n",
    "    )\n",
    "\n",
    "    df_simples_nacional_raw.show(5, truncate=False)\n",
    "except Exception as e:\n",
    "    print(f\"Erro: {e}\")"
   ]
  },
  {
   "cell_type": "markdown",
   "id": "cfacd06c",
   "metadata": {},
   "source": [
    "### Etapa 3: Escrita na camada Trusted (TRS)"
   ]
  },
  {
   "cell_type": "code",
   "execution_count": 40,
   "id": "261e0c56",
   "metadata": {},
   "outputs": [
    {
     "name": "stderr",
     "output_type": "stream",
     "text": [
      "                                                                                \r"
     ]
    }
   ],
   "source": [
    "try:\n",
    "    df_simples_nacional_raw.write.format(\"delta\") \\\n",
    "        .mode(\"overwrite\") \\\n",
    "        .save(\"../TRS/simples_nacional\")\n",
    "except Exception as e:\n",
    "    print(f\"Erro ao gravar dados: {e}\")"
   ]
  },
  {
   "cell_type": "markdown",
   "id": "22dfdfaa",
   "metadata": {},
   "source": [
    "### Etapa 4: Ajuste e Validação"
   ]
  },
  {
   "cell_type": "code",
   "execution_count": 41,
   "id": "ba47f9db",
   "metadata": {},
   "outputs": [
    {
     "name": "stdout",
     "output_type": "stream",
     "text": [
      "+-----------+-------------+------------------+---------------------+---------+--------------+-----------------+\n",
      "|cnpj_basico|opcao_simples|data_opcao_simples|data_exclusao_simples|opcao_mei|data_opcao_mei|data_exclusao_mei|\n",
      "+-----------+-------------+------------------+---------------------+---------+--------------+-----------------+\n",
      "|47096018   |S            |2022-07-11        |NULL                 |S        |2022-07-11    |NULL             |\n",
      "|47096019   |S            |2022-07-11        |NULL                 |S        |2022-07-11    |NULL             |\n",
      "|47096020   |N            |2022-07-11        |2025-05-08           |N        |2022-07-11    |2025-05-08       |\n",
      "|47096021   |N            |2022-07-11        |2024-01-31           |N        |NULL          |NULL             |\n",
      "|47096022   |N            |2022-07-11        |2023-05-15           |N        |2022-07-11    |2023-05-15       |\n",
      "+-----------+-------------+------------------+---------------------+---------+--------------+-----------------+\n",
      "only showing top 5 rows\n",
      "root\n",
      " |-- cnpj_basico: string (nullable = true)\n",
      " |-- opcao_simples: string (nullable = true)\n",
      " |-- data_opcao_simples: date (nullable = true)\n",
      " |-- data_exclusao_simples: date (nullable = true)\n",
      " |-- opcao_mei: string (nullable = true)\n",
      " |-- data_opcao_mei: date (nullable = true)\n",
      " |-- data_exclusao_mei: date (nullable = true)\n",
      "\n"
     ]
    }
   ],
   "source": [
    "# Confirmar alterações, pela camada TRS\n",
    "try:\n",
    "    deltaTable_simples_nacional_trusted: DeltaTable = DeltaTable.forPath(spark, \"../TRS/simples_nacional\")\n",
    "    df_simples_nacional_trusted = deltaTable_simples_nacional_trusted.toDF()\n",
    "    df_simples_nacional_trusted.show(5, truncate=False)\n",
    "    df_simples_nacional_trusted.printSchema()\n",
    "except Exception as e:\n",
    "    print(f\"Erro na leitura: {e}\")"
   ]
  },
  {
   "cell_type": "markdown",
   "id": "1509f5bc",
   "metadata": {},
   "source": [
    "## TRUSTED - Motivos"
   ]
  },
  {
   "cell_type": "markdown",
   "id": "e972c9a6",
   "metadata": {},
   "source": [
    "### Etapa 1: Leitura da Camada RAW"
   ]
  },
  {
   "cell_type": "code",
   "execution_count": null,
   "id": "d71e1d39",
   "metadata": {},
   "outputs": [
    {
     "name": "stdout",
     "output_type": "stream",
     "text": [
      "+-------------+--------------------------------------------------------------------------------------+\n",
      "|codigo_motivo|descricao_motivo                                                                      |\n",
      "+-------------+--------------------------------------------------------------------------------------+\n",
      "|00           |SEM MOTIVO                                                                            |\n",
      "|01           |EXTINCAO POR ENCERRAMENTO LIQUIDACAO VOLUNTARIA                                       |\n",
      "|02           |INCORPORACAO                                                                          |\n",
      "|03           |FUSAO                                                                                 |\n",
      "|04           |CISAO TOTAL                                                                           |\n",
      "|05           |ENCERRAMENTO DA FALENCIA                                                              |\n",
      "|06           |ENCERRAMENTO DA LIQUIDACAO                                                            |\n",
      "|07           |ELEVACAO A MATRIZ                                                                     |\n",
      "|08           |TRANSPASSE                                                                            |\n",
      "|09           |NAO INICIO DE ATIVIDADE                                                               |\n",
      "|10           |EXTINCAO PELO ENCERRAMENTO DA LIQUIDACAO JUDICIAL                                     |\n",
      "|11           |ANULACAO POR MULTICIPLIDADE                                                           |\n",
      "|12           |ANULACAO ONLINE DE OFICIO                                                             |\n",
      "|13           |OMISSA CONTUMAZ                                                                       |\n",
      "|14           |OMISSA NAO LOCALIZADA                                                                 |\n",
      "|15           |INEXISTENCIA DE FATO                                                                  |\n",
      "|16           |ANULACAO POR VICIOS                                                                   |\n",
      "|17           |BAIXA INICIADA EM ANALISE                                                             |\n",
      "|18           |INTERRUPCAO TEMPORARIA DAS ATIVIDADES                                                 |\n",
      "|21           |PEDIDO DE BAIXA INDEFERIDA                                                            |\n",
      "|24           |POR EMISSAO CERTIDAO NEGATIVA                                                         |\n",
      "|28           |TRANSFERENCIA FILIAL CONDICAO MATRIZ                                                  |\n",
      "|31           |EXTINCAO-UNIFICACAO DA FILIAL                                                         |\n",
      "|33           |TRANSFERENCIA DO ORGAO LOCAL A CONDICAO DE FILIAL DO ORGAO REGIONAL                   |\n",
      "|34           |ANULACAO DE INSCRICAO INDEVIDA                                                        |\n",
      "|35           |EMPRESA ESTRANGEIRA AGUARDANDO DOCUMENTACAO                                           |\n",
      "|36           |PRATICA IRREGULAR DE OPERACAO DE COMERCIO EXTERIOR                                    |\n",
      "|37           |BAIXA DE PRODUTOR RURAL                                                               |\n",
      "|38           |BAIXA DEFERIDA PELA RFB AGUARDANDO ANALISE DO CONVENENTE                              |\n",
      "|39           |BAIXA DEFERIDA PELA RFB E INDEFERIDA PELO CONVENENTE                                  |\n",
      "|40           |BAIXA INDEFERIDA PELA RFB E AGUARDANDO ANALISE DO CONVENENTE                          |\n",
      "|41           |BAIXA INDEFERIDA PELA RFB E DEFERIDA PELO CONVENENTE                                  |\n",
      "|42           |BAIXA DEFERIDA PELA RFB E SEFIN, AGUARDANDO ANALISE SEFAZ                             |\n",
      "|43           |BAIXA DEFERIDA PELA RFB, AGUARDANDO ANALISE DA SEFAZ E INDEFERIDA PELA SEFIN          |\n",
      "|44           |BAIXA DEFERIDA PELA RFB E SEFAZ, AGUARDANDO ANALISE SEFIN                             |\n",
      "|45           |BAIXA DEFERIDA PELA RFB, AGUARDANDO ANALISE DA SEFIN E INDEFERIDA PELA SEFAZ          |\n",
      "|46           |BAIXA DEFERIDA PELA RFB E SEFAZ E INDEFERIDA PELA SEFIN                               |\n",
      "|47           |BAIXA DEFERIDA PELA RFB E SEFIN E INDEFERIDA PELA SEFAZ                               |\n",
      "|48           |BAIXA INDEFERIDA PELA RFB, AGARDANDO ANALISE SEFAZ E DEFERIDA PELA SEFIN              |\n",
      "|49           |BAIXA INDEFERIDA PELA RFB, AGUARDANDO ANALISE DA SEFAZ E INDEFERIDA PELA SEFIN        |\n",
      "|50           |BAIXA INDEFERIDA PELA RFB, DEFERIDA PELA SEFAZ E AGUARDANDO ANALISE DA SEFIN          |\n",
      "|51           |BAIXA INDEFERIDA PELA RFB E SEFAZ, AGUARDANDO ANALISE DA SEFIN                        |\n",
      "|52           |BAIXA INDEFERIDA PELA RFB, DEFERIDA PELA SEFAZ E INDEFERIDA PELA SEFIN                |\n",
      "|53           |BAIXA INDEFERIDA PELA RFB E SEFAZ E DEFERIDA PELA SEFIN                               |\n",
      "|54           |EXTINCAO - TRATAMENTO DIFERENCIADO DADO AS ME E EPP (LEI COMPLEMENTAR NUMERO 123/2006)|\n",
      "|55           |DEFERIDO PELO CONVENENTE, AGUARDANDO ANALISE DA RFB                                   |\n",
      "|60           |ARTIGO 30, VI, DA IN 748/2007                                                         |\n",
      "|61           |INDICIO INTERPOS. FRAUDULENTA                                                         |\n",
      "|62           |FALTA DE PLURALIDADE DE SOCIOS                                                        |\n",
      "|63           |OMISSAO DE DECLARACOES                                                                |\n",
      "|64           |LOCALIZACAO DESCONHECIDA                                                              |\n",
      "|66           |INAPTIDAO                                                                             |\n",
      "|67           |REGISTRO CANCELADO                                                                    |\n",
      "|70           |ANULACAO POR NAO CONFIRMADO ATO DE REGISTRO DO MEI NA JUNTA COMERCIAL                 |\n",
      "|71           |INAPTIDAO (LEI 11.941/2009 ART.54)                                                    |\n",
      "|72           |DETERMINACAO JUDICIAL                                                                 |\n",
      "|73           |COOMISSAO CONTUMAZ                                                                    |\n",
      "|74           |INCONSISTENCIA CADASTRAL                                                              |\n",
      "|75           |OBITO DO MEI - TITULAR FALECIDO                                                       |\n",
      "|80           |BAIXA REGISTRADA NA JUNTA, INDEFERIDA NA RFB                                          |\n",
      "|81           |SOLICITACAO DA ADMINISTRACAO TRIBUTARIA ESTADUAL/MUNICIPAL                            |\n",
      "|82           |SUSPENSO PERANTE A COMISSAO DE VALORES MOBILIARIOS - CVM                              |\n",
      "|93           |CNPJ - TITULAR BAIXADO                                                                |\n",
      "+-------------+--------------------------------------------------------------------------------------+\n",
      "\n",
      "root\n",
      " |-- codigo_motivo: string (nullable = true)\n",
      " |-- descricao_motivo: string (nullable = true)\n",
      "\n"
     ]
    }
   ],
   "source": [
    "try:\n",
    "    deltaTable_motivos_raw: DeltaTable = DeltaTable.forPath(spark, \"../RAW/motivos\")\n",
    "    df_motivos_raw: DataFrame = deltaTable_motivos_raw.toDF()\n",
    "    df_motivos_raw.show(63, truncate=False)\n",
    "    df_motivos_raw.printSchema()\n",
    "except Exception as e:\n",
    "    print(f\"Erro na leitura: {e}\")"
   ]
  },
  {
   "cell_type": "markdown",
   "id": "ab5fae46",
   "metadata": {},
   "source": [
    "### Etapa 2: Escrita na camada Trusted (TRS)"
   ]
  },
  {
   "cell_type": "code",
   "execution_count": 46,
   "id": "3c3f02fd",
   "metadata": {},
   "outputs": [],
   "source": [
    "try:\n",
    "    df_motivos_raw.write.format(\"delta\") \\\n",
    "        .mode(\"overwrite\") \\\n",
    "        .save(\"../TRS/motivos\")\n",
    "except Exception as e:\n",
    "    print(f\"Erro ao gravar dados: {e}\")"
   ]
  },
  {
   "cell_type": "markdown",
   "id": "0f7e6088",
   "metadata": {},
   "source": [
    "### Etapa 3: Ajuste e Validação"
   ]
  },
  {
   "cell_type": "code",
   "execution_count": 38,
   "id": "1096db58",
   "metadata": {},
   "outputs": [
    {
     "name": "stderr",
     "output_type": "stream",
     "text": [
      "                                                                                \r"
     ]
    },
    {
     "name": "stdout",
     "output_type": "stream",
     "text": [
      "+-------------+-----------------------------------------------+\n",
      "|codigo_motivo|descricao_motivo                               |\n",
      "+-------------+-----------------------------------------------+\n",
      "|00           |SEM MOTIVO                                     |\n",
      "|01           |EXTINCAO POR ENCERRAMENTO LIQUIDACAO VOLUNTARIA|\n",
      "|02           |INCORPORACAO                                   |\n",
      "|03           |FUSAO                                          |\n",
      "|04           |CISAO TOTAL                                    |\n",
      "+-------------+-----------------------------------------------+\n",
      "only showing top 5 rows\n",
      "root\n",
      " |-- codigo_motivo: string (nullable = true)\n",
      " |-- descricao_motivo: string (nullable = true)\n",
      "\n"
     ]
    }
   ],
   "source": [
    "try:\n",
    "    deltaTable_motivos_trusted: DeltaTable = DeltaTable.forPath(spark, \"../TRS/motivos\")\n",
    "    df_motivos_trusted = deltaTable_motivos_trusted.toDF()\n",
    "    df_motivos_trusted.show(5, truncate=False)\n",
    "    df_motivos_trusted.printSchema()\n",
    "except Exception as e:\n",
    "    print(f\"Erro na leitura: {e}\")"
   ]
  },
  {
   "cell_type": "markdown",
   "id": "0f3fa95e",
   "metadata": {},
   "source": [
    "## TRUSTED - Paises"
   ]
  },
  {
   "cell_type": "markdown",
   "id": "fe9caa74",
   "metadata": {},
   "source": [
    "### Etapa 1: Leitura da Camada RAW"
   ]
  },
  {
   "cell_type": "code",
   "execution_count": 53,
   "id": "7cb95ecd",
   "metadata": {},
   "outputs": [
    {
     "name": "stdout",
     "output_type": "stream",
     "text": [
      "+------------------------+---------------------+\n",
      "|codigo_natureza_juridica|natureza_juridica    |\n",
      "+------------------------+---------------------+\n",
      "|000                     |COLIS POSTAUX        |\n",
      "|013                     |AFEGANISTAO          |\n",
      "|017                     |ALBANIA              |\n",
      "|020                     |ALBORAN-PEREJIL,ILHAS|\n",
      "|023                     |ALEMANHA             |\n",
      "+------------------------+---------------------+\n",
      "only showing top 5 rows\n",
      "Total de Paises: 255\n",
      "root\n",
      " |-- codigo_natureza_juridica: string (nullable = true)\n",
      " |-- natureza_juridica: string (nullable = true)\n",
      "\n"
     ]
    }
   ],
   "source": [
    "try:\n",
    "    deltaTable_paises_raw: DeltaTable = DeltaTable.forPath(spark, \"../RAW/paises\")\n",
    "    df_paises_raw = deltaTable_paises_raw.toDF()\n",
    "    df_paises_raw.show(5, truncate=False)\n",
    "    print(f\"Total de Paises: {df_paises_raw.count()}\")\n",
    "    df_paises_raw.printSchema()\n",
    "except Exception as e:\n",
    "    print(f\"Erro na leitura: {e}\")"
   ]
  },
  {
   "cell_type": "markdown",
   "id": "526d8be5",
   "metadata": {},
   "source": [
    "### Etapa 2: Transformação dos dados"
   ]
  },
  {
   "cell_type": "code",
   "execution_count": 56,
   "id": "841dfd6c",
   "metadata": {},
   "outputs": [
    {
     "name": "stdout",
     "output_type": "stream",
     "text": [
      "+-----------+---------------------+\n",
      "|codigo_pais|pais                 |\n",
      "+-----------+---------------------+\n",
      "|000        |COLIS POSTAUX        |\n",
      "|013        |AFEGANISTAO          |\n",
      "|017        |ALBANIA              |\n",
      "|020        |ALBORAN-PEREJIL,ILHAS|\n",
      "|023        |ALEMANHA             |\n",
      "+-----------+---------------------+\n",
      "only showing top 5 rows\n"
     ]
    }
   ],
   "source": [
    "try:\n",
    "    df_paises_raw = df_paises_raw.withColumnsRenamed(\n",
    "        {\n",
    "            \"codigo_natureza_juridica\": \"codigo_pais\",\n",
    "            \"natureza_juridica\": \"pais\"\n",
    "        },\n",
    "    )\n",
    "\n",
    "    df_paises_raw.show(5, truncate=False)\n",
    "except Exception as e:\n",
    "    print(f\"Erro na leitura: {e}\")"
   ]
  },
  {
   "cell_type": "markdown",
   "id": "e244396d",
   "metadata": {},
   "source": [
    "### Etapa 3: Escrita na camada Trusted (TRS)"
   ]
  },
  {
   "cell_type": "code",
   "execution_count": 57,
   "id": "4c86eab4",
   "metadata": {},
   "outputs": [
    {
     "name": "stdout",
     "output_type": "stream",
     "text": [
      "Dados salvo com sucesso!\n"
     ]
    }
   ],
   "source": [
    "try:\n",
    "    df_paises_raw.write.format(\"delta\") \\\n",
    "        .mode(\"overwrite\") \\\n",
    "        .save(\"../TRS/paises\")\n",
    "    print(\"Dados salvo com sucesso!\")\n",
    "except Exception as e:\n",
    "    print(f\"Erro na leitura: {e}\")"
   ]
  },
  {
   "cell_type": "markdown",
   "id": "9b9730d4",
   "metadata": {},
   "source": [
    "### Etapa 4: Ajuste e Validação"
   ]
  },
  {
   "cell_type": "code",
   "execution_count": 58,
   "id": "aedab45e",
   "metadata": {},
   "outputs": [
    {
     "name": "stdout",
     "output_type": "stream",
     "text": [
      "+-----------+---------------------+\n",
      "|codigo_pais|pais                 |\n",
      "+-----------+---------------------+\n",
      "|000        |COLIS POSTAUX        |\n",
      "|013        |AFEGANISTAO          |\n",
      "|017        |ALBANIA              |\n",
      "|020        |ALBORAN-PEREJIL,ILHAS|\n",
      "|023        |ALEMANHA             |\n",
      "+-----------+---------------------+\n",
      "only showing top 5 rows\n",
      "Total de Paises: 255\n",
      "root\n",
      " |-- codigo_pais: string (nullable = true)\n",
      " |-- pais: string (nullable = true)\n",
      "\n"
     ]
    }
   ],
   "source": [
    "try:\n",
    "    deltaTable_paises_trusted: DeltaTable = DeltaTable.forPath(spark, \"../TRS/paises\")\n",
    "    df_paises_trusted = deltaTable_paises_trusted.toDF()\n",
    "    df_paises_trusted.show(5, truncate=False)\n",
    "    print(f\"Total de Paises: {df_paises_raw.count()}\")\n",
    "    df_paises_raw.printSchema()\n",
    "except Exception as e:\n",
    "    print(f\"Erro na leitura: {e}\")"
   ]
  },
  {
   "cell_type": "markdown",
   "id": "49d915d9",
   "metadata": {},
   "source": [
    "## TRUSTED - Municipios Receita Federal"
   ]
  },
  {
   "cell_type": "code",
   "execution_count": 114,
   "id": "d0c8b60f",
   "metadata": {},
   "outputs": [
    {
     "name": "stdout",
     "output_type": "stream",
     "text": [
      "+------------+------------------------+\n",
      "|id_municipio|municipio               |\n",
      "+------------+------------------------+\n",
      "|0001        |GUAJARA-MIRIM           |\n",
      "|0002        |ALTO ALEGRE DOS PARECIS |\n",
      "|0003        |PORTO VELHO             |\n",
      "|0004        |BURITIS                 |\n",
      "|0005        |JI-PARANA               |\n",
      "|0006        |CHUPINGUAIA             |\n",
      "|0007        |ARIQUEMES               |\n",
      "|0008        |CUJUBIM                 |\n",
      "|0009        |CACOAL                  |\n",
      "|0010        |NOVA UNIAO              |\n",
      "|0011        |PIMENTA BUENO           |\n",
      "|0012        |PARECIS                 |\n",
      "|0013        |VILHENA                 |\n",
      "|0014        |PIMENTEIRAS DO OESTE    |\n",
      "|0015        |JARU                    |\n",
      "|0016        |PRIMAVERA DE RONDONIA   |\n",
      "|0017        |OURO PRETO DO OESTE     |\n",
      "|0018        |SAO FELIPE D'OESTE      |\n",
      "|0019        |PRESIDENTE MEDICI       |\n",
      "|0020        |SAO FRANCISCO DO GUAPORE|\n",
      "+------------+------------------------+\n",
      "only showing top 20 rows\n"
     ]
    }
   ],
   "source": [
    "# Carrega dados da camada RAW\n",
    "deltaTable_municipios_rf = DeltaTable.forPath(spark, \"../RAW/municipios_rf\")\n",
    "df_municipios_rf_raw = deltaTable_municipios_rf.toDF()\n",
    "df_municipios_rf_raw.show(truncate=False)"
   ]
  },
  {
   "cell_type": "code",
   "execution_count": 115,
   "id": "bd08ab7c",
   "metadata": {},
   "outputs": [
    {
     "name": "stderr",
     "output_type": "stream",
     "text": [
      "                                                                                \r"
     ]
    },
    {
     "name": "stdout",
     "output_type": "stream",
     "text": [
      "Dados salvo!\n"
     ]
    }
   ],
   "source": [
    "try:\n",
    "    df_municipios_rf_raw.write.format(\"delta\") \\\n",
    "        .mode(\"overwrite\") \\\n",
    "        .save(\"../TRS/municipios_rf\")\n",
    "    print(\"Dados salvo!\")\n",
    "except Exception as e:\n",
    "    print(e)"
   ]
  },
  {
   "cell_type": "code",
   "execution_count": 117,
   "id": "0ed2c7e3",
   "metadata": {},
   "outputs": [
    {
     "name": "stdout",
     "output_type": "stream",
     "text": [
      "+------------+-----------------------+\n",
      "|id_municipio|municipio              |\n",
      "+------------+-----------------------+\n",
      "|0001        |GUAJARA-MIRIM          |\n",
      "|0002        |ALTO ALEGRE DOS PARECIS|\n",
      "|0003        |PORTO VELHO            |\n",
      "|0004        |BURITIS                |\n",
      "|0005        |JI-PARANA              |\n",
      "+------------+-----------------------+\n",
      "only showing top 5 rows\n",
      "root\n",
      " |-- id_municipio: string (nullable = true)\n",
      " |-- municipio: string (nullable = true)\n",
      "\n"
     ]
    }
   ],
   "source": [
    "try:\n",
    "    deltaTable_municipios_rf: DeltaTable = DeltaTable.forPath(spark, \"../TRS/municipios_rf\")\n",
    "    df_municipios_rf_trusted: DataFrame = deltaTable_municipios_rf.toDF()\n",
    "    df_municipios_rf_trusted.show(5, truncate=False)\n",
    "    df_municipios_rf_trusted.printSchema()\n",
    "except Exception as e:\n",
    "    print(f\"Erro: {e}\")"
   ]
  },
  {
   "cell_type": "markdown",
   "id": "d2a14691",
   "metadata": {},
   "source": [
    "## TRUSTED - Criar Tabela CNPJ"
   ]
  },
  {
   "cell_type": "code",
   "execution_count": null,
   "id": "d1d2b8e3",
   "metadata": {},
   "outputs": [],
   "source": [
    "deltaTable_estabelecimentos_trs.alias(\"estabelecimentos\").merge(\n",
    "    df_municipios_trusted.alias(\"municipios\"),\n",
    "    \"estabelecimentos.codigo_municipio = municipios.id_municipio\"\n",
    ")"
   ]
  },
  {
   "cell_type": "code",
   "execution_count": 136,
   "id": "9b9d20f9",
   "metadata": {},
   "outputs": [
    {
     "name": "stdout",
     "output_type": "stream",
     "text": [
      "+-----------+-------------------+-----------------------+--------------+-------------------------+----------------------+----+-------------------+------------------+---------------------------------+------------+\n",
      "|cnpj_basico|identificador_socio|nome_socio_razao_social|cnpj_cpf_socio|codigo_qualificacao_socio|data_entrada_sociedade|pais|representante_legal|nome_representante|codigo_qualificacao_representante|faixa_etaria|\n",
      "+-----------+-------------------+-----------------------+--------------+-------------------------+----------------------+----+-------------------+------------------+---------------------------------+------------+\n",
      "|11441915   |2                  |MARCOS ANTONIO LOPES   |***563218**   |49                       |2009-12-28            |NULL|***000000**        |NULL              |00                               |6           |\n",
      "+-----------+-------------------+-----------------------+--------------+-------------------------+----------------------+----+-------------------+------------------+---------------------------------+------------+\n",
      "only showing top 1 row\n"
     ]
    }
   ],
   "source": [
    "# df_joined = df_1.join(df_2, join_condition, \"inner\")\n",
    "# df_estabelecimentos_trusted.show(1, truncate=False)\n",
    "# df_municipios_rf_trusted.show(1, truncate=False)\n",
    "df_socios_trusted.show(1, truncate=False)\n",
    "# df_cnae_trusted.show(1, truncate=False)\n",
    "# df_municipios_trusted.show(1, truncate=False)\n",
    "# df_empresas_trusted.show(1, truncate=False)"
   ]
  },
  {
   "cell_type": "code",
   "execution_count": null,
   "id": "930cb657",
   "metadata": {},
   "outputs": [
    {
     "name": "stdout",
     "output_type": "stream",
     "text": [
      "+--------------+----------------------------------------------------+------------------+-----------------------+-------------------------+--------------------+---------------------+--------------+-----------------------------------------------+--------------------------------------+--------+---+----------------+-----------------------------------------------+\n",
      "|cnpj          |nome_fantasia                                       |situacao_cadastral|data_situacao_cadastral|motivo_situacao_cadastral|nome_cidade_exterior|data_inicio_atividade|cnae_principal|cnae_secundario                                |endereco                              |cep     |uf |codigo_municipio|contato                                        |\n",
      "+--------------+----------------------------------------------------+------------------+-----------------------+-------------------------+--------------------+---------------------+--------------+-----------------------------------------------+--------------------------------------+--------+---+----------------+-----------------------------------------------+\n",
      "|11070826000143|ESPACO PATRICIO                                     |01                |2009-08-20             |70                       |NULL                |2009-08-20           |9602501       |NULL                                           |RUA CORONEL CARLOS PORTO, N° 174      |12327280|SP |6589            |(12) 39612675 - SPOP_SERGIO@HOTMAIL.COM        |\n",
      "|17826653000127|POUSO DA CORUJA                                     |08                |2022-04-16             |01                       |NULL                |2013-03-26           |5590699       |NULL                                           |10A RUA PRIMO PROVENCE, N° 173        |13820000|SP |6725            |(19) 33686685 - SANDRAJERONIMO@HOTMAIL.COM     |\n",
      "|12612322000170|DECORFLEX                                           |02                |2010-09-21             |00                       |NULL                |2010-09-21           |4744005       |4743100,4742300,4759899,4321500,4330405        |RUA PROF. ALCIDIA T. W. MATTEIS, N° 31|13160288|SP |6175            |(19) 38772923 - MARCOSCAPELINI@YAHOO.COM.BR    |\n",
      "|44179491000155|BEE INSURANCE                                       |02                |2021-11-09             |00                       |NULL                |2021-11-09           |6622300       |NULL                                           |RUA ARINAIA, N° 312                   |03171040|SP |7107            |(41) 96869828 - MEUCNPJ@CONTABILIZEI.COM.BR    |\n",
      "|05478091000199|MASTERCONSIG                                        |02                |NULL                   |00                       |NULL                |2003-01-02           |6622300       |6619302,6821801,6822600                        |RUA XINGU, N° 372                     |13330675|SP |6511            |(19) 33292473 - ESCRITORIOSERTA@HOTMAIL.COM    |\n",
      "|04002388000110|ASSOCIACAO DE MORADORES DO BAIRRO JARDIM MARIA ALICE|08                |2008-12-31             |71                       |NULL                |2000-07-05           |9430800       |9493600,9499500                                |RUA CAMINHO QUATRO, N° 28             |07263000|SP |6477            |NULL                                           |\n",
      "|08383768000101|LIDER MATERIAIS DE CONSTRUCAO                       |02                |2006-10-18             |00                       |NULL                |2006-10-18           |4744099       |NULL                                           |RUA JOAQUIM UBALDO RODRIGUES, N° 86   |18409540|SP |6549            |(15) 35224214 - FINANCEIRO@LIDERMAD.COM.BR     |\n",
      "|07345593000177|PADARIA TOKIO III                                   |08                |2018-01-24             |01                       |NULL                |2005-04-26           |1091102       |NULL                                           |RUA DARIO ROLAND, N° 506              |13481385|SP |6639            |(19) 97093262 - realmatheus@gmail.com          |\n",
      "|09307087000119|PARTIDO LIBERAL - GUARUJA - SP - MUNICIPAL          |02                |2019-03-21             |00                       |NULL                |2007-11-13           |9492800       |NULL                                           |AVENIDA ESTRELA DO MAR, N° 184        |11421240|SP |6475            |(13) 91675092 - RONALD.NICOLACI@ICLOUD.COM     |\n",
      "|19751248000112|SA MATERIAL PARA CONSTRUCAO                         |08                |2016-03-18             |01                       |NULL                |2014-02-19           |4744004       |NULL                                           |RUA HENRIQUE DUMONT, N° 1044          |14090200|SP |6969            |NULL                                           |\n",
      "|97477053000130|ARAMA COMUNICACOES                                  |02                |2005-11-03             |00                       |NULL                |1994-03-30           |5911199       |5911101,5911102,5912099,5913800,8599604,8599699|RUA JUPIRA, N° 64                     |03173040|SP |7107            |(11) 31052371 - ARAMA@ARAMA.COM.BR             |\n",
      "|52806489000197|FILIPPO GELATO                                      |02                |2023-11-07             |00                       |NULL                |2023-11-07           |5611203       |4721102,4729699                                |RUA HUMAITA, N° 397                   |12010750|SP |7183            |(12) 97120000 - CONTATOFILIPPO.GELATO@GMAIL.COM|\n",
      "|09580570000172|CLIO ENSINO MEDIO E FUNDAMENTAL                     |08                |2020-08-27             |01                       |NULL                |2007-09-10           |8513900       |8520100                                        |RUA AUGUSTO KINDERMANN, N° 75         |02436040|SP |7107            |(11) 39664882 - juricontabil@uol.com.br        |\n",
      "|00207013000136|MAXIGRAO                                            |08                |1998-07-24             |01                       |NULL                |1994-09-13           |4632001       |NULL                                           |RUA BENEVENUTO COLOMBO, N° 229        |14807258|SP |6163            |NULL                                           |\n",
      "|01005867000100|POSTO APARECIDA                                     |02                |2006-03-07             |00                       |NULL                |1972-05-30           |8211300       |6810202                                        |RUA SETE DE ABRIL, N° 264             |01044000|SP |7107            |(11) 32276060 - CONTATO@CONTABILRH.COM.BR      |\n",
      "|44750066000174|REIS ASSESSORIA DE COBRANCA                         |04                |2024-08-16             |63                       |NULL                |2022-01-05           |8291100       |8219999                                        |RUA MAJ DIOGO, N° 354                 |01324000|SP |7107            |(11) 39855030 - JOSEFINAPAIAO817@GMAIL.COM     |\n",
      "|56870470000160|BLIZARD CONFECCOES                                  |08                |2008-12-31             |71                       |NULL                |1986-12-16           |1412601       |1412603                                        |NULL                                  |13024500|SP |6291            |NULL                                           |\n",
      "|48922868000175|VITAMINA D                                          |08                |2008-12-31             |71                       |NULL                |1977-06-20           |1412601       |1412603                                        |RUA DAS GLICINIAS, N° 19              |04048050|SP |7107            |NULL                                           |\n",
      "|43160121000103|AGRICOLA PACKER                                     |08                |2023-04-20             |01                       |NULL                |2021-08-17           |7319002       |5320202,5229099,4930201,5320201,4930202        |RUA ANTONIO MONTEBELLO, N° 105        |13440042|SP |5445            |(19) 98009281 - VALERIOPACKER@HOTMAIL.COM      |\n",
      "|05478105000174|CASA DE PAES CAROLINE                               |02                |2005-06-18             |00                       |NULL                |2003-01-03           |1091102       |4721102,5611203                                |AVENIDA 7 DE SETEMBRO, N° 324         |15367000|SP |7147            |(18) 37046468 - farinha@clubinter.com.br       |\n",
      "+--------------+----------------------------------------------------+------------------+-----------------------+-------------------------+--------------------+---------------------+--------------+-----------------------------------------------+--------------------------------------+--------+---+----------------+-----------------------------------------------+\n",
      "only showing top 20 rows\n"
     ]
    }
   ],
   "source": [
    "df_empresa = df_empresas_trusted.select(\n",
    "    \"cnpj_basico\",\n",
    "    \"razao_social\",\n",
    "    \"codigo_natureza_juridica\",\n",
    "    \"codigo_qualificacao_responsavel\",\n",
    "    \"capital_social\",\n",
    "    \"codigo_porte_empresa\",\n",
    "    \"ente_federativo_responsavel\"\n",
    ")\n",
    "\n",
    "df_estabeleciemento: DataFrame = df_estabelecimentos_trs.select(\n",
    "    f.concat(\n",
    "        df_estabelecimentos_trs[\"cnpj_base\"],\n",
    "        df_estabelecimentos_trs[\"cnpj_ordem\"],\n",
    "        df_estabelecimentos_trs[\"cnpj_dv\"],\n",
    "    ).alias(\"cnpj\"),\n",
    "    df_estabelecimentos_trs[\"nome_fantasia\"],\n",
    "    df_estabelecimentos_trs[\"situacao_cadastral\"],\n",
    "    df_estabelecimentos_trs[\"data_situacao_cadastral\"],\n",
    "    df_estabelecimentos_trs[\"motivo_situacao_cadastral\"],\n",
    "    df_estabelecimentos_trs[\"nome_cidade_exterior\"],\n",
    "    df_estabelecimentos_trs[\"data_inicio_atividade\"],\n",
    "    df_estabelecimentos_trs[\"cnae_fiscal\"].alias(\"cnae_principal\"),\n",
    "    df_estabelecimentos_trs[\"cnae_fiscal_secundaria\"].alias(\n",
    "        \"cnae_secundario\"),\n",
    "    f.concat(\n",
    "        df_estabelecimentos_trs[\"tipo_logradouro\"],\n",
    "        f.lit(\" \"),\n",
    "        df_estabelecimentos_trs[\"logradouro\"],\n",
    "        f.lit(\", N° \"),\n",
    "        df_estabelecimentos_trs[\"numero\"],\n",
    "    ).alias(\"endereco\"),\n",
    "    df_estabelecimentos_trs[\"cep\"],\n",
    "    df_estabelecimentos_trs[\"uf\"],\n",
    "    df_estabelecimentos_trs[\"codigo_municipio\"],\n",
    "    f.concat(\n",
    "        f.lit(\"(\"),\n",
    "        df_estabelecimentos_trs[\"ddd1\"],\n",
    "        f.lit(\") \"),\n",
    "        df_estabelecimentos_trs[\"telefone1\"],\n",
    "        f.lit(\" - \"),\n",
    "        df_estabelecimentos_trs[\"email\"],\n",
    "    ).alias(\"contato\")\n",
    ").filter(df_estabelecimentos_trs[\"nome_fantasia\"].isNotNull())\n",
    "\n",
    "df_socio: DataFrame = df_socios_trusted.select(\n",
    "    \"cnpj_basico\",\n",
    "    \"identificador_socio\",\n",
    "    df_socios_trusted[\"nome_socio_razao_social\"].alias(\"nome_socio\")\n",
    ")\n",
    "\n",
    "df_municipio: DataFrame = df_municipios_rf_trusted.select(\n",
    "    \"id_municipio\",\n",
    "    df_municipios_trusted[\"municipio\"]\n",
    ")\n",
    "\n",
    "\n",
    "# df_estabeleciemento.show(truncate=False)\n",
    "# df_municipio.show(truncate=False)\n",
    "df_estabeleciemento.show(truncate=False)"
   ]
  },
  {
   "cell_type": "code",
   "execution_count": null,
   "id": "8c7977e5",
   "metadata": {},
   "outputs": [
    {
     "name": "stderr",
     "output_type": "stream",
     "text": [
      "[Stage 756:==========================================>              (6 + 2) / 8]\r"
     ]
    },
    {
     "name": "stdout",
     "output_type": "stream",
     "text": [
      "+------------+--------------+---------------+-----------------+--------------+----------------+-----+--------+-------+---------+------------+-----------+---------+----------+-------+-------------+-------------+------------------+-----------------------+-------------------------+--------------------+----+---------------------+-----------+----------------------+---------------+----------+------+-----------+------+---+---+----------------+----+---------+----+---------+-------+---+-----+-----------------+----------------------+\n",
      "|id_municipio|nome_municipio|id_microrregiao|nome_microrregiao|id_mesorregiao|nome_mesorregiao|id_uf|sigla_uf|nome_uf|id_regiao|sigla_regiao|nome_regiao|cnpj_base|cnpj_ordem|cnpj_dv|matriz_filial|nome_fantasia|situacao_cadastral|data_situacao_cadastral|motivo_situacao_cadastral|nome_cidade_exterior|pais|data_inicio_atividade|cnae_fiscal|cnae_fiscal_secundaria|tipo_logradouro|logradouro|numero|complemento|bairro|cep| uf|codigo_municipio|ddd1|telefone1|ddd2|telefone2|ddd_fax|fax|email|situacao_especial|data_situacao_especial|\n",
      "+------------+--------------+---------------+-----------------+--------------+----------------+-----+--------+-------+---------+------------+-----------+---------+----------+-------+-------------+-------------+------------------+-----------------------+-------------------------+--------------------+----+---------------------+-----------+----------------------+---------------+----------+------+-----------+------+---+---+----------------+----+---------+----+---------+-------+---+-----+-----------------+----------------------+\n",
      "+------------+--------------+---------------+-----------------+--------------+----------------+-----+--------+-------+---------+------------+-----------+---------+----------+-------+-------------+-------------+------------------+-----------------------+-------------------------+--------------------+----+---------------------+-----------+----------------------+---------------+----------+------+-----------+------+---+---+----------------+----+---------+----+---------+-------+---+-----+-----------------+----------------------+\n",
      "\n"
     ]
    },
    {
     "name": "stderr",
     "output_type": "stream",
     "text": [
      "                                                                                \r"
     ]
    }
   ],
   "source": [
    "# Recuperar nome do municipio\n",
    "\n",
    "df_municipio_condicao = df_municipios_trusted[\"id_municipio\"] == df_estabelecimentos_trs[\"codigo_municipio\"]\n",
    "\n",
    "df_municipio_final = df_municipios_trusted.join(df_estabelecimentos_trs, df_municipio_condicao, \"inner\")\n",
    "df_municipio_final.show(1)"
   ]
  },
  {
   "cell_type": "code",
   "execution_count": null,
   "id": "a5b9535e",
   "metadata": {},
   "outputs": [
    {
     "name": "stdout",
     "output_type": "stream",
     "text": [
      "+----------------------------------------------------+-------------------------------------------------------------------------------------------------------------+\n",
      "|nome_fantasia                                       |descricao_cnae                                                                                               |\n",
      "+----------------------------------------------------+-------------------------------------------------------------------------------------------------------------+\n",
      "|ESPACO PATRICIO                                     |Cabeleireiros, manicure e pedicure                                                                           |\n",
      "|POUSO DA CORUJA                                     |Outros alojamentos não especificados anteriormente                                                           |\n",
      "|DECORFLEX                                           |Comércio varejista de materiais de construção não especificados anteriormente                                |\n",
      "|BEE INSURANCE                                       |Corretores e agentes de seguros, de planos de previdência complementar e de saúde                            |\n",
      "|MASTERCONSIG                                        |Corretores e agentes de seguros, de planos de previdência complementar e de saúde                            |\n",
      "|ASSOCIACAO DE MORADORES DO BAIRRO JARDIM MARIA ALICE|Atividades de associações de defesa de direitos sociais                                                      |\n",
      "|LIDER MATERIAIS DE CONSTRUCAO                       |Comércio varejista de materiais de construção em geral                                                       |\n",
      "|PADARIA TOKIO III                                   |Fabricação de produtos de padaria e confeitaria com predominância de produção própria                        |\n",
      "|PARTIDO LIBERAL - GUARUJA - SP - MUNICIPAL          |Atividades de organizações políticas                                                                         |\n",
      "|SA MATERIAL PARA CONSTRUCAO                         |Comércio varejista de cal, areia, pedra britada, tijolos e telhas                                            |\n",
      "|ARAMA COMUNICACOES                                  |Atividades de produção cinematográfica, de vídeos e de programas de televisão não especificadas anteriormente|\n",
      "|FILIPPO GELATO                                      |Lanchonetes, casas de chá, de sucos e similares                                                              |\n",
      "|CLIO ENSINO MEDIO E FUNDAMENTAL                     |Ensino fundamental                                                                                           |\n",
      "|MAXIGRAO                                            |Comércio atacadista de cereais e leguminosas beneficiados                                                    |\n",
      "|POSTO APARECIDA                                     |Serviços combinados de escritório e apoio administrativo                                                     |\n",
      "|REIS ASSESSORIA DE COBRANCA                         |Atividades de cobranças e informações cadastrais                                                             |\n",
      "|BLIZARD CONFECCOES                                  |Confecção de peças de vestuário, exceto roupas íntimas e as confeccionadas sob medida                        |\n",
      "|VITAMINA D                                          |Confecção de peças de vestuário, exceto roupas íntimas e as confeccionadas sob medida                        |\n",
      "|AGRICOLA PACKER                                     |Promoção de vendas                                                                                           |\n",
      "|CASA DE PAES CAROLINE                               |Fabricação de produtos de padaria e confeitaria com predominância de produção própria                        |\n",
      "+----------------------------------------------------+-------------------------------------------------------------------------------------------------------------+\n",
      "only showing top 20 rows\n"
     ]
    }
   ],
   "source": [
    "# teste join\n",
    "\n",
    "join_condicao = df_estabelecimentos_trs[\"cnae_fiscal\"] == df_cnae_trusted[\"codigo_cnae\"]\n",
    "df_joined = df_estabelecimentos_trs.join(df_cnae_trusted, join_condicao, \"inner\")\n",
    "df_joined.select(\"nome_fantasia\", \"descricao_cnae\") \\\n",
    "    .filter(df_joined[\"nome_fantasia\"].isNotNull()) \\\n",
    "    .show(truncate=False)\n",
    "\n",
    "# df_estabelecimentos_trusted.filter(df_estabelecimentos_trusted[\"cnae_fiscal\"] == \"4930201\").select(\"cnae_fiscal\").show()\n",
    "# df_cnae_trusted.filter(df_cnae_trusted[\"codigo_cnae\"] == \"4930201\").show()"
   ]
  },
  {
   "cell_type": "markdown",
   "id": "999bfa7e",
   "metadata": {},
   "source": [
    "## TRUSTED - Joins para consolidado"
   ]
  },
  {
   "cell_type": "code",
   "execution_count": 116,
   "id": "ff5aac91",
   "metadata": {},
   "outputs": [],
   "source": [
    "# Recuperando as delta table\n",
    "\n",
    "deltaTable_estabelecimentos: DeltaTable = DeltaTable.forPath(spark, \"../TRS/estabelecimentos\")\n",
    "deltaTable_empresas: DeltaTable = DeltaTable.forPath(spark, \"../TRS/empresas\")\n",
    "deltaTable_municipios: DeltaTable = DeltaTable.forPath(spark, \"../TRS/municipios_rf\")\n",
    "deltaTable_municipios_ibge: DeltaTable = DeltaTable.forPath(spark, \"../TRS/municipios\")\n",
    "deltaTable_cnae: DeltaTable = DeltaTable.forPath(spark, \"../TRS/cnae\")\n",
    "deltaTable_natureza_juridica: DeltaTable = DeltaTable.forPath(spark, \"../TRS/natureza_juridica\")\n",
    "deltaTable_simples_nacional: DeltaTable = DeltaTable.forPath(spark, \"../TRS/simples_nacional\")"
   ]
  },
  {
   "cell_type": "code",
   "execution_count": 117,
   "id": "5aafcb78",
   "metadata": {},
   "outputs": [],
   "source": [
    "# Transformando em DataFrame\n",
    "\n",
    "df_estabelecimentos: DataFrame = deltaTable_estabelecimentos.toDF()\n",
    "df_empresas: DataFrame = deltaTable_empresas.toDF()\n",
    "df_municipios_rf: DataFrame = deltaTable_municipios.toDF()\n",
    "df_municipios_ibge: DataFrame = deltaTable_municipios_ibge.toDF()\n",
    "df_cnae: DataFrame = deltaTable_cnae.toDF()\n",
    "df_natureza: DataFrame = deltaTable_natureza_juridica.toDF()\n",
    "df_simples: DataFrame = deltaTable_simples_nacional.toDF()"
   ]
  },
  {
   "cell_type": "code",
   "execution_count": 124,
   "id": "c6749761",
   "metadata": {},
   "outputs": [],
   "source": [
    "# Renomeando coluna para evitar conflito\n",
    "\n",
    "df_empresas = df_empresas.withColumnRenamed(\"codigo_natureza_juridica\", \"cod_natureza_juridica\")"
   ]
  },
  {
   "cell_type": "code",
   "execution_count": 125,
   "id": "c8dc32df",
   "metadata": {},
   "outputs": [],
   "source": [
    "# join da tabela empresas com natureza juridica para ter acesso a descrição de natureza juridica\n",
    "\n",
    "df_empresas_joined_natureza_juridica: DataFrame = (\n",
    "    df_empresas\n",
    "    .join(df_natureza, df_empresas.cod_natureza_juridica == df_natureza.codigo_natureza_juridica, how=\"left\")\n",
    ")"
   ]
  },
  {
   "cell_type": "code",
   "execution_count": 126,
   "id": "b0635770",
   "metadata": {},
   "outputs": [
    {
     "name": "stdout",
     "output_type": "stream",
     "text": [
      "+-----------+-----------------------------------------------------+---------------------+-------------------------------+--------------+--------------------+---------------------------+------------------------+----------------------------------+\n",
      "|cnpj_basico|razao_social                                         |cod_natureza_juridica|codigo_qualificacao_responsavel|capital_social|codigo_porte_empresa|ente_federativo_responsavel|codigo_natureza_juridica|natureza_juridica                 |\n",
      "+-----------+-----------------------------------------------------+---------------------+-------------------------------+--------------+--------------------+---------------------------+------------------------+----------------------------------+\n",
      "|06609655   |JOSE LEURIBERTO MAIA                                 |2135                 |50                             |0.00          |05                  |NULL                       |2135                    |Empresário (Individual)           |\n",
      "|06670465   |ELEICOES 2004 - MARIANGELA RIBEIRO LEANDRO - VEREADOR|4090                 |51                             |0.00          |05                  |NULL                       |4090                    |Candidato a Cargo Político Eletivo|\n",
      "+-----------+-----------------------------------------------------+---------------------+-------------------------------+--------------+--------------------+---------------------------+------------------------+----------------------------------+\n",
      "only showing top 2 rows\n",
      "root\n",
      " |-- cnpj_basico: string (nullable = true)\n",
      " |-- razao_social: string (nullable = true)\n",
      " |-- cod_natureza_juridica: string (nullable = true)\n",
      " |-- codigo_qualificacao_responsavel: string (nullable = true)\n",
      " |-- capital_social: decimal(20,2) (nullable = true)\n",
      " |-- codigo_porte_empresa: string (nullable = true)\n",
      " |-- ente_federativo_responsavel: string (nullable = true)\n",
      " |-- codigo_natureza_juridica: string (nullable = true)\n",
      " |-- natureza_juridica: string (nullable = true)\n",
      "\n"
     ]
    }
   ],
   "source": [
    "# Resultado do join anterior\n",
    "\n",
    "df_empresas_joined_natureza_juridica.show(2, truncate=False)\n",
    "df_empresas_joined_natureza_juridica.printSchema()"
   ]
  },
  {
   "cell_type": "code",
   "execution_count": 127,
   "id": "305d65fa",
   "metadata": {},
   "outputs": [],
   "source": [
    "# Renomeando coluna para evitar conflito\n",
    "\n",
    "df_empresas_joined_natureza_juridica = df_empresas_joined_natureza_juridica.withColumnRenamed(\"cnpj_basico\", \"empresa_cnpj_basico\")"
   ]
  },
  {
   "cell_type": "code",
   "execution_count": 128,
   "id": "2fd60e4e",
   "metadata": {},
   "outputs": [],
   "source": [
    "# Construção da tabela fato conforme solicitado\n",
    "\n",
    "df_tabela_fato: DataFrame = (\n",
    "    df_estabelecimentos\n",
    "    .join(df_cnae, df_estabelecimentos.cnae_fiscal == df_cnae.codigo_cnae, how=\"left\")\n",
    "    .join(df_municipios_rf, df_estabelecimentos.codigo_municipio == df_municipios_rf.id_municipio, how=\"left\")\n",
    "    .join(df_empresas_joined_natureza_juridica, df_estabelecimentos.cnpj_base == df_empresas_joined_natureza_juridica.empresa_cnpj_basico, how='left')\n",
    "    .join(df_simples, df_estabelecimentos.cnpj_base == df_simples.cnpj_basico, how=\"left\")\n",
    ")"
   ]
  },
  {
   "cell_type": "code",
   "execution_count": 129,
   "id": "8593dad4",
   "metadata": {},
   "outputs": [
    {
     "name": "stdout",
     "output_type": "stream",
     "text": [
      "root\n",
      " |-- cnpj_completo: string (nullable = true)\n",
      " |-- cnpj_base: string (nullable = true)\n",
      " |-- cnpj_ordem: string (nullable = true)\n",
      " |-- cnpj_dv: string (nullable = true)\n",
      " |-- matriz_filial: string (nullable = true)\n",
      " |-- nome_fantasia: string (nullable = true)\n",
      " |-- situacao_cadastral: string (nullable = true)\n",
      " |-- data_situacao_cadastral: date (nullable = true)\n",
      " |-- motivo_situacao_cadastral: string (nullable = true)\n",
      " |-- nome_cidade_exterior: string (nullable = true)\n",
      " |-- codigo_pais: string (nullable = true)\n",
      " |-- data_inicio_atividade: date (nullable = true)\n",
      " |-- cnae_fiscal: string (nullable = true)\n",
      " |-- cnae_fiscal_secundaria: string (nullable = true)\n",
      " |-- tipo_logradouro: string (nullable = true)\n",
      " |-- logradouro: string (nullable = true)\n",
      " |-- numero: string (nullable = true)\n",
      " |-- complemento: string (nullable = true)\n",
      " |-- bairro: string (nullable = true)\n",
      " |-- cep: string (nullable = true)\n",
      " |-- uf: string (nullable = true)\n",
      " |-- codigo_municipio: string (nullable = true)\n",
      " |-- ddd1: string (nullable = true)\n",
      " |-- telefone1: string (nullable = true)\n",
      " |-- ddd2: string (nullable = true)\n",
      " |-- telefone2: string (nullable = true)\n",
      " |-- ddd_fax: string (nullable = true)\n",
      " |-- fax: string (nullable = true)\n",
      " |-- email: string (nullable = true)\n",
      " |-- situacao_especial: string (nullable = true)\n",
      " |-- data_situacao_especial: date (nullable = true)\n",
      " |-- codigo_cnae: string (nullable = true)\n",
      " |-- descricao_cnae: string (nullable = true)\n",
      " |-- id_municipio: string (nullable = true)\n",
      " |-- municipio: string (nullable = true)\n",
      " |-- empresa_cnpj_basico: string (nullable = true)\n",
      " |-- razao_social: string (nullable = true)\n",
      " |-- cod_natureza_juridica: string (nullable = true)\n",
      " |-- codigo_qualificacao_responsavel: string (nullable = true)\n",
      " |-- capital_social: decimal(20,2) (nullable = true)\n",
      " |-- codigo_porte_empresa: string (nullable = true)\n",
      " |-- ente_federativo_responsavel: string (nullable = true)\n",
      " |-- codigo_natureza_juridica: string (nullable = true)\n",
      " |-- natureza_juridica: string (nullable = true)\n",
      " |-- cnpj_basico: string (nullable = true)\n",
      " |-- opcao_simples: string (nullable = true)\n",
      " |-- data_opcao_simples: date (nullable = true)\n",
      " |-- data_exclusao_simples: date (nullable = true)\n",
      " |-- opcao_mei: string (nullable = true)\n",
      " |-- data_opcao_mei: date (nullable = true)\n",
      " |-- data_exclusao_mei: date (nullable = true)\n",
      "\n"
     ]
    }
   ],
   "source": [
    "# Visualização do Schema\n",
    "\n",
    "df_tabela_fato.printSchema()"
   ]
  },
  {
   "cell_type": "code",
   "execution_count": 130,
   "id": "91386163",
   "metadata": {},
   "outputs": [
    {
     "name": "stderr",
     "output_type": "stream",
     "text": [
      "[Stage 313:===============================================>       (12 + 2) / 14]\r"
     ]
    },
    {
     "name": "stdout",
     "output_type": "stream",
     "text": [
      "+--------------+---------+----------+-------+-------------+-------------+------------------+-----------------------+-------------------------+--------------------+-----------+---------------------+-----------+----------------------+---------------+-------------+------+-----------+----------+--------+---+----------------+----+---------+----+---------+-------+----+------------------------------+-----------------+----------------------+-----------+------------------------------------------------------------------------+------------+---------+-------------------+------------+---------------------+-------------------------------+--------------+--------------------+---------------------------+------------------------+-----------------+-----------+-------------+------------------+---------------------+---------+--------------+-----------------+\n",
      "|cnpj_completo |cnpj_base|cnpj_ordem|cnpj_dv|matriz_filial|nome_fantasia|situacao_cadastral|data_situacao_cadastral|motivo_situacao_cadastral|nome_cidade_exterior|codigo_pais|data_inicio_atividade|cnae_fiscal|cnae_fiscal_secundaria|tipo_logradouro|logradouro   |numero|complemento|bairro    |cep     |uf |codigo_municipio|ddd1|telefone1|ddd2|telefone2|ddd_fax|fax |email                         |situacao_especial|data_situacao_especial|codigo_cnae|descricao_cnae                                                          |id_municipio|municipio|empresa_cnpj_basico|razao_social|cod_natureza_juridica|codigo_qualificacao_responsavel|capital_social|codigo_porte_empresa|ente_federativo_responsavel|codigo_natureza_juridica|natureza_juridica|cnpj_basico|opcao_simples|data_opcao_simples|data_exclusao_simples|opcao_mei|data_opcao_mei|data_exclusao_mei|\n",
      "+--------------+---------+----------+-------+-------------+-------------+------------------+-----------------------+-------------------------+--------------------+-----------+---------------------+-----------+----------------------+---------------+-------------+------+-----------+----------+--------+---+----------------+----+---------+----+---------+-------+----+------------------------------+-----------------+----------------------+-----------+------------------------------------------------------------------------+------------+---------+-------------------+------------+---------------------+-------------------------------+--------------+--------------------+---------------------------+------------------------+-----------------+-----------+-------------+------------------+---------------------+---------+--------------+-----------------+\n",
      "|13270673000103|13270673 |0001      |03     |1            |NULL         |08                |2008-12-31             |71                       |NULL                |NULL       |1983-08-22           |4649401    |NULL                  |AVENIDA        |SAN MARTIN   |295   |LOJA A     |SAN MARTIN|40330330|BA |3849            |NULL|NULL     |NULL|NULL     |NULL   |NULL|NULL                          |NULL             |NULL                  |4649401    |Comércio atacadista de equipamentos elétricos de uso pessoal e doméstico|3849        |SALVADOR |NULL               |NULL        |NULL                 |NULL                           |NULL          |NULL                |NULL                       |NULL                    |NULL             |NULL       |NULL         |NULL              |NULL                 |NULL     |NULL          |NULL             |\n",
      "|22064657000155|22064657 |0001      |55     |1            |DONDOCA      |08                |2015-05-18             |01                       |NULL                |NULL       |2015-03-17           |4781400    |4755503               |RUA            |ADELINA DE SA|19    |LOJA FEIRA |CENTRO    |42800060|BA |3413            |71  |36444511 |NULL|NULL     |NULL   |NULL|adilton_junior_@hotmail.com.br|NULL             |NULL                  |4781400    |Comércio varejista de artigos do vestuário e acessórios                 |3413        |CAMACARI |NULL               |NULL        |NULL                 |NULL                           |NULL          |NULL                |NULL                       |NULL                    |NULL             |22064657   |N            |2015-03-17        |2015-05-18           |N        |2015-03-17    |2015-05-18       |\n",
      "+--------------+---------+----------+-------+-------------+-------------+------------------+-----------------------+-------------------------+--------------------+-----------+---------------------+-----------+----------------------+---------------+-------------+------+-----------+----------+--------+---+----------------+----+---------+----+---------+-------+----+------------------------------+-----------------+----------------------+-----------+------------------------------------------------------------------------+------------+---------+-------------------+------------+---------------------+-------------------------------+--------------+--------------------+---------------------------+------------------------+-----------------+-----------+-------------+------------------+---------------------+---------+--------------+-----------------+\n",
      "only showing top 2 rows\n"
     ]
    },
    {
     "name": "stderr",
     "output_type": "stream",
     "text": [
      "                                                                                \r"
     ]
    }
   ],
   "source": [
    "# Resultado visual dos dados\n",
    "\n",
    "df_tabela_fato.show(2, truncate=False)"
   ]
  },
  {
   "cell_type": "code",
   "execution_count": 131,
   "id": "68c4f823",
   "metadata": {},
   "outputs": [
    {
     "name": "stderr",
     "output_type": "stream",
     "text": [
      "                                                                                \r"
     ]
    }
   ],
   "source": [
    "# Salvar tabela fato para analise posterior\n",
    "\n",
    "try:\n",
    "    df_tabela_fato.write.format(\"delta\") \\\n",
    "        .mode(\"overwrite\") \\\n",
    "        .partitionBy(\"uf\") \\\n",
    "        .save(\"../CONSOLIDADO/01_TABELA_FATO\")\n",
    "except Exception as e:\n",
    "    print(f\"Erro ao gravar: {e}\")"
   ]
  },
  {
   "cell_type": "code",
   "execution_count": 97,
   "id": "bc2aa92b",
   "metadata": {},
   "outputs": [
    {
     "name": "stderr",
     "output_type": "stream",
     "text": [
      "[Stage 193:===================>                                     (1 + 2) / 3]\r"
     ]
    },
    {
     "name": "stdout",
     "output_type": "stream",
     "text": [
      "+--------------+------------------+------------------+--------------+------------------------------+\n",
      "|CNPJ          |NOME FANTASIA     |SITUAÇÃO CADASTRAL|CNAE PRINCIPAL|ENDEREÇO                      |\n",
      "+--------------+------------------+------------------+--------------+------------------------------+\n",
      "|18812776000171|MERCEARIA SAO JOSE|08                |8888888       |RUA ALFREDO DE CASTRO, 2      |\n",
      "|31679901000185|WEDO              |02                |8599604       |RUA DIVA PRADO DE AZEVEDO, 111|\n",
      "+--------------+------------------+------------------+--------------+------------------------------+\n",
      "only showing top 2 rows\n"
     ]
    },
    {
     "name": "stderr",
     "output_type": "stream",
     "text": [
      "                                                                                \r"
     ]
    }
   ],
   "source": [
    "# Selecionando partes importantes\n",
    "df_tabela_fato.select(\n",
    "    df_tabela_fato[\"cnpj_completo\"].alias(\"CNPJ\"),\n",
    "    df_tabela_fato[\"nome_fantasia\"].alias(\"NOME FANTASIA\"),\n",
    "    df_tabela_fato[\"situacao_cadastral\"].alias(\"SITUAÇÃO CADASTRAL\"),\n",
    "    df_tabela_fato[\"cnae_fiscal\"].alias(\"CNAE PRINCIPAL\"),\n",
    "    f.concat(\n",
    "        df_tabela_fato[\"tipo_logradouro\"],\n",
    "        f.lit(\" \"),\n",
    "        df_tabela_fato[\"logradouro\"],\n",
    "        f.lit(\", \"),\n",
    "        df_tabela_fato[\"numero\"],\n",
    "    ).alias(\"ENDEREÇO\")\n",
    ").filter(df_tabela_fato[\"nome_fantasia\"].isNotNull()).show(2, truncate=False)"
   ]
  },
  {
   "cell_type": "markdown",
   "id": "0f5a3392",
   "metadata": {},
   "source": [
    "## Viagem no tempo (Time Travel)"
   ]
  },
  {
   "cell_type": "code",
   "execution_count": null,
   "id": "89ddf6b8",
   "metadata": {},
   "outputs": [
    {
     "name": "stdout",
     "output_type": "stream",
     "text": [
      "+-------+--------------------+------+--------+---------+--------------------+----+--------+---------+-----------+--------------+-------------+--------------------+------------+--------------------+\n",
      "|version|           timestamp|userId|userName|operation| operationParameters| job|notebook|clusterId|readVersion|isolationLevel|isBlindAppend|    operationMetrics|userMetadata|          engineInfo|\n",
      "+-------+--------------------+------+--------+---------+--------------------+----+--------+---------+-----------+--------------+-------------+--------------------+------------+--------------------+\n",
      "|     22|2025-07-18 18:56:...|  NULL|    NULL|    WRITE|{mode -> Overwrit...|NULL|    NULL|     NULL|         21|  Serializable|        false|{numFiles -> 75, ...|        NULL|Apache-Spark/4.0....|\n",
      "|     21|2025-07-18 18:46:...|  NULL|    NULL|   UPDATE|{predicate -> [\"N...|NULL|    NULL|     NULL|         20|  Serializable|        false|{numRemovedFiles ...|        NULL|Apache-Spark/4.0....|\n",
      "|     20|2025-07-18 18:40:...|  NULL|    NULL|   UPDATE|{predicate -> [\"(...|NULL|    NULL|     NULL|         19|  Serializable|        false|{numRemovedFiles ...|        NULL|Apache-Spark/4.0....|\n",
      "|     19|2025-07-18 18:20:...|  NULL|    NULL|   UPDATE|{predicate -> [\"(...|NULL|    NULL|     NULL|         18|  Serializable|        false|{numRemovedFiles ...|        NULL|Apache-Spark/4.0....|\n",
      "|     18|2025-07-18 18:18:...|  NULL|    NULL|  RESTORE|{version -> 16, t...|NULL|    NULL|     NULL|         17|  Serializable|        false|{numRestoredFiles...|        NULL|Apache-Spark/4.0....|\n",
      "|     17|2025-07-18 18:04:...|  NULL|    NULL|   UPDATE|{predicate -> [\"(...|NULL|    NULL|     NULL|         16|  Serializable|        false|{numRemovedFiles ...|        NULL|Apache-Spark/4.0....|\n",
      "|     16|2025-07-18 17:53:...|  NULL|    NULL|   UPDATE|{predicate -> [\"(...|NULL|    NULL|     NULL|         15|  Serializable|        false|{numRemovedFiles ...|        NULL|Apache-Spark/4.0....|\n",
      "|     15|2025-07-18 17:45:...|  NULL|    NULL|   UPDATE|{predicate -> [\"(...|NULL|    NULL|     NULL|         14|  Serializable|        false|{numRemovedFiles ...|        NULL|Apache-Spark/4.0....|\n",
      "|     14|2025-07-18 17:42:...|  NULL|    NULL|   UPDATE|{predicate -> [\"(...|NULL|    NULL|     NULL|         13|  Serializable|        false|{numRemovedFiles ...|        NULL|Apache-Spark/4.0....|\n",
      "|     13|2025-07-18 17:38:...|  NULL|    NULL|   UPDATE|{predicate -> [\"(...|NULL|    NULL|     NULL|         12|  Serializable|        false|{numRemovedFiles ...|        NULL|Apache-Spark/4.0....|\n",
      "|     12|2025-07-18 17:31:...|  NULL|    NULL|   UPDATE|{predicate -> [\"(...|NULL|    NULL|     NULL|         11|  Serializable|        false|{numRemovedFiles ...|        NULL|Apache-Spark/4.0....|\n",
      "|     11|2025-07-18 17:22:...|  NULL|    NULL|   UPDATE|{predicate -> [\"(...|NULL|    NULL|     NULL|         10|  Serializable|        false|{numRemovedFiles ...|        NULL|Apache-Spark/4.0....|\n",
      "|     10|2025-07-18 17:16:...|  NULL|    NULL|   UPDATE|{predicate -> [\"(...|NULL|    NULL|     NULL|          9|  Serializable|        false|{numRemovedFiles ...|        NULL|Apache-Spark/4.0....|\n",
      "|      9|2025-07-18 16:58:...|  NULL|    NULL|   UPDATE|{predicate -> [\"(...|NULL|    NULL|     NULL|          8|  Serializable|        false|{numRemovedFiles ...|        NULL|Apache-Spark/4.0....|\n",
      "|      8|2025-07-18 16:54:...|  NULL|    NULL|   UPDATE|{predicate -> [\"(...|NULL|    NULL|     NULL|          7|  Serializable|        false|{numRemovedFiles ...|        NULL|Apache-Spark/4.0....|\n",
      "|      7|2025-07-18 16:49:...|  NULL|    NULL|   UPDATE|{predicate -> [\"(...|NULL|    NULL|     NULL|          6|  Serializable|        false|{numRemovedFiles ...|        NULL|Apache-Spark/4.0....|\n",
      "|      6|2025-07-18 16:47:...|  NULL|    NULL|   UPDATE|{predicate -> [\"(...|NULL|    NULL|     NULL|          5|  Serializable|        false|{numRemovedFiles ...|        NULL|Apache-Spark/4.0....|\n",
      "|      5| 2025-07-18 16:31:44|  NULL|    NULL|   UPDATE|{predicate -> [\"(...|NULL|    NULL|     NULL|          4|  Serializable|        false|{numRemovedFiles ...|        NULL|Apache-Spark/4.0....|\n",
      "|      4|2025-07-18 16:21:...|  NULL|    NULL|   UPDATE|{predicate -> [\"(...|NULL|    NULL|     NULL|          3|  Serializable|        false|{numRemovedFiles ...|        NULL|Apache-Spark/4.0....|\n",
      "|      3|2025-07-18 15:46:...|  NULL|    NULL|   UPDATE|{predicate -> [\"(...|NULL|    NULL|     NULL|          2|  Serializable|        false|{numRemovedFiles ...|        NULL|Apache-Spark/4.0....|\n",
      "+-------+--------------------+------+--------+---------+--------------------+----+--------+---------+-----------+--------------+-------------+--------------------+------------+--------------------+\n",
      "only showing top 20 rows\n"
     ]
    }
   ],
   "source": [
    "deltaTable_estabelecimentos_trs.history().show()"
   ]
  },
  {
   "cell_type": "code",
   "execution_count": null,
   "id": "ee27f9cb",
   "metadata": {},
   "outputs": [
    {
     "name": "stderr",
     "output_type": "stream",
     "text": [
      "                                                                                \r"
     ]
    },
    {
     "name": "stdout",
     "output_type": "stream",
     "text": [
      "+---------+----------+-------+-------------+--------------------+------------------+-----------------------+-------------------------+--------------------+----+---------------------+-----------+----------------------+---------------+--------------------+------+--------------------+--------------------+--------+---+----------------+----+---------+----+---------+-------+--------+--------------------+-----------------+----------------------+\n",
      "|cnpj_base|cnpj_ordem|cnpj_dv|matriz_filial|       nome_fantasia|situacao_cadastral|data_situacao_cadastral|motivo_situacao_cadastral|nome_cidade_exterior|pais|data_inicio_atividade|cnae_fiscal|cnae_fiscal_secundaria|tipo_logradouro|          logradouro|numero|         complemento|              bairro|     cep| uf|codigo_municipio|ddd1|telefone1|ddd2|telefone2|ddd_fax|     fax|               email|situacao_especial|data_situacao_especial|\n",
      "+---------+----------+-------+-------------+--------------------+------------------+-----------------------+-------------------------+--------------------+----+---------------------+-----------+----------------------+---------------+--------------------+------+--------------------+--------------------+--------+---+----------------+----+---------+----+---------+-------+--------+--------------------+-----------------+----------------------+\n",
      "| 25002965|      0001|     44|            1|      PURIFIC CENTRO|                04|               20190320|                       63|                NULL|NULL|             19881018|    4759899|                  NULL|            RUA|       NACOES UNIDAS|   338|            SALA  01|       SANTOS DUMONT|68795000| PA|            0429|  91| 32492329|NULL|     NULL|   NULL|    NULL| emmj21@yahoo.com.br|             NULL|                  NULL|\n",
      "| 07551018|      0001|     20|            1|       PORTA IMPORTA|                08|               20190118|                       01|                NULL|NULL|             20050812|    4693100|               4691500|            RUA|   LEOPOLDO TEIXIERA|    48|                   A|              CENTRO|67030000| PA|            0415|  91| 32552898|NULL|     NULL|     91|32552898|                NULL|             NULL|                  NULL|\n",
      "| 06800487|      0001|     73|            1|                NULL|                08|               20041231|                       01|                NULL|NULL|             20040727|    9492800|                  NULL|        RODOVIA|PA 127 (IGARAPE A...| KM 25|          ZONA RURAL| LOCALIDADE DO KM 25|68710000| PA|            0485|NULL|     NULL|NULL|     NULL|   NULL|    NULL|                NULL|             NULL|                  NULL|\n",
      "| 07565904|      0001|     03|            1|          ITINERANTE|                08|               20150209|                       73|                NULL|NULL|             20050802|    9491000|                  NULL|       TRAVESSA|       CAPITAO ASSIS|   703|                NULL|              CENTRO|68800000| PA|            0435|NULL|     NULL|NULL|     NULL|   NULL|    NULL|                NULL|             NULL|                  NULL|\n",
      "| 06807098|      0001|     70|            1|                NULL|                08|               20041231|                       01|                NULL|NULL|             20040727|    9492800|                  NULL|            RUA|GENERALISSIMO DEO...|   341|PROX ESC JOSE CON...|            UMARIZAL|68750000| PA|            0457|NULL|     NULL|NULL|     NULL|   NULL|    NULL|                NULL|             NULL|                  NULL|\n",
      "| 07587610|      0001|     82|            1|      GIL MOTO PECAS|                04|               20180925|                       63|                NULL|NULL|             20050727|    4541206|                  NULL|        AVENIDA|          PERIMETRAL|   335|                NULL|       CASA DE TABUA|68565000| PA|            0599|  94| 34311385|NULL|     NULL|     94|34311385|                NULL|             NULL|                  NULL|\n",
      "| 06815782|      0001|     01|            1|                NULL|                08|               20041231|                       01|                NULL|NULL|             20040728|    9492800|                  NULL|        AVENIDA|DEZESSETE DE DEZE...|     1|                NULL|              CENTRO|68707000| PA|            0521|NULL|     NULL|NULL|     NULL|   NULL|    NULL|                NULL|             NULL|                  NULL|\n",
      "| 07593945|      0001|     03|            1|           AGRICOSAL|                08|               20150209|                       73|                NULL|NULL|             20050620|    9430800|       9493600,9499500|           NULL|COMUNIDADE SANTA ...|    SN|                NULL|COMUNIDADE SANTA LUZ|68488000| PA|            0625|NULL|     NULL|NULL|     NULL|   NULL|    NULL|                NULL|             NULL|                  NULL|\n",
      "| 06825260|      0001|     82|            1|                NULL|                08|               20041231|                       01|                NULL|NULL|             20040728|    9492800|                  NULL|        AVENIDA|       7 DE SETEMBRO|  1954|                NULL|              CENTRO|68543000| PA|            0052|NULL|     NULL|NULL|     NULL|   NULL|    NULL|                NULL|             NULL|                  NULL|\n",
      "| 07595971|      0001|     70|            1|ESCOLA JOAQUIM XA...|                02|               20190330|                       00|                NULL|NULL|             20050726|    8550301|                  NULL|           NULL|VICINAL DO PROJET...|     0|                NULL|          ZONA RURAL|68695000| PA|            0395|NULL|     NULL|NULL|     NULL|   NULL|    NULL|                NULL|             NULL|                  NULL|\n",
      "| 06838453|      0001|     78|            1|                NULL|                08|               20041231|                       01|                NULL|NULL|             20040728|    9492800|                  NULL|        AVENIDA|          NS SANTANA|   130|                NULL|              CENTRO|68565000| PA|            0599|NULL|     NULL|NULL|     NULL|   NULL|    NULL|                NULL|             NULL|                  NULL|\n",
      "| 07597721|      0001|     70|            1|CEREALISTA KI-BRASIL|                02|               20050914|                       00|                NULL|NULL|             20050914|    1063500|  4120400,4211101,4...|        AVENIDA|         SANTA MARIA|   114|                NULL|              CENTRO|68738000| PA|            0531|  91| 91141113|NULL|     NULL|   NULL|    NULL|KIBRASILCOM@HOTMA...|             NULL|                  NULL|\n",
      "| 06839750|      0001|     38|            1|                NULL|                08|               20041231|                       01|                NULL|NULL|             20040728|    9492800|                  NULL|        AVENIDA|          ITACAIUNAS|  2135|         CIDADE NOVA|         CIDADE NOVA|68500005| PA|            0483|NULL|     NULL|NULL|     NULL|   NULL|    NULL|                NULL|             NULL|                  NULL|\n",
      "| 07606523|      0001|     25|            1|              ACFRIM|                04|               20181213|                       63|                NULL|NULL|             20050817|    9430800|       9493600,9499500|         OUTROS|     RIO MERUU - ACU|   S/N|         PONTA NEGRA|          ZONA RURAL|68430000| PA|            0465|  91| 37551392|NULL|     NULL|   NULL|    NULL|                NULL|             NULL|                  NULL|\n",
      "| 06856092|      0001|     92|            1|                NULL|                08|               20041231|                       01|                NULL|NULL|             20040728|    9492800|                  NULL|        AVENIDA|            SAPUCAIA|   397|                NULL|              CENTRO|68548000| PA|            0066|NULL|     NULL|NULL|     NULL|   NULL|    NULL|                NULL|             NULL|                  NULL|\n",
      "| 07606800|      0001|     08|            1|FARMACIA ROCHA ET...|                08|               20150209|                       73|                NULL|NULL|             20050914|    4771701|       4773300,4772500|        AVENIDA|FELIX CLEMENTE MA...|    10|             QDA 130|            PIONEIRO|68447000| PA|            0425|  91| 81366707|  91| 91235338|     91|37541180|                NULL|             NULL|                  NULL|\n",
      "| 06868284|      0001|     19|            1|                NULL|                08|               20041231|                       01|                NULL|NULL|             20040802|    9492800|                  NULL|           NULL|   JARBAS PASSARINHO|   220|                NULL|              CENTRO|68520000| PA|            0381|NULL|     NULL|NULL|     NULL|   NULL|    NULL|                NULL|             NULL|                  NULL|\n",
      "| 07607877|      0001|     94|            1|            APROCBOP|                04|               20181213|                       63|                NULL|NULL|             20050926|    9430800|  9001906,9493600,9...|         OUTROS|      PISTA DE POUSO|   S/N|                NULL|         SANTA MARIA|68470000| PA|            0503|  91| 37812605|NULL|     NULL|   NULL|    NULL|                NULL|             NULL|                  NULL|\n",
      "| 06869257|      0001|     60|            1|                NULL|                08|               20041231|                       01|                NULL|NULL|             20040802|    9492800|                  NULL|            RUA|  DR FRANCISCO NOBRE|   669|                NULL|              CENTRO|68540000| PA|            0453|NULL|     NULL|NULL|     NULL|   NULL|    NULL|                NULL|             NULL|                  NULL|\n",
      "| 07610658|      0001|     64|            1|     NEW INFORMATICA|                04|               20181002|                       63|                NULL|NULL|             20050916|    4751201|  9511800,4751202,7...|            RUA|         LAURO SODRE|  2761|                NULL|    PERPETUO SOCORRO|68270000| PA|            0505|  93| 35441409|NULL|     NULL|   NULL|    NULL|                NULL|             NULL|                  NULL|\n",
      "+---------+----------+-------+-------------+--------------------+------------------+-----------------------+-------------------------+--------------------+----+---------------------+-----------+----------------------+---------------+--------------------+------+--------------------+--------------------+--------+---+----------------+----+---------+----+---------+-------+--------+--------------------+-----------------+----------------------+\n",
      "only showing top 20 rows\n"
     ]
    }
   ],
   "source": [
    "\n",
    "# Ver versões espeicificas\n",
    "spark.read.format(\"delta\") \\\n",
    "    .option(\"versionAsOf\", 16) \\\n",
    "    .load(\"../TRS/estabelecimentos\") \\\n",
    "    .show()"
   ]
  },
  {
   "cell_type": "code",
   "execution_count": null,
   "id": "27dd41fb",
   "metadata": {},
   "outputs": [
    {
     "name": "stderr",
     "output_type": "stream",
     "text": [
      "25/07/18 18:18:47 WARN DAGScheduler: Broadcasting large task binary with size 1119.4 KiB\n",
      "                                                                                \r"
     ]
    },
    {
     "data": {
      "text/plain": [
       "DataFrame[table_size_after_restore: bigint, num_of_files_after_restore: bigint, num_removed_files: bigint, num_restored_files: bigint, removed_files_size: bigint, restored_files_size: bigint]"
      ]
     },
     "execution_count": 107,
     "metadata": {},
     "output_type": "execute_result"
    }
   ],
   "source": [
    "# Restaurar versão\n",
    "\n",
    "# deltaTable.restoreToVersion(16)"
   ]
  },
  {
   "cell_type": "markdown",
   "id": "fd2de010",
   "metadata": {},
   "source": [
    "## Finalizar Spark"
   ]
  },
  {
   "cell_type": "code",
   "execution_count": 132,
   "id": "f4483fbc",
   "metadata": {},
   "outputs": [],
   "source": [
    "spark.stop()"
   ]
  },
  {
   "cell_type": "code",
   "execution_count": null,
   "id": "d9b48daa",
   "metadata": {},
   "outputs": [],
   "source": []
  }
 ],
 "metadata": {
  "kernelspec": {
   "display_name": "venv",
   "language": "python",
   "name": "python3"
  },
  "language_info": {
   "codemirror_mode": {
    "name": "ipython",
    "version": 3
   },
   "file_extension": ".py",
   "mimetype": "text/x-python",
   "name": "python",
   "nbconvert_exporter": "python",
   "pygments_lexer": "ipython3",
   "version": "3.12.3"
  }
 },
 "nbformat": 4,
 "nbformat_minor": 5
}
