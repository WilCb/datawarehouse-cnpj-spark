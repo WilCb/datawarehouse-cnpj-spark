{
 "cells": [
  {
   "cell_type": "markdown",
   "id": "964e0313",
   "metadata": {},
   "source": [
    "# Transformações e Padronizações – Camada Trusted"
   ]
  },
  {
   "cell_type": "markdown",
   "id": "4673404c",
   "metadata": {},
   "source": [
    "Este notebook realiza a transformação dos dados provenientes da camada RAW, aplicando regras de limpeza, normalização, padronização de tipos, renomeação de colunas e modelagem estrutural. O objetivo é gerar datasets confiáveis, prontos para análises, integração e futura carga na camada Refined ou Gold.\n",
    "\n",
    "As tabelas tratadas incluem: **empresas**, **estabelecimentos**, **sócios**, **simples_nacional**, **CNAE**, **municípios**, **natureza_jurídica**, **motivos** e **países**."
   ]
  },
  {
   "cell_type": "code",
   "execution_count": 79,
   "id": "92ec6aab",
   "metadata": {},
   "outputs": [],
   "source": [
    "# Para iniciar a seção spark\n",
    "from pyspark.sql import SparkSession, DataFrame\n",
    "from pyspark.sql.types import StructType, StructField, StringType, DoubleType, DecimalType\n",
    "from pyspark.sql import functions as f\n",
    "from delta import configure_spark_with_delta_pip\n",
    "from delta.tables import DeltaTable"
   ]
  },
  {
   "cell_type": "code",
   "execution_count": 80,
   "id": "06ca54be",
   "metadata": {},
   "outputs": [],
   "source": [
    "builder = SparkSession.builder \\\n",
    "    .appName(\"App Preparação RAW\") \\\n",
    "    .config(\"spark.sql.extensions\", \"io.delta.sql.DeltaSparkSessionExtension\") \\\n",
    "    .config(\"spark.sql.catalog.spark_catalog\", \"org.apache.spark.sql.delta.catalog.DeltaCatalog\") \\\n",
    "    .config(\"spark.driver.memory\", \"2g\") \\\n",
    "    .config(\"spark.executor.memory\", \"2g\")\n",
    "\n",
    "spark: SparkSession = configure_spark_with_delta_pip(builder).getOrCreate()"
   ]
  },
  {
   "cell_type": "markdown",
   "id": "25db165d",
   "metadata": {},
   "source": [
    "## TRUSTED - Municipios"
   ]
  },
  {
   "cell_type": "markdown",
   "id": "1bcee699",
   "metadata": {},
   "source": [
    "### Etapa 1: Leitura da camada RAW"
   ]
  },
  {
   "cell_type": "code",
   "execution_count": 157,
   "id": "bcca40aa",
   "metadata": {},
   "outputs": [
    {
     "name": "stderr",
     "output_type": "stream",
     "text": [
      "                                                                                \r"
     ]
    },
    {
     "name": "stdout",
     "output_type": "stream",
     "text": [
      "+-------+------------------------+----------------------------------------------------------------------------------------+-----------------------------------------------------------------------------+\n",
      "|id     |nome                    |microrregiao                                                                            |regiao-imediata                                                              |\n",
      "+-------+------------------------+----------------------------------------------------------------------------------------+-----------------------------------------------------------------------------+\n",
      "|1100015|Alta Floresta D'Oeste   |{11006, Cacoal, {1102, Leste Rondoniense, {11, RO, Rondônia, {1, N, Norte}}}}           |{110005, Cacoal, {1102, Ji-Paraná, {11, RO, Rondônia, {1, N, Norte}}}}       |\n",
      "|1100023|Ariquemes               |{11003, Ariquemes, {1102, Leste Rondoniense, {11, RO, Rondônia, {1, N, Norte}}}}        |{110002, Ariquemes, {1101, Porto Velho, {11, RO, Rondônia, {1, N, Norte}}}}  |\n",
      "|1100031|Cabixi                  |{11008, Colorado do Oeste, {1102, Leste Rondoniense, {11, RO, Rondônia, {1, N, Norte}}}}|{110006, Vilhena, {1102, Ji-Paraná, {11, RO, Rondônia, {1, N, Norte}}}}      |\n",
      "|1100049|Cacoal                  |{11006, Cacoal, {1102, Leste Rondoniense, {11, RO, Rondônia, {1, N, Norte}}}}           |{110005, Cacoal, {1102, Ji-Paraná, {11, RO, Rondônia, {1, N, Norte}}}}       |\n",
      "|1100056|Cerejeiras              |{11008, Colorado do Oeste, {1102, Leste Rondoniense, {11, RO, Rondônia, {1, N, Norte}}}}|{110006, Vilhena, {1102, Ji-Paraná, {11, RO, Rondônia, {1, N, Norte}}}}      |\n",
      "|1100064|Colorado do Oeste       |{11008, Colorado do Oeste, {1102, Leste Rondoniense, {11, RO, Rondônia, {1, N, Norte}}}}|{110006, Vilhena, {1102, Ji-Paraná, {11, RO, Rondônia, {1, N, Norte}}}}      |\n",
      "|1100072|Corumbiara              |{11008, Colorado do Oeste, {1102, Leste Rondoniense, {11, RO, Rondônia, {1, N, Norte}}}}|{110006, Vilhena, {1102, Ji-Paraná, {11, RO, Rondônia, {1, N, Norte}}}}      |\n",
      "|1100080|Costa Marques           |{11002, Guajará-Mirim, {1101, Madeira-Guaporé, {11, RO, Rondônia, {1, N, Norte}}}}      |{110004, Ji-Paraná, {1102, Ji-Paraná, {11, RO, Rondônia, {1, N, Norte}}}}    |\n",
      "|1100098|Espigão D'Oeste         |{11006, Cacoal, {1102, Leste Rondoniense, {11, RO, Rondônia, {1, N, Norte}}}}           |{110005, Cacoal, {1102, Ji-Paraná, {11, RO, Rondônia, {1, N, Norte}}}}       |\n",
      "|1100106|Guajará-Mirim           |{11002, Guajará-Mirim, {1101, Madeira-Guaporé, {11, RO, Rondônia, {1, N, Norte}}}}      |{110001, Porto Velho, {1101, Porto Velho, {11, RO, Rondônia, {1, N, Norte}}}}|\n",
      "|1100114|Jaru                    |{11004, Ji-Paraná, {1102, Leste Rondoniense, {11, RO, Rondônia, {1, N, Norte}}}}        |{110003, Jaru, {1101, Porto Velho, {11, RO, Rondônia, {1, N, Norte}}}}       |\n",
      "|1100122|Ji-Paraná               |{11004, Ji-Paraná, {1102, Leste Rondoniense, {11, RO, Rondônia, {1, N, Norte}}}}        |{110004, Ji-Paraná, {1102, Ji-Paraná, {11, RO, Rondônia, {1, N, Norte}}}}    |\n",
      "|1100130|Machadinho D'Oeste      |{11003, Ariquemes, {1102, Leste Rondoniense, {11, RO, Rondônia, {1, N, Norte}}}}        |{110003, Jaru, {1101, Porto Velho, {11, RO, Rondônia, {1, N, Norte}}}}       |\n",
      "|1100148|Nova Brasilândia D'Oeste|{11005, Alvorada D'Oeste, {1102, Leste Rondoniense, {11, RO, Rondônia, {1, N, Norte}}}} |{110005, Cacoal, {1102, Ji-Paraná, {11, RO, Rondônia, {1, N, Norte}}}}       |\n",
      "|1100155|Ouro Preto do Oeste     |{11004, Ji-Paraná, {1102, Leste Rondoniense, {11, RO, Rondônia, {1, N, Norte}}}}        |{110004, Ji-Paraná, {1102, Ji-Paraná, {11, RO, Rondônia, {1, N, Norte}}}}    |\n",
      "|1100189|Pimenta Bueno           |{11007, Vilhena, {1102, Leste Rondoniense, {11, RO, Rondônia, {1, N, Norte}}}}          |{110005, Cacoal, {1102, Ji-Paraná, {11, RO, Rondônia, {1, N, Norte}}}}       |\n",
      "|1100205|Porto Velho             |{11001, Porto Velho, {1101, Madeira-Guaporé, {11, RO, Rondônia, {1, N, Norte}}}}        |{110001, Porto Velho, {1101, Porto Velho, {11, RO, Rondônia, {1, N, Norte}}}}|\n",
      "|1100254|Presidente Médici       |{11004, Ji-Paraná, {1102, Leste Rondoniense, {11, RO, Rondônia, {1, N, Norte}}}}        |{110004, Ji-Paraná, {1102, Ji-Paraná, {11, RO, Rondônia, {1, N, Norte}}}}    |\n",
      "|1100262|Rio Crespo              |{11003, Ariquemes, {1102, Leste Rondoniense, {11, RO, Rondônia, {1, N, Norte}}}}        |{110002, Ariquemes, {1101, Porto Velho, {11, RO, Rondônia, {1, N, Norte}}}}  |\n",
      "|1100288|Rolim de Moura          |{11006, Cacoal, {1102, Leste Rondoniense, {11, RO, Rondônia, {1, N, Norte}}}}           |{110005, Cacoal, {1102, Ji-Paraná, {11, RO, Rondônia, {1, N, Norte}}}}       |\n",
      "+-------+------------------------+----------------------------------------------------------------------------------------+-----------------------------------------------------------------------------+\n",
      "only showing top 20 rows\n"
     ]
    }
   ],
   "source": [
    "# Carrega dados da camada RAW\n",
    "deltaTable_municipios = DeltaTable.forPath(spark, \"../RAW/municipios\")\n",
    "df_municipios_raw = deltaTable_municipios.toDF()\n",
    "df_municipios_raw.show(truncate=False)"
   ]
  },
  {
   "cell_type": "markdown",
   "id": "8b197a33",
   "metadata": {},
   "source": [
    "### Etapa 2: Transformação dos dados"
   ]
  },
  {
   "cell_type": "markdown",
   "id": "a9fc120a",
   "metadata": {},
   "source": [
    "- Flatten dos campos aninhados\n",
    "\n",
    "- Renomeação das colunas\n",
    "\n",
    "- Padronização de nomes para o padrão Trusted"
   ]
  },
  {
   "cell_type": "code",
   "execution_count": 158,
   "id": "23526bbd",
   "metadata": {},
   "outputs": [],
   "source": [
    "df_municipios_trusted = df_municipios_raw.select(\n",
    "    f.col(\"id\").alias(\"id_municipio\"),\n",
    "    f.col(\"nome\").alias(\"nome_municipio\"),\n",
    "\n",
    "    f.col(\"microrregiao.id\").alias(\"id_microrregiao\"),\n",
    "    f.col(\"microrregiao.nome\").alias(\"nome_microrregiao\"),\n",
    "\n",
    "    f.col(\"microrregiao.mesorregiao.id\").alias(\"id_mesorregiao\"),\n",
    "    f.col(\"microrregiao.mesorregiao.nome\").alias(\"nome_mesorregiao\"),\n",
    "\n",
    "    f.col(\"microrregiao.mesorregiao.UF.id\").alias(\"id_uf\"),\n",
    "    f.col(\"microrregiao.mesorregiao.UF.sigla\").alias(\"sigla_uf\"),\n",
    "    f.col(\"microrregiao.mesorregiao.UF.nome\").alias(\"nome_uf\"),\n",
    "\n",
    "    f.col(\"microrregiao.mesorregiao.UF.regiao.id\").alias(\"id_regiao\"),\n",
    "    f.col(\"microrregiao.mesorregiao.UF.regiao.sigla\").alias(\"sigla_regiao\"),\n",
    "    f.col(\"microrregiao.mesorregiao.UF.regiao.nome\").alias(\"nome_regiao\")\n",
    ")"
   ]
  },
  {
   "cell_type": "code",
   "execution_count": 19,
   "id": "4dbf9750",
   "metadata": {},
   "outputs": [
    {
     "name": "stdout",
     "output_type": "stream",
     "text": [
      "+------------+---------------------+---------------+-----------------+--------------+-----------------+-----+--------+--------+---------+------------+-----------+\n",
      "|id_municipio|nome_municipio       |id_microrregiao|nome_microrregiao|id_mesorregiao|nome_mesorregiao |id_uf|sigla_uf|nome_uf |id_regiao|sigla_regiao|nome_regiao|\n",
      "+------------+---------------------+---------------+-----------------+--------------+-----------------+-----+--------+--------+---------+------------+-----------+\n",
      "|1100015     |Alta Floresta D'Oeste|11006          |Cacoal           |1102          |Leste Rondoniense|11   |RO      |Rondônia|1        |N           |Norte      |\n",
      "|1100023     |Ariquemes            |11003          |Ariquemes        |1102          |Leste Rondoniense|11   |RO      |Rondônia|1        |N           |Norte      |\n",
      "|1100031     |Cabixi               |11008          |Colorado do Oeste|1102          |Leste Rondoniense|11   |RO      |Rondônia|1        |N           |Norte      |\n",
      "|1100049     |Cacoal               |11006          |Cacoal           |1102          |Leste Rondoniense|11   |RO      |Rondônia|1        |N           |Norte      |\n",
      "|1100056     |Cerejeiras           |11008          |Colorado do Oeste|1102          |Leste Rondoniense|11   |RO      |Rondônia|1        |N           |Norte      |\n",
      "+------------+---------------------+---------------+-----------------+--------------+-----------------+-----+--------+--------+---------+------------+-----------+\n",
      "only showing top 5 rows\n",
      "root\n",
      " |-- id_municipio: string (nullable = true)\n",
      " |-- nome_municipio: string (nullable = true)\n",
      " |-- id_microrregiao: string (nullable = true)\n",
      " |-- nome_microrregiao: string (nullable = true)\n",
      " |-- id_mesorregiao: string (nullable = true)\n",
      " |-- nome_mesorregiao: string (nullable = true)\n",
      " |-- id_uf: string (nullable = true)\n",
      " |-- sigla_uf: string (nullable = true)\n",
      " |-- nome_uf: string (nullable = true)\n",
      " |-- id_regiao: string (nullable = true)\n",
      " |-- sigla_regiao: string (nullable = true)\n",
      " |-- nome_regiao: string (nullable = true)\n",
      "\n"
     ]
    }
   ],
   "source": [
    "df_municipios_trusted.show(5, truncate=False)\n",
    "df_municipios_trusted.printSchema()"
   ]
  },
  {
   "cell_type": "markdown",
   "id": "a9b14aaf",
   "metadata": {},
   "source": [
    "### Etapa 3: Escrita na camada Trusted (TRS)"
   ]
  },
  {
   "cell_type": "markdown",
   "id": "6884c1a0",
   "metadata": {},
   "source": [
    "- Particionado por: sigla_uf"
   ]
  },
  {
   "cell_type": "code",
   "execution_count": 159,
   "id": "7ee13bce",
   "metadata": {},
   "outputs": [
    {
     "name": "stdout",
     "output_type": "stream",
     "text": [
      "Dados salvo!\n"
     ]
    }
   ],
   "source": [
    "try:\n",
    "    df_municipios_trusted.write.format(\"delta\") \\\n",
    "        .mode(\"overwrite\") \\\n",
    "        .partitionBy(\"sigla_uf\") \\\n",
    "        .save(\"../TRS/municipios\")\n",
    "    print(\"Dados salvo!\")\n",
    "except Exception as e:\n",
    "    print(e)"
   ]
  },
  {
   "cell_type": "markdown",
   "id": "659480c1",
   "metadata": {},
   "source": [
    "### Etapa 4: Ajuste e Validação"
   ]
  },
  {
   "cell_type": "markdown",
   "id": "b1394e3f",
   "metadata": {},
   "source": [
    "- Releitura para verificação"
   ]
  },
  {
   "cell_type": "code",
   "execution_count": 162,
   "id": "55842429",
   "metadata": {},
   "outputs": [
    {
     "name": "stdout",
     "output_type": "stream",
     "text": [
      "+------------+------------------+---------------+--------------------+--------------+----------------+-----+--------+-------+---------+------------+------------+\n",
      "|id_municipio|nome_municipio    |id_microrregiao|nome_microrregiao   |id_mesorregiao|nome_mesorregiao|id_uf|sigla_uf|nome_uf|id_regiao|sigla_regiao|nome_regiao |\n",
      "+------------+------------------+---------------+--------------------+--------------+----------------+-----+--------+-------+---------+------------+------------+\n",
      "|5200050     |Abadia de Goiás   |52010          |Goiânia             |5203          |Centro Goiano   |52   |GO      |Goiás  |5        |CO          |Centro-Oeste|\n",
      "|5200100     |Abadiânia         |52012          |Entorno de Brasília |5204          |Leste Goiano    |52   |GO      |Goiás  |5        |CO          |Centro-Oeste|\n",
      "|5200134     |Acreúna           |52014          |Vale do Rio dos Bois|5205          |Sul Goiano      |52   |GO      |Goiás  |5        |CO          |Centro-Oeste|\n",
      "|5200159     |Adelândia         |52009          |Anicuns             |5203          |Centro Goiano   |52   |GO      |Goiás  |5        |CO          |Centro-Oeste|\n",
      "|5200175     |Água Fria de Goiás|52012          |Entorno de Brasília |5204          |Leste Goiano    |52   |GO      |Goiás  |5        |CO          |Centro-Oeste|\n",
      "+------------+------------------+---------------+--------------------+--------------+----------------+-----+--------+-------+---------+------------+------------+\n",
      "only showing top 5 rows\n",
      "root\n",
      " |-- id_municipio: string (nullable = true)\n",
      " |-- nome_municipio: string (nullable = true)\n",
      " |-- id_microrregiao: string (nullable = true)\n",
      " |-- nome_microrregiao: string (nullable = true)\n",
      " |-- id_mesorregiao: string (nullable = true)\n",
      " |-- nome_mesorregiao: string (nullable = true)\n",
      " |-- id_uf: string (nullable = true)\n",
      " |-- sigla_uf: string (nullable = true)\n",
      " |-- nome_uf: string (nullable = true)\n",
      " |-- id_regiao: string (nullable = true)\n",
      " |-- sigla_regiao: string (nullable = true)\n",
      " |-- nome_regiao: string (nullable = true)\n",
      "\n"
     ]
    }
   ],
   "source": [
    "try:\n",
    "    deltaTable_municipios = DeltaTable.forPath(spark, \"../TRS/municipios\")\n",
    "    df_municipios_trs = deltaTable_municipios.toDF()\n",
    "    df_municipios_trs.show(5, truncate=False)\n",
    "    df_municipios_trs.printSchema()\n",
    "except Exception as e:\n",
    "    print(f\"Erro: {e}\")"
   ]
  },
  {
   "cell_type": "markdown",
   "id": "11557418",
   "metadata": {},
   "source": [
    "- Validação de nulos (colunas)"
   ]
  },
  {
   "cell_type": "code",
   "execution_count": 163,
   "id": "90ab620f",
   "metadata": {},
   "outputs": [
    {
     "name": "stdout",
     "output_type": "stream",
     "text": [
      "+------------+--------------+---------------+-----------------+--------------+----------------+-----+--------+-------+---------+------------+-----------+\n",
      "|id_municipio|nome_municipio|id_microrregiao|nome_microrregiao|id_mesorregiao|nome_mesorregiao|id_uf|sigla_uf|nome_uf|id_regiao|sigla_regiao|nome_regiao|\n",
      "+------------+--------------+---------------+-----------------+--------------+----------------+-----+--------+-------+---------+------------+-----------+\n",
      "|           0|             0|              1|                1|             1|               1|    1|       1|      1|        1|           1|          1|\n",
      "+------------+--------------+---------------+-----------------+--------------+----------------+-----+--------+-------+---------+------------+-----------+\n",
      "\n"
     ]
    }
   ],
   "source": [
    "try:\n",
    "    df_municipios_trs.select([\n",
    "        f.sum(f.col(c).isNull().cast(\"int\")).alias(c)\n",
    "        for c in df_municipios_trs.columns\n",
    "    ]).show()\n",
    "except Exception as e:\n",
    "    print(f\"Erro: {e}\")"
   ]
  },
  {
   "cell_type": "code",
   "execution_count": 167,
   "id": "3c6c194d",
   "metadata": {},
   "outputs": [
    {
     "name": "stdout",
     "output_type": "stream",
     "text": [
      "-RECORD 0-----------------------------------\n",
      " id_municipio      | 5101837                \n",
      " nome_municipio    | Boa Esperança do Norte \n",
      " id_microrregiao   | NULL                   \n",
      " nome_microrregiao | NULL                   \n",
      " id_mesorregiao    | NULL                   \n",
      " nome_mesorregiao  | NULL                   \n",
      " id_uf             | 51                     \n",
      " sigla_uf          | MT                     \n",
      " nome_uf           | Mato Grosso            \n",
      " id_regiao         | 5                      \n",
      " sigla_regiao      | CO                     \n",
      " nome_regiao       | Centro-Oeste           \n",
      "\n"
     ]
    }
   ],
   "source": [
    "df_municipios_trs.filter(df_municipios_trs[\"nome_microrregiao\"].isNull()).show(truncate=False, vertical=True)"
   ]
  },
  {
   "cell_type": "markdown",
   "id": "20a584ae",
   "metadata": {},
   "source": [
    "- Correção de valores nulos pontuais"
   ]
  },
  {
   "cell_type": "code",
   "execution_count": 166,
   "id": "76d15152",
   "metadata": {},
   "outputs": [
    {
     "name": "stderr",
     "output_type": "stream",
     "text": [
      "25/07/20 00:10:58 WARN UpdateCommand: Could not validate number of records due to missing statistics.\n"
     ]
    },
    {
     "name": "stdout",
     "output_type": "stream",
     "text": [
      "Coluna atualizada com sucesso!\n"
     ]
    }
   ],
   "source": [
    "try:\n",
    "    # Remoção de NULL's\n",
    "    deltaTable_municipios.update(\n",
    "        condition=f.col(\"id_municipio\") == \"5101837\",\n",
    "        set={\n",
    "\n",
    "            \"id_uf\": f.lit(\"51\"),\n",
    "            \"sigla_uf\": f.lit(\"MT\"),\n",
    "            \"nome_uf\": f.lit(\"Mato Grosso\"),\n",
    "            \"id_regiao\": f.lit(\"5\"),\n",
    "            \"sigla_regiao\": f.lit(\"CO\"),\n",
    "            \"nome_regiao\": f.lit(\"Centro-Oeste\"),\n",
    "        }\n",
    "    )\n",
    "    print(\"Coluna atualizada com sucesso!\")\n",
    "except Exception as e:\n",
    "    print(f\"Erro: {e}\")"
   ]
  },
  {
   "cell_type": "markdown",
   "id": "2d13f29b",
   "metadata": {},
   "source": [
    "## TRUSTED - Natureza Jurídica"
   ]
  },
  {
   "cell_type": "markdown",
   "id": "d279eb31",
   "metadata": {},
   "source": [
    "### Etapa 1: Leitura da camada RAW"
   ]
  },
  {
   "cell_type": "code",
   "execution_count": 168,
   "id": "804c91b1",
   "metadata": {},
   "outputs": [
    {
     "name": "stderr",
     "output_type": "stream",
     "text": [
      "                                                                                \r"
     ]
    },
    {
     "name": "stdout",
     "output_type": "stream",
     "text": [
      "+------------------------+------------------------------------------+\n",
      "|codigo_natureza_juridica|natureza_juridica                         |\n",
      "+------------------------+------------------------------------------+\n",
      "|0000                    |Natureza Jurídica não informada           |\n",
      "|3271                    |Órgão de Direção Local de Partido Político|\n",
      "|3280                    |Comitê Financeiro de Partido Político     |\n",
      "|3298                    |Frente Plebiscitária ou Referendária      |\n",
      "|3301                    |Organização Social (OS)                   |\n",
      "+------------------------+------------------------------------------+\n",
      "only showing top 5 rows\n",
      "root\n",
      " |-- codigo_natureza_juridica: string (nullable = true)\n",
      " |-- natureza_juridica: string (nullable = true)\n",
      "\n"
     ]
    }
   ],
   "source": [
    "try:\n",
    "    deltaTable_natureza_juridica_raw = DeltaTable.forPath(spark, \"../RAW/natureza_juridica\")\n",
    "    df_natureza_juridica_raw = deltaTable_natureza_juridica_raw.toDF()\n",
    "    df_natureza_juridica_raw.show(5, truncate=False)\n",
    "    df_natureza_juridica_raw.printSchema()\n",
    "except Exception as e:\n",
    "    print(f\"Erro na leitura: {e}\")"
   ]
  },
  {
   "cell_type": "markdown",
   "id": "edaa129b",
   "metadata": {},
   "source": [
    "### Etapa 2: Escrita na camada Trusted (TRS)"
   ]
  },
  {
   "cell_type": "code",
   "execution_count": 169,
   "id": "10167aac",
   "metadata": {},
   "outputs": [],
   "source": [
    "try:\n",
    "    # Salvando dados no TRS, não precisou de alterações\n",
    "    df_natureza_juridica_raw.write.format(\"delta\") \\\n",
    "        .mode(\"overwrite\") \\\n",
    "        .save(\"../TRS/natureza_juridica\")\n",
    "except Exception as e:\n",
    "    print(f\"Erro: {e}\")"
   ]
  },
  {
   "cell_type": "markdown",
   "id": "156dca35",
   "metadata": {},
   "source": [
    "### Etapa 3: Ajuste e Validação"
   ]
  },
  {
   "cell_type": "code",
   "execution_count": null,
   "id": "43b1727a",
   "metadata": {},
   "outputs": [
    {
     "name": "stdout",
     "output_type": "stream",
     "text": [
      "+------------------------+------------------------------------------------------------------------+\n",
      "|codigo_natureza_juridica|natureza_juridica                                                       |\n",
      "+------------------------+------------------------------------------------------------------------+\n",
      "|0000                    |Natureza Jurídica não informada                                         |\n",
      "|3271                    |Órgão de Direção Local de Partido Político                              |\n",
      "|3280                    |Comitê Financeiro de Partido Político                                   |\n",
      "|3298                    |Frente Plebiscitária ou Referendária                                    |\n",
      "|3301                    |Organização Social (OS)                                                 |\n",
      "|3999                    |Associação Privada                                                      |\n",
      "|4014                    |Empresa Individual Imobiliária                                          |\n",
      "|4090                    |Candidato a Cargo Político Eletivo                                      |\n",
      "|4120                    |Produtor Rural (Pessoa Física)                                          |\n",
      "|5010                    |Organização Internacional                                               |\n",
      "|5029                    |Representação Diplomática Estrangeira                                   |\n",
      "|1015                    |Órgão Público do Poder Executivo Federal                                |\n",
      "|1023                    |Órgão Público do Poder Executivo Estadual ou do Distrito Federal        |\n",
      "|1031                    |Órgão Público do Poder Executivo Municipal                              |\n",
      "|1040                    |Órgão Público do Poder Legislativo Federal                              |\n",
      "|1058                    |Órgão Público do Poder Legislativo Estadual ou do Distrito Federal      |\n",
      "|1066                    |Órgão Público do Poder Legislativo Municipal                            |\n",
      "|1074                    |Órgão Público do Poder Judiciário Federal                               |\n",
      "|1082                    |Órgão Público do Poder Judiciário Estadual                              |\n",
      "|1104                    |Autarquia Federal                                                       |\n",
      "|1112                    |Autarquia Estadual ou do Distrito Federal                               |\n",
      "|1120                    |Autarquia Municipal                                                     |\n",
      "|1139                    |Fundação Pública de Direito Público Federal                             |\n",
      "|1147                    |Fundação Pública de Direito Público Estadual ou do Distrito Federal     |\n",
      "|1155                    |Fundação Pública de Direito Público Municipal                           |\n",
      "|1163                    |Órgão Público Autônomo Federal                                          |\n",
      "|1171                    |Órgão Público Autônomo Estadual ou do Distrito Federal                  |\n",
      "|1180                    |Órgão Público Autônomo Municipal                                        |\n",
      "|1198                    |Comissão Polinacional                                                   |\n",
      "|1210                    |Consórcio Público de Direito Público (Associação Pública)               |\n",
      "|1228                    |Consórcio Público de Direito Privado                                    |\n",
      "|1236                    |Estado ou Distrito Federal                                              |\n",
      "|1244                    |Município                                                               |\n",
      "|1252                    |Fundação Pública de Direito Privado Federal                             |\n",
      "|1260                    |Fundação Pública de Direito Privado Estadual ou do Distrito Federal     |\n",
      "|1279                    |Fundação Pública de Direito Privado Municipal                           |\n",
      "|1287                    |Fundo Público da Administração Indireta Federal                         |\n",
      "|1295                    |Fundo Público da Administração Indireta Estadual ou do Distrito Federal |\n",
      "|1309                    |Fundo Público da Administração Indireta Municipal                       |\n",
      "|1317                    |Fundo Público da Administração Direta Federal                           |\n",
      "|1325                    |Fundo Público da Administração Direta Estadual ou do Distrito Federal   |\n",
      "|1333                    |Fundo Público da Administração Direta Municipal                         |\n",
      "|1341                    |União                                                                   |\n",
      "|2011                    |Empresa Pública                                                         |\n",
      "|2038                    |Sociedade de Economia Mista                                             |\n",
      "|2046                    |Sociedade Anônima Aberta                                                |\n",
      "|2054                    |Sociedade Anônima Fechada                                               |\n",
      "|2062                    |Sociedade Empresária Limitada                                           |\n",
      "|2070                    |Sociedade Empresária em Nome Coletivo                                   |\n",
      "|2089                    |Sociedade Empresária em Comandita Simples                               |\n",
      "|2097                    |Sociedade Empresária em Comandita por Ações                             |\n",
      "|2100                    |Sociedade Mercantil de Capital e Indústria                              |\n",
      "|2127                    |Sociedade em Conta de Participação                                      |\n",
      "|2135                    |Empresário (Individual)                                                 |\n",
      "|2143                    |Cooperativa                                                             |\n",
      "|2151                    |Consórcio de Sociedades                                                 |\n",
      "|2160                    |Grupo de Sociedades                                                     |\n",
      "|2178                    |Estabelecimento, no Brasil, de Sociedade Estrangeira                    |\n",
      "|2194                    |Estabelecimento, no Brasil, de Empresa Binacional Argentino-Brasileira  |\n",
      "|2216                    |Empresa Domiciliada no Exterior                                         |\n",
      "|2224                    |Clube/Fundo de Investimento                                             |\n",
      "|2232                    |Sociedade Simples Pura                                                  |\n",
      "|2240                    |Sociedade Simples Limitada                                              |\n",
      "|2259                    |Sociedade Simples em Nome Coletivo                                      |\n",
      "|2267                    |Sociedade Simples em Comandita Simples                                  |\n",
      "|2275                    |Empresa Binacional                                                      |\n",
      "|2283                    |Consórcio de Empregadores                                               |\n",
      "|2291                    |Consórcio Simples                                                       |\n",
      "|2305                    |Empresa Individual de Responsabilidade Limitada (de Natureza Empresária)|\n",
      "|2313                    |Empresa Individual de Responsabilidade Limitada (de Natureza Simples)   |\n",
      "|2321                    |Sociedade Unipessoal de Advocacia                                       |\n",
      "|2330                    |Cooperativas de Consumo                                                 |\n",
      "|2348                    |Empresa Simples de Inovação                                             |\n",
      "|3034                    |Serviço Notarial e Registral (Cartório)                                 |\n",
      "|3069                    |Fundação Privada                                                        |\n",
      "|3077                    |Serviço Social Autônomo                                                 |\n",
      "|3085                    |Condomínio Edilício                                                     |\n",
      "|3107                    |Comissão de Conciliação Prévia                                          |\n",
      "|3115                    |Entidade de Mediação e Arbitragem                                       |\n",
      "|3131                    |Entidade Sindical                                                       |\n",
      "|3204                    |Estabelecimento, no Brasil, de Fundação ou Associação Estrangeiras      |\n",
      "|3212                    |Fundação ou Associação Domiciliada no Exterior                          |\n",
      "|3220                    |Organização Religiosa                                                   |\n",
      "|3239                    |Comunidade Indígena                                                     |\n",
      "|3247                    |Fundo Privado                                                           |\n",
      "|3255                    |Órgão de Direção Nacional de Partido Político                           |\n",
      "|3263                    |Órgão de Direção Regional de Partido Político                           |\n",
      "|5037                    |Outras Instituições Extraterritoriais                                   |\n",
      "|3328                    |Plano de Benefícios de Previdência Complementar Fechada                 |\n",
      "|8885                    |Natureza Jurídica não informada                                         |\n",
      "+------------------------+------------------------------------------------------------------------+\n",
      "\n",
      "root\n",
      " |-- codigo_natureza_juridica: string (nullable = true)\n",
      " |-- natureza_juridica: string (nullable = true)\n",
      "\n"
     ]
    }
   ],
   "source": [
    "try:\n",
    "    deltaTable_natureza_juridica_trs = DeltaTable.forPath(spark, \"../TRS/natureza_juridica\")\n",
    "    df_natureza_juridica_trs: DataFrame = deltaTable_natureza_juridica_trs.toDF()\n",
    "    df_natureza_juridica_trs.show(100, truncate=False)\n",
    "    df_natureza_juridica_trs.printSchema()\n",
    "except Exception as e:\n",
    "    print(f\"Erro na leitura: {e}\")"
   ]
  },
  {
   "cell_type": "code",
   "execution_count": 173,
   "id": "54c249a7",
   "metadata": {},
   "outputs": [
    {
     "name": "stdout",
     "output_type": "stream",
     "text": [
      "+------------------------+-----------------+\n",
      "|codigo_natureza_juridica|natureza_juridica|\n",
      "+------------------------+-----------------+\n",
      "|                       0|                0|\n",
      "+------------------------+-----------------+\n",
      "\n"
     ]
    }
   ],
   "source": [
    "try:\n",
    "    # Filtragem de dados em busca de nulls\n",
    "    df_natureza_juridica_raw.select([\n",
    "        f.sum(f.col(c).isNull().cast(\"int\")).alias(c)\n",
    "        for c in df_natureza_juridica_raw.columns\n",
    "    ]).show()\n",
    "except Exception as e:\n",
    "    print(f\"Erro: {e}\")"
   ]
  },
  {
   "cell_type": "markdown",
   "id": "bcb8a296",
   "metadata": {},
   "source": [
    "## TRUSTED - CNAE"
   ]
  },
  {
   "cell_type": "markdown",
   "id": "8fe95f13",
   "metadata": {},
   "source": [
    "### Etapa 1: Leitura da camada RAW"
   ]
  },
  {
   "cell_type": "code",
   "execution_count": null,
   "id": "af168c00",
   "metadata": {},
   "outputs": [
    {
     "name": "stdout",
     "output_type": "stream",
     "text": [
      "+-----------+---------------------------------------------------------+\n",
      "|codigo_cnae|descricao_cnae                                           |\n",
      "+-----------+---------------------------------------------------------+\n",
      "|0111301    |Cultivo de arroz                                         |\n",
      "|0111302    |Cultivo de milho                                         |\n",
      "|0111303    |Cultivo de trigo                                         |\n",
      "|0111399    |Cultivo de outros cereais não especificados anteriormente|\n",
      "|0112101    |Cultivo de algodão herbáceo                              |\n",
      "+-----------+---------------------------------------------------------+\n",
      "only showing top 5 rows\n"
     ]
    }
   ],
   "source": [
    "try:\n",
    "    deltaTable_cnae: DeltaTable = DeltaTable.forPath(spark, \"../RAW/cnae\")\n",
    "    df_cnae_raw: DataFrame = deltaTable_cnae.toDF()\n",
    "    df_cnae_raw.show(5, truncate=False)\n",
    "except Exception as e:\n",
    "    print(f\"Erro: {e}\")"
   ]
  },
  {
   "cell_type": "markdown",
   "id": "f3382747",
   "metadata": {},
   "source": [
    "### Etapa 2: Escrita na camada Trusted (TRS)"
   ]
  },
  {
   "cell_type": "code",
   "execution_count": 72,
   "id": "40670146",
   "metadata": {},
   "outputs": [],
   "source": [
    "try:\n",
    "    df_cnae_raw.write.format(\"delta\") \\\n",
    "        .mode(\"overwrite\") \\\n",
    "        .save(\"../TRS/cnae\")\n",
    "except Exception as e:\n",
    "    print(f\"Erro: {e}\")"
   ]
  },
  {
   "cell_type": "markdown",
   "id": "0cf4991f",
   "metadata": {},
   "source": [
    "### Etapa 3: Ajuste e Validação"
   ]
  },
  {
   "cell_type": "code",
   "execution_count": 85,
   "id": "5955fac2",
   "metadata": {},
   "outputs": [
    {
     "name": "stdout",
     "output_type": "stream",
     "text": [
      "+-----------+---------------------------------------------------------+\n",
      "|codigo_cnae|descricao_cnae                                           |\n",
      "+-----------+---------------------------------------------------------+\n",
      "|0111301    |Cultivo de arroz                                         |\n",
      "|0111302    |Cultivo de milho                                         |\n",
      "|0111303    |Cultivo de trigo                                         |\n",
      "|0111399    |Cultivo de outros cereais não especificados anteriormente|\n",
      "|0112101    |Cultivo de algodão herbáceo                              |\n",
      "+-----------+---------------------------------------------------------+\n",
      "only showing top 5 rows\n",
      "root\n",
      " |-- codigo_cnae: string (nullable = true)\n",
      " |-- descricao_cnae: string (nullable = true)\n",
      "\n"
     ]
    }
   ],
   "source": [
    "try:\n",
    "    deltaTable_cnae: DeltaTable = DeltaTable.forPath(spark, \"../TRS/cnae\")\n",
    "    df_cnae_trusted: DataFrame = deltaTable_cnae.toDF()\n",
    "    df_cnae_trusted.show(5, truncate=False)\n",
    "    df_cnae_trusted.printSchema()\n",
    "except Exception as e:\n",
    "    print(f\"Erro: {e}\")"
   ]
  },
  {
   "cell_type": "code",
   "execution_count": 75,
   "id": "b2c7221d",
   "metadata": {},
   "outputs": [
    {
     "name": "stdout",
     "output_type": "stream",
     "text": [
      "+-----------+--------------+\n",
      "|codigo_cnae|descricao_cnae|\n",
      "+-----------+--------------+\n",
      "|          0|             0|\n",
      "+-----------+--------------+\n",
      "\n"
     ]
    }
   ],
   "source": [
    "try:\n",
    "    df_cnae_trusted.select([\n",
    "        f.sum(f.col(c).isNull().cast(\"int\")).alias(c)\n",
    "        for c in df_cnae_trusted.columns\n",
    "    ]).show()\n",
    "except Exception as e:\n",
    "    print(f\"Erro: {e}\")"
   ]
  },
  {
   "cell_type": "markdown",
   "id": "a56492ac",
   "metadata": {},
   "source": [
    "## TRUSTED - Qualificação dos Sócios"
   ]
  },
  {
   "cell_type": "markdown",
   "id": "b505468b",
   "metadata": {},
   "source": [
    "### Etapa 1: Leitura da Camada RAW"
   ]
  },
  {
   "cell_type": "code",
   "execution_count": 81,
   "id": "32cad94b",
   "metadata": {},
   "outputs": [
    {
     "name": "stdout",
     "output_type": "stream",
     "text": [
      "+-------------------+----------------------------+\n",
      "|codigo_qualificacao|descricao_qualificacao      |\n",
      "+-------------------+----------------------------+\n",
      "|00                 |Não informada               |\n",
      "|05                 |Administrador               |\n",
      "|08                 |Conselheiro de Administração|\n",
      "|09                 |Curador                     |\n",
      "|10                 |Diretor                     |\n",
      "+-------------------+----------------------------+\n",
      "only showing top 5 rows\n",
      "root\n",
      " |-- codigo_qualificacao: string (nullable = true)\n",
      " |-- descricao_qualificacao: string (nullable = true)\n",
      "\n"
     ]
    }
   ],
   "source": [
    "try:\n",
    "    deltaTable_qualificacao = DeltaTable.forPath(spark, \"../RAW/qualificacao_socios\")\n",
    "    df_qualificacao_socios_raw = deltaTable_qualificacao.toDF()\n",
    "    df_qualificacao_socios_raw.show(5, truncate=False)\n",
    "    df_qualificacao_socios_raw.printSchema()\n",
    "except Exception as e:\n",
    "    print(f\"Erro ao carregar dados: {e}\")"
   ]
  },
  {
   "cell_type": "markdown",
   "id": "cde41b60",
   "metadata": {},
   "source": [
    "### Etapa 2: Escrita na Camada Trusted (TRS)"
   ]
  },
  {
   "cell_type": "code",
   "execution_count": 82,
   "id": "474b46f8",
   "metadata": {},
   "outputs": [
    {
     "name": "stdout",
     "output_type": "stream",
     "text": [
      "Dados salvos com sucesso na camada Trusted!\n"
     ]
    }
   ],
   "source": [
    "try:\n",
    "    df_qualificacao_socios_raw.write.format(\"delta\") \\\n",
    "        .mode(\"overwrite\") \\\n",
    "        .save(\"../TRS/qualificacao_socios\")\n",
    "    print(\"Dados salvos com sucesso na camada Trusted!\")\n",
    "except Exception as e:\n",
    "    print(f\"Erro ao salvar dados: {e}\")"
   ]
  },
  {
   "cell_type": "markdown",
   "id": "2ba1d824",
   "metadata": {},
   "source": [
    "### Etapa 3: Ajuste e Validação"
   ]
  },
  {
   "cell_type": "code",
   "execution_count": 23,
   "id": "b376969e",
   "metadata": {},
   "outputs": [
    {
     "name": "stderr",
     "output_type": "stream",
     "text": [
      "[Stage 4:=======================================================> (49 + 1) / 50]\r"
     ]
    },
    {
     "name": "stdout",
     "output_type": "stream",
     "text": [
      "+-------------------+----------------------+\n",
      "|codigo_qualificacao|descricao_qualificacao|\n",
      "+-------------------+----------------------+\n",
      "|                 00|         Não informada|\n",
      "|                 05|         Administrador|\n",
      "|                 08|  Conselheiro de Ad...|\n",
      "|                 09|               Curador|\n",
      "|                 10|               Diretor|\n",
      "|                 11|           Interventor|\n",
      "|                 12|         Inventariante|\n",
      "|                 13|            Liquidante|\n",
      "|                 14|                   Mãe|\n",
      "|                 15|                   Pai|\n",
      "|                 16|            Presidente|\n",
      "|                 17|            Procurador|\n",
      "|                 18|            Secretário|\n",
      "|                 19|  Síndico (Condomínio)|\n",
      "|                 20|  Sociedade Consorc...|\n",
      "|                 21|     Sociedade Filiada|\n",
      "|                 22|                 Sócio|\n",
      "|                 23|     Sócio Capitalista|\n",
      "|                 24|     Sócio Comanditado|\n",
      "|                 25|    Sócio Comanditário|\n",
      "+-------------------+----------------------+\n",
      "only showing top 20 rows\n",
      "root\n",
      " |-- codigo_qualificacao: string (nullable = true)\n",
      " |-- descricao_qualificacao: string (nullable = true)\n",
      "\n"
     ]
    },
    {
     "name": "stderr",
     "output_type": "stream",
     "text": [
      "                                                                                \r"
     ]
    }
   ],
   "source": [
    "try:\n",
    "    deltaTable_trusted = DeltaTable.forPath(spark, \"../TRS/qualificacao_socios\")\n",
    "    df_qualificacao_socios_trusted = deltaTable_trusted.toDF()\n",
    "\n",
    "    df_qualificacao_socios_trusted.show()\n",
    "    df_qualificacao_socios_trusted.printSchema()\n",
    "except Exception as e:\n",
    "    print(f\"Erro na validação: {e}\")"
   ]
  },
  {
   "cell_type": "code",
   "execution_count": null,
   "id": "e4c27578",
   "metadata": {},
   "outputs": [],
   "source": [
    "try:\n",
    "    # Verificar valores nulos em todas as colunas\n",
    "    df_qualificacao_socios_trusted.select([\n",
    "        f.sum(f.col(c).isNull().cast(\"int\")).alias(c)\n",
    "        for c in df_qualificacao_socios_trusted.columns\n",
    "    ]).show()\n",
    "except Exception as e:\n",
    "    print(f\"Erro: {e}\")"
   ]
  },
  {
   "cell_type": "markdown",
   "id": "04578833",
   "metadata": {},
   "source": [
    "## TRUSTED - Empresas"
   ]
  },
  {
   "cell_type": "markdown",
   "id": "71a5641e",
   "metadata": {},
   "source": [
    "###  Etapa 1: Leitura da Camada RAW"
   ]
  },
  {
   "cell_type": "code",
   "execution_count": 3,
   "id": "66bafe85",
   "metadata": {},
   "outputs": [
    {
     "name": "stderr",
     "output_type": "stream",
     "text": [
      "25/07/20 00:35:28 WARN SparkStringUtils: Truncated the string representation of a plan since it was too large. This behavior can be adjusted by setting 'spark.sql.debug.maxToStringFields'.\n",
      "                                                                                \r"
     ]
    },
    {
     "name": "stdout",
     "output_type": "stream",
     "text": [
      "+-----------+---------------------------------------------------------------------+------------------------+-------------------------------+--------------+--------------------+---------------------------+\n",
      "|cnpj_basico|razao_social                                                         |codigo_natureza_juridica|codigo_qualificacao_responsavel|capital_social|codigo_porte_empresa|ente_federativo_responsavel|\n",
      "+-----------+---------------------------------------------------------------------+------------------------+-------------------------------+--------------+--------------------+---------------------------+\n",
      "|08127452   |ELEICAO 2006 WALDEMAR ALBERTO BORGES RODRIGUES NETO DEPUTADO ESTADUAL|4090                    |51                             |0,00          |05                  |NULL                       |\n",
      "|08127453   |ELEICAO 2006 JOSE ROBERTO DOS SANTOS PALADINI DEPUTADO ESTADUAL      |4090                    |51                             |0,00          |05                  |NULL                       |\n",
      "|08127454   |ELEICAO 2006 JAIRO ANTONIO MARTINS DEPUTADO ESTADUAL                 |4090                    |51                             |0,00          |05                  |NULL                       |\n",
      "|08127455   |ELEICAO 2006 SILDA DIAS LORENA DEPUTADO ESTADUAL                     |4090                    |51                             |0,00          |05                  |NULL                       |\n",
      "|08127456   |ELEICAO 2006 HERMOGENES GOMES DE ALMEIDA DEPUTADO ESTADUAL           |4090                    |51                             |0,00          |05                  |NULL                       |\n",
      "+-----------+---------------------------------------------------------------------+------------------------+-------------------------------+--------------+--------------------+---------------------------+\n",
      "only showing top 5 rows\n",
      "root\n",
      " |-- cnpj_basico: string (nullable = true)\n",
      " |-- razao_social: string (nullable = true)\n",
      " |-- codigo_natureza_juridica: string (nullable = true)\n",
      " |-- codigo_qualificacao_responsavel: string (nullable = true)\n",
      " |-- capital_social: string (nullable = true)\n",
      " |-- codigo_porte_empresa: string (nullable = true)\n",
      " |-- ente_federativo_responsavel: string (nullable = true)\n",
      "\n"
     ]
    }
   ],
   "source": [
    "try:\n",
    "    deltaTable_empresas_raw = DeltaTable.forPath(spark, \"../RAW/empresas\")\n",
    "    df_empresas_raw = deltaTable_empresas_raw.toDF()\n",
    "    df_empresas_raw.show(5, truncate=False)\n",
    "    df_empresas_raw.printSchema()\n",
    "except Exception as e:\n",
    "    print(f\"Erro na leitura: {e}\")"
   ]
  },
  {
   "cell_type": "markdown",
   "id": "096e3811",
   "metadata": {},
   "source": [
    "### Etapa 2: Transformação dos Dados"
   ]
  },
  {
   "cell_type": "code",
   "execution_count": 4,
   "id": "fd7b0951",
   "metadata": {},
   "outputs": [
    {
     "name": "stdout",
     "output_type": "stream",
     "text": [
      "+-----------+---------------------------------------------------------------------+------------------------+-------------------------------+--------------+--------------------+---------------------------+\n",
      "|cnpj_basico|razao_social                                                         |codigo_natureza_juridica|codigo_qualificacao_responsavel|capital_social|codigo_porte_empresa|ente_federativo_responsavel|\n",
      "+-----------+---------------------------------------------------------------------+------------------------+-------------------------------+--------------+--------------------+---------------------------+\n",
      "|08127452   |ELEICAO 2006 WALDEMAR ALBERTO BORGES RODRIGUES NETO DEPUTADO ESTADUAL|4090                    |51                             |0.00          |05                  |NULL                       |\n",
      "|08127453   |ELEICAO 2006 JOSE ROBERTO DOS SANTOS PALADINI DEPUTADO ESTADUAL      |4090                    |51                             |0.00          |05                  |NULL                       |\n",
      "|08127454   |ELEICAO 2006 JAIRO ANTONIO MARTINS DEPUTADO ESTADUAL                 |4090                    |51                             |0.00          |05                  |NULL                       |\n",
      "|08127455   |ELEICAO 2006 SILDA DIAS LORENA DEPUTADO ESTADUAL                     |4090                    |51                             |0.00          |05                  |NULL                       |\n",
      "|08127456   |ELEICAO 2006 HERMOGENES GOMES DE ALMEIDA DEPUTADO ESTADUAL           |4090                    |51                             |0.00          |05                  |NULL                       |\n",
      "+-----------+---------------------------------------------------------------------+------------------------+-------------------------------+--------------+--------------------+---------------------------+\n",
      "only showing top 5 rows\n",
      "root\n",
      " |-- cnpj_basico: string (nullable = true)\n",
      " |-- razao_social: string (nullable = true)\n",
      " |-- codigo_natureza_juridica: string (nullable = true)\n",
      " |-- codigo_qualificacao_responsavel: string (nullable = true)\n",
      " |-- capital_social: string (nullable = true)\n",
      " |-- codigo_porte_empresa: string (nullable = true)\n",
      " |-- ente_federativo_responsavel: string (nullable = true)\n",
      "\n"
     ]
    }
   ],
   "source": [
    "df_empresas_raw = df_empresas_raw.withColumn(\n",
    "    'capital_social',\n",
    "    f.regexp_replace('capital_social', ',', '.')\n",
    ")\n",
    "\n",
    "df_empresas_raw.show(5, truncate=False)\n",
    "df_empresas_raw.printSchema()"
   ]
  },
  {
   "cell_type": "code",
   "execution_count": 5,
   "id": "91a76244",
   "metadata": {},
   "outputs": [
    {
     "name": "stderr",
     "output_type": "stream",
     "text": [
      "[Stage 16:===================================================>    (11 + 1) / 12]\r"
     ]
    },
    {
     "name": "stdout",
     "output_type": "stream",
     "text": [
      "+----------+\n",
      "|max_digits|\n",
      "+----------+\n",
      "|        14|\n",
      "+----------+\n",
      "\n"
     ]
    },
    {
     "name": "stderr",
     "output_type": "stream",
     "text": [
      "                                                                                \r"
     ]
    }
   ],
   "source": [
    "# Obter o tamanho máximo de digitos antes da \",\" para melhor conveção\n",
    "df_max_digitos = df_empresas_raw.withColumn(\n",
    "    \"capital_str\", f.regexp_replace(f.col(\"capital_social\").cast(\"string\"), \"[^0-9]\", \"\")\n",
    ")\n",
    "\n",
    "df_max_digitos.selectExpr(\"max(length(capital_str)) as max_digits\").show()"
   ]
  },
  {
   "cell_type": "code",
   "execution_count": 6,
   "id": "7edfc0a6",
   "metadata": {},
   "outputs": [
    {
     "name": "stderr",
     "output_type": "stream",
     "text": [
      "[Stage 21:==========================================>              (9 + 3) / 12]\r"
     ]
    },
    {
     "name": "stdout",
     "output_type": "stream",
     "text": [
      "+-----------+------------------------------------------------+------------------------+-------------------------------+---------------+--------------------+---------------------------+\n",
      "|cnpj_basico|razao_social                                    |codigo_natureza_juridica|codigo_qualificacao_responsavel|capital_social |codigo_porte_empresa|ente_federativo_responsavel|\n",
      "+-----------+------------------------------------------------+------------------------+-------------------------------+---------------+--------------------+---------------------------+\n",
      "|09092574   |SERGIO BOSQUETTI & CIA LTDA ME                  |2062                    |49                             |776158083690.66|01                  |NULL                       |\n",
      "|07626060   |LGL PINTURAS LTDA                               |2062                    |49                             |532013179015.30|03                  |NULL                       |\n",
      "|05885737   |TRANSCOL SERVICOS EM TRANSPORTES DE JUNDIAI LTDA|2062                    |49                             |500000352182.73|03                  |NULL                       |\n",
      "|07337924   |SUPERMERCADO MENEZES LTDA                       |2062                    |49                             |292027894752.00|01                  |NULL                       |\n",
      "|04661893   |WOSNHTONS MINERACAO S. A.                       |2054                    |16                             |100000000000.00|05                  |NULL                       |\n",
      "|09104609   |MARLENE OLIVEIRA BERNARDINO DO NASCIMENTO       |2135                    |50                             |88445410415.00 |01                  |NULL                       |\n",
      "|09165225   |R M DE P PEREIRA INFORMATICA                    |2135                    |50                             |80759017468.00 |01                  |NULL                       |\n",
      "|07725629   |EUDAIMONIA PARTICIPACOES S/A                    |2054                    |16                             |77256290001.48 |05                  |NULL                       |\n",
      "|07526557   |AMBEV S.A.                                      |2046                    |10                             |58275086270.41 |05                  |NULL                       |\n",
      "|06299045   |MARIA DOS ANJOS BISPO SANTOS                    |2135                    |50                             |54101406554.00 |01                  |NULL                       |\n",
      "+-----------+------------------------------------------------+------------------------+-------------------------------+---------------+--------------------+---------------------------+\n",
      "only showing top 10 rows\n",
      "root\n",
      " |-- cnpj_basico: string (nullable = true)\n",
      " |-- razao_social: string (nullable = true)\n",
      " |-- codigo_natureza_juridica: string (nullable = true)\n",
      " |-- codigo_qualificacao_responsavel: string (nullable = true)\n",
      " |-- capital_social: decimal(20,2) (nullable = true)\n",
      " |-- codigo_porte_empresa: string (nullable = true)\n",
      " |-- ente_federativo_responsavel: string (nullable = true)\n",
      "\n"
     ]
    },
    {
     "name": "stderr",
     "output_type": "stream",
     "text": [
      "                                                                                \r"
     ]
    }
   ],
   "source": [
    "df_empresas_raw = df_empresas_raw.withColumn(\n",
    "    'capital_social',\n",
    "    df_empresas_raw['capital_social'] \\\n",
    "        .cast(DecimalType(20, 2)) \\\n",
    ")\n",
    "\n",
    "df_empresas_raw.orderBy(df_empresas_raw['capital_social'].desc()).show(10, truncate=False)\n",
    "df_empresas_raw.printSchema()"
   ]
  },
  {
   "cell_type": "markdown",
   "id": "26ca7bd4",
   "metadata": {},
   "source": [
    "### Etapa 3: Escrita na Camada Trusted (TRS)"
   ]
  },
  {
   "cell_type": "code",
   "execution_count": 7,
   "id": "a7216f0f",
   "metadata": {},
   "outputs": [
    {
     "name": "stderr",
     "output_type": "stream",
     "text": [
      "                                                                                \r"
     ]
    },
    {
     "name": "stdout",
     "output_type": "stream",
     "text": [
      "Dados salvos com sucesso na camada Trusted!\n"
     ]
    }
   ],
   "source": [
    "try:\n",
    "    df_empresas_raw.write.format(\"delta\") \\\n",
    "        .mode(\"overwrite\") \\\n",
    "        .partitionBy(\"codigo_porte_empresa\") \\\n",
    "        .save(\"../TRS/empresas\")\n",
    "    print(\"Dados salvos com sucesso na camada Trusted!\")\n",
    "except Exception as e:\n",
    "    print(f\"Erro ao salvar dados: {e}\")"
   ]
  },
  {
   "cell_type": "markdown",
   "id": "85e8442a",
   "metadata": {},
   "source": [
    "### Etapa 4: Ajuste e Validação"
   ]
  },
  {
   "cell_type": "code",
   "execution_count": 8,
   "id": "7d1e4e23",
   "metadata": {},
   "outputs": [
    {
     "name": "stderr",
     "output_type": "stream",
     "text": [
      "                                                                                \r"
     ]
    },
    {
     "name": "stdout",
     "output_type": "stream",
     "text": [
      "+-----------+---------------------------------+------------------------+-------------------------------+--------------+--------------------+---------------------------+\n",
      "|cnpj_basico|razao_social                     |codigo_natureza_juridica|codigo_qualificacao_responsavel|capital_social|codigo_porte_empresa|ente_federativo_responsavel|\n",
      "+-----------+---------------------------------+------------------------+-------------------------------+--------------+--------------------+---------------------------+\n",
      "|06942044   |JOSE FRANCISCO BEZERRA TRANSPORTE|2135                    |50                             |0.00          |01                  |NULL                       |\n",
      "|06942045   |ADEMIR A. DA SILVA               |2135                    |50                             |0.00          |01                  |NULL                       |\n",
      "|06942046   |R. F. DE O. DO NASCIMENTO        |2135                    |50                             |0.00          |01                  |NULL                       |\n",
      "|06942047   |OTICA ATYRO LTDA                 |2062                    |49                             |0.00          |01                  |NULL                       |\n",
      "|06942050   |MARIA JOSE DE SOUZA - BATATAS    |2135                    |50                             |5000.00       |01                  |NULL                       |\n",
      "+-----------+---------------------------------+------------------------+-------------------------------+--------------+--------------------+---------------------------+\n",
      "only showing top 5 rows\n",
      "root\n",
      " |-- cnpj_basico: string (nullable = true)\n",
      " |-- razao_social: string (nullable = true)\n",
      " |-- codigo_natureza_juridica: string (nullable = true)\n",
      " |-- codigo_qualificacao_responsavel: string (nullable = true)\n",
      " |-- capital_social: decimal(20,2) (nullable = true)\n",
      " |-- codigo_porte_empresa: string (nullable = true)\n",
      " |-- ente_federativo_responsavel: string (nullable = true)\n",
      "\n"
     ]
    }
   ],
   "source": [
    "try:\n",
    "    deltaTable_empresas_trusted = DeltaTable.forPath(spark, \"../TRS/empresas\")\n",
    "    df_empresas_trusted = deltaTable_empresas_trusted.toDF()\n",
    "    df_empresas_trusted.show(5, truncate=False)\n",
    "    df_empresas_trusted.printSchema()\n",
    "except Exception as e:\n",
    "    print(f\"Erro na leitura: {e}\")"
   ]
  },
  {
   "cell_type": "markdown",
   "id": "2db876a1",
   "metadata": {},
   "source": [
    "## TRUSTED - Estabelecimentos"
   ]
  },
  {
   "cell_type": "markdown",
   "id": "bdb1fb29",
   "metadata": {},
   "source": [
    "###  Etapa 1: Leitura da Camada RAW"
   ]
  },
  {
   "cell_type": "code",
   "execution_count": 9,
   "id": "0c15f60d",
   "metadata": {},
   "outputs": [
    {
     "name": "stderr",
     "output_type": "stream",
     "text": [
      "                                                                                \r"
     ]
    },
    {
     "name": "stdout",
     "output_type": "stream",
     "text": [
      "+---------+----------+-------+-------------+---------------------------------+------------------+-----------------------+-------------------------+--------------------+----+---------------------+-----------+-------------------------------------------------------+---------------+----------------------------+------+-----------------------+---------------------------+--------+---+----------------+----+---------+----+---------+-------+----+--------------------------------------+-----------------+----------------------+\n",
      "|cnpj_base|cnpj_ordem|cnpj_dv|matriz_filial|nome_fantasia                    |situacao_cadastral|data_situacao_cadastral|motivo_situacao_cadastral|nome_cidade_exterior|pais|data_inicio_atividade|cnae_fiscal|cnae_fiscal_secundaria                                 |tipo_logradouro|logradouro                  |numero|complemento            |bairro                     |cep     |uf |codigo_municipio|ddd1|telefone1|ddd2|telefone2|ddd_fax|fax |email                                 |situacao_especial|data_situacao_especial|\n",
      "+---------+----------+-------+-------------+---------------------------------+------------------+-----------------------+-------------------------+--------------------+----+---------------------+-----------+-------------------------------------------------------+---------------+----------------------------+------+-----------------------+---------------------------+--------+---+----------------+----+---------+----+---------+-------+----+--------------------------------------+-----------------+----------------------+\n",
      "|44913807 |0001      |90     |1            |NULL                             |08                |20240328               |01                       |NULL                |NULL|20220118             |4781400    |4782201                                                |RUA            |ANTONIO MAXIMILIANO DA SILVA|298   |QUADRA 04;LOTE 13      |CJTO HABITACIONAL BOA VISTA|86975000|PR |7677            |44  |84090049 |NULL|NULL     |NULL   |NULL|IRACIA212@GMAIL.COM                   |NULL             |NULL                  |\n",
      "|44913821 |0001      |94     |1            |NULL                             |02                |20220118               |00                       |NULL                |NULL|20220118             |8630503    |8599699,8610102,8630501,8630502,8630506,8630599,8690901|AVENIDA        |DESEMBARGADOR MOREIRA       |1300  |      SALA 604 T- NORTE|ALDEOTA                    |60170002|CE |1389            |85  |87072213 |NULL|NULL     |NULL   |NULL|DRAANGELICACARVALHOENDOCRINO@GMAIL.COM|NULL             |NULL                  |\n",
      "|44913831 |0001      |20     |1            |NULL                             |02                |20220118               |00                       |NULL                |NULL|20220118             |8599699    |NULL                                                   |RUA            |DOUTOR JOAO AUGUSTO BARBOSA |1186  |CASA                   |SAO BRAZ                   |84603312|PR |7937            |42  |98271409 |NULL|NULL     |NULL   |NULL|FERLUISSTE@GMAIL.COM                  |NULL             |NULL                  |\n",
      "|44913843 |0001      |54     |1            |RAFAEL FELIPE DE OLIVEIRA MARTINS|08                |20220930               |01                       |NULL                |NULL|20220118             |5229099    |NULL                                                   |RUA            |RENATO ERNESTO DO NASCIMENTO|71    |NULL                   |HORTO FLORESTAL            |31035110|MG |4123            |31  |34810365 |NULL|NULL     |NULL   |NULL|RFDOM27@GMAIL.COM                     |NULL             |NULL                  |\n",
      "|44913857 |0001      |78     |1            |NULL                             |04                |20240823               |63                       |NULL                |NULL|20220118             |4712100    |NULL                                                   |RUA            |ALEGRE                      |314   |CONJ                   |VILA LEOPOLDINA            |25035130|RJ |5833            |21  |81312377 |NULL|NULL     |NULL   |NULL|ANDRECARNEIROCOSTA40@GMAIL.COM        |NULL             |NULL                  |\n",
      "+---------+----------+-------+-------------+---------------------------------+------------------+-----------------------+-------------------------+--------------------+----+---------------------+-----------+-------------------------------------------------------+---------------+----------------------------+------+-----------------------+---------------------------+--------+---+----------------+----+---------+----+---------+-------+----+--------------------------------------+-----------------+----------------------+\n",
      "only showing top 5 rows\n",
      "root\n",
      " |-- cnpj_base: string (nullable = true)\n",
      " |-- cnpj_ordem: string (nullable = true)\n",
      " |-- cnpj_dv: string (nullable = true)\n",
      " |-- matriz_filial: string (nullable = true)\n",
      " |-- nome_fantasia: string (nullable = true)\n",
      " |-- situacao_cadastral: string (nullable = true)\n",
      " |-- data_situacao_cadastral: string (nullable = true)\n",
      " |-- motivo_situacao_cadastral: string (nullable = true)\n",
      " |-- nome_cidade_exterior: string (nullable = true)\n",
      " |-- pais: string (nullable = true)\n",
      " |-- data_inicio_atividade: string (nullable = true)\n",
      " |-- cnae_fiscal: string (nullable = true)\n",
      " |-- cnae_fiscal_secundaria: string (nullable = true)\n",
      " |-- tipo_logradouro: string (nullable = true)\n",
      " |-- logradouro: string (nullable = true)\n",
      " |-- numero: string (nullable = true)\n",
      " |-- complemento: string (nullable = true)\n",
      " |-- bairro: string (nullable = true)\n",
      " |-- cep: string (nullable = true)\n",
      " |-- uf: string (nullable = true)\n",
      " |-- codigo_municipio: string (nullable = true)\n",
      " |-- ddd1: string (nullable = true)\n",
      " |-- telefone1: string (nullable = true)\n",
      " |-- ddd2: string (nullable = true)\n",
      " |-- telefone2: string (nullable = true)\n",
      " |-- ddd_fax: string (nullable = true)\n",
      " |-- fax: string (nullable = true)\n",
      " |-- email: string (nullable = true)\n",
      " |-- situacao_especial: string (nullable = true)\n",
      " |-- data_situacao_especial: string (nullable = true)\n",
      "\n"
     ]
    }
   ],
   "source": [
    "try:\n",
    "    deltaTable_estabelecimentos_raw: DeltaTable = DeltaTable.forPath(spark, \"../RAW/estabelecimentos\")\n",
    "    df_estabelecimentos_raw = deltaTable_estabelecimentos_raw.toDF() \n",
    "    df_estabelecimentos_raw.show(5, truncate=False)\n",
    "    df_estabelecimentos_raw.printSchema() \n",
    "except Exception as e:\n",
    "    print(f\"Erro na leitura: {e}\")"
   ]
  },
  {
   "cell_type": "markdown",
   "id": "8abe3e6f",
   "metadata": {},
   "source": [
    "### Etapa 2: Transformação dos dados no RAW"
   ]
  },
  {
   "cell_type": "code",
   "execution_count": 10,
   "id": "61da6484",
   "metadata": {},
   "outputs": [],
   "source": [
    "# Removendo datas inválidas\n",
    "\n",
    "try:\n",
    "    df_estabelecimentos_raw = df_estabelecimentos_raw \\\n",
    "        .withColumn(\n",
    "            \"data_situacao_cadastral\",\n",
    "            f.when(f.length(\"data_situacao_cadastral\") == 8,\n",
    "                   f.to_date(\"data_situacao_cadastral\", \"yyyyMMdd\")\n",
    "                   ).otherwise(None)\n",
    "        ) \\\n",
    "        .withColumn(\n",
    "            \"data_situacao_especial\",\n",
    "            f.when(f.length(\"data_situacao_especial\") == 8,\n",
    "                   f.to_date(\"data_situacao_especial\", \"yyyyMMdd\")\n",
    "                   ).otherwise(None)\n",
    "        ) \\\n",
    "        .withColumn(\n",
    "            \"data_inicio_atividade\",\n",
    "            f.when(f.length(\"data_inicio_atividade\") == 8,\n",
    "                   f.to_date(\"data_inicio_atividade\", \"yyyyMMdd\")\n",
    "                   ).otherwise(None)\n",
    "        )\n",
    "\n",
    "    \n",
    "except Exception as e:\n",
    "    print(f\"Erro na alteração: {e}\")"
   ]
  },
  {
   "cell_type": "code",
   "execution_count": 11,
   "id": "3e68d698",
   "metadata": {},
   "outputs": [
    {
     "name": "stderr",
     "output_type": "stream",
     "text": [
      "                                                                                \r"
     ]
    },
    {
     "name": "stdout",
     "output_type": "stream",
     "text": [
      "+---------+----------+-------+-------------+-------------+------------------+-----------------------+-------------------------+--------------------+----+---------------------+-----------+----------------------+---------------+----------+------+-----------+------+---+---+----------------+----+---------+----+---------+-------+---+-----+-----------------+----------------------+\n",
      "|cnpj_base|cnpj_ordem|cnpj_dv|matriz_filial|nome_fantasia|situacao_cadastral|data_situacao_cadastral|motivo_situacao_cadastral|nome_cidade_exterior|pais|data_inicio_atividade|cnae_fiscal|cnae_fiscal_secundaria|tipo_logradouro|logradouro|numero|complemento|bairro|cep| uf|codigo_municipio|ddd1|telefone1|ddd2|telefone2|ddd_fax|fax|email|situacao_especial|data_situacao_especial|\n",
      "+---------+----------+-------+-------------+-------------+------------------+-----------------------+-------------------------+--------------------+----+---------------------+-----------+----------------------+---------------+----------+------+-----------+------+---+---+----------------+----+---------+----+---------+-------+---+-----+-----------------+----------------------+\n",
      "+---------+----------+-------+-------------+-------------+------------------+-----------------------+-------------------------+--------------------+----+---------------------+-----------+----------------------+---------------+----------+------+-----------+------+---+---+----------------+----+---------+----+---------+-------+---+-----+-----------------+----------------------+\n",
      "\n"
     ]
    },
    {
     "name": "stderr",
     "output_type": "stream",
     "text": [
      "                                                                                \r"
     ]
    },
    {
     "name": "stdout",
     "output_type": "stream",
     "text": [
      "+---------+----------+-------+-------------+-------------+------------------+-----------------------+-------------------------+--------------------+----+---------------------+-----------+----------------------+---------------+----------+------+-----------+------+---+---+----------------+----+---------+----+---------+-------+---+-----+-----------------+----------------------+\n",
      "|cnpj_base|cnpj_ordem|cnpj_dv|matriz_filial|nome_fantasia|situacao_cadastral|data_situacao_cadastral|motivo_situacao_cadastral|nome_cidade_exterior|pais|data_inicio_atividade|cnae_fiscal|cnae_fiscal_secundaria|tipo_logradouro|logradouro|numero|complemento|bairro|cep| uf|codigo_municipio|ddd1|telefone1|ddd2|telefone2|ddd_fax|fax|email|situacao_especial|data_situacao_especial|\n",
      "+---------+----------+-------+-------------+-------------+------------------+-----------------------+-------------------------+--------------------+----+---------------------+-----------+----------------------+---------------+----------+------+-----------+------+---+---+----------------+----+---------+----+---------+-------+---+-----+-----------------+----------------------+\n",
      "+---------+----------+-------+-------------+-------------+------------------+-----------------------+-------------------------+--------------------+----+---------------------+-----------+----------------------+---------------+----------+------+-----------+------+---+---+----------------+----+---------+----+---------+-------+---+-----+-----------------+----------------------+\n",
      "\n"
     ]
    },
    {
     "name": "stderr",
     "output_type": "stream",
     "text": [
      "[Stage 60:=================================>                        (4 + 3) / 7]\r"
     ]
    },
    {
     "name": "stdout",
     "output_type": "stream",
     "text": [
      "+---------+----------+-------+-------------+-------------+------------------+-----------------------+-------------------------+--------------------+----+---------------------+-----------+----------------------+---------------+----------+------+-----------+------+---+---+----------------+----+---------+----+---------+-------+---+-----+-----------------+----------------------+\n",
      "|cnpj_base|cnpj_ordem|cnpj_dv|matriz_filial|nome_fantasia|situacao_cadastral|data_situacao_cadastral|motivo_situacao_cadastral|nome_cidade_exterior|pais|data_inicio_atividade|cnae_fiscal|cnae_fiscal_secundaria|tipo_logradouro|logradouro|numero|complemento|bairro|cep| uf|codigo_municipio|ddd1|telefone1|ddd2|telefone2|ddd_fax|fax|email|situacao_especial|data_situacao_especial|\n",
      "+---------+----------+-------+-------------+-------------+------------------+-----------------------+-------------------------+--------------------+----+---------------------+-----------+----------------------+---------------+----------+------+-----------+------+---+---+----------------+----+---------+----+---------+-------+---+-----+-----------------+----------------------+\n",
      "+---------+----------+-------+-------------+-------------+------------------+-----------------------+-------------------------+--------------------+----+---------------------+-----------+----------------------+---------------+----------+------+-----------+------+---+---+----------------+----+---------+----+---------+-------+---+-----+-----------------+----------------------+\n",
      "\n"
     ]
    },
    {
     "name": "stderr",
     "output_type": "stream",
     "text": [
      "                                                                                \r"
     ]
    }
   ],
   "source": [
    "# Confirmando alterações\n",
    "\n",
    "df_estabelecimentos_raw.filter(\n",
    "        f.length(df_estabelecimentos_raw[\"data_situacao_cadastral\"]) != 10\n",
    "    ).show()\n",
    "df_estabelecimentos_raw.filter(\n",
    "    f.length(df_estabelecimentos_raw[\"data_situacao_especial\"]) != 10\n",
    ").show()\n",
    "df_estabelecimentos_raw.filter(\n",
    "    f.length(df_estabelecimentos_raw[\"data_inicio_atividade\"]) != 10\n",
    ").show()"
   ]
  },
  {
   "cell_type": "markdown",
   "id": "53450b66",
   "metadata": {},
   "source": [
    "### Etapa 2: Escrita na Camada TRUSTED (TRS)"
   ]
  },
  {
   "cell_type": "code",
   "execution_count": 12,
   "id": "ae1bfc56",
   "metadata": {},
   "outputs": [
    {
     "name": "stderr",
     "output_type": "stream",
     "text": [
      "                                                                                \r"
     ]
    },
    {
     "name": "stdout",
     "output_type": "stream",
     "text": [
      "Dados salvos com sucesso na camada Trusted!\n"
     ]
    }
   ],
   "source": [
    "try:\n",
    "    df_estabelecimentos_raw.write.format(\"delta\") \\\n",
    "        .mode(\"overwrite\") \\\n",
    "        .partitionBy(\"uf\") \\\n",
    "        .save(\"../TRS/estabelecimentos\")\n",
    "    print(\"Dados salvos com sucesso na camada Trusted!\")\n",
    "except Exception as e:\n",
    "    print(f\"Erro ao salvar dados: {e}\")"
   ]
  },
  {
   "cell_type": "markdown",
   "id": "dd15f5db",
   "metadata": {},
   "source": [
    "### Etapa 3: Ajuste e Validação na TRS"
   ]
  },
  {
   "cell_type": "code",
   "execution_count": 3,
   "id": "e5e93589",
   "metadata": {},
   "outputs": [
    {
     "name": "stderr",
     "output_type": "stream",
     "text": [
      "25/07/20 13:48:14 WARN SparkStringUtils: Truncated the string representation of a plan since it was too large. This behavior can be adjusted by setting 'spark.sql.debug.maxToStringFields'.\n",
      "                                                                                \r"
     ]
    },
    {
     "name": "stdout",
     "output_type": "stream",
     "text": [
      "+---------+----------+-------+-------------+---------------------------------------+------------------+-----------------------+-------------------------+--------------------+-----------+---------------------+-----------+----------------------+---------------+---------------------------------------+------+------------------+-------------+--------+---+----------------+----+---------+----+---------+-------+--------+-----+-----------------+----------------------+\n",
      "|cnpj_base|cnpj_ordem|cnpj_dv|matriz_filial|nome_fantasia                          |situacao_cadastral|data_situacao_cadastral|motivo_situacao_cadastral|nome_cidade_exterior|codigo_pais|data_inicio_atividade|cnae_fiscal|cnae_fiscal_secundaria|tipo_logradouro|logradouro                             |numero|complemento       |bairro       |cep     |uf |codigo_municipio|ddd1|telefone1|ddd2|telefone2|ddd_fax|fax     |email|situacao_especial|data_situacao_especial|\n",
      "+---------+----------+-------+-------------+---------------------------------------+------------------+-----------------------+-------------------------+--------------------+-----------+---------------------+-----------+----------------------+---------------+---------------------------------------+------+------------------+-------------+--------+---+----------------+----+---------+----+---------+-------+--------+-----+-----------------+----------------------+\n",
      "|06043056 |0001      |00     |1            |BANCO POPULAR DO BRASIL                |08                |2010-05-31             |02                       |NULL                |NULL       |2003-12-19           |6422100    |NULL                  |NULL           |SBS, QUADRA 01, BLOCO G                |SN    |24 ANDAR(PARTE)   |ASA SUL      |70073901|DF |9701            |NULL|NULL     |NULL|NULL     |NULL   |NULL    |NULL |NULL             |NULL                  |\n",
      "|07387399 |0001      |54     |1            |NULL                                   |08                |2009-04-29             |54                       |NULL                |NULL       |2005-05-09           |5611201    |NULL                  |NULL           |SHCS CL QDA 405 BL A                   |S/N   |LJ 04             |ASA SUL      |70239510|DF |9701            |NULL|NULL     |NULL|NULL     |NULL   |NULL    |NULL |NULL             |NULL                  |\n",
      "|06157266 |0001      |29     |1            |DROGARIA MANCHETE                      |04                |2018-10-17             |63                       |NULL                |NULL       |2004-03-11           |4771701    |NULL                  |QUADRA         |QNM 07 CONJUNTO I LOTE 03 LOJA         |01    |NULL              |CEILANDIA SUL|72215079|DF |9701            |NULL|NULL     |NULL|NULL     |61     |33524870|NULL |NULL             |NULL                  |\n",
      "|07387446 |0001      |60     |1            |CCR-CONSULTORIA,COMUNICACAO E RESULTADO|08                |2020-07-13             |01                       |NULL                |NULL       |2005-05-09           |8299799    |4617600,7410299       |NULL           |SMPW/SUL QD.16 CONJ. 03 LT 01 UNIDADE D|S/N   |NUCLEO BANDEIRANTE|BRASILIA     |71741603|DF |9701            |NULL|NULL     |NULL|NULL     |NULL   |NULL    |NULL |NULL             |NULL                  |\n",
      "|05086960 |0001      |30     |1            |VDR TECH                               |04                |2018-10-17             |63                       |NULL                |NULL       |2002-02-07           |4742300    |4321500               |OUTROS         |ADE CONJUNTO 03 LOTE                   |36    |NULL              |AGUAS CLARAS |71985600|DF |9701            |NULL|NULL     |NULL|NULL     |NULL   |NULL    |NULL |NULL             |NULL                  |\n",
      "+---------+----------+-------+-------------+---------------------------------------+------------------+-----------------------+-------------------------+--------------------+-----------+---------------------+-----------+----------------------+---------------+---------------------------------------+------+------------------+-------------+--------+---+----------------+----+---------+----+---------+-------+--------+-----+-----------------+----------------------+\n",
      "only showing top 5 rows\n",
      "root\n",
      " |-- cnpj_base: string (nullable = true)\n",
      " |-- cnpj_ordem: string (nullable = true)\n",
      " |-- cnpj_dv: string (nullable = true)\n",
      " |-- matriz_filial: string (nullable = true)\n",
      " |-- nome_fantasia: string (nullable = true)\n",
      " |-- situacao_cadastral: string (nullable = true)\n",
      " |-- data_situacao_cadastral: date (nullable = true)\n",
      " |-- motivo_situacao_cadastral: string (nullable = true)\n",
      " |-- nome_cidade_exterior: string (nullable = true)\n",
      " |-- codigo_pais: string (nullable = true)\n",
      " |-- data_inicio_atividade: date (nullable = true)\n",
      " |-- cnae_fiscal: string (nullable = true)\n",
      " |-- cnae_fiscal_secundaria: string (nullable = true)\n",
      " |-- tipo_logradouro: string (nullable = true)\n",
      " |-- logradouro: string (nullable = true)\n",
      " |-- numero: string (nullable = true)\n",
      " |-- complemento: string (nullable = true)\n",
      " |-- bairro: string (nullable = true)\n",
      " |-- cep: string (nullable = true)\n",
      " |-- uf: string (nullable = true)\n",
      " |-- codigo_municipio: string (nullable = true)\n",
      " |-- ddd1: string (nullable = true)\n",
      " |-- telefone1: string (nullable = true)\n",
      " |-- ddd2: string (nullable = true)\n",
      " |-- telefone2: string (nullable = true)\n",
      " |-- ddd_fax: string (nullable = true)\n",
      " |-- fax: string (nullable = true)\n",
      " |-- email: string (nullable = true)\n",
      " |-- situacao_especial: string (nullable = true)\n",
      " |-- data_situacao_especial: date (nullable = true)\n",
      "\n"
     ]
    }
   ],
   "source": [
    "try:\n",
    "    deltaTable_estabelecimentos_trs = DeltaTable.forPath(spark, \"../TRS/estabelecimentos\")\n",
    "    df_estabelecimentos_trs = deltaTable_estabelecimentos_trs.toDF()\n",
    "    df_estabelecimentos_trs.show(5, truncate=False)\n",
    "    df_estabelecimentos_trs.printSchema()\n",
    "except Exception as e:\n",
    "    print(f\"Erro: {e}\")"
   ]
  },
  {
   "cell_type": "code",
   "execution_count": 34,
   "id": "70eae449",
   "metadata": {},
   "outputs": [],
   "source": [
    "def buscar_cnpj(cnpj: str) -> DataFrame:\n",
    "    try:\n",
    "        cnpj = cnpj.replace(\".\", \"\").replace(\"/\", \"\").replace(\"-\", \"\")\n",
    "        return df_estabelecimentos_trs.filter(\n",
    "            (df_estabelecimentos_trs[\"cnpj_base\"] == f\"{cnpj[0:8]}\") & \n",
    "            (df_estabelecimentos_trs[\"cnpj_ordem\"] == f\"{cnpj[8:12]}\") & \n",
    "            (df_estabelecimentos_trs[\"cnpj_dv\"] == f\"{cnpj[12:]}\")\n",
    "        )\n",
    "    except Exception as e:\n",
    "        print(f\"Erro na busca pelo CNPJ: {e}\")"
   ]
  },
  {
   "cell_type": "code",
   "execution_count": 43,
   "id": "f9455d43",
   "metadata": {},
   "outputs": [
    {
     "name": "stderr",
     "output_type": "stream",
     "text": [
      "                                                                                \r"
     ]
    },
    {
     "name": "stdout",
     "output_type": "stream",
     "text": [
      "-RECORD 0---------------------------------------------------\n",
      " cnpj_base                 | 65437816                       \n",
      " cnpj_ordem                | 0001                           \n",
      " cnpj_dv                   | 22                             \n",
      " matriz_filial             | 1                              \n",
      " nome_fantasia             | MABAMA=MATERIAIS BASICO MAROLA \n",
      " situacao_cadastral        | NULL                           \n",
      " data_situacao_cadastral   | 1992-10-14                     \n",
      " motivo_situacao_cadastral | 06                             \n",
      " nome_cidade_exterior      | 06                             \n",
      " codigo_pais               | NULL                           \n",
      " data_inicio_atividade     | 1991-01-28                     \n",
      " cnae_fiscal               | 4744001                        \n",
      " cnae_fiscal_secundaria    | 4744001                        \n",
      " tipo_logradouro           | RUA                            \n",
      " logradouro                | 01                             \n",
      " numero                    | 460                            \n",
      " complemento               | TERREO                         \n",
      " bairro                    | JARDIM DAS COLINAS             \n",
      " cep                       | 13176102                       \n",
      " uf                        | SP                             \n",
      " codigo_municipio          | 7149                           \n",
      " ddd1                      | NULL                           \n",
      " telefone1                 | NULL                           \n",
      " ddd2                      | NULL                           \n",
      " telefone2                 | NULL                           \n",
      " ddd_fax                   | NULL                           \n",
      " fax                       | NULL                           \n",
      " email                     | NULL                           \n",
      " situacao_especial         | NULL                           \n",
      " data_situacao_especial    | NULL                           \n",
      "\n"
     ]
    },
    {
     "name": "stderr",
     "output_type": "stream",
     "text": [
      "                                                                                \r"
     ]
    }
   ],
   "source": [
    "df_cnpj = buscar_cnpj(\"65437816000122\")\n",
    "df_cnpj.show(truncate=False, vertical=True)"
   ]
  },
  {
   "cell_type": "code",
   "execution_count": 13,
   "id": "61109b40",
   "metadata": {},
   "outputs": [
    {
     "name": "stdout",
     "output_type": "stream",
     "text": [
      "+---------+----------+-------+-------------+-------------+------------------+-----------------------+-------------------------+--------------------+-----------+---------------------+-----------+----------------------+---------------+-----------------+------+-----------------------------------+---------------------+--------+---+----------------+----+---------+----+---------+-------+--------+-----------------------------+-----------------+----------------------+\n",
      "|cnpj_base|cnpj_ordem|cnpj_dv|matriz_filial|nome_fantasia|situacao_cadastral|data_situacao_cadastral|motivo_situacao_cadastral|nome_cidade_exterior|codigo_pais|data_inicio_atividade|cnae_fiscal|cnae_fiscal_secundaria|tipo_logradouro|logradouro       |numero|complemento                        |bairro               |cep     |uf |codigo_municipio|ddd1|telefone1|ddd2|telefone2|ddd_fax|fax     |email                        |situacao_especial|data_situacao_especial|\n",
      "+---------+----------+-------+-------------+-------------+------------------+-----------------------+-------------------------+--------------------+-----------+---------------------+-----------+----------------------+---------------+-----------------+------+-----------------------------------+---------------------+--------+---+----------------+----+---------+----+---------+-------+--------+-----------------------------+-----------------+----------------------+\n",
      "|72022049 |0001      |56     |1            |NULL         |08                |2021-07-19             |66                       |NULL                |NULL       |1993-09-09           |4689399    |4649499,4669999       |RUA            |BARBOSA DA CUNHA |447   |SALA T1                            |JARDIM GUANABARA     |13042390|SP |6291            |NULL|NULL     |NULL|NULL     |NULL   |NULL    |NULL                         |NULL             |NULL                  |\n",
      "|17785672 |0001      |52     |1            |NULL         |04                |2023-10-27             |63                       |NULL                |NULL       |2013-03-20           |4721102    |4712100,4729699       |RUA            |VIOLETA DOS ALPES|5     |NULL                               |RECANTOS DOS HUMILDES|05210040|SP |7107            |NULL|NULL     |NULL|NULL     |11     |39416134|org.cont.moraes@hotmail.com  |NULL             |NULL                  |\n",
      "|15095061 |0001      |57     |1            |NULL         |08                |2018-02-01             |67                       |NULL                |NULL       |2012-02-27           |4781400    |NULL                  |RUA            |CARANAPATUBA     |28    |NULL                               |JARDIM UMARIZAL      |05756220|SP |7107            |NULL|NULL     |NULL|NULL     |NULL   |NULL    |silenejhl@bol.com.br         |NULL             |NULL                  |\n",
      "|52526085 |0001      |40     |1            |NULL         |02                |2023-10-15             |00                       |NULL                |NULL       |2023-10-15           |4722901    |NULL                  |AVENIDA        |QUARENTENARIO    |1987  |CASA;CASA;CASA;CASA                |JARDIM IRMA DOLORES  |11347520|SP |7121            |NULL|NULL     |NULL|NULL     |NULL   |NULL    |SIDNEYCONSTANTINO50@GMAIL.COM|NULL             |NULL                  |\n",
      "|08624922 |0001      |81     |1            |NULL         |08                |2017-03-14             |01                       |NULL                |NULL       |2007-01-31           |7490199    |7020400,8299799       |RUA            |SAMPAIO VIANA    |75    |SALA  901, 902, 908, 909        910|PARAISO              |04004911|SP |7107            |NULL|NULL     |NULL|NULL     |11     |31862972|renata@revisora.com.br       |NULL             |NULL                  |\n",
      "+---------+----------+-------+-------------+-------------+------------------+-----------------------+-------------------------+--------------------+-----------+---------------------+-----------+----------------------+---------------+-----------------+------+-----------------------------------+---------------------+--------+---+----------------+----+---------+----+---------+-------+--------+-----------------------------+-----------------+----------------------+\n",
      "only showing top 5 rows\n"
     ]
    }
   ],
   "source": [
    "# filtragem para encontrar erro na quantidade de caracteres de dados como UF, cnpj_base etc\n",
    "df_estabelecimentos_trs.filter(\n",
    "    df_estabelecimentos_trs[\"nome_fantasia\"].isNull()\n",
    ").show(5, truncate=False)"
   ]
  },
  {
   "cell_type": "code",
   "execution_count": 41,
   "id": "d9cee611",
   "metadata": {},
   "outputs": [
    {
     "name": "stderr",
     "output_type": "stream",
     "text": [
      "25/07/20 14:31:32 WARN UpdateCommand: Could not validate number of records due to missing statistics.\n"
     ]
    },
    {
     "name": "stdout",
     "output_type": "stream",
     "text": [
      "Atualização efetuada!\n"
     ]
    }
   ],
   "source": [
    "# Efetuar updates em dados errados\n",
    "\n",
    "try:\n",
    "    # update por CNPJ\n",
    "    deltaTable_estabelecimentos_trs.update(\n",
    "        condition= (f.col(\"cnpj_base\") == \"29744778\")\n",
    "            & (f.col(\"cnpj_ordem\") == \"4750\")\n",
    "            & (f.col(\"cnpj_dv\") == \"39\"),\n",
    "        set={\n",
    "            # \"nome_fantasia\": f.lit(\"BONGIOVANI\"),\n",
    "            # \"numero\": f.lit(\"200\"),\n",
    "            \"complemento\": f.lit(\"ESQUINA COM RUA GABRIELA RODRIGUES\"),\n",
    "            # \"bairro\": f.lit(\"CENTRO\"),\n",
    "            # \"cep\": f.lit(\"78937000\"),\n",
    "            # \"uf\": f.lit(\"RO\"),\n",
    "            # \"codigo_municipio\": f.lit(\"0683\"),\n",
    "        }\n",
    "    )\n",
    "\n",
    "    # deltaTable_estabelecimentos_trs.update(\n",
    "    #     condition=(\n",
    "    #         f.col(\"telefone2\").isNull()\n",
    "    #     ),\n",
    "    #     set={\n",
    "    #         \"ddd2\": f.lit(None),\n",
    "    #     }\n",
    "    # )\n",
    "    print(\"Atualização efetuada!\")\n",
    "except Exception as e:\n",
    "    print(f\"Erro: {e}\")"
   ]
  },
  {
   "cell_type": "code",
   "execution_count": 15,
   "id": "eb2337a1",
   "metadata": {},
   "outputs": [
    {
     "name": "stdout",
     "output_type": "stream",
     "text": [
      "+---------+----------+-------+-------------+-------------+------------------+-----------------------+-------------------------+--------------------+-----------+---------------------+-----------+---------------------------------------------------------------------------------------+---------------+---------------------------+------+-----------+----------------+--------+---+----------------+----+---------+----+---------+-------+----+----------------------------+-----------------+----------------------+\n",
      "|cnpj_base|cnpj_ordem|cnpj_dv|matriz_filial|nome_fantasia|situacao_cadastral|data_situacao_cadastral|motivo_situacao_cadastral|nome_cidade_exterior|codigo_pais|data_inicio_atividade|cnae_fiscal|cnae_fiscal_secundaria                                                                 |tipo_logradouro|logradouro                 |numero|complemento|bairro          |cep     |uf |codigo_municipio|ddd1|telefone1|ddd2|telefone2|ddd_fax|fax |email                       |situacao_especial|data_situacao_especial|\n",
      "+---------+----------+-------+-------------+-------------+------------------+-----------------------+-------------------------+--------------------+-----------+---------------------+-----------+---------------------------------------------------------------------------------------+---------------+---------------------------+------+-----------+----------------+--------+---+----------------+----+---------+----+---------+-------+----+----------------------------+-----------------+----------------------+\n",
      "|14102021 |0001      |22     |1            |NULL         |08                |2018-02-01             |67                       |NULL                |NULL       |2011-08-11           |4772500    |NULL                                                                                   |AVENIDA        |ALAGOAS                    |2466  |NULL       |SAO CRISTOVAO   |57601220|AL |2825            |82  |99142342 |NULL|NULL     |NULL   |NULL|wagnerpinto_@hotmail.com    |NULL             |NULL                  |\n",
      "|15606013 |0001      |86     |1            |TORRA TUDO   |08                |2015-07-03             |01                       |NULL                |NULL       |2012-04-18           |4781400    |NULL                                                                                   |RUA            |MARIA JEANE MOREIRA SAMPAIO|1013  |NULL       |CENTRO          |57265000|AL |0971            |82  |93162727 |82  |99706066 |NULL   |NULL|osvaldoottoni@ig.com.br     |NULL             |NULL                  |\n",
      "|14102889 |0001      |22     |1            |NULL         |08                |2023-12-05             |01                       |NULL                |NULL       |2011-08-11           |8230001    |7420004,5811500,4789003,8599699,8599605,9001901,7739003,8592999,8592902,4761001,7420001|RUA            |AMBROSIO LYRA              |40    |NULL       |FAROL           |57051070|AL |2785            |82  |88035128 |NULL|NULL     |NULL   |NULL|DANIELA.BENY.1983@GMAIL.COM |NULL             |NULL                  |\n",
      "|15606582 |0001      |21     |1            |NULL         |08                |2019-05-21             |01                       |NULL                |NULL       |2012-05-28           |1622699    |4744002                                                                                |RUA            |SAO JOAO                   |904   |NULL       |ALTO DO CRUZEIRO|57312265|AL |2705            |82  |99025101 |NULL|NULL     |NULL   |NULL|andreas_andressa@hotmail.com|NULL             |NULL                  |\n",
      "|14105520 |0001      |73     |1            |NULL         |08                |2024-05-28             |01                       |NULL                |NULL       |2011-08-11           |8299707    |NULL                                                                                   |RUA            |EUCLIDES MARQUES DE SA     |355   |NULL       |GUARIBAS        |57303530|AL |2705            |82  |35395370 |NULL|NULL     |NULL   |NULL|flshnetlanhouse@hotmail.com |NULL             |NULL                  |\n",
      "+---------+----------+-------+-------------+-------------+------------------+-----------------------+-------------------------+--------------------+-----------+---------------------+-----------+---------------------------------------------------------------------------------------+---------------+---------------------------+------+-----------+----------------+--------+---+----------------+----+---------+----+---------+-------+----+----------------------------+-----------------+----------------------+\n",
      "only showing top 5 rows\n",
      "root\n",
      " |-- cnpj_base: string (nullable = true)\n",
      " |-- cnpj_ordem: string (nullable = true)\n",
      " |-- cnpj_dv: string (nullable = true)\n",
      " |-- matriz_filial: string (nullable = true)\n",
      " |-- nome_fantasia: string (nullable = true)\n",
      " |-- situacao_cadastral: string (nullable = true)\n",
      " |-- data_situacao_cadastral: date (nullable = true)\n",
      " |-- motivo_situacao_cadastral: string (nullable = true)\n",
      " |-- nome_cidade_exterior: string (nullable = true)\n",
      " |-- codigo_pais: string (nullable = true)\n",
      " |-- data_inicio_atividade: date (nullable = true)\n",
      " |-- cnae_fiscal: string (nullable = true)\n",
      " |-- cnae_fiscal_secundaria: string (nullable = true)\n",
      " |-- tipo_logradouro: string (nullable = true)\n",
      " |-- logradouro: string (nullable = true)\n",
      " |-- numero: string (nullable = true)\n",
      " |-- complemento: string (nullable = true)\n",
      " |-- bairro: string (nullable = true)\n",
      " |-- cep: string (nullable = true)\n",
      " |-- uf: string (nullable = true)\n",
      " |-- codigo_municipio: string (nullable = true)\n",
      " |-- ddd1: string (nullable = true)\n",
      " |-- telefone1: string (nullable = true)\n",
      " |-- ddd2: string (nullable = true)\n",
      " |-- telefone2: string (nullable = true)\n",
      " |-- ddd_fax: string (nullable = true)\n",
      " |-- fax: string (nullable = true)\n",
      " |-- email: string (nullable = true)\n",
      " |-- situacao_especial: string (nullable = true)\n",
      " |-- data_situacao_especial: date (nullable = true)\n",
      "\n"
     ]
    }
   ],
   "source": [
    "# Alteração no nome de colunas\n",
    "try:\n",
    "    df_estabelecimentos_trs = df_estabelecimentos_trs.withColumnRenamed(\"pais\", \"codigo_pais\")\n",
    "    df_estabelecimentos_trs.show(5, truncate=False)\n",
    "    df_estabelecimentos_trs.printSchema()\n",
    "except Exception as e:\n",
    "    print(f\"Erro: {e}\")"
   ]
  },
  {
   "cell_type": "code",
   "execution_count": null,
   "id": "2e0fa7e6",
   "metadata": {},
   "outputs": [
    {
     "name": "stderr",
     "output_type": "stream",
     "text": [
      "[Stage 180:==================================================>    (12 + 1) / 13]\r"
     ]
    },
    {
     "name": "stdout",
     "output_type": "stream",
     "text": [
      "-RECORD 0------------------------------\n",
      " coluna      | ddd1                    \n",
      " total_nulos | 4753435                 \n",
      "-RECORD 1------------------------------\n",
      " coluna      | telefone1               \n",
      " total_nulos | 4753435                 \n",
      "-RECORD 2------------------------------\n",
      " coluna      | ddd2                    \n",
      " total_nulos | 4753435                 \n",
      "-RECORD 3------------------------------\n",
      " coluna      | telefone2               \n",
      " total_nulos | 4753435                 \n",
      "-RECORD 4------------------------------\n",
      " coluna      | nome_cidade_exterior    \n",
      " total_nulos | 4751302                 \n",
      "-RECORD 5------------------------------\n",
      " coluna      | situacao_especial       \n",
      " total_nulos | 4750384                 \n",
      "-RECORD 6------------------------------\n",
      " coluna      | data_situacao_especial  \n",
      " total_nulos | 4750384                 \n",
      "-RECORD 7------------------------------\n",
      " coluna      | codigo_pais             \n",
      " total_nulos | 4601806                 \n",
      "-RECORD 8------------------------------\n",
      " coluna      | fax                     \n",
      " total_nulos | 4356317                 \n",
      "-RECORD 9------------------------------\n",
      " coluna      | ddd_fax                 \n",
      " total_nulos | 4167381                 \n",
      "-RECORD 10-----------------------------\n",
      " coluna      | nome_fantasia           \n",
      " total_nulos | 2951851                 \n",
      "-RECORD 11-----------------------------\n",
      " coluna      | complemento             \n",
      " total_nulos | 2834752                 \n",
      "-RECORD 12-----------------------------\n",
      " coluna      | cnae_fiscal_secundaria  \n",
      " total_nulos | 2709048                 \n",
      "-RECORD 13-----------------------------\n",
      " coluna      | email                   \n",
      " total_nulos | 1885069                 \n",
      "-RECORD 14-----------------------------\n",
      " coluna      | tipo_logradouro         \n",
      " total_nulos | 89043                   \n",
      "-RECORD 15-----------------------------\n",
      " coluna      | bairro                  \n",
      " total_nulos | 37742                   \n",
      "-RECORD 16-----------------------------\n",
      " coluna      | data_situacao_cadastral \n",
      " total_nulos | 13221                   \n",
      "-RECORD 17-----------------------------\n",
      " coluna      | cep                     \n",
      " total_nulos | 13072                   \n",
      "-RECORD 18-----------------------------\n",
      " coluna      | logradouro              \n",
      " total_nulos | 217                     \n",
      "-RECORD 19-----------------------------\n",
      " coluna      | situacao_cadastral      \n",
      " total_nulos | 1                       \n",
      "only showing top 20 rows\n"
     ]
    },
    {
     "name": "stderr",
     "output_type": "stream",
     "text": [
      "                                                                                \r"
     ]
    }
   ],
   "source": [
    "# Cotagem de valores nulos por coluna\n",
    "\n",
    "try:\n",
    "    nulos_df = df_estabelecimentos_trs.select([\n",
    "        f.sum(f.col(c).isNull().cast(\"int\")).alias(c)\n",
    "        for c in df_estabelecimentos_trs.columns\n",
    "    ])\n",
    "\n",
    "    nulos_df.selectExpr(\"stack(\" + str(len(nulos_df.columns)) + \", \" +\n",
    "                        \", \".join([f\"'{c}', {c}\" for c in nulos_df.columns]) +\n",
    "                        \") as (coluna, total_nulos)\") \\\n",
    "            .orderBy(f.desc(\"total_nulos\")) \\\n",
    "            .show(truncate=False, vertical=True)\n",
    "except Exception as e:\n",
    "    print(f\"Erro: {e}\")"
   ]
  },
  {
   "cell_type": "code",
   "execution_count": 16,
   "id": "e17d8462",
   "metadata": {},
   "outputs": [
    {
     "name": "stderr",
     "output_type": "stream",
     "text": [
      "                                                                                \r"
     ]
    }
   ],
   "source": [
    "# Atualizar dados do delta\n",
    "try:\n",
    "    df_estabelecimentos_trs.write.format(\"delta\") \\\n",
    "        .mode(\"overwrite\") \\\n",
    "        .option(\"overwriteSchema\", \"true\") \\\n",
    "        .partitionBy(\"uf\") \\\n",
    "        .save(\"../TRS/estabelecimentos\")\n",
    "except Exception as e:\n",
    "    print(f\"Erro: {e}\")"
   ]
  },
  {
   "cell_type": "markdown",
   "id": "5caff2f2",
   "metadata": {},
   "source": [
    "## TRUSTED - Sócios"
   ]
  },
  {
   "cell_type": "markdown",
   "id": "481ed47b",
   "metadata": {},
   "source": [
    "### Etapa 1: Leitura da Camada RAW"
   ]
  },
  {
   "cell_type": "code",
   "execution_count": null,
   "id": "1981c703",
   "metadata": {},
   "outputs": [
    {
     "name": "stderr",
     "output_type": "stream",
     "text": [
      "                                                                                \r"
     ]
    },
    {
     "name": "stdout",
     "output_type": "stream",
     "text": [
      "+-----------+-------------------+------------------------------------+--------------+-------------------------+----------------------+----+-------------------+------------------+---------------------------------+------------+\n",
      "|cnpj_basico|identificador_socio|nome_socio_razao_social             |cnpj_cpf_socio|codigo_qualificacao_socio|data_entrada_sociedade|pais|representante_legal|nome_representante|codigo_qualificacao_representante|faixa_etaria|\n",
      "+-----------+-------------------+------------------------------------+--------------+-------------------------+----------------------+----+-------------------+------------------+---------------------------------+------------+\n",
      "|15508939   |2                  |LUIZ FERNANDO RODRIGUES DE SALES    |***784978**   |49                       |20120423              |NULL|***000000**        |NULL              |00                               |5           |\n",
      "|15508939   |2                  |LUIZ GONZAGA RODRIGUES DE SALES     |***555608**   |49                       |20120423              |NULL|***000000**        |NULL              |00                               |8           |\n",
      "|15508983   |2                  |ALAN PITTA POLIDO                   |***348448**   |49                       |20120507              |NULL|***000000**        |NULL              |00                               |6           |\n",
      "|15509024   |2                  |LUCIA DE OLIVEIRA MOREIRA           |***979858**   |49                       |20120507              |NULL|***000000**        |NULL              |00                               |5           |\n",
      "|15509024   |2                  |MARIA DE OLIVEIRA BARBOZA           |***849928**   |22                       |20120808              |NULL|***000000**        |NULL              |00                               |8           |\n",
      "|15509111   |2                  |DORIVAL ROSSATO                     |***951021**   |49                       |20120507              |NULL|***000000**        |NULL              |00                               |8           |\n",
      "|15509111   |2                  |DORIVAL ROSSATO JUNIOR              |***286298**   |49                       |20120507              |NULL|***000000**        |NULL              |00                               |5           |\n",
      "|15509242   |2                  |PAULO RICARDO DOS SANTOS TUBINO     |***698480**   |49                       |20120416              |NULL|***000000**        |NULL              |00                               |7           |\n",
      "|15509242   |2                  |PAULO RICARDO ASMUZ TUBINO          |***542540**   |22                       |20120416              |NULL|***000000**        |NULL              |00                               |4           |\n",
      "|15509352   |2                  |JOSE ANTONIO ROCHA                  |***568448**   |59                       |20120510              |NULL|***000000**        |NULL              |00                               |8           |\n",
      "|15509352   |2                  |DANIEL GARCIA ROCHA                 |***902538**   |59                       |20120510              |NULL|***000000**        |NULL              |00                               |5           |\n",
      "|15509414   |2                  |MAURI APARECIDO MENDES              |***523201**   |49                       |20120508              |NULL|***000000**        |NULL              |00                               |7           |\n",
      "|15509414   |2                  |MARCIA REGINA MENDES                |***235311**   |49                       |20130517              |NULL|***000000**        |NULL              |00                               |7           |\n",
      "|09236196   |2                  |JOSE OSMAR CORDEIRO                 |***652969**   |49                       |20071205              |NULL|***000000**        |NULL              |00                               |7           |\n",
      "|15509489   |2                  |HEBERT SPINDOLA DE OLIVEIRA FERREIRA|***819601**   |49                       |20240523              |NULL|***000000**        |NULL              |00                               |4           |\n",
      "|15509513   |2                  |FABIANO CARLOS DA SILVA             |***888131**   |49                       |20120510              |NULL|***000000**        |NULL              |00                               |4           |\n",
      "|15509538   |2                  |CARLOS ELISIO STAHELIN              |***420659**   |49                       |20120510              |NULL|***000000**        |NULL              |00                               |6           |\n",
      "|15509538   |2                  |GUILHERME STAHELIN COELHO           |***239369**   |49                       |20121113              |NULL|***000000**        |NULL              |00                               |5           |\n",
      "|15509548   |2                  |LUCIANA CARDOZO CERATO              |***256228**   |49                       |20120503              |NULL|***000000**        |NULL              |00                               |4           |\n",
      "|15509575   |2                  |DONIZETE APARECIDO AURIGLIETTI      |***032048**   |59                       |20120510              |NULL|***000000**        |NULL              |00                               |6           |\n",
      "+-----------+-------------------+------------------------------------+--------------+-------------------------+----------------------+----+-------------------+------------------+---------------------------------+------------+\n",
      "only showing top 20 rows\n",
      "root\n",
      " |-- cnpj_basico: string (nullable = true)\n",
      " |-- identificador_socio: string (nullable = true)\n",
      " |-- nome_socio_razao_social: string (nullable = true)\n",
      " |-- cnpj_cpf_socio: string (nullable = true)\n",
      " |-- codigo_qualificacao_socio: string (nullable = true)\n",
      " |-- data_entrada_sociedade: string (nullable = true)\n",
      " |-- pais: string (nullable = true)\n",
      " |-- representante_legal: string (nullable = true)\n",
      " |-- nome_representante: string (nullable = true)\n",
      " |-- codigo_qualificacao_representante: string (nullable = true)\n",
      " |-- faixa_etaria: string (nullable = true)\n",
      "\n"
     ]
    }
   ],
   "source": [
    "try:\n",
    "    deltaTable_socios_raw: DeltaTable = DeltaTable.forPath(spark, \"../RAW/socios\")\n",
    "    df_socios_raw: DataFrame = deltaTable_socios_raw.toDF()\n",
    "    df_socios_raw.show(5, truncate=False)\n",
    "    df_socios_raw.printSchema()\n",
    "except Exception as e:\n",
    "    print(f\"Erro na leitura: {e}\")"
   ]
  },
  {
   "cell_type": "markdown",
   "id": "189835a0",
   "metadata": {},
   "source": [
    "### Etapa 2: Transformação dos dados"
   ]
  },
  {
   "cell_type": "code",
   "execution_count": 46,
   "id": "d84c81f7",
   "metadata": {},
   "outputs": [
    {
     "name": "stdout",
     "output_type": "stream",
     "text": [
      "+-----------+-------------------+-----------------------+--------------+-------------------------+----------------------+----+-------------------+------------------+---------------------------------+------------+\n",
      "|cnpj_basico|identificador_socio|nome_socio_razao_social|cnpj_cpf_socio|codigo_qualificacao_socio|data_entrada_sociedade|pais|representante_legal|nome_representante|codigo_qualificacao_representante|faixa_etaria|\n",
      "+-----------+-------------------+-----------------------+--------------+-------------------------+----------------------+----+-------------------+------------------+---------------------------------+------------+\n",
      "+-----------+-------------------+-----------------------+--------------+-------------------------+----------------------+----+-------------------+------------------+---------------------------------+------------+\n",
      "\n"
     ]
    }
   ],
   "source": [
    "try:\n",
    "    # Verificar se existe divergencia no tamanho das datas\n",
    "    df_socios_raw.filter(f.length(df_socios_raw[\"data_entrada_sociedade\"]) != 8).show()\n",
    "except Exception as e:\n",
    "    print(f\"Erro: {e}\")"
   ]
  },
  {
   "cell_type": "code",
   "execution_count": 47,
   "id": "d51c4873",
   "metadata": {},
   "outputs": [
    {
     "name": "stdout",
     "output_type": "stream",
     "text": [
      "+-----------+-------------------+------------------------------------+--------------+-------------------------+----------------------+----+-------------------+------------------+---------------------------------+------------+\n",
      "|cnpj_basico|identificador_socio|nome_socio_razao_social             |cnpj_cpf_socio|codigo_qualificacao_socio|data_entrada_sociedade|pais|representante_legal|nome_representante|codigo_qualificacao_representante|faixa_etaria|\n",
      "+-----------+-------------------+------------------------------------+--------------+-------------------------+----------------------+----+-------------------+------------------+---------------------------------+------------+\n",
      "|15508939   |2                  |LUIZ FERNANDO RODRIGUES DE SALES    |***784978**   |49                       |2012-04-23            |NULL|***000000**        |NULL              |00                               |5           |\n",
      "|15508939   |2                  |LUIZ GONZAGA RODRIGUES DE SALES     |***555608**   |49                       |2012-04-23            |NULL|***000000**        |NULL              |00                               |8           |\n",
      "|15508983   |2                  |ALAN PITTA POLIDO                   |***348448**   |49                       |2012-05-07            |NULL|***000000**        |NULL              |00                               |6           |\n",
      "|15509024   |2                  |LUCIA DE OLIVEIRA MOREIRA           |***979858**   |49                       |2012-05-07            |NULL|***000000**        |NULL              |00                               |5           |\n",
      "|15509024   |2                  |MARIA DE OLIVEIRA BARBOZA           |***849928**   |22                       |2012-08-08            |NULL|***000000**        |NULL              |00                               |8           |\n",
      "|15509111   |2                  |DORIVAL ROSSATO                     |***951021**   |49                       |2012-05-07            |NULL|***000000**        |NULL              |00                               |8           |\n",
      "|15509111   |2                  |DORIVAL ROSSATO JUNIOR              |***286298**   |49                       |2012-05-07            |NULL|***000000**        |NULL              |00                               |5           |\n",
      "|15509242   |2                  |PAULO RICARDO DOS SANTOS TUBINO     |***698480**   |49                       |2012-04-16            |NULL|***000000**        |NULL              |00                               |7           |\n",
      "|15509242   |2                  |PAULO RICARDO ASMUZ TUBINO          |***542540**   |22                       |2012-04-16            |NULL|***000000**        |NULL              |00                               |4           |\n",
      "|15509352   |2                  |JOSE ANTONIO ROCHA                  |***568448**   |59                       |2012-05-10            |NULL|***000000**        |NULL              |00                               |8           |\n",
      "|15509352   |2                  |DANIEL GARCIA ROCHA                 |***902538**   |59                       |2012-05-10            |NULL|***000000**        |NULL              |00                               |5           |\n",
      "|15509414   |2                  |MAURI APARECIDO MENDES              |***523201**   |49                       |2012-05-08            |NULL|***000000**        |NULL              |00                               |7           |\n",
      "|15509414   |2                  |MARCIA REGINA MENDES                |***235311**   |49                       |2013-05-17            |NULL|***000000**        |NULL              |00                               |7           |\n",
      "|09236196   |2                  |JOSE OSMAR CORDEIRO                 |***652969**   |49                       |2007-12-05            |NULL|***000000**        |NULL              |00                               |7           |\n",
      "|15509489   |2                  |HEBERT SPINDOLA DE OLIVEIRA FERREIRA|***819601**   |49                       |2024-05-23            |NULL|***000000**        |NULL              |00                               |4           |\n",
      "|15509513   |2                  |FABIANO CARLOS DA SILVA             |***888131**   |49                       |2012-05-10            |NULL|***000000**        |NULL              |00                               |4           |\n",
      "|15509538   |2                  |CARLOS ELISIO STAHELIN              |***420659**   |49                       |2012-05-10            |NULL|***000000**        |NULL              |00                               |6           |\n",
      "|15509538   |2                  |GUILHERME STAHELIN COELHO           |***239369**   |49                       |2012-11-13            |NULL|***000000**        |NULL              |00                               |5           |\n",
      "|15509548   |2                  |LUCIANA CARDOZO CERATO              |***256228**   |49                       |2012-05-03            |NULL|***000000**        |NULL              |00                               |4           |\n",
      "|15509575   |2                  |DONIZETE APARECIDO AURIGLIETTI      |***032048**   |59                       |2012-05-10            |NULL|***000000**        |NULL              |00                               |6           |\n",
      "+-----------+-------------------+------------------------------------+--------------+-------------------------+----------------------+----+-------------------+------------------+---------------------------------+------------+\n",
      "only showing top 20 rows\n",
      "2019150\n"
     ]
    }
   ],
   "source": [
    "try:\n",
    "    df_socios_raw = df_socios_raw.withColumn(\n",
    "        \"data_entrada_sociedade\",\n",
    "        f.to_date(df_socios_raw[\"data_entrada_sociedade\"], \"yyyyMMdd\")\n",
    "    )\n",
    "    df_socios_raw.show(truncate=False)\n",
    "    print(df_socios_raw.select(\"cnpj_basico\").count())\n",
    "except Exception as e:\n",
    "    print(f\"Erro: {e}\")"
   ]
  },
  {
   "cell_type": "markdown",
   "id": "be9647c2",
   "metadata": {},
   "source": [
    "### Etapa 3: Escrita na Camada Trusted"
   ]
  },
  {
   "cell_type": "code",
   "execution_count": 48,
   "id": "5d5fcec5",
   "metadata": {},
   "outputs": [
    {
     "name": "stderr",
     "output_type": "stream",
     "text": [
      "                                                                                \r"
     ]
    },
    {
     "name": "stdout",
     "output_type": "stream",
     "text": [
      "Escrito com sucesso!\n"
     ]
    }
   ],
   "source": [
    "try:\n",
    "    df_socios_raw.write.format(\"delta\") \\\n",
    "        .mode(\"overwrite\") \\\n",
    "        .save(\"../TRS/socios\")\n",
    "    print(\"Escrito com sucesso!\")\n",
    "except Exception as e:\n",
    "    print(f\"Erro na escrita: {e}\")"
   ]
  },
  {
   "cell_type": "markdown",
   "id": "282ef8c9",
   "metadata": {},
   "source": [
    "### Etapa 4: Ajuste e Validação"
   ]
  },
  {
   "cell_type": "code",
   "execution_count": 54,
   "id": "37ac677e",
   "metadata": {},
   "outputs": [
    {
     "name": "stdout",
     "output_type": "stream",
     "text": [
      "+-----------+-------------------+-----------------------------+--------------+-------------------------+----------------------+------------------+----------------------------+------------------+---------------------------------+------------+\n",
      "|cnpj_basico|identificador_socio|nome_socio_razao_social      |cnpj_cpf_socio|codigo_qualificacao_socio|data_entrada_sociedade|socios_codigo_pais|cnpj_cpf_representante_legal|nome_representante|codigo_qualificacao_representante|faixa_etaria|\n",
      "+-----------+-------------------+-----------------------------+--------------+-------------------------+----------------------+------------------+----------------------------+------------------+---------------------------------+------------+\n",
      "|03123458   |2                  |JOSE CERQUEIRA COSTA         |***445205**   |49                       |1999-04-30            |NULL              |***000000**                 |NULL              |00                               |6           |\n",
      "|03123458   |2                  |BONIFACIO DAMASCENO ASSUNCAO |***533575**   |22                       |1999-04-30            |NULL              |***000000**                 |NULL              |00                               |7           |\n",
      "|07082009   |2                  |ALEX EMERSON CORREIA DA SILVA|***080017**   |49                       |2018-10-09            |NULL              |***000000**                 |NULL              |00                               |6           |\n",
      "|07082009   |2                  |JORCELIO SILVA DE SOUZA      |***571817**   |22                       |2018-10-09            |NULL              |***000000**                 |NULL              |00                               |5           |\n",
      "|04903751   |2                  |LUIZ ALBERTO CIMINO          |***858638**   |49                       |2004-12-08            |NULL              |***000000**                 |NULL              |00                               |8           |\n",
      "+-----------+-------------------+-----------------------------+--------------+-------------------------+----------------------+------------------+----------------------------+------------------+---------------------------------+------------+\n",
      "only showing top 5 rows\n",
      "root\n",
      " |-- cnpj_basico: string (nullable = true)\n",
      " |-- identificador_socio: string (nullable = true)\n",
      " |-- nome_socio_razao_social: string (nullable = true)\n",
      " |-- cnpj_cpf_socio: string (nullable = true)\n",
      " |-- codigo_qualificacao_socio: string (nullable = true)\n",
      " |-- data_entrada_sociedade: date (nullable = true)\n",
      " |-- socios_codigo_pais: string (nullable = true)\n",
      " |-- cnpj_cpf_representante_legal: string (nullable = true)\n",
      " |-- nome_representante: string (nullable = true)\n",
      " |-- codigo_qualificacao_representante: string (nullable = true)\n",
      " |-- faixa_etaria: string (nullable = true)\n",
      "\n"
     ]
    }
   ],
   "source": [
    "# confirmar como esta o delta no TRS\n",
    "try:\n",
    "    deltaTable_socios_trusted: DeltaTable = DeltaTable.forPath(spark, \"../TRS/socios\")\n",
    "    df_socios_trusted = deltaTable_socios_trusted.toDF()\n",
    "    df_socios_trusted.show(5, truncate=False)\n",
    "    df_socios_trusted.printSchema()\n",
    "except Exception as e:\n",
    "    print(f\"Erro na leitura: {e}\")"
   ]
  },
  {
   "cell_type": "code",
   "execution_count": 50,
   "id": "5d1a3133",
   "metadata": {},
   "outputs": [
    {
     "name": "stdout",
     "output_type": "stream",
     "text": [
      "+-----------+-------------------+-----------------------+--------------+-------------------------+----------------------+------------------+----------------------------+------------------+---------------------------------+------------+\n",
      "|cnpj_basico|identificador_socio|nome_socio_razao_social|cnpj_cpf_socio|codigo_qualificacao_socio|data_entrada_sociedade|socios_codigo_pais|cnpj_cpf_representante_legal|nome_representante|codigo_qualificacao_representante|faixa_etaria|\n",
      "+-----------+-------------------+-----------------------+--------------+-------------------------+----------------------+------------------+----------------------------+------------------+---------------------------------+------------+\n",
      "|   15508939|                  2|   LUIZ FERNANDO ROD...|   ***784978**|                       49|            2012-04-23|              NULL|                 ***000000**|              NULL|                               00|           5|\n",
      "|   15508939|                  2|   LUIZ GONZAGA RODR...|   ***555608**|                       49|            2012-04-23|              NULL|                 ***000000**|              NULL|                               00|           8|\n",
      "|   15508983|                  2|      ALAN PITTA POLIDO|   ***348448**|                       49|            2012-05-07|              NULL|                 ***000000**|              NULL|                               00|           6|\n",
      "|   15509024|                  2|   LUCIA DE OLIVEIRA...|   ***979858**|                       49|            2012-05-07|              NULL|                 ***000000**|              NULL|                               00|           5|\n",
      "|   15509024|                  2|   MARIA DE OLIVEIRA...|   ***849928**|                       22|            2012-08-08|              NULL|                 ***000000**|              NULL|                               00|           8|\n",
      "|   15509111|                  2|        DORIVAL ROSSATO|   ***951021**|                       49|            2012-05-07|              NULL|                 ***000000**|              NULL|                               00|           8|\n",
      "|   15509111|                  2|   DORIVAL ROSSATO J...|   ***286298**|                       49|            2012-05-07|              NULL|                 ***000000**|              NULL|                               00|           5|\n",
      "|   15509242|                  2|   PAULO RICARDO DOS...|   ***698480**|                       49|            2012-04-16|              NULL|                 ***000000**|              NULL|                               00|           7|\n",
      "|   15509242|                  2|   PAULO RICARDO ASM...|   ***542540**|                       22|            2012-04-16|              NULL|                 ***000000**|              NULL|                               00|           4|\n",
      "|   15509352|                  2|     JOSE ANTONIO ROCHA|   ***568448**|                       59|            2012-05-10|              NULL|                 ***000000**|              NULL|                               00|           8|\n",
      "|   15509352|                  2|    DANIEL GARCIA ROCHA|   ***902538**|                       59|            2012-05-10|              NULL|                 ***000000**|              NULL|                               00|           5|\n",
      "|   15509414|                  2|   MAURI APARECIDO M...|   ***523201**|                       49|            2012-05-08|              NULL|                 ***000000**|              NULL|                               00|           7|\n",
      "|   15509414|                  2|   MARCIA REGINA MENDES|   ***235311**|                       49|            2013-05-17|              NULL|                 ***000000**|              NULL|                               00|           7|\n",
      "|   09236196|                  2|    JOSE OSMAR CORDEIRO|   ***652969**|                       49|            2007-12-05|              NULL|                 ***000000**|              NULL|                               00|           7|\n",
      "|   15509489|                  2|   HEBERT SPINDOLA D...|   ***819601**|                       49|            2024-05-23|              NULL|                 ***000000**|              NULL|                               00|           4|\n",
      "|   15509513|                  2|   FABIANO CARLOS DA...|   ***888131**|                       49|            2012-05-10|              NULL|                 ***000000**|              NULL|                               00|           4|\n",
      "|   15509538|                  2|   CARLOS ELISIO STA...|   ***420659**|                       49|            2012-05-10|              NULL|                 ***000000**|              NULL|                               00|           6|\n",
      "|   15509538|                  2|   GUILHERME STAHELI...|   ***239369**|                       49|            2012-11-13|              NULL|                 ***000000**|              NULL|                               00|           5|\n",
      "|   15509548|                  2|   LUCIANA CARDOZO C...|   ***256228**|                       49|            2012-05-03|              NULL|                 ***000000**|              NULL|                               00|           4|\n",
      "|   15509575|                  2|   DONIZETE APARECID...|   ***032048**|                       59|            2012-05-10|              NULL|                 ***000000**|              NULL|                               00|           6|\n",
      "+-----------+-------------------+-----------------------+--------------+-------------------------+----------------------+------------------+----------------------------+------------------+---------------------------------+------------+\n",
      "only showing top 20 rows\n"
     ]
    }
   ],
   "source": [
    "# Ajuste no nome das colunas\n",
    "df_socios_trusted = df_socios_trusted.withColumnRenamed(\n",
    "    \"pais\",\n",
    "    \"socios_codigo_pais\"\n",
    ").withColumnRenamed(\n",
    "    \"representante_legal\",\n",
    "    \"cnpj_cpf_representante_legal\"\n",
    ")\n",
    "\n",
    "df_socios_trusted.show()"
   ]
  },
  {
   "cell_type": "code",
   "execution_count": 57,
   "id": "873fe5c6",
   "metadata": {},
   "outputs": [
    {
     "name": "stdout",
     "output_type": "stream",
     "text": [
      "+---------------------------------+-----------+\n",
      "|coluna                           |total_nulos|\n",
      "+---------------------------------+-----------+\n",
      "|socios_codigo_pais               |2012151    |\n",
      "|nome_representante               |1969517    |\n",
      "|cnpj_cpf_socio                   |1164       |\n",
      "|nome_socio_razao_social          |173        |\n",
      "|cnpj_basico                      |0          |\n",
      "|identificador_socio              |0          |\n",
      "|codigo_qualificacao_socio        |0          |\n",
      "|data_entrada_sociedade           |0          |\n",
      "|cnpj_cpf_representante_legal     |0          |\n",
      "|codigo_qualificacao_representante|0          |\n",
      "|faixa_etaria                     |0          |\n",
      "+---------------------------------+-----------+\n",
      "\n"
     ]
    }
   ],
   "source": [
    "try:\n",
    "    nulos_df = df_socios_trusted.select([\n",
    "        f.sum(f.col(c).isNull().cast(\"int\")).alias(c)\n",
    "        for c in df_socios_trusted.columns\n",
    "    ])\n",
    "\n",
    "    nulos_df.selectExpr(\"stack(\" + str(len(nulos_df.columns)) + \", \" +\n",
    "                        \", \".join([f\"'{c}', {c}\" for c in nulos_df.columns]) +\n",
    "                        \") as (coluna, total_nulos)\") \\\n",
    "            .orderBy(f.desc(\"total_nulos\")) \\\n",
    "            .show(truncate=False)\n",
    "except Exception as e:\n",
    "    print(f\"Erro: {e}\")\n"
   ]
  },
  {
   "cell_type": "code",
   "execution_count": 52,
   "id": "e627b509",
   "metadata": {},
   "outputs": [
    {
     "name": "stderr",
     "output_type": "stream",
     "text": [
      "                                                                                \r"
     ]
    }
   ],
   "source": [
    "# Atualizar dados do delta\n",
    "try:\n",
    "    df_socios_trusted.write.format(\"delta\") \\\n",
    "        .mode(\"overwrite\") \\\n",
    "        .option(\"overwriteSchema\", \"true\") \\\n",
    "        .save(\"../TRS/socios\")\n",
    "except Exception as e:\n",
    "    print(f\"Erro: {e}\")"
   ]
  },
  {
   "cell_type": "markdown",
   "id": "703393a2",
   "metadata": {},
   "source": []
  },
  {
   "cell_type": "markdown",
   "id": "5b443d65",
   "metadata": {},
   "source": [
    "## TRUSTED - Simples Nacional"
   ]
  },
  {
   "cell_type": "markdown",
   "id": "50861e09",
   "metadata": {},
   "source": [
    "### Etapa 1: Leitura da Camada RAW"
   ]
  },
  {
   "cell_type": "code",
   "execution_count": 60,
   "id": "b8f9fab7",
   "metadata": {},
   "outputs": [
    {
     "name": "stdout",
     "output_type": "stream",
     "text": [
      "+-----------+-------------+------------------+---------------------+---------+--------------+-----------------+\n",
      "|cnpj_basico|opcao_simples|data_opcao_simples|data_exclusao_simples|opcao_mei|data_opcao_mei|data_exclusao_mei|\n",
      "+-----------+-------------+------------------+---------------------+---------+--------------+-----------------+\n",
      "|36536474   |N            |20200303          |20201231             |N        |00000000      |00000000         |\n",
      "|36536475   |S            |20200303          |00000000             |S        |20200303      |00000000         |\n",
      "|36536476   |N            |20200303          |20220331             |N        |20200303      |20220331         |\n",
      "|36536477   |N            |20200303          |20200403             |N        |20200303      |20200403         |\n",
      "|36536478   |N            |20200303          |20241231             |N        |20200303      |20241231         |\n",
      "+-----------+-------------+------------------+---------------------+---------+--------------+-----------------+\n",
      "only showing top 5 rows\n",
      "root\n",
      " |-- cnpj_basico: string (nullable = true)\n",
      " |-- opcao_simples: string (nullable = true)\n",
      " |-- data_opcao_simples: string (nullable = true)\n",
      " |-- data_exclusao_simples: string (nullable = true)\n",
      " |-- opcao_mei: string (nullable = true)\n",
      " |-- data_opcao_mei: string (nullable = true)\n",
      " |-- data_exclusao_mei: string (nullable = true)\n",
      "\n"
     ]
    }
   ],
   "source": [
    "try:\n",
    "    deltaTable_simples_nacional_raw: DeltaTable = DeltaTable.forPath(spark, \"../RAW/simples_nacional\")\n",
    "    df_simples_nacional_raw = deltaTable_simples_nacional_raw.toDF()\n",
    "    df_simples_nacional_raw.show(5, truncate=False)\n",
    "    df_simples_nacional_raw.printSchema()\n",
    "except Exception as e:\n",
    "    print(f\"Erro na leitura: {e}\")"
   ]
  },
  {
   "cell_type": "markdown",
   "id": "1a78bdfc",
   "metadata": {},
   "source": [
    "### Etapa 2: Transformação dos dados"
   ]
  },
  {
   "cell_type": "code",
   "execution_count": 61,
   "id": "07876065",
   "metadata": {},
   "outputs": [
    {
     "name": "stderr",
     "output_type": "stream",
     "text": [
      "                                                                                \r"
     ]
    },
    {
     "name": "stdout",
     "output_type": "stream",
     "text": [
      "0\n"
     ]
    },
    {
     "name": "stderr",
     "output_type": "stream",
     "text": [
      "                                                                                \r"
     ]
    },
    {
     "name": "stdout",
     "output_type": "stream",
     "text": [
      "0\n"
     ]
    },
    {
     "name": "stderr",
     "output_type": "stream",
     "text": [
      "                                                                                \r"
     ]
    },
    {
     "name": "stdout",
     "output_type": "stream",
     "text": [
      "0\n"
     ]
    },
    {
     "name": "stderr",
     "output_type": "stream",
     "text": [
      "[Stage 210:=======================================>               (13 + 5) / 18]\r"
     ]
    },
    {
     "name": "stdout",
     "output_type": "stream",
     "text": [
      "0\n"
     ]
    },
    {
     "name": "stderr",
     "output_type": "stream",
     "text": [
      "                                                                                \r"
     ]
    }
   ],
   "source": [
    "# Tratando a data antes de passar para DateType\n",
    "\n",
    "try:\n",
    "    df_simples_nacional_raw = df_simples_nacional_raw.withColumn(\n",
    "        \"data_exclusao_simples\", f.when(\n",
    "            df_simples_nacional_raw[\"data_exclusao_simples\"] == \"00000000\",\n",
    "            None\n",
    "        ).otherwise(df_simples_nacional_raw[\"data_exclusao_simples\"])\n",
    "    ).withColumn(\n",
    "        \"data_opcao_simples\", f.when(\n",
    "            df_simples_nacional_raw[\"data_opcao_simples\"] == \"00000000\",\n",
    "            None\n",
    "        ).otherwise(df_simples_nacional_raw[\"data_opcao_simples\"])\n",
    "    ).withColumn(\n",
    "        \"data_opcao_mei\", f.when(\n",
    "            df_simples_nacional_raw[\"data_opcao_mei\"] == \"00000000\",\n",
    "            None\n",
    "        ).otherwise(df_simples_nacional_raw[\"data_opcao_mei\"])\n",
    "    ).withColumn(\n",
    "        \"data_exclusao_mei\", f.when(\n",
    "            df_simples_nacional_raw[\"data_exclusao_mei\"] == \"00000000\",\n",
    "            None\n",
    "        ).otherwise(df_simples_nacional_raw[\"data_exclusao_mei\"])\n",
    "    )\n",
    "\n",
    "    print(df_simples_nacional_raw.filter(f.length(df_simples_nacional_raw[\"data_exclusao_simples\"]) != 8).count())\n",
    "    print(df_simples_nacional_raw.filter(f.length(df_simples_nacional_raw[\"data_opcao_simples\"]) != 8).count())\n",
    "    print(df_simples_nacional_raw.filter(f.length(df_simples_nacional_raw[\"data_opcao_mei\"]) != 8).count())\n",
    "    print(df_simples_nacional_raw.filter(f.length(df_simples_nacional_raw[\"data_exclusao_mei\"]) != 8).count())\n",
    "except Exception as e:\n",
    "    print(f\"Erro: {e}\")"
   ]
  },
  {
   "cell_type": "code",
   "execution_count": 62,
   "id": "6768e30e",
   "metadata": {},
   "outputs": [
    {
     "name": "stdout",
     "output_type": "stream",
     "text": [
      "+-----------+-------------+------------------+---------------------+---------+--------------+-----------------+\n",
      "|cnpj_basico|opcao_simples|data_opcao_simples|data_exclusao_simples|opcao_mei|data_opcao_mei|data_exclusao_mei|\n",
      "+-----------+-------------+------------------+---------------------+---------+--------------+-----------------+\n",
      "|36536474   |N            |2020-03-03        |2020-12-31           |N        |NULL          |NULL             |\n",
      "|36536475   |S            |2020-03-03        |NULL                 |S        |2020-03-03    |NULL             |\n",
      "|36536476   |N            |2020-03-03        |2022-03-31           |N        |2020-03-03    |2022-03-31       |\n",
      "|36536477   |N            |2020-03-03        |2020-04-03           |N        |2020-03-03    |2020-04-03       |\n",
      "|36536478   |N            |2020-03-03        |2024-12-31           |N        |2020-03-03    |2024-12-31       |\n",
      "+-----------+-------------+------------------+---------------------+---------+--------------+-----------------+\n",
      "only showing top 5 rows\n"
     ]
    }
   ],
   "source": [
    "try:\n",
    "    df_simples_nacional_raw = df_simples_nacional_raw.withColumn(\n",
    "        \"data_opcao_simples\", \n",
    "        f.to_date(df_simples_nacional_raw[\"data_opcao_simples\"], \"yyyyMMdd\")\n",
    "    ).withColumn(\n",
    "        \"data_exclusao_simples\", \n",
    "        f.to_date(df_simples_nacional_raw[\"data_exclusao_simples\"], \"yyyyMMdd\")\n",
    "    ).withColumn(\n",
    "        \"data_opcao_mei\", \n",
    "        f.to_date(df_simples_nacional_raw[\"data_opcao_mei\"], \"yyyyMMdd\")\n",
    "    ).withColumn(\n",
    "        \"data_exclusao_mei\", \n",
    "        f.to_date(df_simples_nacional_raw[\"data_exclusao_mei\"], \"yyyyMMdd\")\n",
    "    )\n",
    "\n",
    "    df_simples_nacional_raw.show(5, truncate=False)\n",
    "except Exception as e:\n",
    "    print(f\"Erro: {e}\")"
   ]
  },
  {
   "cell_type": "markdown",
   "id": "cfacd06c",
   "metadata": {},
   "source": [
    "### Etapa 3: Escrita na camada Trusted (TRS)"
   ]
  },
  {
   "cell_type": "code",
   "execution_count": null,
   "id": "261e0c56",
   "metadata": {},
   "outputs": [
    {
     "name": "stderr",
     "output_type": "stream",
     "text": [
      "                                                                                \r"
     ]
    }
   ],
   "source": [
    "try:\n",
    "    df_simples_nacional_raw.write.format(\"delta\") \\\n",
    "        .mode(\"overwrite\") \\\n",
    "        .save(\"../TRS/simples_nacional\")\n",
    "    print(\"Dados escrito com sucesso!\")\n",
    "except Exception as e:\n",
    "    print(f\"Erro ao gravar dados: {e}\")"
   ]
  },
  {
   "cell_type": "markdown",
   "id": "22dfdfaa",
   "metadata": {},
   "source": [
    "### Etapa 4: Ajuste e Validação"
   ]
  },
  {
   "cell_type": "code",
   "execution_count": 64,
   "id": "ba47f9db",
   "metadata": {},
   "outputs": [
    {
     "name": "stdout",
     "output_type": "stream",
     "text": [
      "+-----------+-------------+------------------+---------------------+---------+--------------+-----------------+\n",
      "|cnpj_basico|opcao_simples|data_opcao_simples|data_exclusao_simples|opcao_mei|data_opcao_mei|data_exclusao_mei|\n",
      "+-----------+-------------+------------------+---------------------+---------+--------------+-----------------+\n",
      "|23331889   |N            |2015-09-23        |2023-12-31           |N        |2015-09-23    |2023-12-31       |\n",
      "|23331890   |S            |2015-09-23        |NULL                 |S        |2015-09-23    |NULL             |\n",
      "|23331891   |N            |2015-09-23        |2017-07-25           |N        |2015-09-23    |2017-07-25       |\n",
      "|23331892   |N            |2018-01-01        |2019-12-31           |N        |NULL          |NULL             |\n",
      "|23331893   |N            |2015-09-23        |2016-05-30           |N        |2015-09-23    |2016-05-30       |\n",
      "+-----------+-------------+------------------+---------------------+---------+--------------+-----------------+\n",
      "only showing top 5 rows\n",
      "root\n",
      " |-- cnpj_basico: string (nullable = true)\n",
      " |-- opcao_simples: string (nullable = true)\n",
      " |-- data_opcao_simples: date (nullable = true)\n",
      " |-- data_exclusao_simples: date (nullable = true)\n",
      " |-- opcao_mei: string (nullable = true)\n",
      " |-- data_opcao_mei: date (nullable = true)\n",
      " |-- data_exclusao_mei: date (nullable = true)\n",
      "\n"
     ]
    }
   ],
   "source": [
    "# Confirmar alterações, pela camada TRS\n",
    "try:\n",
    "    deltaTable_simples_nacional_trusted: DeltaTable = DeltaTable.forPath(spark, \"../TRS/simples_nacional\")\n",
    "    df_simples_nacional_trusted = deltaTable_simples_nacional_trusted.toDF()\n",
    "    df_simples_nacional_trusted.show(5, truncate=False)\n",
    "    df_simples_nacional_trusted.printSchema()\n",
    "except Exception as e:\n",
    "    print(f\"Erro na leitura: {e}\")"
   ]
  },
  {
   "cell_type": "markdown",
   "id": "1509f5bc",
   "metadata": {},
   "source": [
    "## TRUSTED - Motivos"
   ]
  },
  {
   "cell_type": "markdown",
   "id": "e972c9a6",
   "metadata": {},
   "source": [
    "### Etapa 1: Leitura da Camada RAW"
   ]
  },
  {
   "cell_type": "code",
   "execution_count": 65,
   "id": "d71e1d39",
   "metadata": {},
   "outputs": [
    {
     "name": "stdout",
     "output_type": "stream",
     "text": [
      "+-------------+--------------------------------------------------------------------------------------+\n",
      "|codigo_motivo|descricao_motivo                                                                      |\n",
      "+-------------+--------------------------------------------------------------------------------------+\n",
      "|00           |SEM MOTIVO                                                                            |\n",
      "|01           |EXTINCAO POR ENCERRAMENTO LIQUIDACAO VOLUNTARIA                                       |\n",
      "|02           |INCORPORACAO                                                                          |\n",
      "|03           |FUSAO                                                                                 |\n",
      "|04           |CISAO TOTAL                                                                           |\n",
      "|05           |ENCERRAMENTO DA FALENCIA                                                              |\n",
      "|06           |ENCERRAMENTO DA LIQUIDACAO                                                            |\n",
      "|07           |ELEVACAO A MATRIZ                                                                     |\n",
      "|08           |TRANSPASSE                                                                            |\n",
      "|09           |NAO INICIO DE ATIVIDADE                                                               |\n",
      "|10           |EXTINCAO PELO ENCERRAMENTO DA LIQUIDACAO JUDICIAL                                     |\n",
      "|11           |ANULACAO POR MULTICIPLIDADE                                                           |\n",
      "|12           |ANULACAO ONLINE DE OFICIO                                                             |\n",
      "|13           |OMISSA CONTUMAZ                                                                       |\n",
      "|14           |OMISSA NAO LOCALIZADA                                                                 |\n",
      "|15           |INEXISTENCIA DE FATO                                                                  |\n",
      "|16           |ANULACAO POR VICIOS                                                                   |\n",
      "|17           |BAIXA INICIADA EM ANALISE                                                             |\n",
      "|18           |INTERRUPCAO TEMPORARIA DAS ATIVIDADES                                                 |\n",
      "|21           |PEDIDO DE BAIXA INDEFERIDA                                                            |\n",
      "|24           |POR EMISSAO CERTIDAO NEGATIVA                                                         |\n",
      "|28           |TRANSFERENCIA FILIAL CONDICAO MATRIZ                                                  |\n",
      "|31           |EXTINCAO-UNIFICACAO DA FILIAL                                                         |\n",
      "|33           |TRANSFERENCIA DO ORGAO LOCAL A CONDICAO DE FILIAL DO ORGAO REGIONAL                   |\n",
      "|34           |ANULACAO DE INSCRICAO INDEVIDA                                                        |\n",
      "|35           |EMPRESA ESTRANGEIRA AGUARDANDO DOCUMENTACAO                                           |\n",
      "|36           |PRATICA IRREGULAR DE OPERACAO DE COMERCIO EXTERIOR                                    |\n",
      "|37           |BAIXA DE PRODUTOR RURAL                                                               |\n",
      "|38           |BAIXA DEFERIDA PELA RFB AGUARDANDO ANALISE DO CONVENENTE                              |\n",
      "|39           |BAIXA DEFERIDA PELA RFB E INDEFERIDA PELO CONVENENTE                                  |\n",
      "|40           |BAIXA INDEFERIDA PELA RFB E AGUARDANDO ANALISE DO CONVENENTE                          |\n",
      "|41           |BAIXA INDEFERIDA PELA RFB E DEFERIDA PELO CONVENENTE                                  |\n",
      "|42           |BAIXA DEFERIDA PELA RFB E SEFIN, AGUARDANDO ANALISE SEFAZ                             |\n",
      "|43           |BAIXA DEFERIDA PELA RFB, AGUARDANDO ANALISE DA SEFAZ E INDEFERIDA PELA SEFIN          |\n",
      "|44           |BAIXA DEFERIDA PELA RFB E SEFAZ, AGUARDANDO ANALISE SEFIN                             |\n",
      "|45           |BAIXA DEFERIDA PELA RFB, AGUARDANDO ANALISE DA SEFIN E INDEFERIDA PELA SEFAZ          |\n",
      "|46           |BAIXA DEFERIDA PELA RFB E SEFAZ E INDEFERIDA PELA SEFIN                               |\n",
      "|47           |BAIXA DEFERIDA PELA RFB E SEFIN E INDEFERIDA PELA SEFAZ                               |\n",
      "|48           |BAIXA INDEFERIDA PELA RFB, AGARDANDO ANALISE SEFAZ E DEFERIDA PELA SEFIN              |\n",
      "|49           |BAIXA INDEFERIDA PELA RFB, AGUARDANDO ANALISE DA SEFAZ E INDEFERIDA PELA SEFIN        |\n",
      "|50           |BAIXA INDEFERIDA PELA RFB, DEFERIDA PELA SEFAZ E AGUARDANDO ANALISE DA SEFIN          |\n",
      "|51           |BAIXA INDEFERIDA PELA RFB E SEFAZ, AGUARDANDO ANALISE DA SEFIN                        |\n",
      "|52           |BAIXA INDEFERIDA PELA RFB, DEFERIDA PELA SEFAZ E INDEFERIDA PELA SEFIN                |\n",
      "|53           |BAIXA INDEFERIDA PELA RFB E SEFAZ E DEFERIDA PELA SEFIN                               |\n",
      "|54           |EXTINCAO - TRATAMENTO DIFERENCIADO DADO AS ME E EPP (LEI COMPLEMENTAR NUMERO 123/2006)|\n",
      "|55           |DEFERIDO PELO CONVENENTE, AGUARDANDO ANALISE DA RFB                                   |\n",
      "|60           |ARTIGO 30, VI, DA IN 748/2007                                                         |\n",
      "|61           |INDICIO INTERPOS. FRAUDULENTA                                                         |\n",
      "|62           |FALTA DE PLURALIDADE DE SOCIOS                                                        |\n",
      "|63           |OMISSAO DE DECLARACOES                                                                |\n",
      "|64           |LOCALIZACAO DESCONHECIDA                                                              |\n",
      "|66           |INAPTIDAO                                                                             |\n",
      "|67           |REGISTRO CANCELADO                                                                    |\n",
      "|70           |ANULACAO POR NAO CONFIRMADO ATO DE REGISTRO DO MEI NA JUNTA COMERCIAL                 |\n",
      "|71           |INAPTIDAO (LEI 11.941/2009 ART.54)                                                    |\n",
      "|72           |DETERMINACAO JUDICIAL                                                                 |\n",
      "|73           |COOMISSAO CONTUMAZ                                                                    |\n",
      "|74           |INCONSISTENCIA CADASTRAL                                                              |\n",
      "|75           |OBITO DO MEI - TITULAR FALECIDO                                                       |\n",
      "|80           |BAIXA REGISTRADA NA JUNTA, INDEFERIDA NA RFB                                          |\n",
      "|81           |SOLICITACAO DA ADMINISTRACAO TRIBUTARIA ESTADUAL/MUNICIPAL                            |\n",
      "|82           |SUSPENSO PERANTE A COMISSAO DE VALORES MOBILIARIOS - CVM                              |\n",
      "|93           |CNPJ - TITULAR BAIXADO                                                                |\n",
      "+-------------+--------------------------------------------------------------------------------------+\n",
      "\n",
      "root\n",
      " |-- codigo_motivo: string (nullable = true)\n",
      " |-- descricao_motivo: string (nullable = true)\n",
      "\n"
     ]
    }
   ],
   "source": [
    "try:\n",
    "    deltaTable_motivos_raw: DeltaTable = DeltaTable.forPath(spark, \"../RAW/motivos\")\n",
    "    df_motivos_raw: DataFrame = deltaTable_motivos_raw.toDF()\n",
    "    df_motivos_raw.show(63, truncate=False)\n",
    "    df_motivos_raw.printSchema()\n",
    "except Exception as e:\n",
    "    print(f\"Erro na leitura: {e}\")"
   ]
  },
  {
   "cell_type": "markdown",
   "id": "ab5fae46",
   "metadata": {},
   "source": [
    "### Etapa 2: Escrita na camada Trusted (TRS)"
   ]
  },
  {
   "cell_type": "code",
   "execution_count": 66,
   "id": "3c3f02fd",
   "metadata": {},
   "outputs": [],
   "source": [
    "try:\n",
    "    df_motivos_raw.write.format(\"delta\") \\\n",
    "        .mode(\"overwrite\") \\\n",
    "        .save(\"../TRS/motivos\")\n",
    "except Exception as e:\n",
    "    print(f\"Erro ao gravar dados: {e}\")"
   ]
  },
  {
   "cell_type": "markdown",
   "id": "0f7e6088",
   "metadata": {},
   "source": [
    "### Etapa 3: Ajuste e Validação"
   ]
  },
  {
   "cell_type": "code",
   "execution_count": 67,
   "id": "1096db58",
   "metadata": {},
   "outputs": [
    {
     "name": "stdout",
     "output_type": "stream",
     "text": [
      "+-------------+-----------------------------------------------+\n",
      "|codigo_motivo|descricao_motivo                               |\n",
      "+-------------+-----------------------------------------------+\n",
      "|00           |SEM MOTIVO                                     |\n",
      "|01           |EXTINCAO POR ENCERRAMENTO LIQUIDACAO VOLUNTARIA|\n",
      "|02           |INCORPORACAO                                   |\n",
      "|03           |FUSAO                                          |\n",
      "|04           |CISAO TOTAL                                    |\n",
      "+-------------+-----------------------------------------------+\n",
      "only showing top 5 rows\n",
      "root\n",
      " |-- codigo_motivo: string (nullable = true)\n",
      " |-- descricao_motivo: string (nullable = true)\n",
      "\n"
     ]
    }
   ],
   "source": [
    "try:\n",
    "    deltaTable_motivos_trusted: DeltaTable = DeltaTable.forPath(spark, \"../TRS/motivos\")\n",
    "    df_motivos_trusted = deltaTable_motivos_trusted.toDF()\n",
    "    df_motivos_trusted.show(5, truncate=False)\n",
    "    df_motivos_trusted.printSchema()\n",
    "except Exception as e:\n",
    "    print(f\"Erro na leitura: {e}\")"
   ]
  },
  {
   "cell_type": "markdown",
   "id": "0f3fa95e",
   "metadata": {},
   "source": [
    "## TRUSTED - Paises"
   ]
  },
  {
   "cell_type": "markdown",
   "id": "fe9caa74",
   "metadata": {},
   "source": [
    "### Etapa 1: Leitura da Camada RAW"
   ]
  },
  {
   "cell_type": "code",
   "execution_count": 68,
   "id": "7cb95ecd",
   "metadata": {},
   "outputs": [
    {
     "name": "stdout",
     "output_type": "stream",
     "text": [
      "+------------------------+---------------------+\n",
      "|codigo_natureza_juridica|natureza_juridica    |\n",
      "+------------------------+---------------------+\n",
      "|000                     |COLIS POSTAUX        |\n",
      "|013                     |AFEGANISTAO          |\n",
      "|017                     |ALBANIA              |\n",
      "|020                     |ALBORAN-PEREJIL,ILHAS|\n",
      "|023                     |ALEMANHA             |\n",
      "+------------------------+---------------------+\n",
      "only showing top 5 rows\n",
      "Total de Paises: 255\n",
      "root\n",
      " |-- codigo_natureza_juridica: string (nullable = true)\n",
      " |-- natureza_juridica: string (nullable = true)\n",
      "\n"
     ]
    }
   ],
   "source": [
    "try:\n",
    "    deltaTable_paises_raw: DeltaTable = DeltaTable.forPath(spark, \"../RAW/paises\")\n",
    "    df_paises_raw = deltaTable_paises_raw.toDF()\n",
    "    df_paises_raw.show(5, truncate=False)\n",
    "    print(f\"Total de Paises: {df_paises_raw.count()}\")\n",
    "    df_paises_raw.printSchema()\n",
    "except Exception as e:\n",
    "    print(f\"Erro na leitura: {e}\")"
   ]
  },
  {
   "cell_type": "markdown",
   "id": "526d8be5",
   "metadata": {},
   "source": [
    "### Etapa 2: Transformação dos dados"
   ]
  },
  {
   "cell_type": "code",
   "execution_count": 69,
   "id": "841dfd6c",
   "metadata": {},
   "outputs": [
    {
     "name": "stdout",
     "output_type": "stream",
     "text": [
      "+-----------+---------------------+\n",
      "|codigo_pais|pais                 |\n",
      "+-----------+---------------------+\n",
      "|000        |COLIS POSTAUX        |\n",
      "|013        |AFEGANISTAO          |\n",
      "|017        |ALBANIA              |\n",
      "|020        |ALBORAN-PEREJIL,ILHAS|\n",
      "|023        |ALEMANHA             |\n",
      "+-----------+---------------------+\n",
      "only showing top 5 rows\n"
     ]
    }
   ],
   "source": [
    "try:\n",
    "    df_paises_raw = df_paises_raw.withColumnsRenamed(\n",
    "        {\n",
    "            \"codigo_natureza_juridica\": \"codigo_pais\",\n",
    "            \"natureza_juridica\": \"pais\"\n",
    "        },\n",
    "    )\n",
    "\n",
    "    df_paises_raw.show(5, truncate=False)\n",
    "except Exception as e:\n",
    "    print(f\"Erro na leitura: {e}\")"
   ]
  },
  {
   "cell_type": "markdown",
   "id": "e244396d",
   "metadata": {},
   "source": [
    "### Etapa 3: Escrita na camada Trusted (TRS)"
   ]
  },
  {
   "cell_type": "code",
   "execution_count": 70,
   "id": "4c86eab4",
   "metadata": {},
   "outputs": [
    {
     "name": "stdout",
     "output_type": "stream",
     "text": [
      "Dados salvo com sucesso!\n"
     ]
    }
   ],
   "source": [
    "try:\n",
    "    df_paises_raw.write.format(\"delta\") \\\n",
    "        .mode(\"overwrite\") \\\n",
    "        .save(\"../TRS/paises\")\n",
    "    print(\"Dados salvo com sucesso!\")\n",
    "except Exception as e:\n",
    "    print(f\"Erro na leitura: {e}\")"
   ]
  },
  {
   "cell_type": "markdown",
   "id": "9b9730d4",
   "metadata": {},
   "source": [
    "### Etapa 4: Ajuste e Validação"
   ]
  },
  {
   "cell_type": "code",
   "execution_count": 71,
   "id": "aedab45e",
   "metadata": {},
   "outputs": [
    {
     "name": "stdout",
     "output_type": "stream",
     "text": [
      "+-----------+---------------------+\n",
      "|codigo_pais|pais                 |\n",
      "+-----------+---------------------+\n",
      "|000        |COLIS POSTAUX        |\n",
      "|013        |AFEGANISTAO          |\n",
      "|017        |ALBANIA              |\n",
      "|020        |ALBORAN-PEREJIL,ILHAS|\n",
      "|023        |ALEMANHA             |\n",
      "+-----------+---------------------+\n",
      "only showing top 5 rows\n",
      "Total de Paises: 255\n",
      "root\n",
      " |-- codigo_pais: string (nullable = true)\n",
      " |-- pais: string (nullable = true)\n",
      "\n"
     ]
    }
   ],
   "source": [
    "try:\n",
    "    deltaTable_paises_trusted: DeltaTable = DeltaTable.forPath(spark, \"../TRS/paises\")\n",
    "    df_paises_trusted = deltaTable_paises_trusted.toDF()\n",
    "    df_paises_trusted.show(5, truncate=False)\n",
    "    print(f\"Total de Paises: {df_paises_raw.count()}\")\n",
    "    df_paises_raw.printSchema()\n",
    "except Exception as e:\n",
    "    print(f\"Erro na leitura: {e}\")"
   ]
  },
  {
   "cell_type": "markdown",
   "id": "49d915d9",
   "metadata": {},
   "source": [
    "## TRUSTED - Municipios Receita Federal"
   ]
  },
  {
   "cell_type": "markdown",
   "id": "f6479879",
   "metadata": {},
   "source": [
    "### Leitura da camada RAW"
   ]
  },
  {
   "cell_type": "code",
   "execution_count": 72,
   "id": "d0c8b60f",
   "metadata": {},
   "outputs": [
    {
     "name": "stdout",
     "output_type": "stream",
     "text": [
      "+------------+------------------------+\n",
      "|id_municipio|municipio               |\n",
      "+------------+------------------------+\n",
      "|0001        |GUAJARA-MIRIM           |\n",
      "|0002        |ALTO ALEGRE DOS PARECIS |\n",
      "|0003        |PORTO VELHO             |\n",
      "|0004        |BURITIS                 |\n",
      "|0005        |JI-PARANA               |\n",
      "|0006        |CHUPINGUAIA             |\n",
      "|0007        |ARIQUEMES               |\n",
      "|0008        |CUJUBIM                 |\n",
      "|0009        |CACOAL                  |\n",
      "|0010        |NOVA UNIAO              |\n",
      "|0011        |PIMENTA BUENO           |\n",
      "|0012        |PARECIS                 |\n",
      "|0013        |VILHENA                 |\n",
      "|0014        |PIMENTEIRAS DO OESTE    |\n",
      "|0015        |JARU                    |\n",
      "|0016        |PRIMAVERA DE RONDONIA   |\n",
      "|0017        |OURO PRETO DO OESTE     |\n",
      "|0018        |SAO FELIPE D'OESTE      |\n",
      "|0019        |PRESIDENTE MEDICI       |\n",
      "|0020        |SAO FRANCISCO DO GUAPORE|\n",
      "+------------+------------------------+\n",
      "only showing top 20 rows\n"
     ]
    }
   ],
   "source": [
    "# Carrega dados da camada RAW\n",
    "deltaTable_municipios_rf = DeltaTable.forPath(spark, \"../RAW/municipios_rf\")\n",
    "df_municipios_rf_raw = deltaTable_municipios_rf.toDF()\n",
    "df_municipios_rf_raw.show(truncate=False)"
   ]
  },
  {
   "cell_type": "markdown",
   "id": "226b2d4f",
   "metadata": {},
   "source": [
    "### Escrita na camada Trusted (TRS)"
   ]
  },
  {
   "cell_type": "code",
   "execution_count": 73,
   "id": "bd08ab7c",
   "metadata": {},
   "outputs": [
    {
     "name": "stdout",
     "output_type": "stream",
     "text": [
      "Dados salvo!\n"
     ]
    }
   ],
   "source": [
    "try:\n",
    "    df_municipios_rf_raw.write.format(\"delta\") \\\n",
    "        .mode(\"overwrite\") \\\n",
    "        .save(\"../TRS/municipios_rf\")\n",
    "    print(\"Dados salvo!\")\n",
    "except Exception as e:\n",
    "    print(e)"
   ]
  },
  {
   "cell_type": "code",
   "execution_count": 74,
   "id": "0ed2c7e3",
   "metadata": {},
   "outputs": [
    {
     "name": "stdout",
     "output_type": "stream",
     "text": [
      "+------------+-----------------------+\n",
      "|id_municipio|municipio              |\n",
      "+------------+-----------------------+\n",
      "|0001        |GUAJARA-MIRIM          |\n",
      "|0002        |ALTO ALEGRE DOS PARECIS|\n",
      "|0003        |PORTO VELHO            |\n",
      "|0004        |BURITIS                |\n",
      "|0005        |JI-PARANA              |\n",
      "+------------+-----------------------+\n",
      "only showing top 5 rows\n",
      "root\n",
      " |-- id_municipio: string (nullable = true)\n",
      " |-- municipio: string (nullable = true)\n",
      "\n"
     ]
    }
   ],
   "source": [
    "try:\n",
    "    deltaTable_municipios_rf: DeltaTable = DeltaTable.forPath(spark, \"../TRS/municipios_rf\")\n",
    "    df_municipios_rf_trusted: DataFrame = deltaTable_municipios_rf.toDF()\n",
    "    df_municipios_rf_trusted.show(5, truncate=False)\n",
    "    df_municipios_rf_trusted.printSchema()\n",
    "except Exception as e:\n",
    "    print(f\"Erro: {e}\")"
   ]
  },
  {
   "cell_type": "markdown",
   "id": "999bfa7e",
   "metadata": {},
   "source": [
    "## TRUSTED - Joins para tabela fato"
   ]
  },
  {
   "cell_type": "code",
   "execution_count": 81,
   "id": "ff5aac91",
   "metadata": {},
   "outputs": [],
   "source": [
    "# Recuperando as delta table\n",
    "\n",
    "deltaTable_estabelecimentos: DeltaTable = DeltaTable.forPath(spark, \"../TRS/estabelecimentos\")\n",
    "deltaTable_empresas: DeltaTable = DeltaTable.forPath(spark, \"../TRS/empresas\")\n",
    "deltaTable_municipios: DeltaTable = DeltaTable.forPath(spark, \"../TRS/municipios_rf\")\n",
    "deltaTable_municipios_ibge: DeltaTable = DeltaTable.forPath(spark, \"../TRS/municipios\")\n",
    "deltaTable_cnae: DeltaTable = DeltaTable.forPath(spark, \"../TRS/cnae\")\n",
    "deltaTable_natureza_juridica: DeltaTable = DeltaTable.forPath(spark, \"../TRS/natureza_juridica\")\n",
    "deltaTable_simples_nacional: DeltaTable = DeltaTable.forPath(spark, \"../TRS/simples_nacional\")\n",
    "deltaTable_socios: DeltaTable = DeltaTable.forPath(spark, \"../TRS/socios\")\n",
    "deltaTable_qualificacao_socios: DeltaTable = DeltaTable.forPath(spark, \"../TRS/qualificacao_socios\")\n",
    "deltaTable_paises: DeltaTable = DeltaTable.forPath(spark, \"../TRS/paises\")\n",
    "deltaTable_motivos: DeltaTable = DeltaTable.forPath(spark, \"../TRS/motivos\")"
   ]
  },
  {
   "cell_type": "code",
   "execution_count": 82,
   "id": "5aafcb78",
   "metadata": {},
   "outputs": [],
   "source": [
    "# Transformando em DataFrame\n",
    "\n",
    "df_estabelecimentos: DataFrame = deltaTable_estabelecimentos.toDF()\n",
    "df_empresas: DataFrame = deltaTable_empresas.toDF()\n",
    "df_municipios_rf: DataFrame = deltaTable_municipios.toDF()\n",
    "df_municipios_ibge: DataFrame = deltaTable_municipios_ibge.toDF()\n",
    "df_cnae: DataFrame = deltaTable_cnae.toDF()\n",
    "df_natureza: DataFrame = deltaTable_natureza_juridica.toDF()\n",
    "df_simples: DataFrame = deltaTable_simples_nacional.toDF()\n",
    "df_socios: DataFrame = deltaTable_socios.toDF()\n",
    "df_qualificacao_socios: DataFrame = deltaTable_qualificacao_socios.toDF()\n",
    "df_paises: DataFrame = deltaTable_paises.toDF()\n",
    "df_motivos: DataFrame = deltaTable_motivos.toDF()"
   ]
  },
  {
   "cell_type": "code",
   "execution_count": null,
   "id": "dd98079a",
   "metadata": {},
   "outputs": [
    {
     "name": "stdout",
     "output_type": "stream",
     "text": [
      "root\n",
      " |-- cnpj_basico: string (nullable = true)\n",
      " |-- razao_social: string (nullable = true)\n",
      " |-- codigo_natureza_juridica: string (nullable = true)\n",
      " |-- codigo_qualificacao_responsavel: string (nullable = true)\n",
      " |-- capital_social: decimal(20,2) (nullable = true)\n",
      " |-- codigo_porte_empresa: string (nullable = true)\n",
      " |-- ente_federativo_responsavel: string (nullable = true)\n",
      "\n",
      "root\n",
      " |-- codigo_natureza_juridica: string (nullable = true)\n",
      " |-- natureza_juridica: string (nullable = true)\n",
      "\n"
     ]
    }
   ],
   "source": [
    "# Analise do Schema para evitar campos com valores iguais\n",
    "\n",
    "df_empresas.printSchema()\n",
    "df_natureza.printSchema()"
   ]
  },
  {
   "cell_type": "code",
   "execution_count": null,
   "id": "c8dc32df",
   "metadata": {},
   "outputs": [],
   "source": [
    "# join da tabela empresas com natureza juridica para ter acesso a descrição de natureza juridica\n",
    "try:\n",
    "    df_empresas_joined_natureza_juridica: DataFrame = (\n",
    "        df_empresas.join(\n",
    "            df_natureza.select(\n",
    "                \"natureza_juridica\",\n",
    "                \"codigo_natureza_juridica\"\n",
    "            ),\n",
    "            df_empresas.codigo_natureza_juridica == df_natureza.codigo_natureza_juridica,\n",
    "            how=\"left\"\n",
    "        )\n",
    "    ).drop(\n",
    "        df_natureza.codigo_natureza_juridica\n",
    "    ).withColumnRenamed(\n",
    "        \"natureza_juridica\",\n",
    "        \"descricao_natureza_juridica\"\n",
    "    )\n",
    "except Exception as e:\n",
    "    print(f\"Erro no join: {e}\")"
   ]
  },
  {
   "cell_type": "code",
   "execution_count": 88,
   "id": "b0635770",
   "metadata": {},
   "outputs": [
    {
     "name": "stderr",
     "output_type": "stream",
     "text": [
      "                                                                                \r"
     ]
    },
    {
     "name": "stdout",
     "output_type": "stream",
     "text": [
      "+-----------+---------------------------------+------------------------+-------------------------------+--------------+--------------------+---------------------------+---------------------------+\n",
      "|cnpj_basico|razao_social                     |codigo_natureza_juridica|codigo_qualificacao_responsavel|capital_social|codigo_porte_empresa|ente_federativo_responsavel|descricao_natureza_juridica|\n",
      "+-----------+---------------------------------+------------------------+-------------------------------+--------------+--------------------+---------------------------+---------------------------+\n",
      "|06942044   |JOSE FRANCISCO BEZERRA TRANSPORTE|2135                    |50                             |0.00          |01                  |NULL                       |Empresário (Individual)    |\n",
      "|06942045   |ADEMIR A. DA SILVA               |2135                    |50                             |0.00          |01                  |NULL                       |Empresário (Individual)    |\n",
      "+-----------+---------------------------------+------------------------+-------------------------------+--------------+--------------------+---------------------------+---------------------------+\n",
      "only showing top 2 rows\n",
      "root\n",
      " |-- cnpj_basico: string (nullable = true)\n",
      " |-- razao_social: string (nullable = true)\n",
      " |-- codigo_natureza_juridica: string (nullable = true)\n",
      " |-- codigo_qualificacao_responsavel: string (nullable = true)\n",
      " |-- capital_social: decimal(20,2) (nullable = true)\n",
      " |-- codigo_porte_empresa: string (nullable = true)\n",
      " |-- ente_federativo_responsavel: string (nullable = true)\n",
      " |-- descricao_natureza_juridica: string (nullable = true)\n",
      "\n"
     ]
    }
   ],
   "source": [
    "# Resultado do join anterior\n",
    "\n",
    "df_empresas_joined_natureza_juridica.show(2, truncate=False)\n",
    "df_empresas_joined_natureza_juridica.printSchema()"
   ]
  },
  {
   "cell_type": "code",
   "execution_count": 96,
   "id": "2fd60e4e",
   "metadata": {},
   "outputs": [],
   "source": [
    "# Construção da tabela fato conforme solicitado\n",
    "\n",
    "df_tabela_fato: DataFrame = (\n",
    "    df_estabelecimentos.join(\n",
    "        df_cnae,\n",
    "        df_estabelecimentos.cnae_fiscal == df_cnae.codigo_cnae,\n",
    "        how=\"left\"\n",
    "    ).drop(df_cnae.codigo_cnae).join(\n",
    "        df_municipios_rf,\n",
    "        df_estabelecimentos.codigo_municipio == df_municipios_rf.id_municipio,\n",
    "        how=\"left\"\n",
    "    ).drop(df_municipios_rf.id_municipio).join(\n",
    "        df_empresas_joined_natureza_juridica,\n",
    "        df_estabelecimentos.cnpj_base == df_empresas_joined_natureza_juridica.cnpj_basico,\n",
    "        how='left'\n",
    "    ).drop(\n",
    "        df_empresas_joined_natureza_juridica.cnpj_basico\n",
    "    ).join(\n",
    "        df_simples,\n",
    "        df_estabelecimentos.cnpj_base == df_simples.cnpj_basico,\n",
    "        how=\"left\"\n",
    "    ).drop(df_simples.cnpj_basico)\n",
    ")"
   ]
  },
  {
   "cell_type": "code",
   "execution_count": null,
   "id": "8593dad4",
   "metadata": {},
   "outputs": [
    {
     "name": "stdout",
     "output_type": "stream",
     "text": [
      "root\n",
      " |-- cnpj_base: string (nullable = true)\n",
      " |-- cnpj_ordem: string (nullable = true)\n",
      " |-- cnpj_dv: string (nullable = true)\n",
      " |-- matriz_filial: string (nullable = true)\n",
      " |-- nome_fantasia: string (nullable = true)\n",
      " |-- situacao_cadastral: string (nullable = true)\n",
      " |-- data_situacao_cadastral: date (nullable = true)\n",
      " |-- motivo_situacao_cadastral: string (nullable = true)\n",
      " |-- nome_cidade_exterior: string (nullable = true)\n",
      " |-- codigo_pais: string (nullable = true)\n",
      " |-- data_inicio_atividade: date (nullable = true)\n",
      " |-- cnae_fiscal: string (nullable = true)\n",
      " |-- cnae_fiscal_secundaria: string (nullable = true)\n",
      " |-- tipo_logradouro: string (nullable = true)\n",
      " |-- logradouro: string (nullable = true)\n",
      " |-- numero: string (nullable = true)\n",
      " |-- complemento: string (nullable = true)\n",
      " |-- bairro: string (nullable = true)\n",
      " |-- cep: string (nullable = true)\n",
      " |-- uf: string (nullable = true)\n",
      " |-- codigo_municipio: string (nullable = true)\n",
      " |-- ddd1: string (nullable = true)\n",
      " |-- telefone1: string (nullable = true)\n",
      " |-- ddd2: string (nullable = true)\n",
      " |-- telefone2: string (nullable = true)\n",
      " |-- ddd_fax: string (nullable = true)\n",
      " |-- fax: string (nullable = true)\n",
      " |-- email: string (nullable = true)\n",
      " |-- situacao_especial: string (nullable = true)\n",
      " |-- data_situacao_especial: date (nullable = true)\n",
      " |-- descricao_cnae: string (nullable = true)\n",
      " |-- municipio: string (nullable = true)\n",
      " |-- razao_social: string (nullable = true)\n",
      " |-- codigo_natureza_juridica: string (nullable = true)\n",
      " |-- codigo_qualificacao_responsavel: string (nullable = true)\n",
      " |-- capital_social: decimal(20,2) (nullable = true)\n",
      " |-- codigo_porte_empresa: string (nullable = true)\n",
      " |-- ente_federativo_responsavel: string (nullable = true)\n",
      " |-- descricao_natureza_juridica: string (nullable = true)\n",
      " |-- opcao_simples: string (nullable = true)\n",
      " |-- data_opcao_simples: date (nullable = true)\n",
      " |-- data_exclusao_simples: date (nullable = true)\n",
      " |-- opcao_mei: string (nullable = true)\n",
      " |-- data_opcao_mei: date (nullable = true)\n",
      " |-- data_exclusao_mei: date (nullable = true)\n",
      "\n"
     ]
    }
   ],
   "source": [
    "# Visualização do Schema final\n",
    "\n",
    "df_tabela_fato.printSchema()"
   ]
  },
  {
   "cell_type": "code",
   "execution_count": null,
   "id": "91386163",
   "metadata": {},
   "outputs": [
    {
     "name": "stderr",
     "output_type": "stream",
     "text": [
      "                                                                                \r"
     ]
    },
    {
     "data": {
      "text/plain": [
       "4753435"
      ]
     },
     "execution_count": 99,
     "metadata": {},
     "output_type": "execute_result"
    }
   ],
   "source": [
    "# Resultado visual dos dados\n",
    "\n",
    "df_tabela_fato.printSchema()"
   ]
  },
  {
   "cell_type": "code",
   "execution_count": 100,
   "id": "68c4f823",
   "metadata": {},
   "outputs": [
    {
     "name": "stderr",
     "output_type": "stream",
     "text": [
      "                                                                                \r"
     ]
    },
    {
     "name": "stdout",
     "output_type": "stream",
     "text": [
      "Dados salvos com sucesso!\n"
     ]
    }
   ],
   "source": [
    "# Salvar tabela fato para analise posterior\n",
    "# a função \"criar_tabela_fato\" serve apenas para evitar criar novamente de forma acidental\n",
    "\n",
    "def criar_tabela_fato():\n",
    "    try:\n",
    "        df_tabela_fato.write.format(\"delta\") \\\n",
    "            .mode(\"overwrite\") \\\n",
    "            .partitionBy(\"uf\") \\\n",
    "            .save(\"../TRS/fato_cnpj\")\n",
    "        \n",
    "        print(\"Dados salvos com sucesso!\")\n",
    "    except Exception as e:\n",
    "        print(f\"Erro ao gravar: {e}\")\n",
    "    \n",
    "criar_tabela_fato()\n",
    "\n"
   ]
  },
  {
   "cell_type": "markdown",
   "id": "0f5a3392",
   "metadata": {},
   "source": [
    "## Viagem no tempo (Time Travel)"
   ]
  },
  {
   "cell_type": "code",
   "execution_count": 102,
   "id": "89ddf6b8",
   "metadata": {},
   "outputs": [
    {
     "name": "stdout",
     "output_type": "stream",
     "text": [
      "-RECORD 0------------------------------------------------------------------------------------------------------------------------------------------------------------------------------------------------------------------------------------------------------------------------------------------------------------------------------------------------------------------------\n",
      " version             | 17                                                                                                                                                                                                                                                                                                                                                        \n",
      " timestamp           | 2025-07-20 14:31:32.288                                                                                                                                                                                                                                                                                                                                   \n",
      " userId              | NULL                                                                                                                                                                                                                                                                                                                                                      \n",
      " userName            | NULL                                                                                                                                                                                                                                                                                                                                                      \n",
      " operation           | UPDATE                                                                                                                                                                                                                                                                                                                                                    \n",
      " operationParameters | {predicate -> [\"(((cnpj_base#0 = 29744778) AND (cnpj_ordem#1 = 4750)) AND (cnpj_dv#2 = 39))\"]}                                                                                                                                                                                                                                                            \n",
      " job                 | NULL                                                                                                                                                                                                                                                                                                                                                      \n",
      " notebook            | NULL                                                                                                                                                                                                                                                                                                                                                      \n",
      " clusterId           | NULL                                                                                                                                                                                                                                                                                                                                                      \n",
      " readVersion         | 16                                                                                                                                                                                                                                                                                                                                                        \n",
      " isolationLevel      | Serializable                                                                                                                                                                                                                                                                                                                                              \n",
      " isBlindAppend       | false                                                                                                                                                                                                                                                                                                                                                     \n",
      " operationMetrics    | {numRemovedFiles -> 1, numRemovedBytes -> 784205, numCopiedRows -> 13079, numDeletionVectorsAdded -> 0, executionTimeMs -> 3476, numDeletionVectorsUpdated -> 0, scanTimeMs -> 2315, numAddedFiles -> 1, numUpdatedRows -> 1, numDeletionVectorsRemoved -> 0, numAddedChangeFiles -> 0, numAddedBytes -> 784204, rewriteTimeMs -> 1161}                   \n",
      " userMetadata        | NULL                                                                                                                                                                                                                                                                                                                                                      \n",
      " engineInfo          | Apache-Spark/4.0.0 Delta-Lake/4.0.0                                                                                                                                                                                                                                                                                                                       \n",
      "-RECORD 1------------------------------------------------------------------------------------------------------------------------------------------------------------------------------------------------------------------------------------------------------------------------------------------------------------------------------------------------------------------------\n",
      " version             | 16                                                                                                                                                                                                                                                                                                                                                        \n",
      " timestamp           | 2025-07-20 13:49:29.553                                                                                                                                                                                                                                                                                                                                   \n",
      " userId              | NULL                                                                                                                                                                                                                                                                                                                                                      \n",
      " userName            | NULL                                                                                                                                                                                                                                                                                                                                                      \n",
      " operation           | UPDATE                                                                                                                                                                                                                                                                                                                                                    \n",
      " operationParameters | {predicate -> [\"isnull(telefone2#24)\"]}                                                                                                                                                                                                                                                                                                                   \n",
      " job                 | NULL                                                                                                                                                                                                                                                                                                                                                      \n",
      " notebook            | NULL                                                                                                                                                                                                                                                                                                                                                      \n",
      " clusterId           | NULL                                                                                                                                                                                                                                                                                                                                                      \n",
      " readVersion         | 15                                                                                                                                                                                                                                                                                                                                                        \n",
      " isolationLevel      | Serializable                                                                                                                                                                                                                                                                                                                                              \n",
      " isBlindAppend       | false                                                                                                                                                                                                                                                                                                                                                     \n",
      " operationMetrics    | {numRemovedFiles -> 63, numRemovedBytes -> 279201984, numCopiedRows -> 0, numDeletionVectorsAdded -> 0, executionTimeMs -> 44631, numDeletionVectorsUpdated -> 0, scanTimeMs -> 3257, numAddedFiles -> 63, numUpdatedRows -> 4753435, numDeletionVectorsRemoved -> 0, numAddedChangeFiles -> 0, numAddedBytes -> 280246330, rewriteTimeMs -> 41372}       \n",
      " userMetadata        | NULL                                                                                                                                                                                                                                                                                                                                                      \n",
      " engineInfo          | Apache-Spark/4.0.0 Delta-Lake/4.0.0                                                                                                                                                                                                                                                                                                                       \n",
      "-RECORD 2------------------------------------------------------------------------------------------------------------------------------------------------------------------------------------------------------------------------------------------------------------------------------------------------------------------------------------------------------------------------\n",
      " version             | 15                                                                                                                                                                                                                                                                                                                                                        \n",
      " timestamp           | 2025-07-20 13:08:10.29                                                                                                                                                                                                                                                                                                                                    \n",
      " userId              | NULL                                                                                                                                                                                                                                                                                                                                                      \n",
      " userName            | NULL                                                                                                                                                                                                                                                                                                                                                      \n",
      " operation           | UPDATE                                                                                                                                                                                                                                                                                                                                                    \n",
      " operationParameters | {predicate -> [\"isnull(telefone2#10249)\"]}                                                                                                                                                                                                                                                                                                                \n",
      " job                 | NULL                                                                                                                                                                                                                                                                                                                                                      \n",
      " notebook            | NULL                                                                                                                                                                                                                                                                                                                                                      \n",
      " clusterId           | NULL                                                                                                                                                                                                                                                                                                                                                      \n",
      " readVersion         | 14                                                                                                                                                                                                                                                                                                                                                        \n",
      " isolationLevel      | Serializable                                                                                                                                                                                                                                                                                                                                              \n",
      " isBlindAppend       | false                                                                                                                                                                                                                                                                                                                                                     \n",
      " operationMetrics    | {numRemovedFiles -> 63, numRemovedBytes -> 278211285, numCopiedRows -> 0, numDeletionVectorsAdded -> 0, executionTimeMs -> 37229, numDeletionVectorsUpdated -> 0, scanTimeMs -> 1354, numAddedFiles -> 63, numUpdatedRows -> 4753435, numDeletionVectorsRemoved -> 0, numAddedChangeFiles -> 0, numAddedBytes -> 279201984, rewriteTimeMs -> 35874}       \n",
      " userMetadata        | NULL                                                                                                                                                                                                                                                                                                                                                      \n",
      " engineInfo          | Apache-Spark/4.0.0 Delta-Lake/4.0.0                                                                                                                                                                                                                                                                                                                       \n",
      "-RECORD 3------------------------------------------------------------------------------------------------------------------------------------------------------------------------------------------------------------------------------------------------------------------------------------------------------------------------------------------------------------------------\n",
      " version             | 14                                                                                                                                                                                                                                                                                                                                                        \n",
      " timestamp           | 2025-07-20 12:46:10.816                                                                                                                                                                                                                                                                                                                                   \n",
      " userId              | NULL                                                                                                                                                                                                                                                                                                                                                      \n",
      " userName            | NULL                                                                                                                                                                                                                                                                                                                                                      \n",
      " operation           | UPDATE                                                                                                                                                                                                                                                                                                                                                    \n",
      " operationParameters | {predicate -> [\"(((cnpj_base#0 = 44423107) AND (cnpj_ordem#1 = 0001)) AND (cnpj_dv#2 = 18))\"]}                                                                                                                                                                                                                                                            \n",
      " job                 | NULL                                                                                                                                                                                                                                                                                                                                                      \n",
      " notebook            | NULL                                                                                                                                                                                                                                                                                                                                                      \n",
      " clusterId           | NULL                                                                                                                                                                                                                                                                                                                                                      \n",
      " readVersion         | 13                                                                                                                                                                                                                                                                                                                                                        \n",
      " isolationLevel      | Serializable                                                                                                                                                                                                                                                                                                                                              \n",
      " isBlindAppend       | false                                                                                                                                                                                                                                                                                                                                                     \n",
      " operationMetrics    | {numRemovedFiles -> 1, numRemovedBytes -> 85181092, numCopiedRows -> 1275640, numDeletionVectorsAdded -> 0, executionTimeMs -> 21335, numDeletionVectorsUpdated -> 0, scanTimeMs -> 2540, numAddedFiles -> 1, numUpdatedRows -> 1, numDeletionVectorsRemoved -> 0, numAddedChangeFiles -> 0, numAddedBytes -> 85188811, rewriteTimeMs -> 18794}           \n",
      " userMetadata        | NULL                                                                                                                                                                                                                                                                                                                                                      \n",
      " engineInfo          | Apache-Spark/4.0.0 Delta-Lake/4.0.0                                                                                                                                                                                                                                                                                                                       \n",
      "-RECORD 4------------------------------------------------------------------------------------------------------------------------------------------------------------------------------------------------------------------------------------------------------------------------------------------------------------------------------------------------------------------------\n",
      " version             | 13                                                                                                                                                                                                                                                                                                                                                        \n",
      " timestamp           | 2025-07-20 12:40:32.941                                                                                                                                                                                                                                                                                                                                   \n",
      " userId              | NULL                                                                                                                                                                                                                                                                                                                                                      \n",
      " userName            | NULL                                                                                                                                                                                                                                                                                                                                                      \n",
      " operation           | UPDATE                                                                                                                                                                                                                                                                                                                                                    \n",
      " operationParameters | {predicate -> [\"isnull(telefone1#22)\"]}                                                                                                                                                                                                                                                                                                                   \n",
      " job                 | NULL                                                                                                                                                                                                                                                                                                                                                      \n",
      " notebook            | NULL                                                                                                                                                                                                                                                                                                                                                      \n",
      " clusterId           | NULL                                                                                                                                                                                                                                                                                                                                                      \n",
      " readVersion         | 12                                                                                                                                                                                                                                                                                                                                                        \n",
      " isolationLevel      | Serializable                                                                                                                                                                                                                                                                                                                                              \n",
      " isBlindAppend       | false                                                                                                                                                                                                                                                                                                                                                     \n",
      " operationMetrics    | {numRemovedFiles -> 63, numRemovedBytes -> 280273467, numCopiedRows -> 0, numDeletionVectorsAdded -> 0, executionTimeMs -> 37302, numDeletionVectorsUpdated -> 0, scanTimeMs -> 3567, numAddedFiles -> 63, numUpdatedRows -> 4753435, numDeletionVectorsRemoved -> 0, numAddedChangeFiles -> 0, numAddedBytes -> 278203566, rewriteTimeMs -> 33734}       \n",
      " userMetadata        | NULL                                                                                                                                                                                                                                                                                                                                                      \n",
      " engineInfo          | Apache-Spark/4.0.0 Delta-Lake/4.0.0                                                                                                                                                                                                                                                                                                                       \n",
      "-RECORD 5------------------------------------------------------------------------------------------------------------------------------------------------------------------------------------------------------------------------------------------------------------------------------------------------------------------------------------------------------------------------\n",
      " version             | 12                                                                                                                                                                                                                                                                                                                                                        \n",
      " timestamp           | 2025-07-20 12:39:22.309                                                                                                                                                                                                                                                                                                                                   \n",
      " userId              | NULL                                                                                                                                                                                                                                                                                                                                                      \n",
      " userName            | NULL                                                                                                                                                                                                                                                                                                                                                      \n",
      " operation           | UPDATE                                                                                                                                                                                                                                                                                                                                                    \n",
      " operationParameters | {predicate -> [\"isnull(telefone2#24)\"]}                                                                                                                                                                                                                                                                                                                   \n",
      " job                 | NULL                                                                                                                                                                                                                                                                                                                                                      \n",
      " notebook            | NULL                                                                                                                                                                                                                                                                                                                                                      \n",
      " clusterId           | NULL                                                                                                                                                                                                                                                                                                                                                      \n",
      " readVersion         | 11                                                                                                                                                                                                                                                                                                                                                        \n",
      " isolationLevel      | Serializable                                                                                                                                                                                                                                                                                                                                              \n",
      " isBlindAppend       | false                                                                                                                                                                                                                                                                                                                                                     \n",
      " operationMetrics    | {numRemovedFiles -> 66, numRemovedBytes -> 280434833, numCopiedRows -> 0, numDeletionVectorsAdded -> 0, executionTimeMs -> 44746, numDeletionVectorsUpdated -> 0, scanTimeMs -> 5242, numAddedFiles -> 63, numUpdatedRows -> 4753435, numDeletionVectorsRemoved -> 0, numAddedChangeFiles -> 0, numAddedBytes -> 280273467, rewriteTimeMs -> 39504}       \n",
      " userMetadata        | NULL                                                                                                                                                                                                                                                                                                                                                      \n",
      " engineInfo          | Apache-Spark/4.0.0 Delta-Lake/4.0.0                                                                                                                                                                                                                                                                                                                       \n",
      "-RECORD 6------------------------------------------------------------------------------------------------------------------------------------------------------------------------------------------------------------------------------------------------------------------------------------------------------------------------------------------------------------------------\n",
      " version             | 11                                                                                                                                                                                                                                                                                                                                                        \n",
      " timestamp           | 2025-07-20 12:13:52.478                                                                                                                                                                                                                                                                                                                                   \n",
      " userId              | NULL                                                                                                                                                                                                                                                                                                                                                      \n",
      " userName            | NULL                                                                                                                                                                                                                                                                                                                                                      \n",
      " operation           | UPDATE                                                                                                                                                                                                                                                                                                                                                    \n",
      " operationParameters | {predicate -> [\"NOT (length(telefone2#24) = 9)\"]}                                                                                                                                                                                                                                                                                                         \n",
      " job                 | NULL                                                                                                                                                                                                                                                                                                                                                      \n",
      " notebook            | NULL                                                                                                                                                                                                                                                                                                                                                      \n",
      " clusterId           | NULL                                                                                                                                                                                                                                                                                                                                                      \n",
      " readVersion         | 10                                                                                                                                                                                                                                                                                                                                                        \n",
      " isolationLevel      | Serializable                                                                                                                                                                                                                                                                                                                                              \n",
      " isBlindAppend       | false                                                                                                                                                                                                                                                                                                                                                     \n",
      " operationMetrics    | {numRemovedFiles -> 64, numRemovedBytes -> 282994666, numCopiedRows -> 4306234, numDeletionVectorsAdded -> 0, executionTimeMs -> 43328, numDeletionVectorsUpdated -> 0, scanTimeMs -> 2195, numAddedFiles -> 61, numUpdatedRows -> 447196, numDeletionVectorsRemoved -> 0, numAddedChangeFiles -> 0, numAddedBytes -> 280394977, rewriteTimeMs -> 41130}  \n",
      " userMetadata        | NULL                                                                                                                                                                                                                                                                                                                                                      \n",
      " engineInfo          | Apache-Spark/4.0.0 Delta-Lake/4.0.0                                                                                                                                                                                                                                                                                                                       \n",
      "-RECORD 7------------------------------------------------------------------------------------------------------------------------------------------------------------------------------------------------------------------------------------------------------------------------------------------------------------------------------------------------------------------------\n",
      " version             | 10                                                                                                                                                                                                                                                                                                                                                        \n",
      " timestamp           | 2025-07-20 01:03:53.528                                                                                                                                                                                                                                                                                                                                   \n",
      " userId              | NULL                                                                                                                                                                                                                                                                                                                                                      \n",
      " userName            | NULL                                                                                                                                                                                                                                                                                                                                                      \n",
      " operation           | UPDATE                                                                                                                                                                                                                                                                                                                                                    \n",
      " operationParameters | {predicate -> [\"NOT (length(telefone1#8135) = 9)\"]}                                                                                                                                                                                                                                                                                                       \n",
      " job                 | NULL                                                                                                                                                                                                                                                                                                                                                      \n",
      " notebook            | NULL                                                                                                                                                                                                                                                                                                                                                      \n",
      " clusterId           | NULL                                                                                                                                                                                                                                                                                                                                                      \n",
      " readVersion         | 9                                                                                                                                                                                                                                                                                                                                                         \n",
      " isolationLevel      | Serializable                                                                                                                                                                                                                                                                                                                                              \n",
      " isBlindAppend       | false                                                                                                                                                                                                                                                                                                                                                     \n",
      " operationMetrics    | {numRemovedFiles -> 72, numRemovedBytes -> 308629244, numCopiedRows -> 1237145, numDeletionVectorsAdded -> 0, executionTimeMs -> 69924, numDeletionVectorsUpdated -> 0, scanTimeMs -> 2940, numAddedFiles -> 64, numUpdatedRows -> 3516285, numDeletionVectorsRemoved -> 0, numAddedChangeFiles -> 0, numAddedBytes -> 282994666, rewriteTimeMs -> 66983} \n",
      " userMetadata        | NULL                                                                                                                                                                                                                                                                                                                                                      \n",
      " engineInfo          | Apache-Spark/4.0.0 Delta-Lake/4.0.0                                                                                                                                                                                                                                                                                                                       \n",
      "-RECORD 8------------------------------------------------------------------------------------------------------------------------------------------------------------------------------------------------------------------------------------------------------------------------------------------------------------------------------------------------------------------------\n",
      " version             | 9                                                                                                                                                                                                                                                                                                                                                         \n",
      " timestamp           | 2025-07-20 01:02:04.359                                                                                                                                                                                                                                                                                                                                   \n",
      " userId              | NULL                                                                                                                                                                                                                                                                                                                                                      \n",
      " userName            | NULL                                                                                                                                                                                                                                                                                                                                                      \n",
      " operation           | UPDATE                                                                                                                                                                                                                                                                                                                                                    \n",
      " operationParameters | {predicate -> [\"NOT (length(fax#8139) = 8)\"]}                                                                                                                                                                                                                                                                                                             \n",
      " job                 | NULL                                                                                                                                                                                                                                                                                                                                                      \n",
      " notebook            | NULL                                                                                                                                                                                                                                                                                                                                                      \n",
      " clusterId           | NULL                                                                                                                                                                                                                                                                                                                                                      \n",
      " readVersion         | 8                                                                                                                                                                                                                                                                                                                                                         \n",
      " isolationLevel      | Serializable                                                                                                                                                                                                                                                                                                                                              \n",
      " isBlindAppend       | false                                                                                                                                                                                                                                                                                                                                                     \n",
      " operationMetrics    | {numRemovedFiles -> 77, numRemovedBytes -> 307150497, numCopiedRows -> 4550606, numDeletionVectorsAdded -> 0, executionTimeMs -> 75772, numDeletionVectorsUpdated -> 0, scanTimeMs -> 2184, numAddedFiles -> 70, numUpdatedRows -> 189410, numDeletionVectorsRemoved -> 0, numAddedChangeFiles -> 0, numAddedBytes -> 307977997, rewriteTimeMs -> 73588}  \n",
      " userMetadata        | NULL                                                                                                                                                                                                                                                                                                                                                      \n",
      " engineInfo          | Apache-Spark/4.0.0 Delta-Lake/4.0.0                                                                                                                                                                                                                                                                                                                       \n",
      "-RECORD 9------------------------------------------------------------------------------------------------------------------------------------------------------------------------------------------------------------------------------------------------------------------------------------------------------------------------------------------------------------------------\n",
      " version             | 8                                                                                                                                                                                                                                                                                                                                                         \n",
      " timestamp           | 2025-07-20 01:00:33.314                                                                                                                                                                                                                                                                                                                                   \n",
      " userId              | NULL                                                                                                                                                                                                                                                                                                                                                      \n",
      " userName            | NULL                                                                                                                                                                                                                                                                                                                                                      \n",
      " operation           | RESTORE                                                                                                                                                                                                                                                                                                                                                   \n",
      " operationParameters | {version -> 6, timestamp -> NULL}                                                                                                                                                                                                                                                                                                                         \n",
      " job                 | NULL                                                                                                                                                                                                                                                                                                                                                      \n",
      " notebook            | NULL                                                                                                                                                                                                                                                                                                                                                      \n",
      " clusterId           | NULL                                                                                                                                                                                                                                                                                                                                                      \n",
      " readVersion         | 7                                                                                                                                                                                                                                                                                                                                                         \n",
      " isolationLevel      | Serializable                                                                                                                                                                                                                                                                                                                                              \n",
      " isBlindAppend       | false                                                                                                                                                                                                                                                                                                                                                     \n",
      " operationMetrics    | {numRestoredFiles -> 79, removedFilesSize -> 305978928, numRemovedFiles -> 71, restoredFilesSize -> 307801744, numOfFilesAfterRestore -> 84, tableSizeAfterRestore -> 307841600}                                                                                                                                                                          \n",
      " userMetadata        | NULL                                                                                                                                                                                                                                                                                                                                                      \n",
      " engineInfo          | Apache-Spark/4.0.0 Delta-Lake/4.0.0                                                                                                                                                                                                                                                                                                                       \n",
      "-RECORD 10-----------------------------------------------------------------------------------------------------------------------------------------------------------------------------------------------------------------------------------------------------------------------------------------------------------------------------------------------------------------------\n",
      " version             | 7                                                                                                                                                                                                                                                                                                                                                         \n",
      " timestamp           | 2025-07-20 00:58:46.93                                                                                                                                                                                                                                                                                                                                    \n",
      " userId              | NULL                                                                                                                                                                                                                                                                                                                                                      \n",
      " userName            | NULL                                                                                                                                                                                                                                                                                                                                                      \n",
      " operation           | UPDATE                                                                                                                                                                                                                                                                                                                                                    \n",
      " operationParameters | {predicate -> [\"NOT (length(fax#8139) = 4)\"]}                                                                                                                                                                                                                                                                                                             \n",
      " job                 | NULL                                                                                                                                                                                                                                                                                                                                                      \n",
      " notebook            | NULL                                                                                                                                                                                                                                                                                                                                                      \n",
      " clusterId           | NULL                                                                                                                                                                                                                                                                                                                                                      \n",
      " readVersion         | 6                                                                                                                                                                                                                                                                                                                                                         \n",
      " isolationLevel      | Serializable                                                                                                                                                                                                                                                                                                                                              \n",
      " isBlindAppend       | false                                                                                                                                                                                                                                                                                                                                                     \n",
      " operationMetrics    | {numRemovedFiles -> 79, numRemovedBytes -> 307801744, numCopiedRows -> 4167067, numDeletionVectorsAdded -> 0, executionTimeMs -> 64366, numDeletionVectorsUpdated -> 0, scanTimeMs -> 1197, numAddedFiles -> 71, numUpdatedRows -> 586363, numDeletionVectorsRemoved -> 0, numAddedChangeFiles -> 0, numAddedBytes -> 305978928, rewriteTimeMs -> 63168}  \n",
      " userMetadata        | NULL                                                                                                                                                                                                                                                                                                                                                      \n",
      " engineInfo          | Apache-Spark/4.0.0 Delta-Lake/4.0.0                                                                                                                                                                                                                                                                                                                       \n",
      "-RECORD 11-----------------------------------------------------------------------------------------------------------------------------------------------------------------------------------------------------------------------------------------------------------------------------------------------------------------------------------------------------------------------\n",
      " version             | 6                                                                                                                                                                                                                                                                                                                                                         \n",
      " timestamp           | 2025-07-20 00:56:26.136                                                                                                                                                                                                                                                                                                                                   \n",
      " userId              | NULL                                                                                                                                                                                                                                                                                                                                                      \n",
      " userName            | NULL                                                                                                                                                                                                                                                                                                                                                      \n",
      " operation           | UPDATE                                                                                                                                                                                                                                                                                                                                                    \n",
      " operationParameters | {predicate -> [\"(((cnpj_base#8113 = 84587419) AND (cnpj_ordem#8114 = 0001)) AND (cnpj_dv#8115 = 81))\"]}                                                                                                                                                                                                                                                   \n",
      " job                 | NULL                                                                                                                                                                                                                                                                                                                                                      \n",
      " notebook            | NULL                                                                                                                                                                                                                                                                                                                                                      \n",
      " clusterId           | NULL                                                                                                                                                                                                                                                                                                                                                      \n",
      " readVersion         | 5                                                                                                                                                                                                                                                                                                                                                         \n",
      " isolationLevel      | Serializable                                                                                                                                                                                                                                                                                                                                              \n",
      " isBlindAppend       | false                                                                                                                                                                                                                                                                                                                                                     \n",
      " operationMetrics    | {numRemovedFiles -> 1, numRemovedBytes -> 7803, numCopiedRows -> 0, numDeletionVectorsAdded -> 0, executionTimeMs -> 1348, numDeletionVectorsUpdated -> 0, scanTimeMs -> 999, numAddedFiles -> 1, numUpdatedRows -> 1, numDeletionVectorsRemoved -> 0, numAddedChangeFiles -> 0, numAddedBytes -> 7795, rewriteTimeMs -> 349}                             \n",
      " userMetadata        | NULL                                                                                                                                                                                                                                                                                                                                                      \n",
      " engineInfo          | Apache-Spark/4.0.0 Delta-Lake/4.0.0                                                                                                                                                                                                                                                                                                                       \n",
      "-RECORD 12-----------------------------------------------------------------------------------------------------------------------------------------------------------------------------------------------------------------------------------------------------------------------------------------------------------------------------------------------------------------------\n",
      " version             | 5                                                                                                                                                                                                                                                                                                                                                         \n",
      " timestamp           | 2025-07-20 00:55:29.602                                                                                                                                                                                                                                                                                                                                   \n",
      " userId              | NULL                                                                                                                                                                                                                                                                                                                                                      \n",
      " userName            | NULL                                                                                                                                                                                                                                                                                                                                                      \n",
      " operation           | UPDATE                                                                                                                                                                                                                                                                                                                                                    \n",
      " operationParameters | {predicate -> [\"(((cnpj_base#8113 = 02162757) AND (cnpj_ordem#8114 = 0001)) AND (cnpj_dv#8115 = 07))\"]}                                                                                                                                                                                                                                                   \n",
      " job                 | NULL                                                                                                                                                                                                                                                                                                                                                      \n",
      " notebook            | NULL                                                                                                                                                                                                                                                                                                                                                      \n",
      " clusterId           | NULL                                                                                                                                                                                                                                                                                                                                                      \n",
      " readVersion         | 4                                                                                                                                                                                                                                                                                                                                                         \n",
      " isolationLevel      | Serializable                                                                                                                                                                                                                                                                                                                                              \n",
      " isBlindAppend       | false                                                                                                                                                                                                                                                                                                                                                     \n",
      " operationMetrics    | {numRemovedFiles -> 1, numRemovedBytes -> 7859, numCopiedRows -> 0, numDeletionVectorsAdded -> 0, executionTimeMs -> 1465, numDeletionVectorsUpdated -> 0, scanTimeMs -> 1179, numAddedFiles -> 1, numUpdatedRows -> 1, numDeletionVectorsRemoved -> 0, numAddedChangeFiles -> 0, numAddedBytes -> 7852, rewriteTimeMs -> 285}                            \n",
      " userMetadata        | NULL                                                                                                                                                                                                                                                                                                                                                      \n",
      " engineInfo          | Apache-Spark/4.0.0 Delta-Lake/4.0.0                                                                                                                                                                                                                                                                                                                       \n",
      "-RECORD 13-----------------------------------------------------------------------------------------------------------------------------------------------------------------------------------------------------------------------------------------------------------------------------------------------------------------------------------------------------------------------\n",
      " version             | 4                                                                                                                                                                                                                                                                                                                                                         \n",
      " timestamp           | 2025-07-20 00:53:46.688                                                                                                                                                                                                                                                                                                                                   \n",
      " userId              | NULL                                                                                                                                                                                                                                                                                                                                                      \n",
      " userName            | NULL                                                                                                                                                                                                                                                                                                                                                      \n",
      " operation           | UPDATE                                                                                                                                                                                                                                                                                                                                                    \n",
      " operationParameters | {predicate -> [\"(((cnpj_base#8113 = 01907068) AND (cnpj_ordem#8114 = 0001)) AND (cnpj_dv#8115 = 11))\"]}                                                                                                                                                                                                                                                   \n",
      " job                 | NULL                                                                                                                                                                                                                                                                                                                                                      \n",
      " notebook            | NULL                                                                                                                                                                                                                                                                                                                                                      \n",
      " clusterId           | NULL                                                                                                                                                                                                                                                                                                                                                      \n",
      " readVersion         | 3                                                                                                                                                                                                                                                                                                                                                         \n",
      " isolationLevel      | Serializable                                                                                                                                                                                                                                                                                                                                              \n",
      " isBlindAppend       | false                                                                                                                                                                                                                                                                                                                                                     \n",
      " operationMetrics    | {numRemovedFiles -> 1, numRemovedBytes -> 7968, numCopiedRows -> 0, numDeletionVectorsAdded -> 0, executionTimeMs -> 1544, numDeletionVectorsUpdated -> 0, scanTimeMs -> 1255, numAddedFiles -> 1, numUpdatedRows -> 1, numDeletionVectorsRemoved -> 0, numAddedChangeFiles -> 0, numAddedBytes -> 7959, rewriteTimeMs -> 288}                            \n",
      " userMetadata        | NULL                                                                                                                                                                                                                                                                                                                                                      \n",
      " engineInfo          | Apache-Spark/4.0.0 Delta-Lake/4.0.0                                                                                                                                                                                                                                                                                                                       \n",
      "-RECORD 14-----------------------------------------------------------------------------------------------------------------------------------------------------------------------------------------------------------------------------------------------------------------------------------------------------------------------------------------------------------------------\n",
      " version             | 3                                                                                                                                                                                                                                                                                                                                                         \n",
      " timestamp           | 2025-07-20 00:52:22.735                                                                                                                                                                                                                                                                                                                                   \n",
      " userId              | NULL                                                                                                                                                                                                                                                                                                                                                      \n",
      " userName            | NULL                                                                                                                                                                                                                                                                                                                                                      \n",
      " operation           | UPDATE                                                                                                                                                                                                                                                                                                                                                    \n",
      " operationParameters | {predicate -> [\"(((cnpj_base#8113 = 65437816) AND (cnpj_ordem#8114 = 0001)) AND (cnpj_dv#8115 = 22))\"]}                                                                                                                                                                                                                                                   \n",
      " job                 | NULL                                                                                                                                                                                                                                                                                                                                                      \n",
      " notebook            | NULL                                                                                                                                                                                                                                                                                                                                                      \n",
      " clusterId           | NULL                                                                                                                                                                                                                                                                                                                                                      \n",
      " readVersion         | 2                                                                                                                                                                                                                                                                                                                                                         \n",
      " isolationLevel      | Serializable                                                                                                                                                                                                                                                                                                                                              \n",
      " isBlindAppend       | false                                                                                                                                                                                                                                                                                                                                                     \n",
      " operationMetrics    | {numRemovedFiles -> 1, numRemovedBytes -> 8090, numCopiedRows -> 0, numDeletionVectorsAdded -> 0, executionTimeMs -> 1551, numDeletionVectorsUpdated -> 0, scanTimeMs -> 1125, numAddedFiles -> 1, numUpdatedRows -> 1, numDeletionVectorsRemoved -> 0, numAddedChangeFiles -> 0, numAddedBytes -> 8115, rewriteTimeMs -> 425}                            \n",
      " userMetadata        | NULL                                                                                                                                                                                                                                                                                                                                                      \n",
      " engineInfo          | Apache-Spark/4.0.0 Delta-Lake/4.0.0                                                                                                                                                                                                                                                                                                                       \n",
      "-RECORD 15-----------------------------------------------------------------------------------------------------------------------------------------------------------------------------------------------------------------------------------------------------------------------------------------------------------------------------------------------------------------------\n",
      " version             | 2                                                                                                                                                                                                                                                                                                                                                         \n",
      " timestamp           | 2025-07-20 00:48:58.7                                                                                                                                                                                                                                                                                                                                     \n",
      " userId              | NULL                                                                                                                                                                                                                                                                                                                                                      \n",
      " userName            | NULL                                                                                                                                                                                                                                                                                                                                                      \n",
      " operation           | UPDATE                                                                                                                                                                                                                                                                                                                                                    \n",
      " operationParameters | {predicate -> [\"(((cnpj_base#8113 = 37116985) AND (cnpj_ordem#8114 = 0069)) AND (cnpj_dv#8115 = 13))\"]}                                                                                                                                                                                                                                                   \n",
      " job                 | NULL                                                                                                                                                                                                                                                                                                                                                      \n",
      " notebook            | NULL                                                                                                                                                                                                                                                                                                                                                      \n",
      " clusterId           | NULL                                                                                                                                                                                                                                                                                                                                                      \n",
      " readVersion         | 1                                                                                                                                                                                                                                                                                                                                                         \n",
      " isolationLevel      | Serializable                                                                                                                                                                                                                                                                                                                                              \n",
      " isBlindAppend       | false                                                                                                                                                                                                                                                                                                                                                     \n",
      " operationMetrics    | {numRemovedFiles -> 1, numRemovedBytes -> 8068, numCopiedRows -> 0, numDeletionVectorsAdded -> 0, executionTimeMs -> 2251, numDeletionVectorsUpdated -> 0, scanTimeMs -> 1838, numAddedFiles -> 1, numUpdatedRows -> 1, numDeletionVectorsRemoved -> 0, numAddedChangeFiles -> 0, numAddedBytes -> 8135, rewriteTimeMs -> 409}                            \n",
      " userMetadata        | NULL                                                                                                                                                                                                                                                                                                                                                      \n",
      " engineInfo          | Apache-Spark/4.0.0 Delta-Lake/4.0.0                                                                                                                                                                                                                                                                                                                       \n",
      "-RECORD 16-----------------------------------------------------------------------------------------------------------------------------------------------------------------------------------------------------------------------------------------------------------------------------------------------------------------------------------------------------------------------\n",
      " version             | 1                                                                                                                                                                                                                                                                                                                                                         \n",
      " timestamp           | 2025-07-20 00:44:08.146                                                                                                                                                                                                                                                                                                                                   \n",
      " userId              | NULL                                                                                                                                                                                                                                                                                                                                                      \n",
      " userName            | NULL                                                                                                                                                                                                                                                                                                                                                      \n",
      " operation           | WRITE                                                                                                                                                                                                                                                                                                                                                     \n",
      " operationParameters | {mode -> Overwrite, partitionBy -> [\"uf\"]}                                                                                                                                                                                                                                                                                                                \n",
      " job                 | NULL                                                                                                                                                                                                                                                                                                                                                      \n",
      " notebook            | NULL                                                                                                                                                                                                                                                                                                                                                      \n",
      " clusterId           | NULL                                                                                                                                                                                                                                                                                                                                                      \n",
      " readVersion         | 0                                                                                                                                                                                                                                                                                                                                                         \n",
      " isolationLevel      | Serializable                                                                                                                                                                                                                                                                                                                                              \n",
      " isBlindAppend       | false                                                                                                                                                                                                                                                                                                                                                     \n",
      " operationMetrics    | {numFiles -> 84, numRemovedFiles -> 341, numRemovedBytes -> 311845087, numOutputRows -> 4753435, numOutputBytes -> 307841532}                                                                                                                                                                                                                             \n",
      " userMetadata        | NULL                                                                                                                                                                                                                                                                                                                                                      \n",
      " engineInfo          | Apache-Spark/4.0.0 Delta-Lake/4.0.0                                                                                                                                                                                                                                                                                                                       \n",
      "-RECORD 17-----------------------------------------------------------------------------------------------------------------------------------------------------------------------------------------------------------------------------------------------------------------------------------------------------------------------------------------------------------------------\n",
      " version             | 0                                                                                                                                                                                                                                                                                                                                                         \n",
      " timestamp           | 2025-07-20 00:40:52.344                                                                                                                                                                                                                                                                                                                                   \n",
      " userId              | NULL                                                                                                                                                                                                                                                                                                                                                      \n",
      " userName            | NULL                                                                                                                                                                                                                                                                                                                                                      \n",
      " operation           | WRITE                                                                                                                                                                                                                                                                                                                                                     \n",
      " operationParameters | {mode -> Overwrite, partitionBy -> [\"uf\"]}                                                                                                                                                                                                                                                                                                                \n",
      " job                 | NULL                                                                                                                                                                                                                                                                                                                                                      \n",
      " notebook            | NULL                                                                                                                                                                                                                                                                                                                                                      \n",
      " clusterId           | NULL                                                                                                                                                                                                                                                                                                                                                      \n",
      " readVersion         | NULL                                                                                                                                                                                                                                                                                                                                                      \n",
      " isolationLevel      | Serializable                                                                                                                                                                                                                                                                                                                                              \n",
      " isBlindAppend       | false                                                                                                                                                                                                                                                                                                                                                     \n",
      " operationMetrics    | {numFiles -> 341, numRemovedFiles -> 0, numRemovedBytes -> 0, numOutputRows -> 4753435, numOutputBytes -> 311845087}                                                                                                                                                                                                                                      \n",
      " userMetadata        | NULL                                                                                                                                                                                                                                                                                                                                                      \n",
      " engineInfo          | Apache-Spark/4.0.0 Delta-Lake/4.0.0                                                                                                                                                                                                                                                                                                                       \n",
      "\n"
     ]
    }
   ],
   "source": [
    "deltaTable_estabelecimentos.history().show(truncate=False, vertical=True)"
   ]
  },
  {
   "cell_type": "code",
   "execution_count": null,
   "id": "ee27f9cb",
   "metadata": {},
   "outputs": [
    {
     "name": "stderr",
     "output_type": "stream",
     "text": [
      "                                                                                \r"
     ]
    },
    {
     "name": "stdout",
     "output_type": "stream",
     "text": [
      "+---------+----------+-------+-------------+-------------+------------------+-----------------------+-------------------------+--------------------+-----------+---------------------+-----------+----------------------+---------------+----------+------+-----------+------+---+---+----------------+----+---------+----+---------+-------+---+-----+-----------------+----------------------+\n",
      "|cnpj_base|cnpj_ordem|cnpj_dv|matriz_filial|nome_fantasia|situacao_cadastral|data_situacao_cadastral|motivo_situacao_cadastral|nome_cidade_exterior|codigo_pais|data_inicio_atividade|cnae_fiscal|cnae_fiscal_secundaria|tipo_logradouro|logradouro|numero|complemento|bairro|cep| uf|codigo_municipio|ddd1|telefone1|ddd2|telefone2|ddd_fax|fax|email|situacao_especial|data_situacao_especial|\n",
      "+---------+----------+-------+-------------+-------------+------------------+-----------------------+-------------------------+--------------------+-----------+---------------------+-----------+----------------------+---------------+----------+------+-----------+------+---+---+----------------+----+---------+----+---------+-------+---+-----+-----------------+----------------------+\n",
      "+---------+----------+-------+-------------+-------------+------------------+-----------------------+-------------------------+--------------------+-----------+---------------------+-----------+----------------------+---------------+----------+------+-----------+------+---+---+----------------+----+---------+----+---------+-------+---+-----+-----------------+----------------------+\n",
      "\n"
     ]
    }
   ],
   "source": [
    "\n",
    "# Ver versões espeicificas\n",
    "df_restore = spark.read.format(\"delta\") \\\n",
    "    .option(\"versionAsOf\", 6) \\\n",
    "    .load(\"../TRS/estabelecimentos\")\n",
    "df_restore.filter(df_restore[\"cnpj_ordem\"].isNull() & df_restore[\"cnae_fiscal\"].isNotNull()).show()"
   ]
  },
  {
   "cell_type": "code",
   "execution_count": 37,
   "id": "27dd41fb",
   "metadata": {},
   "outputs": [
    {
     "name": "stderr",
     "output_type": "stream",
     "text": [
      "25/07/20 01:00:28 WARN DAGScheduler: Broadcasting large task binary with size 1087.5 KiB\n",
      "                                                                                \r"
     ]
    },
    {
     "data": {
      "text/plain": [
       "DataFrame[table_size_after_restore: bigint, num_of_files_after_restore: bigint, num_removed_files: bigint, num_restored_files: bigint, removed_files_size: bigint, restored_files_size: bigint]"
      ]
     },
     "execution_count": 37,
     "metadata": {},
     "output_type": "execute_result"
    }
   ],
   "source": [
    "# Restaurar versão\n",
    "\n",
    "deltaTable_estabelecimentos_trs.restoreToVersion(6)"
   ]
  },
  {
   "cell_type": "markdown",
   "id": "fd2de010",
   "metadata": {},
   "source": [
    "## Finalizar Spark"
   ]
  },
  {
   "cell_type": "code",
   "execution_count": 78,
   "id": "f4483fbc",
   "metadata": {},
   "outputs": [],
   "source": [
    "spark.stop()"
   ]
  },
  {
   "cell_type": "code",
   "execution_count": null,
   "id": "d9b48daa",
   "metadata": {},
   "outputs": [],
   "source": []
  }
 ],
 "metadata": {
  "kernelspec": {
   "display_name": "venv",
   "language": "python",
   "name": "python3"
  },
  "language_info": {
   "codemirror_mode": {
    "name": "ipython",
    "version": 3
   },
   "file_extension": ".py",
   "mimetype": "text/x-python",
   "name": "python",
   "nbconvert_exporter": "python",
   "pygments_lexer": "ipython3",
   "version": "3.12.3"
  }
 },
 "nbformat": 4,
 "nbformat_minor": 5
}
