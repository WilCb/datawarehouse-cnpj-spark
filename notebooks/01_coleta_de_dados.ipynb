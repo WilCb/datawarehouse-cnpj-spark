{
 "cells": [
  {
   "cell_type": "markdown",
   "id": "2b7f74eb-8adf-4a43-b995-282c3e648d5a",
   "metadata": {},
   "source": [
    "# Coletar dados de API"
   ]
  },
  {
   "cell_type": "markdown",
   "id": "f021c23f",
   "metadata": {},
   "source": [
    "Este notebook realiza a extração dos dados via API pública e salva os dados na camada Landing (LND), no formato JSON."
   ]
  },
  {
   "cell_type": "markdown",
   "id": "b314a61a",
   "metadata": {},
   "source": [
    "## Importações e configurações"
   ]
  },
  {
   "cell_type": "code",
   "execution_count": 5,
   "id": "9bb59398-629c-4225-b071-d666d8bb8ee7",
   "metadata": {},
   "outputs": [],
   "source": [
    "import requests\n",
    "import json\n",
    "import os\n",
    "from datetime import date\n",
    "from typing import Any"
   ]
  },
  {
   "cell_type": "code",
   "execution_count": null,
   "id": "61782247-d5f3-4faa-9ee6-8fd73fdf7853",
   "metadata": {},
   "outputs": [],
   "source": [
    "def salvar_json(response: requests.Response, file_name: str) -> None:\n",
    "    \"\"\"\n",
    "    Salva os dados de uma resposta JSON da API em um arquivo na estrutura de diretórios da camada LND.\n",
    "\n",
    "    Args:\n",
    "        response (requests.Response): Objeto de resposta da requisição HTTP.\n",
    "        file_name (str): Nome da subpasta e prefixo do arquivo a ser salvo na pasta LND.\n",
    "\n",
    "    Returns:\n",
    "        None\n",
    "    \"\"\"\n",
    "    if response.status_code == 200:\n",
    "        data: Any = response.json()\n",
    "\n",
    "        path = f\"../LND/{file_name}\"\n",
    "        os.makedirs(path, exist_ok=True)\n",
    "\n",
    "        filename = f\"{path}/{file_name}_{date.today()}.json\"\n",
    "\n",
    "        with open(filename, \"w\", encoding=\"utf-8\") as file:\n",
    "            json.dump(data, file, indent=4, ensure_ascii=False)\n",
    "        \n",
    "        print(f\"Arquivo salvo em: {filename}\")\n",
    "    else:\n",
    "        print(f\"Erro ao acessar a API: {response.status_code}\")"
   ]
  },
  {
   "cell_type": "markdown",
   "id": "64eeb106",
   "metadata": {},
   "source": [
    "## Dados IBGE"
   ]
  },
  {
   "cell_type": "code",
   "execution_count": null,
   "id": "f99398e2-65d3-4e3e-b2a6-767e38ae642a",
   "metadata": {},
   "outputs": [],
   "source": [
    "url: str = \"https://servicodados.ibge.gov.br/api/v1/localidades/municipios\"\n",
    "response: requests.Response = requests.get(url)"
   ]
  },
  {
   "cell_type": "code",
   "execution_count": 8,
   "id": "8b0e3535-2263-4422-98f0-c06aeaa021f6",
   "metadata": {},
   "outputs": [
    {
     "name": "stdout",
     "output_type": "stream",
     "text": [
      "Arquivo salvo em: ../LND/municipios/municipios_2025-07-17.json\n"
     ]
    }
   ],
   "source": [
    "salvar_json(response, \"municipios\")"
   ]
  },
  {
   "cell_type": "markdown",
   "id": "b80c6352",
   "metadata": {},
   "source": [
    "## Outros dados complementares"
   ]
  },
  {
   "cell_type": "markdown",
   "id": "bb55a431",
   "metadata": {},
   "source": [
    "Os dados complementares necessários para este projeto — como Natureza Jurídica, CNAE, Simples Nacional, Municípios da Receita, entre outros — não estão disponíveis via API pública. No entanto, podem ser obtidos diretamente no portal da Receita Federal através de arquivos CSV.\n",
    "\n",
    "📂 Acesse: [Base CNPJ — Receita Federal (jun/2025)](https://arquivos.receitafederal.gov.br/dados/cnpj/dados_abertos_cnpj/2025-06/)\n",
    "\n",
    "Esses arquivos devem ser considerados parte da **camada Landing (LND)** e posteriormente processados nos notebooks seguintes."
   ]
  },
  {
   "cell_type": "markdown",
   "id": "b5f4a84b",
   "metadata": {},
   "source": []
  }
 ],
 "metadata": {
  "kernelspec": {
   "display_name": "venv",
   "language": "python",
   "name": "python3"
  },
  "language_info": {
   "codemirror_mode": {
    "name": "ipython",
    "version": 3
   },
   "file_extension": ".py",
   "mimetype": "text/x-python",
   "name": "python",
   "nbconvert_exporter": "python",
   "pygments_lexer": "ipython3",
   "version": "3.12.3"
  }
 },
 "nbformat": 4,
 "nbformat_minor": 5
}
