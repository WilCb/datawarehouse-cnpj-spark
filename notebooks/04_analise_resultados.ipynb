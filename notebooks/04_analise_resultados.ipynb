{
 "cells": [
  {
   "cell_type": "markdown",
   "id": "849141ca",
   "metadata": {},
   "source": [
    "# 📊 Análise de Resultados — PySpark + Delta Lake"
   ]
  },
  {
   "cell_type": "markdown",
   "id": "ed4be541",
   "metadata": {},
   "source": [
    "Este notebook tem como objetivo realizar análises exploratórias e agregações a partir dos dados estruturados na camada **Trusted** do Data Warehouse, utilizando **PySpark** em conjunto com o **Delta Lake**. Serão exploradas informações provenientes de tabelas fato e dimensões, permitindo insights sobre o perfil das empresas, distribuição geográfica, porte, natureza jurídica, entre outros aspectos relevantes."
   ]
  },
  {
   "cell_type": "markdown",
   "id": "d8b40b0c",
   "metadata": {},
   "source": [
    "## ⚙️ 1. Configuração Spark & Importes"
   ]
  },
  {
   "cell_type": "code",
   "execution_count": 36,
   "id": "2ccdf0d2",
   "metadata": {},
   "outputs": [],
   "source": [
    "# Para iniciar a seção spark\n",
    "from pyspark.sql import SparkSession, DataFrame\n",
    "from pyspark.sql import functions as f\n",
    "from delta import configure_spark_with_delta_pip\n",
    "from delta.tables import DeltaTable"
   ]
  },
  {
   "cell_type": "code",
   "execution_count": 37,
   "id": "15a94a61",
   "metadata": {},
   "outputs": [
    {
     "data": {
      "text/html": [
       "\n",
       "            <div>\n",
       "                <p><b>SparkSession - in-memory</b></p>\n",
       "                \n",
       "        <div>\n",
       "            <p><b>SparkContext</b></p>\n",
       "\n",
       "            <p><a href=\"http://10.255.255.254:4040\">Spark UI</a></p>\n",
       "\n",
       "            <dl>\n",
       "              <dt>Version</dt>\n",
       "                <dd><code>v4.0.0</code></dd>\n",
       "              <dt>Master</dt>\n",
       "                <dd><code>local[*]</code></dd>\n",
       "              <dt>AppName</dt>\n",
       "                <dd><code>App analise de dados</code></dd>\n",
       "            </dl>\n",
       "        </div>\n",
       "        \n",
       "            </div>\n",
       "        "
      ],
      "text/plain": [
       "<pyspark.sql.session.SparkSession at 0x7a934ce673e0>"
      ]
     },
     "execution_count": 37,
     "metadata": {},
     "output_type": "execute_result"
    }
   ],
   "source": [
    "builder = SparkSession.builder \\\n",
    "    .appName(\"App analise de dados\") \\\n",
    "    .config(\"spark.sql.extensions\", \"io.delta.sql.DeltaSparkSessionExtension\") \\\n",
    "    .config(\"spark.sql.catalog.spark_catalog\", \"org.apache.spark.sql.delta.catalog.DeltaCatalog\") \\\n",
    "    .config(\"spark.driver.memory\", \"2g\") \\\n",
    "    .config(\"spark.executor.memory\", \"2g\")\n",
    "\n",
    "spark: SparkSession = configure_spark_with_delta_pip(builder).getOrCreate()\n",
    "\n",
    "spark"
   ]
  },
  {
   "cell_type": "markdown",
   "id": "d27ebbdf",
   "metadata": {},
   "source": [
    "## 📥 2. Leitura da tabela Delta com explicação e contagem"
   ]
  },
  {
   "cell_type": "code",
   "execution_count": null,
   "id": "c14bc866",
   "metadata": {},
   "outputs": [
    {
     "name": "stderr",
     "output_type": "stream",
     "text": [
      "                                                                                \r"
     ]
    },
    {
     "name": "stdout",
     "output_type": "stream",
     "text": [
      "Total registros lidos: 4753435\n",
      "+---------+----------+-------+-------------+-------------------------------+------------------+-----------------------+-------------------------+--------------------+-----------+---------------------+-----------+----------------------+---------------+---------------------+------+-----------+------+--------+---+----------------+----+---------+----+---------+-------+--------+-------------------------+-----------------+----------------------+----------------------------------------+-----------------+------------+------------------------+-------------------------------+--------------+--------------------+---------------------------+---------------------------+-------------+------------------+---------------------+---------+--------------+-----------------+\n",
      "|cnpj_base|cnpj_ordem|cnpj_dv|matriz_filial|nome_fantasia                  |situacao_cadastral|data_situacao_cadastral|motivo_situacao_cadastral|nome_cidade_exterior|codigo_pais|data_inicio_atividade|cnae_fiscal|cnae_fiscal_secundaria|tipo_logradouro|logradouro           |numero|complemento|bairro|cep     |uf |codigo_municipio|ddd1|telefone1|ddd2|telefone2|ddd_fax|fax     |email                    |situacao_especial|data_situacao_especial|descricao_cnae                          |municipio        |razao_social|codigo_natureza_juridica|codigo_qualificacao_responsavel|capital_social|codigo_porte_empresa|ente_federativo_responsavel|descricao_natureza_juridica|opcao_simples|data_opcao_simples|data_exclusao_simples|opcao_mei|data_opcao_mei|data_exclusao_mei|\n",
      "+---------+----------+-------+-------------+-------------------------------+------------------+-----------------------+-------------------------+--------------------+-----------+---------------------+-----------+----------------------+---------------+---------------------+------+-----------+------+--------+---+----------------+----+---------+----+---------+-------+--------+-------------------------+-----------------+----------------------+----------------------------------------+-----------------+------------+------------------------+-------------------------------+--------------+--------------------+---------------------------+---------------------------+-------------+------------------+---------------------+---------+--------------+-----------------+\n",
      "|00000000 |7298      |25     |2            |CATEDRAL - CRUZEIRO DO SUL (AC)|08                |2021-08-11             |01                       |NULL                |NULL       |2012-09-20           |6422100    |6499999               |AVENIDA        |RODRIGUES ALVES      |146   |NULL       |CENTRO|69980970|AC |0107            |NULL|NULL     |NULL|NULL     |NULL   |NULL    |age8126@bb.com.br        |NULL             |NULL                  |Bancos múltiplos, com carteira comercial|CRUZEIRO DO SUL  |NULL        |NULL                    |NULL                           |NULL          |NULL                |NULL                       |NULL                       |N            |2007-07-01        |2007-07-01           |N        |2009-07-01    |2009-07-01       |\n",
      "|00000000 |4743      |04     |2            |AV. BRASIL - RIO BRANCO (AC)   |02                |2005-11-03             |00                       |NULL                |NULL       |2000-02-25           |6422100    |6499999               |RUA            |DOUTOR FRANCO RIBEIRO|77    |NULL       |CENTRO|69900082|AC |0139            |NULL|NULL     |NULL|NULL     |68     |NULL    |AGE2359@BB.COM.BR        |NULL             |NULL                  |Bancos múltiplos, com carteira comercial|RIO BRANCO       |NULL        |NULL                    |NULL                           |NULL          |NULL                |NULL                       |NULL                       |N            |2007-07-01        |2007-07-01           |N        |2009-07-01    |2009-07-01       |\n",
      "|00000000 |1270      |00     |2            |NULL                           |08                |2020-04-28             |01                       |NULL                |NULL       |1989-08-30           |6421200    |NULL                  |RUA            |JUVENAL ANTUNES      |SN    |NULL       |CENTRO|69928000|AC |0151            |NULL|NULL     |NULL|NULL     |NULL   |NULL    |NULL                     |NULL             |NULL                  |Bancos comerciais                       |PLACIDO DE CASTRO|NULL        |NULL                    |NULL                           |NULL          |NULL                |NULL                       |NULL                       |N            |2007-07-01        |2007-07-01           |N        |2009-07-01    |2009-07-01       |\n",
      "|00000000 |5652      |96     |2            |FEIJO (AC)                     |02                |2005-11-03             |00                       |NULL                |NULL       |2004-11-25           |6422100    |NULL                  |RUA            |EPAMINONDAS MARTINS  |09    |NULL       |CENTRO|69960000|AC |0113            |NULL|NULL     |NULL|NULL     |NULL   |NULL    |NULL                     |NULL             |NULL                  |Bancos múltiplos, com carteira comercial|FEIJO            |NULL        |NULL                    |NULL                           |NULL          |NULL                |NULL                       |NULL                       |N            |2007-07-01        |2007-07-01           |N        |2009-07-01    |2009-07-01       |\n",
      "|00000000 |4984      |08     |2            |RIO BRANCO                     |02                |2005-11-03             |00                       |NULL                |NULL       |2001-02-13           |6422100    |6499999               |RUA            |ARLINDO PORTO LEAL   |85    |NULL       |CENTRO|69900058|AC |0139            |NULL|NULL     |NULL|NULL     |68     |32246517|SERET.RIOBRANCO@BB.COM.BR|NULL             |NULL                  |Bancos múltiplos, com carteira comercial|RIO BRANCO       |NULL        |NULL                    |NULL                           |NULL          |NULL                |NULL                       |NULL                       |N            |2007-07-01        |2007-07-01           |N        |2009-07-01    |2009-07-01       |\n",
      "+---------+----------+-------+-------------+-------------------------------+------------------+-----------------------+-------------------------+--------------------+-----------+---------------------+-----------+----------------------+---------------+---------------------+------+-----------+------+--------+---+----------------+----+---------+----+---------+-------+--------+-------------------------+-----------------+----------------------+----------------------------------------+-----------------+------------+------------------------+-------------------------------+--------------+--------------------+---------------------------+---------------------------+-------------+------------------+---------------------+---------+--------------+-----------------+\n",
      "only showing top 5 rows\n",
      "root\n",
      " |-- cnpj_base: string (nullable = true)\n",
      " |-- cnpj_ordem: string (nullable = true)\n",
      " |-- cnpj_dv: string (nullable = true)\n",
      " |-- matriz_filial: string (nullable = true)\n",
      " |-- nome_fantasia: string (nullable = true)\n",
      " |-- situacao_cadastral: string (nullable = true)\n",
      " |-- data_situacao_cadastral: date (nullable = true)\n",
      " |-- motivo_situacao_cadastral: string (nullable = true)\n",
      " |-- nome_cidade_exterior: string (nullable = true)\n",
      " |-- codigo_pais: string (nullable = true)\n",
      " |-- data_inicio_atividade: date (nullable = true)\n",
      " |-- cnae_fiscal: string (nullable = true)\n",
      " |-- cnae_fiscal_secundaria: string (nullable = true)\n",
      " |-- tipo_logradouro: string (nullable = true)\n",
      " |-- logradouro: string (nullable = true)\n",
      " |-- numero: string (nullable = true)\n",
      " |-- complemento: string (nullable = true)\n",
      " |-- bairro: string (nullable = true)\n",
      " |-- cep: string (nullable = true)\n",
      " |-- uf: string (nullable = true)\n",
      " |-- codigo_municipio: string (nullable = true)\n",
      " |-- ddd1: string (nullable = true)\n",
      " |-- telefone1: string (nullable = true)\n",
      " |-- ddd2: string (nullable = true)\n",
      " |-- telefone2: string (nullable = true)\n",
      " |-- ddd_fax: string (nullable = true)\n",
      " |-- fax: string (nullable = true)\n",
      " |-- email: string (nullable = true)\n",
      " |-- situacao_especial: string (nullable = true)\n",
      " |-- data_situacao_especial: date (nullable = true)\n",
      " |-- descricao_cnae: string (nullable = true)\n",
      " |-- municipio: string (nullable = true)\n",
      " |-- razao_social: string (nullable = true)\n",
      " |-- codigo_natureza_juridica: string (nullable = true)\n",
      " |-- codigo_qualificacao_responsavel: string (nullable = true)\n",
      " |-- capital_social: decimal(20,2) (nullable = true)\n",
      " |-- codigo_porte_empresa: string (nullable = true)\n",
      " |-- ente_federativo_responsavel: string (nullable = true)\n",
      " |-- descricao_natureza_juridica: string (nullable = true)\n",
      " |-- opcao_simples: string (nullable = true)\n",
      " |-- data_opcao_simples: date (nullable = true)\n",
      " |-- data_exclusao_simples: date (nullable = true)\n",
      " |-- opcao_mei: string (nullable = true)\n",
      " |-- data_opcao_mei: date (nullable = true)\n",
      " |-- data_exclusao_mei: date (nullable = true)\n",
      "\n"
     ]
    }
   ],
   "source": [
    "try:    \n",
    "    deltaTable: DeltaTable = DeltaTable.forPath(spark, \"../TRS/fato_cnpj\")\n",
    "    df: DataFrame = deltaTable.toDF()\n",
    "    print(f\"Total registros lidos: {df.count()}\")\n",
    "    df.show(5, truncate=False)\n",
    "    df.printSchema()\n",
    "except Exception as e:\n",
    "    print(f\"Erro na leitura da tabela Delta: {e}\")"
   ]
  },
  {
   "cell_type": "markdown",
   "id": "6b2f8f43",
   "metadata": {},
   "source": [
    "## 🧼 3. Formatação das colunas para exibição"
   ]
  },
  {
   "cell_type": "code",
   "execution_count": null,
   "id": "160d0e5c",
   "metadata": {},
   "outputs": [
    {
     "name": "stdout",
     "output_type": "stream",
     "text": [
      "+--------------+-------------------------------+------------------+-----------------------+-------------------------+---------------+-----------+---------------------+--------------+-----------------+-------------------------+------+-----------+------+--------+---------------+---+--------+-----------------+----------------------------------------+--------------+------------+------------------------+---------------------------+------------+------------------+------------------+---------------------+---------+--------------+-----------------+\n",
      "|CNPJ          |NOME_FANTASIA                  |SITUACAO_CADASTRAL|DATA_SITUACAO_CADASTRAL|SITUACAO_CADASTRAL_MOTIVO|CIDADE_EXTERIOR|CODIGO_PAIS|DATA_INICIO_ATIVIDADE|CNAE_PRINCIPAL|CNAES_SECUNDARIOS|LOGRADOURO               |NUMERO|COMPLEMENTO|BAIRRO|CEP     |MUNICIPIO      |UF |TELEFONE|EMAIL            |DESCRICAO_CNAE                          |CAPITAL_SOCIAL|RAZAO_SOCIAL|CODIGO_NATUREZA_JURIDICA|DESCRICAO_NATUREZA_JURIDICA|CODIGO_PORTE|OPCAO_PELO_SIMPLES|DATA_OPCAO_SIMPLES|DATA_EXCLUSAO_SIMPLES|OPCAO_MEI|DATA_OPCAO_MEI|DATA_EXCLUSAO_MEI|\n",
      "+--------------+-------------------------------+------------------+-----------------------+-------------------------+---------------+-----------+---------------------+--------------+-----------------+-------------------------+------+-----------+------+--------+---------------+---+--------+-----------------+----------------------------------------+--------------+------------+------------------------+---------------------------+------------+------------------+------------------+---------------------+---------+--------------+-----------------+\n",
      "|00000000729825|CATEDRAL - CRUZEIRO DO SUL (AC)|08                |11/08/2021             |01                       |NULL           |NULL       |20/09/2012           |6422100       |6499999          |AVENIDA RODRIGUES ALVES  |146   |NULL       |CENTRO|69980970|CRUZEIRO DO SUL|AC |NULL    |age8126@bb.com.br|Bancos múltiplos, com carteira comercial|NULL          |NULL        |NULL                    |NULL                       |NULL        |N                 |01/07/2007        |01/07/2007           |N        |01/07/2009    |01/07/2009       |\n",
      "|00000000474304|AV. BRASIL - RIO BRANCO (AC)   |02                |03/11/2005             |00                       |NULL           |NULL       |25/02/2000           |6422100       |6499999          |RUA DOUTOR FRANCO RIBEIRO|77    |NULL       |CENTRO|69900082|RIO BRANCO     |AC |NULL    |AGE2359@BB.COM.BR|Bancos múltiplos, com carteira comercial|NULL          |NULL        |NULL                    |NULL                       |NULL        |N                 |01/07/2007        |01/07/2007           |N        |01/07/2009    |01/07/2009       |\n",
      "+--------------+-------------------------------+------------------+-----------------------+-------------------------+---------------+-----------+---------------------+--------------+-----------------+-------------------------+------+-----------+------+--------+---------------+---+--------+-----------------+----------------------------------------+--------------+------------+------------------------+---------------------------+------------+------------------+------------------+---------------------+---------+--------------+-----------------+\n",
      "only showing top 2 rows\n"
     ]
    }
   ],
   "source": [
    "def formatar_colunas(df: DataFrame) -> DataFrame:\n",
    "    \"\"\"\n",
    "    Formata e renomeia colunas de um DataFrame com dados de empresas, tornando-o mais legível\n",
    "    e pronto para visualizações ou análises exploratórias.\n",
    "\n",
    "    Operações realizadas:\n",
    "    - Concatenação dos campos do CNPJ (base, ordem e dígito) em uma única coluna.\n",
    "    - Formatação de datas no padrão \"dd/MM/yyyy\".\n",
    "    - Renomeação de colunas para nomes mais amigáveis (sem espaços, com letras maiúsculas).\n",
    "    - Criação de colunas compostas como endereço completo.\n",
    "    \n",
    "    Args:\n",
    "        df (DataFrame): DataFrame original contendo os dados da camada Trusted do CNPJ.\n",
    "\n",
    "    Returns:\n",
    "        DataFrame: Novo DataFrame com colunas formatadas e renomeadas para fins de exibição.\n",
    "    \"\"\"\n",
    "    return df.select(\n",
    "        f.concat_ws(\"\", df.cnpj_base, df.cnpj_ordem, df.cnpj_dv).alias(\"CNPJ\"),\n",
    "        df.nome_fantasia.alias(\"NOME_FANTASIA\"),\n",
    "        df.situacao_cadastral.alias(\"SITUACAO_CADASTRAL\"),\n",
    "        f.date_format(df.data_situacao_cadastral, \"dd/MM/yyyy\").alias(\"DATA_SITUACAO_CADASTRAL\"),\n",
    "        df.motivo_situacao_cadastral.alias(\"SITUACAO_CADASTRAL_MOTIVO\"),\n",
    "        df.nome_cidade_exterior.alias(\"CIDADE_EXTERIOR\"),\n",
    "        df.codigo_pais.alias(\"CODIGO_PAIS\"),\n",
    "        f.date_format(df.data_inicio_atividade, \"dd/MM/yyyy\").alias(\"DATA_INICIO_ATIVIDADE\"),\n",
    "        df.cnae_fiscal.alias(\"CNAE_PRINCIPAL\"),\n",
    "        df.cnae_fiscal_secundaria.alias(\"CNAES_SECUNDARIOS\"),\n",
    "        f.concat_ws(\" \", df.tipo_logradouro, df.logradouro).alias(\"LOGRADOURO\"),\n",
    "        df.numero.alias(\"NUMERO\"),\n",
    "        df.complemento.alias(\"COMPLEMENTO\"),\n",
    "        df.bairro.alias(\"BAIRRO\"),\n",
    "        df.cep.alias(\"CEP\"),\n",
    "        df.municipio.alias(\"MUNICIPIO\"),\n",
    "        df.uf.alias(\"UF\"),\n",
    "        df.telefone1.alias(\"TELEFONE\"),\n",
    "        df.email.alias(\"EMAIL\"),\n",
    "        df.descricao_cnae.alias(\"DESCRICAO_CNAE\"),\n",
    "        df.capital_social.alias(\"CAPITAL_SOCIAL\"),\n",
    "        df.razao_social.alias(\"RAZAO_SOCIAL\"),\n",
    "        df.codigo_natureza_juridica.alias(\"CODIGO_NATUREZA_JURIDICA\"),\n",
    "        df.descricao_natureza_juridica.alias(\"DESCRICAO_NATUREZA_JURIDICA\"),\n",
    "        df.codigo_porte_empresa.alias(\"CODIGO_PORTE\"),\n",
    "        df.opcao_simples.alias(\"OPCAO_PELO_SIMPLES\"),\n",
    "        f.date_format(df.data_opcao_simples, \"dd/MM/yyyy\").alias(\"DATA_OPCAO_SIMPLES\"),\n",
    "        f.date_format(df.data_exclusao_simples, \"dd/MM/yyyy\").alias(\"DATA_EXCLUSAO_SIMPLES\"),\n",
    "        df.opcao_mei.alias(\"OPCAO_MEI\"),\n",
    "        f.date_format(df.data_opcao_mei, \"dd/MM/yyyy\").alias(\"DATA_OPCAO_MEI\"),\n",
    "        f.date_format(df.data_exclusao_mei, \"dd/MM/yyyy\").alias(\"DATA_EXCLUSAO_MEI\")\n",
    "    )\n",
    "\n",
    "df_formatado: DataFrame = formatar_colunas(df)\n",
    "df_formatado.show(2, truncate=False)"
   ]
  },
  {
   "cell_type": "markdown",
   "id": "e26e6df8",
   "metadata": {},
   "source": [
    "## 📈 4. Análise de Abertura de Empresas"
   ]
  },
  {
   "cell_type": "markdown",
   "id": "3599abd4",
   "metadata": {},
   "source": [
    "- Quantidade de empresas abertas por ANO e MÊS, ordenado de forma decrescente:"
   ]
  },
  {
   "cell_type": "code",
   "execution_count": null,
   "id": "6baa1a11",
   "metadata": {},
   "outputs": [
    {
     "name": "stderr",
     "output_type": "stream",
     "text": [
      "[Stage 236:==================================>                   (24 + 12) / 38]\r"
     ]
    },
    {
     "name": "stdout",
     "output_type": "stream",
     "text": [
      "+----------------+----+---+\n",
      "|EMPRESAS_ABERTAS|ANO |MES|\n",
      "+----------------+----+---+\n",
      "|19784           |2025|6  |\n",
      "|42544           |2025|5  |\n",
      "|41477           |2025|4  |\n",
      "|42035           |2025|3  |\n",
      "|45271           |2025|2  |\n",
      "|58368           |2025|1  |\n",
      "|26879           |2024|12 |\n",
      "|34031           |2024|11 |\n",
      "|39439           |2024|10 |\n",
      "|37321           |2024|9  |\n",
      "+----------------+----+---+\n",
      "only showing top 10 rows\n"
     ]
    },
    {
     "name": "stderr",
     "output_type": "stream",
     "text": [
      "                                                                                \r"
     ]
    }
   ],
   "source": [
    "df_empr_inicio_ano_mes: DataFrame = df.groupBy(\n",
    "    f.year(\"data_inicio_atividade\").alias(\"ANO\"),\n",
    "    f.month(\"data_inicio_atividade\").alias(\"MES\")\n",
    "    ).agg(\n",
    "        f.count(\"*\").alias(\"EMPRESAS_ABERTAS\")\n",
    "    ).orderBy(\"ANO\", \"MES\", ascending=False)\n",
    "\n",
    "df_empr_inicio_ano_mes.select(\"EMPRESAS_ABERTAS\", \"ANO\", \"MES\").show(10,truncate=False)"
   ]
  },
  {
   "cell_type": "markdown",
   "id": "30c2dfcc",
   "metadata": {},
   "source": [
    "## 🏷️ 5. Status Cadastral das Empresas"
   ]
  },
  {
   "cell_type": "markdown",
   "id": "d94adbe5",
   "metadata": {},
   "source": [
    "- Criação da coluna `DESCRICAO_STATUS_EMPRESA`, com rótulos legíveis:"
   ]
  },
  {
   "cell_type": "code",
   "execution_count": null,
   "id": "2d094608",
   "metadata": {},
   "outputs": [],
   "source": [
    "df_status_empresa: DataFrame = df.withColumn(\n",
    "    \"DESCRICAO_STATUS_EMPRESA\",\n",
    "    f.when(\n",
    "        df.situacao_cadastral == f.lit('01'),\n",
    "        \"ATIVA\"\n",
    "    ).when(\n",
    "        df.situacao_cadastral.isin('02', '03', '04'),\n",
    "        \"INATIVA\"\n",
    "    ).otherwise(\"PENDENCIAS\")\n",
    ")"
   ]
  },
  {
   "cell_type": "markdown",
   "id": "ff262c97",
   "metadata": {},
   "source": [
    "- Agrupamento por status:"
   ]
  },
  {
   "cell_type": "code",
   "execution_count": 47,
   "id": "af20834f",
   "metadata": {},
   "outputs": [
    {
     "name": "stderr",
     "output_type": "stream",
     "text": [
      "                                                                                \r"
     ]
    },
    {
     "name": "stdout",
     "output_type": "stream",
     "text": [
      "+------------------------+------------+\n",
      "|DESCRICAO_STATUS_EMPRESA|QTD_EMPRESAS|\n",
      "+------------------------+------------+\n",
      "|              PENDENCIAS|     2260668|\n",
      "|                 INATIVA|     2484499|\n",
      "|                   ATIVA|        8268|\n",
      "+------------------------+------------+\n",
      "\n"
     ]
    },
    {
     "name": "stderr",
     "output_type": "stream",
     "text": [
      "[Stage 290:================================>                     (23 + 12) / 38]\r"
     ]
    },
    {
     "name": "stdout",
     "output_type": "stream",
     "text": [
      "+-------+------------------------+------------------+\n",
      "|summary|DESCRICAO_STATUS_EMPRESA|      QTD_EMPRESAS|\n",
      "+-------+------------------------+------------------+\n",
      "|  count|                       3|                 3|\n",
      "|   mean|                    NULL|1584478.3333333333|\n",
      "| stddev|                    NULL|1369618.3192117186|\n",
      "|    min|                   ATIVA|              8268|\n",
      "|    max|              PENDENCIAS|           2484499|\n",
      "+-------+------------------------+------------------+\n",
      "\n"
     ]
    },
    {
     "name": "stderr",
     "output_type": "stream",
     "text": [
      "                                                                                \r"
     ]
    }
   ],
   "source": [
    "\n",
    "# Recuperar a quantidade da coluna \"DESCRICAO_STATUS_EMPRESA\"\n",
    "df_qtd_status: DataFrame = df_status_empresa.groupBy(\"DESCRICAO_STATUS_EMPRESA\").agg(\n",
    "    f.count(\"*\").alias(\"QTD_EMPRESAS\")\n",
    ")\n",
    "\n",
    "# Exibir resultados\n",
    "df_qtd_status.show()\n",
    "df_qtd_status.describe().show()"
   ]
  },
  {
   "cell_type": "markdown",
   "id": "99e92950",
   "metadata": {},
   "source": [
    "## 🧩 6. Distribuição por CNAE (Principal e Secundário)"
   ]
  },
  {
   "cell_type": "code",
   "execution_count": 48,
   "id": "61609954",
   "metadata": {},
   "outputs": [
    {
     "name": "stdout",
     "output_type": "stream",
     "text": [
      "+--------------+-------------------------------------------------------------------------------------------------------------------+-------------------------------------------------------------------------------------------------------------------------------------------------------+\n",
      "|CNAE_PRINCIPAL|DESCRICAO_CNAE_PRINCIPAL                                                                                           |CNAE_SECUNDARIO                                                                                                                                        |\n",
      "+--------------+-------------------------------------------------------------------------------------------------------------------+-------------------------------------------------------------------------------------------------------------------------------------------------------+\n",
      "|2229399       |Fabricação de artefatos de material plástico para outros usos não especificados anteriormente                      |3292202,3299003,4679699,4744001                                                                                                                        |\n",
      "|4930202       |Transporte rodoviário de carga, exceto produtos perigosos e mudanças, intermunicipal, interestadual e internacional|4930201,4930203                                                                                                                                        |\n",
      "|7739099       |Aluguel de outras máquinas e equipamentos comerciais e industriais não especificados anteriormente, sem operador   |3314708,4530703,4930201,4930202,4930204                                                                                                                |\n",
      "|5611201       |Restaurantes e similares                                                                                           |5611203                                                                                                                                                |\n",
      "|4753900       |Comércio varejista especializado de eletrodomésticos e equipamentos de áudio e vídeo                               |4759899                                                                                                                                                |\n",
      "|1412601       |Confecção de peças de vestuário, exceto roupas íntimas e as confeccionadas sob medida                              |1412603                                                                                                                                                |\n",
      "|4771704       |Comércio varejista de medicamentos veterinários                                                                    |4789004,7500100                                                                                                                                        |\n",
      "|8299799       |Outras atividades de serviços prestados principalmente às empresas não especificadas anteriormente                 |6399200,7410299,7490105,7490199,8219999,8299703,8299707                                                                                                |\n",
      "|1531901       |Fabricação de calçados de couro                                                                                    |1540800                                                                                                                                                |\n",
      "|4929901       |Transporte rodoviário coletivo de passageiros, sob regime de fretamento, municipal                                 |4923001,4923002                                                                                                                                        |\n",
      "|4755502       |Comercio varejista de artigos de armarinho                                                                         |4789001,4754702,4755503,4761003,4763601                                                                                                                |\n",
      "|4789003       |Comércio varejista de objetos de arte                                                                              |4789001                                                                                                                                                |\n",
      "|4731800       |Comércio varejista de combustíveis para veículos automotores                                                       |4520006,4520005                                                                                                                                        |\n",
      "|4759899       |Comércio varejista de outros artigos de uso pessoal e doméstico não especificados anteriormente                    |1340501,1354500,1813099,1813001,4329101,4330405,4689399,4781400,7739099,7311400,7312200,5819100,5829800,3299003,1811302,7319002,8599604,2542000,5223100|\n",
      "|4752100       |Comércio varejista especializado de equipamentos de telefonia e comunicação                                        |4753900,4751201,4757100,9521500,9511800                                                                                                                |\n",
      "|4752100       |Comércio varejista especializado de equipamentos de telefonia e comunicação                                        |4753900,4751201,4757100,9521500,9511800                                                                                                                |\n",
      "|4752100       |Comércio varejista especializado de equipamentos de telefonia e comunicação                                        |4753900,4751201,4757100,9521500,9511800                                                                                                                |\n",
      "|4752100       |Comércio varejista especializado de equipamentos de telefonia e comunicação                                        |4753900,4751201,4757100,9521500,9511800                                                                                                                |\n",
      "|4752100       |Comércio varejista especializado de equipamentos de telefonia e comunicação                                        |4753900,4751201,4757100,9521500,9511800                                                                                                                |\n",
      "|4752100       |Comércio varejista especializado de equipamentos de telefonia e comunicação                                        |4753900,4751201,4757100,9521500,9511800                                                                                                                |\n",
      "+--------------+-------------------------------------------------------------------------------------------------------------------+-------------------------------------------------------------------------------------------------------------------------------------------------------+\n",
      "only showing top 20 rows\n"
     ]
    }
   ],
   "source": [
    "df_cnae_distribuicao: DataFrame = df.select(\n",
    "    df.cnae_fiscal.alias(\"CNAE_PRINCIPAL\"), \n",
    "    df.descricao_cnae.alias(\"DESCRICAO_CNAE_PRINCIPAL\"), \n",
    "    df.cnae_fiscal_secundaria.alias(\"CNAE_SECUNDARIO\")\n",
    "    ).filter(f.col(\"CNAE_SECUNDARIO\").isNotNull())\n",
    "\n",
    "df_cnae_distribuicao.show(truncate=False)"
   ]
  },
  {
   "cell_type": "markdown",
   "id": "fe0990b3",
   "metadata": {},
   "source": [
    "## 📊 7. Estatísticas Gerais"
   ]
  },
  {
   "cell_type": "markdown",
   "id": "0979049d",
   "metadata": {},
   "source": [
    "- Listar UFs distintas"
   ]
  },
  {
   "cell_type": "code",
   "execution_count": 49,
   "id": "b2175249",
   "metadata": {},
   "outputs": [
    {
     "name": "stderr",
     "output_type": "stream",
     "text": [
      "[Stage 301:==================================>                   (24 + 12) / 38]\r"
     ]
    },
    {
     "name": "stdout",
     "output_type": "stream",
     "text": [
      "+---+\n",
      "| uf|\n",
      "+---+\n",
      "| SP|\n",
      "| MG|\n",
      "| RJ|\n",
      "| PR|\n",
      "| RS|\n",
      "| BA|\n",
      "| SC|\n",
      "| GO|\n",
      "| PE|\n",
      "| CE|\n",
      "| MT|\n",
      "| ES|\n",
      "| PA|\n",
      "| DF|\n",
      "| MA|\n",
      "| PB|\n",
      "| MS|\n",
      "| RN|\n",
      "| AM|\n",
      "| PI|\n",
      "+---+\n",
      "only showing top 20 rows\n"
     ]
    },
    {
     "name": "stderr",
     "output_type": "stream",
     "text": [
      "                                                                                \r"
     ]
    }
   ],
   "source": [
    "df.select(\"uf\").distinct().show()"
   ]
  },
  {
   "cell_type": "markdown",
   "id": "4903f55a",
   "metadata": {},
   "source": [
    "- Contagem de empresas por UF"
   ]
  },
  {
   "cell_type": "code",
   "execution_count": 50,
   "id": "38743bc6",
   "metadata": {},
   "outputs": [
    {
     "name": "stdout",
     "output_type": "stream",
     "text": [
      "+---+------------+\n",
      "| uf|QTD_EMPRESAS|\n",
      "+---+------------+\n",
      "| SP|     1379898|\n",
      "| MG|      513667|\n",
      "| RJ|      382888|\n",
      "| RS|      344456|\n",
      "| PR|      326165|\n",
      "| BA|      237630|\n",
      "| SC|      231308|\n",
      "| GO|      169298|\n",
      "| PE|      141706|\n",
      "| CE|      134480|\n",
      "| ES|       96212|\n",
      "| PA|       93181|\n",
      "| MT|       91885|\n",
      "| DF|       79580|\n",
      "| MA|       72871|\n",
      "| MS|       63846|\n",
      "| PB|       59851|\n",
      "| RN|       53391|\n",
      "| AM|       51203|\n",
      "| AL|       45296|\n",
      "+---+------------+\n",
      "only showing top 20 rows\n"
     ]
    },
    {
     "name": "stderr",
     "output_type": "stream",
     "text": [
      "                                                                                \r"
     ]
    }
   ],
   "source": [
    "df_contagem_uf_empresas = df.groupBy(\"uf\").agg(\n",
    "    f.count(\"*\").alias(\"QTD_EMPRESAS\")\n",
    ").orderBy(\"QTD_EMPRESAS\", ascending=False)\n",
    "\n",
    "df_contagem_uf_empresas.show()"
   ]
  },
  {
   "cell_type": "markdown",
   "id": "420f4259",
   "metadata": {},
   "source": [
    "- Estatísticas descritivas (Ex: capital social)"
   ]
  },
  {
   "cell_type": "code",
   "execution_count": 51,
   "id": "4d06a6c4",
   "metadata": {},
   "outputs": [
    {
     "name": "stderr",
     "output_type": "stream",
     "text": [
      "[Stage 311:=========================================>             (29 + 9) / 38]\r"
     ]
    },
    {
     "name": "stdout",
     "output_type": "stream",
     "text": [
      "+-------+------------------+\n",
      "|summary|    capital_social|\n",
      "+-------+------------------+\n",
      "|  count|            486655|\n",
      "|   mean|   11290841.310325|\n",
      "| stddev|7.89383137213955E8|\n",
      "|    min|              0.00|\n",
      "|    max|   500000352182.73|\n",
      "+-------+------------------+\n",
      "\n"
     ]
    },
    {
     "name": "stderr",
     "output_type": "stream",
     "text": [
      "                                                                                \r"
     ]
    }
   ],
   "source": [
    "df.describe(\"capital_social\").show()"
   ]
  },
  {
   "cell_type": "markdown",
   "id": "32f6618e",
   "metadata": {},
   "source": [
    "## 🔍 8. Consultas Relevantes para Insights"
   ]
  },
  {
   "cell_type": "markdown",
   "id": "2661843d",
   "metadata": {},
   "source": [
    "- Top 10 Municípios com Mais Empresas"
   ]
  },
  {
   "cell_type": "code",
   "execution_count": null,
   "id": "82553b2b",
   "metadata": {},
   "outputs": [
    {
     "name": "stderr",
     "output_type": "stream",
     "text": [
      "[Stage 204:====================================>                 (26 + 12) / 38]\r"
     ]
    },
    {
     "name": "stdout",
     "output_type": "stream",
     "text": [
      "+--------------+---+------------+\n",
      "|     municipio| uf|Qtd Empresas|\n",
      "+--------------+---+------------+\n",
      "|     SAO PAULO| SP|      430363|\n",
      "|RIO DE JANEIRO| RJ|      168441|\n",
      "|BELO HORIZONTE| MG|       91174|\n",
      "|      BRASILIA| DF|       79580|\n",
      "|      CURITIBA| PR|       75285|\n",
      "|      SALVADOR| BA|       66713|\n",
      "|  PORTO ALEGRE| RS|       62352|\n",
      "|     FORTALEZA| CE|       62262|\n",
      "|       GOIANIA| GO|       51450|\n",
      "|        RECIFE| PE|       42108|\n",
      "+--------------+---+------------+\n",
      "only showing top 10 rows\n"
     ]
    },
    {
     "name": "stderr",
     "output_type": "stream",
     "text": [
      "                                                                                \r"
     ]
    }
   ],
   "source": [
    "df_municipio_por_uf: DataFrame = df.groupBy(df.municipio, df.uf).agg(\n",
    "    f.count(\"*\").alias(\"Qtd Empresas\"),\n",
    ").orderBy(\"Qtd Empresas\", ascending=False)\n",
    "\n",
    "df_municipio_por_uf.show(10)"
   ]
  },
  {
   "cell_type": "markdown",
   "id": "59a83f64",
   "metadata": {},
   "source": [
    "- Distribuição por Natureza Jurídica"
   ]
  },
  {
   "cell_type": "code",
   "execution_count": 58,
   "id": "f1a175bc",
   "metadata": {},
   "outputs": [
    {
     "name": "stderr",
     "output_type": "stream",
     "text": [
      "[Stage 336:=====================================================> (37 + 1) / 38]\r"
     ]
    },
    {
     "name": "stdout",
     "output_type": "stream",
     "text": [
      "+------------------------------------------------------------------------+---------------------+------------+\n",
      "|DESCRICAO_NATUREZA_JURIDICA                                             |COD_NATUREZA_JURIDICA|QTD_EMPRESAS|\n",
      "+------------------------------------------------------------------------+---------------------+------------+\n",
      "|Sociedade Empresária Limitada                                           |2062                 |182094      |\n",
      "|Empresário (Individual)                                                 |2135                 |156222      |\n",
      "|Candidato a Cargo Político Eletivo                                      |4090                 |44499       |\n",
      "|Produtor Rural (Pessoa Física)                                          |4120                 |33767       |\n",
      "|Associação Privada                                                      |3999                 |29262       |\n",
      "|Sociedade Simples Limitada                                              |2240                 |13566       |\n",
      "|Empresa Domiciliada no Exterior                                         |2216                 |5142        |\n",
      "|Condomínio Edilício                                                     |3085                 |4378        |\n",
      "|Sociedade Anônima Fechada                                               |2054                 |2886        |\n",
      "|Órgão de Direção Local de Partido Político                              |3271                 |1849        |\n",
      "|Sociedade Simples Pura                                                  |2232                 |1770        |\n",
      "|Fundação ou Associação Domiciliada no Exterior                          |3212                 |1694        |\n",
      "|Cooperativa                                                             |2143                 |1299        |\n",
      "|Empresa Individual de Responsabilidade Limitada (de Natureza Empresária)|2305                 |1163        |\n",
      "|Empresa Individual Imobiliária                                          |4014                 |1130        |\n",
      "|Clube/Fundo de Investimento                                             |2224                 |1103        |\n",
      "|Sociedade Anônima Aberta                                                |2046                 |683         |\n",
      "|Entidade Sindical                                                       |3131                 |650         |\n",
      "|Organização Religiosa                                                   |3220                 |613         |\n",
      "|Fundação Privada                                                        |3069                 |341         |\n",
      "+------------------------------------------------------------------------+---------------------+------------+\n",
      "only showing top 20 rows\n"
     ]
    },
    {
     "name": "stderr",
     "output_type": "stream",
     "text": [
      "                                                                                \r"
     ]
    }
   ],
   "source": [
    "df_empresas_por_nj = df.groupBy(\n",
    "    df.descricao_natureza_juridica,\n",
    "    df.codigo_natureza_juridica\n",
    ").agg(\n",
    "    f.count(\"*\").alias(\"QTD_EMPRESAS\")\n",
    ").filter(\n",
    "    df[\"codigo_natureza_juridica\"].isNotNull()\n",
    ").orderBy(\"QTD_EMPRESAS\", ascending=False)\n",
    "\n",
    "df_empresas_por_nj.select(\n",
    "    df.descricao_natureza_juridica.alias(\"DESCRICAO_NATUREZA_JURIDICA\"),\n",
    "    df.codigo_natureza_juridica.alias(\"COD_NATUREZA_JURIDICA\"),\n",
    "    \"QTD_EMPRESAS\"\n",
    ").show(truncate=False)"
   ]
  },
  {
   "cell_type": "markdown",
   "id": "20fecc89",
   "metadata": {},
   "source": [
    "## Delta Table - Controle de versões"
   ]
  },
  {
   "cell_type": "code",
   "execution_count": null,
   "id": "e5495f31",
   "metadata": {},
   "outputs": [
    {
     "name": "stdout",
     "output_type": "stream",
     "text": [
      "-RECORD 0------------------------------------------------------------------------------------------------------------------------------------\n",
      " version             | 0                                                                                                                     \n",
      " timestamp           | 2025-07-20 15:54:41.123                                                                                               \n",
      " userId              | NULL                                                                                                                  \n",
      " userName            | NULL                                                                                                                  \n",
      " operation           | WRITE                                                                                                                 \n",
      " operationParameters | {mode -> Overwrite, partitionBy -> [\"uf\"]}                                                                            \n",
      " job                 | NULL                                                                                                                  \n",
      " notebook            | NULL                                                                                                                  \n",
      " clusterId           | NULL                                                                                                                  \n",
      " readVersion         | NULL                                                                                                                  \n",
      " isolationLevel      | Serializable                                                                                                          \n",
      " isBlindAppend       | false                                                                                                                 \n",
      " operationMetrics    | {numFiles -> 1120, numRemovedFiles -> 0, numRemovedBytes -> 0, numOutputRows -> 4753435, numOutputBytes -> 401471786} \n",
      " userMetadata        | NULL                                                                                                                  \n",
      " engineInfo          | Apache-Spark/4.0.0 Delta-Lake/4.0.0                                                                                   \n",
      "\n"
     ]
    }
   ],
   "source": [
    "# Tabelas Trusted\n",
    "deltaTable_estabelecimentos: DeltaTable = DeltaTable.forPath(spark, \"../TRS/estabelecimentos\")\n",
    "deltaTable_empresas: DeltaTable = DeltaTable.forPath(spark, \"../TRS/empresas\")\n",
    "deltaTable_municipios_rf: DeltaTable = DeltaTable.forPath(spark, \"../TRS/municipios_rf\")\n",
    "deltaTable_cnae: DeltaTable = DeltaTable.forPath(spark, \"../TRS/cnae\")\n",
    "deltaTable_natureza_juridica: DeltaTable = DeltaTable.forPath(spark, \"../TRS/natureza_juridica\")\n",
    "deltaTable_simples_nacional: DeltaTable = DeltaTable.forPath(spark, \"../TRS/simples_nacional\")\n",
    "\n",
    "# Tabela Fato\n",
    "deltaTable.history().show(vertical=True, truncate=False)"
   ]
  },
  {
   "cell_type": "code",
   "execution_count": 51,
   "id": "0f507d7b",
   "metadata": {},
   "outputs": [
    {
     "name": "stdout",
     "output_type": "stream",
     "text": [
      "=-=-=-=-=-=-=-=-=-=-=-=-=-=-=-=-=-=-=-=- >> HISTÓRICO ESTABELECIMENTOS << =-=-=-=-=-=-=-=-=-=-=-=-=-=-=-=-=-=-=-=-\n",
      "-RECORD 0------------------------------------------------------------------------------------------------------------------------------------------------------------------------------------------------------------------------------------------------------------------------------------------------------------------------------------------------------------------------\n",
      " version             | 17                                                                                                                                                                                                                                                                                                                                                        \n",
      " timestamp           | 2025-07-20 14:31:32.288                                                                                                                                                                                                                                                                                                                                   \n",
      " userId              | NULL                                                                                                                                                                                                                                                                                                                                                      \n",
      " userName            | NULL                                                                                                                                                                                                                                                                                                                                                      \n",
      " operation           | UPDATE                                                                                                                                                                                                                                                                                                                                                    \n",
      " operationParameters | {predicate -> [\"(((cnpj_base#0 = 29744778) AND (cnpj_ordem#1 = 4750)) AND (cnpj_dv#2 = 39))\"]}                                                                                                                                                                                                                                                            \n",
      " job                 | NULL                                                                                                                                                                                                                                                                                                                                                      \n",
      " notebook            | NULL                                                                                                                                                                                                                                                                                                                                                      \n",
      " clusterId           | NULL                                                                                                                                                                                                                                                                                                                                                      \n",
      " readVersion         | 16                                                                                                                                                                                                                                                                                                                                                        \n",
      " isolationLevel      | Serializable                                                                                                                                                                                                                                                                                                                                              \n",
      " isBlindAppend       | false                                                                                                                                                                                                                                                                                                                                                     \n",
      " operationMetrics    | {numRemovedFiles -> 1, numRemovedBytes -> 784205, numCopiedRows -> 13079, numDeletionVectorsAdded -> 0, executionTimeMs -> 3476, numDeletionVectorsUpdated -> 0, scanTimeMs -> 2315, numAddedFiles -> 1, numUpdatedRows -> 1, numDeletionVectorsRemoved -> 0, numAddedChangeFiles -> 0, numAddedBytes -> 784204, rewriteTimeMs -> 1161}                   \n",
      " userMetadata        | NULL                                                                                                                                                                                                                                                                                                                                                      \n",
      " engineInfo          | Apache-Spark/4.0.0 Delta-Lake/4.0.0                                                                                                                                                                                                                                                                                                                       \n",
      "-RECORD 1------------------------------------------------------------------------------------------------------------------------------------------------------------------------------------------------------------------------------------------------------------------------------------------------------------------------------------------------------------------------\n",
      " version             | 16                                                                                                                                                                                                                                                                                                                                                        \n",
      " timestamp           | 2025-07-20 13:49:29.553                                                                                                                                                                                                                                                                                                                                   \n",
      " userId              | NULL                                                                                                                                                                                                                                                                                                                                                      \n",
      " userName            | NULL                                                                                                                                                                                                                                                                                                                                                      \n",
      " operation           | UPDATE                                                                                                                                                                                                                                                                                                                                                    \n",
      " operationParameters | {predicate -> [\"isnull(telefone2#24)\"]}                                                                                                                                                                                                                                                                                                                   \n",
      " job                 | NULL                                                                                                                                                                                                                                                                                                                                                      \n",
      " notebook            | NULL                                                                                                                                                                                                                                                                                                                                                      \n",
      " clusterId           | NULL                                                                                                                                                                                                                                                                                                                                                      \n",
      " readVersion         | 15                                                                                                                                                                                                                                                                                                                                                        \n",
      " isolationLevel      | Serializable                                                                                                                                                                                                                                                                                                                                              \n",
      " isBlindAppend       | false                                                                                                                                                                                                                                                                                                                                                     \n",
      " operationMetrics    | {numRemovedFiles -> 63, numRemovedBytes -> 279201984, numCopiedRows -> 0, numDeletionVectorsAdded -> 0, executionTimeMs -> 44631, numDeletionVectorsUpdated -> 0, scanTimeMs -> 3257, numAddedFiles -> 63, numUpdatedRows -> 4753435, numDeletionVectorsRemoved -> 0, numAddedChangeFiles -> 0, numAddedBytes -> 280246330, rewriteTimeMs -> 41372}       \n",
      " userMetadata        | NULL                                                                                                                                                                                                                                                                                                                                                      \n",
      " engineInfo          | Apache-Spark/4.0.0 Delta-Lake/4.0.0                                                                                                                                                                                                                                                                                                                       \n",
      "-RECORD 2------------------------------------------------------------------------------------------------------------------------------------------------------------------------------------------------------------------------------------------------------------------------------------------------------------------------------------------------------------------------\n",
      " version             | 15                                                                                                                                                                                                                                                                                                                                                        \n",
      " timestamp           | 2025-07-20 13:08:10.29                                                                                                                                                                                                                                                                                                                                    \n",
      " userId              | NULL                                                                                                                                                                                                                                                                                                                                                      \n",
      " userName            | NULL                                                                                                                                                                                                                                                                                                                                                      \n",
      " operation           | UPDATE                                                                                                                                                                                                                                                                                                                                                    \n",
      " operationParameters | {predicate -> [\"isnull(telefone2#10249)\"]}                                                                                                                                                                                                                                                                                                                \n",
      " job                 | NULL                                                                                                                                                                                                                                                                                                                                                      \n",
      " notebook            | NULL                                                                                                                                                                                                                                                                                                                                                      \n",
      " clusterId           | NULL                                                                                                                                                                                                                                                                                                                                                      \n",
      " readVersion         | 14                                                                                                                                                                                                                                                                                                                                                        \n",
      " isolationLevel      | Serializable                                                                                                                                                                                                                                                                                                                                              \n",
      " isBlindAppend       | false                                                                                                                                                                                                                                                                                                                                                     \n",
      " operationMetrics    | {numRemovedFiles -> 63, numRemovedBytes -> 278211285, numCopiedRows -> 0, numDeletionVectorsAdded -> 0, executionTimeMs -> 37229, numDeletionVectorsUpdated -> 0, scanTimeMs -> 1354, numAddedFiles -> 63, numUpdatedRows -> 4753435, numDeletionVectorsRemoved -> 0, numAddedChangeFiles -> 0, numAddedBytes -> 279201984, rewriteTimeMs -> 35874}       \n",
      " userMetadata        | NULL                                                                                                                                                                                                                                                                                                                                                      \n",
      " engineInfo          | Apache-Spark/4.0.0 Delta-Lake/4.0.0                                                                                                                                                                                                                                                                                                                       \n",
      "-RECORD 3------------------------------------------------------------------------------------------------------------------------------------------------------------------------------------------------------------------------------------------------------------------------------------------------------------------------------------------------------------------------\n",
      " version             | 14                                                                                                                                                                                                                                                                                                                                                        \n",
      " timestamp           | 2025-07-20 12:46:10.816                                                                                                                                                                                                                                                                                                                                   \n",
      " userId              | NULL                                                                                                                                                                                                                                                                                                                                                      \n",
      " userName            | NULL                                                                                                                                                                                                                                                                                                                                                      \n",
      " operation           | UPDATE                                                                                                                                                                                                                                                                                                                                                    \n",
      " operationParameters | {predicate -> [\"(((cnpj_base#0 = 44423107) AND (cnpj_ordem#1 = 0001)) AND (cnpj_dv#2 = 18))\"]}                                                                                                                                                                                                                                                            \n",
      " job                 | NULL                                                                                                                                                                                                                                                                                                                                                      \n",
      " notebook            | NULL                                                                                                                                                                                                                                                                                                                                                      \n",
      " clusterId           | NULL                                                                                                                                                                                                                                                                                                                                                      \n",
      " readVersion         | 13                                                                                                                                                                                                                                                                                                                                                        \n",
      " isolationLevel      | Serializable                                                                                                                                                                                                                                                                                                                                              \n",
      " isBlindAppend       | false                                                                                                                                                                                                                                                                                                                                                     \n",
      " operationMetrics    | {numRemovedFiles -> 1, numRemovedBytes -> 85181092, numCopiedRows -> 1275640, numDeletionVectorsAdded -> 0, executionTimeMs -> 21335, numDeletionVectorsUpdated -> 0, scanTimeMs -> 2540, numAddedFiles -> 1, numUpdatedRows -> 1, numDeletionVectorsRemoved -> 0, numAddedChangeFiles -> 0, numAddedBytes -> 85188811, rewriteTimeMs -> 18794}           \n",
      " userMetadata        | NULL                                                                                                                                                                                                                                                                                                                                                      \n",
      " engineInfo          | Apache-Spark/4.0.0 Delta-Lake/4.0.0                                                                                                                                                                                                                                                                                                                       \n",
      "-RECORD 4------------------------------------------------------------------------------------------------------------------------------------------------------------------------------------------------------------------------------------------------------------------------------------------------------------------------------------------------------------------------\n",
      " version             | 13                                                                                                                                                                                                                                                                                                                                                        \n",
      " timestamp           | 2025-07-20 12:40:32.941                                                                                                                                                                                                                                                                                                                                   \n",
      " userId              | NULL                                                                                                                                                                                                                                                                                                                                                      \n",
      " userName            | NULL                                                                                                                                                                                                                                                                                                                                                      \n",
      " operation           | UPDATE                                                                                                                                                                                                                                                                                                                                                    \n",
      " operationParameters | {predicate -> [\"isnull(telefone1#22)\"]}                                                                                                                                                                                                                                                                                                                   \n",
      " job                 | NULL                                                                                                                                                                                                                                                                                                                                                      \n",
      " notebook            | NULL                                                                                                                                                                                                                                                                                                                                                      \n",
      " clusterId           | NULL                                                                                                                                                                                                                                                                                                                                                      \n",
      " readVersion         | 12                                                                                                                                                                                                                                                                                                                                                        \n",
      " isolationLevel      | Serializable                                                                                                                                                                                                                                                                                                                                              \n",
      " isBlindAppend       | false                                                                                                                                                                                                                                                                                                                                                     \n",
      " operationMetrics    | {numRemovedFiles -> 63, numRemovedBytes -> 280273467, numCopiedRows -> 0, numDeletionVectorsAdded -> 0, executionTimeMs -> 37302, numDeletionVectorsUpdated -> 0, scanTimeMs -> 3567, numAddedFiles -> 63, numUpdatedRows -> 4753435, numDeletionVectorsRemoved -> 0, numAddedChangeFiles -> 0, numAddedBytes -> 278203566, rewriteTimeMs -> 33734}       \n",
      " userMetadata        | NULL                                                                                                                                                                                                                                                                                                                                                      \n",
      " engineInfo          | Apache-Spark/4.0.0 Delta-Lake/4.0.0                                                                                                                                                                                                                                                                                                                       \n",
      "-RECORD 5------------------------------------------------------------------------------------------------------------------------------------------------------------------------------------------------------------------------------------------------------------------------------------------------------------------------------------------------------------------------\n",
      " version             | 12                                                                                                                                                                                                                                                                                                                                                        \n",
      " timestamp           | 2025-07-20 12:39:22.309                                                                                                                                                                                                                                                                                                                                   \n",
      " userId              | NULL                                                                                                                                                                                                                                                                                                                                                      \n",
      " userName            | NULL                                                                                                                                                                                                                                                                                                                                                      \n",
      " operation           | UPDATE                                                                                                                                                                                                                                                                                                                                                    \n",
      " operationParameters | {predicate -> [\"isnull(telefone2#24)\"]}                                                                                                                                                                                                                                                                                                                   \n",
      " job                 | NULL                                                                                                                                                                                                                                                                                                                                                      \n",
      " notebook            | NULL                                                                                                                                                                                                                                                                                                                                                      \n",
      " clusterId           | NULL                                                                                                                                                                                                                                                                                                                                                      \n",
      " readVersion         | 11                                                                                                                                                                                                                                                                                                                                                        \n",
      " isolationLevel      | Serializable                                                                                                                                                                                                                                                                                                                                              \n",
      " isBlindAppend       | false                                                                                                                                                                                                                                                                                                                                                     \n",
      " operationMetrics    | {numRemovedFiles -> 66, numRemovedBytes -> 280434833, numCopiedRows -> 0, numDeletionVectorsAdded -> 0, executionTimeMs -> 44746, numDeletionVectorsUpdated -> 0, scanTimeMs -> 5242, numAddedFiles -> 63, numUpdatedRows -> 4753435, numDeletionVectorsRemoved -> 0, numAddedChangeFiles -> 0, numAddedBytes -> 280273467, rewriteTimeMs -> 39504}       \n",
      " userMetadata        | NULL                                                                                                                                                                                                                                                                                                                                                      \n",
      " engineInfo          | Apache-Spark/4.0.0 Delta-Lake/4.0.0                                                                                                                                                                                                                                                                                                                       \n",
      "-RECORD 6------------------------------------------------------------------------------------------------------------------------------------------------------------------------------------------------------------------------------------------------------------------------------------------------------------------------------------------------------------------------\n",
      " version             | 11                                                                                                                                                                                                                                                                                                                                                        \n",
      " timestamp           | 2025-07-20 12:13:52.478                                                                                                                                                                                                                                                                                                                                   \n",
      " userId              | NULL                                                                                                                                                                                                                                                                                                                                                      \n",
      " userName            | NULL                                                                                                                                                                                                                                                                                                                                                      \n",
      " operation           | UPDATE                                                                                                                                                                                                                                                                                                                                                    \n",
      " operationParameters | {predicate -> [\"NOT (length(telefone2#24) = 9)\"]}                                                                                                                                                                                                                                                                                                         \n",
      " job                 | NULL                                                                                                                                                                                                                                                                                                                                                      \n",
      " notebook            | NULL                                                                                                                                                                                                                                                                                                                                                      \n",
      " clusterId           | NULL                                                                                                                                                                                                                                                                                                                                                      \n",
      " readVersion         | 10                                                                                                                                                                                                                                                                                                                                                        \n",
      " isolationLevel      | Serializable                                                                                                                                                                                                                                                                                                                                              \n",
      " isBlindAppend       | false                                                                                                                                                                                                                                                                                                                                                     \n",
      " operationMetrics    | {numRemovedFiles -> 64, numRemovedBytes -> 282994666, numCopiedRows -> 4306234, numDeletionVectorsAdded -> 0, executionTimeMs -> 43328, numDeletionVectorsUpdated -> 0, scanTimeMs -> 2195, numAddedFiles -> 61, numUpdatedRows -> 447196, numDeletionVectorsRemoved -> 0, numAddedChangeFiles -> 0, numAddedBytes -> 280394977, rewriteTimeMs -> 41130}  \n",
      " userMetadata        | NULL                                                                                                                                                                                                                                                                                                                                                      \n",
      " engineInfo          | Apache-Spark/4.0.0 Delta-Lake/4.0.0                                                                                                                                                                                                                                                                                                                       \n",
      "-RECORD 7------------------------------------------------------------------------------------------------------------------------------------------------------------------------------------------------------------------------------------------------------------------------------------------------------------------------------------------------------------------------\n",
      " version             | 10                                                                                                                                                                                                                                                                                                                                                        \n",
      " timestamp           | 2025-07-20 01:03:53.528                                                                                                                                                                                                                                                                                                                                   \n",
      " userId              | NULL                                                                                                                                                                                                                                                                                                                                                      \n",
      " userName            | NULL                                                                                                                                                                                                                                                                                                                                                      \n",
      " operation           | UPDATE                                                                                                                                                                                                                                                                                                                                                    \n",
      " operationParameters | {predicate -> [\"NOT (length(telefone1#8135) = 9)\"]}                                                                                                                                                                                                                                                                                                       \n",
      " job                 | NULL                                                                                                                                                                                                                                                                                                                                                      \n",
      " notebook            | NULL                                                                                                                                                                                                                                                                                                                                                      \n",
      " clusterId           | NULL                                                                                                                                                                                                                                                                                                                                                      \n",
      " readVersion         | 9                                                                                                                                                                                                                                                                                                                                                         \n",
      " isolationLevel      | Serializable                                                                                                                                                                                                                                                                                                                                              \n",
      " isBlindAppend       | false                                                                                                                                                                                                                                                                                                                                                     \n",
      " operationMetrics    | {numRemovedFiles -> 72, numRemovedBytes -> 308629244, numCopiedRows -> 1237145, numDeletionVectorsAdded -> 0, executionTimeMs -> 69924, numDeletionVectorsUpdated -> 0, scanTimeMs -> 2940, numAddedFiles -> 64, numUpdatedRows -> 3516285, numDeletionVectorsRemoved -> 0, numAddedChangeFiles -> 0, numAddedBytes -> 282994666, rewriteTimeMs -> 66983} \n",
      " userMetadata        | NULL                                                                                                                                                                                                                                                                                                                                                      \n",
      " engineInfo          | Apache-Spark/4.0.0 Delta-Lake/4.0.0                                                                                                                                                                                                                                                                                                                       \n",
      "-RECORD 8------------------------------------------------------------------------------------------------------------------------------------------------------------------------------------------------------------------------------------------------------------------------------------------------------------------------------------------------------------------------\n",
      " version             | 9                                                                                                                                                                                                                                                                                                                                                         \n",
      " timestamp           | 2025-07-20 01:02:04.359                                                                                                                                                                                                                                                                                                                                   \n",
      " userId              | NULL                                                                                                                                                                                                                                                                                                                                                      \n",
      " userName            | NULL                                                                                                                                                                                                                                                                                                                                                      \n",
      " operation           | UPDATE                                                                                                                                                                                                                                                                                                                                                    \n",
      " operationParameters | {predicate -> [\"NOT (length(fax#8139) = 8)\"]}                                                                                                                                                                                                                                                                                                             \n",
      " job                 | NULL                                                                                                                                                                                                                                                                                                                                                      \n",
      " notebook            | NULL                                                                                                                                                                                                                                                                                                                                                      \n",
      " clusterId           | NULL                                                                                                                                                                                                                                                                                                                                                      \n",
      " readVersion         | 8                                                                                                                                                                                                                                                                                                                                                         \n",
      " isolationLevel      | Serializable                                                                                                                                                                                                                                                                                                                                              \n",
      " isBlindAppend       | false                                                                                                                                                                                                                                                                                                                                                     \n",
      " operationMetrics    | {numRemovedFiles -> 77, numRemovedBytes -> 307150497, numCopiedRows -> 4550606, numDeletionVectorsAdded -> 0, executionTimeMs -> 75772, numDeletionVectorsUpdated -> 0, scanTimeMs -> 2184, numAddedFiles -> 70, numUpdatedRows -> 189410, numDeletionVectorsRemoved -> 0, numAddedChangeFiles -> 0, numAddedBytes -> 307977997, rewriteTimeMs -> 73588}  \n",
      " userMetadata        | NULL                                                                                                                                                                                                                                                                                                                                                      \n",
      " engineInfo          | Apache-Spark/4.0.0 Delta-Lake/4.0.0                                                                                                                                                                                                                                                                                                                       \n",
      "-RECORD 9------------------------------------------------------------------------------------------------------------------------------------------------------------------------------------------------------------------------------------------------------------------------------------------------------------------------------------------------------------------------\n",
      " version             | 8                                                                                                                                                                                                                                                                                                                                                         \n",
      " timestamp           | 2025-07-20 01:00:33.314                                                                                                                                                                                                                                                                                                                                   \n",
      " userId              | NULL                                                                                                                                                                                                                                                                                                                                                      \n",
      " userName            | NULL                                                                                                                                                                                                                                                                                                                                                      \n",
      " operation           | RESTORE                                                                                                                                                                                                                                                                                                                                                   \n",
      " operationParameters | {version -> 6, timestamp -> NULL}                                                                                                                                                                                                                                                                                                                         \n",
      " job                 | NULL                                                                                                                                                                                                                                                                                                                                                      \n",
      " notebook            | NULL                                                                                                                                                                                                                                                                                                                                                      \n",
      " clusterId           | NULL                                                                                                                                                                                                                                                                                                                                                      \n",
      " readVersion         | 7                                                                                                                                                                                                                                                                                                                                                         \n",
      " isolationLevel      | Serializable                                                                                                                                                                                                                                                                                                                                              \n",
      " isBlindAppend       | false                                                                                                                                                                                                                                                                                                                                                     \n",
      " operationMetrics    | {numRestoredFiles -> 79, removedFilesSize -> 305978928, numRemovedFiles -> 71, restoredFilesSize -> 307801744, numOfFilesAfterRestore -> 84, tableSizeAfterRestore -> 307841600}                                                                                                                                                                          \n",
      " userMetadata        | NULL                                                                                                                                                                                                                                                                                                                                                      \n",
      " engineInfo          | Apache-Spark/4.0.0 Delta-Lake/4.0.0                                                                                                                                                                                                                                                                                                                       \n",
      "-RECORD 10-----------------------------------------------------------------------------------------------------------------------------------------------------------------------------------------------------------------------------------------------------------------------------------------------------------------------------------------------------------------------\n",
      " version             | 7                                                                                                                                                                                                                                                                                                                                                         \n",
      " timestamp           | 2025-07-20 00:58:46.93                                                                                                                                                                                                                                                                                                                                    \n",
      " userId              | NULL                                                                                                                                                                                                                                                                                                                                                      \n",
      " userName            | NULL                                                                                                                                                                                                                                                                                                                                                      \n",
      " operation           | UPDATE                                                                                                                                                                                                                                                                                                                                                    \n",
      " operationParameters | {predicate -> [\"NOT (length(fax#8139) = 4)\"]}                                                                                                                                                                                                                                                                                                             \n",
      " job                 | NULL                                                                                                                                                                                                                                                                                                                                                      \n",
      " notebook            | NULL                                                                                                                                                                                                                                                                                                                                                      \n",
      " clusterId           | NULL                                                                                                                                                                                                                                                                                                                                                      \n",
      " readVersion         | 6                                                                                                                                                                                                                                                                                                                                                         \n",
      " isolationLevel      | Serializable                                                                                                                                                                                                                                                                                                                                              \n",
      " isBlindAppend       | false                                                                                                                                                                                                                                                                                                                                                     \n",
      " operationMetrics    | {numRemovedFiles -> 79, numRemovedBytes -> 307801744, numCopiedRows -> 4167067, numDeletionVectorsAdded -> 0, executionTimeMs -> 64366, numDeletionVectorsUpdated -> 0, scanTimeMs -> 1197, numAddedFiles -> 71, numUpdatedRows -> 586363, numDeletionVectorsRemoved -> 0, numAddedChangeFiles -> 0, numAddedBytes -> 305978928, rewriteTimeMs -> 63168}  \n",
      " userMetadata        | NULL                                                                                                                                                                                                                                                                                                                                                      \n",
      " engineInfo          | Apache-Spark/4.0.0 Delta-Lake/4.0.0                                                                                                                                                                                                                                                                                                                       \n",
      "-RECORD 11-----------------------------------------------------------------------------------------------------------------------------------------------------------------------------------------------------------------------------------------------------------------------------------------------------------------------------------------------------------------------\n",
      " version             | 6                                                                                                                                                                                                                                                                                                                                                         \n",
      " timestamp           | 2025-07-20 00:56:26.136                                                                                                                                                                                                                                                                                                                                   \n",
      " userId              | NULL                                                                                                                                                                                                                                                                                                                                                      \n",
      " userName            | NULL                                                                                                                                                                                                                                                                                                                                                      \n",
      " operation           | UPDATE                                                                                                                                                                                                                                                                                                                                                    \n",
      " operationParameters | {predicate -> [\"(((cnpj_base#8113 = 84587419) AND (cnpj_ordem#8114 = 0001)) AND (cnpj_dv#8115 = 81))\"]}                                                                                                                                                                                                                                                   \n",
      " job                 | NULL                                                                                                                                                                                                                                                                                                                                                      \n",
      " notebook            | NULL                                                                                                                                                                                                                                                                                                                                                      \n",
      " clusterId           | NULL                                                                                                                                                                                                                                                                                                                                                      \n",
      " readVersion         | 5                                                                                                                                                                                                                                                                                                                                                         \n",
      " isolationLevel      | Serializable                                                                                                                                                                                                                                                                                                                                              \n",
      " isBlindAppend       | false                                                                                                                                                                                                                                                                                                                                                     \n",
      " operationMetrics    | {numRemovedFiles -> 1, numRemovedBytes -> 7803, numCopiedRows -> 0, numDeletionVectorsAdded -> 0, executionTimeMs -> 1348, numDeletionVectorsUpdated -> 0, scanTimeMs -> 999, numAddedFiles -> 1, numUpdatedRows -> 1, numDeletionVectorsRemoved -> 0, numAddedChangeFiles -> 0, numAddedBytes -> 7795, rewriteTimeMs -> 349}                             \n",
      " userMetadata        | NULL                                                                                                                                                                                                                                                                                                                                                      \n",
      " engineInfo          | Apache-Spark/4.0.0 Delta-Lake/4.0.0                                                                                                                                                                                                                                                                                                                       \n",
      "-RECORD 12-----------------------------------------------------------------------------------------------------------------------------------------------------------------------------------------------------------------------------------------------------------------------------------------------------------------------------------------------------------------------\n",
      " version             | 5                                                                                                                                                                                                                                                                                                                                                         \n",
      " timestamp           | 2025-07-20 00:55:29.602                                                                                                                                                                                                                                                                                                                                   \n",
      " userId              | NULL                                                                                                                                                                                                                                                                                                                                                      \n",
      " userName            | NULL                                                                                                                                                                                                                                                                                                                                                      \n",
      " operation           | UPDATE                                                                                                                                                                                                                                                                                                                                                    \n",
      " operationParameters | {predicate -> [\"(((cnpj_base#8113 = 02162757) AND (cnpj_ordem#8114 = 0001)) AND (cnpj_dv#8115 = 07))\"]}                                                                                                                                                                                                                                                   \n",
      " job                 | NULL                                                                                                                                                                                                                                                                                                                                                      \n",
      " notebook            | NULL                                                                                                                                                                                                                                                                                                                                                      \n",
      " clusterId           | NULL                                                                                                                                                                                                                                                                                                                                                      \n",
      " readVersion         | 4                                                                                                                                                                                                                                                                                                                                                         \n",
      " isolationLevel      | Serializable                                                                                                                                                                                                                                                                                                                                              \n",
      " isBlindAppend       | false                                                                                                                                                                                                                                                                                                                                                     \n",
      " operationMetrics    | {numRemovedFiles -> 1, numRemovedBytes -> 7859, numCopiedRows -> 0, numDeletionVectorsAdded -> 0, executionTimeMs -> 1465, numDeletionVectorsUpdated -> 0, scanTimeMs -> 1179, numAddedFiles -> 1, numUpdatedRows -> 1, numDeletionVectorsRemoved -> 0, numAddedChangeFiles -> 0, numAddedBytes -> 7852, rewriteTimeMs -> 285}                            \n",
      " userMetadata        | NULL                                                                                                                                                                                                                                                                                                                                                      \n",
      " engineInfo          | Apache-Spark/4.0.0 Delta-Lake/4.0.0                                                                                                                                                                                                                                                                                                                       \n",
      "-RECORD 13-----------------------------------------------------------------------------------------------------------------------------------------------------------------------------------------------------------------------------------------------------------------------------------------------------------------------------------------------------------------------\n",
      " version             | 4                                                                                                                                                                                                                                                                                                                                                         \n",
      " timestamp           | 2025-07-20 00:53:46.688                                                                                                                                                                                                                                                                                                                                   \n",
      " userId              | NULL                                                                                                                                                                                                                                                                                                                                                      \n",
      " userName            | NULL                                                                                                                                                                                                                                                                                                                                                      \n",
      " operation           | UPDATE                                                                                                                                                                                                                                                                                                                                                    \n",
      " operationParameters | {predicate -> [\"(((cnpj_base#8113 = 01907068) AND (cnpj_ordem#8114 = 0001)) AND (cnpj_dv#8115 = 11))\"]}                                                                                                                                                                                                                                                   \n",
      " job                 | NULL                                                                                                                                                                                                                                                                                                                                                      \n",
      " notebook            | NULL                                                                                                                                                                                                                                                                                                                                                      \n",
      " clusterId           | NULL                                                                                                                                                                                                                                                                                                                                                      \n",
      " readVersion         | 3                                                                                                                                                                                                                                                                                                                                                         \n",
      " isolationLevel      | Serializable                                                                                                                                                                                                                                                                                                                                              \n",
      " isBlindAppend       | false                                                                                                                                                                                                                                                                                                                                                     \n",
      " operationMetrics    | {numRemovedFiles -> 1, numRemovedBytes -> 7968, numCopiedRows -> 0, numDeletionVectorsAdded -> 0, executionTimeMs -> 1544, numDeletionVectorsUpdated -> 0, scanTimeMs -> 1255, numAddedFiles -> 1, numUpdatedRows -> 1, numDeletionVectorsRemoved -> 0, numAddedChangeFiles -> 0, numAddedBytes -> 7959, rewriteTimeMs -> 288}                            \n",
      " userMetadata        | NULL                                                                                                                                                                                                                                                                                                                                                      \n",
      " engineInfo          | Apache-Spark/4.0.0 Delta-Lake/4.0.0                                                                                                                                                                                                                                                                                                                       \n",
      "-RECORD 14-----------------------------------------------------------------------------------------------------------------------------------------------------------------------------------------------------------------------------------------------------------------------------------------------------------------------------------------------------------------------\n",
      " version             | 3                                                                                                                                                                                                                                                                                                                                                         \n",
      " timestamp           | 2025-07-20 00:52:22.735                                                                                                                                                                                                                                                                                                                                   \n",
      " userId              | NULL                                                                                                                                                                                                                                                                                                                                                      \n",
      " userName            | NULL                                                                                                                                                                                                                                                                                                                                                      \n",
      " operation           | UPDATE                                                                                                                                                                                                                                                                                                                                                    \n",
      " operationParameters | {predicate -> [\"(((cnpj_base#8113 = 65437816) AND (cnpj_ordem#8114 = 0001)) AND (cnpj_dv#8115 = 22))\"]}                                                                                                                                                                                                                                                   \n",
      " job                 | NULL                                                                                                                                                                                                                                                                                                                                                      \n",
      " notebook            | NULL                                                                                                                                                                                                                                                                                                                                                      \n",
      " clusterId           | NULL                                                                                                                                                                                                                                                                                                                                                      \n",
      " readVersion         | 2                                                                                                                                                                                                                                                                                                                                                         \n",
      " isolationLevel      | Serializable                                                                                                                                                                                                                                                                                                                                              \n",
      " isBlindAppend       | false                                                                                                                                                                                                                                                                                                                                                     \n",
      " operationMetrics    | {numRemovedFiles -> 1, numRemovedBytes -> 8090, numCopiedRows -> 0, numDeletionVectorsAdded -> 0, executionTimeMs -> 1551, numDeletionVectorsUpdated -> 0, scanTimeMs -> 1125, numAddedFiles -> 1, numUpdatedRows -> 1, numDeletionVectorsRemoved -> 0, numAddedChangeFiles -> 0, numAddedBytes -> 8115, rewriteTimeMs -> 425}                            \n",
      " userMetadata        | NULL                                                                                                                                                                                                                                                                                                                                                      \n",
      " engineInfo          | Apache-Spark/4.0.0 Delta-Lake/4.0.0                                                                                                                                                                                                                                                                                                                       \n",
      "-RECORD 15-----------------------------------------------------------------------------------------------------------------------------------------------------------------------------------------------------------------------------------------------------------------------------------------------------------------------------------------------------------------------\n",
      " version             | 2                                                                                                                                                                                                                                                                                                                                                         \n",
      " timestamp           | 2025-07-20 00:48:58.7                                                                                                                                                                                                                                                                                                                                     \n",
      " userId              | NULL                                                                                                                                                                                                                                                                                                                                                      \n",
      " userName            | NULL                                                                                                                                                                                                                                                                                                                                                      \n",
      " operation           | UPDATE                                                                                                                                                                                                                                                                                                                                                    \n",
      " operationParameters | {predicate -> [\"(((cnpj_base#8113 = 37116985) AND (cnpj_ordem#8114 = 0069)) AND (cnpj_dv#8115 = 13))\"]}                                                                                                                                                                                                                                                   \n",
      " job                 | NULL                                                                                                                                                                                                                                                                                                                                                      \n",
      " notebook            | NULL                                                                                                                                                                                                                                                                                                                                                      \n",
      " clusterId           | NULL                                                                                                                                                                                                                                                                                                                                                      \n",
      " readVersion         | 1                                                                                                                                                                                                                                                                                                                                                         \n",
      " isolationLevel      | Serializable                                                                                                                                                                                                                                                                                                                                              \n",
      " isBlindAppend       | false                                                                                                                                                                                                                                                                                                                                                     \n",
      " operationMetrics    | {numRemovedFiles -> 1, numRemovedBytes -> 8068, numCopiedRows -> 0, numDeletionVectorsAdded -> 0, executionTimeMs -> 2251, numDeletionVectorsUpdated -> 0, scanTimeMs -> 1838, numAddedFiles -> 1, numUpdatedRows -> 1, numDeletionVectorsRemoved -> 0, numAddedChangeFiles -> 0, numAddedBytes -> 8135, rewriteTimeMs -> 409}                            \n",
      " userMetadata        | NULL                                                                                                                                                                                                                                                                                                                                                      \n",
      " engineInfo          | Apache-Spark/4.0.0 Delta-Lake/4.0.0                                                                                                                                                                                                                                                                                                                       \n",
      "-RECORD 16-----------------------------------------------------------------------------------------------------------------------------------------------------------------------------------------------------------------------------------------------------------------------------------------------------------------------------------------------------------------------\n",
      " version             | 1                                                                                                                                                                                                                                                                                                                                                         \n",
      " timestamp           | 2025-07-20 00:44:08.146                                                                                                                                                                                                                                                                                                                                   \n",
      " userId              | NULL                                                                                                                                                                                                                                                                                                                                                      \n",
      " userName            | NULL                                                                                                                                                                                                                                                                                                                                                      \n",
      " operation           | WRITE                                                                                                                                                                                                                                                                                                                                                     \n",
      " operationParameters | {mode -> Overwrite, partitionBy -> [\"uf\"]}                                                                                                                                                                                                                                                                                                                \n",
      " job                 | NULL                                                                                                                                                                                                                                                                                                                                                      \n",
      " notebook            | NULL                                                                                                                                                                                                                                                                                                                                                      \n",
      " clusterId           | NULL                                                                                                                                                                                                                                                                                                                                                      \n",
      " readVersion         | 0                                                                                                                                                                                                                                                                                                                                                         \n",
      " isolationLevel      | Serializable                                                                                                                                                                                                                                                                                                                                              \n",
      " isBlindAppend       | false                                                                                                                                                                                                                                                                                                                                                     \n",
      " operationMetrics    | {numFiles -> 84, numRemovedFiles -> 341, numRemovedBytes -> 311845087, numOutputRows -> 4753435, numOutputBytes -> 307841532}                                                                                                                                                                                                                             \n",
      " userMetadata        | NULL                                                                                                                                                                                                                                                                                                                                                      \n",
      " engineInfo          | Apache-Spark/4.0.0 Delta-Lake/4.0.0                                                                                                                                                                                                                                                                                                                       \n",
      "-RECORD 17-----------------------------------------------------------------------------------------------------------------------------------------------------------------------------------------------------------------------------------------------------------------------------------------------------------------------------------------------------------------------\n",
      " version             | 0                                                                                                                                                                                                                                                                                                                                                         \n",
      " timestamp           | 2025-07-20 00:40:52.344                                                                                                                                                                                                                                                                                                                                   \n",
      " userId              | NULL                                                                                                                                                                                                                                                                                                                                                      \n",
      " userName            | NULL                                                                                                                                                                                                                                                                                                                                                      \n",
      " operation           | WRITE                                                                                                                                                                                                                                                                                                                                                     \n",
      " operationParameters | {mode -> Overwrite, partitionBy -> [\"uf\"]}                                                                                                                                                                                                                                                                                                                \n",
      " job                 | NULL                                                                                                                                                                                                                                                                                                                                                      \n",
      " notebook            | NULL                                                                                                                                                                                                                                                                                                                                                      \n",
      " clusterId           | NULL                                                                                                                                                                                                                                                                                                                                                      \n",
      " readVersion         | NULL                                                                                                                                                                                                                                                                                                                                                      \n",
      " isolationLevel      | Serializable                                                                                                                                                                                                                                                                                                                                              \n",
      " isBlindAppend       | false                                                                                                                                                                                                                                                                                                                                                     \n",
      " operationMetrics    | {numFiles -> 341, numRemovedFiles -> 0, numRemovedBytes -> 0, numOutputRows -> 4753435, numOutputBytes -> 311845087}                                                                                                                                                                                                                                      \n",
      " userMetadata        | NULL                                                                                                                                                                                                                                                                                                                                                      \n",
      " engineInfo          | Apache-Spark/4.0.0 Delta-Lake/4.0.0                                                                                                                                                                                                                                                                                                                       \n",
      "\n",
      "=-=-=-=-=-=-=-=-=-=-=-=-=-=-=-=-=-=-=-=- >> HISTÓRICO EMPRESAS << =-=-=-=-=-=-=-=-=-=-=-=-=-=-=-=-=-=-=-=-\n",
      "-RECORD 0----------------------------------------------------------------------------------------------------------------------------------\n",
      " version             | 0                                                                                                                   \n",
      " timestamp           | 2025-07-20 00:37:11.022                                                                                             \n",
      " userId              | NULL                                                                                                                \n",
      " userName            | NULL                                                                                                                \n",
      " operation           | WRITE                                                                                                               \n",
      " operationParameters | {mode -> Overwrite, partitionBy -> [\"codigo_porte_empresa\"]}                                                        \n",
      " job                 | NULL                                                                                                                \n",
      " notebook            | NULL                                                                                                                \n",
      " clusterId           | NULL                                                                                                                \n",
      " readVersion         | NULL                                                                                                                \n",
      " isolationLevel      | Serializable                                                                                                        \n",
      " isBlindAppend       | false                                                                                                               \n",
      " operationMetrics    | {numFiles -> 36, numRemovedFiles -> 0, numRemovedBytes -> 0, numOutputRows -> 4494860, numOutputBytes -> 121943363} \n",
      " userMetadata        | NULL                                                                                                                \n",
      " engineInfo          | Apache-Spark/4.0.0 Delta-Lake/4.0.0                                                                                 \n",
      "\n",
      "=-=-=-=-=-=-=-=-=-=-=-=-=-=-=-=-=-=-=-=- >> HISTÓRICO MUNICÍPIOS RECEITA FEDERAL << =-=-=-=-=-=-=-=-=-=-=-=-=-=-=-=-=-=-=-=-\n",
      "-RECORD 0--------------------------------------------------------------------------------------------------------------------------\n",
      " version             | 0                                                                                                           \n",
      " timestamp           | 2025-07-20 14:57:09.61                                                                                      \n",
      " userId              | NULL                                                                                                        \n",
      " userName            | NULL                                                                                                        \n",
      " operation           | WRITE                                                                                                       \n",
      " operationParameters | {mode -> Overwrite, partitionBy -> []}                                                                      \n",
      " job                 | NULL                                                                                                        \n",
      " notebook            | NULL                                                                                                        \n",
      " clusterId           | NULL                                                                                                        \n",
      " readVersion         | NULL                                                                                                        \n",
      " isolationLevel      | Serializable                                                                                                \n",
      " isBlindAppend       | false                                                                                                       \n",
      " operationMetrics    | {numFiles -> 1, numRemovedFiles -> 0, numRemovedBytes -> 0, numOutputRows -> 5572, numOutputBytes -> 79396} \n",
      " userMetadata        | NULL                                                                                                        \n",
      " engineInfo          | Apache-Spark/4.0.0 Delta-Lake/4.0.0                                                                         \n",
      "\n",
      "=-=-=-=-=-=-=-=-=-=-=-=-=-=-=-=-=-=-=-=- >> HISTÓRICO CNAE << =-=-=-=-=-=-=-=-=-=-=-=-=-=-=-=-=-=-=-=-\n",
      "-RECORD 0--------------------------------------------------------------------------------------------------------------------------\n",
      " version             | 0                                                                                                           \n",
      " timestamp           | 2025-07-20 00:18:02.978                                                                                     \n",
      " userId              | NULL                                                                                                        \n",
      " userName            | NULL                                                                                                        \n",
      " operation           | WRITE                                                                                                       \n",
      " operationParameters | {mode -> Overwrite, partitionBy -> []}                                                                      \n",
      " job                 | NULL                                                                                                        \n",
      " notebook            | NULL                                                                                                        \n",
      " clusterId           | NULL                                                                                                        \n",
      " readVersion         | NULL                                                                                                        \n",
      " isolationLevel      | Serializable                                                                                                \n",
      " isBlindAppend       | false                                                                                                       \n",
      " operationMetrics    | {numFiles -> 1, numRemovedFiles -> 0, numRemovedBytes -> 0, numOutputRows -> 1359, numOutputBytes -> 37627} \n",
      " userMetadata        | NULL                                                                                                        \n",
      " engineInfo          | Apache-Spark/4.0.0 Delta-Lake/4.0.0                                                                         \n",
      "\n",
      "=-=-=-=-=-=-=-=-=-=-=-=-=-=-=-=-=-=-=-=- >> HISTÓRICO NATUREZA JURÍDICA << =-=-=-=-=-=-=-=-=-=-=-=-=-=-=-=-=-=-=-=-\n",
      "-RECORD 0-----------------------------------------------------------------------------------------------------------------------\n",
      " version             | 0                                                                                                        \n",
      " timestamp           | 2025-07-20 00:15:16.632                                                                                  \n",
      " userId              | NULL                                                                                                     \n",
      " userName            | NULL                                                                                                     \n",
      " operation           | WRITE                                                                                                    \n",
      " operationParameters | {mode -> Overwrite, partitionBy -> []}                                                                   \n",
      " job                 | NULL                                                                                                     \n",
      " notebook            | NULL                                                                                                     \n",
      " clusterId           | NULL                                                                                                     \n",
      " readVersion         | NULL                                                                                                     \n",
      " isolationLevel      | Serializable                                                                                             \n",
      " isBlindAppend       | false                                                                                                    \n",
      " operationMetrics    | {numFiles -> 1, numRemovedFiles -> 0, numRemovedBytes -> 0, numOutputRows -> 90, numOutputBytes -> 3137} \n",
      " userMetadata        | NULL                                                                                                     \n",
      " engineInfo          | Apache-Spark/4.0.0 Delta-Lake/4.0.0                                                                      \n",
      "\n",
      "=-=-=-=-=-=-=-=-=-=-=-=-=-=-=-=-=-=-=-=- >> HISTÓRICO SIMPLES NACIONAL << =-=-=-=-=-=-=-=-=-=-=-=-=-=-=-=-=-=-=-=-\n",
      "-RECORD 0-----------------------------------------------------------------------------------------------------------------------------------\n",
      " version             | 0                                                                                                                    \n",
      " timestamp           | 2025-07-20 14:47:26.531                                                                                              \n",
      " userId              | NULL                                                                                                                 \n",
      " userName            | NULL                                                                                                                 \n",
      " operation           | WRITE                                                                                                                \n",
      " operationParameters | {mode -> Overwrite, partitionBy -> []}                                                                               \n",
      " job                 | NULL                                                                                                                 \n",
      " notebook            | NULL                                                                                                                 \n",
      " clusterId           | NULL                                                                                                                 \n",
      " readVersion         | NULL                                                                                                                 \n",
      " isolationLevel      | Serializable                                                                                                         \n",
      " isBlindAppend       | false                                                                                                                \n",
      " operationMetrics    | {numFiles -> 18, numRemovedFiles -> 0, numRemovedBytes -> 0, numOutputRows -> 43865689, numOutputBytes -> 298590017} \n",
      " userMetadata        | NULL                                                                                                                 \n",
      " engineInfo          | Apache-Spark/4.0.0 Delta-Lake/4.0.0                                                                                  \n",
      "\n"
     ]
    }
   ],
   "source": [
    "def titulo(texto):\n",
    "    print(f\"{\"=-\"*20} >> {texto} << {\"=-\"*20}\")\n",
    "\n",
    "titulo(\"HISTÓRICO ESTABELECIMENTOS\")\n",
    "deltaTable_estabelecimentos.history().show(vertical=True, truncate=False)\n",
    "\n",
    "titulo(\"HISTÓRICO EMPRESAS\")\n",
    "deltaTable_empresas.history().show(vertical=True, truncate=False)\n",
    "\n",
    "titulo(\"HISTÓRICO MUNICÍPIOS RECEITA FEDERAL\")\n",
    "deltaTable_municipios_rf.history().show(vertical=True, truncate=False)\n",
    "\n",
    "titulo(\"HISTÓRICO CNAE\")\n",
    "deltaTable_cnae.history().show(vertical=True, truncate=False)\n",
    "\n",
    "titulo(\"HISTÓRICO NATUREZA JURÍDICA\")\n",
    "deltaTable_natureza_juridica.history().show(vertical=True, truncate=False)\n",
    "\n",
    "titulo(\"HISTÓRICO SIMPLES NACIONAL\")\n",
    "deltaTable_simples_nacional.history().show(vertical=True, truncate=False)"
   ]
  },
  {
   "cell_type": "markdown",
   "id": "bb10d479",
   "metadata": {},
   "source": [
    "## Finalizar spark"
   ]
  },
  {
   "cell_type": "code",
   "execution_count": 112,
   "id": "482f74b9",
   "metadata": {},
   "outputs": [],
   "source": [
    "spark.stop()"
   ]
  },
  {
   "cell_type": "code",
   "execution_count": null,
   "id": "9254a441",
   "metadata": {},
   "outputs": [],
   "source": []
  }
 ],
 "metadata": {
  "kernelspec": {
   "display_name": "venv (3.12.3)",
   "language": "python",
   "name": "python3"
  },
  "language_info": {
   "codemirror_mode": {
    "name": "ipython",
    "version": 3
   },
   "file_extension": ".py",
   "mimetype": "text/x-python",
   "name": "python",
   "nbconvert_exporter": "python",
   "pygments_lexer": "ipython3",
   "version": "3.12.3"
  }
 },
 "nbformat": 4,
 "nbformat_minor": 5
}
