{
 "cells": [
  {
   "cell_type": "markdown",
   "id": "849141ca",
   "metadata": {},
   "source": [
    "# 📊 Análise de Resultados — PySpark + Delta Lake"
   ]
  },
  {
   "cell_type": "markdown",
   "id": "ed4be541",
   "metadata": {},
   "source": [
    "Este notebook tem como objetivo realizar análises exploratórias e agregações a partir dos dados estruturados na camada **Trusted** do Data Warehouse, utilizando **PySpark** em conjunto com o **Delta Lake**. Serão exploradas informações provenientes de tabelas fato e dimensões, permitindo insights sobre o perfil das empresas, distribuição geográfica, porte, natureza jurídica, entre outros aspectos relevantes."
   ]
  },
  {
   "cell_type": "markdown",
   "id": "d8b40b0c",
   "metadata": {},
   "source": [
    "## Configurações e importes"
   ]
  },
  {
   "cell_type": "code",
   "execution_count": 5,
   "id": "2ccdf0d2",
   "metadata": {},
   "outputs": [],
   "source": [
    "# Para iniciar a seção spark\n",
    "from pyspark.sql import SparkSession, DataFrame\n",
    "from pyspark.sql.types import StructType, StructField, StringType, DoubleType, DecimalType\n",
    "from pyspark.sql import functions as f\n",
    "from delta import configure_spark_with_delta_pip\n",
    "from delta.tables import DeltaTable"
   ]
  },
  {
   "cell_type": "code",
   "execution_count": 6,
   "id": "15a94a61",
   "metadata": {},
   "outputs": [
    {
     "data": {
      "text/html": [
       "\n",
       "            <div>\n",
       "                <p><b>SparkSession - in-memory</b></p>\n",
       "                \n",
       "        <div>\n",
       "            <p><b>SparkContext</b></p>\n",
       "\n",
       "            <p><a href=\"http://10.255.255.254:4040\">Spark UI</a></p>\n",
       "\n",
       "            <dl>\n",
       "              <dt>Version</dt>\n",
       "                <dd><code>v4.0.0</code></dd>\n",
       "              <dt>Master</dt>\n",
       "                <dd><code>local[*]</code></dd>\n",
       "              <dt>AppName</dt>\n",
       "                <dd><code>App analise de dados</code></dd>\n",
       "            </dl>\n",
       "        </div>\n",
       "        \n",
       "            </div>\n",
       "        "
      ],
      "text/plain": [
       "<pyspark.sql.session.SparkSession at 0x70618f3bde50>"
      ]
     },
     "execution_count": 6,
     "metadata": {},
     "output_type": "execute_result"
    }
   ],
   "source": [
    "builder = SparkSession.builder \\\n",
    "    .appName(\"App analise de dados\") \\\n",
    "    .config(\"spark.sql.extensions\", \"io.delta.sql.DeltaSparkSessionExtension\") \\\n",
    "    .config(\"spark.sql.catalog.spark_catalog\", \"org.apache.spark.sql.delta.catalog.DeltaCatalog\") \\\n",
    "    .config(\"spark.driver.memory\", \"2g\") \\\n",
    "    .config(\"spark.executor.memory\", \"2g\")\n",
    "\n",
    "spark: SparkSession = configure_spark_with_delta_pip(builder).getOrCreate()\n",
    "\n",
    "spark"
   ]
  },
  {
   "cell_type": "markdown",
   "id": "b5a85b7e",
   "metadata": {},
   "source": [
    "## MERGE"
   ]
  },
  {
   "cell_type": "markdown",
   "id": "d63c610c",
   "metadata": {},
   "source": [
    "Tabelas para merge: \n",
    "\n",
    "- cnpj_base & cnpj_basico & empresa_cnpj_basico"
   ]
  },
  {
   "cell_type": "code",
   "execution_count": null,
   "id": "5aa5ef37",
   "metadata": {},
   "outputs": [
    {
     "name": "stdout",
     "output_type": "stream",
     "text": [
      "+--------------+---------+----------+-------+-------------+----------------------------------+------------------+-----------------------+-------------------------+--------------------+-----------+---------------------+-----------+----------------------+---------------+--------------------+------+-----------+----------+--------+---+----------------+----+---------+----+---------+-------+----+---------------------------+-----------------+----------------------+-----------+-------------------------------------------------------------------------------+------------+--------------+-------------------+------------+---------------------+-------------------------------+--------------+--------------------+---------------------------+------------------------+-----------------+-----------+-------------+------------------+---------------------+---------+--------------+-----------------+\n",
      "|cnpj_completo |cnpj_base|cnpj_ordem|cnpj_dv|matriz_filial|nome_fantasia                     |situacao_cadastral|data_situacao_cadastral|motivo_situacao_cadastral|nome_cidade_exterior|codigo_pais|data_inicio_atividade|cnae_fiscal|cnae_fiscal_secundaria|tipo_logradouro|logradouro          |numero|complemento|bairro    |cep     |uf |codigo_municipio|ddd1|telefone1|ddd2|telefone2|ddd_fax|fax |email                      |situacao_especial|data_situacao_especial|codigo_cnae|descricao_cnae                                                                 |id_municipio|municipio     |empresa_cnpj_basico|razao_social|cod_natureza_juridica|codigo_qualificacao_responsavel|capital_social|codigo_porte_empresa|ente_federativo_responsavel|codigo_natureza_juridica|natureza_juridica|cnpj_basico|opcao_simples|data_opcao_simples|data_exclusao_simples|opcao_mei|data_opcao_mei|data_exclusao_mei|\n",
      "+--------------+---------+----------+-------+-------------+----------------------------------+------------------+-----------------------+-------------------------+--------------------+-----------+---------------------+-----------+----------------------+---------------+--------------------+------+-----------+----------+--------+---+----------------+----+---------+----+---------+-------+----+---------------------------+-----------------+----------------------+-----------+-------------------------------------------------------------------------------+------------+--------------+-------------------+------------+---------------------+-------------------------------+--------------+--------------------+---------------------------+------------------------+-----------------+-----------+-------------+------------------+---------------------+---------+--------------+-----------------+\n",
      "|00000000048550|NULL     |0485      |50     |2            |CASTRO (PR)                       |02                |2005-11-03             |00                       |NULL                |NULL       |1966-08-01           |6422100    |6499999               |RUA            |DR J XAVIER DA SILVA|353   |NULL       |CENTRO    |84165000|PR |7495            |NULL|NULL     |NULL|NULL     |NULL   |NULL|NULL                       |NULL             |NULL                  |6422100    |Bancos múltiplos, com carteira comercial                                       |7495        |CASTRO        |NULL               |NULL        |NULL                 |NULL                           |NULL          |NULL                |NULL                       |NULL                    |NULL             |00000000   |N            |2007-07-01        |2007-07-01           |N        |2009-07-01    |2009-07-01       |\n",
      "|61043981000149|NULL     |0001      |49     |1            |NULL                              |02                |2025-05-28             |00                       |NULL                |NULL       |2025-05-28           |5620104    |NULL                  |RUA            |SANTA CATARINA      |175   |NULL       |CENTRO    |86600169|PR |7825            |43  |84130952 |NULL|NULL     |NULL   |NULL|LUCCASJAQUELINE16@GMAIL.COM|NULL             |NULL                  |5620104    |Fornecimento de alimentos preparados preponderantemente para consumo domiciliar|7825        |ROLANDIA      |NULL               |NULL        |NULL                 |NULL                           |NULL          |NULL                |NULL                       |NULL                    |NULL             |61043981   |S            |2025-05-28        |NULL                 |S        |2025-05-28    |NULL             |\n",
      "|00000000219622|NULL     |2196      |22     |2            |NULL                              |08                |1993-02-10             |01                       |NULL                |NULL       |1982-06-08           |6421200    |NULL                  |RUA            |BARAO DO RIO BRANCO |669   |NULL       |CENTRO    |85155000|PR |7599            |NULL|NULL     |NULL|NULL     |NULL   |NULL|NULL                       |NULL             |NULL                  |6421200    |Bancos comerciais                                                              |7599        |INACIO MARTINS|NULL               |NULL        |NULL                 |NULL                           |NULL          |NULL                |NULL                       |NULL                    |NULL             |00000000   |N            |2007-07-01        |2007-07-01           |N        |2009-07-01    |2009-07-01       |\n",
      "|61045583000161|NULL     |0001      |61     |1            |NULL                              |02                |2025-05-28             |00                       |NULL                |NULL       |2025-05-28           |7319002    |4753900               |RUA            |VIRIATO CORREA      |254   |CASA 01    |FAZENDINHA|81330370|PR |7535            |11  |98340430 |NULL|NULL     |NULL   |NULL|MARCELO.ROD.DIAS@GMAIL.COM |NULL             |NULL                  |7319002    |Promoção de vendas                                                             |7535        |CURITIBA      |NULL               |NULL        |NULL                 |NULL                           |NULL          |NULL                |NULL                       |NULL                    |NULL             |61045583   |S            |2025-05-28        |NULL                 |S        |2025-05-28    |NULL             |\n",
      "|00058315000270|NULL     |0002      |70     |2            |RESTAURANTE E LANCHONETE GUARICANA|08                |2002-09-20             |01                       |NULL                |NULL       |2002-05-27           |5611201    |NULL                  |RODOVIA        |BR 376 KM 217       |440   |NULL       |VILA PAIAO|86900000|PR |7635            |NULL|NULL     |NULL|NULL     |NULL   |NULL|NULL                       |NULL             |NULL                  |5611201    |Restaurantes e similares                                                       |7635        |JANDAIA DO SUL|NULL               |NULL        |NULL                 |NULL                           |NULL          |NULL                |NULL                       |NULL                    |NULL             |NULL       |NULL         |NULL              |NULL                 |NULL     |NULL          |NULL             |\n",
      "+--------------+---------+----------+-------+-------------+----------------------------------+------------------+-----------------------+-------------------------+--------------------+-----------+---------------------+-----------+----------------------+---------------+--------------------+------+-----------+----------+--------+---+----------------+----+---------+----+---------+-------+----+---------------------------+-----------------+----------------------+-----------+-------------------------------------------------------------------------------+------------+--------------+-------------------+------------+---------------------+-------------------------------+--------------+--------------------+---------------------------+------------------------+-----------------+-----------+-------------+------------------+---------------------+---------+--------------+-----------------+\n",
      "only showing top 5 rows\n",
      "root\n",
      " |-- cnpj_completo: string (nullable = true)\n",
      " |-- cnpj_base: string (nullable = true)\n",
      " |-- cnpj_ordem: string (nullable = true)\n",
      " |-- cnpj_dv: string (nullable = true)\n",
      " |-- matriz_filial: string (nullable = true)\n",
      " |-- nome_fantasia: string (nullable = true)\n",
      " |-- situacao_cadastral: string (nullable = true)\n",
      " |-- data_situacao_cadastral: date (nullable = true)\n",
      " |-- motivo_situacao_cadastral: string (nullable = true)\n",
      " |-- nome_cidade_exterior: string (nullable = true)\n",
      " |-- codigo_pais: string (nullable = true)\n",
      " |-- data_inicio_atividade: date (nullable = true)\n",
      " |-- cnae_fiscal: string (nullable = true)\n",
      " |-- cnae_fiscal_secundaria: string (nullable = true)\n",
      " |-- tipo_logradouro: string (nullable = true)\n",
      " |-- logradouro: string (nullable = true)\n",
      " |-- numero: string (nullable = true)\n",
      " |-- complemento: string (nullable = true)\n",
      " |-- bairro: string (nullable = true)\n",
      " |-- cep: string (nullable = true)\n",
      " |-- uf: string (nullable = true)\n",
      " |-- codigo_municipio: string (nullable = true)\n",
      " |-- ddd1: string (nullable = true)\n",
      " |-- telefone1: string (nullable = true)\n",
      " |-- ddd2: string (nullable = true)\n",
      " |-- telefone2: string (nullable = true)\n",
      " |-- ddd_fax: string (nullable = true)\n",
      " |-- fax: string (nullable = true)\n",
      " |-- email: string (nullable = true)\n",
      " |-- situacao_especial: string (nullable = true)\n",
      " |-- data_situacao_especial: date (nullable = true)\n",
      " |-- codigo_cnae: string (nullable = true)\n",
      " |-- descricao_cnae: string (nullable = true)\n",
      " |-- id_municipio: string (nullable = true)\n",
      " |-- municipio: string (nullable = true)\n",
      " |-- empresa_cnpj_basico: string (nullable = true)\n",
      " |-- razao_social: string (nullable = true)\n",
      " |-- cod_natureza_juridica: string (nullable = true)\n",
      " |-- codigo_qualificacao_responsavel: string (nullable = true)\n",
      " |-- capital_social: decimal(20,2) (nullable = true)\n",
      " |-- codigo_porte_empresa: string (nullable = true)\n",
      " |-- ente_federativo_responsavel: string (nullable = true)\n",
      " |-- codigo_natureza_juridica: string (nullable = true)\n",
      " |-- natureza_juridica: string (nullable = true)\n",
      " |-- cnpj_basico: string (nullable = true)\n",
      " |-- opcao_simples: string (nullable = true)\n",
      " |-- data_opcao_simples: date (nullable = true)\n",
      " |-- data_exclusao_simples: date (nullable = true)\n",
      " |-- opcao_mei: string (nullable = true)\n",
      " |-- data_opcao_mei: date (nullable = true)\n",
      " |-- data_exclusao_mei: date (nullable = true)\n",
      "\n"
     ]
    }
   ],
   "source": [
    "try:    \n",
    "    deltaTable: DeltaTable = DeltaTable.forPath(spark, \"../TRS/CONSOLIDADO/01_TABELA_FATO\")\n",
    "    df: DataFrame = deltaTable.toDF()\n",
    "    df.show(5, truncate=False)\n",
    "    df.printSchema()\n",
    "except Exception as e:\n",
    "    print(f\"Erro na leitura: {e}\")"
   ]
  },
  {
   "cell_type": "code",
   "execution_count": 14,
   "id": "696efe16",
   "metadata": {},
   "outputs": [
    {
     "name": "stderr",
     "output_type": "stream",
     "text": [
      "                                                                                \r"
     ]
    },
    {
     "name": "stdout",
     "output_type": "stream",
     "text": [
      "Merge efetuado!\n"
     ]
    }
   ],
   "source": [
    "# Realizando um UPINSERT\n",
    "try:\n",
    "    deltaTable.alias(\"target\") \\\n",
    "        .merge(\n",
    "            df.alias(\"source\"),\n",
    "            condition=\"target.cnpj_completo = source.cnpj_completo\"\n",
    "    ) \\\n",
    "        .whenMatchedUpdate(\n",
    "            set={\"cnpj_base\": \"source.empresa_cnpj_basico\"}\n",
    "    ).whenNotMatchedInsert(\n",
    "            values={\n",
    "                \"cnpj_completo\": \"source.cnpj_completo\",\n",
    "                \"cnpj_base\": \"source.empresa_cnpj_basico\"\n",
    "            }\n",
    "    ).execute()\n",
    "\n",
    "    print(\"Merge efetuado!\")\n",
    "except Exception as e:\n",
    "    print(f\"Erro ao efetuar merge: {e}\")"
   ]
  },
  {
   "cell_type": "code",
   "execution_count": null,
   "id": "ec6bf59c",
   "metadata": {},
   "outputs": [
    {
     "name": "stdout",
     "output_type": "stream",
     "text": [
      "+--------------+---------+----------+-------+-------------+-----------------+------------------+-----------------------+-------------------------+--------------------+-----------+---------------------+-----------+----------------------+---------------+--------------------+------+--------------------+--------------------+--------+---+----------------+----+---------+----+---------+-------+--------+--------------------+-----------------+----------------------+-----------+--------------------+------------+--------------------+--------------------+---------------------+-------------------------------+--------------+--------------------+---------------------------+------------------------+--------------------+-------------+------------------+---------------------+---------+--------------+-----------------+\n",
      "| cnpj_completo|cnpj_base|cnpj_ordem|cnpj_dv|matriz_filial|    nome_fantasia|situacao_cadastral|data_situacao_cadastral|motivo_situacao_cadastral|nome_cidade_exterior|codigo_pais|data_inicio_atividade|cnae_fiscal|cnae_fiscal_secundaria|tipo_logradouro|          logradouro|numero|         complemento|              bairro|     cep| uf|codigo_municipio|ddd1|telefone1|ddd2|telefone2|ddd_fax|     fax|               email|situacao_especial|data_situacao_especial|codigo_cnae|      descricao_cnae|id_municipio|           municipio|        razao_social|cod_natureza_juridica|codigo_qualificacao_responsavel|capital_social|codigo_porte_empresa|ente_federativo_responsavel|codigo_natureza_juridica|   natureza_juridica|opcao_simples|data_opcao_simples|data_exclusao_simples|opcao_mei|data_opcao_mei|data_exclusao_mei|\n",
      "+--------------+---------+----------+-------+-------------+-----------------+------------------+-----------------------+-------------------------+--------------------+-----------+---------------------+-----------+----------------------+---------------+--------------------+------+--------------------+--------------------+--------+---+----------------+----+---------+----+---------+-------+--------+--------------------+-----------------+----------------------+-----------+--------------------+------------+--------------------+--------------------+---------------------+-------------------------------+--------------+--------------------+---------------------------+------------------------+--------------------+-------------+------------------+---------------------+---------+--------------+-----------------+\n",
      "|08435827000130| 08435827|      0001|     30|            1|             NULL|                04|             2023-10-27|                       63|                NULL|       NULL|           2006-06-27|    9430800|       9493600,9499500|            RUA|MARIA DA LUZ RODR...|   158|                NULL|         SANTA LUCIA|04940100| SP|            7107|  11| 58311324|NULL|     NULL|   NULL|    NULL|                NULL|             NULL|                  NULL|    9430800|Atividades de ass...|        7107|           SAO PAULO|ASSOCIACAO METODI...|                 3999|                             16|          0.00|                  05|                       NULL|                    3999|  Associação Privada|         NULL|              NULL|                 NULL|     NULL|          NULL|             NULL|\n",
      "|08436320000109| 08436320|      0001|     09|            1|             NULL|                08|             2011-05-19|                       54|                NULL|       NULL|           2006-01-31|    4723700|                  NULL|            RUA|IRINEU ABILHEIRA ...|   180|                NULL|      CIDADE NAUTICA|11350260| SP|            7121|  13| 34642338|NULL|     NULL|     13|34642338|contabilpadrao@bi...|             NULL|                  NULL|    4723700|Comércio varejist...|        7121|         SAO VICENTE| CARMEM ROSA DA GAMA|                 2135|                             50|       5000.00|                  01|                       NULL|                    2135|Empresário (Indiv...|            N|        2007-07-01|           2011-05-19|        N|          NULL|             NULL|\n",
      "|08438652000114| 08438652|      0001|     14|            1|       MERLIN SAT|                04|             2021-04-19|                       63|                NULL|       NULL|           2006-10-30|    4757100|                  NULL|        AVENIDA|CRISTINO MANOEL D...|   999|              FUNDOS|       VILA SAO LUIZ|18260000| SP|            6911|  15| 32571460|  15| 32571325|   NULL|    NULL|SANTACRUZ@FDNET.C...|             NULL|                  NULL|    4757100|Comércio varejist...|        6911|           PORANGABA|JOSILAINE DE OLIV...|                 2135|                             50|      13000.00|                  01|                       NULL|                    2135|Empresário (Indiv...|            S|        2007-07-01|                 NULL|        N|          NULL|             NULL|\n",
      "|08439738000161| 08439738|      0001|     61|            1|      CIDA CAMPOS|                04|             2018-10-16|                       63|                NULL|       NULL|           2006-11-08|    6920601|               7020400|            RUA|        XAVIER KRAUS|   249|                NULL|     VILA LEOPOLDINA|05313000| SP|            7107|  11| 39386902|NULL|     NULL|   NULL|    NULL|cidacampos@campos...|             NULL|                  NULL|    6920601|Atividades de con...|        7107|           SAO PAULO|ROSA E FILHO ASSE...|                 2062|                             49|       1000.00|                  01|                       NULL|                    2062|Sociedade Empresá...|            N|        2007-07-01|           2008-12-31|        N|          NULL|             NULL|\n",
      "|08439953000162| 08439953|      0001|     62|            1|             NULL|                02|             2006-11-13|                       00|                NULL|       NULL|           2006-11-13|    0151202|       0151201,0151203|          SITIO|       7 DE SETEMBRO|   S/N|               RURAL|      AGUA DO MACACO|19640000| SP|            6499|  18| 32641810|  18| 32641810|     18|32641810|agrop.iepe@zipmai...|             NULL|                  NULL|    0151202|Criação de bovino...|        6499|                IEPE|ALBERTO DE CAMARG...|                 4120|                             59|          0.00|                  05|                       NULL|                    4120|Produtor Rural (P...|         NULL|              NULL|                 NULL|     NULL|          NULL|             NULL|\n",
      "|08439999000181| 08439999|      0001|     81|            1|             NULL|                02|             2006-11-13|                       00|                NULL|       NULL|           2006-11-13|    0131800|  0111302,0119906,0...|          SITIO|ELIDIA - RODOVIA ...|   S/N|                NULL|      BAIRRO VATINGA|13800970| SP|            6717|  19| 38062692|NULL|     NULL|   NULL|    NULL|                NULL|             NULL|                  NULL|    0131800|  Cultivo de laranja|        6717|          MOGI MIRIM|AGOSTINHO ROBERTO...|                 4120|                             59|          0.00|                  05|                       NULL|                    4120|Produtor Rural (P...|         NULL|              NULL|                 NULL|     NULL|          NULL|             NULL|\n",
      "|08440002000375| 08440002|      0003|     75|            2|             NULL|                08|             2025-02-03|                       37|                NULL|       NULL|           2007-11-26|    0141502|                  NULL|        FAZENDA|          SAO VICTOR|    SN|                NULL|CORREGO DO ARRANCADO|15748000| SP|            2983|  17| 36481317|NULL|     NULL|   NULL|    NULL|batista@melfinet....|             NULL|                  NULL|    0141502|Produção de semen...|        2983|           MESOPOLIS|ANTONIO CARLOS DE...|                 4120|                             59|          0.00|                  05|                       NULL|                    4120|Produtor Rural (P...|         NULL|              NULL|                 NULL|     NULL|          NULL|             NULL|\n",
      "|08440024000173| 08440024|      0001|     73|            1|             NULL|                02|             2006-11-01|                       00|                NULL|       NULL|           2006-11-01|    0134200|               0111302|        CHACARA|            SAO LUIZ|   S/N|                NULL|           PALMEIRAS|17900000| SP|            6389|  18| 38214034|NULL|     NULL|   NULL|    NULL|                NULL|             NULL|                  NULL|    0134200|     Cultivo de café|        6389|             DRACENA|  JOSE PAULO PEREIRA|                 4120|                             59|          0.00|                  05|                       NULL|                    4120|Produtor Rural (P...|         NULL|              NULL|                 NULL|     NULL|          NULL|             NULL|\n",
      "|08440294000184| 08440294|      0001|     84|            1|             NULL|                02|             2006-11-14|                       00|                NULL|       NULL|           2006-11-14|    0111302|               0151202|          SITIO|             RECREIO|   S/N|          ZONA RURAL|     AGUA DO RECREIO|18900000| SP|            7029|  14| 33721403|  14| 97877527|     14|33721403|audivisao@terra.c...|             NULL|                  NULL|    0111302|    Cultivo de milho|        7029|SANTA CRUZ DO RIO...|HELIO PINTO DA CO...|                 4120|                             59|          0.00|                  05|                       NULL|                    4120|Produtor Rural (P...|         NULL|              NULL|                 NULL|     NULL|          NULL|             NULL|\n",
      "|08440295000390| 08440295|      0003|     90|            2|             NULL|                02|             2007-04-02|                       00|                NULL|       NULL|           2007-04-02|    0113000|                  NULL|          SITIO|       SANTO ANTONIO|   S/N|          ZONA RURAL|    CORREGO DA GRAMA|15150000| SP|            6729|  17| 32751858|  17| 38197378|     17|32751858|escritoriojorge@b...|             NULL|                  NULL|    0113000|Cultivo de cana-d...|        6729|     MONTE APRAZIVEL|DANILDO MAGALHAES...|                 4120|                             59|          0.00|                  05|                       NULL|                    4120|Produtor Rural (P...|         NULL|              NULL|                 NULL|     NULL|          NULL|             NULL|\n",
      "|08440485000146| 08440485|      0001|     46|            1|VIPER-TEC TELECOM|                02|             2006-10-19|                       00|                NULL|       NULL|           2006-10-19|    6190602|  6190601,4752100,6...|            RUA|      VIVIANE FERRAZ|   197|                NULL|   JARDIM MARIA RITA|04814105| SP|            7107|  11| 97779578|NULL|     NULL|   NULL|    NULL|ALMEIDA1SERVICOS@...|             NULL|                  NULL|    6190602|Provedores de voz...|        7107|           SAO PAULO|GRAZIEL PEDRO PIR...|                 2135|                             50|     200000.00|                  01|                       NULL|                    2135|Empresário (Indiv...|            N|        2007-07-01|           2019-12-31|        N|          NULL|             NULL|\n",
      "|08440511000136| 08440511|      0001|     36|            1|             NULL|                04|             2018-10-16|                       63|                NULL|       NULL|           2006-11-14|    4617600|                  NULL|            RUA|         NEMER RAHAL|    71|                NULL|               SAUDE|04139040| SP|            7107|  11| 55832593|NULL|     NULL|   NULL|    NULL|                NULL|             NULL|                  NULL|    4617600|Representantes co...|        7107|           SAO PAULO|JVL REPRESENTACAO...|                 2062|                             49|       1000.00|                  01|                       NULL|                    2062|Sociedade Empresá...|         NULL|              NULL|                 NULL|     NULL|          NULL|             NULL|\n",
      "|08440750000196| 08440750|      0001|     96|            1|             NULL|                02|             2006-11-14|                       00|                NULL|       NULL|           2006-11-14|    0151202|               0151203|        CHACARA|          BOM RETIRO|   S/N|                SEDE|  CORREGO DO POCINHO|15768000| SP|            0822|  17| 36341300|  17| 36341300|     17|36341300|escritorioandrade...|             NULL|                  NULL|    0151202|Criação de bovino...|        0822|        SANTA SALETE|JOSE DE BORTOLI F...|                 4120|                             59|          0.00|                  05|                       NULL|                    4120|Produtor Rural (P...|         NULL|              NULL|                 NULL|     NULL|          NULL|             NULL|\n",
      "|08440813000104| 08440813|      0001|     04|            1|             NULL|                02|             2006-11-14|                       00|                NULL|       NULL|           2006-11-14|    0122900|  0133499,0141501,0...|        ESTRADA|           ADACHI KM|   1,5|        SITIO FUJINO|       POTEIRA PRETA|08710970| SP|            6713|  11| 47962200|  11| 47248233|     11|47248022|sindicatoruralmc@...|             NULL|                  NULL|    0122900|Cultivo de flores...|        6713|     MOGI DAS CRUZES|      HIROSHI FUGINO|                 4120|                             59|          0.00|                  05|                       NULL|                    4120|Produtor Rural (P...|         NULL|              NULL|                 NULL|     NULL|          NULL|             NULL|\n",
      "|08441252000168| 08441252|      0001|     68|            1|             NULL|                08|             2019-03-18|                       37|                NULL|       NULL|           2006-11-14|    0131800|                  NULL|          SITIO|     N. S. APARECIDA|   S/N|                NULL|    CORREGO DO POCAO|15768000| SP|            0822|  17| 36211224|NULL|     NULL|   NULL|    NULL|                NULL|             NULL|                  NULL|    0131800|  Cultivo de laranja|        0822|        SANTA SALETE|MARGARIDA BOVOLAT...|                 4120|                             59|          0.00|                  05|                       NULL|                    4120|Produtor Rural (P...|         NULL|              NULL|                 NULL|     NULL|          NULL|             NULL|\n",
      "|08442347001259| 08442347|      0012|     59|            2|             NULL|                02|             2008-06-09|                       00|                NULL|       NULL|           2008-06-09|    0113000|                  NULL|        FAZENDA|         SANTO ANDRE|   S/N|                NULL|               RURAL|14270000| SP|            7053|  16| 39512011|  16| 39512040|     16|39512040|                NULL|             NULL|                  NULL|    0113000|Cultivo de cana-d...|        7053|SANTA ROSA DE VIT...|CLAUDIO ROBERTO A...|                 4120|                             59|          0.00|                  05|                       NULL|                    4120|Produtor Rural (P...|         NULL|              NULL|                 NULL|     NULL|          NULL|             NULL|\n",
      "|08442380000126| 08442380|      0001|     26|            1|             NULL|                02|             2006-11-16|                       00|                NULL|       NULL|           2006-11-16|    0151202|               0151203|          SITIO|       SAO FRANCISCO|   S/N|                NULL|   CORREGO DA VIRGEM|19570000| SP|            6949|  18| 32791511|  18| 32791912|     18|32791490|escritorioagroest...|             NULL|                  NULL|    0151202|Criação de bovino...|        6949|       REGENTE FEIJO|         JOAO CHAGAS|                 4120|                             59|          0.00|                  05|                       NULL|                    4120|Produtor Rural (P...|         NULL|              NULL|                 NULL|     NULL|          NULL|             NULL|\n",
      "|08442388000192| 08442388|      0001|     92|            1|             NULL|                02|             2006-11-16|                       00|                NULL|       NULL|           2006-11-16|    0151201|       0116499,0139306|        FAZENDA|         SAO CAETANO|   S/N|                NULL|          ZONA RURAL|15265000| SP|            2973|  17| 32114400|NULL|     NULL|   NULL|    NULL|MARINAMUNIA05@GMA...|             NULL|                  NULL|    0151201|Criação de bovino...|        2973|            ZACARIAS|JOSE ANTONIO DE F...|                 4120|                             59|          0.00|                  05|                       NULL|                    4120|Produtor Rural (P...|         NULL|              NULL|                 NULL|     NULL|          NULL|             NULL|\n",
      "|08442494000257| 08442494|      0002|     57|            2|             NULL|                02|             2006-11-23|                       00|                NULL|       NULL|           2006-11-23|    0134200|                  NULL|          SITIO|          SANTA ROSA|   S/N|     CAIXA POSTAL 95|            CAINGANG|17580000| SP|            6901|  14| 34522143|  14| 34522440|     14|34522440|rojoimoveis@yahoo...|             NULL|                  NULL|    0134200|     Cultivo de café|        6901|             POMPEIA|JOSE ZANGUETTIN E...|                 4120|                             59|          0.00|                  05|                       NULL|                    4120|Produtor Rural (P...|         NULL|              NULL|                 NULL|     NULL|          NULL|             NULL|\n",
      "|08442525000199| 08442525|      0001|     99|            1|             NULL|                02|             1999-01-01|                       00|                NULL|       NULL|           1999-01-01|    0151201|       0131800,0151202|          SITIO|              JATOBA|   S/N|ESTRADA DAS SETE ...|         SETE VOLTAS|12010970| SP|            7183|  12| 36631301|NULL|     NULL|   NULL|    NULL|                NULL|             NULL|                  NULL|    0151201|Criação de bovino...|        7183|             TAUBATE|RICHARD HAIMOFF E...|                 4120|                             59|          0.00|                  05|                       NULL|                    4120|Produtor Rural (P...|         NULL|              NULL|                 NULL|     NULL|          NULL|             NULL|\n",
      "+--------------+---------+----------+-------+-------------+-----------------+------------------+-----------------------+-------------------------+--------------------+-----------+---------------------+-----------+----------------------+---------------+--------------------+------+--------------------+--------------------+--------+---+----------------+----+---------+----+---------+-------+--------+--------------------+-----------------+----------------------+-----------+--------------------+------------+--------------------+--------------------+---------------------+-------------------------------+--------------+--------------------+---------------------------+------------------------+--------------------+-------------+------------------+---------------------+---------+--------------+-----------------+\n",
      "only showing top 20 rows\n",
      "root\n",
      " |-- cnpj_completo: string (nullable = true)\n",
      " |-- cnpj_base: string (nullable = true)\n",
      " |-- cnpj_ordem: string (nullable = true)\n",
      " |-- cnpj_dv: string (nullable = true)\n",
      " |-- matriz_filial: string (nullable = true)\n",
      " |-- nome_fantasia: string (nullable = true)\n",
      " |-- situacao_cadastral: string (nullable = true)\n",
      " |-- data_situacao_cadastral: date (nullable = true)\n",
      " |-- motivo_situacao_cadastral: string (nullable = true)\n",
      " |-- nome_cidade_exterior: string (nullable = true)\n",
      " |-- codigo_pais: string (nullable = true)\n",
      " |-- data_inicio_atividade: date (nullable = true)\n",
      " |-- cnae_fiscal: string (nullable = true)\n",
      " |-- cnae_fiscal_secundaria: string (nullable = true)\n",
      " |-- tipo_logradouro: string (nullable = true)\n",
      " |-- logradouro: string (nullable = true)\n",
      " |-- numero: string (nullable = true)\n",
      " |-- complemento: string (nullable = true)\n",
      " |-- bairro: string (nullable = true)\n",
      " |-- cep: string (nullable = true)\n",
      " |-- uf: string (nullable = true)\n",
      " |-- codigo_municipio: string (nullable = true)\n",
      " |-- ddd1: string (nullable = true)\n",
      " |-- telefone1: string (nullable = true)\n",
      " |-- ddd2: string (nullable = true)\n",
      " |-- telefone2: string (nullable = true)\n",
      " |-- ddd_fax: string (nullable = true)\n",
      " |-- fax: string (nullable = true)\n",
      " |-- email: string (nullable = true)\n",
      " |-- situacao_especial: string (nullable = true)\n",
      " |-- data_situacao_especial: date (nullable = true)\n",
      " |-- codigo_cnae: string (nullable = true)\n",
      " |-- descricao_cnae: string (nullable = true)\n",
      " |-- id_municipio: string (nullable = true)\n",
      " |-- municipio: string (nullable = true)\n",
      " |-- razao_social: string (nullable = true)\n",
      " |-- cod_natureza_juridica: string (nullable = true)\n",
      " |-- codigo_qualificacao_responsavel: string (nullable = true)\n",
      " |-- capital_social: decimal(20,2) (nullable = true)\n",
      " |-- codigo_porte_empresa: string (nullable = true)\n",
      " |-- ente_federativo_responsavel: string (nullable = true)\n",
      " |-- codigo_natureza_juridica: string (nullable = true)\n",
      " |-- natureza_juridica: string (nullable = true)\n",
      " |-- opcao_simples: string (nullable = true)\n",
      " |-- data_opcao_simples: date (nullable = true)\n",
      " |-- data_exclusao_simples: date (nullable = true)\n",
      " |-- opcao_mei: string (nullable = true)\n",
      " |-- data_opcao_mei: date (nullable = true)\n",
      " |-- data_exclusao_mei: date (nullable = true)\n",
      "\n"
     ]
    }
   ],
   "source": [
    "# Filtrar e remover colunas\n",
    "\n",
    "colunas_filtradas = [\n",
    "    col for col in df.columns\n",
    "    if col not in [\"empresa_cnpj_basico\", \"cnpj_basico\"]\n",
    "]\n",
    "\n",
    "df_novo = df.select(*colunas_filtradas)\n",
    "df_novo.show()\n",
    "df_novo.printSchema()"
   ]
  },
  {
   "cell_type": "code",
   "execution_count": null,
   "id": "0adf6f5d",
   "metadata": {},
   "outputs": [],
   "source": [
    "try:\n",
    "    df_novo.write.format(\"delta\") \\\n",
    "        .mode(\"overwrite\") \\\n",
    "        .option(\"overwriteSchema\", \"true\") \\\n",
    "        .save(\"../CONSOLIDADO/01_TABELA_FATO\")\n",
    "except Exception as e:\n",
    "    print(f\"Erro ao gravar novos dados: {e}\")"
   ]
  },
  {
   "cell_type": "code",
   "execution_count": null,
   "id": "e5495f31",
   "metadata": {},
   "outputs": [],
   "source": []
  }
 ],
 "metadata": {
  "kernelspec": {
   "display_name": "venv",
   "language": "python",
   "name": "python3"
  },
  "language_info": {
   "codemirror_mode": {
    "name": "ipython",
    "version": 3
   },
   "file_extension": ".py",
   "mimetype": "text/x-python",
   "name": "python",
   "nbconvert_exporter": "python",
   "pygments_lexer": "ipython3",
   "version": "3.12.3"
  }
 },
 "nbformat": 4,
 "nbformat_minor": 5
}
