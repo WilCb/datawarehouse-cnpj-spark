{
 "cells": [
  {
   "cell_type": "markdown",
   "id": "849141ca",
   "metadata": {},
   "source": [
    "# 📊 Análise de Resultados — PySpark + Delta Lake"
   ]
  },
  {
   "cell_type": "markdown",
   "id": "ed4be541",
   "metadata": {},
   "source": [
    "Este notebook tem como objetivo realizar análises exploratórias e agregações a partir dos dados estruturados na camada **Trusted** do Data Warehouse, utilizando **PySpark** em conjunto com o **Delta Lake**. Serão exploradas informações provenientes de tabelas fato e dimensões, permitindo insights sobre o perfil das empresas, distribuição geográfica, porte, natureza jurídica, entre outros aspectos relevantes."
   ]
  },
  {
   "cell_type": "markdown",
   "id": "d8b40b0c",
   "metadata": {},
   "source": [
    "## Configurações e importes"
   ]
  },
  {
   "cell_type": "code",
   "execution_count": 158,
   "id": "2ccdf0d2",
   "metadata": {},
   "outputs": [],
   "source": [
    "# Para iniciar a seção spark\n",
    "from pyspark.sql import SparkSession, DataFrame\n",
    "from pyspark.sql.types import StructType, StructField, StringType, DoubleType, DecimalType\n",
    "from pyspark.sql import functions as f\n",
    "from datetime import datetime\n",
    "from delta import configure_spark_with_delta_pip\n",
    "from delta.tables import DeltaTable"
   ]
  },
  {
   "cell_type": "code",
   "execution_count": 159,
   "id": "15a94a61",
   "metadata": {},
   "outputs": [
    {
     "data": {
      "text/html": [
       "\n",
       "            <div>\n",
       "                <p><b>SparkSession - in-memory</b></p>\n",
       "                \n",
       "        <div>\n",
       "            <p><b>SparkContext</b></p>\n",
       "\n",
       "            <p><a href=\"http://10.255.255.254:4040\">Spark UI</a></p>\n",
       "\n",
       "            <dl>\n",
       "              <dt>Version</dt>\n",
       "                <dd><code>v4.0.0</code></dd>\n",
       "              <dt>Master</dt>\n",
       "                <dd><code>local[*]</code></dd>\n",
       "              <dt>AppName</dt>\n",
       "                <dd><code>App analise de dados</code></dd>\n",
       "            </dl>\n",
       "        </div>\n",
       "        \n",
       "            </div>\n",
       "        "
      ],
      "text/plain": [
       "<pyspark.sql.session.SparkSession at 0x7fd124686540>"
      ]
     },
     "execution_count": 159,
     "metadata": {},
     "output_type": "execute_result"
    }
   ],
   "source": [
    "builder = SparkSession.builder \\\n",
    "    .appName(\"App analise de dados\") \\\n",
    "    .config(\"spark.sql.extensions\", \"io.delta.sql.DeltaSparkSessionExtension\") \\\n",
    "    .config(\"spark.sql.catalog.spark_catalog\", \"org.apache.spark.sql.delta.catalog.DeltaCatalog\") \\\n",
    "    .config(\"spark.driver.memory\", \"2g\") \\\n",
    "    .config(\"spark.executor.memory\", \"2g\")\n",
    "\n",
    "spark: SparkSession = configure_spark_with_delta_pip(builder).getOrCreate()\n",
    "\n",
    "spark"
   ]
  },
  {
   "cell_type": "markdown",
   "id": "b5a85b7e",
   "metadata": {},
   "source": [
    "## MERGE"
   ]
  },
  {
   "cell_type": "markdown",
   "id": "d63c610c",
   "metadata": {},
   "source": [
    "Tabelas para merge: \n",
    "\n",
    "- cnpj_base & cnpj_basico & empresa_cnpj_basico\n",
    "- codigo_municipio & id_municipio\n",
    "- cod_natureza_juridica & codigo_natureza_juridica"
   ]
  },
  {
   "cell_type": "markdown",
   "id": "a06c1b1b",
   "metadata": {},
   "source": [
    "Iniciar deltaTable"
   ]
  },
  {
   "cell_type": "code",
   "execution_count": null,
   "id": "5aa5ef37",
   "metadata": {},
   "outputs": [
    {
     "name": "stderr",
     "output_type": "stream",
     "text": [
      "                                                                                \r"
     ]
    },
    {
     "name": "stdout",
     "output_type": "stream",
     "text": [
      "+--------------+---------+----------+-------+-------------+------------------------------------------+------------------+-----------------------+-------------------------+--------------------+-----------+---------------------+-----------+---------------------------------------------------------------------------------------------------------------+---------------+-----------------------------+------+---------------+--------+--------+---+----------------+----+---------+----+---------+-------+--------+-------------------------+-----------------+----------------------+-----------+---------------------------------------------------------------------------------------+------------+----------------+-------------------+------------+---------------------+-------------------------------+--------------+--------------------+---------------------------+------------------------+-----------------+-----------+-------------+------------------+---------------------+---------+--------------+-----------------+\n",
      "|cnpj_completo |cnpj_base|cnpj_ordem|cnpj_dv|matriz_filial|nome_fantasia                             |situacao_cadastral|data_situacao_cadastral|motivo_situacao_cadastral|nome_cidade_exterior|codigo_pais|data_inicio_atividade|cnae_fiscal|cnae_fiscal_secundaria                                                                                         |tipo_logradouro|logradouro                   |numero|complemento    |bairro  |cep     |uf |codigo_municipio|ddd1|telefone1|ddd2|telefone2|ddd_fax|fax     |email                    |situacao_especial|data_situacao_especial|codigo_cnae|descricao_cnae                                                                         |id_municipio|municipio       |empresa_cnpj_basico|razao_social|cod_natureza_juridica|codigo_qualificacao_responsavel|capital_social|codigo_porte_empresa|ente_federativo_responsavel|codigo_natureza_juridica|natureza_juridica|cnpj_basico|opcao_simples|data_opcao_simples|data_exclusao_simples|opcao_mei|data_opcao_mei|data_exclusao_mei|\n",
      "+--------------+---------+----------+-------+-------------+------------------------------------------+------------------+-----------------------+-------------------------+--------------------+-----------+---------------------+-----------+---------------------------------------------------------------------------------------------------------------+---------------+-----------------------------+------+---------------+--------+--------+---+----------------+----+---------+----+---------+-------+--------+-------------------------+-----------------+----------------------+-----------+---------------------------------------------------------------------------------------+------------+----------------+-------------------+------------+---------------------+-------------------------------+--------------+--------------------+---------------------------+------------------------+-----------------+-----------+-------------+------------------+---------------------+---------+--------------+-----------------+\n",
      "|00000000095710|NULL     |0957      |10     |2            |AVENIDA FERNANDES DA CUNHA - SALVADOR (BA)|02                |2005-11-03             |00                       |NULL                |NULL       |1975-06-30           |6422100    |6499999                                                                                                        |AVENIDA        |FERNANDES DA CUNHA           |58    |NULL           |MARES   |40445201|BA |3849            |71  |36121124 |NULL|NULL     |71     |33124571|AGE0904@BB.COM.BR        |NULL             |NULL                  |6422100    |Bancos múltiplos, com carteira comercial                                               |3849        |SALVADOR        |NULL               |NULL        |NULL                 |NULL                           |NULL          |NULL                |NULL                       |NULL                    |NULL             |00000000   |N            |2007-07-01        |2007-07-01           |N        |2009-07-01    |2009-07-01       |\n",
      "|02658207000183|NULL     |0001      |83     |1            |M.S. CONSULTORIA DE SISTEMAS              |08                |2008-12-31             |71                       |NULL                |NULL       |1998-07-17           |6204000    |NULL                                                                                                           |AVENIDA        |ANTONIO CARLOS MAGALHAES     |1034  |SALA 412A      |PITUBA  |41825000|BA |3849            |NULL|NULL     |NULL|NULL     |NULL   |NULL    |NULL                     |NULL             |NULL                  |6204000    |Consultoria em tecnologia da informação                                                |3849        |SALVADOR        |NULL               |NULL        |NULL                 |NULL                           |NULL          |NULL                |NULL                       |NULL                    |NULL             |NULL       |NULL         |NULL              |NULL                 |NULL     |NULL          |NULL             |\n",
      "|00000000103675|NULL     |1036      |75     |2            |INFRA REGIONAL - INFRE SALVADOR (BA)      |08                |2001-07-16             |01                       |NULL                |NULL       |1976-11-24           |6421200    |NULL                                                                                                           |AVENIDA        |ESTADOS UNIDOS               |561   |OITAVO(8) ANDAR|COMERCIO|40010020|BA |3849            |NULL|NULL     |NULL|NULL     |NULL   |NULL    |NULL                     |NULL             |NULL                  |6421200    |Bancos comerciais                                                                      |3849        |SALVADOR        |NULL               |NULL        |NULL                 |NULL                           |NULL          |NULL                |NULL                       |NULL                    |NULL             |00000000   |N            |2007-07-01        |2007-07-01           |N        |2009-07-01    |2009-07-01       |\n",
      "|02659246000367|NULL     |0003      |67     |2            |VMI MEDICA                                |02                |2024-02-01             |00                       |NULL                |NULL       |2024-02-01           |2660400    |3312103,3319800,3321000,4618402,4664800,4669999,6201501,6202300,6203100,6204000,7020400,7729203,7739002,8599604|RUA            |LAFAEITE FRANCISCO DOS SANTOS|153   |LOJA  02       |CENTRO  |42703100|BA |3685            |31  |33703750 |NULL|NULL     |NULL   |NULL    |WAJ@WAJCONSULTORIA.COM.BR|NULL             |NULL                  |2660400    |Fabricação de aparelhos eletromédicos e eletroterapêuticos e equipamentos de irradiação|3685        |LAURO DE FREITAS|NULL               |NULL        |NULL                 |NULL                           |NULL          |NULL                |NULL                       |NULL                    |NULL             |02659246   |N            |2007-07-01        |2009-07-31           |N        |NULL          |NULL             |\n",
      "|00000000348600|NULL     |3486      |00     |2            |POJUCA - BA                               |02                |2005-11-03             |00                       |NULL                |NULL       |1988-04-28           |6422100    |6499999                                                                                                        |RUA            |JOAQUIM JOSE SEABRA          |242   |NULL           |NULL    |48120000|BA |3805            |NULL|NULL     |NULL|NULL     |NULL   |NULL    |NULL                     |NULL             |NULL                  |6422100    |Bancos múltiplos, com carteira comercial                                               |3805        |POJUCA          |NULL               |NULL        |NULL                 |NULL                           |NULL          |NULL                |NULL                       |NULL                    |NULL             |00000000   |N            |2007-07-01        |2007-07-01           |N        |2009-07-01    |2009-07-01       |\n",
      "+--------------+---------+----------+-------+-------------+------------------------------------------+------------------+-----------------------+-------------------------+--------------------+-----------+---------------------+-----------+---------------------------------------------------------------------------------------------------------------+---------------+-----------------------------+------+---------------+--------+--------+---+----------------+----+---------+----+---------+-------+--------+-------------------------+-----------------+----------------------+-----------+---------------------------------------------------------------------------------------+------------+----------------+-------------------+------------+---------------------+-------------------------------+--------------+--------------------+---------------------------+------------------------+-----------------+-----------+-------------+------------------+---------------------+---------+--------------+-----------------+\n",
      "only showing top 5 rows\n",
      "root\n",
      " |-- cnpj_completo: string (nullable = true)\n",
      " |-- cnpj_base: string (nullable = true)\n",
      " |-- cnpj_ordem: string (nullable = true)\n",
      " |-- cnpj_dv: string (nullable = true)\n",
      " |-- matriz_filial: string (nullable = true)\n",
      " |-- nome_fantasia: string (nullable = true)\n",
      " |-- situacao_cadastral: string (nullable = true)\n",
      " |-- data_situacao_cadastral: date (nullable = true)\n",
      " |-- motivo_situacao_cadastral: string (nullable = true)\n",
      " |-- nome_cidade_exterior: string (nullable = true)\n",
      " |-- codigo_pais: string (nullable = true)\n",
      " |-- data_inicio_atividade: date (nullable = true)\n",
      " |-- cnae_fiscal: string (nullable = true)\n",
      " |-- cnae_fiscal_secundaria: string (nullable = true)\n",
      " |-- tipo_logradouro: string (nullable = true)\n",
      " |-- logradouro: string (nullable = true)\n",
      " |-- numero: string (nullable = true)\n",
      " |-- complemento: string (nullable = true)\n",
      " |-- bairro: string (nullable = true)\n",
      " |-- cep: string (nullable = true)\n",
      " |-- uf: string (nullable = true)\n",
      " |-- codigo_municipio: string (nullable = true)\n",
      " |-- ddd1: string (nullable = true)\n",
      " |-- telefone1: string (nullable = true)\n",
      " |-- ddd2: string (nullable = true)\n",
      " |-- telefone2: string (nullable = true)\n",
      " |-- ddd_fax: string (nullable = true)\n",
      " |-- fax: string (nullable = true)\n",
      " |-- email: string (nullable = true)\n",
      " |-- situacao_especial: string (nullable = true)\n",
      " |-- data_situacao_especial: date (nullable = true)\n",
      " |-- codigo_cnae: string (nullable = true)\n",
      " |-- descricao_cnae: string (nullable = true)\n",
      " |-- id_municipio: string (nullable = true)\n",
      " |-- municipio: string (nullable = true)\n",
      " |-- empresa_cnpj_basico: string (nullable = true)\n",
      " |-- razao_social: string (nullable = true)\n",
      " |-- cod_natureza_juridica: string (nullable = true)\n",
      " |-- codigo_qualificacao_responsavel: string (nullable = true)\n",
      " |-- capital_social: decimal(20,2) (nullable = true)\n",
      " |-- codigo_porte_empresa: string (nullable = true)\n",
      " |-- ente_federativo_responsavel: string (nullable = true)\n",
      " |-- codigo_natureza_juridica: string (nullable = true)\n",
      " |-- natureza_juridica: string (nullable = true)\n",
      " |-- cnpj_basico: string (nullable = true)\n",
      " |-- opcao_simples: string (nullable = true)\n",
      " |-- data_opcao_simples: date (nullable = true)\n",
      " |-- data_exclusao_simples: date (nullable = true)\n",
      " |-- opcao_mei: string (nullable = true)\n",
      " |-- data_opcao_mei: date (nullable = true)\n",
      " |-- data_exclusao_mei: date (nullable = true)\n",
      "\n"
     ]
    }
   ],
   "source": [
    "try:    \n",
    "    deltaTable: DeltaTable = DeltaTable.forPath(spark, \"../TRS/CONSOLIDADO/01_TABELA_FATO\")\n",
    "    df: DataFrame = deltaTable.toDF()\n",
    "    df.show(5, truncate=False)\n",
    "    df.printSchema()\n",
    "except Exception as e:\n",
    "    print(f\"Erro na leitura: {e}\")"
   ]
  },
  {
   "cell_type": "code",
   "execution_count": 123,
   "id": "696efe16",
   "metadata": {},
   "outputs": [
    {
     "name": "stderr",
     "output_type": "stream",
     "text": [
      "                                                                                \r"
     ]
    },
    {
     "name": "stdout",
     "output_type": "stream",
     "text": [
      "Merge efetuado!\n"
     ]
    }
   ],
   "source": [
    "# Realizando um UPINSERT\n",
    "try:\n",
    "    deltaTable.alias(\"target\") \\\n",
    "        .merge(\n",
    "            df.alias(\"source\"),\n",
    "            condition=\"target.cnpj_completo = source.cnpj_completo\"\n",
    "    ) \\\n",
    "        .whenMatchedUpdate(\n",
    "            set={\n",
    "                \"cnpj_completo\": \"source.cnpj_completo\",\n",
    "                \"cod_natureza_juridica\": \"source.codigo_natureza_juridica\",\n",
    "            }\n",
    "    ).whenNotMatchedInsert(\n",
    "            values={\n",
    "                \"cnpj_completo\": \"source.cnpj_completo\",\n",
    "                \"cod_natureza_juridica\": \"source.codigo_natureza_juridica\",\n",
    "            }\n",
    "    ).execute()\n",
    "\n",
    "    print(\"Merge efetuado!\")\n",
    "except Exception as e:\n",
    "    print(f\"Erro ao efetuar merge: {e}\")"
   ]
  },
  {
   "cell_type": "code",
   "execution_count": null,
   "id": "23b50fc1",
   "metadata": {},
   "outputs": [],
   "source": [
    "def atualizar_delta_table():\n",
    "    try:\n",
    "        df.write.format(\"delta\") \\\n",
    "            .mode(\"overwrite\") \\\n",
    "            .option(\"overwriteSchema\", \"true\") \\\n",
    "            .partitionBy(\"uf\") \\\n",
    "            .save(\"../CONSOLIDADO/01_TABELA_FATO\")\n",
    "        print(\"Dados gravados!\")\n",
    "    except Exception as e:\n",
    "        print(f\"Erro ao gravar novos dados: {e}\")\n",
    "\n",
    "# atualizar_delta_table()"
   ]
  },
  {
   "cell_type": "markdown",
   "id": "d27ebbdf",
   "metadata": {},
   "source": [
    "## 📊 Análise de Resultados"
   ]
  },
  {
   "cell_type": "markdown",
   "id": "144cbbbd",
   "metadata": {},
   "source": [
    "### Iniciar DeltaSpark"
   ]
  },
  {
   "cell_type": "code",
   "execution_count": 152,
   "id": "c14bc866",
   "metadata": {},
   "outputs": [
    {
     "name": "stdout",
     "output_type": "stream",
     "text": [
      "+--------------+---------+----------+-------+-------------+---------------+------------------+-----------------------+-------------------------+--------------------+-----------+---------------------+-----------+-----------------------------------------------+---------------+-------------------------------+------+--------------------------+-----------------------+--------+---+----------------+----+---------+----+---------+-------+----+----------------------------+-----------------+----------------------+-----------+--------------------------------------------------------------------------------------------+------------+-----------+-------------------+------------+---------------------+-------------------------------+--------------+--------------------+---------------------------+------------------------+-----------------+-----------+-------------+------------------+---------------------+---------+--------------+-----------------+\n",
      "|cnpj_completo |cnpj_base|cnpj_ordem|cnpj_dv|matriz_filial|nome_fantasia  |situacao_cadastral|data_situacao_cadastral|motivo_situacao_cadastral|nome_cidade_exterior|codigo_pais|data_inicio_atividade|cnae_fiscal|cnae_fiscal_secundaria                         |tipo_logradouro|logradouro                     |numero|complemento               |bairro                 |cep     |uf |codigo_municipio|ddd1|telefone1|ddd2|telefone2|ddd_fax|fax |email                       |situacao_especial|data_situacao_especial|codigo_cnae|descricao_cnae                                                                              |id_municipio|municipio  |empresa_cnpj_basico|razao_social|cod_natureza_juridica|codigo_qualificacao_responsavel|capital_social|codigo_porte_empresa|ente_federativo_responsavel|codigo_natureza_juridica|natureza_juridica|cnpj_basico|opcao_simples|data_opcao_simples|data_exclusao_simples|opcao_mei|data_opcao_mei|data_exclusao_mei|\n",
      "+--------------+---------+----------+-------+-------------+---------------+------------------+-----------------------+-------------------------+--------------------+-----------+---------------------+-----------+-----------------------------------------------+---------------+-------------------------------+------+--------------------------+-----------------------+--------+---+----------------+----+---------+----+---------+-------+----+----------------------------+-----------------+----------------------+-----------+--------------------------------------------------------------------------------------------+------------+-----------+-------------------+------------+---------------------+-------------------------------+--------------+--------------------+---------------------------+------------------------+-----------------+-----------+-------------+------------------+---------------------+---------+--------------+-----------------+\n",
      "|51073002000141|NULL     |0001      |41     |1            |NULL           |08                |2024-09-10             |01                       |NULL                |NULL       |2023-06-16           |5611201    |5611203                                        |RUA            |TABELIAO CARLOS NEVES DA FRANCA|371   |CONJ ESTACIONAMENTOCALCADA|VALENTINA DE FIGUEIREDO|58064570|PB |2051            |53  |84581994 |NULL|NULL     |NULL   |NULL|GBRIAO2000@GMAIL.COM        |NULL             |NULL                  |5611201    |Restaurantes e similares                                                                    |2051        |JOAO PESSOA|NULL               |NULL        |NULL                 |NULL                           |NULL          |NULL                |NULL                       |NULL                    |NULL             |51073002   |N            |2023-06-16        |2024-09-10           |N        |2023-06-16    |2024-09-10       |\n",
      "|00000000045373|NULL     |0453      |73     |2            |INGA (PB)      |02                |2005-11-03             |00                       |NULL                |NULL       |1982-05-27           |6422100    |6499999                                        |RUA            |VIRGOLINO DE S CAMPOS          |177   |NULL                      |CENTRO                 |58380000|PB |2037            |NULL|NULL     |NULL|NULL     |NULL   |NULL|NULL                        |NULL             |NULL                  |6422100    |Bancos múltiplos, com carteira comercial                                                    |2037        |INGA       |NULL               |NULL        |NULL                 |NULL                           |NULL          |NULL                |NULL                       |NULL                    |NULL             |00000000   |N            |2007-07-01        |2007-07-01           |N        |2009-07-01    |2009-07-01       |\n",
      "|51073764000148|NULL     |0001      |48     |1            |ENCANTO CLINICA|02                |2023-06-16             |00                       |NULL                |105        |2023-06-16           |8650004    |8550302,8650002,8650003,8650005,8650006,8650099|AVENIDA        |INGA                           |00915 |NULL                      |MANAIRA                |58038251|PB |2051            |83  |96176884 |NULL|NULL     |NULL   |NULL|ESPACOENCANTOMULTI@GMAIL.COM|NULL             |NULL                  |8650004    |Atividades de fisioterapia                                                                  |2051        |JOAO PESSOA|NULL               |NULL        |NULL                 |NULL                           |NULL          |NULL                |NULL                       |NULL                    |NULL             |51073764   |S            |2025-01-01        |NULL                 |N        |NULL          |NULL             |\n",
      "|00094457000293|NULL     |0002      |93     |2            |NULL           |08                |2013-03-18             |01                       |NULL                |NULL       |1999-06-02           |4611700    |NULL                                           |AVENIDA        |RANIERI MAZZILE                |S/N   |GPA 23/24                 |CRISTO REDENTOR        |58071000|PB |2051            |NULL|NULL     |NULL|NULL     |NULL   |NULL|NULL                        |NULL             |NULL                  |4611700    |Representantes comerciais e agentes do comércio de matérias-primas agrícolas e animais vivos|2051        |JOAO PESSOA|NULL               |NULL        |NULL                 |NULL                           |NULL          |NULL                |NULL                       |NULL                    |NULL             |00094457   |N            |2014-01-01        |2019-12-31           |N        |NULL          |NULL             |\n",
      "|51130286000160|NULL     |0001      |60     |1            |BETO SERVICOS  |08                |2023-10-16             |01                       |NULL                |NULL       |2023-06-21           |4399103    |4330404                                        |RUA            |ADALGISA TARGINO DA SILVA      |423   |NULL                      |JOAO PAULO II          |58076050|PB |2051            |83  |81820520 |NULL|NULL     |NULL   |NULL|CARLOSBETO2605@HOTMAIL.COM  |NULL             |NULL                  |4399103    |Obras de alvenaria                                                                          |2051        |JOAO PESSOA|NULL               |NULL        |NULL                 |NULL                           |NULL          |NULL                |NULL                       |NULL                    |NULL             |51130286   |N            |2023-06-21        |2023-10-16           |N        |2023-06-21    |2023-10-16       |\n",
      "+--------------+---------+----------+-------+-------------+---------------+------------------+-----------------------+-------------------------+--------------------+-----------+---------------------+-----------+-----------------------------------------------+---------------+-------------------------------+------+--------------------------+-----------------------+--------+---+----------------+----+---------+----+---------+-------+----+----------------------------+-----------------+----------------------+-----------+--------------------------------------------------------------------------------------------+------------+-----------+-------------------+------------+---------------------+-------------------------------+--------------+--------------------+---------------------------+------------------------+-----------------+-----------+-------------+------------------+---------------------+---------+--------------+-----------------+\n",
      "only showing top 5 rows\n",
      "root\n",
      " |-- cnpj_completo: string (nullable = true)\n",
      " |-- cnpj_base: string (nullable = true)\n",
      " |-- cnpj_ordem: string (nullable = true)\n",
      " |-- cnpj_dv: string (nullable = true)\n",
      " |-- matriz_filial: string (nullable = true)\n",
      " |-- nome_fantasia: string (nullable = true)\n",
      " |-- situacao_cadastral: string (nullable = true)\n",
      " |-- data_situacao_cadastral: date (nullable = true)\n",
      " |-- motivo_situacao_cadastral: string (nullable = true)\n",
      " |-- nome_cidade_exterior: string (nullable = true)\n",
      " |-- codigo_pais: string (nullable = true)\n",
      " |-- data_inicio_atividade: date (nullable = true)\n",
      " |-- cnae_fiscal: string (nullable = true)\n",
      " |-- cnae_fiscal_secundaria: string (nullable = true)\n",
      " |-- tipo_logradouro: string (nullable = true)\n",
      " |-- logradouro: string (nullable = true)\n",
      " |-- numero: string (nullable = true)\n",
      " |-- complemento: string (nullable = true)\n",
      " |-- bairro: string (nullable = true)\n",
      " |-- cep: string (nullable = true)\n",
      " |-- uf: string (nullable = true)\n",
      " |-- codigo_municipio: string (nullable = true)\n",
      " |-- ddd1: string (nullable = true)\n",
      " |-- telefone1: string (nullable = true)\n",
      " |-- ddd2: string (nullable = true)\n",
      " |-- telefone2: string (nullable = true)\n",
      " |-- ddd_fax: string (nullable = true)\n",
      " |-- fax: string (nullable = true)\n",
      " |-- email: string (nullable = true)\n",
      " |-- situacao_especial: string (nullable = true)\n",
      " |-- data_situacao_especial: date (nullable = true)\n",
      " |-- codigo_cnae: string (nullable = true)\n",
      " |-- descricao_cnae: string (nullable = true)\n",
      " |-- id_municipio: string (nullable = true)\n",
      " |-- municipio: string (nullable = true)\n",
      " |-- empresa_cnpj_basico: string (nullable = true)\n",
      " |-- razao_social: string (nullable = true)\n",
      " |-- cod_natureza_juridica: string (nullable = true)\n",
      " |-- codigo_qualificacao_responsavel: string (nullable = true)\n",
      " |-- capital_social: decimal(20,2) (nullable = true)\n",
      " |-- codigo_porte_empresa: string (nullable = true)\n",
      " |-- ente_federativo_responsavel: string (nullable = true)\n",
      " |-- codigo_natureza_juridica: string (nullable = true)\n",
      " |-- natureza_juridica: string (nullable = true)\n",
      " |-- cnpj_basico: string (nullable = true)\n",
      " |-- opcao_simples: string (nullable = true)\n",
      " |-- data_opcao_simples: date (nullable = true)\n",
      " |-- data_exclusao_simples: date (nullable = true)\n",
      " |-- opcao_mei: string (nullable = true)\n",
      " |-- data_opcao_mei: date (nullable = true)\n",
      " |-- data_exclusao_mei: date (nullable = true)\n",
      "\n"
     ]
    }
   ],
   "source": [
    "try:    \n",
    "    deltaTable: DeltaTable = DeltaTable.forPath(spark, \"../TRS/CONSOLIDADO/01_TABELA_FATO\")\n",
    "    df: DataFrame = deltaTable.toDF()\n",
    "    df.show(5, truncate=False)\n",
    "    df.printSchema()\n",
    "except Exception as e:\n",
    "    print(f\"Erro na leitura: {e}\")"
   ]
  },
  {
   "cell_type": "markdown",
   "id": "6b2f8f43",
   "metadata": {},
   "source": [
    "### Visão Geral"
   ]
  },
  {
   "cell_type": "code",
   "execution_count": 157,
   "id": "160d0e5c",
   "metadata": {},
   "outputs": [
    {
     "name": "stderr",
     "output_type": "stream",
     "text": [
      "[Stage 218:======>                                                  (1 + 8) / 9]\r"
     ]
    },
    {
     "name": "stdout",
     "output_type": "stream",
     "text": [
      "+--------------+----------------------------------------------+------------------+-----------------------+-------------------------+---------------+--------------+---------------------+--------------+-----------------+----------------------------------+-------------------+--------------+--------+--------------+---+--------+------------------------------+------------------------------------------------------------------------------------------------------+----------------------------------------------------------+-----------------------+------------+------------------+------------------+---------------------+---------+--------------+-----------------+\n",
      "|CNPJ          |NOME FANTASIA                                 |SITUAÇÃO CADASTRAL|DATA SITUAÇÃO CADASTRAL|SITUAÇÃO CADASTRAL MOTIVO|CIDADE EXTERIOR|CÓDIGO DO PAÍS|DATA INÍCIO ATIVIDADE|CNAE PRINCIPAL|CNAES SECUNDÁRIOS|ENDEREÇO                          |COMPLEMENTO        |BAIRRO        |CEP     |MUNICÍPIO     |UF |TELEFONE|EMAIL                         |DESCRIÇÃO CNAE                                                                                        |RAZÃO SOCIAL                                              |NATUREZA JURÍDICA      |CÓDIGO PORTE|OPÇÃO PELO SIMPLES|DATA OPÇÃO SIMPLES|DATA EXCLUSÃO SIMPLES|OPÇÃO MEI|DATA OPÇÃO MEI|DATA EXCLUSÃO MEI|\n",
      "+--------------+----------------------------------------------+------------------+-----------------------+-------------------------+---------------+--------------+---------------------+--------------+-----------------+----------------------------------+-------------------+--------------+--------+--------------+---+--------+------------------------------+------------------------------------------------------------------------------------------------------+----------------------------------------------------------+-----------------------+------------+------------------+------------------+---------------------+---------+--------------+-----------------+\n",
      "|55752216000103|ASSOCIACAO ATLETICA BANCO DO BRASIL BURITAMA  |08                |09/02/2015             |73                       |NULL           |NULL          |08/03/1988           |9312300       |NULL             |NULL                              |NULL               |ZONA RURAL    |15290000|BURITAMA      |SP |NULL    |NULL                          |Clubes sociais, esportivos e similares                                                                |NULL                                                      |NULL                   |NULL        |NULL              |NULL              |NULL                 |NULL     |NULL          |NULL             |\n",
      "|04963763000199|BANCO DO BRASIL S/A                           |08                |14/08/2017             |01                       |NULL           |NULL          |18/03/2002           |4520006       |NULL             |RUA HENRIQUE PEDRO FERREIRA, 602  |NULL               |CENTRO        |19530000|CAIABU        |SP |32851194|saojose.escritorio@hotmail.com|Serviços de borracharia para veículos automotores                                                     |FLAVIO JULIAO DE SOUZA CAIABU                             |Empresário (Individual)|01          |N                 |01/01/2017        |14/08/2017           |N        |01/01/2017    |14/08/2017       |\n",
      "|43271881000198|CANTINA BANCO DO BRASIL                       |08                |28/01/2002             |01                       |NULL           |NULL          |08/04/1980           |8888888       |NULL             |RUA FELICIO MARCONDES, 397        |NULL               |CENTRO        |07010030|GUARULHOS     |SP |NULL    |NULL                          |Atividade Econônica não informada                                                                     |NULL                                                      |NULL                   |NULL        |NULL              |NULL              |NULL                 |NULL     |NULL          |NULL             |\n",
      "|47928483000152|LEILOEIRA OFICIAL BANCO DO BRASIL             |08                |25/10/2023             |01                       |NULL           |NULL          |13/09/2022           |8230001       |NULL             |RUA DOS TAMOIOS - ATE 399/400, 731|NULL               |CENTRO        |30120050|BELO HORIZONTE|MG |31572900|CONTATO@BRLEILOESOFICIAL.COM  |Serviços de organização de feiras, congressos, exposições e festas                                    |NULL                                                      |NULL                   |NULL        |N                 |13/09/2022        |25/10/2023           |N        |13/09/2022    |25/10/2023       |\n",
      "|77264141000146|ASSOCIACAO ATLETICA BANCO DO BRASIL           |02                |03/11/2005             |00                       |NULL           |NULL          |06/10/1976           |9430800       |9493600,9499500  |AVENIDA MOISES LUPION, 300        |NULL               |JARDIM LINDOIA|87360000|GOIOERE       |PR |NULL    |NULL                          |Atividades de associações de defesa de direitos sociais                                               |NULL                                                      |NULL                   |NULL        |NULL              |NULL              |NULL                 |NULL     |NULL          |NULL             |\n",
      "|11324415000137|ASSOCIACAO ATLETICA BANCO DO BRASIL           |02                |19/02/2020             |00                       |NULL           |NULL          |22/09/1977           |9312300       |NULL             |AVENIDA ESTACIO COIMBRA, 720      |NULL               |CENTRO        |55815000|CARPINA       |PE |NULL    |NULL                          |Clubes sociais, esportivos e similares                                                                |NULL                                                      |NULL                   |NULL        |NULL              |NULL              |NULL                 |NULL     |NULL          |NULL             |\n",
      "|08369929000102|ASSOCIACAO DO PONTO DE TAXI DO BANCO DO BRASIL|08                |09/02/2015             |73                       |NULL           |NULL          |13/07/2001           |9430800       |9493600,9499500  |RUA DOMINGOS MARREIROS, 1578      |A                  |FATIMA        |66010000|BELEM         |PA |81410172|NULL                          |Atividades de associações de defesa de direitos sociais                                               |ASSOCIACAO DOS TAXISTAS DO BANCO DO BRASIL AGENCIA CANUDOS|Associação Privada     |05          |NULL              |NULL              |NULL                 |NULL     |NULL          |NULL             |\n",
      "|21703306000184|CORRESPONDENTE BANCO DO BRASIL                |04                |28/01/2022             |63                       |NULL           |NULL          |19/01/2015           |8211300       |5310502,8219999  |TRAVESSA COLOMBIANO MARVAO, 1306  |NULL               |PLANALTO      |68200000|ALENQUER      |PA |91114773|NULL                          |Serviços combinados de escritório e apoio administrativo                                              |NULL                                                      |NULL                   |NULL        |S                 |19/01/2015        |NULL                 |N        |19/01/2015    |31/12/2019       |\n",
      "|00051235000102|COOPERATIVA DO BANCO DO BRASIL                |08                |31/12/2008             |71                       |NULL           |NULL          |08/01/1968           |4711302       |NULL             |NULL                              |NOROESTE CONJUNTO C|ASA NORTE     |70310500|BRASILIA      |DF |NULL    |NULL                          |Comércio varejista de mercadorias em geral, com predominância de produtos alimentícios - supermercados|NULL                                                      |NULL                   |NULL        |NULL              |NULL              |NULL                 |NULL     |NULL          |NULL             |\n",
      "+--------------+----------------------------------------------+------------------+-----------------------+-------------------------+---------------+--------------+---------------------+--------------+-----------------+----------------------------------+-------------------+--------------+--------+--------------+---+--------+------------------------------+------------------------------------------------------------------------------------------------------+----------------------------------------------------------+-----------------------+------------+------------------+------------------+---------------------+---------+--------------+-----------------+\n",
      "\n"
     ]
    },
    {
     "name": "stderr",
     "output_type": "stream",
     "text": [
      "                                                                                \r"
     ]
    }
   ],
   "source": [
    "df.select(\n",
    "    df[\"cnpj_completo\"].alias(\"CNPJ\"),\n",
    "    df[\"nome_fantasia\"].alias(\"NOME FANTASIA\"),\n",
    "    df[\"situacao_cadastral\"].alias(\"SITUAÇÃO CADASTRAL\"),\n",
    "    f.date_format(df[\"data_situacao_cadastral\"], \"dd/MM/yyyy\").alias(\"DATA SITUAÇÃO CADASTRAL\"),\n",
    "    df[\"motivo_situacao_cadastral\"].alias(\"SITUAÇÃO CADASTRAL MOTIVO\"),\n",
    "    df[\"nome_cidade_exterior\"].alias(\"CIDADE EXTERIOR\"),\n",
    "    df[\"codigo_pais\"].alias(\"CÓDIGO DO PAÍS\"),\n",
    "    f.date_format(df[\"data_inicio_atividade\"], \"dd/MM/yyyy\").alias(\"DATA INÍCIO ATIVIDADE\"),\n",
    "    df[\"cnae_fiscal\"].alias(\"CNAE PRINCIPAL\"),\n",
    "    df[\"cnae_fiscal_secundaria\"].alias(\"CNAES SECUNDÁRIOS\"),\n",
    "    f.concat(\n",
    "        df[\"tipo_logradouro\"],\n",
    "        f.lit(\" \"),\n",
    "        df[\"logradouro\"],\n",
    "        f.lit(\", \"),\n",
    "        df[\"numero\"]\n",
    "    ).alias(\"ENDEREÇO\"),\n",
    "    df[\"complemento\"].alias(\"COMPLEMENTO\"),\n",
    "    df[\"bairro\"].alias(\"BAIRRO\"),\n",
    "    df[\"cep\"].alias(\"CEP\"),\n",
    "    df[\"municipio\"].alias(\"MUNICÍPIO\"),\n",
    "    df[\"uf\"].alias(\"UF\"),\n",
    "    df[\"telefone1\"].alias(\"TELEFONE\"),\n",
    "    df[\"email\"].alias(\"EMAIL\"),\n",
    "    df[\"descricao_cnae\"].alias(\"DESCRIÇÃO CNAE\"),\n",
    "    df[\"razao_social\"].alias(\"RAZÃO SOCIAL\"),\n",
    "    df[\"natureza_juridica\"].alias(\"NATUREZA JURÍDICA\"),\n",
    "    df[\"codigo_porte_empresa\"].alias(\"CÓDIGO PORTE\"),\n",
    "    df[\"opcao_simples\"].alias(\"OPÇÃO PELO SIMPLES\"),\n",
    "    f.date_format(df[\"data_opcao_simples\"], \"dd/MM/yyyy\").alias(\"DATA OPÇÃO SIMPLES\"),\n",
    "    f.date_format(df[\"data_exclusao_simples\"], \"dd/MM/yyyy\").alias(\"DATA EXCLUSÃO SIMPLES\"),\n",
    "    df[\"opcao_mei\"].alias(\"OPÇÃO MEI\"),\n",
    "    f.date_format(df[\"data_opcao_mei\"], \"dd/MM/yyyy\").alias(\"DATA OPÇÃO MEI\"),\n",
    "    f.date_format(df[\"data_exclusao_mei\"], \"dd/MM/yyyy\").alias(\"DATA EXCLUSÃO MEI\")\n",
    ").filter(df[\"nome_fantasia\"].like(\"%BANCO DO BRASIL%\")).show(10, truncate=False)"
   ]
  },
  {
   "cell_type": "markdown",
   "id": "fe0990b3",
   "metadata": {},
   "source": [
    "### 📊 Estatísticas Gerais"
   ]
  },
  {
   "cell_type": "markdown",
   "id": "0979049d",
   "metadata": {},
   "source": [
    "#### Listar UFs distintas"
   ]
  },
  {
   "cell_type": "code",
   "execution_count": 111,
   "id": "b2175249",
   "metadata": {},
   "outputs": [
    {
     "name": "stdout",
     "output_type": "stream",
     "text": [
      "+---+\n",
      "| uf|\n",
      "+---+\n",
      "| SP|\n",
      "| MG|\n",
      "| RJ|\n",
      "| PR|\n",
      "| RS|\n",
      "| SC|\n",
      "| BA|\n",
      "| GO|\n",
      "| PE|\n",
      "| ES|\n",
      "| PA|\n",
      "| CE|\n",
      "| MT|\n",
      "| MS|\n",
      "| MA|\n",
      "| DF|\n",
      "| PI|\n",
      "| AM|\n",
      "| PB|\n",
      "| AL|\n",
      "+---+\n",
      "only showing top 20 rows\n"
     ]
    }
   ],
   "source": [
    "df.select(\"uf\").distinct().show()"
   ]
  },
  {
   "cell_type": "markdown",
   "id": "4903f55a",
   "metadata": {},
   "source": [
    "#### Contagem de empresas por UF"
   ]
  },
  {
   "cell_type": "code",
   "execution_count": null,
   "id": "38743bc6",
   "metadata": {},
   "outputs": [
    {
     "name": "stdout",
     "output_type": "stream",
     "text": [
      "+---+------------+\n",
      "| uf|Qtd Empresas|\n",
      "+---+------------+\n",
      "| SP|     1379898|\n",
      "| MG|      513667|\n",
      "| RJ|      382888|\n",
      "| RS|      344456|\n",
      "| PR|      326165|\n",
      "| BA|      237630|\n",
      "| SC|      231308|\n",
      "| GO|      169298|\n",
      "| PE|      141706|\n",
      "| CE|      134480|\n",
      "| ES|       96212|\n",
      "| PA|       93181|\n",
      "| MT|       91885|\n",
      "| DF|       79580|\n",
      "| MA|       72871|\n",
      "| MS|       63846|\n",
      "| PB|       59851|\n",
      "| RN|       53391|\n",
      "| AM|       51203|\n",
      "| AL|       45296|\n",
      "+---+------------+\n",
      "only showing top 20 rows\n"
     ]
    }
   ],
   "source": [
    "df_contagem_uf_empresas = \\\n",
    "    df.groupBy(\"uf\") \\\n",
    "    .agg(\n",
    "        f.count(\"*\").alias(\"Qtd Empresas\")\n",
    "    ).orderBy(\"Qtd Empresas\", ascending=False)\n",
    "\n",
    "df_contagem_uf_empresas.show()"
   ]
  },
  {
   "cell_type": "markdown",
   "id": "420f4259",
   "metadata": {},
   "source": [
    "#### Decrição estatística"
   ]
  },
  {
   "cell_type": "code",
   "execution_count": 116,
   "id": "4d06a6c4",
   "metadata": {},
   "outputs": [
    {
     "name": "stdout",
     "output_type": "stream",
     "text": [
      "+-------+-------------------+\n",
      "|summary|     capital_social|\n",
      "+-------+-------------------+\n",
      "|  count|             486655|\n",
      "|   mean|    11290841.310325|\n",
      "| stddev|7.893831372139556E8|\n",
      "|    min|               0.00|\n",
      "|    max|    500000352182.73|\n",
      "+-------+-------------------+\n",
      "\n"
     ]
    }
   ],
   "source": [
    "# Para mais de uma coluna -> df.describe([\"col1\", \"col2\"]).show()\n",
    "df.describe(\"capital_social\").show()"
   ]
  },
  {
   "cell_type": "markdown",
   "id": "32f6618e",
   "metadata": {},
   "source": [
    "### 🔍 3. Consultas Relevantes para Insights"
   ]
  },
  {
   "cell_type": "markdown",
   "id": "2661843d",
   "metadata": {},
   "source": [
    "#### Top 10 municípios com mais empresas"
   ]
  },
  {
   "cell_type": "code",
   "execution_count": 122,
   "id": "82553b2b",
   "metadata": {},
   "outputs": [
    {
     "name": "stdout",
     "output_type": "stream",
     "text": [
      "+--------------+---+--------------+\n",
      "|     municipio| uf|Qtd Municipios|\n",
      "+--------------+---+--------------+\n",
      "|     SAO PAULO| SP|        430363|\n",
      "|RIO DE JANEIRO| RJ|        168441|\n",
      "|BELO HORIZONTE| MG|         91174|\n",
      "|      BRASILIA| DF|         79580|\n",
      "|      CURITIBA| PR|         75285|\n",
      "|      SALVADOR| BA|         66713|\n",
      "|  PORTO ALEGRE| RS|         62352|\n",
      "|     FORTALEZA| CE|         62262|\n",
      "|       GOIANIA| GO|         51450|\n",
      "|        RECIFE| PE|         42108|\n",
      "+--------------+---+--------------+\n",
      "only showing top 10 rows\n"
     ]
    },
    {
     "name": "stderr",
     "output_type": "stream",
     "text": [
      "                                                                                \r"
     ]
    }
   ],
   "source": [
    "df_municipio = df\n",
    "df_municipio_por_uf = df_municipio.groupBy(\"municipio\", \"uf\").agg(\n",
    "    f.count(\"*\").alias(\"Qtd Municipios\"),\n",
    ").orderBy(\"Qtd Municipios\", ascending=False)\n",
    "df_municipio_por_uf.show(10)"
   ]
  },
  {
   "cell_type": "markdown",
   "id": "59a83f64",
   "metadata": {},
   "source": [
    "#### Distribuição por Natureza Jurídica"
   ]
  },
  {
   "cell_type": "code",
   "execution_count": null,
   "id": "f1a175bc",
   "metadata": {},
   "outputs": [],
   "source": [
    "df_natureza_juridica = df\n"
   ]
  },
  {
   "cell_type": "markdown",
   "id": "20fecc89",
   "metadata": {},
   "source": [
    "## Delta Table - Controle de versões"
   ]
  },
  {
   "cell_type": "code",
   "execution_count": null,
   "id": "e5495f31",
   "metadata": {},
   "outputs": [
    {
     "name": "stdout",
     "output_type": "stream",
     "text": [
      "-RECORD 0------------------------------------------------------------------------------------------------------------------------------------------------------------------------------------------------------------------------------------------------------------------------------------------------------------------------------------------------------------------------------------------------------------------------------------------------------------------------------------------------------------------------------------------------------------------------------------------------------------------------------------------------------------------------------------------------------------------------------------------------\n",
      " version             | 5                                                                                                                                                                                                                                                                                                                                                                                                                                                                                                                                                                                                                                                                                                                                 \n",
      " timestamp           | 2025-07-19 17:17:55.42                                                                                                                                                                                                                                                                                                                                                                                                                                                                                                                                                                                                                                                                                                            \n",
      " userId              | NULL                                                                                                                                                                                                                                                                                                                                                                                                                                                                                                                                                                                                                                                                                                                              \n",
      " userName            | NULL                                                                                                                                                                                                                                                                                                                                                                                                                                                                                                                                                                                                                                                                                                                              \n",
      " operation           | MERGE                                                                                                                                                                                                                                                                                                                                                                                                                                                                                                                                                                                                                                                                                                                             \n",
      " operationParameters | {predicate -> [\"(cnpj_completo#23448 = cnpj_completo#19203)\"], matchedPredicates -> [{\"actionType\":\"update\"}], notMatchedPredicates -> [{\"actionType\":\"insert\"}], notMatchedBySourcePredicates -> []}                                                                                                                                                                                                                                                                                                                                                                                                                                                                                                                             \n",
      " job                 | NULL                                                                                                                                                                                                                                                                                                                                                                                                                                                                                                                                                                                                                                                                                                                              \n",
      " notebook            | NULL                                                                                                                                                                                                                                                                                                                                                                                                                                                                                                                                                                                                                                                                                                                              \n",
      " clusterId           | NULL                                                                                                                                                                                                                                                                                                                                                                                                                                                                                                                                                                                                                                                                                                                              \n",
      " readVersion         | 4                                                                                                                                                                                                                                                                                                                                                                                                                                                                                                                                                                                                                                                                                                                                 \n",
      " isolationLevel      | Serializable                                                                                                                                                                                                                                                                                                                                                                                                                                                                                                                                                                                                                                                                                                                      \n",
      " isBlindAppend       | false                                                                                                                                                                                                                                                                                                                                                                                                                                                                                                                                                                                                                                                                                                                             \n",
      " operationMetrics    | {numTargetRowsCopied -> 0, numTargetRowsDeleted -> 0, numTargetBytesRemoved -> 407834469, numTargetDeletionVectorsAdded -> 0, numTargetRowsMatchedUpdated -> 4753435, numTargetRowsMatchedDeleted -> 0, numTargetRowsUpdated -> 4753435, numTargetChangeFilesAdded -> 0, numTargetRowsNotMatchedBySourceDeleted -> 0, rewriteTimeMs -> 106244, numTargetFilesAdded -> 28, numTargetBytesAdded -> 408320360, executionTimeMs -> 114583, materializeSourceTimeMs -> 1, numTargetRowsInserted -> 0, numTargetDeletionVectorsUpdated -> 0, scanTimeMs -> 8333, numOutputRows -> 4753435, numTargetDeletionVectorsRemoved -> 0, numTargetRowsNotMatchedBySourceUpdated -> 0, numSourceRows -> 4753435, numTargetFilesRemoved -> 28}    \n",
      " userMetadata        | NULL                                                                                                                                                                                                                                                                                                                                                                                                                                                                                                                                                                                                                                                                                                                              \n",
      " engineInfo          | Apache-Spark/4.0.0 Delta-Lake/4.0.0                                                                                                                                                                                                                                                                                                                                                                                                                                                                                                                                                                                                                                                                                               \n",
      "-RECORD 1------------------------------------------------------------------------------------------------------------------------------------------------------------------------------------------------------------------------------------------------------------------------------------------------------------------------------------------------------------------------------------------------------------------------------------------------------------------------------------------------------------------------------------------------------------------------------------------------------------------------------------------------------------------------------------------------------------------------------------------------\n",
      " version             | 4                                                                                                                                                                                                                                                                                                                                                                                                                                                                                                                                                                                                                                                                                                                                 \n",
      " timestamp           | 2025-07-19 17:13:12.504                                                                                                                                                                                                                                                                                                                                                                                                                                                                                                                                                                                                                                                                                                           \n",
      " userId              | NULL                                                                                                                                                                                                                                                                                                                                                                                                                                                                                                                                                                                                                                                                                                                              \n",
      " userName            | NULL                                                                                                                                                                                                                                                                                                                                                                                                                                                                                                                                                                                                                                                                                                                              \n",
      " operation           | MERGE                                                                                                                                                                                                                                                                                                                                                                                                                                                                                                                                                                                                                                                                                                                             \n",
      " operationParameters | {predicate -> [\"(cnpj_completo#19866 = cnpj_completo#19203)\"], matchedPredicates -> [{\"actionType\":\"update\"}], notMatchedPredicates -> [{\"actionType\":\"insert\"}], notMatchedBySourcePredicates -> []}                                                                                                                                                                                                                                                                                                                                                                                                                                                                                                                             \n",
      " job                 | NULL                                                                                                                                                                                                                                                                                                                                                                                                                                                                                                                                                                                                                                                                                                                              \n",
      " notebook            | NULL                                                                                                                                                                                                                                                                                                                                                                                                                                                                                                                                                                                                                                                                                                                              \n",
      " clusterId           | NULL                                                                                                                                                                                                                                                                                                                                                                                                                                                                                                                                                                                                                                                                                                                              \n",
      " readVersion         | 3                                                                                                                                                                                                                                                                                                                                                                                                                                                                                                                                                                                                                                                                                                                                 \n",
      " isolationLevel      | Serializable                                                                                                                                                                                                                                                                                                                                                                                                                                                                                                                                                                                                                                                                                                                      \n",
      " isBlindAppend       | false                                                                                                                                                                                                                                                                                                                                                                                                                                                                                                                                                                                                                                                                                                                             \n",
      " operationMetrics    | {numTargetRowsCopied -> 0, numTargetRowsDeleted -> 0, numTargetBytesRemoved -> 408039878, numTargetDeletionVectorsAdded -> 0, numTargetRowsMatchedUpdated -> 4753435, numTargetRowsMatchedDeleted -> 0, numTargetRowsUpdated -> 4753435, numTargetChangeFilesAdded -> 0, numTargetRowsNotMatchedBySourceDeleted -> 0, rewriteTimeMs -> 126771, numTargetFilesAdded -> 28, numTargetBytesAdded -> 407834469, executionTimeMs -> 137165, materializeSourceTimeMs -> 1, numTargetRowsInserted -> 0, numTargetDeletionVectorsUpdated -> 0, scanTimeMs -> 10388, numOutputRows -> 4753435, numTargetDeletionVectorsRemoved -> 0, numTargetRowsNotMatchedBySourceUpdated -> 0, numSourceRows -> 4753435, numTargetFilesRemoved -> 28}   \n",
      " userMetadata        | NULL                                                                                                                                                                                                                                                                                                                                                                                                                                                                                                                                                                                                                                                                                                                              \n",
      " engineInfo          | Apache-Spark/4.0.0 Delta-Lake/4.0.0                                                                                                                                                                                                                                                                                                                                                                                                                                                                                                                                                                                                                                                                                               \n",
      "-RECORD 2------------------------------------------------------------------------------------------------------------------------------------------------------------------------------------------------------------------------------------------------------------------------------------------------------------------------------------------------------------------------------------------------------------------------------------------------------------------------------------------------------------------------------------------------------------------------------------------------------------------------------------------------------------------------------------------------------------------------------------------------\n",
      " version             | 3                                                                                                                                                                                                                                                                                                                                                                                                                                                                                                                                                                                                                                                                                                                                 \n",
      " timestamp           | 2025-07-19 16:43:44.583                                                                                                                                                                                                                                                                                                                                                                                                                                                                                                                                                                                                                                                                                                           \n",
      " userId              | NULL                                                                                                                                                                                                                                                                                                                                                                                                                                                                                                                                                                                                                                                                                                                              \n",
      " userName            | NULL                                                                                                                                                                                                                                                                                                                                                                                                                                                                                                                                                                                                                                                                                                                              \n",
      " operation           | MERGE                                                                                                                                                                                                                                                                                                                                                                                                                                                                                                                                                                                                                                                                                                                             \n",
      " operationParameters | {predicate -> [\"(cnpj_completo#7894 = cnpj_completo#7622)\"], matchedPredicates -> [{\"actionType\":\"update\"}], notMatchedPredicates -> [{\"actionType\":\"insert\"}], notMatchedBySourcePredicates -> []}                                                                                                                                                                                                                                                                                                                                                                                                                                                                                                                               \n",
      " job                 | NULL                                                                                                                                                                                                                                                                                                                                                                                                                                                                                                                                                                                                                                                                                                                              \n",
      " notebook            | NULL                                                                                                                                                                                                                                                                                                                                                                                                                                                                                                                                                                                                                                                                                                                              \n",
      " clusterId           | NULL                                                                                                                                                                                                                                                                                                                                                                                                                                                                                                                                                                                                                                                                                                                              \n",
      " readVersion         | 2                                                                                                                                                                                                                                                                                                                                                                                                                                                                                                                                                                                                                                                                                                                                 \n",
      " isolationLevel      | Serializable                                                                                                                                                                                                                                                                                                                                                                                                                                                                                                                                                                                                                                                                                                                      \n",
      " isBlindAppend       | false                                                                                                                                                                                                                                                                                                                                                                                                                                                                                                                                                                                                                                                                                                                             \n",
      " operationMetrics    | {numTargetRowsCopied -> 0, numTargetRowsDeleted -> 0, numTargetBytesRemoved -> 407474115, numTargetDeletionVectorsAdded -> 0, numTargetRowsMatchedUpdated -> 4753435, numTargetRowsMatchedDeleted -> 0, numTargetRowsUpdated -> 4753435, numTargetChangeFilesAdded -> 0, numTargetRowsNotMatchedBySourceDeleted -> 0, rewriteTimeMs -> 117613, numTargetFilesAdded -> 28, numTargetBytesAdded -> 408039878, executionTimeMs -> 130735, materializeSourceTimeMs -> 1, numTargetRowsInserted -> 0, numTargetDeletionVectorsUpdated -> 0, scanTimeMs -> 13106, numOutputRows -> 4753435, numTargetDeletionVectorsRemoved -> 0, numTargetRowsNotMatchedBySourceUpdated -> 0, numSourceRows -> 4753435, numTargetFilesRemoved -> 28}   \n",
      " userMetadata        | NULL                                                                                                                                                                                                                                                                                                                                                                                                                                                                                                                                                                                                                                                                                                                              \n",
      " engineInfo          | Apache-Spark/4.0.0 Delta-Lake/4.0.0                                                                                                                                                                                                                                                                                                                                                                                                                                                                                                                                                                                                                                                                                               \n",
      "-RECORD 3------------------------------------------------------------------------------------------------------------------------------------------------------------------------------------------------------------------------------------------------------------------------------------------------------------------------------------------------------------------------------------------------------------------------------------------------------------------------------------------------------------------------------------------------------------------------------------------------------------------------------------------------------------------------------------------------------------------------------------------------\n",
      " version             | 2                                                                                                                                                                                                                                                                                                                                                                                                                                                                                                                                                                                                                                                                                                                                 \n",
      " timestamp           | 2025-07-19 15:51:55.321                                                                                                                                                                                                                                                                                                                                                                                                                                                                                                                                                                                                                                                                                                           \n",
      " userId              | NULL                                                                                                                                                                                                                                                                                                                                                                                                                                                                                                                                                                                                                                                                                                                              \n",
      " userName            | NULL                                                                                                                                                                                                                                                                                                                                                                                                                                                                                                                                                                                                                                                                                                                              \n",
      " operation           | MERGE                                                                                                                                                                                                                                                                                                                                                                                                                                                                                                                                                                                                                                                                                                                             \n",
      " operationParameters | {predicate -> [\"(cnpj_completo#4502 = cnpj_completo#1235)\"], matchedPredicates -> [{\"actionType\":\"update\"}], notMatchedPredicates -> [{\"actionType\":\"insert\"}], notMatchedBySourcePredicates -> []}                                                                                                                                                                                                                                                                                                                                                                                                                                                                                                                               \n",
      " job                 | NULL                                                                                                                                                                                                                                                                                                                                                                                                                                                                                                                                                                                                                                                                                                                              \n",
      " notebook            | NULL                                                                                                                                                                                                                                                                                                                                                                                                                                                                                                                                                                                                                                                                                                                              \n",
      " clusterId           | NULL                                                                                                                                                                                                                                                                                                                                                                                                                                                                                                                                                                                                                                                                                                                              \n",
      " readVersion         | 1                                                                                                                                                                                                                                                                                                                                                                                                                                                                                                                                                                                                                                                                                                                                 \n",
      " isolationLevel      | Serializable                                                                                                                                                                                                                                                                                                                                                                                                                                                                                                                                                                                                                                                                                                                      \n",
      " isBlindAppend       | false                                                                                                                                                                                                                                                                                                                                                                                                                                                                                                                                                                                                                                                                                                                             \n",
      " operationMetrics    | {numTargetRowsCopied -> 0, numTargetRowsDeleted -> 0, numTargetBytesRemoved -> 426259641, numTargetDeletionVectorsAdded -> 0, numTargetRowsMatchedUpdated -> 4753435, numTargetRowsMatchedDeleted -> 0, numTargetRowsUpdated -> 4753435, numTargetChangeFilesAdded -> 0, numTargetRowsNotMatchedBySourceDeleted -> 0, rewriteTimeMs -> 114964, numTargetFilesAdded -> 28, numTargetBytesAdded -> 407474115, executionTimeMs -> 124930, materializeSourceTimeMs -> 1, numTargetRowsInserted -> 0, numTargetDeletionVectorsUpdated -> 0, scanTimeMs -> 9958, numOutputRows -> 4753435, numTargetDeletionVectorsRemoved -> 0, numTargetRowsNotMatchedBySourceUpdated -> 0, numSourceRows -> 4753435, numTargetFilesRemoved -> 28}    \n",
      " userMetadata        | NULL                                                                                                                                                                                                                                                                                                                                                                                                                                                                                                                                                                                                                                                                                                                              \n",
      " engineInfo          | Apache-Spark/4.0.0 Delta-Lake/4.0.0                                                                                                                                                                                                                                                                                                                                                                                                                                                                                                                                                                                                                                                                                               \n",
      "-RECORD 4------------------------------------------------------------------------------------------------------------------------------------------------------------------------------------------------------------------------------------------------------------------------------------------------------------------------------------------------------------------------------------------------------------------------------------------------------------------------------------------------------------------------------------------------------------------------------------------------------------------------------------------------------------------------------------------------------------------------------------------------\n",
      " version             | 1                                                                                                                                                                                                                                                                                                                                                                                                                                                                                                                                                                                                                                                                                                                                 \n",
      " timestamp           | 2025-07-19 15:45:21.694                                                                                                                                                                                                                                                                                                                                                                                                                                                                                                                                                                                                                                                                                                           \n",
      " userId              | NULL                                                                                                                                                                                                                                                                                                                                                                                                                                                                                                                                                                                                                                                                                                                              \n",
      " userName            | NULL                                                                                                                                                                                                                                                                                                                                                                                                                                                                                                                                                                                                                                                                                                                              \n",
      " operation           | MERGE                                                                                                                                                                                                                                                                                                                                                                                                                                                                                                                                                                                                                                                                                                                             \n",
      " operationParameters | {predicate -> [\"(cnpj_completo#1864 = cnpj_completo#1235)\"], matchedPredicates -> [{\"actionType\":\"update\"}], notMatchedPredicates -> [{\"actionType\":\"insert\"}], notMatchedBySourcePredicates -> []}                                                                                                                                                                                                                                                                                                                                                                                                                                                                                                                               \n",
      " job                 | NULL                                                                                                                                                                                                                                                                                                                                                                                                                                                                                                                                                                                                                                                                                                                              \n",
      " notebook            | NULL                                                                                                                                                                                                                                                                                                                                                                                                                                                                                                                                                                                                                                                                                                                              \n",
      " clusterId           | NULL                                                                                                                                                                                                                                                                                                                                                                                                                                                                                                                                                                                                                                                                                                                              \n",
      " readVersion         | 0                                                                                                                                                                                                                                                                                                                                                                                                                                                                                                                                                                                                                                                                                                                                 \n",
      " isolationLevel      | Serializable                                                                                                                                                                                                                                                                                                                                                                                                                                                                                                                                                                                                                                                                                                                      \n",
      " isBlindAppend       | false                                                                                                                                                                                                                                                                                                                                                                                                                                                                                                                                                                                                                                                                                                                             \n",
      " operationMetrics    | {numTargetRowsCopied -> 0, numTargetRowsDeleted -> 0, numTargetBytesRemoved -> 520576652, numTargetDeletionVectorsAdded -> 0, numTargetRowsMatchedUpdated -> 4753435, numTargetRowsMatchedDeleted -> 0, numTargetRowsUpdated -> 4753435, numTargetChangeFilesAdded -> 0, numTargetRowsNotMatchedBySourceDeleted -> 0, rewriteTimeMs -> 107714, numTargetFilesAdded -> 28, numTargetBytesAdded -> 426259641, executionTimeMs -> 119803, materializeSourceTimeMs -> 1, numTargetRowsInserted -> 0, numTargetDeletionVectorsUpdated -> 0, scanTimeMs -> 12074, numOutputRows -> 4753435, numTargetDeletionVectorsRemoved -> 0, numTargetRowsNotMatchedBySourceUpdated -> 0, numSourceRows -> 4753435, numTargetFilesRemoved -> 1120} \n",
      " userMetadata        | NULL                                                                                                                                                                                                                                                                                                                                                                                                                                                                                                                                                                                                                                                                                                                              \n",
      " engineInfo          | Apache-Spark/4.0.0 Delta-Lake/4.0.0                                                                                                                                                                                                                                                                                                                                                                                                                                                                                                                                                                                                                                                                                               \n",
      "-RECORD 5------------------------------------------------------------------------------------------------------------------------------------------------------------------------------------------------------------------------------------------------------------------------------------------------------------------------------------------------------------------------------------------------------------------------------------------------------------------------------------------------------------------------------------------------------------------------------------------------------------------------------------------------------------------------------------------------------------------------------------------------\n",
      " version             | 0                                                                                                                                                                                                                                                                                                                                                                                                                                                                                                                                                                                                                                                                                                                                 \n",
      " timestamp           | 2025-07-19 15:10:36.51                                                                                                                                                                                                                                                                                                                                                                                                                                                                                                                                                                                                                                                                                                            \n",
      " userId              | NULL                                                                                                                                                                                                                                                                                                                                                                                                                                                                                                                                                                                                                                                                                                                              \n",
      " userName            | NULL                                                                                                                                                                                                                                                                                                                                                                                                                                                                                                                                                                                                                                                                                                                              \n",
      " operation           | WRITE                                                                                                                                                                                                                                                                                                                                                                                                                                                                                                                                                                                                                                                                                                                             \n",
      " operationParameters | {mode -> Overwrite, partitionBy -> [\"uf\"]}                                                                                                                                                                                                                                                                                                                                                                                                                                                                                                                                                                                                                                                                                        \n",
      " job                 | NULL                                                                                                                                                                                                                                                                                                                                                                                                                                                                                                                                                                                                                                                                                                                              \n",
      " notebook            | NULL                                                                                                                                                                                                                                                                                                                                                                                                                                                                                                                                                                                                                                                                                                                              \n",
      " clusterId           | NULL                                                                                                                                                                                                                                                                                                                                                                                                                                                                                                                                                                                                                                                                                                                              \n",
      " readVersion         | NULL                                                                                                                                                                                                                                                                                                                                                                                                                                                                                                                                                                                                                                                                                                                              \n",
      " isolationLevel      | Serializable                                                                                                                                                                                                                                                                                                                                                                                                                                                                                                                                                                                                                                                                                                                      \n",
      " isBlindAppend       | false                                                                                                                                                                                                                                                                                                                                                                                                                                                                                                                                                                                                                                                                                                                             \n",
      " operationMetrics    | {numFiles -> 1120, numRemovedFiles -> 0, numRemovedBytes -> 0, numOutputRows -> 4753435, numOutputBytes -> 520576652}                                                                                                                                                                                                                                                                                                                                                                                                                                                                                                                                                                                                             \n",
      " userMetadata        | NULL                                                                                                                                                                                                                                                                                                                                                                                                                                                                                                                                                                                                                                                                                                                              \n",
      " engineInfo          | Apache-Spark/4.0.0 Delta-Lake/4.0.0                                                                                                                                                                                                                                                                                                                                                                                                                                                                                                                                                                                                                                                                                               \n",
      "\n"
     ]
    }
   ],
   "source": [
    "deltaTable.history().show(vertical=True, truncate=False)"
   ]
  },
  {
   "cell_type": "markdown",
   "id": "bb10d479",
   "metadata": {},
   "source": [
    "## Finalizar spark"
   ]
  },
  {
   "cell_type": "code",
   "execution_count": 160,
   "id": "482f74b9",
   "metadata": {},
   "outputs": [],
   "source": [
    "spark.stop()"
   ]
  },
  {
   "cell_type": "code",
   "execution_count": null,
   "id": "9254a441",
   "metadata": {},
   "outputs": [],
   "source": []
  }
 ],
 "metadata": {
  "kernelspec": {
   "display_name": "venv",
   "language": "python",
   "name": "python3"
  },
  "language_info": {
   "codemirror_mode": {
    "name": "ipython",
    "version": 3
   },
   "file_extension": ".py",
   "mimetype": "text/x-python",
   "name": "python",
   "nbconvert_exporter": "python",
   "pygments_lexer": "ipython3",
   "version": "3.12.3"
  }
 },
 "nbformat": 4,
 "nbformat_minor": 5
}
