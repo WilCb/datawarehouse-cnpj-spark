{
 "cells": [
  {
   "cell_type": "markdown",
   "id": "4f9b6b9b",
   "metadata": {},
   "source": [
    "# Preparação e Estruturação dos Dados Brutos (Camada RAW)"
   ]
  },
  {
   "cell_type": "markdown",
   "id": "454bcc69",
   "metadata": {},
   "source": [
    "Este notebook é responsável por ler os dados coletados na camada Landing (LND), aplicando esquemas estruturados para transformar os arquivos JSON e CSV em DataFrames do PySpark. Os dados são então organizados, renomeados e armazenados no formato Delta Lake na camada RAW, com particionamento para otimização do armazenamento e consultas futuras."
   ]
  },
  {
   "cell_type": "markdown",
   "id": "a7bbbd56",
   "metadata": {},
   "source": [
    "## Configuração e Importações do pyspark e delta lake"
   ]
  },
  {
   "cell_type": "code",
   "execution_count": 1,
   "id": "2f8a27af-0551-4fc2-8cfc-8bed0cfec52a",
   "metadata": {},
   "outputs": [],
   "source": [
    "# Para iniciar a seção spark\n",
    "from typing import Optional, Union, List\n",
    "from pyspark.sql import SparkSession, DataFrame\n",
    "from pyspark.sql.types import StructType, StructField, StringType\n",
    "from pyspark.sql.functions import col\n",
    "from delta import configure_spark_with_delta_pip\n",
    "from delta.tables import DeltaTable"
   ]
  },
  {
   "cell_type": "code",
   "execution_count": 2,
   "id": "8640d3ba-e646-4f79-8827-2d8b215ae228",
   "metadata": {},
   "outputs": [
    {
     "name": "stderr",
     "output_type": "stream",
     "text": [
      "WARNING: Using incubator modules: jdk.incubator.vector\n",
      "Using Spark's default log4j profile: org/apache/spark/log4j2-defaults.properties\n",
      "25/07/20 12:01:09 WARN Utils: Your hostname, BRALSOFT42, resolves to a loopback address: 127.0.1.1; using 10.255.255.254 instead (on interface lo)\n",
      "25/07/20 12:01:09 WARN Utils: Set SPARK_LOCAL_IP if you need to bind to another address\n",
      ":: loading settings :: url = jar:file:/home/wilcb/projeto_data_warehouse/venv/lib/python3.12/site-packages/pyspark/jars/ivy-2.5.3.jar!/org/apache/ivy/core/settings/ivysettings.xml\n",
      "Ivy Default Cache set to: /home/wilcb/.ivy2.5.2/cache\n",
      "The jars for the packages stored in: /home/wilcb/.ivy2.5.2/jars\n",
      "io.delta#delta-spark_2.13 added as a dependency\n",
      ":: resolving dependencies :: org.apache.spark#spark-submit-parent-c8cfabe0-e1c6-4ebc-a494-e513447bb6a1;1.0\n",
      "\tconfs: [default]\n",
      "\tfound io.delta#delta-spark_2.13;4.0.0 in central\n",
      "\tfound io.delta#delta-storage;4.0.0 in central\n",
      "\tfound org.antlr#antlr4-runtime;4.13.1 in central\n",
      ":: resolution report :: resolve 273ms :: artifacts dl 11ms\n",
      "\t:: modules in use:\n",
      "\tio.delta#delta-spark_2.13;4.0.0 from central in [default]\n",
      "\tio.delta#delta-storage;4.0.0 from central in [default]\n",
      "\torg.antlr#antlr4-runtime;4.13.1 from central in [default]\n",
      "\t---------------------------------------------------------------------\n",
      "\t|                  |            modules            ||   artifacts   |\n",
      "\t|       conf       | number| search|dwnlded|evicted|| number|dwnlded|\n",
      "\t---------------------------------------------------------------------\n",
      "\t|      default     |   3   |   0   |   0   |   0   ||   3   |   0   |\n",
      "\t---------------------------------------------------------------------\n",
      ":: retrieving :: org.apache.spark#spark-submit-parent-c8cfabe0-e1c6-4ebc-a494-e513447bb6a1\n",
      "\tconfs: [default]\n",
      "\t0 artifacts copied, 3 already retrieved (0kB/9ms)\n",
      "25/07/20 12:01:10 WARN NativeCodeLoader: Unable to load native-hadoop library for your platform... using builtin-java classes where applicable\n",
      "Using Spark's default log4j profile: org/apache/spark/log4j2-defaults.properties\n",
      "Setting default log level to \"WARN\".\n",
      "To adjust logging level use sc.setLogLevel(newLevel). For SparkR, use setLogLevel(newLevel).\n"
     ]
    },
    {
     "data": {
      "text/html": [
       "\n",
       "            <div>\n",
       "                <p><b>SparkSession - in-memory</b></p>\n",
       "                \n",
       "        <div>\n",
       "            <p><b>SparkContext</b></p>\n",
       "\n",
       "            <p><a href=\"http://10.255.255.254:4040\">Spark UI</a></p>\n",
       "\n",
       "            <dl>\n",
       "              <dt>Version</dt>\n",
       "                <dd><code>v4.0.0</code></dd>\n",
       "              <dt>Master</dt>\n",
       "                <dd><code>local[*]</code></dd>\n",
       "              <dt>AppName</dt>\n",
       "                <dd><code>App Preparação RAW</code></dd>\n",
       "            </dl>\n",
       "        </div>\n",
       "        \n",
       "            </div>\n",
       "        "
      ],
      "text/plain": [
       "<pyspark.sql.session.SparkSession at 0x71eb5f55fd40>"
      ]
     },
     "execution_count": 2,
     "metadata": {},
     "output_type": "execute_result"
    }
   ],
   "source": [
    "builder: SparkSession.Builder = SparkSession.builder \\\n",
    "    .appName(\"App Preparação RAW\") \\\n",
    "    .config(\"spark.sql.extensions\", \"io.delta.sql.DeltaSparkSessionExtension\") \\\n",
    "    .config(\"spark.sql.catalog.spark_catalog\", \"org.apache.spark.sql.delta.catalog.DeltaCatalog\")\n",
    "\n",
    "spark: SparkSession = configure_spark_with_delta_pip(builder).getOrCreate()\n",
    "\n",
    "spark"
   ]
  },
  {
   "cell_type": "markdown",
   "id": "b8ab0fb8",
   "metadata": {},
   "source": [
    "## Funções para evitar repetição"
   ]
  },
  {
   "cell_type": "code",
   "execution_count": 6,
   "id": "a3024654",
   "metadata": {},
   "outputs": [],
   "source": [
    "# Apenas para arquivos com formato CSV.\n",
    "def ler_csv(\n",
    "        path: str,\n",
    "        encoding: str,\n",
    "        schema: Optional[StructType] = None,\n",
    "        header: bool = False,\n",
    "        sep: str = \";\",\n",
    "        quote: str = '\"'\n",
    ") -> DataFrame:\n",
    "    \"\"\"\n",
    "    Lê um arquivo CSV usando PySpark com esquema definido e opções customizáveis.\n",
    "\n",
    "    Esta função lê um arquivo CSV a partir do caminho especificado, aplicando o esquema\n",
    "    fornecido para garantir tipos corretos nas colunas. Permite configurar o encoding,\n",
    "    se o arquivo possui cabeçalho, o separador de campo e o caractere de aspas.\n",
    "\n",
    "    Args:\n",
    "        path (str): Caminho do arquivo CSV a ser lido.\n",
    "        schema (StructType): Esquema (schema) PySpark para aplicar ao DataFrame.\n",
    "        encoding (str): Codificação do arquivo CSV, ex: \"UTF-8\", \"ISO-8859-1\", etc.\n",
    "        header (bool, optional): Indica se o arquivo possui linha de cabeçalho com nomes das colunas.\n",
    "            Padrão é False.\n",
    "        sep (str, optional): Caractere separador dos campos no CSV. Padrão é ponto e vírgula \";\".\n",
    "        quote (str, optional): Caractere usado para delimitar campos com texto. Padrão é aspas duplas '\"'.\n",
    "\n",
    "    Returns:\n",
    "        DataFrame: DataFrame do Spark contendo os dados lidos do CSV conforme o esquema informado.\n",
    "\n",
    "    \"\"\"\n",
    "    try:\n",
    "        reader = spark.read.format(\"csv\") \\\n",
    "            .option(\"header\", header) \\\n",
    "            .option(\"sep\", sep) \\\n",
    "            .option(\"quote\", quote) \\\n",
    "            .option(\"encoding\", encoding)\n",
    "\n",
    "        if schema:\n",
    "            reader = reader.schema(schema)\n",
    "        else:\n",
    "            reader = reader.option(\"inferSchema\", True)\n",
    "\n",
    "        df = reader.load(path)\n",
    "        return df\n",
    "\n",
    "    except Exception as e:\n",
    "        print(f\"Erro na leitura do CSV: {e}\")"
   ]
  },
  {
   "cell_type": "code",
   "execution_count": 7,
   "id": "d64b4821",
   "metadata": {},
   "outputs": [],
   "source": [
    "def gravar_delta(\n",
    "    df: DataFrame,\n",
    "    path: str,\n",
    "    mode: str = \"overwrite\",\n",
    "    partitionBy: Optional[Union[str, List[str]]] = None\n",
    ") -> DataFrame:\n",
    "    \"\"\"\n",
    "    Grava um DataFrame no formato Delta Lake em um caminho especificado.\n",
    "\n",
    "    Esta função salva o DataFrame fornecido no formato Delta, com modo de gravação configurável\n",
    "    e possibilidade de particionamento por uma ou mais colunas. Caso ocorra algum erro durante\n",
    "    a gravação, a função captura a exceção e exibe uma mensagem de erro.\n",
    "\n",
    "    Args:\n",
    "        df (DataFrame): DataFrame do Spark a ser salvo.\n",
    "        path (str): Caminho do diretório onde o Delta será gravado.\n",
    "        mode (str, optional): Modo de gravação, como 'overwrite' (sobrescrever), 'append' (acrescentar),\n",
    "            entre outros suportados pelo Spark. Padrão é 'overwrite'.\n",
    "        partitionBy (str ou List[str], optional): Coluna ou lista de colunas para particionar os dados.\n",
    "            Se None, não particiona. Padrão é None.\n",
    "\n",
    "    Returns:\n",
    "        DataFrame: O mesmo DataFrame passado como argumento, para permitir encadeamento de comandos.\n",
    "\n",
    "    \"\"\"\n",
    "    try:\n",
    "        writer = df.write.format(\"delta\").mode(mode)\n",
    "\n",
    "        if partitionBy:\n",
    "            writer = writer.partitionBy(partitionBy)\n",
    "\n",
    "        writer.save(path)\n",
    "        print(\"Gravação efetuada!\")\n",
    "        return df\n",
    "\n",
    "    except Exception as e:\n",
    "        print(f\"[ERRO] Falha ao gravar Delta no caminho '{path}': {e}\")"
   ]
  },
  {
   "cell_type": "markdown",
   "id": "05be2d3e",
   "metadata": {},
   "source": [
    "## RAW - Dados IBGE"
   ]
  },
  {
   "cell_type": "code",
   "execution_count": null,
   "id": "148df962-a968-49f1-9167-a0b4ad22191b",
   "metadata": {},
   "outputs": [],
   "source": [
    "# Caminho do arquivo\n",
    "path_json_ibge_municipios: str = \"../LND/municipios/municipios_2025-07-16.json\""
   ]
  },
  {
   "cell_type": "code",
   "execution_count": 92,
   "id": "cbb96adc-5915-4cd2-a763-10ad163881c0",
   "metadata": {},
   "outputs": [],
   "source": [
    "# Definindo schema para o JSON aninhado dos municípios IBGE\n",
    "schema_ibge_municipios: StructType = StructType([\n",
    "    StructField(\"id\", StringType(), True),\n",
    "    StructField(\"nome\", StringType(), True),\n",
    "    StructField(\"microrregiao\", StructType([\n",
    "        StructField(\"id\", StringType(), True),\n",
    "        StructField(\"nome\", StringType(), True),\n",
    "        StructField(\"mesorregiao\", StructType([\n",
    "            StructField(\"id\", StringType(), True),\n",
    "            StructField(\"nome\", StringType(), True),\n",
    "            StructField(\"UF\", StructType([\n",
    "                StructField(\"id\", StringType(), True),\n",
    "                StructField(\"sigla\", StringType(), True),\n",
    "                StructField(\"nome\", StringType(), True),\n",
    "                StructField(\"regiao\", StructType([\n",
    "                    StructField(\"id\", StringType(), True),\n",
    "                    StructField(\"sigla\", StringType(), True),\n",
    "                    StructField(\"nome\", StringType(), True),\n",
    "                ]))\n",
    "            ]))\n",
    "        ]))\n",
    "    ])),\n",
    "    StructField(\"regiao-imediata\", StructType([\n",
    "        StructField(\"id\", StringType(), True),\n",
    "        StructField(\"nome\", StringType(), True),\n",
    "        StructField(\"regiao-intermediaria\", StructType([\n",
    "            StructField(\"id\", StringType(), True),\n",
    "            StructField(\"nome\", StringType(), True),\n",
    "            StructField(\"UF\", StructType([\n",
    "                StructField(\"id\", StringType(), True),\n",
    "                StructField(\"sigla\", StringType(), True),\n",
    "                StructField(\"nome\", StringType(), True),\n",
    "                StructField(\"regiao\", StructType([\n",
    "                    StructField(\"id\", StringType(), True),\n",
    "                    StructField(\"sigla\", StringType(), True),\n",
    "                    StructField(\"nome\", StringType(), True),\n",
    "                ]))\n",
    "            ]))\n",
    "        ]))\n",
    "    ]))\n",
    "])"
   ]
  },
  {
   "cell_type": "code",
   "execution_count": null,
   "id": "d0ff36c2-4958-40ce-88c3-75f8f11279c1",
   "metadata": {},
   "outputs": [],
   "source": [
    "try:\n",
    "    # Converter para DataFrame Spark\n",
    "    df_ibge_municipios: DataFrame = spark.read \\\n",
    "        .option(\"multiline\", True) \\\n",
    "        .schema(schema_ibge_municipios).json(path_json_ibge_municipios)\n",
    "except Exception as e:\n",
    "    print(f\"Erro: {e}\")"
   ]
  },
  {
   "cell_type": "code",
   "execution_count": 95,
   "id": "7d117a4e-3819-46f3-a109-ba7bf36579f6",
   "metadata": {},
   "outputs": [
    {
     "name": "stderr",
     "output_type": "stream",
     "text": [
      "[Stage 108:>                                                        (0 + 1) / 1]\r"
     ]
    },
    {
     "name": "stdout",
     "output_type": "stream",
     "text": [
      "+-------+---------------------+----------------------------------------------------------------------------------------+---------------------------------------------------------------------------+\n",
      "|id     |nome                 |microrregiao                                                                            |regiao-imediata                                                            |\n",
      "+-------+---------------------+----------------------------------------------------------------------------------------+---------------------------------------------------------------------------+\n",
      "|1100015|Alta Floresta D'Oeste|{11006, Cacoal, {1102, Leste Rondoniense, {11, RO, Rondônia, {1, N, Norte}}}}           |{110005, Cacoal, {1102, Ji-Paraná, {11, RO, Rondônia, {1, N, Norte}}}}     |\n",
      "|1100023|Ariquemes            |{11003, Ariquemes, {1102, Leste Rondoniense, {11, RO, Rondônia, {1, N, Norte}}}}        |{110002, Ariquemes, {1101, Porto Velho, {11, RO, Rondônia, {1, N, Norte}}}}|\n",
      "|1100031|Cabixi               |{11008, Colorado do Oeste, {1102, Leste Rondoniense, {11, RO, Rondônia, {1, N, Norte}}}}|{110006, Vilhena, {1102, Ji-Paraná, {11, RO, Rondônia, {1, N, Norte}}}}    |\n",
      "|1100049|Cacoal               |{11006, Cacoal, {1102, Leste Rondoniense, {11, RO, Rondônia, {1, N, Norte}}}}           |{110005, Cacoal, {1102, Ji-Paraná, {11, RO, Rondônia, {1, N, Norte}}}}     |\n",
      "|1100056|Cerejeiras           |{11008, Colorado do Oeste, {1102, Leste Rondoniense, {11, RO, Rondônia, {1, N, Norte}}}}|{110006, Vilhena, {1102, Ji-Paraná, {11, RO, Rondônia, {1, N, Norte}}}}    |\n",
      "+-------+---------------------+----------------------------------------------------------------------------------------+---------------------------------------------------------------------------+\n",
      "only showing top 5 rows\n"
     ]
    },
    {
     "name": "stderr",
     "output_type": "stream",
     "text": [
      "                                                                                \r"
     ]
    }
   ],
   "source": [
    "# Dados após seleção\n",
    "df_ibge_municipios.show(5, truncate=False)"
   ]
  },
  {
   "cell_type": "code",
   "execution_count": null,
   "id": "eb9179b8-884b-4572-b207-a7e3b8e9266d",
   "metadata": {},
   "outputs": [
    {
     "name": "stderr",
     "output_type": "stream",
     "text": [
      "                                                                                \r"
     ]
    },
    {
     "name": "stdout",
     "output_type": "stream",
     "text": [
      "Gravação efetuada!\n"
     ]
    },
    {
     "data": {
      "text/plain": [
       "DataFrame[id: string, nome: string, microrregiao: struct<id:string,nome:string,mesorregiao:struct<id:string,nome:string,UF:struct<id:string,sigla:string,nome:string,regiao:struct<id:string,sigla:string,nome:string>>>>, regiao-imediata: struct<id:string,nome:string,regiao-intermediaria:struct<id:string,nome:string,UF:struct<id:string,sigla:string,nome:string,regiao:struct<id:string,sigla:string,nome:string>>>>]"
      ]
     },
     "execution_count": 108,
     "metadata": {},
     "output_type": "execute_result"
    }
   ],
   "source": [
    "# Escrever dados com Delta Lake no formato parquet.\n",
    "\n",
    "# gravar_delta(df_ibge_municipios, \"../RAW/municipios\")"
   ]
  },
  {
   "cell_type": "code",
   "execution_count": 109,
   "id": "e4b5c195-63a0-4786-bcd5-4b402c6b0118",
   "metadata": {},
   "outputs": [
    {
     "name": "stdout",
     "output_type": "stream",
     "text": [
      "+-------+------------------------+----------------------------------------------------------------------------------------+-----------------------------------------------------------------------------+\n",
      "|id     |nome                    |microrregiao                                                                            |regiao-imediata                                                              |\n",
      "+-------+------------------------+----------------------------------------------------------------------------------------+-----------------------------------------------------------------------------+\n",
      "|1100015|Alta Floresta D'Oeste   |{11006, Cacoal, {1102, Leste Rondoniense, {11, RO, Rondônia, {1, N, Norte}}}}           |{110005, Cacoal, {1102, Ji-Paraná, {11, RO, Rondônia, {1, N, Norte}}}}       |\n",
      "|1100023|Ariquemes               |{11003, Ariquemes, {1102, Leste Rondoniense, {11, RO, Rondônia, {1, N, Norte}}}}        |{110002, Ariquemes, {1101, Porto Velho, {11, RO, Rondônia, {1, N, Norte}}}}  |\n",
      "|1100031|Cabixi                  |{11008, Colorado do Oeste, {1102, Leste Rondoniense, {11, RO, Rondônia, {1, N, Norte}}}}|{110006, Vilhena, {1102, Ji-Paraná, {11, RO, Rondônia, {1, N, Norte}}}}      |\n",
      "|1100049|Cacoal                  |{11006, Cacoal, {1102, Leste Rondoniense, {11, RO, Rondônia, {1, N, Norte}}}}           |{110005, Cacoal, {1102, Ji-Paraná, {11, RO, Rondônia, {1, N, Norte}}}}       |\n",
      "|1100056|Cerejeiras              |{11008, Colorado do Oeste, {1102, Leste Rondoniense, {11, RO, Rondônia, {1, N, Norte}}}}|{110006, Vilhena, {1102, Ji-Paraná, {11, RO, Rondônia, {1, N, Norte}}}}      |\n",
      "|1100064|Colorado do Oeste       |{11008, Colorado do Oeste, {1102, Leste Rondoniense, {11, RO, Rondônia, {1, N, Norte}}}}|{110006, Vilhena, {1102, Ji-Paraná, {11, RO, Rondônia, {1, N, Norte}}}}      |\n",
      "|1100072|Corumbiara              |{11008, Colorado do Oeste, {1102, Leste Rondoniense, {11, RO, Rondônia, {1, N, Norte}}}}|{110006, Vilhena, {1102, Ji-Paraná, {11, RO, Rondônia, {1, N, Norte}}}}      |\n",
      "|1100080|Costa Marques           |{11002, Guajará-Mirim, {1101, Madeira-Guaporé, {11, RO, Rondônia, {1, N, Norte}}}}      |{110004, Ji-Paraná, {1102, Ji-Paraná, {11, RO, Rondônia, {1, N, Norte}}}}    |\n",
      "|1100098|Espigão D'Oeste         |{11006, Cacoal, {1102, Leste Rondoniense, {11, RO, Rondônia, {1, N, Norte}}}}           |{110005, Cacoal, {1102, Ji-Paraná, {11, RO, Rondônia, {1, N, Norte}}}}       |\n",
      "|1100106|Guajará-Mirim           |{11002, Guajará-Mirim, {1101, Madeira-Guaporé, {11, RO, Rondônia, {1, N, Norte}}}}      |{110001, Porto Velho, {1101, Porto Velho, {11, RO, Rondônia, {1, N, Norte}}}}|\n",
      "|1100114|Jaru                    |{11004, Ji-Paraná, {1102, Leste Rondoniense, {11, RO, Rondônia, {1, N, Norte}}}}        |{110003, Jaru, {1101, Porto Velho, {11, RO, Rondônia, {1, N, Norte}}}}       |\n",
      "|1100122|Ji-Paraná               |{11004, Ji-Paraná, {1102, Leste Rondoniense, {11, RO, Rondônia, {1, N, Norte}}}}        |{110004, Ji-Paraná, {1102, Ji-Paraná, {11, RO, Rondônia, {1, N, Norte}}}}    |\n",
      "|1100130|Machadinho D'Oeste      |{11003, Ariquemes, {1102, Leste Rondoniense, {11, RO, Rondônia, {1, N, Norte}}}}        |{110003, Jaru, {1101, Porto Velho, {11, RO, Rondônia, {1, N, Norte}}}}       |\n",
      "|1100148|Nova Brasilândia D'Oeste|{11005, Alvorada D'Oeste, {1102, Leste Rondoniense, {11, RO, Rondônia, {1, N, Norte}}}} |{110005, Cacoal, {1102, Ji-Paraná, {11, RO, Rondônia, {1, N, Norte}}}}       |\n",
      "|1100155|Ouro Preto do Oeste     |{11004, Ji-Paraná, {1102, Leste Rondoniense, {11, RO, Rondônia, {1, N, Norte}}}}        |{110004, Ji-Paraná, {1102, Ji-Paraná, {11, RO, Rondônia, {1, N, Norte}}}}    |\n",
      "|1100189|Pimenta Bueno           |{11007, Vilhena, {1102, Leste Rondoniense, {11, RO, Rondônia, {1, N, Norte}}}}          |{110005, Cacoal, {1102, Ji-Paraná, {11, RO, Rondônia, {1, N, Norte}}}}       |\n",
      "|1100205|Porto Velho             |{11001, Porto Velho, {1101, Madeira-Guaporé, {11, RO, Rondônia, {1, N, Norte}}}}        |{110001, Porto Velho, {1101, Porto Velho, {11, RO, Rondônia, {1, N, Norte}}}}|\n",
      "|1100254|Presidente Médici       |{11004, Ji-Paraná, {1102, Leste Rondoniense, {11, RO, Rondônia, {1, N, Norte}}}}        |{110004, Ji-Paraná, {1102, Ji-Paraná, {11, RO, Rondônia, {1, N, Norte}}}}    |\n",
      "|1100262|Rio Crespo              |{11003, Ariquemes, {1102, Leste Rondoniense, {11, RO, Rondônia, {1, N, Norte}}}}        |{110002, Ariquemes, {1101, Porto Velho, {11, RO, Rondônia, {1, N, Norte}}}}  |\n",
      "|1100288|Rolim de Moura          |{11006, Cacoal, {1102, Leste Rondoniense, {11, RO, Rondônia, {1, N, Norte}}}}           |{110005, Cacoal, {1102, Ji-Paraná, {11, RO, Rondônia, {1, N, Norte}}}}       |\n",
      "+-------+------------------------+----------------------------------------------------------------------------------------+-----------------------------------------------------------------------------+\n",
      "only showing top 20 rows\n"
     ]
    }
   ],
   "source": [
    "# Tentativa de carregar a tabela Delta salva na camada RAW para validar a gravação.\n",
    "# Caso ocorra algum erro (por exemplo, caminho inválido ou problema no formato Delta), o erro será capturado e exibido.\n",
    "try:\n",
    "    deltaTable: DeltaTable = DeltaTable.forPath(spark, \"../RAW/municipios\")\n",
    "    df_municipios: DataFrame = deltaTable.toDF()\n",
    "    df_municipios.show(truncate=False)\n",
    "except Exception as e:\n",
    "    print(f\"Erro: {e}\")"
   ]
  },
  {
   "cell_type": "markdown",
   "id": "f11657ba",
   "metadata": {},
   "source": [
    "## RAW - Dados CNAE"
   ]
  },
  {
   "cell_type": "code",
   "execution_count": 99,
   "id": "21c01330",
   "metadata": {},
   "outputs": [],
   "source": [
    "# Caminho para o CSV na camada LND\n",
    "path_csv_cnae: str = \"../LND/CSV/cnaes.csv\""
   ]
  },
  {
   "cell_type": "code",
   "execution_count": 100,
   "id": "7a821c31",
   "metadata": {},
   "outputs": [],
   "source": [
    "# Schema esperado para o arquivo CNAE\n",
    "schema_cnae: StructType = StructType([\n",
    "    StructField(\"codigo_cnae\", StringType(), True),\n",
    "    StructField(\"descricao_cnae\", StringType(), True)\n",
    "])"
   ]
  },
  {
   "cell_type": "code",
   "execution_count": 105,
   "id": "fa37d9e9",
   "metadata": {},
   "outputs": [],
   "source": [
    "# Leitura do arquivo CSV com o schema definido\n",
    "df_cnae = ler_csv(path_csv_cnae, \"ISO-8859-1\", schema_cnae)"
   ]
  },
  {
   "cell_type": "code",
   "execution_count": 106,
   "id": "dd949b49-c093-4b7d-88dd-d433fd8fb697",
   "metadata": {},
   "outputs": [
    {
     "name": "stdout",
     "output_type": "stream",
     "text": [
      "+-----------+-----------------------------------------------------------------------------------+\n",
      "|codigo_cnae|descricao_cnae                                                                     |\n",
      "+-----------+-----------------------------------------------------------------------------------+\n",
      "|0111301    |Cultivo de arroz                                                                   |\n",
      "|0111302    |Cultivo de milho                                                                   |\n",
      "|0111303    |Cultivo de trigo                                                                   |\n",
      "|0111399    |Cultivo de outros cereais não especificados anteriormente                          |\n",
      "|0112101    |Cultivo de algodão herbáceo                                                        |\n",
      "|0112102    |Cultivo de juta                                                                    |\n",
      "|0112199    |Cultivo de outras fibras de lavoura temporária não especificadas anteriormente     |\n",
      "|0113000    |Cultivo de cana-de-açúcar                                                          |\n",
      "|0114800    |Cultivo de fumo                                                                    |\n",
      "|0115600    |Cultivo de soja                                                                    |\n",
      "|0116401    |Cultivo de amendoim                                                                |\n",
      "|0116402    |Cultivo de girassol                                                                |\n",
      "|0116403    |Cultivo de mamona                                                                  |\n",
      "|0116499    |Cultivo de outras oleaginosas de lavoura temporária não especificadas anteriormente|\n",
      "|0119901    |Cultivo de abacaxi                                                                 |\n",
      "|0119902    |Cultivo de alho                                                                    |\n",
      "|0119903    |Cultivo de batata-inglesa                                                          |\n",
      "|0119904    |Cultivo de cebola                                                                  |\n",
      "|0119905    |Cultivo de feijão                                                                  |\n",
      "|0119906    |Cultivo de mandioca                                                                |\n",
      "+-----------+-----------------------------------------------------------------------------------+\n",
      "only showing top 20 rows\n"
     ]
    }
   ],
   "source": [
    "# Visualizar os dados carregados\n",
    "df_cnae.show(truncate=False)"
   ]
  },
  {
   "cell_type": "code",
   "execution_count": null,
   "id": "6e5a3a4b",
   "metadata": {},
   "outputs": [
    {
     "name": "stdout",
     "output_type": "stream",
     "text": [
      "Gravação efetuada!\n"
     ]
    },
    {
     "data": {
      "text/plain": [
       "DataFrame[codigo_cnae: string, descricao_cnae: string]"
      ]
     },
     "execution_count": 107,
     "metadata": {},
     "output_type": "execute_result"
    }
   ],
   "source": [
    "# Escrita no formato Delta na camada RAW\n",
    "\n",
    "# gravar_delta(df_cnae, \"../RAW/cnae\")"
   ]
  },
  {
   "cell_type": "code",
   "execution_count": 110,
   "id": "c6c76c78",
   "metadata": {},
   "outputs": [
    {
     "name": "stdout",
     "output_type": "stream",
     "text": [
      "+-----------+-----------------------------------------------------------------------------------+\n",
      "|codigo_cnae|descricao_cnae                                                                     |\n",
      "+-----------+-----------------------------------------------------------------------------------+\n",
      "|0111301    |Cultivo de arroz                                                                   |\n",
      "|0111302    |Cultivo de milho                                                                   |\n",
      "|0111303    |Cultivo de trigo                                                                   |\n",
      "|0111399    |Cultivo de outros cereais não especificados anteriormente                          |\n",
      "|0112101    |Cultivo de algodão herbáceo                                                        |\n",
      "|0112102    |Cultivo de juta                                                                    |\n",
      "|0112199    |Cultivo de outras fibras de lavoura temporária não especificadas anteriormente     |\n",
      "|0113000    |Cultivo de cana-de-açúcar                                                          |\n",
      "|0114800    |Cultivo de fumo                                                                    |\n",
      "|0115600    |Cultivo de soja                                                                    |\n",
      "|0116401    |Cultivo de amendoim                                                                |\n",
      "|0116402    |Cultivo de girassol                                                                |\n",
      "|0116403    |Cultivo de mamona                                                                  |\n",
      "|0116499    |Cultivo de outras oleaginosas de lavoura temporária não especificadas anteriormente|\n",
      "|0119901    |Cultivo de abacaxi                                                                 |\n",
      "|0119902    |Cultivo de alho                                                                    |\n",
      "|0119903    |Cultivo de batata-inglesa                                                          |\n",
      "|0119904    |Cultivo de cebola                                                                  |\n",
      "|0119905    |Cultivo de feijão                                                                  |\n",
      "|0119906    |Cultivo de mandioca                                                                |\n",
      "+-----------+-----------------------------------------------------------------------------------+\n",
      "only showing top 20 rows\n"
     ]
    }
   ],
   "source": [
    "# Leitura da Delta Table salva para validação\n",
    "try:\n",
    "    deltaTable: DeltaTable = DeltaTable.forPath(spark, \"../RAW/cnae\")\n",
    "    df_cnae: DataFrame = deltaTable.toDF()\n",
    "    df_cnae.show(truncate=False)\n",
    "except Exception as e:\n",
    "    print(f\"Erro: {e}\")"
   ]
  },
  {
   "cell_type": "markdown",
   "id": "9d47b76b",
   "metadata": {},
   "source": [
    "## RAW - Natureza Jurídica"
   ]
  },
  {
   "cell_type": "code",
   "execution_count": null,
   "id": "7a546992",
   "metadata": {},
   "outputs": [],
   "source": [
    "# Caminho para o arquivo CSV da natureza jurídica\n",
    "path_csv_natureza_juridica: str = \"../LND/CSV/natureza_juridica.csv\""
   ]
  },
  {
   "cell_type": "code",
   "execution_count": 113,
   "id": "7923e362",
   "metadata": {},
   "outputs": [],
   "source": [
    "# Definição do schema para o CSV de natureza jurídica\n",
    "schema_natureza_juridica: StructType = StructType([\n",
    "    StructField(\"codigo_natureza_juridica\", StringType(), True),\n",
    "    StructField(\"natureza_juridica\", StringType(), True),\n",
    "])"
   ]
  },
  {
   "cell_type": "code",
   "execution_count": null,
   "id": "73f3ac6e",
   "metadata": {},
   "outputs": [],
   "source": [
    "# Leitura do arquivo CSV com o schema definido\n",
    "df_natureza_juridica: DataFrame = ler_csv(path_csv_natureza_juridica, \"iso-8859-1\", schema_natureza_juridica)"
   ]
  },
  {
   "cell_type": "code",
   "execution_count": 117,
   "id": "2b2a1913",
   "metadata": {},
   "outputs": [
    {
     "name": "stdout",
     "output_type": "stream",
     "text": [
      "+------------------------+------------------------------------------------------------------+\n",
      "|codigo_natureza_juridica|natureza_juridica                                                 |\n",
      "+------------------------+------------------------------------------------------------------+\n",
      "|0000                    |Natureza Jurídica não informada                                   |\n",
      "|3271                    |Órgão de Direção Local de Partido Político                        |\n",
      "|3280                    |Comitê Financeiro de Partido Político                             |\n",
      "|3298                    |Frente Plebiscitária ou Referendária                              |\n",
      "|3301                    |Organização Social (OS)                                           |\n",
      "|3999                    |Associação Privada                                                |\n",
      "|4014                    |Empresa Individual Imobiliária                                    |\n",
      "|4090                    |Candidato a Cargo Político Eletivo                                |\n",
      "|4120                    |Produtor Rural (Pessoa Física)                                    |\n",
      "|5010                    |Organização Internacional                                         |\n",
      "|5029                    |Representação Diplomática Estrangeira                             |\n",
      "|1015                    |Órgão Público do Poder Executivo Federal                          |\n",
      "|1023                    |Órgão Público do Poder Executivo Estadual ou do Distrito Federal  |\n",
      "|1031                    |Órgão Público do Poder Executivo Municipal                        |\n",
      "|1040                    |Órgão Público do Poder Legislativo Federal                        |\n",
      "|1058                    |Órgão Público do Poder Legislativo Estadual ou do Distrito Federal|\n",
      "|1066                    |Órgão Público do Poder Legislativo Municipal                      |\n",
      "|1074                    |Órgão Público do Poder Judiciário Federal                         |\n",
      "|1082                    |Órgão Público do Poder Judiciário Estadual                        |\n",
      "|1104                    |Autarquia Federal                                                 |\n",
      "+------------------------+------------------------------------------------------------------+\n",
      "only showing top 20 rows\n"
     ]
    }
   ],
   "source": [
    "# Visualização inicial dos dados\n",
    "df_natureza_juridica.show(truncate=False)"
   ]
  },
  {
   "cell_type": "code",
   "execution_count": null,
   "id": "b35a7efb",
   "metadata": {},
   "outputs": [
    {
     "name": "stdout",
     "output_type": "stream",
     "text": [
      "Gravação efetuada!\n"
     ]
    },
    {
     "data": {
      "text/plain": [
       "DataFrame[codigo_natureza_juridica: string, natureza_juridica: string]"
      ]
     },
     "execution_count": 118,
     "metadata": {},
     "output_type": "execute_result"
    }
   ],
   "source": [
    "# Escrita dos dados no formato Delta, particionando por código\n",
    "\n",
    "# gravar_delta(df_natureza_juridica, \"../RAW/natureza_juridica\")"
   ]
  },
  {
   "cell_type": "code",
   "execution_count": 119,
   "id": "1570a369",
   "metadata": {},
   "outputs": [
    {
     "name": "stdout",
     "output_type": "stream",
     "text": [
      "+------------------------+------------------------------------------------------------------+\n",
      "|codigo_natureza_juridica|natureza_juridica                                                 |\n",
      "+------------------------+------------------------------------------------------------------+\n",
      "|0000                    |Natureza Jurídica não informada                                   |\n",
      "|3271                    |Órgão de Direção Local de Partido Político                        |\n",
      "|3280                    |Comitê Financeiro de Partido Político                             |\n",
      "|3298                    |Frente Plebiscitária ou Referendária                              |\n",
      "|3301                    |Organização Social (OS)                                           |\n",
      "|3999                    |Associação Privada                                                |\n",
      "|4014                    |Empresa Individual Imobiliária                                    |\n",
      "|4090                    |Candidato a Cargo Político Eletivo                                |\n",
      "|4120                    |Produtor Rural (Pessoa Física)                                    |\n",
      "|5010                    |Organização Internacional                                         |\n",
      "|5029                    |Representação Diplomática Estrangeira                             |\n",
      "|1015                    |Órgão Público do Poder Executivo Federal                          |\n",
      "|1023                    |Órgão Público do Poder Executivo Estadual ou do Distrito Federal  |\n",
      "|1031                    |Órgão Público do Poder Executivo Municipal                        |\n",
      "|1040                    |Órgão Público do Poder Legislativo Federal                        |\n",
      "|1058                    |Órgão Público do Poder Legislativo Estadual ou do Distrito Federal|\n",
      "|1066                    |Órgão Público do Poder Legislativo Municipal                      |\n",
      "|1074                    |Órgão Público do Poder Judiciário Federal                         |\n",
      "|1082                    |Órgão Público do Poder Judiciário Estadual                        |\n",
      "|1104                    |Autarquia Federal                                                 |\n",
      "+------------------------+------------------------------------------------------------------+\n",
      "only showing top 20 rows\n"
     ]
    }
   ],
   "source": [
    "# Leitura da tabela Delta para validação\n",
    "try:\n",
    "    deltaTable_nj = DeltaTable.forPath(spark, \"../RAW/natureza_juridica\")\n",
    "    df_natureza_juridica: DataFrame = deltaTable_nj.toDF()\n",
    "    df_natureza_juridica.show(truncate=False)\n",
    "except Exception as e:\n",
    "    print(f\"Erro: {e}\")"
   ]
  },
  {
   "cell_type": "markdown",
   "id": "23a9456c",
   "metadata": {},
   "source": [
    "## RAW - Empresas"
   ]
  },
  {
   "cell_type": "code",
   "execution_count": 120,
   "id": "0dbb8816",
   "metadata": {},
   "outputs": [],
   "source": [
    "# Caminho do arquivo CSV\n",
    "path_csv_empresas: str = \"../LND/CSV/empresas.csv\""
   ]
  },
  {
   "cell_type": "code",
   "execution_count": 123,
   "id": "565ef337",
   "metadata": {},
   "outputs": [],
   "source": [
    "# Definição do schema para o CSV de empresas\n",
    "schema_empresas: StructType = StructType([\n",
    "    StructField(\"cnpj_basico\", StringType(), True),\n",
    "    StructField(\"razao_social\", StringType(), True),\n",
    "    StructField(\"codigo_natureza_juridica\", StringType(), True),\n",
    "    StructField(\"codigo_qualificacao_responsavel\", StringType(), True),\n",
    "    StructField(\"capital_social\", StringType(), True),\n",
    "    StructField(\"codigo_porte_empresa\", StringType(), True),\n",
    "    StructField(\"ente_federativo_responsavel\", StringType(), True)\n",
    "])"
   ]
  },
  {
   "cell_type": "code",
   "execution_count": 124,
   "id": "9715a892",
   "metadata": {},
   "outputs": [],
   "source": [
    "# Leitura do arquivo CSV\n",
    "df_empresas: DataFrame = ler_csv(path_csv_empresas, \"iso-8859-1\", schema_empresas)"
   ]
  },
  {
   "cell_type": "code",
   "execution_count": 125,
   "id": "c9eab373",
   "metadata": {},
   "outputs": [
    {
     "name": "stdout",
     "output_type": "stream",
     "text": [
      "+-----------+--------------------------------------------------------+------------------------+-------------------------------+--------------+--------------------+---------------------------+\n",
      "|cnpj_basico|razao_social                                            |codigo_natureza_juridica|codigo_qualificacao_responsavel|capital_social|codigo_porte_empresa|ente_federativo_responsavel|\n",
      "+-----------+--------------------------------------------------------+------------------------+-------------------------------+--------------+--------------------+---------------------------+\n",
      "|04631961   |ITACAMP INDUSTRIAL LTDA                                 |2062                    |49                             |0,00          |01                  |NULL                       |\n",
      "|04631962   |CLINICA OFTALMOLOGICA DR VANIA XIMENES LTDA             |2062                    |49                             |0,00          |05                  |NULL                       |\n",
      "|04631963   |EXPRESSO COSTA LTDA                                     |2062                    |49                             |0,00          |01                  |NULL                       |\n",
      "|04631964   |PAULO BRAGA PROJETOS ESTRUTURAIS E CONSULTORIA S/S LTDA.|2232                    |49                             |20000,00      |01                  |NULL                       |\n",
      "|04631965   |COTERMAQ CONSERTOS E TERCEIRIZACAO DE MAQUINAS LTDA     |2062                    |49                             |0,00          |03                  |NULL                       |\n",
      "+-----------+--------------------------------------------------------+------------------------+-------------------------------+--------------+--------------------+---------------------------+\n",
      "only showing top 5 rows\n"
     ]
    }
   ],
   "source": [
    "df_empresas.show(5, truncate=False)"
   ]
  },
  {
   "cell_type": "code",
   "execution_count": null,
   "id": "3f5728a1",
   "metadata": {},
   "outputs": [
    {
     "name": "stderr",
     "output_type": "stream",
     "text": [
      "25/07/17 23:37:30 WARN MemoryManager: Total allocation exceeds 95.00% (1,020,054,720 bytes) of heap memory\n",
      "Scaling row group sizes to 95.00% for 8 writers\n",
      "25/07/17 23:37:30 WARN MemoryManager: Total allocation exceeds 95.00% (1,020,054,720 bytes) of heap memory\n",
      "Scaling row group sizes to 84.44% for 9 writers\n",
      "25/07/17 23:37:30 WARN MemoryManager: Total allocation exceeds 95.00% (1,020,054,720 bytes) of heap memory\n",
      "Scaling row group sizes to 76.00% for 10 writers\n",
      "25/07/17 23:37:30 WARN MemoryManager: Total allocation exceeds 95.00% (1,020,054,720 bytes) of heap memory\n",
      "Scaling row group sizes to 69.09% for 11 writers\n",
      "25/07/17 23:37:30 WARN MemoryManager: Total allocation exceeds 95.00% (1,020,054,720 bytes) of heap memory\n",
      "Scaling row group sizes to 63.33% for 12 writers\n",
      "25/07/17 23:37:36 WARN MemoryManager: Total allocation exceeds 95.00% (1,020,054,720 bytes) of heap memory\n",
      "Scaling row group sizes to 69.09% for 11 writers\n",
      "25/07/17 23:37:36 WARN MemoryManager: Total allocation exceeds 95.00% (1,020,054,720 bytes) of heap memory\n",
      "Scaling row group sizes to 76.00% for 10 writers\n",
      "25/07/17 23:37:36 WARN MemoryManager: Total allocation exceeds 95.00% (1,020,054,720 bytes) of heap memory\n",
      "Scaling row group sizes to 84.44% for 9 writers\n",
      "25/07/17 23:37:36 WARN MemoryManager: Total allocation exceeds 95.00% (1,020,054,720 bytes) of heap memory\n",
      "Scaling row group sizes to 95.00% for 8 writers\n",
      "                                                                                \r"
     ]
    },
    {
     "name": "stdout",
     "output_type": "stream",
     "text": [
      "Gravação efetuada!\n"
     ]
    },
    {
     "data": {
      "text/plain": [
       "DataFrame[cnpj_basico: string, razao_social: string, codigo_natureza_juridica: string, codigo_qualificacao_responsavel: string, capital_social: string, codigo_porte_empresa: string, ente_federativo_responsavel: string]"
      ]
     },
     "execution_count": 126,
     "metadata": {},
     "output_type": "execute_result"
    }
   ],
   "source": [
    "#  Escrita no Delta Lake\n",
    "\n",
    "# gravar_delta(df_empresas, \"../RAW/empresas\")"
   ]
  },
  {
   "cell_type": "code",
   "execution_count": 127,
   "id": "9ec913cc",
   "metadata": {},
   "outputs": [
    {
     "name": "stdout",
     "output_type": "stream",
     "text": [
      "+-----------+---------------------------------------------------------------------+------------------------+-------------------------------+--------------+--------------------+---------------------------+\n",
      "|cnpj_basico|razao_social                                                         |codigo_natureza_juridica|codigo_qualificacao_responsavel|capital_social|codigo_porte_empresa|ente_federativo_responsavel|\n",
      "+-----------+---------------------------------------------------------------------+------------------------+-------------------------------+--------------+--------------------+---------------------------+\n",
      "|08127452   |ELEICAO 2006 WALDEMAR ALBERTO BORGES RODRIGUES NETO DEPUTADO ESTADUAL|4090                    |51                             |0,00          |05                  |NULL                       |\n",
      "|08127453   |ELEICAO 2006 JOSE ROBERTO DOS SANTOS PALADINI DEPUTADO ESTADUAL      |4090                    |51                             |0,00          |05                  |NULL                       |\n",
      "|08127454   |ELEICAO 2006 JAIRO ANTONIO MARTINS DEPUTADO ESTADUAL                 |4090                    |51                             |0,00          |05                  |NULL                       |\n",
      "|08127455   |ELEICAO 2006 SILDA DIAS LORENA DEPUTADO ESTADUAL                     |4090                    |51                             |0,00          |05                  |NULL                       |\n",
      "|08127456   |ELEICAO 2006 HERMOGENES GOMES DE ALMEIDA DEPUTADO ESTADUAL           |4090                    |51                             |0,00          |05                  |NULL                       |\n",
      "+-----------+---------------------------------------------------------------------+------------------------+-------------------------------+--------------+--------------------+---------------------------+\n",
      "only showing top 5 rows\n"
     ]
    }
   ],
   "source": [
    "try:\n",
    "    # Leitura e verificação da DeltaTable\n",
    "    deltaTable_empresas = DeltaTable.forPath(spark, \"../RAW/empresas\")\n",
    "    df_empresas: DataFrame = deltaTable_empresas.toDF()\n",
    "    df_empresas.show(5, truncate=False)\n",
    "except Exception as e:\n",
    "    print(f\"Erro ao ler DeltaTable empresas: {e}\")"
   ]
  },
  {
   "cell_type": "markdown",
   "id": "d01e2256",
   "metadata": {},
   "source": [
    "## RAW - Simples Nacional"
   ]
  },
  {
   "cell_type": "code",
   "execution_count": null,
   "id": "73c71ae3",
   "metadata": {},
   "outputs": [],
   "source": [
    "# Caminho CSV\n",
    "path_csv_simples_nacional: str = '../LND/CSV/simples_nacional.csv'"
   ]
  },
  {
   "cell_type": "code",
   "execution_count": 132,
   "id": "98bb212c",
   "metadata": {},
   "outputs": [],
   "source": [
    "# Schema do arquivo simples.csv\n",
    "schema_simples_nacional: StructType = StructType([\n",
    "    StructField(\"cnpj_basico\", StringType(), True),\n",
    "    StructField(\"opcao_simples\", StringType(), True),\n",
    "    StructField(\"data_opcao_simples\", StringType(), True),\n",
    "    StructField(\"data_exclusao_simples\", StringType(), True),\n",
    "    StructField(\"opcao_mei\", StringType(), True),\n",
    "    StructField(\"data_opcao_mei\", StringType(), True),\n",
    "    StructField(\"data_exclusao_mei\", StringType(), True),\n",
    "])"
   ]
  },
  {
   "cell_type": "code",
   "execution_count": 133,
   "id": "2ae465db",
   "metadata": {},
   "outputs": [],
   "source": [
    "# # Leitura do CSV\n",
    "\n",
    "df_simples_nacional = ler_csv(path_csv_simples_nacional, \"iso-8859-1\", schema_simples_nacional)"
   ]
  },
  {
   "cell_type": "code",
   "execution_count": 134,
   "id": "52ec8317",
   "metadata": {},
   "outputs": [
    {
     "name": "stdout",
     "output_type": "stream",
     "text": [
      "+-----------+-------------+------------------+---------------------+---------+--------------+-----------------+\n",
      "|cnpj_basico|opcao_simples|data_opcao_simples|data_exclusao_simples|opcao_mei|data_opcao_mei|data_exclusao_mei|\n",
      "+-----------+-------------+------------------+---------------------+---------+--------------+-----------------+\n",
      "|00000000   |N            |20070701          |20070701             |N        |20090701      |20090701         |\n",
      "|00000006   |N            |20180101          |20191231             |N        |00000000      |00000000         |\n",
      "|00000008   |N            |20140101          |20211231             |N        |00000000      |00000000         |\n",
      "|00000011   |S            |20070701          |00000000             |N        |00000000      |00000000         |\n",
      "|00000013   |N            |20090101          |20231231             |N        |00000000      |00000000         |\n",
      "+-----------+-------------+------------------+---------------------+---------+--------------+-----------------+\n",
      "only showing top 5 rows\n"
     ]
    }
   ],
   "source": [
    "df_simples_nacional.show(5, truncate=False)"
   ]
  },
  {
   "cell_type": "code",
   "execution_count": null,
   "id": "ba98f8bc",
   "metadata": {},
   "outputs": [
    {
     "name": "stderr",
     "output_type": "stream",
     "text": [
      "25/07/17 23:41:57 WARN MemoryManager: Total allocation exceeds 95.00% (1,020,054,720 bytes) of heap memory\n",
      "Scaling row group sizes to 95.00% for 8 writers\n",
      "25/07/17 23:41:57 WARN MemoryManager: Total allocation exceeds 95.00% (1,020,054,720 bytes) of heap memory\n",
      "Scaling row group sizes to 84.44% for 9 writers\n",
      "25/07/17 23:41:57 WARN MemoryManager: Total allocation exceeds 95.00% (1,020,054,720 bytes) of heap memory\n",
      "Scaling row group sizes to 76.00% for 10 writers\n",
      "25/07/17 23:41:57 WARN MemoryManager: Total allocation exceeds 95.00% (1,020,054,720 bytes) of heap memory\n",
      "Scaling row group sizes to 69.09% for 11 writers\n",
      "25/07/17 23:41:57 WARN MemoryManager: Total allocation exceeds 95.00% (1,020,054,720 bytes) of heap memory\n",
      "Scaling row group sizes to 63.33% for 12 writers\n",
      "25/07/17 23:42:23 WARN MemoryManager: Total allocation exceeds 95.00% (1,020,054,720 bytes) of heap memory\n",
      "Scaling row group sizes to 69.09% for 11 writers\n",
      "25/07/17 23:42:23 WARN MemoryManager: Total allocation exceeds 95.00% (1,020,054,720 bytes) of heap memory\n",
      "Scaling row group sizes to 63.33% for 12 writers\n",
      "25/07/17 23:42:24 WARN MemoryManager: Total allocation exceeds 95.00% (1,020,054,720 bytes) of heap memory\n",
      "Scaling row group sizes to 69.09% for 11 writers\n",
      "25/07/17 23:42:24 WARN MemoryManager: Total allocation exceeds 95.00% (1,020,054,720 bytes) of heap memory\n",
      "Scaling row group sizes to 63.33% for 12 writers\n",
      "25/07/17 23:42:24 WARN MemoryManager: Total allocation exceeds 95.00% (1,020,054,720 bytes) of heap memory\n",
      "Scaling row group sizes to 69.09% for 11 writers\n",
      "25/07/17 23:42:24 WARN MemoryManager: Total allocation exceeds 95.00% (1,020,054,720 bytes) of heap memory\n",
      "Scaling row group sizes to 63.33% for 12 writers\n",
      "25/07/17 23:42:25 WARN MemoryManager: Total allocation exceeds 95.00% (1,020,054,720 bytes) of heap memory\n",
      "Scaling row group sizes to 69.09% for 11 writers\n",
      "25/07/17 23:42:25 WARN MemoryManager: Total allocation exceeds 95.00% (1,020,054,720 bytes) of heap memory\n",
      "Scaling row group sizes to 76.00% for 10 writers\n",
      "25/07/17 23:42:25 WARN MemoryManager: Total allocation exceeds 95.00% (1,020,054,720 bytes) of heap memory\n",
      "Scaling row group sizes to 84.44% for 9 writers\n",
      "25/07/17 23:42:26 WARN MemoryManager: Total allocation exceeds 95.00% (1,020,054,720 bytes) of heap memory\n",
      "Scaling row group sizes to 76.00% for 10 writers\n",
      "25/07/17 23:42:26 WARN MemoryManager: Total allocation exceeds 95.00% (1,020,054,720 bytes) of heap memory\n",
      "Scaling row group sizes to 69.09% for 11 writers\n",
      "25/07/17 23:42:26 WARN MemoryManager: Total allocation exceeds 95.00% (1,020,054,720 bytes) of heap memory\n",
      "Scaling row group sizes to 63.33% for 12 writers\n",
      "25/07/17 23:42:26 WARN MemoryManager: Total allocation exceeds 95.00% (1,020,054,720 bytes) of heap memory\n",
      "Scaling row group sizes to 69.09% for 11 writers\n",
      "25/07/17 23:42:26 WARN MemoryManager: Total allocation exceeds 95.00% (1,020,054,720 bytes) of heap memory\n",
      "Scaling row group sizes to 63.33% for 12 writers\n",
      "25/07/17 23:42:26 WARN MemoryManager: Total allocation exceeds 95.00% (1,020,054,720 bytes) of heap memory\n",
      "Scaling row group sizes to 69.09% for 11 writers\n",
      "25/07/17 23:42:27 WARN MemoryManager: Total allocation exceeds 95.00% (1,020,054,720 bytes) of heap memory\n",
      "Scaling row group sizes to 63.33% for 12 writers\n",
      "25/07/17 23:42:27 WARN MemoryManager: Total allocation exceeds 95.00% (1,020,054,720 bytes) of heap memory\n",
      "Scaling row group sizes to 69.09% for 11 writers\n",
      "25/07/17 23:42:27 WARN MemoryManager: Total allocation exceeds 95.00% (1,020,054,720 bytes) of heap memory\n",
      "Scaling row group sizes to 63.33% for 12 writers\n",
      "25/07/17 23:42:27 WARN MemoryManager: Total allocation exceeds 95.00% (1,020,054,720 bytes) of heap memory\n",
      "Scaling row group sizes to 69.09% for 11 writers\n",
      "25/07/17 23:42:28 WARN MemoryManager: Total allocation exceeds 95.00% (1,020,054,720 bytes) of heap memory\n",
      "Scaling row group sizes to 76.00% for 10 writers\n",
      "25/07/17 23:42:28 WARN MemoryManager: Total allocation exceeds 95.00% (1,020,054,720 bytes) of heap memory\n",
      "Scaling row group sizes to 84.44% for 9 writers\n",
      "25/07/17 23:42:44 WARN MemoryManager: Total allocation exceeds 95.00% (1,020,054,720 bytes) of heap memory\n",
      "Scaling row group sizes to 95.00% for 8 writers\n",
      "                                                                                \r"
     ]
    },
    {
     "name": "stdout",
     "output_type": "stream",
     "text": [
      "Gravação efetuada!\n"
     ]
    },
    {
     "data": {
      "text/plain": [
       "DataFrame[cnpj_basico: string, opcao_simples: string, data_opcao_simples: string, data_exclusao_simples: string, opcao_mei: string, data_opcao_mei: string, data_exclusao_mei: string]"
      ]
     },
     "execution_count": 135,
     "metadata": {},
     "output_type": "execute_result"
    }
   ],
   "source": [
    "# Escrita na camada RAW em Delta Lake\n",
    "\n",
    "# gravar_delta(df_simples_nacional, \"../RAW/simples_nacional\")"
   ]
  },
  {
   "cell_type": "code",
   "execution_count": 136,
   "id": "92d1f820",
   "metadata": {},
   "outputs": [
    {
     "name": "stdout",
     "output_type": "stream",
     "text": [
      "+-----------+-------------+------------------+---------------------+---------+--------------+-----------------+\n",
      "|cnpj_basico|opcao_simples|data_opcao_simples|data_exclusao_simples|opcao_mei|data_opcao_mei|data_exclusao_mei|\n",
      "+-----------+-------------+------------------+---------------------+---------+--------------+-----------------+\n",
      "|36536474   |N            |20200303          |20201231             |N        |00000000      |00000000         |\n",
      "|36536475   |S            |20200303          |00000000             |S        |20200303      |00000000         |\n",
      "|36536476   |N            |20200303          |20220331             |N        |20200303      |20220331         |\n",
      "|36536477   |N            |20200303          |20200403             |N        |20200303      |20200403         |\n",
      "|36536478   |N            |20200303          |20241231             |N        |20200303      |20241231         |\n",
      "+-----------+-------------+------------------+---------------------+---------+--------------+-----------------+\n",
      "only showing top 5 rows\n"
     ]
    }
   ],
   "source": [
    "try:\n",
    "    deltaTable_simples: DeltaTable = DeltaTable.forPath(spark, \"../RAW/simples_nacional\")\n",
    "    df_simples_nacional: DataFrame = deltaTable_simples.toDF()\n",
    "    df_simples_nacional.show(5, truncate=False)\n",
    "except Exception as e:\n",
    "    print(f\"Erro: {e}\")"
   ]
  },
  {
   "cell_type": "markdown",
   "id": "8f4b089a",
   "metadata": {},
   "source": [
    "## RAW - Estabelecimentos"
   ]
  },
  {
   "cell_type": "code",
   "execution_count": null,
   "id": "7e6548a8",
   "metadata": {},
   "outputs": [],
   "source": [
    "# Caminho do CSV\n",
    "path_csv_estabelecimentos: str = '../LND/CSV/estabelecimentos.csv'"
   ]
  },
  {
   "cell_type": "code",
   "execution_count": null,
   "id": "ffba1e87",
   "metadata": {},
   "outputs": [],
   "source": [
    "# Definição do Schema\n",
    "schema_estabelecimentos: StructType = StructType([\n",
    "    StructField(\"cnpj_base\", StringType(), True),\n",
    "    StructField(\"cnpj_ordem\", StringType(), True),\n",
    "    StructField(\"cnpj_dv\", StringType(), True),\n",
    "    StructField(\"matriz_filial\", StringType(), True),\n",
    "    StructField(\"nome_fantasia\", StringType(), True),\n",
    "    StructField(\"situacao_cadastral\", StringType(), True),\n",
    "    StructField(\"data_situacao_cadastral\", StringType(), True),\n",
    "    StructField(\"motivo_situacao_cadastral\", StringType(), True),\n",
    "    StructField(\"nome_cidade_exterior\", StringType(), True),\n",
    "    StructField(\"pais\", StringType(), True),\n",
    "    StructField(\"data_inicio_atividade\", StringType(), True),\n",
    "    StructField(\"cnae_fiscal\", StringType(), True),\n",
    "    StructField(\"cnae_fiscal_secundaria\", StringType(), True),\n",
    "    StructField(\"tipo_logradouro\", StringType(), True),\n",
    "    StructField(\"logradouro\", StringType(), True),\n",
    "    StructField(\"numero\", StringType(), True),\n",
    "    StructField(\"complemento\", StringType(), True),\n",
    "    StructField(\"bairro\", StringType(), True),\n",
    "    StructField(\"cep\", StringType(), True),\n",
    "    StructField(\"uf\", StringType(), True),\n",
    "    StructField(\"codigo_municipio\", StringType(), True),\n",
    "    StructField(\"ddd1\", StringType(), True),\n",
    "    StructField(\"telefone1\", StringType(), True),\n",
    "    StructField(\"ddd2\", StringType(), True),\n",
    "    StructField(\"telefone2\", StringType(), True),\n",
    "    StructField(\"ddd_fax\", StringType(), True),\n",
    "    StructField(\"fax\", StringType(), True),\n",
    "    StructField(\"email\", StringType(), True),\n",
    "    StructField(\"situacao_especial\", StringType(), True),\n",
    "    StructField(\"data_situacao_especial\", StringType(), True)\n",
    "])"
   ]
  },
  {
   "cell_type": "code",
   "execution_count": null,
   "id": "dec2895f",
   "metadata": {},
   "outputs": [],
   "source": [
    "df_estabelecimentos: DataFrame = ler_csv(\n",
    "    path_csv_estabelecimentos, \n",
    "    \"iso-8859-1\",\n",
    "    schema_estabelecimentos\n",
    ")"
   ]
  },
  {
   "cell_type": "code",
   "execution_count": 140,
   "id": "89bf0e6a",
   "metadata": {},
   "outputs": [
    {
     "name": "stdout",
     "output_type": "stream",
     "text": [
      "+---------+----------+-------+-------------+-------------+------------------+-----------------------+-------------------------+--------------------+----+---------------------+-----------+----------------------+---------------+---------------------------+------+------------------+-------------------------+--------+---+----------------+----+---------+----+---------+-------+--------+-------------------------------------------+-----------------+----------------------+\n",
      "|cnpj_base|cnpj_ordem|cnpj_dv|matriz_filial|nome_fantasia|situacao_cadastral|data_situacao_cadastral|motivo_situacao_cadastral|nome_cidade_exterior|pais|data_inicio_atividade|cnae_fiscal|cnae_fiscal_secundaria|tipo_logradouro|logradouro                 |numero|complemento       |bairro                   |cep     |uf |codigo_municipio|ddd1|telefone1|ddd2|telefone2|ddd_fax|fax     |email                                      |situacao_especial|data_situacao_especial|\n",
      "+---------+----------+-------+-------------+-------------+------------------+-----------------------+-------------------------+--------------------+----+---------------------+-----------+----------------------+---------------+---------------------------+------+------------------+-------------------------+--------+---+----------------+----+---------+----+---------+-------+--------+-------------------------------------------+-----------------+----------------------+\n",
      "|25859629 |0001      |12     |1            |NULL         |08                |20161231               |01                       |NULL                |NULL|20160815             |9492800    |NULL                  |RUA            |JOAO DOMINGOS DE PAIVA     |205   |NULL              |PEDRA DA SAUDADE         |62280000|CE |1545            |0   |0        |NULL|NULL     |88     |36280433|coligacaocoragemprafazerdiferente@gmail.com|NULL             |NULL                  |\n",
      "|28276179 |0001      |23     |1            |NULL         |02                |20170727               |00                       |NULL                |NULL|20170727             |7319002    |NULL                  |10A RUA        |RUA MARIA RODRIGUES DA CRUZ|38    |NULL              |SAO GERALDO              |59570000|RN |1651            |84  |92014729 |NULL|NULL     |NULL   |NULL    |VMAXVEICULOSYAMAHA@GMAIL.COM               |NULL             |NULL                  |\n",
      "|28276340 |0001      |69     |1            |NULL         |08                |20210702               |01                       |NULL                |NULL|20170727             |4924800    |NULL                  |AVENIDA        |ALIPIO GERMANO DA SILVA    |222   |NULL              |VILA ROMANA              |17514500|SP |6681            |14  |34547925 |NULL|NULL     |NULL   |NULL    |ANTONIOG.MARTINS@HOTMAIL.COM               |NULL             |NULL                  |\n",
      "|39165028 |0001      |14     |1            |NULL         |08                |20210228               |01                       |NULL                |NULL|20200927             |9492800    |NULL                  |SITIO          |AGUDO                      |S N   |NULL              |AGUDO                    |37997000|MG |4327            |0   |0        |NULL|NULL     |0      |0       |AMASCINTRA@GMAIL.COM                       |NULL             |NULL                  |\n",
      "|25859907 |0001      |31     |1            |NULL         |08                |20161231               |01                       |NULL                |NULL|20160815             |9492800    |NULL                  |RUA            |CAVALCANTE                 |103   |RIACHO DOCE       |CENTRO                   |67030045|PA |0415            |0   |0        |NULL|NULL     |91     |32554522|patrickrodrigues@gmail.com                 |NULL             |NULL                  |\n",
      "|25860103 |0001      |52     |1            |NULL         |08                |20161231               |01                       |NULL                |NULL|20160815             |9492800    |NULL                  |RUA            |ALMEIDA DE NOVAES          |44    |CASA              |CENTRO                   |45325000|BA |3385            |0   |0        |NULL|NULL     |75     |36542208|sergiosouza76@yahoo.com.br                 |NULL             |NULL                  |\n",
      "|25860290 |0001      |74     |1            |NULL         |08                |20161231               |01                       |NULL                |NULL|20160815             |9492800    |NULL                  |RUA            |VILA NOVA                  |191   |CASA              |CENTRO                   |45970000|BA |3621            |0   |0        |NULL|NULL     |73     |32952108|alinebispogomes@hotmail.com                |NULL             |NULL                  |\n",
      "|37247789 |0001      |90     |1            |NULL         |02                |20230518               |00                       |NULL                |NULL|20200527             |4530705    |NULL                  |RUA            |URSULA PAULINO             |1321  |NULL              |ESTRELA DO ORIENTE       |30580353|MG |4123            |31  |99122926 |NULL|NULL     |NULL   |NULL    |LISANDRASR18@HOTMAIL.COM                   |NULL             |NULL                  |\n",
      "|25860705 |0001      |00     |1            |NULL         |08                |20161231               |01                       |NULL                |NULL|20160815             |9492800    |NULL                  |FAZENDA        |TABATINGA                  |SN    |ZONA RURAL        |ANGICAL                  |47960000|BA |3327            |0   |0        |NULL|NULL     |77     |36112166|HERMELINOAUGUSTODEOLIVEIRA@HOTMAIL.COM     |NULL             |NULL                  |\n",
      "|25860908 |0001      |04     |1            |NULL         |08                |20161231               |01                       |NULL                |NULL|20160815             |9492800    |NULL                  |AVENIDA        |BRASIL                     |87    |CASA              |NOVA ARACOIABA           |53690000|PE |0544            |0   |0        |NULL|NULL     |81     |35438148|FLAVIOJRUFINO2@HOTMAIL.COM                 |NULL             |NULL                  |\n",
      "|28276611 |0001      |86     |1            |NULL         |08                |20250506               |01                       |NULL                |NULL|20170727             |4781400    |NULL                  |RUA            |SALIM NADAF (LOT CENTRO)   |1465  |APT 702;EDIF KERLL|CENTRO-NORTE             |78110430|MT |9167            |65  |99566832 |NULL|NULL     |NULL   |NULL    |tadeu-tavares@hotmail.com                  |NULL             |NULL                  |\n",
      "|28276818 |0001      |50     |1            |NULL         |08                |20230209               |01                       |NULL                |NULL|20170727             |4399103    |8129000,4713002       |AVENIDA        |HITLER SANSAO              |430   |SALA              |CENTRO                   |78390000|MT |9033            |65  |96113473 |NULL|NULL     |NULL   |NULL    |ricardoxavierbbu@gmail.com                 |NULL             |NULL                  |\n",
      "|28276976 |0001      |00     |1            |NULL         |04                |20231027               |63                       |NULL                |NULL|20170727             |4399103    |4330404               |RUA            |AYSSO                      |136   |CASA              |ICAIVERA                 |32055090|MG |4371            |31  |33526010 |NULL|NULL     |NULL   |NULL    |marcos16926@gmail.com                      |NULL             |NULL                  |\n",
      "|25861078 |0001      |21     |1            |NULL         |08                |20161231               |01                       |NULL                |NULL|20160815             |9492800    |NULL                  |RUA            |UM                         |SN    |CASA              |COHAB                    |55660000|PE |2337            |0   |0        |NULL|NULL     |81     |37281756|genival_js@hotmail.com                     |NULL             |NULL                  |\n",
      "|28277087 |0001      |68     |1            |NULL         |04                |20210212               |63                       |NULL                |NULL|20170727             |4520005    |NULL                  |AVENIDA        |DOUTOR JOSE CARNEIRO       |000   |QUADRA 10 LOTE 3  |RESIDENCIAL JARDIM CANEDO|75250157|GO |9753            |62  |93764432 |NULL|NULL     |NULL   |NULL    |NULL                                       |NULL             |NULL                  |\n",
      "|39166346 |0001      |08     |1            |NULL         |08                |20210228               |01                       |NULL                |NULL|20200927             |9492800    |NULL                  |RUA            |RUA PRESIDENTE VAGAS       |S N   |QD  15  LT 10     |JARDIM TODOS OS SANTOS   |75261438|GO |9753            |0   |0        |NULL|NULL     |0      |0       |fabiobarbosagoiano@gmail.com               |NULL             |NULL                  |\n",
      "|39166494 |0001      |14     |1            |NULL         |08                |20210228               |01                       |NULL                |NULL|20200927             |9492800    |NULL                  |RUA            |PADRE GABRIEL              |167   |NULL              |CENTRO                   |69195000|AM |0297            |0   |0        |NULL|NULL     |0      |0       |joaogonzzagam@gmail.com                    |NULL             |NULL                  |\n",
      "|28277577 |0001      |64     |1            |NULL         |08                |20240918               |01                       |NULL                |NULL|20170727             |9602501    |NULL                  |RUA            |DURVALINA DE CAMARGO LEMES |105   |NULL              |JARDIM DA FRATERNIDADE   |12926640|SP |6251            |11  |40315466 |NULL|NULL     |NULL   |NULL    |pribueno1306@gmail.com                     |NULL             |NULL                  |\n",
      "|37248698 |0001      |79     |1            |NULL         |02                |20200527               |00                       |NULL                |NULL|20200527             |2391503    |NULL                  |10A RUA        |DO PEDRAO                  |S/N   |NULL              |PEDRAO                   |44575000|BA |3745            |75  |88328421 |NULL|NULL     |NULL   |NULL    |E.A.CONTAB@HOTMAIL.COM                     |NULL             |NULL                  |\n",
      "|25861747 |0001      |65     |1            |NULL         |08                |20161231               |01                       |NULL                |NULL|20160815             |9492800    |NULL                  |RUA            |MULTIRAO                   |141   |CASA              |CENTRO                   |46930000|BA |3771            |0   |0        |NULL|NULL     |75     |33322288|diamilli@gmail.com                         |NULL             |NULL                  |\n",
      "+---------+----------+-------+-------------+-------------+------------------+-----------------------+-------------------------+--------------------+----+---------------------+-----------+----------------------+---------------+---------------------------+------+------------------+-------------------------+--------+---+----------------+----+---------+----+---------+-------+--------+-------------------------------------------+-----------------+----------------------+\n",
      "only showing top 20 rows\n"
     ]
    }
   ],
   "source": [
    "df_estabelecimentos.show(truncate=False)"
   ]
  },
  {
   "cell_type": "code",
   "execution_count": null,
   "id": "fc3244d9",
   "metadata": {},
   "outputs": [
    {
     "name": "stderr",
     "output_type": "stream",
     "text": [
      "25/07/17 23:44:55 WARN MemoryManager: Total allocation exceeds 95.00% (1,020,054,720 bytes) of heap memory\n",
      "Scaling row group sizes to 95.00% for 8 writers\n",
      "25/07/17 23:44:55 WARN MemoryManager: Total allocation exceeds 95.00% (1,020,054,720 bytes) of heap memory\n",
      "Scaling row group sizes to 84.44% for 9 writers\n",
      "25/07/17 23:44:55 WARN MemoryManager: Total allocation exceeds 95.00% (1,020,054,720 bytes) of heap memory\n",
      "Scaling row group sizes to 76.00% for 10 writers\n",
      "25/07/17 23:44:55 WARN MemoryManager: Total allocation exceeds 95.00% (1,020,054,720 bytes) of heap memory\n",
      "Scaling row group sizes to 69.09% for 11 writers\n",
      "25/07/17 23:44:55 WARN MemoryManager: Total allocation exceeds 95.00% (1,020,054,720 bytes) of heap memory\n",
      "Scaling row group sizes to 63.33% for 12 writers\n",
      "25/07/17 23:45:26 WARN MemoryManager: Total allocation exceeds 95.00% (1,020,054,720 bytes) of heap memory\n",
      "Scaling row group sizes to 69.09% for 11 writers\n",
      "25/07/17 23:45:26 WARN MemoryManager: Total allocation exceeds 95.00% (1,020,054,720 bytes) of heap memory\n",
      "Scaling row group sizes to 76.00% for 10 writers\n",
      "25/07/17 23:45:27 WARN MemoryManager: Total allocation exceeds 95.00% (1,020,054,720 bytes) of heap memory\n",
      "Scaling row group sizes to 84.44% for 9 writers\n",
      "25/07/17 23:45:27 WARN MemoryManager: Total allocation exceeds 95.00% (1,020,054,720 bytes) of heap memory\n",
      "Scaling row group sizes to 95.00% for 8 writers\n",
      "                                                                                \r"
     ]
    },
    {
     "name": "stdout",
     "output_type": "stream",
     "text": [
      "Gravação efetuada!\n"
     ]
    },
    {
     "data": {
      "text/plain": [
       "DataFrame[cnpj_base: string, cnpj_ordem: string, cnpj_dv: string, matriz_filial: string, nome_fantasia: string, situacao_cadastral: string, data_situacao_cadastral: string, motivo_situacao_cadastral: string, nome_cidade_exterior: string, pais: string, data_inicio_atividade: string, cnae_fiscal: string, cnae_fiscal_secundaria: string, tipo_logradouro: string, logradouro: string, numero: string, complemento: string, bairro: string, cep: string, uf: string, codigo_municipio: string, ddd1: string, telefone1: string, ddd2: string, telefone2: string, ddd_fax: string, fax: string, email: string, situacao_especial: string, data_situacao_especial: string]"
      ]
     },
     "execution_count": 141,
     "metadata": {},
     "output_type": "execute_result"
    }
   ],
   "source": [
    "# Salvar na camada RAW\n",
    "\n",
    "# gravar_delta(df_estabelecimentos, \"../RAW/estabelecimentos\")"
   ]
  },
  {
   "cell_type": "code",
   "execution_count": 142,
   "id": "228b3422",
   "metadata": {},
   "outputs": [
    {
     "name": "stdout",
     "output_type": "stream",
     "text": [
      "+---------+----------+-------+-------------+---------------------------------+------------------+-----------------------+-------------------------+--------------------+----+---------------------+-----------+-------------------------------------------------------+---------------+----------------------------+------+-----------------------+---------------------------+--------+---+----------------+----+---------+----+---------+-------+----+--------------------------------------+-----------------+----------------------+\n",
      "|cnpj_base|cnpj_ordem|cnpj_dv|matriz_filial|nome_fantasia                    |situacao_cadastral|data_situacao_cadastral|motivo_situacao_cadastral|nome_cidade_exterior|pais|data_inicio_atividade|cnae_fiscal|cnae_fiscal_secundaria                                 |tipo_logradouro|logradouro                  |numero|complemento            |bairro                     |cep     |uf |codigo_municipio|ddd1|telefone1|ddd2|telefone2|ddd_fax|fax |email                                 |situacao_especial|data_situacao_especial|\n",
      "+---------+----------+-------+-------------+---------------------------------+------------------+-----------------------+-------------------------+--------------------+----+---------------------+-----------+-------------------------------------------------------+---------------+----------------------------+------+-----------------------+---------------------------+--------+---+----------------+----+---------+----+---------+-------+----+--------------------------------------+-----------------+----------------------+\n",
      "|44913807 |0001      |90     |1            |NULL                             |08                |20240328               |01                       |NULL                |NULL|20220118             |4781400    |4782201                                                |RUA            |ANTONIO MAXIMILIANO DA SILVA|298   |QUADRA 04;LOTE 13      |CJTO HABITACIONAL BOA VISTA|86975000|PR |7677            |44  |84090049 |NULL|NULL     |NULL   |NULL|IRACIA212@GMAIL.COM                   |NULL             |NULL                  |\n",
      "|44913821 |0001      |94     |1            |NULL                             |02                |20220118               |00                       |NULL                |NULL|20220118             |8630503    |8599699,8610102,8630501,8630502,8630506,8630599,8690901|AVENIDA        |DESEMBARGADOR MOREIRA       |1300  |      SALA 604 T- NORTE|ALDEOTA                    |60170002|CE |1389            |85  |87072213 |NULL|NULL     |NULL   |NULL|DRAANGELICACARVALHOENDOCRINO@GMAIL.COM|NULL             |NULL                  |\n",
      "|44913831 |0001      |20     |1            |NULL                             |02                |20220118               |00                       |NULL                |NULL|20220118             |8599699    |NULL                                                   |RUA            |DOUTOR JOAO AUGUSTO BARBOSA |1186  |CASA                   |SAO BRAZ                   |84603312|PR |7937            |42  |98271409 |NULL|NULL     |NULL   |NULL|FERLUISSTE@GMAIL.COM                  |NULL             |NULL                  |\n",
      "|44913843 |0001      |54     |1            |RAFAEL FELIPE DE OLIVEIRA MARTINS|08                |20220930               |01                       |NULL                |NULL|20220118             |5229099    |NULL                                                   |RUA            |RENATO ERNESTO DO NASCIMENTO|71    |NULL                   |HORTO FLORESTAL            |31035110|MG |4123            |31  |34810365 |NULL|NULL     |NULL   |NULL|RFDOM27@GMAIL.COM                     |NULL             |NULL                  |\n",
      "|44913857 |0001      |78     |1            |NULL                             |04                |20240823               |63                       |NULL                |NULL|20220118             |4712100    |NULL                                                   |RUA            |ALEGRE                      |314   |CONJ                   |VILA LEOPOLDINA            |25035130|RJ |5833            |21  |81312377 |NULL|NULL     |NULL   |NULL|ANDRECARNEIROCOSTA40@GMAIL.COM        |NULL             |NULL                  |\n",
      "+---------+----------+-------+-------------+---------------------------------+------------------+-----------------------+-------------------------+--------------------+----+---------------------+-----------+-------------------------------------------------------+---------------+----------------------------+------+-----------------------+---------------------------+--------+---+----------------+----+---------+----+---------+-------+----+--------------------------------------+-----------------+----------------------+\n",
      "only showing top 5 rows\n"
     ]
    }
   ],
   "source": [
    "try:\n",
    "    deltaTable_estabelecimentos = DeltaTable.forPath(spark, \"../RAW/estabelecimentos\")\n",
    "    df_estabelecimentos = deltaTable_estabelecimentos.toDF()\n",
    "    df_estabelecimentos.show(5, truncate=False)\n",
    "except Exception as e:\n",
    "    print(f\"Erro: {e}\")"
   ]
  },
  {
   "cell_type": "markdown",
   "id": "f11c39a2",
   "metadata": {},
   "source": [
    "## RAW - Socios"
   ]
  },
  {
   "cell_type": "code",
   "execution_count": 143,
   "id": "bd123945",
   "metadata": {},
   "outputs": [],
   "source": [
    "# Caminho do csv\n",
    "path_csv_socios: str = \"../LND/CSV/socios.csv\""
   ]
  },
  {
   "cell_type": "code",
   "execution_count": 144,
   "id": "fa6403aa",
   "metadata": {},
   "outputs": [],
   "source": [
    "# Definição do schema\n",
    "schema_socios: StructType = StructType([\n",
    "    StructField(\"cnpj_basico\", StringType(), True),\n",
    "    StructField(\"identificador_socio\", StringType(), True),\n",
    "    StructField(\"nome_socio_razao_social\", StringType(), True),\n",
    "    StructField(\"cnpj_cpf_socio\", StringType(), True),\n",
    "    StructField(\"codigo_qualificacao_socio\", StringType(), True),\n",
    "    StructField(\"data_entrada_sociedade\", StringType(), True),\n",
    "    StructField(\"pais\", StringType(), True),\n",
    "    StructField(\"representante_legal\", StringType(), True),\n",
    "    StructField(\"nome_representante\", StringType(), True),\n",
    "    StructField(\"codigo_qualificacao_representante\", StringType(), True),\n",
    "    StructField(\"faixa_etaria\", StringType(), True),\n",
    "])"
   ]
  },
  {
   "cell_type": "code",
   "execution_count": 145,
   "id": "278076cc",
   "metadata": {},
   "outputs": [],
   "source": [
    "# Ler csv\n",
    "df_socios = ler_csv(path=path_csv_socios, encoding=\"iso-8859-1\", schema=schema_socios)"
   ]
  },
  {
   "cell_type": "code",
   "execution_count": 146,
   "id": "89daa9aa",
   "metadata": {},
   "outputs": [
    {
     "name": "stdout",
     "output_type": "stream",
     "text": [
      "+-----------+-------------------+-------------------------------+--------------+-------------------------+----------------------+----+-------------------+------------------+---------------------------------+------------+\n",
      "|cnpj_basico|identificador_socio|nome_socio_razao_social        |cnpj_cpf_socio|codigo_qualificacao_socio|data_entrada_sociedade|pais|representante_legal|nome_representante|codigo_qualificacao_representante|faixa_etaria|\n",
      "+-----------+-------------------+-------------------------------+--------------+-------------------------+----------------------+----+-------------------+------------------+---------------------------------+------------+\n",
      "|41300034   |2                  |RONALDO ARMANDO                |***689697**   |49                       |20230727              |NULL|***000000**        |NULL              |00                               |7           |\n",
      "|41300034   |2                  |RAVEL DA SILVA ARMANDO         |***189577**   |49                       |20230727              |NULL|***000000**        |NULL              |00                               |4           |\n",
      "|41300059   |2                  |NATHAN WINIARSKI DA LUZ        |***136179**   |49                       |20210322              |NULL|***000000**        |NULL              |00                               |4           |\n",
      "|41300142   |2                  |DANIELE MENEGALI DE PIERI BOTAN|***971749**   |49                       |20210322              |NULL|***000000**        |NULL              |00                               |4           |\n",
      "|41300174   |2                  |WELINGTON DE OLIVEIRA SILVA    |***642062**   |49                       |20210322              |NULL|***000000**        |NULL              |00                               |5           |\n",
      "+-----------+-------------------+-------------------------------+--------------+-------------------------+----------------------+----+-------------------+------------------+---------------------------------+------------+\n",
      "only showing top 5 rows\n"
     ]
    }
   ],
   "source": [
    "df_socios.show(5, truncate=False)"
   ]
  },
  {
   "cell_type": "code",
   "execution_count": null,
   "id": "d3cd82f4",
   "metadata": {},
   "outputs": [
    {
     "name": "stderr",
     "output_type": "stream",
     "text": [
      "25/07/17 23:48:07 WARN MemoryManager: Total allocation exceeds 95.00% (1,020,054,720 bytes) of heap memory\n",
      "Scaling row group sizes to 95.00% for 8 writers\n",
      "25/07/17 23:48:07 WARN MemoryManager: Total allocation exceeds 95.00% (1,020,054,720 bytes) of heap memory\n",
      "Scaling row group sizes to 84.44% for 9 writers\n",
      "25/07/17 23:48:07 WARN MemoryManager: Total allocation exceeds 95.00% (1,020,054,720 bytes) of heap memory\n",
      "Scaling row group sizes to 76.00% for 10 writers\n",
      "25/07/17 23:48:07 WARN MemoryManager: Total allocation exceeds 95.00% (1,020,054,720 bytes) of heap memory\n",
      "Scaling row group sizes to 69.09% for 11 writers\n",
      "25/07/17 23:48:07 WARN MemoryManager: Total allocation exceeds 95.00% (1,020,054,720 bytes) of heap memory\n",
      "Scaling row group sizes to 63.33% for 12 writers\n",
      "25/07/17 23:48:11 WARN MemoryManager: Total allocation exceeds 95.00% (1,020,054,720 bytes) of heap memory\n",
      "Scaling row group sizes to 69.09% for 11 writers\n",
      "25/07/17 23:48:12 WARN MemoryManager: Total allocation exceeds 95.00% (1,020,054,720 bytes) of heap memory\n",
      "Scaling row group sizes to 76.00% for 10 writers\n",
      "25/07/17 23:48:12 WARN MemoryManager: Total allocation exceeds 95.00% (1,020,054,720 bytes) of heap memory\n",
      "Scaling row group sizes to 84.44% for 9 writers\n",
      "25/07/17 23:48:12 WARN MemoryManager: Total allocation exceeds 95.00% (1,020,054,720 bytes) of heap memory\n",
      "Scaling row group sizes to 95.00% for 8 writers\n",
      "                                                                                \r"
     ]
    },
    {
     "name": "stdout",
     "output_type": "stream",
     "text": [
      "Gravação efetuada!\n"
     ]
    },
    {
     "data": {
      "text/plain": [
       "DataFrame[cnpj_basico: string, identificador_socio: string, nome_socio_razao_social: string, cnpj_cpf_socio: string, codigo_qualificacao_socio: string, data_entrada_sociedade: string, pais: string, representante_legal: string, nome_representante: string, codigo_qualificacao_representante: string, faixa_etaria: string]"
      ]
     },
     "execution_count": 147,
     "metadata": {},
     "output_type": "execute_result"
    }
   ],
   "source": [
    "# salvar na camada RAW\n",
    "\n",
    "# gravar_delta(df_socios, \"../RAW/socios\")"
   ]
  },
  {
   "cell_type": "code",
   "execution_count": 148,
   "id": "74e9edde",
   "metadata": {},
   "outputs": [
    {
     "name": "stdout",
     "output_type": "stream",
     "text": [
      "+-----------+-------------------+-----------------------+--------------+-------------------------+----------------------+----+-------------------+------------------+---------------------------------+------------+\n",
      "|cnpj_basico|identificador_socio|nome_socio_razao_social|cnpj_cpf_socio|codigo_qualificacao_socio|data_entrada_sociedade|pais|representante_legal|nome_representante|codigo_qualificacao_representante|faixa_etaria|\n",
      "+-----------+-------------------+-----------------------+--------------+-------------------------+----------------------+----+-------------------+------------------+---------------------------------+------------+\n",
      "|   15508939|                  2|   LUIZ FERNANDO ROD...|   ***784978**|                       49|              20120423|NULL|        ***000000**|              NULL|                               00|           5|\n",
      "|   15508939|                  2|   LUIZ GONZAGA RODR...|   ***555608**|                       49|              20120423|NULL|        ***000000**|              NULL|                               00|           8|\n",
      "|   15508983|                  2|      ALAN PITTA POLIDO|   ***348448**|                       49|              20120507|NULL|        ***000000**|              NULL|                               00|           6|\n",
      "|   15509024|                  2|   LUCIA DE OLIVEIRA...|   ***979858**|                       49|              20120507|NULL|        ***000000**|              NULL|                               00|           5|\n",
      "|   15509024|                  2|   MARIA DE OLIVEIRA...|   ***849928**|                       22|              20120808|NULL|        ***000000**|              NULL|                               00|           8|\n",
      "|   15509111|                  2|        DORIVAL ROSSATO|   ***951021**|                       49|              20120507|NULL|        ***000000**|              NULL|                               00|           8|\n",
      "|   15509111|                  2|   DORIVAL ROSSATO J...|   ***286298**|                       49|              20120507|NULL|        ***000000**|              NULL|                               00|           5|\n",
      "|   15509242|                  2|   PAULO RICARDO DOS...|   ***698480**|                       49|              20120416|NULL|        ***000000**|              NULL|                               00|           7|\n",
      "|   15509242|                  2|   PAULO RICARDO ASM...|   ***542540**|                       22|              20120416|NULL|        ***000000**|              NULL|                               00|           4|\n",
      "|   15509352|                  2|     JOSE ANTONIO ROCHA|   ***568448**|                       59|              20120510|NULL|        ***000000**|              NULL|                               00|           8|\n",
      "|   15509352|                  2|    DANIEL GARCIA ROCHA|   ***902538**|                       59|              20120510|NULL|        ***000000**|              NULL|                               00|           5|\n",
      "|   15509414|                  2|   MAURI APARECIDO M...|   ***523201**|                       49|              20120508|NULL|        ***000000**|              NULL|                               00|           7|\n",
      "|   15509414|                  2|   MARCIA REGINA MENDES|   ***235311**|                       49|              20130517|NULL|        ***000000**|              NULL|                               00|           7|\n",
      "|   09236196|                  2|    JOSE OSMAR CORDEIRO|   ***652969**|                       49|              20071205|NULL|        ***000000**|              NULL|                               00|           7|\n",
      "|   15509489|                  2|   HEBERT SPINDOLA D...|   ***819601**|                       49|              20240523|NULL|        ***000000**|              NULL|                               00|           4|\n",
      "|   15509513|                  2|   FABIANO CARLOS DA...|   ***888131**|                       49|              20120510|NULL|        ***000000**|              NULL|                               00|           4|\n",
      "|   15509538|                  2|   CARLOS ELISIO STA...|   ***420659**|                       49|              20120510|NULL|        ***000000**|              NULL|                               00|           6|\n",
      "|   15509538|                  2|   GUILHERME STAHELI...|   ***239369**|                       49|              20121113|NULL|        ***000000**|              NULL|                               00|           5|\n",
      "|   15509548|                  2|   LUCIANA CARDOZO C...|   ***256228**|                       49|              20120503|NULL|        ***000000**|              NULL|                               00|           4|\n",
      "|   15509575|                  2|   DONIZETE APARECID...|   ***032048**|                       59|              20120510|NULL|        ***000000**|              NULL|                               00|           6|\n",
      "+-----------+-------------------+-----------------------+--------------+-------------------------+----------------------+----+-------------------+------------------+---------------------------------+------------+\n",
      "only showing top 20 rows\n"
     ]
    }
   ],
   "source": [
    "try:\n",
    "    deltaTable_socios = DeltaTable.forPath(spark, \"../RAW/socios\")\n",
    "    df_socios = deltaTable_socios.toDF()\n",
    "    df_socios.show()\n",
    "except Exception as e:\n",
    "    print(f\"Erro na leitura: {e}\")"
   ]
  },
  {
   "cell_type": "markdown",
   "id": "79ce2b37",
   "metadata": {},
   "source": []
  },
  {
   "cell_type": "markdown",
   "id": "a87a31fb",
   "metadata": {},
   "source": [
    "## RAW - Paises"
   ]
  },
  {
   "cell_type": "code",
   "execution_count": 149,
   "id": "2a319cf6",
   "metadata": {},
   "outputs": [],
   "source": [
    "# Caminho do arquivo\n",
    "path_csv_paises: str = \"../LND/CSV/paises.csv\""
   ]
  },
  {
   "cell_type": "code",
   "execution_count": 150,
   "id": "9767b374",
   "metadata": {},
   "outputs": [],
   "source": [
    "# Definição do schema\n",
    "schema_pais: StructType = StructType([\n",
    "    StructField(\"codigo_pais\", StringType(), True),\n",
    "    StructField(\"nome_pais\", StringType(), True),\n",
    "])"
   ]
  },
  {
   "cell_type": "code",
   "execution_count": 151,
   "id": "06c608af",
   "metadata": {},
   "outputs": [],
   "source": [
    "# Ler arquivo CSV\n",
    "df_paises = ler_csv(path_csv_paises, \"iso-8859-1\", schema_natureza_juridica)"
   ]
  },
  {
   "cell_type": "code",
   "execution_count": 152,
   "id": "3298e2a7",
   "metadata": {},
   "outputs": [
    {
     "name": "stdout",
     "output_type": "stream",
     "text": [
      "+------------------------+-----------------------------+\n",
      "|codigo_natureza_juridica|natureza_juridica            |\n",
      "+------------------------+-----------------------------+\n",
      "|000                     |COLIS POSTAUX                |\n",
      "|013                     |AFEGANISTAO                  |\n",
      "|017                     |ALBANIA                      |\n",
      "|020                     |ALBORAN-PEREJIL,ILHAS        |\n",
      "|023                     |ALEMANHA                     |\n",
      "|025                     |ALEMANHA, REP. DEMOCRATICA DA|\n",
      "|031                     |BURKINA FASO                 |\n",
      "|037                     |ANDORRA                      |\n",
      "|040                     |ANGOLA                       |\n",
      "|041                     |ANGUILLA                     |\n",
      "|043                     |ANTIGUA E BARBUDA            |\n",
      "|047                     |ANTILHAS HOLANDESAS          |\n",
      "|053                     |ARABIA SAUDITA               |\n",
      "|059                     |ARGELIA                      |\n",
      "|063                     |ARGENTINA                    |\n",
      "|064                     |ARMENIA, REPUBLICA DA        |\n",
      "|065                     |ARUBA                        |\n",
      "|069                     |AUSTRALIA                    |\n",
      "|072                     |AUSTRIA                      |\n",
      "|073                     |AZERBAIJAO, REPUBLICA DO     |\n",
      "+------------------------+-----------------------------+\n",
      "only showing top 20 rows\n"
     ]
    }
   ],
   "source": [
    "# Mostrar resultado\n",
    "df_paises.show(truncate=False)"
   ]
  },
  {
   "cell_type": "code",
   "execution_count": null,
   "id": "fc7e99f9",
   "metadata": {},
   "outputs": [
    {
     "name": "stdout",
     "output_type": "stream",
     "text": [
      "Gravação efetuada!\n"
     ]
    },
    {
     "data": {
      "text/plain": [
       "DataFrame[codigo_natureza_juridica: string, natureza_juridica: string]"
      ]
     },
     "execution_count": 154,
     "metadata": {},
     "output_type": "execute_result"
    }
   ],
   "source": [
    "# Gravar no RAW\n",
    "\n",
    "# gravar_delta(df_paises, \"../RAW/paises\")"
   ]
  },
  {
   "cell_type": "code",
   "execution_count": 155,
   "id": "b5e34be3",
   "metadata": {},
   "outputs": [
    {
     "name": "stdout",
     "output_type": "stream",
     "text": [
      "+------------------------+-----------------------------+\n",
      "|codigo_natureza_juridica|natureza_juridica            |\n",
      "+------------------------+-----------------------------+\n",
      "|000                     |COLIS POSTAUX                |\n",
      "|013                     |AFEGANISTAO                  |\n",
      "|017                     |ALBANIA                      |\n",
      "|020                     |ALBORAN-PEREJIL,ILHAS        |\n",
      "|023                     |ALEMANHA                     |\n",
      "|025                     |ALEMANHA, REP. DEMOCRATICA DA|\n",
      "|031                     |BURKINA FASO                 |\n",
      "|037                     |ANDORRA                      |\n",
      "|040                     |ANGOLA                       |\n",
      "|041                     |ANGUILLA                     |\n",
      "|043                     |ANTIGUA E BARBUDA            |\n",
      "|047                     |ANTILHAS HOLANDESAS          |\n",
      "|053                     |ARABIA SAUDITA               |\n",
      "|059                     |ARGELIA                      |\n",
      "|063                     |ARGENTINA                    |\n",
      "|064                     |ARMENIA, REPUBLICA DA        |\n",
      "|065                     |ARUBA                        |\n",
      "|069                     |AUSTRALIA                    |\n",
      "|072                     |AUSTRIA                      |\n",
      "|073                     |AZERBAIJAO, REPUBLICA DO     |\n",
      "+------------------------+-----------------------------+\n",
      "only showing top 20 rows\n"
     ]
    }
   ],
   "source": [
    "try:\n",
    "    # Transformar em DeltaTable e mostrar arquivo\n",
    "    deltaTable_paises = DeltaTable.forPath(spark, \"../RAW/paises\")\n",
    "    df_paises = deltaTable_paises.toDF()\n",
    "    df_paises.show(truncate=False)\n",
    "except Exception as e:\n",
    "    print(f\"Erro: {e}\")"
   ]
  },
  {
   "cell_type": "markdown",
   "id": "c5c09037",
   "metadata": {},
   "source": [
    "## RAW - Qualificações"
   ]
  },
  {
   "cell_type": "code",
   "execution_count": 172,
   "id": "d6eb32a3",
   "metadata": {},
   "outputs": [],
   "source": [
    "# Caminho do arquivo\n",
    "path_csv_qualificacoes: str = \"../LND/CSV/qualificacoes.csv\""
   ]
  },
  {
   "cell_type": "code",
   "execution_count": 173,
   "id": "6c6b63e4",
   "metadata": {},
   "outputs": [],
   "source": [
    "# Definição do schema\n",
    "schema_qualificacoes: StructType = StructType([\n",
    "    StructField(\"codigo_qualificacao\", StringType(), True),\n",
    "    StructField(\"descricao_qualificacao\", StringType(), True),\n",
    "])"
   ]
  },
  {
   "cell_type": "code",
   "execution_count": 174,
   "id": "4a538146",
   "metadata": {},
   "outputs": [],
   "source": [
    "# ler arquivo CSV\n",
    "df_qualificacoes = ler_csv(path_csv_qualificacoes, \"iso-8859-1\", schema_qualificacoes)"
   ]
  },
  {
   "cell_type": "code",
   "execution_count": 175,
   "id": "f8ca666d",
   "metadata": {},
   "outputs": [
    {
     "name": "stdout",
     "output_type": "stream",
     "text": [
      "+-------------------+----------------------------+\n",
      "|codigo_qualificacao|descricao_qualificacao      |\n",
      "+-------------------+----------------------------+\n",
      "|00                 |Não informada               |\n",
      "|05                 |Administrador               |\n",
      "|08                 |Conselheiro de Administração|\n",
      "|09                 |Curador                     |\n",
      "|10                 |Diretor                     |\n",
      "|11                 |Interventor                 |\n",
      "|12                 |Inventariante               |\n",
      "|13                 |Liquidante                  |\n",
      "|14                 |Mãe                         |\n",
      "|15                 |Pai                         |\n",
      "|16                 |Presidente                  |\n",
      "|17                 |Procurador                  |\n",
      "|18                 |Secretário                  |\n",
      "|19                 |Síndico (Condomínio)        |\n",
      "|20                 |Sociedade Consorciada       |\n",
      "|21                 |Sociedade Filiada           |\n",
      "|22                 |Sócio                       |\n",
      "|23                 |Sócio Capitalista           |\n",
      "|24                 |Sócio Comanditado           |\n",
      "|25                 |Sócio Comanditário          |\n",
      "+-------------------+----------------------------+\n",
      "only showing top 20 rows\n"
     ]
    }
   ],
   "source": [
    "df_qualificacoes.show(truncate=False)"
   ]
  },
  {
   "cell_type": "code",
   "execution_count": 177,
   "id": "7b4fb1f2",
   "metadata": {},
   "outputs": [
    {
     "name": "stderr",
     "output_type": "stream",
     "text": [
      "[Stage 4:====================================================>    (46 + 4) / 50]\r"
     ]
    },
    {
     "name": "stdout",
     "output_type": "stream",
     "text": [
      "Gravação efetuada!\n"
     ]
    },
    {
     "name": "stderr",
     "output_type": "stream",
     "text": [
      "                                                                                \r"
     ]
    },
    {
     "data": {
      "text/plain": [
       "DataFrame[codigo_qualificacao: string, descricao_qualificacao: string]"
      ]
     },
     "execution_count": 177,
     "metadata": {},
     "output_type": "execute_result"
    }
   ],
   "source": [
    "# Salvar no RAW\n",
    "\n",
    "gravar_delta(df_qualificacoes, \"../RAW/qualificacoes\")"
   ]
  },
  {
   "cell_type": "code",
   "execution_count": 178,
   "id": "ef4ef6d8",
   "metadata": {},
   "outputs": [
    {
     "name": "stdout",
     "output_type": "stream",
     "text": [
      "+-------------------+----------------------------+\n",
      "|codigo_qualificacao|descricao_qualificacao      |\n",
      "+-------------------+----------------------------+\n",
      "|00                 |Não informada               |\n",
      "|05                 |Administrador               |\n",
      "|08                 |Conselheiro de Administração|\n",
      "|09                 |Curador                     |\n",
      "|10                 |Diretor                     |\n",
      "|11                 |Interventor                 |\n",
      "|12                 |Inventariante               |\n",
      "|13                 |Liquidante                  |\n",
      "|14                 |Mãe                         |\n",
      "|15                 |Pai                         |\n",
      "|16                 |Presidente                  |\n",
      "|17                 |Procurador                  |\n",
      "|18                 |Secretário                  |\n",
      "|19                 |Síndico (Condomínio)        |\n",
      "|20                 |Sociedade Consorciada       |\n",
      "|21                 |Sociedade Filiada           |\n",
      "|22                 |Sócio                       |\n",
      "|23                 |Sócio Capitalista           |\n",
      "|24                 |Sócio Comanditado           |\n",
      "|25                 |Sócio Comanditário          |\n",
      "+-------------------+----------------------------+\n",
      "only showing top 20 rows\n"
     ]
    }
   ],
   "source": [
    "try:\n",
    "    deltaTable_qualificacoes = DeltaTable.forPath(spark, \"../RAW/qualificacoes\")\n",
    "    df_qualificacoes = deltaTable_qualificacoes.toDF()\n",
    "    df_qualificacoes.show(truncate=False)\n",
    "except Exception as e:\n",
    "    print(f\"Erro: {e}\")"
   ]
  },
  {
   "cell_type": "markdown",
   "id": "8b2303d4",
   "metadata": {},
   "source": [
    "## RAW - Motivos"
   ]
  },
  {
   "cell_type": "code",
   "execution_count": 162,
   "id": "dc815ffe",
   "metadata": {},
   "outputs": [],
   "source": [
    "# caminho do CSV\n",
    "path_csv_motivos: str = \"../LND/CSV/motivos.csv\""
   ]
  },
  {
   "cell_type": "code",
   "execution_count": 163,
   "id": "cec570bb",
   "metadata": {},
   "outputs": [],
   "source": [
    "# Definição do schema\n",
    "schema_motivos: StructType = StructType([\n",
    "    StructField(\"codigo_motivo\", StringType(), True),\n",
    "    StructField(\"descricao_motivo\", StringType(), True),\n",
    "]) "
   ]
  },
  {
   "cell_type": "code",
   "execution_count": 164,
   "id": "09d32152",
   "metadata": {},
   "outputs": [],
   "source": [
    "# Ler arquivo CSV\n",
    "df_motivos: DataFrame = ler_csv(path_csv_motivos, \"iso-8859-1\", schema_motivos)"
   ]
  },
  {
   "cell_type": "code",
   "execution_count": 165,
   "id": "7aa9fe0f",
   "metadata": {},
   "outputs": [
    {
     "name": "stdout",
     "output_type": "stream",
     "text": [
      "+-------------+-------------------------------------------------+\n",
      "|codigo_motivo|descricao_motivo                                 |\n",
      "+-------------+-------------------------------------------------+\n",
      "|00           |SEM MOTIVO                                       |\n",
      "|01           |EXTINCAO POR ENCERRAMENTO LIQUIDACAO VOLUNTARIA  |\n",
      "|02           |INCORPORACAO                                     |\n",
      "|03           |FUSAO                                            |\n",
      "|04           |CISAO TOTAL                                      |\n",
      "|05           |ENCERRAMENTO DA FALENCIA                         |\n",
      "|06           |ENCERRAMENTO DA LIQUIDACAO                       |\n",
      "|07           |ELEVACAO A MATRIZ                                |\n",
      "|08           |TRANSPASSE                                       |\n",
      "|09           |NAO INICIO DE ATIVIDADE                          |\n",
      "|10           |EXTINCAO PELO ENCERRAMENTO DA LIQUIDACAO JUDICIAL|\n",
      "|11           |ANULACAO POR MULTICIPLIDADE                      |\n",
      "|12           |ANULACAO ONLINE DE OFICIO                        |\n",
      "|13           |OMISSA CONTUMAZ                                  |\n",
      "|14           |OMISSA NAO LOCALIZADA                            |\n",
      "|15           |INEXISTENCIA DE FATO                             |\n",
      "|16           |ANULACAO POR VICIOS                              |\n",
      "|17           |BAIXA INICIADA EM ANALISE                        |\n",
      "|18           |INTERRUPCAO TEMPORARIA DAS ATIVIDADES            |\n",
      "|21           |PEDIDO DE BAIXA INDEFERIDA                       |\n",
      "+-------------+-------------------------------------------------+\n",
      "only showing top 20 rows\n"
     ]
    }
   ],
   "source": [
    "df_motivos.show(truncate=False)"
   ]
  },
  {
   "cell_type": "code",
   "execution_count": null,
   "id": "e8108e82",
   "metadata": {},
   "outputs": [
    {
     "name": "stdout",
     "output_type": "stream",
     "text": [
      "Gravação efetuada!\n"
     ]
    },
    {
     "data": {
      "text/plain": [
       "DataFrame[codigo_motivo: string, descricao_motivo: string]"
      ]
     },
     "execution_count": 166,
     "metadata": {},
     "output_type": "execute_result"
    }
   ],
   "source": [
    "# Gravar no RAW\n",
    "\n",
    "# gravar_delta(df_motivos, \"../RAW/motivos\")"
   ]
  },
  {
   "cell_type": "code",
   "execution_count": 167,
   "id": "69666f42",
   "metadata": {},
   "outputs": [
    {
     "name": "stdout",
     "output_type": "stream",
     "text": [
      "+-------------+-------------------------------------------------+\n",
      "|codigo_motivo|descricao_motivo                                 |\n",
      "+-------------+-------------------------------------------------+\n",
      "|00           |SEM MOTIVO                                       |\n",
      "|01           |EXTINCAO POR ENCERRAMENTO LIQUIDACAO VOLUNTARIA  |\n",
      "|02           |INCORPORACAO                                     |\n",
      "|03           |FUSAO                                            |\n",
      "|04           |CISAO TOTAL                                      |\n",
      "|05           |ENCERRAMENTO DA FALENCIA                         |\n",
      "|06           |ENCERRAMENTO DA LIQUIDACAO                       |\n",
      "|07           |ELEVACAO A MATRIZ                                |\n",
      "|08           |TRANSPASSE                                       |\n",
      "|09           |NAO INICIO DE ATIVIDADE                          |\n",
      "|10           |EXTINCAO PELO ENCERRAMENTO DA LIQUIDACAO JUDICIAL|\n",
      "|11           |ANULACAO POR MULTICIPLIDADE                      |\n",
      "|12           |ANULACAO ONLINE DE OFICIO                        |\n",
      "|13           |OMISSA CONTUMAZ                                  |\n",
      "|14           |OMISSA NAO LOCALIZADA                            |\n",
      "|15           |INEXISTENCIA DE FATO                             |\n",
      "|16           |ANULACAO POR VICIOS                              |\n",
      "|17           |BAIXA INICIADA EM ANALISE                        |\n",
      "|18           |INTERRUPCAO TEMPORARIA DAS ATIVIDADES            |\n",
      "|21           |PEDIDO DE BAIXA INDEFERIDA                       |\n",
      "+-------------+-------------------------------------------------+\n",
      "only showing top 20 rows\n"
     ]
    }
   ],
   "source": [
    "try:\n",
    "    deltaTable_motivos: DeltaTable = DeltaTable.forPath(spark, \"../RAW/motivos\")\n",
    "    df_motivos: DataFrame = deltaTable_motivos.toDF()\n",
    "    df_motivos.show(truncate=False)\n",
    "except Exception as e:\n",
    "    print(f\"Erro: {e}\")"
   ]
  },
  {
   "cell_type": "markdown",
   "id": "44c74342",
   "metadata": {},
   "source": [
    "## RAW - Municipios Receita Federal"
   ]
  },
  {
   "cell_type": "code",
   "execution_count": 4,
   "id": "1e7e58cd",
   "metadata": {},
   "outputs": [],
   "source": [
    "# caminho do CSV\n",
    "path_csv_municipios_rf: str = \"../LND/CSV/municipios.csv\""
   ]
  },
  {
   "cell_type": "code",
   "execution_count": 12,
   "id": "7338bf8a",
   "metadata": {},
   "outputs": [],
   "source": [
    "schema_rf_municipios: StructType = StructType([\n",
    "    StructField(\"id_municipio\", StringType(), True),\n",
    "    StructField(\"municipio\", StringType(), True)\n",
    "])"
   ]
  },
  {
   "cell_type": "code",
   "execution_count": 13,
   "id": "ce5ddafd",
   "metadata": {},
   "outputs": [],
   "source": [
    "# Ler arquivo CSV\n",
    "df_municipios_rf: DataFrame = ler_csv(path_csv_municipios_rf, \"iso-8859-1\", schema_rf_municipios)"
   ]
  },
  {
   "cell_type": "code",
   "execution_count": 14,
   "id": "59f24df4",
   "metadata": {},
   "outputs": [
    {
     "name": "stdout",
     "output_type": "stream",
     "text": [
      "+------------+-----------------------+\n",
      "|id_municipio|municipio              |\n",
      "+------------+-----------------------+\n",
      "|0001        |GUAJARA-MIRIM          |\n",
      "|0002        |ALTO ALEGRE DOS PARECIS|\n",
      "|0003        |PORTO VELHO            |\n",
      "|0004        |BURITIS                |\n",
      "|0005        |JI-PARANA              |\n",
      "+------------+-----------------------+\n",
      "only showing top 5 rows\n",
      "root\n",
      " |-- id_municipio: string (nullable = true)\n",
      " |-- municipio: string (nullable = true)\n",
      "\n"
     ]
    }
   ],
   "source": [
    "df_municipios_rf.show(5, truncate=False)\n",
    "df_municipios_rf.printSchema()"
   ]
  },
  {
   "cell_type": "code",
   "execution_count": 16,
   "id": "46660fb5",
   "metadata": {},
   "outputs": [
    {
     "name": "stderr",
     "output_type": "stream",
     "text": [
      "25/07/18 23:19:29 WARN SparkStringUtils: Truncated the string representation of a plan since it was too large. This behavior can be adjusted by setting 'spark.sql.debug.maxToStringFields'.\n",
      "                                                                                \r"
     ]
    },
    {
     "name": "stdout",
     "output_type": "stream",
     "text": [
      "Gravação efetuada!\n"
     ]
    },
    {
     "data": {
      "text/plain": [
       "DataFrame[id_municipio: string, municipio: string]"
      ]
     },
     "execution_count": 16,
     "metadata": {},
     "output_type": "execute_result"
    }
   ],
   "source": [
    "# Gravar no RAW\n",
    "\n",
    "gravar_delta(df_municipios_rf, \"../RAW/municipios_rf\")"
   ]
  },
  {
   "cell_type": "code",
   "execution_count": 17,
   "id": "f985b977",
   "metadata": {},
   "outputs": [
    {
     "name": "stderr",
     "output_type": "stream",
     "text": [
      "                                                                                \r"
     ]
    },
    {
     "name": "stdout",
     "output_type": "stream",
     "text": [
      "+------------+------------------------+\n",
      "|id_municipio|municipio               |\n",
      "+------------+------------------------+\n",
      "|0001        |GUAJARA-MIRIM           |\n",
      "|0002        |ALTO ALEGRE DOS PARECIS |\n",
      "|0003        |PORTO VELHO             |\n",
      "|0004        |BURITIS                 |\n",
      "|0005        |JI-PARANA               |\n",
      "|0006        |CHUPINGUAIA             |\n",
      "|0007        |ARIQUEMES               |\n",
      "|0008        |CUJUBIM                 |\n",
      "|0009        |CACOAL                  |\n",
      "|0010        |NOVA UNIAO              |\n",
      "|0011        |PIMENTA BUENO           |\n",
      "|0012        |PARECIS                 |\n",
      "|0013        |VILHENA                 |\n",
      "|0014        |PIMENTEIRAS DO OESTE    |\n",
      "|0015        |JARU                    |\n",
      "|0016        |PRIMAVERA DE RONDONIA   |\n",
      "|0017        |OURO PRETO DO OESTE     |\n",
      "|0018        |SAO FELIPE D'OESTE      |\n",
      "|0019        |PRESIDENTE MEDICI       |\n",
      "|0020        |SAO FRANCISCO DO GUAPORE|\n",
      "+------------+------------------------+\n",
      "only showing top 20 rows\n",
      "root\n",
      " |-- id_municipio: string (nullable = true)\n",
      " |-- municipio: string (nullable = true)\n",
      "\n"
     ]
    }
   ],
   "source": [
    "try:\n",
    "    deltaTable_municipios_rf: DeltaTable = DeltaTable.forPath(spark, \"../RAW/municipios_rf\")\n",
    "    df_municipios_rf: DataFrame = deltaTable_municipios_rf.toDF()\n",
    "    df_municipios_rf.show(truncate=False)\n",
    "    df_municipios_rf.printSchema()\n",
    "except Exception as e:\n",
    "    print(f\"Erro: {e}\")"
   ]
  },
  {
   "cell_type": "markdown",
   "id": "13409cdd",
   "metadata": {},
   "source": [
    "## Finalizar spark"
   ]
  },
  {
   "cell_type": "code",
   "execution_count": 3,
   "id": "e2836115",
   "metadata": {},
   "outputs": [],
   "source": [
    "spark.stop()"
   ]
  },
  {
   "cell_type": "code",
   "execution_count": null,
   "id": "8cd89f3c",
   "metadata": {},
   "outputs": [],
   "source": []
  }
 ],
 "metadata": {
  "kernelspec": {
   "display_name": "venv",
   "language": "python",
   "name": "python3"
  },
  "language_info": {
   "codemirror_mode": {
    "name": "ipython",
    "version": 3
   },
   "file_extension": ".py",
   "mimetype": "text/x-python",
   "name": "python",
   "nbconvert_exporter": "python",
   "pygments_lexer": "ipython3",
   "version": "3.12.3"
  }
 },
 "nbformat": 4,
 "nbformat_minor": 5
}
