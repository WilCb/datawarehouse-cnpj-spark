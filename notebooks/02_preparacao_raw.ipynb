{
 "cells": [
  {
   "cell_type": "markdown",
   "id": "4f9b6b9b",
   "metadata": {},
   "source": [
    "# Preparação e Estruturação dos Dados Brutos (Camada RAW)"
   ]
  },
  {
   "cell_type": "markdown",
   "id": "454bcc69",
   "metadata": {},
   "source": [
    "Este notebook é responsável por ler os dados coletados na camada Landing (LND), aplicando esquemas estruturados para transformar os arquivos JSON e CSV em DataFrames do PySpark. Os dados são então organizados, renomeados e armazenados no formato Delta Lake na camada RAW, com particionamento para otimização do armazenamento e consultas futuras."
   ]
  },
  {
   "cell_type": "markdown",
   "id": "a7bbbd56",
   "metadata": {},
   "source": [
    "## Configuração e Importações do pyspark e delta lake"
   ]
  },
  {
   "cell_type": "code",
   "execution_count": 37,
   "id": "2f8a27af-0551-4fc2-8cfc-8bed0cfec52a",
   "metadata": {},
   "outputs": [],
   "source": [
    "# Para iniciar a seção spark\n",
    "from typing import Optional, Union, List\n",
    "from pyspark.sql import SparkSession, DataFrame\n",
    "from pyspark.sql.types import StructType, StructField, StringType\n",
    "from pyspark.sql import functions as f\n",
    "from delta import configure_spark_with_delta_pip\n",
    "from delta.tables import DeltaTable"
   ]
  },
  {
   "cell_type": "code",
   "execution_count": 38,
   "id": "8640d3ba-e646-4f79-8827-2d8b215ae228",
   "metadata": {},
   "outputs": [
    {
     "name": "stderr",
     "output_type": "stream",
     "text": [
      "25/07/24 10:03:54 WARN SparkSession: Using an existing Spark session; only runtime SQL configurations will take effect.\n"
     ]
    },
    {
     "data": {
      "text/html": [
       "\n",
       "            <div>\n",
       "                <p><b>SparkSession - in-memory</b></p>\n",
       "                \n",
       "        <div>\n",
       "            <p><b>SparkContext</b></p>\n",
       "\n",
       "            <p><a href=\"http://10.255.255.254:4040\">Spark UI</a></p>\n",
       "\n",
       "            <dl>\n",
       "              <dt>Version</dt>\n",
       "                <dd><code>v4.0.0</code></dd>\n",
       "              <dt>Master</dt>\n",
       "                <dd><code>local[*]</code></dd>\n",
       "              <dt>AppName</dt>\n",
       "                <dd><code>App Preparação RAW</code></dd>\n",
       "            </dl>\n",
       "        </div>\n",
       "        \n",
       "            </div>\n",
       "        "
      ],
      "text/plain": [
       "<pyspark.sql.session.SparkSession at 0x74579adec050>"
      ]
     },
     "execution_count": 38,
     "metadata": {},
     "output_type": "execute_result"
    }
   ],
   "source": [
    "builder: SparkSession.Builder = SparkSession.builder \\\n",
    "    .appName(\"App Preparação RAW\") \\\n",
    "    .config(\"spark.sql.extensions\", \"io.delta.sql.DeltaSparkSessionExtension\") \\\n",
    "    .config(\"spark.sql.catalog.spark_catalog\", \"org.apache.spark.sql.delta.catalog.DeltaCatalog\") \\\n",
    "    .config(\"spark.driver.memory\", \"2g\") \\\n",
    "    .config(\"spark.executor.memory\", \"2g\")\n",
    "\n",
    "spark: SparkSession = configure_spark_with_delta_pip(builder).getOrCreate()\n",
    "\n",
    "spark"
   ]
  },
  {
   "cell_type": "markdown",
   "id": "b8ab0fb8",
   "metadata": {},
   "source": [
    "## Funções para evitar repetição"
   ]
  },
  {
   "cell_type": "code",
   "execution_count": 3,
   "id": "a3024654",
   "metadata": {},
   "outputs": [],
   "source": [
    "# Apenas para arquivos com formato CSV.\n",
    "def ler_csv(\n",
    "        path: str,\n",
    "        encoding: str,\n",
    "        schema: Optional[StructType] = None,\n",
    "        header: bool = False,\n",
    "        sep: str = \";\",\n",
    "        quote: str = '\"'\n",
    ") -> DataFrame:\n",
    "    \"\"\"\n",
    "    Lê um arquivo CSV usando PySpark com esquema definido e opções customizáveis.\n",
    "\n",
    "    Esta função lê um arquivo CSV a partir do caminho especificado, aplicando o esquema\n",
    "    fornecido para garantir tipos corretos nas colunas. Permite configurar o encoding,\n",
    "    se o arquivo possui cabeçalho, o separador de campo e o caractere de aspas.\n",
    "\n",
    "    Args:\n",
    "        path (str): Caminho do arquivo CSV a ser lido.\n",
    "        schema (StructType): Esquema (schema) PySpark para aplicar ao DataFrame.\n",
    "        encoding (str): Codificação do arquivo CSV, ex: \"UTF-8\", \"ISO-8859-1\", etc.\n",
    "        header (bool, optional): Indica se o arquivo possui linha de cabeçalho com nomes das colunas.\n",
    "            Padrão é False.\n",
    "        sep (str, optional): Caractere separador dos campos no CSV. Padrão é ponto e vírgula \";\".\n",
    "        quote (str, optional): Caractere usado para delimitar campos com texto. Padrão é aspas duplas '\"'.\n",
    "\n",
    "    Returns:\n",
    "        DataFrame: DataFrame do Spark contendo os dados lidos do CSV conforme o esquema informado.\n",
    "\n",
    "    \"\"\"\n",
    "    try:\n",
    "        # Inicializa a leitura do arquivo CSV com o formato adequado\n",
    "        reader = spark.read.format(\"csv\") \\\n",
    "            .option(\"header\", header) \\\n",
    "            .option(\"sep\", sep) \\\n",
    "            .option(\"quote\", quote) \\\n",
    "            .option(\"encoding\", encoding)\n",
    "\n",
    "        # Se foi passado schema explícito, aplica o schema fixo para o DataFrame\n",
    "        if schema:\n",
    "            reader = reader.schema(schema)\n",
    "        else:\n",
    "            # Se não, ativa inferência automática de esquema pelo Spark\n",
    "            reader = reader.option(\"inferSchema\", True)\n",
    "\n",
    "        # Carrega o arquivo CSV do caminho informado com as opções configuradas\n",
    "        df = reader.load(path)\n",
    "\n",
    "        # Retorna o DataFrame carregado\n",
    "        return df\n",
    "\n",
    "    # Captura qualquer erro na leitura, imprime a mensagem e pode ser melhorado para levantar erro\n",
    "    except Exception as e:\n",
    "        print(f\"[ERRO] Falha na leitura do CSV: {e}\")\n",
    "        raise"
   ]
  },
  {
   "cell_type": "code",
   "execution_count": 4,
   "id": "d64b4821",
   "metadata": {},
   "outputs": [],
   "source": [
    "def gravar_delta(\n",
    "    df: DataFrame,\n",
    "    path: str,\n",
    "    mode: str = \"overwrite\",\n",
    "    partitionBy: Optional[Union[str, List[str]]] = None\n",
    ") -> DataFrame:\n",
    "    \"\"\"\n",
    "    Grava um DataFrame no formato Delta Lake em um caminho especificado.\n",
    "\n",
    "    Salva o DataFrame no formato Delta, permitindo definir o modo de gravação e colunas\n",
    "    para particionamento dos dados. Útil para organizar dados grandes em diretórios particionados.\n",
    "\n",
    "    Args:\n",
    "        df (DataFrame): DataFrame do Spark que será salvo.\n",
    "        path (str): Caminho do diretório onde os dados serão gravados.\n",
    "        mode (str, optional): Modo de gravação, como 'overwrite' (sobrescrever), 'append' (acrescentar),\n",
    "            entre outros suportados pelo Spark. Default é 'overwrite'.\n",
    "        partitionBy (str ou List[str], optional): Coluna ou lista de colunas para particionamento dos dados.\n",
    "            Se None, não realiza particionamento. Default é None.\n",
    "\n",
    "    Returns:\n",
    "        DataFrame: Retorna o mesmo DataFrame recebido como argumento para facilitar encadeamento.\n",
    "    \"\"\"\n",
    "    try:\n",
    "        # Cria um escritor de DataFrame para o formato Delta\n",
    "        writer = df.write.format(\"delta\").mode(mode)\n",
    "\n",
    "        # Se foram informadas colunas para particionamento, ajusta o escritor para particionar\n",
    "        if partitionBy:\n",
    "\n",
    "            # Se for uma string só, transforma em lista para unpack\n",
    "            if isinstance(partitionBy, str):\n",
    "                partitionBy = [partitionBy]\n",
    "\n",
    "            # Aplica o particionamento passando todas as colunas indicadas\n",
    "            writer = writer.partitionBy(*partitionBy)\n",
    "\n",
    "        # Salva o DataFrame no caminho especificado no formato Delta\n",
    "        writer.save(path)\n",
    "\n",
    "        # Mensagem de sucesso na gravação\n",
    "        print(\"Gravação efetuada!\")\n",
    "\n",
    "        # Retorna o DataFrame original para permitir encadeamento de operações, se desejar\n",
    "        return df\n",
    "\n",
    "    except Exception as e:\n",
    "        # Captura qualquer erro durante a gravação, imprime mensagem de erro\n",
    "        print(f\"[ERRO] Falha ao gravar Delta no caminho '{path}': {e}\")\n",
    "        raise"
   ]
  },
  {
   "cell_type": "markdown",
   "id": "05be2d3e",
   "metadata": {},
   "source": [
    "## RAW - Dados IBGE"
   ]
  },
  {
   "cell_type": "code",
   "execution_count": 22,
   "id": "148df962-a968-49f1-9167-a0b4ad22191b",
   "metadata": {},
   "outputs": [],
   "source": [
    "# Caminho do arquivo\n",
    "\n",
    "path_json_ibge_municipios: str = \"../LND/municipios/municipios_2025-07-23_200927.json\""
   ]
  },
  {
   "cell_type": "code",
   "execution_count": 23,
   "id": "cbb96adc-5915-4cd2-a763-10ad163881c0",
   "metadata": {},
   "outputs": [],
   "source": [
    "# Definindo schema para o JSON aninhado dos municípios IBGE\n",
    "schema_ibge_municipios: StructType = StructType([\n",
    "    StructField(\"id\", StringType(), True),\n",
    "    StructField(\"nome\", StringType(), True),\n",
    "    StructField(\"microrregiao\", StructType([\n",
    "        StructField(\"id\", StringType(), True),\n",
    "        StructField(\"nome\", StringType(), True),\n",
    "        StructField(\"mesorregiao\", StructType([\n",
    "            StructField(\"id\", StringType(), True),\n",
    "            StructField(\"nome\", StringType(), True),\n",
    "            StructField(\"UF\", StructType([\n",
    "                StructField(\"id\", StringType(), True),\n",
    "                StructField(\"sigla\", StringType(), True),\n",
    "                StructField(\"nome\", StringType(), True),\n",
    "                StructField(\"regiao\", StructType([\n",
    "                    StructField(\"id\", StringType(), True),\n",
    "                    StructField(\"sigla\", StringType(), True),\n",
    "                    StructField(\"nome\", StringType(), True),\n",
    "                ]))\n",
    "            ]))\n",
    "        ]))\n",
    "    ])),\n",
    "    StructField(\"regiao-imediata\", StructType([\n",
    "        StructField(\"id\", StringType(), True),\n",
    "        StructField(\"nome\", StringType(), True),\n",
    "        StructField(\"regiao-intermediaria\", StructType([\n",
    "            StructField(\"id\", StringType(), True),\n",
    "            StructField(\"nome\", StringType(), True),\n",
    "            StructField(\"UF\", StructType([\n",
    "                StructField(\"id\", StringType(), True),\n",
    "                StructField(\"sigla\", StringType(), True),\n",
    "                StructField(\"nome\", StringType(), True),\n",
    "                StructField(\"regiao\", StructType([\n",
    "                    StructField(\"id\", StringType(), True),\n",
    "                    StructField(\"sigla\", StringType(), True),\n",
    "                    StructField(\"nome\", StringType(), True),\n",
    "                ]))\n",
    "            ]))\n",
    "        ]))\n",
    "    ]))\n",
    "])"
   ]
  },
  {
   "cell_type": "code",
   "execution_count": 24,
   "id": "d0ff36c2-4958-40ce-88c3-75f8f11279c1",
   "metadata": {},
   "outputs": [],
   "source": [
    "try:\n",
    "    # Lê o arquivo JSON com múltiplas linhas, aplicando o schema previamente definido\n",
    "    df_ibge_municipios: DataFrame = spark.read \\\n",
    "        .option(\"multiline\", True) \\\n",
    "        .schema(schema_ibge_municipios) \\\n",
    "        .json(path_json_ibge_municipios)\n",
    "\n",
    "    # Caso ocorra qualquer erro durante a leitura, imprime a mensagem e relança o erro para controle externo\n",
    "except Exception as e:\n",
    "    print(f\"Erro: {e}\")\n",
    "    raise"
   ]
  },
  {
   "cell_type": "code",
   "execution_count": 25,
   "id": "7d117a4e-3819-46f3-a109-ba7bf36579f6",
   "metadata": {},
   "outputs": [
    {
     "name": "stderr",
     "output_type": "stream",
     "text": [
      "[Stage 0:>                                                          (0 + 1) / 1]\r"
     ]
    },
    {
     "name": "stdout",
     "output_type": "stream",
     "text": [
      "+-------+---------------------+----------------------------------------------------------------------------------------+---------------------------------------------------------------------------+\n",
      "|id     |nome                 |microrregiao                                                                            |regiao-imediata                                                            |\n",
      "+-------+---------------------+----------------------------------------------------------------------------------------+---------------------------------------------------------------------------+\n",
      "|1100015|Alta Floresta D'Oeste|{11006, Cacoal, {1102, Leste Rondoniense, {11, RO, Rondônia, {1, N, Norte}}}}           |{110005, Cacoal, {1102, Ji-Paraná, {11, RO, Rondônia, {1, N, Norte}}}}     |\n",
      "|1100023|Ariquemes            |{11003, Ariquemes, {1102, Leste Rondoniense, {11, RO, Rondônia, {1, N, Norte}}}}        |{110002, Ariquemes, {1101, Porto Velho, {11, RO, Rondônia, {1, N, Norte}}}}|\n",
      "|1100031|Cabixi               |{11008, Colorado do Oeste, {1102, Leste Rondoniense, {11, RO, Rondônia, {1, N, Norte}}}}|{110006, Vilhena, {1102, Ji-Paraná, {11, RO, Rondônia, {1, N, Norte}}}}    |\n",
      "|1100049|Cacoal               |{11006, Cacoal, {1102, Leste Rondoniense, {11, RO, Rondônia, {1, N, Norte}}}}           |{110005, Cacoal, {1102, Ji-Paraná, {11, RO, Rondônia, {1, N, Norte}}}}     |\n",
      "|1100056|Cerejeiras           |{11008, Colorado do Oeste, {1102, Leste Rondoniense, {11, RO, Rondônia, {1, N, Norte}}}}|{110006, Vilhena, {1102, Ji-Paraná, {11, RO, Rondônia, {1, N, Norte}}}}    |\n",
      "+-------+---------------------+----------------------------------------------------------------------------------------+---------------------------------------------------------------------------+\n",
      "only showing top 5 rows\n"
     ]
    },
    {
     "name": "stderr",
     "output_type": "stream",
     "text": [
      "                                                                                \r"
     ]
    }
   ],
   "source": [
    "# Dados após seleção\n",
    "df_ibge_municipios.show(5, truncate=False)"
   ]
  },
  {
   "cell_type": "code",
   "execution_count": 29,
   "id": "a7e4f8de",
   "metadata": {},
   "outputs": [
    {
     "name": "stderr",
     "output_type": "stream",
     "text": [
      "[Stage 2:>                                                          (0 + 1) / 1]\r"
     ]
    },
    {
     "name": "stdout",
     "output_type": "stream",
     "text": [
      "+-------+------------------------+----------------------------------------------------------------------------------------+-----------------------------------------------------------------------------+--------------------------+\n",
      "|id     |nome                    |microrregiao                                                                            |regiao-imediata                                                              |data_ingestao             |\n",
      "+-------+------------------------+----------------------------------------------------------------------------------------+-----------------------------------------------------------------------------+--------------------------+\n",
      "|1100015|Alta Floresta D'Oeste   |{11006, Cacoal, {1102, Leste Rondoniense, {11, RO, Rondônia, {1, N, Norte}}}}           |{110005, Cacoal, {1102, Ji-Paraná, {11, RO, Rondônia, {1, N, Norte}}}}       |2025-07-23 23:10:38.421054|\n",
      "|1100023|Ariquemes               |{11003, Ariquemes, {1102, Leste Rondoniense, {11, RO, Rondônia, {1, N, Norte}}}}        |{110002, Ariquemes, {1101, Porto Velho, {11, RO, Rondônia, {1, N, Norte}}}}  |2025-07-23 23:10:38.421054|\n",
      "|1100031|Cabixi                  |{11008, Colorado do Oeste, {1102, Leste Rondoniense, {11, RO, Rondônia, {1, N, Norte}}}}|{110006, Vilhena, {1102, Ji-Paraná, {11, RO, Rondônia, {1, N, Norte}}}}      |2025-07-23 23:10:38.421054|\n",
      "|1100049|Cacoal                  |{11006, Cacoal, {1102, Leste Rondoniense, {11, RO, Rondônia, {1, N, Norte}}}}           |{110005, Cacoal, {1102, Ji-Paraná, {11, RO, Rondônia, {1, N, Norte}}}}       |2025-07-23 23:10:38.421054|\n",
      "|1100056|Cerejeiras              |{11008, Colorado do Oeste, {1102, Leste Rondoniense, {11, RO, Rondônia, {1, N, Norte}}}}|{110006, Vilhena, {1102, Ji-Paraná, {11, RO, Rondônia, {1, N, Norte}}}}      |2025-07-23 23:10:38.421054|\n",
      "|1100064|Colorado do Oeste       |{11008, Colorado do Oeste, {1102, Leste Rondoniense, {11, RO, Rondônia, {1, N, Norte}}}}|{110006, Vilhena, {1102, Ji-Paraná, {11, RO, Rondônia, {1, N, Norte}}}}      |2025-07-23 23:10:38.421054|\n",
      "|1100072|Corumbiara              |{11008, Colorado do Oeste, {1102, Leste Rondoniense, {11, RO, Rondônia, {1, N, Norte}}}}|{110006, Vilhena, {1102, Ji-Paraná, {11, RO, Rondônia, {1, N, Norte}}}}      |2025-07-23 23:10:38.421054|\n",
      "|1100080|Costa Marques           |{11002, Guajará-Mirim, {1101, Madeira-Guaporé, {11, RO, Rondônia, {1, N, Norte}}}}      |{110004, Ji-Paraná, {1102, Ji-Paraná, {11, RO, Rondônia, {1, N, Norte}}}}    |2025-07-23 23:10:38.421054|\n",
      "|1100098|Espigão D'Oeste         |{11006, Cacoal, {1102, Leste Rondoniense, {11, RO, Rondônia, {1, N, Norte}}}}           |{110005, Cacoal, {1102, Ji-Paraná, {11, RO, Rondônia, {1, N, Norte}}}}       |2025-07-23 23:10:38.421054|\n",
      "|1100106|Guajará-Mirim           |{11002, Guajará-Mirim, {1101, Madeira-Guaporé, {11, RO, Rondônia, {1, N, Norte}}}}      |{110001, Porto Velho, {1101, Porto Velho, {11, RO, Rondônia, {1, N, Norte}}}}|2025-07-23 23:10:38.421054|\n",
      "|1100114|Jaru                    |{11004, Ji-Paraná, {1102, Leste Rondoniense, {11, RO, Rondônia, {1, N, Norte}}}}        |{110003, Jaru, {1101, Porto Velho, {11, RO, Rondônia, {1, N, Norte}}}}       |2025-07-23 23:10:38.421054|\n",
      "|1100122|Ji-Paraná               |{11004, Ji-Paraná, {1102, Leste Rondoniense, {11, RO, Rondônia, {1, N, Norte}}}}        |{110004, Ji-Paraná, {1102, Ji-Paraná, {11, RO, Rondônia, {1, N, Norte}}}}    |2025-07-23 23:10:38.421054|\n",
      "|1100130|Machadinho D'Oeste      |{11003, Ariquemes, {1102, Leste Rondoniense, {11, RO, Rondônia, {1, N, Norte}}}}        |{110003, Jaru, {1101, Porto Velho, {11, RO, Rondônia, {1, N, Norte}}}}       |2025-07-23 23:10:38.421054|\n",
      "|1100148|Nova Brasilândia D'Oeste|{11005, Alvorada D'Oeste, {1102, Leste Rondoniense, {11, RO, Rondônia, {1, N, Norte}}}} |{110005, Cacoal, {1102, Ji-Paraná, {11, RO, Rondônia, {1, N, Norte}}}}       |2025-07-23 23:10:38.421054|\n",
      "|1100155|Ouro Preto do Oeste     |{11004, Ji-Paraná, {1102, Leste Rondoniense, {11, RO, Rondônia, {1, N, Norte}}}}        |{110004, Ji-Paraná, {1102, Ji-Paraná, {11, RO, Rondônia, {1, N, Norte}}}}    |2025-07-23 23:10:38.421054|\n",
      "|1100189|Pimenta Bueno           |{11007, Vilhena, {1102, Leste Rondoniense, {11, RO, Rondônia, {1, N, Norte}}}}          |{110005, Cacoal, {1102, Ji-Paraná, {11, RO, Rondônia, {1, N, Norte}}}}       |2025-07-23 23:10:38.421054|\n",
      "|1100205|Porto Velho             |{11001, Porto Velho, {1101, Madeira-Guaporé, {11, RO, Rondônia, {1, N, Norte}}}}        |{110001, Porto Velho, {1101, Porto Velho, {11, RO, Rondônia, {1, N, Norte}}}}|2025-07-23 23:10:38.421054|\n",
      "|1100254|Presidente Médici       |{11004, Ji-Paraná, {1102, Leste Rondoniense, {11, RO, Rondônia, {1, N, Norte}}}}        |{110004, Ji-Paraná, {1102, Ji-Paraná, {11, RO, Rondônia, {1, N, Norte}}}}    |2025-07-23 23:10:38.421054|\n",
      "|1100262|Rio Crespo              |{11003, Ariquemes, {1102, Leste Rondoniense, {11, RO, Rondônia, {1, N, Norte}}}}        |{110002, Ariquemes, {1101, Porto Velho, {11, RO, Rondônia, {1, N, Norte}}}}  |2025-07-23 23:10:38.421054|\n",
      "|1100288|Rolim de Moura          |{11006, Cacoal, {1102, Leste Rondoniense, {11, RO, Rondônia, {1, N, Norte}}}}           |{110005, Cacoal, {1102, Ji-Paraná, {11, RO, Rondônia, {1, N, Norte}}}}       |2025-07-23 23:10:38.421054|\n",
      "+-------+------------------------+----------------------------------------------------------------------------------------+-----------------------------------------------------------------------------+--------------------------+\n",
      "only showing top 20 rows\n"
     ]
    },
    {
     "name": "stderr",
     "output_type": "stream",
     "text": [
      "                                                                                \r"
     ]
    }
   ],
   "source": [
    "df_ibge_municipios = df_ibge_municipios.withColumn(\n",
    "    \"data_ingestao\",\n",
    "    f.current_timestamp()\n",
    ")\n",
    "\n",
    "df_ibge_municipios.show(truncate=False)"
   ]
  },
  {
   "cell_type": "code",
   "execution_count": null,
   "id": "eb9179b8-884b-4572-b207-a7e3b8e9266d",
   "metadata": {},
   "outputs": [
    {
     "name": "stderr",
     "output_type": "stream",
     "text": [
      "25/07/23 23:12:21 WARN SparkStringUtils: Truncated the string representation of a plan since it was too large. This behavior can be adjusted by setting 'spark.sql.debug.maxToStringFields'.\n",
      "                                                                                \r"
     ]
    },
    {
     "name": "stdout",
     "output_type": "stream",
     "text": [
      "Gravação efetuada!\n"
     ]
    },
    {
     "data": {
      "text/plain": [
       "DataFrame[id: string, nome: string, microrregiao: struct<id:string,nome:string,mesorregiao:struct<id:string,nome:string,UF:struct<id:string,sigla:string,nome:string,regiao:struct<id:string,sigla:string,nome:string>>>>, regiao-imediata: struct<id:string,nome:string,regiao-intermediaria:struct<id:string,nome:string,UF:struct<id:string,sigla:string,nome:string,regiao:struct<id:string,sigla:string,nome:string>>>>, data_ingestao: timestamp]"
      ]
     },
     "execution_count": 30,
     "metadata": {},
     "output_type": "execute_result"
    }
   ],
   "source": [
    "# Escrever dados com Delta Lake no formato parquet.\n",
    "\n",
    "gravar_delta(df_ibge_municipios, \"../RAW/municipios_ibge\")"
   ]
  },
  {
   "cell_type": "code",
   "execution_count": 5,
   "id": "e4b5c195-63a0-4786-bcd5-4b402c6b0118",
   "metadata": {},
   "outputs": [
    {
     "name": "stdout",
     "output_type": "stream",
     "text": [
      "root\n",
      " |-- id: string (nullable = true)\n",
      " |-- nome: string (nullable = true)\n",
      " |-- microrregiao: struct (nullable = true)\n",
      " |    |-- id: string (nullable = true)\n",
      " |    |-- nome: string (nullable = true)\n",
      " |    |-- mesorregiao: struct (nullable = true)\n",
      " |    |    |-- id: string (nullable = true)\n",
      " |    |    |-- nome: string (nullable = true)\n",
      " |    |    |-- UF: struct (nullable = true)\n",
      " |    |    |    |-- id: string (nullable = true)\n",
      " |    |    |    |-- sigla: string (nullable = true)\n",
      " |    |    |    |-- nome: string (nullable = true)\n",
      " |    |    |    |-- regiao: struct (nullable = true)\n",
      " |    |    |    |    |-- id: string (nullable = true)\n",
      " |    |    |    |    |-- sigla: string (nullable = true)\n",
      " |    |    |    |    |-- nome: string (nullable = true)\n",
      " |-- regiao-imediata: struct (nullable = true)\n",
      " |    |-- id: string (nullable = true)\n",
      " |    |-- nome: string (nullable = true)\n",
      " |    |-- regiao-intermediaria: struct (nullable = true)\n",
      " |    |    |-- id: string (nullable = true)\n",
      " |    |    |-- nome: string (nullable = true)\n",
      " |    |    |-- UF: struct (nullable = true)\n",
      " |    |    |    |-- id: string (nullable = true)\n",
      " |    |    |    |-- sigla: string (nullable = true)\n",
      " |    |    |    |-- nome: string (nullable = true)\n",
      " |    |    |    |-- regiao: struct (nullable = true)\n",
      " |    |    |    |    |-- id: string (nullable = true)\n",
      " |    |    |    |    |-- sigla: string (nullable = true)\n",
      " |    |    |    |    |-- nome: string (nullable = true)\n",
      " |-- data_ingestao: timestamp (nullable = true)\n",
      "\n"
     ]
    },
    {
     "name": "stderr",
     "output_type": "stream",
     "text": [
      "25/07/24 09:48:41 WARN SparkStringUtils: Truncated the string representation of a plan since it was too large. This behavior can be adjusted by setting 'spark.sql.debug.maxToStringFields'.\n",
      "[Stage 8:>                                                          (0 + 1) / 1]\r"
     ]
    },
    {
     "name": "stdout",
     "output_type": "stream",
     "text": [
      "+-------+------------------------+----------------------------------------------------------------------------------------+-----------------------------------------------------------------------------+--------------------------+\n",
      "|id     |nome                    |microrregiao                                                                            |regiao-imediata                                                              |data_ingestao             |\n",
      "+-------+------------------------+----------------------------------------------------------------------------------------+-----------------------------------------------------------------------------+--------------------------+\n",
      "|1100015|Alta Floresta D'Oeste   |{11006, Cacoal, {1102, Leste Rondoniense, {11, RO, Rondônia, {1, N, Norte}}}}           |{110005, Cacoal, {1102, Ji-Paraná, {11, RO, Rondônia, {1, N, Norte}}}}       |2025-07-23 23:12:11.297894|\n",
      "|1100023|Ariquemes               |{11003, Ariquemes, {1102, Leste Rondoniense, {11, RO, Rondônia, {1, N, Norte}}}}        |{110002, Ariquemes, {1101, Porto Velho, {11, RO, Rondônia, {1, N, Norte}}}}  |2025-07-23 23:12:11.297894|\n",
      "|1100031|Cabixi                  |{11008, Colorado do Oeste, {1102, Leste Rondoniense, {11, RO, Rondônia, {1, N, Norte}}}}|{110006, Vilhena, {1102, Ji-Paraná, {11, RO, Rondônia, {1, N, Norte}}}}      |2025-07-23 23:12:11.297894|\n",
      "|1100049|Cacoal                  |{11006, Cacoal, {1102, Leste Rondoniense, {11, RO, Rondônia, {1, N, Norte}}}}           |{110005, Cacoal, {1102, Ji-Paraná, {11, RO, Rondônia, {1, N, Norte}}}}       |2025-07-23 23:12:11.297894|\n",
      "|1100056|Cerejeiras              |{11008, Colorado do Oeste, {1102, Leste Rondoniense, {11, RO, Rondônia, {1, N, Norte}}}}|{110006, Vilhena, {1102, Ji-Paraná, {11, RO, Rondônia, {1, N, Norte}}}}      |2025-07-23 23:12:11.297894|\n",
      "|1100064|Colorado do Oeste       |{11008, Colorado do Oeste, {1102, Leste Rondoniense, {11, RO, Rondônia, {1, N, Norte}}}}|{110006, Vilhena, {1102, Ji-Paraná, {11, RO, Rondônia, {1, N, Norte}}}}      |2025-07-23 23:12:11.297894|\n",
      "|1100072|Corumbiara              |{11008, Colorado do Oeste, {1102, Leste Rondoniense, {11, RO, Rondônia, {1, N, Norte}}}}|{110006, Vilhena, {1102, Ji-Paraná, {11, RO, Rondônia, {1, N, Norte}}}}      |2025-07-23 23:12:11.297894|\n",
      "|1100080|Costa Marques           |{11002, Guajará-Mirim, {1101, Madeira-Guaporé, {11, RO, Rondônia, {1, N, Norte}}}}      |{110004, Ji-Paraná, {1102, Ji-Paraná, {11, RO, Rondônia, {1, N, Norte}}}}    |2025-07-23 23:12:11.297894|\n",
      "|1100098|Espigão D'Oeste         |{11006, Cacoal, {1102, Leste Rondoniense, {11, RO, Rondônia, {1, N, Norte}}}}           |{110005, Cacoal, {1102, Ji-Paraná, {11, RO, Rondônia, {1, N, Norte}}}}       |2025-07-23 23:12:11.297894|\n",
      "|1100106|Guajará-Mirim           |{11002, Guajará-Mirim, {1101, Madeira-Guaporé, {11, RO, Rondônia, {1, N, Norte}}}}      |{110001, Porto Velho, {1101, Porto Velho, {11, RO, Rondônia, {1, N, Norte}}}}|2025-07-23 23:12:11.297894|\n",
      "|1100114|Jaru                    |{11004, Ji-Paraná, {1102, Leste Rondoniense, {11, RO, Rondônia, {1, N, Norte}}}}        |{110003, Jaru, {1101, Porto Velho, {11, RO, Rondônia, {1, N, Norte}}}}       |2025-07-23 23:12:11.297894|\n",
      "|1100122|Ji-Paraná               |{11004, Ji-Paraná, {1102, Leste Rondoniense, {11, RO, Rondônia, {1, N, Norte}}}}        |{110004, Ji-Paraná, {1102, Ji-Paraná, {11, RO, Rondônia, {1, N, Norte}}}}    |2025-07-23 23:12:11.297894|\n",
      "|1100130|Machadinho D'Oeste      |{11003, Ariquemes, {1102, Leste Rondoniense, {11, RO, Rondônia, {1, N, Norte}}}}        |{110003, Jaru, {1101, Porto Velho, {11, RO, Rondônia, {1, N, Norte}}}}       |2025-07-23 23:12:11.297894|\n",
      "|1100148|Nova Brasilândia D'Oeste|{11005, Alvorada D'Oeste, {1102, Leste Rondoniense, {11, RO, Rondônia, {1, N, Norte}}}} |{110005, Cacoal, {1102, Ji-Paraná, {11, RO, Rondônia, {1, N, Norte}}}}       |2025-07-23 23:12:11.297894|\n",
      "|1100155|Ouro Preto do Oeste     |{11004, Ji-Paraná, {1102, Leste Rondoniense, {11, RO, Rondônia, {1, N, Norte}}}}        |{110004, Ji-Paraná, {1102, Ji-Paraná, {11, RO, Rondônia, {1, N, Norte}}}}    |2025-07-23 23:12:11.297894|\n",
      "|1100189|Pimenta Bueno           |{11007, Vilhena, {1102, Leste Rondoniense, {11, RO, Rondônia, {1, N, Norte}}}}          |{110005, Cacoal, {1102, Ji-Paraná, {11, RO, Rondônia, {1, N, Norte}}}}       |2025-07-23 23:12:11.297894|\n",
      "|1100205|Porto Velho             |{11001, Porto Velho, {1101, Madeira-Guaporé, {11, RO, Rondônia, {1, N, Norte}}}}        |{110001, Porto Velho, {1101, Porto Velho, {11, RO, Rondônia, {1, N, Norte}}}}|2025-07-23 23:12:11.297894|\n",
      "|1100254|Presidente Médici       |{11004, Ji-Paraná, {1102, Leste Rondoniense, {11, RO, Rondônia, {1, N, Norte}}}}        |{110004, Ji-Paraná, {1102, Ji-Paraná, {11, RO, Rondônia, {1, N, Norte}}}}    |2025-07-23 23:12:11.297894|\n",
      "|1100262|Rio Crespo              |{11003, Ariquemes, {1102, Leste Rondoniense, {11, RO, Rondônia, {1, N, Norte}}}}        |{110002, Ariquemes, {1101, Porto Velho, {11, RO, Rondônia, {1, N, Norte}}}}  |2025-07-23 23:12:11.297894|\n",
      "|1100288|Rolim de Moura          |{11006, Cacoal, {1102, Leste Rondoniense, {11, RO, Rondônia, {1, N, Norte}}}}           |{110005, Cacoal, {1102, Ji-Paraná, {11, RO, Rondônia, {1, N, Norte}}}}       |2025-07-23 23:12:11.297894|\n",
      "+-------+------------------------+----------------------------------------------------------------------------------------+-----------------------------------------------------------------------------+--------------------------+\n",
      "only showing top 20 rows\n"
     ]
    },
    {
     "name": "stderr",
     "output_type": "stream",
     "text": [
      "                                                                                \r"
     ]
    }
   ],
   "source": [
    "try:\n",
    "    # Tenta criar um objeto DeltaTable apontando para o caminho Delta na camada RAW\n",
    "    deltaTable_municipios_ibge_raw: DeltaTable = DeltaTable.forPath(spark, \"../RAW/municipios_ibge\")\n",
    "\n",
    "    # Converte o DeltaTable para DataFrame para manipulação e análise\n",
    "    df_municipios_ibge_raw: DataFrame = deltaTable_municipios_ibge_raw.toDF()\n",
    "\n",
    "    # Exibe os dados carregados, sem truncar as colunas para melhor visualização\n",
    "    # Além do schema\n",
    "    df_municipios_ibge_raw.printSchema()\n",
    "    df_municipios_ibge_raw.show(truncate=False)\n",
    "\n",
    "# Captura e exibe qualquer erro ocorrido durante a leitura do DeltaTable\n",
    "except Exception as e:\n",
    "    print(f\"[ERRO] Falha na leitura do DeltaTable: {e}\")\n",
    "    raise"
   ]
  },
  {
   "cell_type": "markdown",
   "id": "f11657ba",
   "metadata": {},
   "source": [
    "## RAW - Dados CNAE"
   ]
  },
  {
   "cell_type": "code",
   "execution_count": 6,
   "id": "21c01330",
   "metadata": {},
   "outputs": [],
   "source": [
    "# Caminho para o CSV na camada LND\n",
    "path_csv_cnae: str = \"../LND/cnaes/2025-06/Cnaes_2025-07-23_205727.csv\""
   ]
  },
  {
   "cell_type": "code",
   "execution_count": 7,
   "id": "7a821c31",
   "metadata": {},
   "outputs": [],
   "source": [
    "# Schema esperado para o arquivo CNAE\n",
    "schema_cnae: StructType = StructType([\n",
    "    StructField(\"codigo_cnae\", StringType(), True),\n",
    "    StructField(\"descricao_cnae\", StringType(), True)\n",
    "])"
   ]
  },
  {
   "cell_type": "code",
   "execution_count": 8,
   "id": "fa37d9e9",
   "metadata": {},
   "outputs": [
    {
     "name": "stdout",
     "output_type": "stream",
     "text": [
      "+-----------+-----------------------------------------------------------------------------------+\n",
      "|codigo_cnae|descricao_cnae                                                                     |\n",
      "+-----------+-----------------------------------------------------------------------------------+\n",
      "|0111301    |Cultivo de arroz                                                                   |\n",
      "|0111302    |Cultivo de milho                                                                   |\n",
      "|0111303    |Cultivo de trigo                                                                   |\n",
      "|0111399    |Cultivo de outros cereais não especificados anteriormente                          |\n",
      "|0112101    |Cultivo de algodão herbáceo                                                        |\n",
      "|0112102    |Cultivo de juta                                                                    |\n",
      "|0112199    |Cultivo de outras fibras de lavoura temporária não especificadas anteriormente     |\n",
      "|0113000    |Cultivo de cana-de-açúcar                                                          |\n",
      "|0114800    |Cultivo de fumo                                                                    |\n",
      "|0115600    |Cultivo de soja                                                                    |\n",
      "|0116401    |Cultivo de amendoim                                                                |\n",
      "|0116402    |Cultivo de girassol                                                                |\n",
      "|0116403    |Cultivo de mamona                                                                  |\n",
      "|0116499    |Cultivo de outras oleaginosas de lavoura temporária não especificadas anteriormente|\n",
      "|0119901    |Cultivo de abacaxi                                                                 |\n",
      "|0119902    |Cultivo de alho                                                                    |\n",
      "|0119903    |Cultivo de batata-inglesa                                                          |\n",
      "|0119904    |Cultivo de cebola                                                                  |\n",
      "|0119905    |Cultivo de feijão                                                                  |\n",
      "|0119906    |Cultivo de mandioca                                                                |\n",
      "+-----------+-----------------------------------------------------------------------------------+\n",
      "only showing top 20 rows\n"
     ]
    }
   ],
   "source": [
    "# Leitura do arquivo CSV com o schema definido\n",
    "df_cnae = ler_csv(path_csv_cnae, \"ISO-8859-1\", schema_cnae)\n",
    "\n",
    "# Visualizar os dados carregados\n",
    "df_cnae.show(truncate=False)"
   ]
  },
  {
   "cell_type": "code",
   "execution_count": 9,
   "id": "dd949b49-c093-4b7d-88dd-d433fd8fb697",
   "metadata": {},
   "outputs": [
    {
     "name": "stdout",
     "output_type": "stream",
     "text": [
      "+-----------+-----------------------------------------------------------------------------------+--------------------------+\n",
      "|codigo_cnae|descricao_cnae                                                                     |data_ingestao             |\n",
      "+-----------+-----------------------------------------------------------------------------------+--------------------------+\n",
      "|0111301    |Cultivo de arroz                                                                   |2025-07-24 09:49:42.714784|\n",
      "|0111302    |Cultivo de milho                                                                   |2025-07-24 09:49:42.714784|\n",
      "|0111303    |Cultivo de trigo                                                                   |2025-07-24 09:49:42.714784|\n",
      "|0111399    |Cultivo de outros cereais não especificados anteriormente                          |2025-07-24 09:49:42.714784|\n",
      "|0112101    |Cultivo de algodão herbáceo                                                        |2025-07-24 09:49:42.714784|\n",
      "|0112102    |Cultivo de juta                                                                    |2025-07-24 09:49:42.714784|\n",
      "|0112199    |Cultivo de outras fibras de lavoura temporária não especificadas anteriormente     |2025-07-24 09:49:42.714784|\n",
      "|0113000    |Cultivo de cana-de-açúcar                                                          |2025-07-24 09:49:42.714784|\n",
      "|0114800    |Cultivo de fumo                                                                    |2025-07-24 09:49:42.714784|\n",
      "|0115600    |Cultivo de soja                                                                    |2025-07-24 09:49:42.714784|\n",
      "|0116401    |Cultivo de amendoim                                                                |2025-07-24 09:49:42.714784|\n",
      "|0116402    |Cultivo de girassol                                                                |2025-07-24 09:49:42.714784|\n",
      "|0116403    |Cultivo de mamona                                                                  |2025-07-24 09:49:42.714784|\n",
      "|0116499    |Cultivo de outras oleaginosas de lavoura temporária não especificadas anteriormente|2025-07-24 09:49:42.714784|\n",
      "|0119901    |Cultivo de abacaxi                                                                 |2025-07-24 09:49:42.714784|\n",
      "|0119902    |Cultivo de alho                                                                    |2025-07-24 09:49:42.714784|\n",
      "|0119903    |Cultivo de batata-inglesa                                                          |2025-07-24 09:49:42.714784|\n",
      "|0119904    |Cultivo de cebola                                                                  |2025-07-24 09:49:42.714784|\n",
      "|0119905    |Cultivo de feijão                                                                  |2025-07-24 09:49:42.714784|\n",
      "|0119906    |Cultivo de mandioca                                                                |2025-07-24 09:49:42.714784|\n",
      "+-----------+-----------------------------------------------------------------------------------+--------------------------+\n",
      "only showing top 20 rows\n"
     ]
    }
   ],
   "source": [
    "df_cnae = df_cnae.withColumn(\n",
    "    \"data_ingestao\",\n",
    "    f.current_timestamp()\n",
    ")\n",
    "\n",
    "df_cnae.show(truncate=False)"
   ]
  },
  {
   "cell_type": "code",
   "execution_count": 10,
   "id": "6e5a3a4b",
   "metadata": {},
   "outputs": [
    {
     "name": "stdout",
     "output_type": "stream",
     "text": [
      "Gravação efetuada!\n"
     ]
    },
    {
     "data": {
      "text/plain": [
       "DataFrame[codigo_cnae: string, descricao_cnae: string, data_ingestao: timestamp]"
      ]
     },
     "execution_count": 10,
     "metadata": {},
     "output_type": "execute_result"
    }
   ],
   "source": [
    "# Escrita no formato Delta na camada RAW\n",
    "\n",
    "gravar_delta(df_cnae, \"../RAW/cnae\")"
   ]
  },
  {
   "cell_type": "code",
   "execution_count": 11,
   "id": "c6c76c78",
   "metadata": {},
   "outputs": [
    {
     "name": "stdout",
     "output_type": "stream",
     "text": [
      "root\n",
      " |-- codigo_cnae: string (nullable = true)\n",
      " |-- descricao_cnae: string (nullable = true)\n",
      " |-- data_ingestao: timestamp (nullable = true)\n",
      "\n",
      "+-----------+-----------------------------------------------------------------------------------+--------------------------+\n",
      "|codigo_cnae|descricao_cnae                                                                     |data_ingestao             |\n",
      "+-----------+-----------------------------------------------------------------------------------+--------------------------+\n",
      "|0111301    |Cultivo de arroz                                                                   |2025-07-24 09:49:47.363057|\n",
      "|0111302    |Cultivo de milho                                                                   |2025-07-24 09:49:47.363057|\n",
      "|0111303    |Cultivo de trigo                                                                   |2025-07-24 09:49:47.363057|\n",
      "|0111399    |Cultivo de outros cereais não especificados anteriormente                          |2025-07-24 09:49:47.363057|\n",
      "|0112101    |Cultivo de algodão herbáceo                                                        |2025-07-24 09:49:47.363057|\n",
      "|0112102    |Cultivo de juta                                                                    |2025-07-24 09:49:47.363057|\n",
      "|0112199    |Cultivo de outras fibras de lavoura temporária não especificadas anteriormente     |2025-07-24 09:49:47.363057|\n",
      "|0113000    |Cultivo de cana-de-açúcar                                                          |2025-07-24 09:49:47.363057|\n",
      "|0114800    |Cultivo de fumo                                                                    |2025-07-24 09:49:47.363057|\n",
      "|0115600    |Cultivo de soja                                                                    |2025-07-24 09:49:47.363057|\n",
      "|0116401    |Cultivo de amendoim                                                                |2025-07-24 09:49:47.363057|\n",
      "|0116402    |Cultivo de girassol                                                                |2025-07-24 09:49:47.363057|\n",
      "|0116403    |Cultivo de mamona                                                                  |2025-07-24 09:49:47.363057|\n",
      "|0116499    |Cultivo de outras oleaginosas de lavoura temporária não especificadas anteriormente|2025-07-24 09:49:47.363057|\n",
      "|0119901    |Cultivo de abacaxi                                                                 |2025-07-24 09:49:47.363057|\n",
      "|0119902    |Cultivo de alho                                                                    |2025-07-24 09:49:47.363057|\n",
      "|0119903    |Cultivo de batata-inglesa                                                          |2025-07-24 09:49:47.363057|\n",
      "|0119904    |Cultivo de cebola                                                                  |2025-07-24 09:49:47.363057|\n",
      "|0119905    |Cultivo de feijão                                                                  |2025-07-24 09:49:47.363057|\n",
      "|0119906    |Cultivo de mandioca                                                                |2025-07-24 09:49:47.363057|\n",
      "+-----------+-----------------------------------------------------------------------------------+--------------------------+\n",
      "only showing top 20 rows\n"
     ]
    }
   ],
   "source": [
    "# Leitura da Delta Table salva para validação\n",
    "try:\n",
    "    # Tenta criar um objeto DeltaTable apontando para o caminho Delta na camada RAW\n",
    "    deltaTable_cnae_raw: DeltaTable = DeltaTable.forPath(spark, \"../RAW/cnae\")\n",
    "\n",
    "    # Converte o DeltaTable para DataFrame para manipulação e análise\n",
    "    df_cnae_raw: DataFrame = deltaTable_cnae_raw.toDF()\n",
    "\n",
    "    # Exibe os dados carregados, sem truncar as colunas para melhor visualização\n",
    "    # Além do schema\n",
    "    df_cnae_raw.printSchema()\n",
    "    df_cnae_raw.show(truncate=False)\n",
    "\n",
    "# Captura e exibe qualquer erro ocorrido durante a leitura do DeltaTable\n",
    "except Exception as e:\n",
    "    print(f\"[ERRO] Falha na leitura do DeltaTable: {e}\")\n",
    "    raise"
   ]
  },
  {
   "cell_type": "markdown",
   "id": "9d47b76b",
   "metadata": {},
   "source": [
    "## RAW - Natureza Jurídica"
   ]
  },
  {
   "cell_type": "code",
   "execution_count": 16,
   "id": "7a546992",
   "metadata": {},
   "outputs": [],
   "source": [
    "# Caminho para o arquivo CSV da natureza jurídica\n",
    "path_csv_natureza_juridica: str = \"../LND/naturezas/2025-06/Naturezas_2025-07-23_211057.csv\""
   ]
  },
  {
   "cell_type": "code",
   "execution_count": 17,
   "id": "7923e362",
   "metadata": {},
   "outputs": [],
   "source": [
    "# Definição do schema para o CSV de natureza jurídica\n",
    "schema_natureza_juridica: StructType = StructType([\n",
    "    StructField(\"codigo_natureza_juridica\", StringType(), True),\n",
    "    StructField(\"natureza_juridica\", StringType(), True),\n",
    "])"
   ]
  },
  {
   "cell_type": "code",
   "execution_count": null,
   "id": "73f3ac6e",
   "metadata": {},
   "outputs": [],
   "source": [
    "# Leitura do arquivo CSV com o schema definido\n",
    "df_natureza_juridica: DataFrame = ler_csv(path_csv_natureza_juridica, \"iso-8859-1\", schema_natureza_juridica)"
   ]
  },
  {
   "cell_type": "code",
   "execution_count": 20,
   "id": "2b2a1913",
   "metadata": {},
   "outputs": [
    {
     "name": "stdout",
     "output_type": "stream",
     "text": [
      "+------------------------+------------------------------------------------------------------+\n",
      "|codigo_natureza_juridica|natureza_juridica                                                 |\n",
      "+------------------------+------------------------------------------------------------------+\n",
      "|0000                    |Natureza Jurídica não informada                                   |\n",
      "|3271                    |Órgão de Direção Local de Partido Político                        |\n",
      "|3280                    |Comitê Financeiro de Partido Político                             |\n",
      "|3298                    |Frente Plebiscitária ou Referendária                              |\n",
      "|3301                    |Organização Social (OS)                                           |\n",
      "|3999                    |Associação Privada                                                |\n",
      "|4014                    |Empresa Individual Imobiliária                                    |\n",
      "|4090                    |Candidato a Cargo Político Eletivo                                |\n",
      "|4120                    |Produtor Rural (Pessoa Física)                                    |\n",
      "|5010                    |Organização Internacional                                         |\n",
      "|5029                    |Representação Diplomática Estrangeira                             |\n",
      "|1015                    |Órgão Público do Poder Executivo Federal                          |\n",
      "|1023                    |Órgão Público do Poder Executivo Estadual ou do Distrito Federal  |\n",
      "|1031                    |Órgão Público do Poder Executivo Municipal                        |\n",
      "|1040                    |Órgão Público do Poder Legislativo Federal                        |\n",
      "|1058                    |Órgão Público do Poder Legislativo Estadual ou do Distrito Federal|\n",
      "|1066                    |Órgão Público do Poder Legislativo Municipal                      |\n",
      "|1074                    |Órgão Público do Poder Judiciário Federal                         |\n",
      "|1082                    |Órgão Público do Poder Judiciário Estadual                        |\n",
      "|1104                    |Autarquia Federal                                                 |\n",
      "+------------------------+------------------------------------------------------------------+\n",
      "only showing top 20 rows\n"
     ]
    }
   ],
   "source": [
    "# Visualização inicial dos dados\n",
    "df_natureza_juridica.show(truncate=False)"
   ]
  },
  {
   "cell_type": "code",
   "execution_count": 21,
   "id": "c2a61cdc",
   "metadata": {},
   "outputs": [
    {
     "name": "stdout",
     "output_type": "stream",
     "text": [
      "+------------------------+------------------------------------------------------------------+--------------------------+\n",
      "|codigo_natureza_juridica|natureza_juridica                                                 |data_ingestao             |\n",
      "+------------------------+------------------------------------------------------------------+--------------------------+\n",
      "|0000                    |Natureza Jurídica não informada                                   |2025-07-24 09:52:53.578933|\n",
      "|3271                    |Órgão de Direção Local de Partido Político                        |2025-07-24 09:52:53.578933|\n",
      "|3280                    |Comitê Financeiro de Partido Político                             |2025-07-24 09:52:53.578933|\n",
      "|3298                    |Frente Plebiscitária ou Referendária                              |2025-07-24 09:52:53.578933|\n",
      "|3301                    |Organização Social (OS)                                           |2025-07-24 09:52:53.578933|\n",
      "|3999                    |Associação Privada                                                |2025-07-24 09:52:53.578933|\n",
      "|4014                    |Empresa Individual Imobiliária                                    |2025-07-24 09:52:53.578933|\n",
      "|4090                    |Candidato a Cargo Político Eletivo                                |2025-07-24 09:52:53.578933|\n",
      "|4120                    |Produtor Rural (Pessoa Física)                                    |2025-07-24 09:52:53.578933|\n",
      "|5010                    |Organização Internacional                                         |2025-07-24 09:52:53.578933|\n",
      "|5029                    |Representação Diplomática Estrangeira                             |2025-07-24 09:52:53.578933|\n",
      "|1015                    |Órgão Público do Poder Executivo Federal                          |2025-07-24 09:52:53.578933|\n",
      "|1023                    |Órgão Público do Poder Executivo Estadual ou do Distrito Federal  |2025-07-24 09:52:53.578933|\n",
      "|1031                    |Órgão Público do Poder Executivo Municipal                        |2025-07-24 09:52:53.578933|\n",
      "|1040                    |Órgão Público do Poder Legislativo Federal                        |2025-07-24 09:52:53.578933|\n",
      "|1058                    |Órgão Público do Poder Legislativo Estadual ou do Distrito Federal|2025-07-24 09:52:53.578933|\n",
      "|1066                    |Órgão Público do Poder Legislativo Municipal                      |2025-07-24 09:52:53.578933|\n",
      "|1074                    |Órgão Público do Poder Judiciário Federal                         |2025-07-24 09:52:53.578933|\n",
      "|1082                    |Órgão Público do Poder Judiciário Estadual                        |2025-07-24 09:52:53.578933|\n",
      "|1104                    |Autarquia Federal                                                 |2025-07-24 09:52:53.578933|\n",
      "+------------------------+------------------------------------------------------------------+--------------------------+\n",
      "only showing top 20 rows\n"
     ]
    }
   ],
   "source": [
    "df_natureza_juridica = df_natureza_juridica.withColumn(\n",
    "    \"data_ingestao\",\n",
    "    f.current_timestamp()\n",
    ")\n",
    "\n",
    "df_natureza_juridica.show(truncate=False)"
   ]
  },
  {
   "cell_type": "code",
   "execution_count": 22,
   "id": "b35a7efb",
   "metadata": {},
   "outputs": [
    {
     "name": "stdout",
     "output_type": "stream",
     "text": [
      "Gravação efetuada!\n"
     ]
    }
   ],
   "source": [
    "# Escrita dos dados no formato Delta, particionando por código\n",
    "try:\n",
    "    gravar_delta(df_natureza_juridica, \"../RAW/natureza_juridica\")\n",
    "except Exception as e:\n",
    "    print(f\"[ERRO] Falha na gravação do DeltaTable\")\n",
    "    raise"
   ]
  },
  {
   "cell_type": "code",
   "execution_count": 23,
   "id": "1570a369",
   "metadata": {},
   "outputs": [
    {
     "name": "stdout",
     "output_type": "stream",
     "text": [
      "root\n",
      " |-- codigo_natureza_juridica: string (nullable = true)\n",
      " |-- natureza_juridica: string (nullable = true)\n",
      " |-- data_ingestao: timestamp (nullable = true)\n",
      "\n",
      "+------------------------+------------------------------------------------------------------+--------------------------+\n",
      "|codigo_natureza_juridica|natureza_juridica                                                 |data_ingestao             |\n",
      "+------------------------+------------------------------------------------------------------+--------------------------+\n",
      "|0000                    |Natureza Jurídica não informada                                   |2025-07-24 09:53:45.817935|\n",
      "|3271                    |Órgão de Direção Local de Partido Político                        |2025-07-24 09:53:45.817935|\n",
      "|3280                    |Comitê Financeiro de Partido Político                             |2025-07-24 09:53:45.817935|\n",
      "|3298                    |Frente Plebiscitária ou Referendária                              |2025-07-24 09:53:45.817935|\n",
      "|3301                    |Organização Social (OS)                                           |2025-07-24 09:53:45.817935|\n",
      "|3999                    |Associação Privada                                                |2025-07-24 09:53:45.817935|\n",
      "|4014                    |Empresa Individual Imobiliária                                    |2025-07-24 09:53:45.817935|\n",
      "|4090                    |Candidato a Cargo Político Eletivo                                |2025-07-24 09:53:45.817935|\n",
      "|4120                    |Produtor Rural (Pessoa Física)                                    |2025-07-24 09:53:45.817935|\n",
      "|5010                    |Organização Internacional                                         |2025-07-24 09:53:45.817935|\n",
      "|5029                    |Representação Diplomática Estrangeira                             |2025-07-24 09:53:45.817935|\n",
      "|1015                    |Órgão Público do Poder Executivo Federal                          |2025-07-24 09:53:45.817935|\n",
      "|1023                    |Órgão Público do Poder Executivo Estadual ou do Distrito Federal  |2025-07-24 09:53:45.817935|\n",
      "|1031                    |Órgão Público do Poder Executivo Municipal                        |2025-07-24 09:53:45.817935|\n",
      "|1040                    |Órgão Público do Poder Legislativo Federal                        |2025-07-24 09:53:45.817935|\n",
      "|1058                    |Órgão Público do Poder Legislativo Estadual ou do Distrito Federal|2025-07-24 09:53:45.817935|\n",
      "|1066                    |Órgão Público do Poder Legislativo Municipal                      |2025-07-24 09:53:45.817935|\n",
      "|1074                    |Órgão Público do Poder Judiciário Federal                         |2025-07-24 09:53:45.817935|\n",
      "|1082                    |Órgão Público do Poder Judiciário Estadual                        |2025-07-24 09:53:45.817935|\n",
      "|1104                    |Autarquia Federal                                                 |2025-07-24 09:53:45.817935|\n",
      "+------------------------+------------------------------------------------------------------+--------------------------+\n",
      "only showing top 20 rows\n"
     ]
    }
   ],
   "source": [
    "# Leitura da tabela Delta para validação\n",
    "try:\n",
    "    deltaTable_nj = DeltaTable.forPath(spark, \"../RAW/natureza_juridica\")\n",
    "    df_natureza_juridica: DataFrame = deltaTable_nj.toDF()\n",
    "    df_natureza_juridica.printSchema()\n",
    "    df_natureza_juridica.show(truncate=False)\n",
    "except Exception as e:\n",
    "    print(f\"[ERRO] Falha na leitura do DeltaTable: {e}\")\n",
    "    raise"
   ]
  },
  {
   "cell_type": "markdown",
   "id": "23a9456c",
   "metadata": {},
   "source": [
    "## RAW - Empresas"
   ]
  },
  {
   "cell_type": "code",
   "execution_count": 24,
   "id": "0dbb8816",
   "metadata": {},
   "outputs": [],
   "source": [
    "# Caminho do arquivo CSV\n",
    "path_csv_empresas: str = \"../LND/empresas/2025-06/Empresas1_2025-07-23_205727.csv\""
   ]
  },
  {
   "cell_type": "code",
   "execution_count": 25,
   "id": "565ef337",
   "metadata": {},
   "outputs": [],
   "source": [
    "# Definição do schema para o CSV de empresas\n",
    "schema_empresas: StructType = StructType([\n",
    "    StructField(\"cnpj_basico\", StringType(), True),\n",
    "    StructField(\"razao_social\", StringType(), True),\n",
    "    StructField(\"codigo_natureza_juridica\", StringType(), True),\n",
    "    StructField(\"codigo_qualificacao_responsavel\", StringType(), True),\n",
    "    StructField(\"capital_social\", StringType(), True),\n",
    "    StructField(\"codigo_porte_empresa\", StringType(), True),\n",
    "    StructField(\"ente_federativo_responsavel\", StringType(), True)\n",
    "])"
   ]
  },
  {
   "cell_type": "code",
   "execution_count": 26,
   "id": "9715a892",
   "metadata": {},
   "outputs": [],
   "source": [
    "# Leitura do arquivo CSV\n",
    "df_empresas: DataFrame = ler_csv(path_csv_empresas, \"iso-8859-1\", schema_empresas)"
   ]
  },
  {
   "cell_type": "code",
   "execution_count": 27,
   "id": "c9eab373",
   "metadata": {},
   "outputs": [
    {
     "name": "stdout",
     "output_type": "stream",
     "text": [
      "+-----------+------------------------------------------------------+------------------------+-------------------------------+---------------+--------------------+---------------------------+\n",
      "|cnpj_basico|razao_social                                          |codigo_natureza_juridica|codigo_qualificacao_responsavel|capital_social |codigo_porte_empresa|ente_federativo_responsavel|\n",
      "+-----------+------------------------------------------------------+------------------------+-------------------------------+---------------+--------------------+---------------------------+\n",
      "|00000000   |BANCO DO BRASIL SA                                    |2038                    |10                             |120000000000,00|05                  |NULL                       |\n",
      "|00000001   |ASSOCIACAO DE AMIGOS DE BAIRRO DO CONJ PAULISTANO     |3999                    |16                             |0,00           |05                  |NULL                       |\n",
      "|00000002   |WM&R EMPREITEIRA DE CONSTRUCAO CIVIL LIMITADA         |2240                    |49                             |0,00           |05                  |NULL                       |\n",
      "|00000003   |CASA CARIDADE LUZETE ROBERTA DE MORAIS CONJ PAULISTANO|3999                    |16                             |0,00           |05                  |NULL                       |\n",
      "|00000004   |ASSOCIACAO DO PEQUENO ADOLECENTE DO CONJ PAULISTANO   |3999                    |16                             |0,00           |05                  |NULL                       |\n",
      "+-----------+------------------------------------------------------+------------------------+-------------------------------+---------------+--------------------+---------------------------+\n",
      "only showing top 5 rows\n"
     ]
    }
   ],
   "source": [
    "df_empresas.show(5, truncate=False)"
   ]
  },
  {
   "cell_type": "code",
   "execution_count": 28,
   "id": "8d33af74",
   "metadata": {},
   "outputs": [
    {
     "name": "stdout",
     "output_type": "stream",
     "text": [
      "+-----------+------------------------------------------------------------+------------------------+-------------------------------+---------------+--------------------+---------------------------+--------------------------+\n",
      "|cnpj_basico|razao_social                                                |codigo_natureza_juridica|codigo_qualificacao_responsavel|capital_social |codigo_porte_empresa|ente_federativo_responsavel|data_ingestao             |\n",
      "+-----------+------------------------------------------------------------+------------------------+-------------------------------+---------------+--------------------+---------------------------+--------------------------+\n",
      "|00000000   |BANCO DO BRASIL SA                                          |2038                    |10                             |120000000000,00|05                  |NULL                       |2025-07-24 09:59:25.653523|\n",
      "|00000001   |ASSOCIACAO DE AMIGOS DE BAIRRO DO CONJ PAULISTANO           |3999                    |16                             |0,00           |05                  |NULL                       |2025-07-24 09:59:25.653523|\n",
      "|00000002   |WM&R EMPREITEIRA DE CONSTRUCAO CIVIL LIMITADA               |2240                    |49                             |0,00           |05                  |NULL                       |2025-07-24 09:59:25.653523|\n",
      "|00000003   |CASA CARIDADE LUZETE ROBERTA DE MORAIS CONJ PAULISTANO      |3999                    |16                             |0,00           |05                  |NULL                       |2025-07-24 09:59:25.653523|\n",
      "|00000004   |ASSOCIACAO DO PEQUENO ADOLECENTE DO CONJ PAULISTANO         |3999                    |16                             |0,00           |05                  |NULL                       |2025-07-24 09:59:25.653523|\n",
      "|00000005   |SERRALHERIA PORTA DE ACO REAL S/C LTDA                      |2240                    |28                             |0,00           |05                  |NULL                       |2025-07-24 09:59:25.653523|\n",
      "|00000006   |ACADEMIA DE BALLET PAULA FIRETTI LTDA                       |2062                    |49                             |1000,00        |01                  |NULL                       |2025-07-24 09:59:25.653523|\n",
      "|00000007   |ADVOCACIA BERGANTIN E ASSOCIADOS                            |2240                    |49                             |0,00           |01                  |NULL                       |2025-07-24 09:59:25.653523|\n",
      "|00000008   |A.R. ZANOTI E SILVA S/C LTDA                                |2240                    |49                             |0,00           |01                  |NULL                       |2025-07-24 09:59:25.653523|\n",
      "|00000009   |SUWAN REPRESENTACOES LTDA                                   |2240                    |49                             |0,00           |01                  |NULL                       |2025-07-24 09:59:25.653523|\n",
      "|00000010   |ADUB SERVICOS GERAIS DE AUTOS LTDA                          |2240                    |28                             |0,00           |05                  |NULL                       |2025-07-24 09:59:25.653523|\n",
      "|00000011   |KAWANISHI MANUTENCAO ELETRICA INDUSTRIAL S/C LTDA           |2240                    |49                             |0,00           |01                  |NULL                       |2025-07-24 09:59:25.653523|\n",
      "|00000012   |APARTH ADMINISTRACAO S/C LTDA                               |2240                    |49                             |0,00           |05                  |NULL                       |2025-07-24 09:59:25.653523|\n",
      "|00000013   |SAMPAIO SERVICOS CONTABEIS LTDA                             |2240                    |49                             |0,00           |01                  |NULL                       |2025-07-24 09:59:25.653523|\n",
      "|00000014   |CLUBE DE MAES DA CASA VERDE ALTA E ADJACENCIAS              |3999                    |16                             |0,00           |05                  |NULL                       |2025-07-24 09:59:25.653523|\n",
      "|00000015   |DOS - INSTALACAO DE SISTEMAS DE AUDIO E VIDEO S/S LTDA      |2240                    |49                             |0,00           |01                  |NULL                       |2025-07-24 09:59:25.653523|\n",
      "|00000016   |MICRO-ARTE COMUNICACOES VISUAIS LTDA                        |2062                    |49                             |10000,00       |05                  |NULL                       |2025-07-24 09:59:25.653523|\n",
      "|00000017   |ASSOCIACAO VIVER EM CRISTO                                  |3999                    |16                             |0,00           |05                  |NULL                       |2025-07-24 09:59:25.653523|\n",
      "|00000018   |AUTOMAR AGROPECUARIA DO URUCUIA LIMITADA                    |2062                    |49                             |0,00           |05                  |NULL                       |2025-07-24 09:59:25.653523|\n",
      "|00000019   |DOCENA & DOCENA CONSULTORES EM INFORMATICA E ASSOCIADOS LTDA|2062                    |49                             |362,00         |05                  |NULL                       |2025-07-24 09:59:25.653523|\n",
      "+-----------+------------------------------------------------------------+------------------------+-------------------------------+---------------+--------------------+---------------------------+--------------------------+\n",
      "only showing top 20 rows\n"
     ]
    }
   ],
   "source": [
    "df_empresas = df_empresas.withColumn(\n",
    "    \"data_ingestao\",\n",
    "    f.current_timestamp()\n",
    ")\n",
    "\n",
    "df_empresas.show(truncate=False)"
   ]
  },
  {
   "cell_type": "code",
   "execution_count": 29,
   "id": "3f5728a1",
   "metadata": {},
   "outputs": [
    {
     "name": "stderr",
     "output_type": "stream",
     "text": [
      "25/07/24 09:59:28 WARN MemoryManager: Total allocation exceeds 95.00% (1,020,054,720 bytes) of heap memory\n",
      "Scaling row group sizes to 95.00% for 8 writers\n",
      "25/07/24 09:59:28 WARN MemoryManager: Total allocation exceeds 95.00% (1,020,054,720 bytes) of heap memory\n",
      "Scaling row group sizes to 84.44% for 9 writers\n",
      "25/07/24 09:59:28 WARN MemoryManager: Total allocation exceeds 95.00% (1,020,054,720 bytes) of heap memory\n",
      "Scaling row group sizes to 76.00% for 10 writers\n",
      "25/07/24 09:59:28 WARN MemoryManager: Total allocation exceeds 95.00% (1,020,054,720 bytes) of heap memory\n",
      "Scaling row group sizes to 69.09% for 11 writers\n",
      "25/07/24 09:59:28 WARN MemoryManager: Total allocation exceeds 95.00% (1,020,054,720 bytes) of heap memory\n",
      "Scaling row group sizes to 63.33% for 12 writers\n",
      "25/07/24 09:59:34 WARN MemoryManager: Total allocation exceeds 95.00% (1,020,054,720 bytes) of heap memory\n",
      "Scaling row group sizes to 69.09% for 11 writers\n",
      "25/07/24 09:59:34 WARN MemoryManager: Total allocation exceeds 95.00% (1,020,054,720 bytes) of heap memory\n",
      "Scaling row group sizes to 76.00% for 10 writers\n",
      "25/07/24 09:59:34 WARN MemoryManager: Total allocation exceeds 95.00% (1,020,054,720 bytes) of heap memory\n",
      "Scaling row group sizes to 84.44% for 9 writers\n",
      "25/07/24 09:59:34 WARN MemoryManager: Total allocation exceeds 95.00% (1,020,054,720 bytes) of heap memory\n",
      "Scaling row group sizes to 95.00% for 8 writers\n",
      "                                                                                \r"
     ]
    },
    {
     "name": "stdout",
     "output_type": "stream",
     "text": [
      "Gravação efetuada!\n"
     ]
    },
    {
     "data": {
      "text/plain": [
       "DataFrame[cnpj_basico: string, razao_social: string, codigo_natureza_juridica: string, codigo_qualificacao_responsavel: string, capital_social: string, codigo_porte_empresa: string, ente_federativo_responsavel: string, data_ingestao: timestamp]"
      ]
     },
     "execution_count": 29,
     "metadata": {},
     "output_type": "execute_result"
    }
   ],
   "source": [
    "#  Escrita no Delta Lake\n",
    "\n",
    "gravar_delta(df_empresas, \"../RAW/empresas\")"
   ]
  },
  {
   "cell_type": "code",
   "execution_count": 39,
   "id": "9ec913cc",
   "metadata": {},
   "outputs": [
    {
     "name": "stdout",
     "output_type": "stream",
     "text": [
      "root\n",
      " |-- cnpj_basico: string (nullable = true)\n",
      " |-- razao_social: string (nullable = true)\n",
      " |-- codigo_natureza_juridica: string (nullable = true)\n",
      " |-- codigo_qualificacao_responsavel: string (nullable = true)\n",
      " |-- capital_social: string (nullable = true)\n",
      " |-- codigo_porte_empresa: string (nullable = true)\n",
      " |-- ente_federativo_responsavel: string (nullable = true)\n",
      " |-- data_ingestao: timestamp (nullable = true)\n",
      "\n",
      "+-----------+------------------------------------------------------+------------------------+-------------------------------+---------------+--------------------+---------------------------+-------------------------+\n",
      "|cnpj_basico|razao_social                                          |codigo_natureza_juridica|codigo_qualificacao_responsavel|capital_social |codigo_porte_empresa|ente_federativo_responsavel|data_ingestao            |\n",
      "+-----------+------------------------------------------------------+------------------------+-------------------------------+---------------+--------------------+---------------------------+-------------------------+\n",
      "|00000000   |BANCO DO BRASIL SA                                    |2038                    |10                             |120000000000,00|05                  |NULL                       |2025-07-24 09:59:28.28794|\n",
      "|00000001   |ASSOCIACAO DE AMIGOS DE BAIRRO DO CONJ PAULISTANO     |3999                    |16                             |0,00           |05                  |NULL                       |2025-07-24 09:59:28.28794|\n",
      "|00000002   |WM&R EMPREITEIRA DE CONSTRUCAO CIVIL LIMITADA         |2240                    |49                             |0,00           |05                  |NULL                       |2025-07-24 09:59:28.28794|\n",
      "|00000003   |CASA CARIDADE LUZETE ROBERTA DE MORAIS CONJ PAULISTANO|3999                    |16                             |0,00           |05                  |NULL                       |2025-07-24 09:59:28.28794|\n",
      "|00000004   |ASSOCIACAO DO PEQUENO ADOLECENTE DO CONJ PAULISTANO   |3999                    |16                             |0,00           |05                  |NULL                       |2025-07-24 09:59:28.28794|\n",
      "+-----------+------------------------------------------------------+------------------------+-------------------------------+---------------+--------------------+---------------------------+-------------------------+\n",
      "only showing top 5 rows\n"
     ]
    }
   ],
   "source": [
    "try:\n",
    "    # Leitura e verificação da DeltaTable\n",
    "    deltaTable_empresas = DeltaTable.forPath(spark, \"../RAW/empresas\")\n",
    "    df_empresas: DataFrame = deltaTable_empresas.toDF()\n",
    "    df_empresas.printSchema()\n",
    "    df_empresas.show(5, truncate=False)\n",
    "except Exception as e:\n",
    "    print(f\"[ERRO] Falha na leitura da DeltaTable: {e}\")"
   ]
  },
  {
   "cell_type": "markdown",
   "id": "d01e2256",
   "metadata": {},
   "source": [
    "## RAW - Simples Nacional"
   ]
  },
  {
   "cell_type": "code",
   "execution_count": 31,
   "id": "73c71ae3",
   "metadata": {},
   "outputs": [],
   "source": [
    "# Caminho CSV\n",
    "path_csv_simples_nacional: str = '../LND/simples/2025-06/Simples_2025-07-23_212004.csv'"
   ]
  },
  {
   "cell_type": "code",
   "execution_count": 32,
   "id": "98bb212c",
   "metadata": {},
   "outputs": [],
   "source": [
    "# Schema do arquivo simples.csv\n",
    "schema_simples_nacional: StructType = StructType([\n",
    "    StructField(\"cnpj_basico\", StringType(), True),\n",
    "    StructField(\"opcao_simples\", StringType(), True),\n",
    "    StructField(\"data_opcao_simples\", StringType(), True),\n",
    "    StructField(\"data_exclusao_simples\", StringType(), True),\n",
    "    StructField(\"opcao_mei\", StringType(), True),\n",
    "    StructField(\"data_opcao_mei\", StringType(), True),\n",
    "    StructField(\"data_exclusao_mei\", StringType(), True),\n",
    "])"
   ]
  },
  {
   "cell_type": "code",
   "execution_count": 33,
   "id": "2ae465db",
   "metadata": {},
   "outputs": [],
   "source": [
    "# # Leitura do CSV\n",
    "\n",
    "df_simples_nacional = ler_csv(path_csv_simples_nacional, \"iso-8859-1\", schema_simples_nacional)"
   ]
  },
  {
   "cell_type": "code",
   "execution_count": 34,
   "id": "52ec8317",
   "metadata": {},
   "outputs": [
    {
     "name": "stdout",
     "output_type": "stream",
     "text": [
      "+-----------+-------------+------------------+---------------------+---------+--------------+-----------------+\n",
      "|cnpj_basico|opcao_simples|data_opcao_simples|data_exclusao_simples|opcao_mei|data_opcao_mei|data_exclusao_mei|\n",
      "+-----------+-------------+------------------+---------------------+---------+--------------+-----------------+\n",
      "|00000000   |N            |20070701          |20070701             |N        |20090701      |20090701         |\n",
      "|00000006   |N            |20180101          |20191231             |N        |00000000      |00000000         |\n",
      "|00000008   |N            |20140101          |20211231             |N        |00000000      |00000000         |\n",
      "|00000011   |S            |20070701          |00000000             |N        |00000000      |00000000         |\n",
      "|00000013   |N            |20090101          |20231231             |N        |00000000      |00000000         |\n",
      "+-----------+-------------+------------------+---------------------+---------+--------------+-----------------+\n",
      "only showing top 5 rows\n"
     ]
    }
   ],
   "source": [
    "df_simples_nacional.show(5, truncate=False)"
   ]
  },
  {
   "cell_type": "code",
   "execution_count": 35,
   "id": "0f1316e4",
   "metadata": {},
   "outputs": [
    {
     "name": "stdout",
     "output_type": "stream",
     "text": [
      "+-----------+-------------+------------------+---------------------+---------+--------------+-----------------+--------------------------+\n",
      "|cnpj_basico|opcao_simples|data_opcao_simples|data_exclusao_simples|opcao_mei|data_opcao_mei|data_exclusao_mei|data_ingestao             |\n",
      "+-----------+-------------+------------------+---------------------+---------+--------------+-----------------+--------------------------+\n",
      "|00000000   |N            |20070701          |20070701             |N        |20090701      |20090701         |2025-07-24 10:01:29.624701|\n",
      "|00000006   |N            |20180101          |20191231             |N        |00000000      |00000000         |2025-07-24 10:01:29.624701|\n",
      "|00000008   |N            |20140101          |20211231             |N        |00000000      |00000000         |2025-07-24 10:01:29.624701|\n",
      "|00000011   |S            |20070701          |00000000             |N        |00000000      |00000000         |2025-07-24 10:01:29.624701|\n",
      "|00000013   |N            |20090101          |20231231             |N        |00000000      |00000000         |2025-07-24 10:01:29.624701|\n",
      "|00000015   |N            |20070701          |20081231             |N        |00000000      |00000000         |2025-07-24 10:01:29.624701|\n",
      "|00000030   |N            |20150101          |20151231             |N        |00000000      |00000000         |2025-07-24 10:01:29.624701|\n",
      "|00000040   |S            |20070701          |00000000             |N        |00000000      |00000000         |2025-07-24 10:01:29.624701|\n",
      "|00000041   |N            |20070701          |20151103             |N        |00000000      |00000000         |2025-07-24 10:01:29.624701|\n",
      "|00000056   |N            |20120101          |20141203             |N        |00000000      |00000000         |2025-07-24 10:01:29.624701|\n",
      "|00000065   |N            |20070701          |20191231             |N        |00000000      |00000000         |2025-07-24 10:01:29.624701|\n",
      "|00000068   |N            |20150101          |20151231             |N        |00000000      |00000000         |2025-07-24 10:01:29.624701|\n",
      "|00000091   |N            |20070701          |20071231             |N        |00000000      |00000000         |2025-07-24 10:01:29.624701|\n",
      "|00000092   |N            |20070701          |20080523             |N        |00000000      |00000000         |2025-07-24 10:01:29.624701|\n",
      "|00000103   |S            |20070701          |00000000             |N        |00000000      |00000000         |2025-07-24 10:01:29.624701|\n",
      "|00000108   |S            |20150101          |00000000             |N        |00000000      |00000000         |2025-07-24 10:01:29.624701|\n",
      "|00000124   |N            |20070701          |20070701             |N        |00000000      |00000000         |2025-07-24 10:01:29.624701|\n",
      "|00000127   |N            |20070701          |20231231             |N        |00000000      |00000000         |2025-07-24 10:01:29.624701|\n",
      "|00000142   |N            |20110101          |20130701             |N        |00000000      |00000000         |2025-07-24 10:01:29.624701|\n",
      "|00000156   |S            |20150101          |00000000             |N        |00000000      |00000000         |2025-07-24 10:01:29.624701|\n",
      "+-----------+-------------+------------------+---------------------+---------+--------------+-----------------+--------------------------+\n",
      "only showing top 20 rows\n"
     ]
    }
   ],
   "source": [
    "df_simples_nacional = df_simples_nacional.withColumn(\n",
    "    \"data_ingestao\",\n",
    "    f.current_timestamp()\n",
    ")\n",
    "\n",
    "df_simples_nacional.show(truncate=False)"
   ]
  },
  {
   "cell_type": "code",
   "execution_count": 36,
   "id": "ba98f8bc",
   "metadata": {},
   "outputs": [
    {
     "name": "stderr",
     "output_type": "stream",
     "text": [
      "25/07/24 10:01:49 WARN MemoryManager: Total allocation exceeds 95.00% (1,020,054,720 bytes) of heap memory\n",
      "Scaling row group sizes to 95.00% for 8 writers\n",
      "25/07/24 10:01:49 WARN MemoryManager: Total allocation exceeds 95.00% (1,020,054,720 bytes) of heap memory\n",
      "Scaling row group sizes to 84.44% for 9 writers\n",
      "25/07/24 10:01:49 WARN MemoryManager: Total allocation exceeds 95.00% (1,020,054,720 bytes) of heap memory\n",
      "Scaling row group sizes to 76.00% for 10 writers\n",
      "25/07/24 10:01:49 WARN MemoryManager: Total allocation exceeds 95.00% (1,020,054,720 bytes) of heap memory\n",
      "Scaling row group sizes to 69.09% for 11 writers\n",
      "25/07/24 10:01:49 WARN MemoryManager: Total allocation exceeds 95.00% (1,020,054,720 bytes) of heap memory\n",
      "Scaling row group sizes to 63.33% for 12 writers\n",
      "25/07/24 10:02:28 WARN MemoryManager: Total allocation exceeds 95.00% (1,020,054,720 bytes) of heap memory\n",
      "Scaling row group sizes to 69.09% for 11 writers\n",
      "25/07/24 10:02:29 WARN MemoryManager: Total allocation exceeds 95.00% (1,020,054,720 bytes) of heap memory\n",
      "Scaling row group sizes to 63.33% for 12 writers\n",
      "25/07/24 10:02:29 WARN MemoryManager: Total allocation exceeds 95.00% (1,020,054,720 bytes) of heap memory\n",
      "Scaling row group sizes to 69.09% for 11 writers\n",
      "25/07/24 10:02:29 WARN MemoryManager: Total allocation exceeds 95.00% (1,020,054,720 bytes) of heap memory\n",
      "Scaling row group sizes to 63.33% for 12 writers\n",
      "25/07/24 10:02:30 WARN MemoryManager: Total allocation exceeds 95.00% (1,020,054,720 bytes) of heap memory\n",
      "Scaling row group sizes to 69.09% for 11 writers\n",
      "25/07/24 10:02:30 WARN MemoryManager: Total allocation exceeds 95.00% (1,020,054,720 bytes) of heap memory\n",
      "Scaling row group sizes to 76.00% for 10 writers\n",
      "25/07/24 10:02:30 WARN MemoryManager: Total allocation exceeds 95.00% (1,020,054,720 bytes) of heap memory\n",
      "Scaling row group sizes to 84.44% for 9 writers\n",
      "25/07/24 10:02:30 WARN MemoryManager: Total allocation exceeds 95.00% (1,020,054,720 bytes) of heap memory\n",
      "Scaling row group sizes to 95.00% for 8 writers\n",
      "25/07/24 10:02:30 WARN MemoryManager: Total allocation exceeds 95.00% (1,020,054,720 bytes) of heap memory\n",
      "Scaling row group sizes to 84.44% for 9 writers\n",
      "25/07/24 10:02:30 WARN MemoryManager: Total allocation exceeds 95.00% (1,020,054,720 bytes) of heap memory\n",
      "Scaling row group sizes to 76.00% for 10 writers\n",
      "25/07/24 10:02:30 WARN MemoryManager: Total allocation exceeds 95.00% (1,020,054,720 bytes) of heap memory\n",
      "Scaling row group sizes to 69.09% for 11 writers\n",
      "25/07/24 10:02:30 WARN MemoryManager: Total allocation exceeds 95.00% (1,020,054,720 bytes) of heap memory\n",
      "Scaling row group sizes to 63.33% for 12 writers\n",
      "25/07/24 10:02:31 WARN MemoryManager: Total allocation exceeds 95.00% (1,020,054,720 bytes) of heap memory\n",
      "Scaling row group sizes to 69.09% for 11 writers\n",
      "25/07/24 10:02:31 WARN MemoryManager: Total allocation exceeds 95.00% (1,020,054,720 bytes) of heap memory\n",
      "Scaling row group sizes to 63.33% for 12 writers\n",
      "25/07/24 10:02:31 WARN MemoryManager: Total allocation exceeds 95.00% (1,020,054,720 bytes) of heap memory\n",
      "Scaling row group sizes to 69.09% for 11 writers\n",
      "25/07/24 10:02:31 WARN MemoryManager: Total allocation exceeds 95.00% (1,020,054,720 bytes) of heap memory\n",
      "Scaling row group sizes to 76.00% for 10 writers\n",
      "25/07/24 10:02:31 WARN MemoryManager: Total allocation exceeds 95.00% (1,020,054,720 bytes) of heap memory\n",
      "Scaling row group sizes to 84.44% for 9 writers\n",
      "25/07/24 10:02:31 WARN MemoryManager: Total allocation exceeds 95.00% (1,020,054,720 bytes) of heap memory\n",
      "Scaling row group sizes to 76.00% for 10 writers\n",
      "25/07/24 10:02:31 WARN MemoryManager: Total allocation exceeds 95.00% (1,020,054,720 bytes) of heap memory\n",
      "Scaling row group sizes to 69.09% for 11 writers\n",
      "25/07/24 10:02:32 WARN MemoryManager: Total allocation exceeds 95.00% (1,020,054,720 bytes) of heap memory\n",
      "Scaling row group sizes to 76.00% for 10 writers\n",
      "25/07/24 10:02:33 WARN MemoryManager: Total allocation exceeds 95.00% (1,020,054,720 bytes) of heap memory\n",
      "Scaling row group sizes to 84.44% for 9 writers\n",
      "25/07/24 10:03:01 WARN MemoryManager: Total allocation exceeds 95.00% (1,020,054,720 bytes) of heap memory\n",
      "Scaling row group sizes to 95.00% for 8 writers\n",
      "                                                                                \r"
     ]
    },
    {
     "name": "stdout",
     "output_type": "stream",
     "text": [
      "Gravação efetuada!\n"
     ]
    },
    {
     "data": {
      "text/plain": [
       "DataFrame[cnpj_basico: string, opcao_simples: string, data_opcao_simples: string, data_exclusao_simples: string, opcao_mei: string, data_opcao_mei: string, data_exclusao_mei: string, data_ingestao: timestamp]"
      ]
     },
     "execution_count": 36,
     "metadata": {},
     "output_type": "execute_result"
    }
   ],
   "source": [
    "# Escrita na camada RAW em Delta Lake\n",
    "\n",
    "gravar_delta(df_simples_nacional, \"../RAW/simples_nacional\")"
   ]
  },
  {
   "cell_type": "code",
   "execution_count": 40,
   "id": "92d1f820",
   "metadata": {},
   "outputs": [
    {
     "name": "stdout",
     "output_type": "stream",
     "text": [
      "root\n",
      " |-- cnpj_basico: string (nullable = true)\n",
      " |-- opcao_simples: string (nullable = true)\n",
      " |-- data_opcao_simples: string (nullable = true)\n",
      " |-- data_exclusao_simples: string (nullable = true)\n",
      " |-- opcao_mei: string (nullable = true)\n",
      " |-- data_opcao_mei: string (nullable = true)\n",
      " |-- data_exclusao_mei: string (nullable = true)\n",
      " |-- data_ingestao: timestamp (nullable = true)\n",
      "\n",
      "+-----------+-------------+------------------+---------------------+---------+--------------+-----------------+--------------------------+\n",
      "|cnpj_basico|opcao_simples|data_opcao_simples|data_exclusao_simples|opcao_mei|data_opcao_mei|data_exclusao_mei|data_ingestao             |\n",
      "+-----------+-------------+------------------+---------------------+---------+--------------+-----------------+--------------------------+\n",
      "|47096018   |S            |20220711          |00000000             |S        |20220711      |00000000         |2025-07-24 10:01:48.825146|\n",
      "|47096019   |S            |20220711          |00000000             |S        |20220711      |00000000         |2025-07-24 10:01:48.825146|\n",
      "|47096020   |N            |20220711          |20250508             |N        |20220711      |20250508         |2025-07-24 10:01:48.825146|\n",
      "|47096021   |N            |20220711          |20240131             |N        |00000000      |00000000         |2025-07-24 10:01:48.825146|\n",
      "|47096022   |N            |20220711          |20230515             |N        |20220711      |20230515         |2025-07-24 10:01:48.825146|\n",
      "+-----------+-------------+------------------+---------------------+---------+--------------+-----------------+--------------------------+\n",
      "only showing top 5 rows\n"
     ]
    }
   ],
   "source": [
    "try:\n",
    "    deltaTable_simples: DeltaTable = DeltaTable.forPath(spark, \"../RAW/simples_nacional\")\n",
    "    df_simples_nacional: DataFrame = deltaTable_simples.toDF()\n",
    "    df_simples_nacional.printSchema()\n",
    "    df_simples_nacional.show(5, truncate=False)\n",
    "except Exception as e:\n",
    "    print(f\"[ERRO] Falha na leitura da DeltaTable: {e}\")"
   ]
  },
  {
   "cell_type": "markdown",
   "id": "8f4b089a",
   "metadata": {},
   "source": [
    "## RAW - Estabelecimentos"
   ]
  },
  {
   "cell_type": "code",
   "execution_count": 41,
   "id": "7e6548a8",
   "metadata": {},
   "outputs": [],
   "source": [
    "# Caminho do CSV\n",
    "path_csv_estabelecimentos: str = '../LND/estabelecimentos/2025-06/Estabelecimentos1_2025-07-23_205820.csv'"
   ]
  },
  {
   "cell_type": "code",
   "execution_count": 42,
   "id": "ffba1e87",
   "metadata": {},
   "outputs": [],
   "source": [
    "# Definição do Schema\n",
    "schema_estabelecimentos: StructType = StructType([\n",
    "    StructField(\"cnpj_base\", StringType(), True),\n",
    "    StructField(\"cnpj_ordem\", StringType(), True),\n",
    "    StructField(\"cnpj_dv\", StringType(), True),\n",
    "    StructField(\"matriz_filial\", StringType(), True),\n",
    "    StructField(\"nome_fantasia\", StringType(), True),\n",
    "    StructField(\"situacao_cadastral\", StringType(), True),\n",
    "    StructField(\"data_situacao_cadastral\", StringType(), True),\n",
    "    StructField(\"motivo_situacao_cadastral\", StringType(), True),\n",
    "    StructField(\"nome_cidade_exterior\", StringType(), True),\n",
    "    StructField(\"pais\", StringType(), True),\n",
    "    StructField(\"data_inicio_atividade\", StringType(), True),\n",
    "    StructField(\"cnae_fiscal\", StringType(), True),\n",
    "    StructField(\"cnae_fiscal_secundaria\", StringType(), True),\n",
    "    StructField(\"tipo_logradouro\", StringType(), True),\n",
    "    StructField(\"logradouro\", StringType(), True),\n",
    "    StructField(\"numero\", StringType(), True),\n",
    "    StructField(\"complemento\", StringType(), True),\n",
    "    StructField(\"bairro\", StringType(), True),\n",
    "    StructField(\"cep\", StringType(), True),\n",
    "    StructField(\"uf\", StringType(), True),\n",
    "    StructField(\"codigo_municipio\", StringType(), True),\n",
    "    StructField(\"ddd1\", StringType(), True),\n",
    "    StructField(\"telefone1\", StringType(), True),\n",
    "    StructField(\"ddd2\", StringType(), True),\n",
    "    StructField(\"telefone2\", StringType(), True),\n",
    "    StructField(\"ddd_fax\", StringType(), True),\n",
    "    StructField(\"fax\", StringType(), True),\n",
    "    StructField(\"email\", StringType(), True),\n",
    "    StructField(\"situacao_especial\", StringType(), True),\n",
    "    StructField(\"data_situacao_especial\", StringType(), True)\n",
    "])"
   ]
  },
  {
   "cell_type": "code",
   "execution_count": 43,
   "id": "dec2895f",
   "metadata": {},
   "outputs": [],
   "source": [
    "df_estabelecimentos: DataFrame = ler_csv(\n",
    "    path_csv_estabelecimentos, \n",
    "    \"iso-8859-1\",\n",
    "    schema_estabelecimentos\n",
    ")"
   ]
  },
  {
   "cell_type": "code",
   "execution_count": 44,
   "id": "89bf0e6a",
   "metadata": {},
   "outputs": [
    {
     "name": "stdout",
     "output_type": "stream",
     "text": [
      "+---------+----------+-------+-------------+--------------------+------------------+-----------------------+-------------------------+--------------------+----+---------------------+-----------+-----------------------------------------------------------------------+---------------+-------------------------------+------+---------------------------------+-------------------+--------+---+----------------+----+---------+----+---------+-------+--------+---------------------------+-----------------+----------------------+\n",
      "|cnpj_base|cnpj_ordem|cnpj_dv|matriz_filial|nome_fantasia       |situacao_cadastral|data_situacao_cadastral|motivo_situacao_cadastral|nome_cidade_exterior|pais|data_inicio_atividade|cnae_fiscal|cnae_fiscal_secundaria                                                 |tipo_logradouro|logradouro                     |numero|complemento                      |bairro             |cep     |uf |codigo_municipio|ddd1|telefone1|ddd2|telefone2|ddd_fax|fax     |email                      |situacao_especial|data_situacao_especial|\n",
      "+---------+----------+-------+-------------+--------------------+------------------+-----------------------+-------------------------+--------------------+----+---------------------+-----------+-----------------------------------------------------------------------+---------------+-------------------------------+------+---------------------------------+-------------------+--------+---+----------------+----+---------+----+---------+-------+--------+---------------------------+-----------------+----------------------+\n",
      "|07396865 |0001      |68     |1            |NULL                |08                |20170210               |01                       |NULL                |NULL|20050518             |1412602    |1411801                                                                |RUA            |TUCANEIRA                      |30    |NULL                             |DOS LAGOS          |89136000|SC |8297            |47  |33851125 |47  |33851125 |47     |33851125|NULL                       |NULL             |NULL                  |\n",
      "|64904295 |0018      |51     |2            |NULL                |08                |20161110               |01                       |NULL                |NULL|20050429             |4639701    |4637199                                                                |AVENIDA        |MENINO MARCELO                 |8551B |LOTE  2                   QUADRAF|SERRARIA           |57046000|AL |2785            |11  |36491000 |31  |33880436 |82     |33118379|CLAUDIO.GIGLIO@CAMIL.COM.BR|NULL             |NULL                  |\n",
      "|76016369 |0003      |16     |2            |NULL                |04                |20231113               |63                       |NULL                |NULL|19851212             |4632001    |NULL                                                                   |RUA            |DO COMERCIO                    |55    |SALA 7 GALERIA                   |CENTRO             |11010141|SP |7071            |NULL|NULL     |NULL|NULL     |NULL   |NULL    |NULL                       |NULL             |NULL                  |\n",
      "|52302726 |0001      |82     |1            |NULL                |04                |20210406               |63                       |NULL                |NULL|19830223             |4712100    |NULL                                                                   |RUA            |GREGORIO LUCHIARI              |496   |NULL                             |SAO VITO           |13472080|SP |6131            |NULL|NULL     |NULL|NULL     |NULL   |NULL    |NULL                       |NULL             |NULL                  |\n",
      "|07396923 |0001      |53     |1            |NULL                |08                |20140115               |01                       |NULL                |NULL|20050516             |4721102    |NULL                                                                   |RUA            |DA MOOCA                       |3336  |NULL                             |MOOCA              |03165000|SP |7107            |011 |69658088 |NULL|NULL     |NULL   |NULL    |NULL                       |NULL             |NULL                  |\n",
      "|03650261 |0001      |45     |1            |OTICA PERFEICAO     |04                |20190322               |63                       |NULL                |NULL|19991217             |4783101    |4783102                                                                |RUA            |PREFEITO JOAO ORESTES DE ARAUJO|541   |LOJA 03                          |CENTRO             |88495000|SC |8113            |048 |2423953  |NULL|NULL     |048    |2423953 |NULL                       |NULL             |NULL                  |\n",
      "|07396929 |0001      |20     |1            |NULL                |03                |20111107               |21                       |NULL                |NULL|20050504             |6201501    |6204000                                                                |RUA            |FLORIANO PEIXOTO,              |85    |NULL                             |SANTA PAULA        |09541350|SP |7077            |11  |32281722 |NULL|NULL     |11     |32281722|NULL                       |NULL             |NULL                  |\n",
      "|25040718 |0001      |32     |1            |COOCULTURA LTDA     |08                |20050523               |01                       |NULL                |NULL|19910823             |6424701    |NULL                                                                   |RUA            |ROSULINO FERREIRA GUIMA        |767   |NULL                             |CENTRO             |75902261|GO |9571            |NULL|NULL     |NULL|NULL     |NULL   |NULL    |NULL                       |NULL             |NULL                  |\n",
      "|07396936 |0001      |22     |1            |NULL                |08                |20051219               |01                       |NULL                |NULL|20050525             |4511102    |NULL                                                                   |AVENIDA        |DOM PEDRO II                   |1748  |NULL                             |CARLOS PRATES      |30710010|MG |4123            |NULL|NULL     |NULL|NULL     |NULL   |NULL    |NULL                       |NULL             |NULL                  |\n",
      "|07396943 |0001      |24     |1            |MEGA TELECOM        |08                |20170217               |01                       |NULL                |NULL|20050524             |4752100    |9512600                                                                |AVENIDA        |PARANA                         |465   |NULL                             |CENTRO             |83800000|PR |7679            |NULL|NULL     |NULL|NULL     |NULL   |NULL    |NULL                       |NULL             |NULL                  |\n",
      "|05596572 |0001      |07     |1            |SORVETERIA A DELICIA|08                |20050502               |01                       |NULL                |NULL|19790427             |8888888    |NULL                                                                   |RUA            |SAVINO BARREIRA                |696   |TERREO                           |CENTRO             |63475000|CE |1439            |NULL|NULL     |NULL|NULL     |NULL   |NULL    |NULL                       |NULL             |NULL                  |\n",
      "|79457842 |0001      |27     |1            |INDUSPAO            |04                |20181127               |63                       |NULL                |NULL|19860718             |4729699    |4761003,4721102                                                        |RUA            |DR. JOSE GUILHERME LOYOLA      |315   |      MORADIAS ITATIAIA          |CIC                |81250270|PR |7535            |41  |32460721 |NULL|NULL     |NULL   |NULL    |orelio@terra.com,br        |NULL             |NULL                  |\n",
      "|00591451 |0001      |40     |1            |QUIM-BASE           |02                |20051103               |00                       |NULL                |NULL|19950417             |4623109    |4618499                                                                |RUA            |CORIOLANO DURAND               |370   |SALA: 3;                         |VILA SANTA CATARINA|04375050|SP |7107            |11  |56415044 |NULL|NULL     |011    |56415044|UTILEX.LEGAL@BOL.COM.BR    |NULL             |NULL                  |\n",
      "|03738052 |0001      |58     |1            |NULL                |08                |20050511               |01                       |NULL                |NULL|20000406             |8630503    |8630501,8630502,8711501,8711503,8711504,8712300,8720401,8720499,8730199|PRACA          |DO DERBY                       |177   |NULL                             |DERBY              |52010140|PE |2531            |NULL|NULL     |NULL|NULL     |NULL   |NULL    |NULL                       |NULL             |NULL                  |\n",
      "|07396973 |0001      |30     |1            |NULL                |08                |20071031               |01                       |NULL                |NULL|20050511             |4712100    |NULL                                                                   |PRACA          |BOM JESUS                      |000162|NULL                             |CENTRO             |39526000|MG |0586            |NULL|NULL     |NULL|NULL     |NULL   |NULL    |NULL                       |NULL             |NULL                  |\n",
      "|35820448 |0127      |38     |2            |NULL                |08                |20050328               |01                       |NULL                |NULL|20010719             |8690999    |NULL                                                                   |AVENIDA        |MOACIR PALETA                  |274   |NULL                             |SAO PEDRO          |35020360|MG |4553            |NULL|NULL     |NULL|NULL     |NULL   |NULL    |NULL                       |NULL             |NULL                  |\n",
      "|07396980 |0001      |32     |1            |NULL                |02                |0                      |00                       |NULL                |NULL|20050520             |4530703    |NULL                                                                   |RUA            |JOSE ROSSI                     |1533  |FUNDOS                           |CENTRO             |14900000|SP |6555            |NULL|NULL     |NULL|NULL     |NULL   |NULL    |NULL                       |NULL             |NULL                  |\n",
      "|34448928 |0007      |40     |2            |FARMACIA CASSEB     |08                |20050419               |01                       |NULL                |NULL|19920609             |4771701    |NULL                                                                   |RUA            |METODIO COELHO                 |120   |LJ 01 LOT CIDADELA               |BROTAS             |40279120|BA |3849            |NULL|NULL     |NULL|NULL     |NULL   |NULL    |NULL                       |NULL             |NULL                  |\n",
      "|02519037 |0001      |56     |1            |NULL                |08                |20050510               |01                       |NULL                |NULL|19980519             |9430800    |9493600,9499500                                                        |NULL           |POVOADO BOM JARDIM             |SN    |NULL                             |ZONA RURAL         |65634065|MA |0937            |NULL|NULL     |NULL|NULL     |NULL   |NULL    |NULL                       |NULL             |NULL                  |\n",
      "|07396998 |0001      |34     |1            |PRO-IMPLANTES       |08                |20160310               |01                       |NULL                |NULL|20050518             |8630504    |NULL                                                                   |QUADRA         |SCN QUADRA 05 BLOCO A          |50    |SALA  1110                       |ASA NORTE          |70715900|DF |9701            |61  |33225577 |NULL|NULL     |NULL   |NULL    |NULL                       |NULL             |NULL                  |\n",
      "+---------+----------+-------+-------------+--------------------+------------------+-----------------------+-------------------------+--------------------+----+---------------------+-----------+-----------------------------------------------------------------------+---------------+-------------------------------+------+---------------------------------+-------------------+--------+---+----------------+----+---------+----+---------+-------+--------+---------------------------+-----------------+----------------------+\n",
      "only showing top 20 rows\n"
     ]
    }
   ],
   "source": [
    "df_estabelecimentos.show(truncate=False)"
   ]
  },
  {
   "cell_type": "code",
   "execution_count": 45,
   "id": "0190791b",
   "metadata": {},
   "outputs": [
    {
     "name": "stdout",
     "output_type": "stream",
     "text": [
      "+---------+----------+-------+-------------+--------------------+------------------+-----------------------+-------------------------+--------------------+----+---------------------+-----------+-----------------------------------------------------------------------+---------------+-------------------------------+------+---------------------------------+-------------------+--------+---+----------------+----+---------+----+---------+-------+--------+---------------------------+-----------------+----------------------+--------------------------+\n",
      "|cnpj_base|cnpj_ordem|cnpj_dv|matriz_filial|nome_fantasia       |situacao_cadastral|data_situacao_cadastral|motivo_situacao_cadastral|nome_cidade_exterior|pais|data_inicio_atividade|cnae_fiscal|cnae_fiscal_secundaria                                                 |tipo_logradouro|logradouro                     |numero|complemento                      |bairro             |cep     |uf |codigo_municipio|ddd1|telefone1|ddd2|telefone2|ddd_fax|fax     |email                      |situacao_especial|data_situacao_especial|data_ingestao             |\n",
      "+---------+----------+-------+-------------+--------------------+------------------+-----------------------+-------------------------+--------------------+----+---------------------+-----------+-----------------------------------------------------------------------+---------------+-------------------------------+------+---------------------------------+-------------------+--------+---+----------------+----+---------+----+---------+-------+--------+---------------------------+-----------------+----------------------+--------------------------+\n",
      "|07396865 |0001      |68     |1            |NULL                |08                |20170210               |01                       |NULL                |NULL|20050518             |1412602    |1411801                                                                |RUA            |TUCANEIRA                      |30    |NULL                             |DOS LAGOS          |89136000|SC |8297            |47  |33851125 |47  |33851125 |47     |33851125|NULL                       |NULL             |NULL                  |2025-07-24 10:10:57.082693|\n",
      "|64904295 |0018      |51     |2            |NULL                |08                |20161110               |01                       |NULL                |NULL|20050429             |4639701    |4637199                                                                |AVENIDA        |MENINO MARCELO                 |8551B |LOTE  2                   QUADRAF|SERRARIA           |57046000|AL |2785            |11  |36491000 |31  |33880436 |82     |33118379|CLAUDIO.GIGLIO@CAMIL.COM.BR|NULL             |NULL                  |2025-07-24 10:10:57.082693|\n",
      "|76016369 |0003      |16     |2            |NULL                |04                |20231113               |63                       |NULL                |NULL|19851212             |4632001    |NULL                                                                   |RUA            |DO COMERCIO                    |55    |SALA 7 GALERIA                   |CENTRO             |11010141|SP |7071            |NULL|NULL     |NULL|NULL     |NULL   |NULL    |NULL                       |NULL             |NULL                  |2025-07-24 10:10:57.082693|\n",
      "|52302726 |0001      |82     |1            |NULL                |04                |20210406               |63                       |NULL                |NULL|19830223             |4712100    |NULL                                                                   |RUA            |GREGORIO LUCHIARI              |496   |NULL                             |SAO VITO           |13472080|SP |6131            |NULL|NULL     |NULL|NULL     |NULL   |NULL    |NULL                       |NULL             |NULL                  |2025-07-24 10:10:57.082693|\n",
      "|07396923 |0001      |53     |1            |NULL                |08                |20140115               |01                       |NULL                |NULL|20050516             |4721102    |NULL                                                                   |RUA            |DA MOOCA                       |3336  |NULL                             |MOOCA              |03165000|SP |7107            |011 |69658088 |NULL|NULL     |NULL   |NULL    |NULL                       |NULL             |NULL                  |2025-07-24 10:10:57.082693|\n",
      "|03650261 |0001      |45     |1            |OTICA PERFEICAO     |04                |20190322               |63                       |NULL                |NULL|19991217             |4783101    |4783102                                                                |RUA            |PREFEITO JOAO ORESTES DE ARAUJO|541   |LOJA 03                          |CENTRO             |88495000|SC |8113            |048 |2423953  |NULL|NULL     |048    |2423953 |NULL                       |NULL             |NULL                  |2025-07-24 10:10:57.082693|\n",
      "|07396929 |0001      |20     |1            |NULL                |03                |20111107               |21                       |NULL                |NULL|20050504             |6201501    |6204000                                                                |RUA            |FLORIANO PEIXOTO,              |85    |NULL                             |SANTA PAULA        |09541350|SP |7077            |11  |32281722 |NULL|NULL     |11     |32281722|NULL                       |NULL             |NULL                  |2025-07-24 10:10:57.082693|\n",
      "|25040718 |0001      |32     |1            |COOCULTURA LTDA     |08                |20050523               |01                       |NULL                |NULL|19910823             |6424701    |NULL                                                                   |RUA            |ROSULINO FERREIRA GUIMA        |767   |NULL                             |CENTRO             |75902261|GO |9571            |NULL|NULL     |NULL|NULL     |NULL   |NULL    |NULL                       |NULL             |NULL                  |2025-07-24 10:10:57.082693|\n",
      "|07396936 |0001      |22     |1            |NULL                |08                |20051219               |01                       |NULL                |NULL|20050525             |4511102    |NULL                                                                   |AVENIDA        |DOM PEDRO II                   |1748  |NULL                             |CARLOS PRATES      |30710010|MG |4123            |NULL|NULL     |NULL|NULL     |NULL   |NULL    |NULL                       |NULL             |NULL                  |2025-07-24 10:10:57.082693|\n",
      "|07396943 |0001      |24     |1            |MEGA TELECOM        |08                |20170217               |01                       |NULL                |NULL|20050524             |4752100    |9512600                                                                |AVENIDA        |PARANA                         |465   |NULL                             |CENTRO             |83800000|PR |7679            |NULL|NULL     |NULL|NULL     |NULL   |NULL    |NULL                       |NULL             |NULL                  |2025-07-24 10:10:57.082693|\n",
      "|05596572 |0001      |07     |1            |SORVETERIA A DELICIA|08                |20050502               |01                       |NULL                |NULL|19790427             |8888888    |NULL                                                                   |RUA            |SAVINO BARREIRA                |696   |TERREO                           |CENTRO             |63475000|CE |1439            |NULL|NULL     |NULL|NULL     |NULL   |NULL    |NULL                       |NULL             |NULL                  |2025-07-24 10:10:57.082693|\n",
      "|79457842 |0001      |27     |1            |INDUSPAO            |04                |20181127               |63                       |NULL                |NULL|19860718             |4729699    |4761003,4721102                                                        |RUA            |DR. JOSE GUILHERME LOYOLA      |315   |      MORADIAS ITATIAIA          |CIC                |81250270|PR |7535            |41  |32460721 |NULL|NULL     |NULL   |NULL    |orelio@terra.com,br        |NULL             |NULL                  |2025-07-24 10:10:57.082693|\n",
      "|00591451 |0001      |40     |1            |QUIM-BASE           |02                |20051103               |00                       |NULL                |NULL|19950417             |4623109    |4618499                                                                |RUA            |CORIOLANO DURAND               |370   |SALA: 3;                         |VILA SANTA CATARINA|04375050|SP |7107            |11  |56415044 |NULL|NULL     |011    |56415044|UTILEX.LEGAL@BOL.COM.BR    |NULL             |NULL                  |2025-07-24 10:10:57.082693|\n",
      "|03738052 |0001      |58     |1            |NULL                |08                |20050511               |01                       |NULL                |NULL|20000406             |8630503    |8630501,8630502,8711501,8711503,8711504,8712300,8720401,8720499,8730199|PRACA          |DO DERBY                       |177   |NULL                             |DERBY              |52010140|PE |2531            |NULL|NULL     |NULL|NULL     |NULL   |NULL    |NULL                       |NULL             |NULL                  |2025-07-24 10:10:57.082693|\n",
      "|07396973 |0001      |30     |1            |NULL                |08                |20071031               |01                       |NULL                |NULL|20050511             |4712100    |NULL                                                                   |PRACA          |BOM JESUS                      |000162|NULL                             |CENTRO             |39526000|MG |0586            |NULL|NULL     |NULL|NULL     |NULL   |NULL    |NULL                       |NULL             |NULL                  |2025-07-24 10:10:57.082693|\n",
      "|35820448 |0127      |38     |2            |NULL                |08                |20050328               |01                       |NULL                |NULL|20010719             |8690999    |NULL                                                                   |AVENIDA        |MOACIR PALETA                  |274   |NULL                             |SAO PEDRO          |35020360|MG |4553            |NULL|NULL     |NULL|NULL     |NULL   |NULL    |NULL                       |NULL             |NULL                  |2025-07-24 10:10:57.082693|\n",
      "|07396980 |0001      |32     |1            |NULL                |02                |0                      |00                       |NULL                |NULL|20050520             |4530703    |NULL                                                                   |RUA            |JOSE ROSSI                     |1533  |FUNDOS                           |CENTRO             |14900000|SP |6555            |NULL|NULL     |NULL|NULL     |NULL   |NULL    |NULL                       |NULL             |NULL                  |2025-07-24 10:10:57.082693|\n",
      "|34448928 |0007      |40     |2            |FARMACIA CASSEB     |08                |20050419               |01                       |NULL                |NULL|19920609             |4771701    |NULL                                                                   |RUA            |METODIO COELHO                 |120   |LJ 01 LOT CIDADELA               |BROTAS             |40279120|BA |3849            |NULL|NULL     |NULL|NULL     |NULL   |NULL    |NULL                       |NULL             |NULL                  |2025-07-24 10:10:57.082693|\n",
      "|02519037 |0001      |56     |1            |NULL                |08                |20050510               |01                       |NULL                |NULL|19980519             |9430800    |9493600,9499500                                                        |NULL           |POVOADO BOM JARDIM             |SN    |NULL                             |ZONA RURAL         |65634065|MA |0937            |NULL|NULL     |NULL|NULL     |NULL   |NULL    |NULL                       |NULL             |NULL                  |2025-07-24 10:10:57.082693|\n",
      "|07396998 |0001      |34     |1            |PRO-IMPLANTES       |08                |20160310               |01                       |NULL                |NULL|20050518             |8630504    |NULL                                                                   |QUADRA         |SCN QUADRA 05 BLOCO A          |50    |SALA  1110                       |ASA NORTE          |70715900|DF |9701            |61  |33225577 |NULL|NULL     |NULL   |NULL    |NULL                       |NULL             |NULL                  |2025-07-24 10:10:57.082693|\n",
      "+---------+----------+-------+-------------+--------------------+------------------+-----------------------+-------------------------+--------------------+----+---------------------+-----------+-----------------------------------------------------------------------+---------------+-------------------------------+------+---------------------------------+-------------------+--------+---+----------------+----+---------+----+---------+-------+--------+---------------------------+-----------------+----------------------+--------------------------+\n",
      "only showing top 20 rows\n"
     ]
    }
   ],
   "source": [
    "df_estabelecimentos = df_estabelecimentos.withColumn(\n",
    "    \"data_ingestao\",\n",
    "    f.current_timestamp()\n",
    ")\n",
    "\n",
    "df_estabelecimentos.show(truncate=False)"
   ]
  },
  {
   "cell_type": "code",
   "execution_count": 46,
   "id": "fc3244d9",
   "metadata": {},
   "outputs": [
    {
     "name": "stderr",
     "output_type": "stream",
     "text": [
      "25/07/24 10:11:17 WARN MemoryManager: Total allocation exceeds 95.00% (1,020,054,720 bytes) of heap memory\n",
      "Scaling row group sizes to 95.00% for 8 writers\n",
      "25/07/24 10:11:17 WARN MemoryManager: Total allocation exceeds 95.00% (1,020,054,720 bytes) of heap memory\n",
      "Scaling row group sizes to 84.44% for 9 writers\n",
      "25/07/24 10:11:18 WARN MemoryManager: Total allocation exceeds 95.00% (1,020,054,720 bytes) of heap memory\n",
      "Scaling row group sizes to 76.00% for 10 writers\n",
      "25/07/24 10:11:18 WARN MemoryManager: Total allocation exceeds 95.00% (1,020,054,720 bytes) of heap memory\n",
      "Scaling row group sizes to 69.09% for 11 writers\n",
      "25/07/24 10:11:18 WARN MemoryManager: Total allocation exceeds 95.00% (1,020,054,720 bytes) of heap memory\n",
      "Scaling row group sizes to 63.33% for 12 writers\n",
      "25/07/24 10:11:45 WARN MemoryManager: Total allocation exceeds 95.00% (1,020,054,720 bytes) of heap memory\n",
      "Scaling row group sizes to 69.09% for 11 writers\n",
      "25/07/24 10:11:46 WARN MemoryManager: Total allocation exceeds 95.00% (1,020,054,720 bytes) of heap memory\n",
      "Scaling row group sizes to 76.00% for 10 writers\n",
      "25/07/24 10:11:47 WARN MemoryManager: Total allocation exceeds 95.00% (1,020,054,720 bytes) of heap memory\n",
      "Scaling row group sizes to 84.44% for 9 writers\n",
      "25/07/24 10:11:48 WARN MemoryManager: Total allocation exceeds 95.00% (1,020,054,720 bytes) of heap memory\n",
      "Scaling row group sizes to 95.00% for 8 writers\n",
      "                                                                                \r"
     ]
    },
    {
     "name": "stdout",
     "output_type": "stream",
     "text": [
      "Gravação efetuada!\n"
     ]
    },
    {
     "data": {
      "text/plain": [
       "DataFrame[cnpj_base: string, cnpj_ordem: string, cnpj_dv: string, matriz_filial: string, nome_fantasia: string, situacao_cadastral: string, data_situacao_cadastral: string, motivo_situacao_cadastral: string, nome_cidade_exterior: string, pais: string, data_inicio_atividade: string, cnae_fiscal: string, cnae_fiscal_secundaria: string, tipo_logradouro: string, logradouro: string, numero: string, complemento: string, bairro: string, cep: string, uf: string, codigo_municipio: string, ddd1: string, telefone1: string, ddd2: string, telefone2: string, ddd_fax: string, fax: string, email: string, situacao_especial: string, data_situacao_especial: string, data_ingestao: timestamp]"
      ]
     },
     "execution_count": 46,
     "metadata": {},
     "output_type": "execute_result"
    }
   ],
   "source": [
    "# Salvar na camada RAW\n",
    "\n",
    "gravar_delta(df_estabelecimentos, \"../RAW/estabelecimentos\")"
   ]
  },
  {
   "cell_type": "code",
   "execution_count": null,
   "id": "228b3422",
   "metadata": {},
   "outputs": [
    {
     "name": "stdout",
     "output_type": "stream",
     "text": [
      "root\n",
      " |-- cnpj_base: string (nullable = true)\n",
      " |-- cnpj_ordem: string (nullable = true)\n",
      " |-- cnpj_dv: string (nullable = true)\n",
      " |-- matriz_filial: string (nullable = true)\n",
      " |-- nome_fantasia: string (nullable = true)\n",
      " |-- situacao_cadastral: string (nullable = true)\n",
      " |-- data_situacao_cadastral: string (nullable = true)\n",
      " |-- motivo_situacao_cadastral: string (nullable = true)\n",
      " |-- nome_cidade_exterior: string (nullable = true)\n",
      " |-- pais: string (nullable = true)\n",
      " |-- data_inicio_atividade: string (nullable = true)\n",
      " |-- cnae_fiscal: string (nullable = true)\n",
      " |-- cnae_fiscal_secundaria: string (nullable = true)\n",
      " |-- tipo_logradouro: string (nullable = true)\n",
      " |-- logradouro: string (nullable = true)\n",
      " |-- numero: string (nullable = true)\n",
      " |-- complemento: string (nullable = true)\n",
      " |-- bairro: string (nullable = true)\n",
      " |-- cep: string (nullable = true)\n",
      " |-- uf: string (nullable = true)\n",
      " |-- codigo_municipio: string (nullable = true)\n",
      " |-- ddd1: string (nullable = true)\n",
      " |-- telefone1: string (nullable = true)\n",
      " |-- ddd2: string (nullable = true)\n",
      " |-- telefone2: string (nullable = true)\n",
      " |-- ddd_fax: string (nullable = true)\n",
      " |-- fax: string (nullable = true)\n",
      " |-- email: string (nullable = true)\n",
      " |-- situacao_especial: string (nullable = true)\n",
      " |-- data_situacao_especial: string (nullable = true)\n",
      " |-- data_ingestao: timestamp (nullable = true)\n",
      "\n",
      "+---------+----------+-------+-------------+-----------------------------+------------------+-----------------------+-------------------------+--------------------+----+---------------------+-----------+---------------------------------------+---------------+-------------------------+------+-----------+--------------+--------+---+----------------+----+---------+----+---------+-------+----+-----------------------------------+-----------------+----------------------+--------------------------+\n",
      "|cnpj_base|cnpj_ordem|cnpj_dv|matriz_filial|nome_fantasia                |situacao_cadastral|data_situacao_cadastral|motivo_situacao_cadastral|nome_cidade_exterior|pais|data_inicio_atividade|cnae_fiscal|cnae_fiscal_secundaria                 |tipo_logradouro|logradouro               |numero|complemento|bairro        |cep     |uf |codigo_municipio|ddd1|telefone1|ddd2|telefone2|ddd_fax|fax |email                              |situacao_especial|data_situacao_especial|data_ingestao             |\n",
      "+---------+----------+-------+-------------+-----------------------------+------------------+-----------------------+-------------------------+--------------------+----+---------------------+-----------+---------------------------------------+---------------+-------------------------+------+-----------+--------------+--------+---+----------------+----+---------+----+---------+-------+----+-----------------------------------+-----------------+----------------------+--------------------------+\n",
      "|38131263 |0001      |02     |1            |RS SERRALHARIA               |08                |20201105               |01                       |NULL                |NULL|20200818             |2542000    |NULL                                   |RUA            |DAS AMERICAS             |30    |NULL       |CHA DA TABUA  |54745582|PE |2573            |81  |86303525 |NULL|NULL     |NULL   |NULL|SILVANIASILVESTREFERREIRA@GMAIL.COM|NULL             |NULL                  |2025-07-24 10:11:17.663688|\n",
      "|38131274 |0001      |92     |1            |NULL                         |02                |20200818               |00                       |NULL                |NULL|20200818             |4399103    |2542000,4321500,4322301,4330402,4330405|AVENIDA        |SAO CRISTOVAO            |740   |NULL       |VILA TRIANGULO|19807555|SP |6179            |18  |96166520 |NULL|NULL     |NULL   |NULL|ANTONIODOCARMOFILHO@GMAIL.COM      |NULL             |NULL                  |2025-07-24 10:11:17.663688|\n",
      "|26565131 |0001      |00     |1            |DSM TRANSPORTES E LOCACAO    |08                |20250213               |01                       |NULL                |NULL|20161118             |4930202    |4930203,5250804,7711000,7732201,8299799|RUA            |ENGENHEIRO ANTONIO PENIDO|610   |SALA  03   |CENTRO        |12701050|SP |6369            |12  |81033608 |NULL|NULL     |NULL   |NULL|ADMINISTRATIVO@DSMSERVICOS.COM.BR  |NULL             |NULL                  |2025-07-24 10:11:17.663688|\n",
      "|38131297 |0001      |05     |1            |JH TRANSPORTE E TERRAPLANAGEM|08                |20201011               |01                       |NULL                |NULL|20200818             |4930201    |NULL                                   |RUA            |MARIA DAS DORES DIAS     |168   |NULL       |SANTA MONICA  |38408206|MG |5403            |34  |33051007 |NULL|NULL     |NULL   |NULL|NSOLUCOES@YAHOO.COM                |NULL             |NULL                  |2025-07-24 10:11:17.663688|\n",
      "|38131309 |0001      |93     |1            |JAIRO - MECANICO DE AUTOS    |08                |20230727               |01                       |NULL                |NULL|20200818             |4520001    |4520007,4530703,5229002,4520005,4520002|RUA            |XARQUINHO                |12    |NULL       |JARDIM ALFREDO|04909030|SP |7107            |11  |57191731 |NULL|NULL     |NULL   |NULL|LEGALIZACOES@BETTERCONTABIL.COM.BR |NULL             |NULL                  |2025-07-24 10:11:17.663688|\n",
      "+---------+----------+-------+-------------+-----------------------------+------------------+-----------------------+-------------------------+--------------------+----+---------------------+-----------+---------------------------------------+---------------+-------------------------+------+-----------+--------------+--------+---+----------------+----+---------+----+---------+-------+----+-----------------------------------+-----------------+----------------------+--------------------------+\n",
      "only showing top 5 rows\n"
     ]
    }
   ],
   "source": [
    "try:\n",
    "    deltaTable_estabelecimentos = DeltaTable.forPath(spark, \"../RAW/estabelecimentos\")\n",
    "    df_estabelecimentos = deltaTable_estabelecimentos.toDF()\n",
    "    df_estabelecimentos.printSchema()\n",
    "    df_estabelecimentos.show(5, truncate=False)\n",
    "except Exception as e:\n",
    "    print(f\"[ERRO] Falha na leiruta do DeltaTable: {e}\")\n",
    "    raise"
   ]
  },
  {
   "cell_type": "markdown",
   "id": "f11c39a2",
   "metadata": {},
   "source": [
    "## RAW - Socios"
   ]
  },
  {
   "cell_type": "code",
   "execution_count": 48,
   "id": "bd123945",
   "metadata": {},
   "outputs": [],
   "source": [
    "# Caminho do csv\n",
    "path_csv_socios: str = \"../LND/socios/2025-06/Socios1_2025-07-23_212245.csv\""
   ]
  },
  {
   "cell_type": "code",
   "execution_count": 49,
   "id": "fa6403aa",
   "metadata": {},
   "outputs": [],
   "source": [
    "# Definição do schema\n",
    "schema_socios: StructType = StructType([\n",
    "    StructField(\"cnpj_basico\", StringType(), True),\n",
    "    StructField(\"identificador_socio\", StringType(), True),\n",
    "    StructField(\"nome_socio_razao_social\", StringType(), True),\n",
    "    StructField(\"cnpj_cpf_socio\", StringType(), True),\n",
    "    StructField(\"codigo_qualificacao_socio\", StringType(), True),\n",
    "    StructField(\"data_entrada_sociedade\", StringType(), True),\n",
    "    StructField(\"pais\", StringType(), True),\n",
    "    StructField(\"representante_legal\", StringType(), True),\n",
    "    StructField(\"nome_representante\", StringType(), True),\n",
    "    StructField(\"codigo_qualificacao_representante\", StringType(), True),\n",
    "    StructField(\"faixa_etaria\", StringType(), True),\n",
    "])"
   ]
  },
  {
   "cell_type": "code",
   "execution_count": 50,
   "id": "278076cc",
   "metadata": {},
   "outputs": [],
   "source": [
    "# Ler csv\n",
    "df_socios = ler_csv(path=path_csv_socios, encoding=\"iso-8859-1\", schema=schema_socios)"
   ]
  },
  {
   "cell_type": "code",
   "execution_count": 51,
   "id": "89daa9aa",
   "metadata": {},
   "outputs": [
    {
     "name": "stdout",
     "output_type": "stream",
     "text": [
      "+-----------+-------------------+----------------------------+--------------+-------------------------+----------------------+----+-------------------+------------------+---------------------------------+------------+\n",
      "|cnpj_basico|identificador_socio|nome_socio_razao_social     |cnpj_cpf_socio|codigo_qualificacao_socio|data_entrada_sociedade|pais|representante_legal|nome_representante|codigo_qualificacao_representante|faixa_etaria|\n",
      "+-----------+-------------------+----------------------------+--------------+-------------------------+----------------------+----+-------------------+------------------+---------------------------------+------------+\n",
      "|07396865   |2                  |GERSON HOFFMANN             |***240659**   |49                       |20050518              |NULL|***000000**        |NULL              |00                               |5           |\n",
      "|07396865   |2                  |MITZI HARTMANN              |***126339**   |22                       |20080509              |NULL|***000000**        |NULL              |00                               |5           |\n",
      "|52302726   |2                  |BENEDITO BEZERRA DE CARVALHO|***061354**   |49                       |20050921              |NULL|***000000**        |NULL              |00                               |7           |\n",
      "|07396923   |2                  |RENATO PEDUTO               |***069508**   |49                       |20050516              |NULL|***000000**        |NULL              |00                               |6           |\n",
      "|07396923   |2                  |ELAINE GARCIA               |***971118**   |49                       |20050516              |NULL|***000000**        |NULL              |00                               |6           |\n",
      "+-----------+-------------------+----------------------------+--------------+-------------------------+----------------------+----+-------------------+------------------+---------------------------------+------------+\n",
      "only showing top 5 rows\n"
     ]
    }
   ],
   "source": [
    "df_socios.show(5, truncate=False)"
   ]
  },
  {
   "cell_type": "code",
   "execution_count": 52,
   "id": "5499657b",
   "metadata": {},
   "outputs": [
    {
     "name": "stdout",
     "output_type": "stream",
     "text": [
      "+-----------+-------------------+--------------------------------+--------------+-------------------------+----------------------+----+-------------------+------------------+---------------------------------+------------+--------------------------+\n",
      "|cnpj_basico|identificador_socio|nome_socio_razao_social         |cnpj_cpf_socio|codigo_qualificacao_socio|data_entrada_sociedade|pais|representante_legal|nome_representante|codigo_qualificacao_representante|faixa_etaria|data_ingestao             |\n",
      "+-----------+-------------------+--------------------------------+--------------+-------------------------+----------------------+----+-------------------+------------------+---------------------------------+------------+--------------------------+\n",
      "|07396865   |2                  |GERSON HOFFMANN                 |***240659**   |49                       |20050518              |NULL|***000000**        |NULL              |00                               |5           |2025-07-24 10:17:03.169452|\n",
      "|07396865   |2                  |MITZI HARTMANN                  |***126339**   |22                       |20080509              |NULL|***000000**        |NULL              |00                               |5           |2025-07-24 10:17:03.169452|\n",
      "|52302726   |2                  |BENEDITO BEZERRA DE CARVALHO    |***061354**   |49                       |20050921              |NULL|***000000**        |NULL              |00                               |7           |2025-07-24 10:17:03.169452|\n",
      "|07396923   |2                  |RENATO PEDUTO                   |***069508**   |49                       |20050516              |NULL|***000000**        |NULL              |00                               |6           |2025-07-24 10:17:03.169452|\n",
      "|07396923   |2                  |ELAINE GARCIA                   |***971118**   |49                       |20050516              |NULL|***000000**        |NULL              |00                               |6           |2025-07-24 10:17:03.169452|\n",
      "|03650261   |2                  |DILTO DE SOUZA                  |***236669**   |49                       |19991217              |NULL|***000000**        |NULL              |00                               |7           |2025-07-24 10:17:03.169452|\n",
      "|03650261   |2                  |TAMARA SOUZA FREITAS            |***042859**   |22                       |20050328              |NULL|***000000**        |NULL              |00                               |4           |2025-07-24 10:17:03.169452|\n",
      "|07396929   |2                  |PAOLA CACELLA LADEIRO           |***763888**   |49                       |20050504              |NULL|***000000**        |NULL              |00                               |5           |2025-07-24 10:17:03.169452|\n",
      "|07396929   |2                  |FABIANO AUGUSTO RUGGIERO CACHELE|***807908**   |49                       |20051124              |NULL|***000000**        |NULL              |00                               |6           |2025-07-24 10:17:03.169452|\n",
      "|25040718   |2                  |BENJAMIN BENONI MARTINS SPADONI |***205061**   |16                       |20050912              |NULL|***000000**        |NULL              |00                               |9           |2025-07-24 10:17:03.169452|\n",
      "|07396936   |2                  |LUIZ FERNANDO FERREIRA GUIMARAES|***111236**   |49                       |20050525              |NULL|***000000**        |NULL              |00                               |6           |2025-07-24 10:17:03.169452|\n",
      "|07396936   |2                  |IRINETE REGINA SILVA GUIMARAES  |***487336**   |22                       |20050525              |NULL|***000000**        |NULL              |00                               |6           |2025-07-24 10:17:03.169452|\n",
      "|07396943   |2                  |LUCIANO SOVIERZOSKI             |***917839**   |49                       |20050524              |NULL|***000000**        |NULL              |00                               |6           |2025-07-24 10:17:03.169452|\n",
      "|07396943   |2                  |ADRIANO SOVIERZOSKI             |***053209**   |22                       |20050524              |NULL|***000000**        |NULL              |00                               |6           |2025-07-24 10:17:03.169452|\n",
      "|79457842   |2                  |ANTONIO MOREIRA                 |***706629**   |49                       |20110527              |NULL|***000000**        |NULL              |00                               |9           |2025-07-24 10:17:03.169452|\n",
      "|79457842   |2                  |BRUNO MATHEUS ALVES MOREIRA     |***028829**   |30                       |20110527              |NULL|***268358**        |MARCELO MOREIRA   |15                               |2           |2025-07-24 10:17:03.169452|\n",
      "|00591451   |2                  |ISMAR JOSE KOHLER               |***677319**   |49                       |19950417              |NULL|***000000**        |NULL              |00                               |6           |2025-07-24 10:17:03.169452|\n",
      "|00591451   |2                  |VANDA CECILIA KOHLER            |***286988**   |22                       |20141118              |NULL|***000000**        |NULL              |00                               |6           |2025-07-24 10:17:03.169452|\n",
      "|03738052   |2                  |ROSILDA JOSE DO NASCIMENTO      |***672704**   |49                       |20000406              |NULL|***000000**        |NULL              |00                               |7           |2025-07-24 10:17:03.169452|\n",
      "|03738052   |2                  |SONIA CRISTINA ARAUJO HINRICHSEN|***336724**   |49                       |20000406              |NULL|***000000**        |NULL              |00                               |7           |2025-07-24 10:17:03.169452|\n",
      "+-----------+-------------------+--------------------------------+--------------+-------------------------+----------------------+----+-------------------+------------------+---------------------------------+------------+--------------------------+\n",
      "only showing top 20 rows\n"
     ]
    }
   ],
   "source": [
    "df_socios = df_socios.withColumn(\n",
    "    \"data_ingestao\",\n",
    "    f.current_timestamp()\n",
    ")\n",
    "\n",
    "df_socios.show(truncate=False)"
   ]
  },
  {
   "cell_type": "code",
   "execution_count": 53,
   "id": "d3cd82f4",
   "metadata": {},
   "outputs": [
    {
     "name": "stderr",
     "output_type": "stream",
     "text": [
      "25/07/24 10:17:25 WARN MemoryManager: Total allocation exceeds 95.00% (1,020,054,720 bytes) of heap memory\n",
      "Scaling row group sizes to 95.00% for 8 writers\n",
      "25/07/24 10:17:25 WARN MemoryManager: Total allocation exceeds 95.00% (1,020,054,720 bytes) of heap memory\n",
      "Scaling row group sizes to 84.44% for 9 writers\n",
      "25/07/24 10:17:25 WARN MemoryManager: Total allocation exceeds 95.00% (1,020,054,720 bytes) of heap memory\n",
      "Scaling row group sizes to 76.00% for 10 writers\n",
      "25/07/24 10:17:25 WARN MemoryManager: Total allocation exceeds 95.00% (1,020,054,720 bytes) of heap memory\n",
      "Scaling row group sizes to 69.09% for 11 writers\n",
      "25/07/24 10:17:25 WARN MemoryManager: Total allocation exceeds 95.00% (1,020,054,720 bytes) of heap memory\n",
      "Scaling row group sizes to 63.33% for 12 writers\n",
      "25/07/24 10:17:29 WARN MemoryManager: Total allocation exceeds 95.00% (1,020,054,720 bytes) of heap memory\n",
      "Scaling row group sizes to 69.09% for 11 writers\n",
      "25/07/24 10:17:29 WARN MemoryManager: Total allocation exceeds 95.00% (1,020,054,720 bytes) of heap memory\n",
      "Scaling row group sizes to 76.00% for 10 writers\n",
      "25/07/24 10:17:30 WARN MemoryManager: Total allocation exceeds 95.00% (1,020,054,720 bytes) of heap memory\n",
      "Scaling row group sizes to 84.44% for 9 writers\n",
      "25/07/24 10:17:30 WARN MemoryManager: Total allocation exceeds 95.00% (1,020,054,720 bytes) of heap memory\n",
      "Scaling row group sizes to 95.00% for 8 writers\n",
      "                                                                                \r"
     ]
    },
    {
     "name": "stdout",
     "output_type": "stream",
     "text": [
      "Gravação efetuada!\n"
     ]
    },
    {
     "data": {
      "text/plain": [
       "DataFrame[cnpj_basico: string, identificador_socio: string, nome_socio_razao_social: string, cnpj_cpf_socio: string, codigo_qualificacao_socio: string, data_entrada_sociedade: string, pais: string, representante_legal: string, nome_representante: string, codigo_qualificacao_representante: string, faixa_etaria: string, data_ingestao: timestamp]"
      ]
     },
     "execution_count": 53,
     "metadata": {},
     "output_type": "execute_result"
    }
   ],
   "source": [
    "# salvar na camada RAW\n",
    "\n",
    "gravar_delta(df_socios, \"../RAW/socios\")"
   ]
  },
  {
   "cell_type": "code",
   "execution_count": 55,
   "id": "74e9edde",
   "metadata": {},
   "outputs": [
    {
     "name": "stdout",
     "output_type": "stream",
     "text": [
      "root\n",
      " |-- cnpj_basico: string (nullable = true)\n",
      " |-- identificador_socio: string (nullable = true)\n",
      " |-- nome_socio_razao_social: string (nullable = true)\n",
      " |-- cnpj_cpf_socio: string (nullable = true)\n",
      " |-- codigo_qualificacao_socio: string (nullable = true)\n",
      " |-- data_entrada_sociedade: string (nullable = true)\n",
      " |-- pais: string (nullable = true)\n",
      " |-- representante_legal: string (nullable = true)\n",
      " |-- nome_representante: string (nullable = true)\n",
      " |-- codigo_qualificacao_representante: string (nullable = true)\n",
      " |-- faixa_etaria: string (nullable = true)\n",
      " |-- data_ingestao: timestamp (nullable = true)\n",
      "\n",
      "+-----------+-------------------+----------------------------+--------------+-------------------------+----------------------+----+-------------------+------------------+---------------------------------+------------+--------------------------+\n",
      "|cnpj_basico|identificador_socio|nome_socio_razao_social     |cnpj_cpf_socio|codigo_qualificacao_socio|data_entrada_sociedade|pais|representante_legal|nome_representante|codigo_qualificacao_representante|faixa_etaria|data_ingestao             |\n",
      "+-----------+-------------------+----------------------------+--------------+-------------------------+----------------------+----+-------------------+------------------+---------------------------------+------------+--------------------------+\n",
      "|07396865   |2                  |GERSON HOFFMANN             |***240659**   |49                       |20050518              |NULL|***000000**        |NULL              |00                               |5           |2025-07-24 10:17:25.146239|\n",
      "|07396865   |2                  |MITZI HARTMANN              |***126339**   |22                       |20080509              |NULL|***000000**        |NULL              |00                               |5           |2025-07-24 10:17:25.146239|\n",
      "|52302726   |2                  |BENEDITO BEZERRA DE CARVALHO|***061354**   |49                       |20050921              |NULL|***000000**        |NULL              |00                               |7           |2025-07-24 10:17:25.146239|\n",
      "|07396923   |2                  |RENATO PEDUTO               |***069508**   |49                       |20050516              |NULL|***000000**        |NULL              |00                               |6           |2025-07-24 10:17:25.146239|\n",
      "|07396923   |2                  |ELAINE GARCIA               |***971118**   |49                       |20050516              |NULL|***000000**        |NULL              |00                               |6           |2025-07-24 10:17:25.146239|\n",
      "+-----------+-------------------+----------------------------+--------------+-------------------------+----------------------+----+-------------------+------------------+---------------------------------+------------+--------------------------+\n",
      "only showing top 5 rows\n"
     ]
    }
   ],
   "source": [
    "try:\n",
    "    deltaTable_socios = DeltaTable.forPath(spark, \"../RAW/socios\")\n",
    "    df_socios = deltaTable_socios.toDF()\n",
    "    df_socios.printSchema()\n",
    "    df_socios.show(5, truncate=False)\n",
    "except Exception as e:\n",
    "    print(f\"[ERRO] Falha na leitura: {e}\")\n",
    "    raise"
   ]
  },
  {
   "cell_type": "markdown",
   "id": "79ce2b37",
   "metadata": {},
   "source": []
  },
  {
   "cell_type": "markdown",
   "id": "a87a31fb",
   "metadata": {},
   "source": [
    "## RAW - Paises"
   ]
  },
  {
   "cell_type": "code",
   "execution_count": 56,
   "id": "2a319cf6",
   "metadata": {},
   "outputs": [],
   "source": [
    "# Caminho do arquivo\n",
    "path_csv_paises: str = \"../LND/paises/2025-06/Paises_2025-07-23_212003.csv\""
   ]
  },
  {
   "cell_type": "code",
   "execution_count": 57,
   "id": "9767b374",
   "metadata": {},
   "outputs": [],
   "source": [
    "# Definição do schema\n",
    "schema_pais: StructType = StructType([\n",
    "    StructField(\"codigo_pais\", StringType(), True),\n",
    "    StructField(\"nome_pais\", StringType(), True),\n",
    "])"
   ]
  },
  {
   "cell_type": "code",
   "execution_count": 58,
   "id": "06c608af",
   "metadata": {},
   "outputs": [],
   "source": [
    "# Ler arquivo CSV\n",
    "df_paises = ler_csv(path_csv_paises, \"iso-8859-1\", schema_natureza_juridica)"
   ]
  },
  {
   "cell_type": "code",
   "execution_count": 59,
   "id": "3298e2a7",
   "metadata": {},
   "outputs": [
    {
     "name": "stdout",
     "output_type": "stream",
     "text": [
      "+------------------------+-----------------------------+\n",
      "|codigo_natureza_juridica|natureza_juridica            |\n",
      "+------------------------+-----------------------------+\n",
      "|000                     |COLIS POSTAUX                |\n",
      "|013                     |AFEGANISTAO                  |\n",
      "|017                     |ALBANIA                      |\n",
      "|020                     |ALBORAN-PEREJIL,ILHAS        |\n",
      "|023                     |ALEMANHA                     |\n",
      "|025                     |ALEMANHA, REP. DEMOCRATICA DA|\n",
      "|031                     |BURKINA FASO                 |\n",
      "|037                     |ANDORRA                      |\n",
      "|040                     |ANGOLA                       |\n",
      "|041                     |ANGUILLA                     |\n",
      "|043                     |ANTIGUA E BARBUDA            |\n",
      "|047                     |ANTILHAS HOLANDESAS          |\n",
      "|053                     |ARABIA SAUDITA               |\n",
      "|059                     |ARGELIA                      |\n",
      "|063                     |ARGENTINA                    |\n",
      "|064                     |ARMENIA, REPUBLICA DA        |\n",
      "|065                     |ARUBA                        |\n",
      "|069                     |AUSTRALIA                    |\n",
      "|072                     |AUSTRIA                      |\n",
      "|073                     |AZERBAIJAO, REPUBLICA DO     |\n",
      "+------------------------+-----------------------------+\n",
      "only showing top 20 rows\n"
     ]
    }
   ],
   "source": [
    "# Mostrar resultado\n",
    "df_paises.show(truncate=False)"
   ]
  },
  {
   "cell_type": "code",
   "execution_count": 60,
   "id": "0b2db44e",
   "metadata": {},
   "outputs": [
    {
     "name": "stdout",
     "output_type": "stream",
     "text": [
      "+------------------------+-----------------------------+--------------------------+\n",
      "|codigo_natureza_juridica|natureza_juridica            |data_ingestao             |\n",
      "+------------------------+-----------------------------+--------------------------+\n",
      "|000                     |COLIS POSTAUX                |2025-07-24 10:19:50.758357|\n",
      "|013                     |AFEGANISTAO                  |2025-07-24 10:19:50.758357|\n",
      "|017                     |ALBANIA                      |2025-07-24 10:19:50.758357|\n",
      "|020                     |ALBORAN-PEREJIL,ILHAS        |2025-07-24 10:19:50.758357|\n",
      "|023                     |ALEMANHA                     |2025-07-24 10:19:50.758357|\n",
      "|025                     |ALEMANHA, REP. DEMOCRATICA DA|2025-07-24 10:19:50.758357|\n",
      "|031                     |BURKINA FASO                 |2025-07-24 10:19:50.758357|\n",
      "|037                     |ANDORRA                      |2025-07-24 10:19:50.758357|\n",
      "|040                     |ANGOLA                       |2025-07-24 10:19:50.758357|\n",
      "|041                     |ANGUILLA                     |2025-07-24 10:19:50.758357|\n",
      "|043                     |ANTIGUA E BARBUDA            |2025-07-24 10:19:50.758357|\n",
      "|047                     |ANTILHAS HOLANDESAS          |2025-07-24 10:19:50.758357|\n",
      "|053                     |ARABIA SAUDITA               |2025-07-24 10:19:50.758357|\n",
      "|059                     |ARGELIA                      |2025-07-24 10:19:50.758357|\n",
      "|063                     |ARGENTINA                    |2025-07-24 10:19:50.758357|\n",
      "|064                     |ARMENIA, REPUBLICA DA        |2025-07-24 10:19:50.758357|\n",
      "|065                     |ARUBA                        |2025-07-24 10:19:50.758357|\n",
      "|069                     |AUSTRALIA                    |2025-07-24 10:19:50.758357|\n",
      "|072                     |AUSTRIA                      |2025-07-24 10:19:50.758357|\n",
      "|073                     |AZERBAIJAO, REPUBLICA DO     |2025-07-24 10:19:50.758357|\n",
      "+------------------------+-----------------------------+--------------------------+\n",
      "only showing top 20 rows\n"
     ]
    }
   ],
   "source": [
    "df_paises = df_paises.withColumn(\n",
    "    \"data_ingestao\",\n",
    "    f.current_timestamp()\n",
    ")\n",
    "\n",
    "df_paises.show(truncate=False)"
   ]
  },
  {
   "cell_type": "code",
   "execution_count": null,
   "id": "fc7e99f9",
   "metadata": {},
   "outputs": [
    {
     "name": "stdout",
     "output_type": "stream",
     "text": [
      "Gravação efetuada!\n"
     ]
    }
   ],
   "source": [
    "# Gravar no RAW\n",
    "try:\n",
    "    gravar_delta(df_paises, \"../RAW/paises\")\n",
    "except Exception as e:\n",
    "    print(f\"[ERRO] Falha na escrita do DeltaTable\")\n",
    "    raise"
   ]
  },
  {
   "cell_type": "code",
   "execution_count": 62,
   "id": "b5e34be3",
   "metadata": {},
   "outputs": [
    {
     "name": "stdout",
     "output_type": "stream",
     "text": [
      "root\n",
      " |-- codigo_natureza_juridica: string (nullable = true)\n",
      " |-- natureza_juridica: string (nullable = true)\n",
      " |-- data_ingestao: timestamp (nullable = true)\n",
      "\n",
      "+------------------------+---------------------+--------------------------+\n",
      "|codigo_natureza_juridica|natureza_juridica    |data_ingestao             |\n",
      "+------------------------+---------------------+--------------------------+\n",
      "|000                     |COLIS POSTAUX        |2025-07-24 10:20:23.372627|\n",
      "|013                     |AFEGANISTAO          |2025-07-24 10:20:23.372627|\n",
      "|017                     |ALBANIA              |2025-07-24 10:20:23.372627|\n",
      "|020                     |ALBORAN-PEREJIL,ILHAS|2025-07-24 10:20:23.372627|\n",
      "|023                     |ALEMANHA             |2025-07-24 10:20:23.372627|\n",
      "+------------------------+---------------------+--------------------------+\n",
      "only showing top 5 rows\n"
     ]
    }
   ],
   "source": [
    "try:\n",
    "    # Transformar em DeltaTable e mostrar arquivo\n",
    "    deltaTable_paises = DeltaTable.forPath(spark, \"../RAW/paises\")\n",
    "    df_paises = deltaTable_paises.toDF()\n",
    "    df_paises.printSchema()\n",
    "    df_paises.show(5, truncate=False)\n",
    "except Exception as e:\n",
    "    print(f\"[ERRO] Falha na leitura do DeltaTable: {e}\")\n",
    "    raise"
   ]
  },
  {
   "cell_type": "markdown",
   "id": "c5c09037",
   "metadata": {},
   "source": [
    "## RAW - Qualificações"
   ]
  },
  {
   "cell_type": "code",
   "execution_count": 63,
   "id": "d6eb32a3",
   "metadata": {},
   "outputs": [],
   "source": [
    "# Caminho do arquivo\n",
    "path_csv_qualificacoes: str = \"../LND/qualificacoes/2025-06/Qualificacoes_2025-07-23_212004.csv\""
   ]
  },
  {
   "cell_type": "code",
   "execution_count": 64,
   "id": "6c6b63e4",
   "metadata": {},
   "outputs": [],
   "source": [
    "# Definição do schema\n",
    "schema_qualificacoes: StructType = StructType([\n",
    "    StructField(\"codigo_qualificacao\", StringType(), True),\n",
    "    StructField(\"descricao_qualificacao\", StringType(), True),\n",
    "])"
   ]
  },
  {
   "cell_type": "code",
   "execution_count": 68,
   "id": "4a538146",
   "metadata": {},
   "outputs": [
    {
     "name": "stdout",
     "output_type": "stream",
     "text": [
      "root\n",
      " |-- codigo_qualificacao: string (nullable = true)\n",
      " |-- descricao_qualificacao: string (nullable = true)\n",
      "\n",
      "+-------------------+----------------------------+\n",
      "|codigo_qualificacao|descricao_qualificacao      |\n",
      "+-------------------+----------------------------+\n",
      "|00                 |Não informada               |\n",
      "|05                 |Administrador               |\n",
      "|08                 |Conselheiro de Administração|\n",
      "|09                 |Curador                     |\n",
      "|10                 |Diretor                     |\n",
      "+-------------------+----------------------------+\n",
      "only showing top 5 rows\n"
     ]
    }
   ],
   "source": [
    "# ler arquivo CSV\n",
    "df_qualificacoes = ler_csv(path_csv_qualificacoes, \"iso-8859-1\", schema_qualificacoes)\n",
    "df_qualificacoes.printSchema()\n",
    "df_qualificacoes.show(5, truncate=False)"
   ]
  },
  {
   "cell_type": "code",
   "execution_count": null,
   "id": "de78715e",
   "metadata": {},
   "outputs": [
    {
     "name": "stdout",
     "output_type": "stream",
     "text": [
      "+-------------------+----------------------------+--------------------------+\n",
      "|codigo_qualificacao|descricao_qualificacao      |data_ingestao             |\n",
      "+-------------------+----------------------------+--------------------------+\n",
      "|00                 |Não informada               |2025-07-24 10:24:24.016977|\n",
      "|05                 |Administrador               |2025-07-24 10:24:24.016977|\n",
      "|08                 |Conselheiro de Administração|2025-07-24 10:24:24.016977|\n",
      "|09                 |Curador                     |2025-07-24 10:24:24.016977|\n",
      "|10                 |Diretor                     |2025-07-24 10:24:24.016977|\n",
      "|11                 |Interventor                 |2025-07-24 10:24:24.016977|\n",
      "|12                 |Inventariante               |2025-07-24 10:24:24.016977|\n",
      "|13                 |Liquidante                  |2025-07-24 10:24:24.016977|\n",
      "|14                 |Mãe                         |2025-07-24 10:24:24.016977|\n",
      "|15                 |Pai                         |2025-07-24 10:24:24.016977|\n",
      "|16                 |Presidente                  |2025-07-24 10:24:24.016977|\n",
      "|17                 |Procurador                  |2025-07-24 10:24:24.016977|\n",
      "|18                 |Secretário                  |2025-07-24 10:24:24.016977|\n",
      "|19                 |Síndico (Condomínio)        |2025-07-24 10:24:24.016977|\n",
      "|20                 |Sociedade Consorciada       |2025-07-24 10:24:24.016977|\n",
      "|21                 |Sociedade Filiada           |2025-07-24 10:24:24.016977|\n",
      "|22                 |Sócio                       |2025-07-24 10:24:24.016977|\n",
      "|23                 |Sócio Capitalista           |2025-07-24 10:24:24.016977|\n",
      "|24                 |Sócio Comanditado           |2025-07-24 10:24:24.016977|\n",
      "|25                 |Sócio Comanditário          |2025-07-24 10:24:24.016977|\n",
      "+-------------------+----------------------------+--------------------------+\n",
      "only showing top 20 rows\n"
     ]
    }
   ],
   "source": [
    "df_qualificacoes = df_qualificacoes.withColumn(\n",
    "    \"data_ingestao\",\n",
    "    f.current_timestamp()\n",
    ")\n",
    "\n",
    "df_qualificacoes.show(5, truncate=False)"
   ]
  },
  {
   "cell_type": "code",
   "execution_count": 70,
   "id": "7b4fb1f2",
   "metadata": {},
   "outputs": [
    {
     "name": "stdout",
     "output_type": "stream",
     "text": [
      "Gravação efetuada!\n"
     ]
    }
   ],
   "source": [
    "# Salvar no RAW\n",
    "try:\n",
    "    gravar_delta(df_qualificacoes, \"../RAW/qualificacoes\")\n",
    "except Exception as e:\n",
    "    print(f\"[ERRO] Falha na escrita do DeltaTable\")"
   ]
  },
  {
   "cell_type": "code",
   "execution_count": 71,
   "id": "ef4ef6d8",
   "metadata": {},
   "outputs": [
    {
     "name": "stdout",
     "output_type": "stream",
     "text": [
      "root\n",
      " |-- codigo_qualificacao: string (nullable = true)\n",
      " |-- descricao_qualificacao: string (nullable = true)\n",
      " |-- data_ingestao: timestamp (nullable = true)\n",
      "\n",
      "+-------------------+----------------------------+--------------------------+\n",
      "|codigo_qualificacao|descricao_qualificacao      |data_ingestao             |\n",
      "+-------------------+----------------------------+--------------------------+\n",
      "|00                 |Não informada               |2025-07-24 10:24:45.591468|\n",
      "|05                 |Administrador               |2025-07-24 10:24:45.591468|\n",
      "|08                 |Conselheiro de Administração|2025-07-24 10:24:45.591468|\n",
      "|09                 |Curador                     |2025-07-24 10:24:45.591468|\n",
      "|10                 |Diretor                     |2025-07-24 10:24:45.591468|\n",
      "+-------------------+----------------------------+--------------------------+\n",
      "only showing top 5 rows\n"
     ]
    }
   ],
   "source": [
    "try:\n",
    "    deltaTable_qualificacoes = DeltaTable.forPath(spark, \"../RAW/qualificacoes\")\n",
    "    df_qualificacoes = deltaTable_qualificacoes.toDF()\n",
    "    df_qualificacoes.printSchema()\n",
    "    df_qualificacoes.show(5, truncate=False)\n",
    "except Exception as e:\n",
    "    print(f\"Erro: {e}\")"
   ]
  },
  {
   "cell_type": "markdown",
   "id": "8b2303d4",
   "metadata": {},
   "source": [
    "## RAW - Motivos"
   ]
  },
  {
   "cell_type": "code",
   "execution_count": 72,
   "id": "dc815ffe",
   "metadata": {},
   "outputs": [],
   "source": [
    "# caminho do CSV\n",
    "path_csv_motivos: str = \"../LND/motivos/2025-06/Motivos_2025-07-23_211903.csv\""
   ]
  },
  {
   "cell_type": "code",
   "execution_count": 73,
   "id": "cec570bb",
   "metadata": {},
   "outputs": [],
   "source": [
    "# Definição do schema\n",
    "schema_motivos: StructType = StructType([\n",
    "    StructField(\"codigo_motivo\", StringType(), True),\n",
    "    StructField(\"descricao_motivo\", StringType(), True),\n",
    "]) "
   ]
  },
  {
   "cell_type": "code",
   "execution_count": 75,
   "id": "09d32152",
   "metadata": {},
   "outputs": [
    {
     "name": "stdout",
     "output_type": "stream",
     "text": [
      "root\n",
      " |-- codigo_motivo: string (nullable = true)\n",
      " |-- descricao_motivo: string (nullable = true)\n",
      "\n",
      "+-------------+-------------------------------------------------+\n",
      "|codigo_motivo|descricao_motivo                                 |\n",
      "+-------------+-------------------------------------------------+\n",
      "|00           |SEM MOTIVO                                       |\n",
      "|01           |EXTINCAO POR ENCERRAMENTO LIQUIDACAO VOLUNTARIA  |\n",
      "|02           |INCORPORACAO                                     |\n",
      "|03           |FUSAO                                            |\n",
      "|04           |CISAO TOTAL                                      |\n",
      "|05           |ENCERRAMENTO DA FALENCIA                         |\n",
      "|06           |ENCERRAMENTO DA LIQUIDACAO                       |\n",
      "|07           |ELEVACAO A MATRIZ                                |\n",
      "|08           |TRANSPASSE                                       |\n",
      "|09           |NAO INICIO DE ATIVIDADE                          |\n",
      "|10           |EXTINCAO PELO ENCERRAMENTO DA LIQUIDACAO JUDICIAL|\n",
      "|11           |ANULACAO POR MULTICIPLIDADE                      |\n",
      "|12           |ANULACAO ONLINE DE OFICIO                        |\n",
      "|13           |OMISSA CONTUMAZ                                  |\n",
      "|14           |OMISSA NAO LOCALIZADA                            |\n",
      "|15           |INEXISTENCIA DE FATO                             |\n",
      "|16           |ANULACAO POR VICIOS                              |\n",
      "|17           |BAIXA INICIADA EM ANALISE                        |\n",
      "|18           |INTERRUPCAO TEMPORARIA DAS ATIVIDADES            |\n",
      "|21           |PEDIDO DE BAIXA INDEFERIDA                       |\n",
      "+-------------+-------------------------------------------------+\n",
      "only showing top 20 rows\n"
     ]
    }
   ],
   "source": [
    "# Ler arquivo CSV\n",
    "df_motivos: DataFrame = ler_csv(path_csv_motivos, \"iso-8859-1\", schema_motivos)\n",
    "df_motivos.printSchema()\n",
    "df_motivos.show(truncate=False)"
   ]
  },
  {
   "cell_type": "code",
   "execution_count": 76,
   "id": "c1b43e4e",
   "metadata": {},
   "outputs": [
    {
     "name": "stdout",
     "output_type": "stream",
     "text": [
      "+-------------+-------------------------------------------------+--------------------------+\n",
      "|codigo_motivo|descricao_motivo                                 |data_ingestao             |\n",
      "+-------------+-------------------------------------------------+--------------------------+\n",
      "|00           |SEM MOTIVO                                       |2025-07-24 10:27:09.543976|\n",
      "|01           |EXTINCAO POR ENCERRAMENTO LIQUIDACAO VOLUNTARIA  |2025-07-24 10:27:09.543976|\n",
      "|02           |INCORPORACAO                                     |2025-07-24 10:27:09.543976|\n",
      "|03           |FUSAO                                            |2025-07-24 10:27:09.543976|\n",
      "|04           |CISAO TOTAL                                      |2025-07-24 10:27:09.543976|\n",
      "|05           |ENCERRAMENTO DA FALENCIA                         |2025-07-24 10:27:09.543976|\n",
      "|06           |ENCERRAMENTO DA LIQUIDACAO                       |2025-07-24 10:27:09.543976|\n",
      "|07           |ELEVACAO A MATRIZ                                |2025-07-24 10:27:09.543976|\n",
      "|08           |TRANSPASSE                                       |2025-07-24 10:27:09.543976|\n",
      "|09           |NAO INICIO DE ATIVIDADE                          |2025-07-24 10:27:09.543976|\n",
      "|10           |EXTINCAO PELO ENCERRAMENTO DA LIQUIDACAO JUDICIAL|2025-07-24 10:27:09.543976|\n",
      "|11           |ANULACAO POR MULTICIPLIDADE                      |2025-07-24 10:27:09.543976|\n",
      "|12           |ANULACAO ONLINE DE OFICIO                        |2025-07-24 10:27:09.543976|\n",
      "|13           |OMISSA CONTUMAZ                                  |2025-07-24 10:27:09.543976|\n",
      "|14           |OMISSA NAO LOCALIZADA                            |2025-07-24 10:27:09.543976|\n",
      "|15           |INEXISTENCIA DE FATO                             |2025-07-24 10:27:09.543976|\n",
      "|16           |ANULACAO POR VICIOS                              |2025-07-24 10:27:09.543976|\n",
      "|17           |BAIXA INICIADA EM ANALISE                        |2025-07-24 10:27:09.543976|\n",
      "|18           |INTERRUPCAO TEMPORARIA DAS ATIVIDADES            |2025-07-24 10:27:09.543976|\n",
      "|21           |PEDIDO DE BAIXA INDEFERIDA                       |2025-07-24 10:27:09.543976|\n",
      "+-------------+-------------------------------------------------+--------------------------+\n",
      "only showing top 20 rows\n"
     ]
    }
   ],
   "source": [
    "df_motivos = df_motivos.withColumn(\n",
    "    \"data_ingestao\",\n",
    "    f.current_timestamp()\n",
    ")\n",
    "\n",
    "df_motivos.show(truncate=False)"
   ]
  },
  {
   "cell_type": "code",
   "execution_count": 77,
   "id": "e8108e82",
   "metadata": {},
   "outputs": [
    {
     "name": "stdout",
     "output_type": "stream",
     "text": [
      "Gravação efetuada!\n"
     ]
    }
   ],
   "source": [
    "# Gravar no RAW\n",
    "try:\n",
    "    gravar_delta(df_motivos, \"../RAW/motivos\")\n",
    "except Exception as e:\n",
    "    print(f\"[ERRO] Falha ao gravar DeltaTable\")\n",
    "    raise"
   ]
  },
  {
   "cell_type": "code",
   "execution_count": 78,
   "id": "69666f42",
   "metadata": {},
   "outputs": [
    {
     "name": "stdout",
     "output_type": "stream",
     "text": [
      "root\n",
      " |-- codigo_motivo: string (nullable = true)\n",
      " |-- descricao_motivo: string (nullable = true)\n",
      " |-- data_ingestao: timestamp (nullable = true)\n",
      "\n",
      "+-------------+-----------------------------------------------+--------------------------+\n",
      "|codigo_motivo|descricao_motivo                               |data_ingestao             |\n",
      "+-------------+-----------------------------------------------+--------------------------+\n",
      "|00           |SEM MOTIVO                                     |2025-07-24 10:27:48.010526|\n",
      "|01           |EXTINCAO POR ENCERRAMENTO LIQUIDACAO VOLUNTARIA|2025-07-24 10:27:48.010526|\n",
      "|02           |INCORPORACAO                                   |2025-07-24 10:27:48.010526|\n",
      "|03           |FUSAO                                          |2025-07-24 10:27:48.010526|\n",
      "|04           |CISAO TOTAL                                    |2025-07-24 10:27:48.010526|\n",
      "+-------------+-----------------------------------------------+--------------------------+\n",
      "only showing top 5 rows\n"
     ]
    }
   ],
   "source": [
    "try:\n",
    "    deltaTable_motivos: DeltaTable = DeltaTable.forPath(spark, \"../RAW/motivos\")\n",
    "    df_motivos: DataFrame = deltaTable_motivos.toDF()\n",
    "    df_motivos.printSchema()\n",
    "    df_motivos.show(5, truncate=False)\n",
    "except Exception as e:\n",
    "    print(f\"[ERRO] Falha na leitura do DeltaTable: {e}\")"
   ]
  },
  {
   "cell_type": "markdown",
   "id": "44c74342",
   "metadata": {},
   "source": [
    "## RAW - Municipios Receita Federal"
   ]
  },
  {
   "cell_type": "code",
   "execution_count": 79,
   "id": "1e7e58cd",
   "metadata": {},
   "outputs": [],
   "source": [
    "# caminho do CSV\n",
    "path_csv_municipios_rf: str = \"../LND/municipios/2025-06/Municipios_2025-07-23_211903.csv\""
   ]
  },
  {
   "cell_type": "code",
   "execution_count": 80,
   "id": "7338bf8a",
   "metadata": {},
   "outputs": [],
   "source": [
    "schema_municipios_rf: StructType = StructType([\n",
    "    StructField(\"id_municipio\", StringType(), True),\n",
    "    StructField(\"municipio\", StringType(), True)\n",
    "])"
   ]
  },
  {
   "cell_type": "code",
   "execution_count": 81,
   "id": "ce5ddafd",
   "metadata": {},
   "outputs": [
    {
     "name": "stdout",
     "output_type": "stream",
     "text": [
      "root\n",
      " |-- id_municipio: string (nullable = true)\n",
      " |-- municipio: string (nullable = true)\n",
      "\n",
      "+------------+-----------------------+\n",
      "|id_municipio|municipio              |\n",
      "+------------+-----------------------+\n",
      "|0001        |GUAJARA-MIRIM          |\n",
      "|0002        |ALTO ALEGRE DOS PARECIS|\n",
      "|0003        |PORTO VELHO            |\n",
      "|0004        |BURITIS                |\n",
      "|0005        |JI-PARANA              |\n",
      "+------------+-----------------------+\n",
      "only showing top 5 rows\n"
     ]
    }
   ],
   "source": [
    "# Ler arquivo CSV\n",
    "df_municipios_rf: DataFrame = ler_csv(path_csv_municipios_rf, \"iso-8859-1\", schema_municipios_rf)\n",
    "df_municipios_rf.printSchema()\n",
    "df_municipios_rf.show(5, truncate=False)"
   ]
  },
  {
   "cell_type": "code",
   "execution_count": 82,
   "id": "59f24df4",
   "metadata": {},
   "outputs": [
    {
     "name": "stdout",
     "output_type": "stream",
     "text": [
      "+------------+------------------------+--------------------------+\n",
      "|id_municipio|municipio               |data_ingestao             |\n",
      "+------------+------------------------+--------------------------+\n",
      "|0001        |GUAJARA-MIRIM           |2025-07-24 10:30:10.300014|\n",
      "|0002        |ALTO ALEGRE DOS PARECIS |2025-07-24 10:30:10.300014|\n",
      "|0003        |PORTO VELHO             |2025-07-24 10:30:10.300014|\n",
      "|0004        |BURITIS                 |2025-07-24 10:30:10.300014|\n",
      "|0005        |JI-PARANA               |2025-07-24 10:30:10.300014|\n",
      "|0006        |CHUPINGUAIA             |2025-07-24 10:30:10.300014|\n",
      "|0007        |ARIQUEMES               |2025-07-24 10:30:10.300014|\n",
      "|0008        |CUJUBIM                 |2025-07-24 10:30:10.300014|\n",
      "|0009        |CACOAL                  |2025-07-24 10:30:10.300014|\n",
      "|0010        |NOVA UNIAO              |2025-07-24 10:30:10.300014|\n",
      "|0011        |PIMENTA BUENO           |2025-07-24 10:30:10.300014|\n",
      "|0012        |PARECIS                 |2025-07-24 10:30:10.300014|\n",
      "|0013        |VILHENA                 |2025-07-24 10:30:10.300014|\n",
      "|0014        |PIMENTEIRAS DO OESTE    |2025-07-24 10:30:10.300014|\n",
      "|0015        |JARU                    |2025-07-24 10:30:10.300014|\n",
      "|0016        |PRIMAVERA DE RONDONIA   |2025-07-24 10:30:10.300014|\n",
      "|0017        |OURO PRETO DO OESTE     |2025-07-24 10:30:10.300014|\n",
      "|0018        |SAO FELIPE D'OESTE      |2025-07-24 10:30:10.300014|\n",
      "|0019        |PRESIDENTE MEDICI       |2025-07-24 10:30:10.300014|\n",
      "|0020        |SAO FRANCISCO DO GUAPORE|2025-07-24 10:30:10.300014|\n",
      "+------------+------------------------+--------------------------+\n",
      "only showing top 20 rows\n"
     ]
    }
   ],
   "source": [
    "df_municipios_rf = df_municipios_rf.withColumn(\n",
    "    \"data_ingestao\",\n",
    "    f.current_timestamp()\n",
    ")\n",
    "\n",
    "df_municipios_rf.show(truncate=False)"
   ]
  },
  {
   "cell_type": "code",
   "execution_count": 83,
   "id": "46660fb5",
   "metadata": {},
   "outputs": [
    {
     "name": "stdout",
     "output_type": "stream",
     "text": [
      "Gravação efetuada!\n"
     ]
    }
   ],
   "source": [
    "# Gravar no RAW\n",
    "\n",
    "try:\n",
    "    gravar_delta(df_municipios_rf, \"../RAW/municipios_rf\")\n",
    "except Exception as e:\n",
    "    print(f\"[ERRO] Falha ao gravar DeltaTable\")\n",
    "    raise"
   ]
  },
  {
   "cell_type": "code",
   "execution_count": 84,
   "id": "f985b977",
   "metadata": {},
   "outputs": [
    {
     "name": "stdout",
     "output_type": "stream",
     "text": [
      "root\n",
      " |-- id_municipio: string (nullable = true)\n",
      " |-- municipio: string (nullable = true)\n",
      " |-- data_ingestao: timestamp (nullable = true)\n",
      "\n",
      "+------------+-----------------------+--------------------------+\n",
      "|id_municipio|municipio              |data_ingestao             |\n",
      "+------------+-----------------------+--------------------------+\n",
      "|0001        |GUAJARA-MIRIM          |2025-07-24 10:31:21.883376|\n",
      "|0002        |ALTO ALEGRE DOS PARECIS|2025-07-24 10:31:21.883376|\n",
      "|0003        |PORTO VELHO            |2025-07-24 10:31:21.883376|\n",
      "|0004        |BURITIS                |2025-07-24 10:31:21.883376|\n",
      "|0005        |JI-PARANA              |2025-07-24 10:31:21.883376|\n",
      "+------------+-----------------------+--------------------------+\n",
      "only showing top 5 rows\n"
     ]
    }
   ],
   "source": [
    "try:\n",
    "    deltaTable_municipios_rf: DeltaTable = DeltaTable.forPath(spark, \"../RAW/municipios_rf\")\n",
    "    df_municipios_rf: DataFrame = deltaTable_municipios_rf.toDF()\n",
    "    df_municipios_rf.printSchema()\n",
    "    df_municipios_rf.show(5, truncate=False)\n",
    "except Exception as e:\n",
    "    print(f\"[ERRO] Falha na leitura do DeltaTable: {e}\")"
   ]
  },
  {
   "cell_type": "markdown",
   "id": "13409cdd",
   "metadata": {},
   "source": [
    "## Finalizar spark"
   ]
  },
  {
   "cell_type": "code",
   "execution_count": 85,
   "id": "e2836115",
   "metadata": {},
   "outputs": [],
   "source": [
    "spark.stop()"
   ]
  },
  {
   "cell_type": "code",
   "execution_count": null,
   "id": "8cd89f3c",
   "metadata": {},
   "outputs": [],
   "source": []
  }
 ],
 "metadata": {
  "kernelspec": {
   "display_name": "venv (3.12.3)",
   "language": "python",
   "name": "python3"
  },
  "language_info": {
   "codemirror_mode": {
    "name": "ipython",
    "version": 3
   },
   "file_extension": ".py",
   "mimetype": "text/x-python",
   "name": "python",
   "nbconvert_exporter": "python",
   "pygments_lexer": "ipython3",
   "version": "3.12.3"
  }
 },
 "nbformat": 4,
 "nbformat_minor": 5
}
